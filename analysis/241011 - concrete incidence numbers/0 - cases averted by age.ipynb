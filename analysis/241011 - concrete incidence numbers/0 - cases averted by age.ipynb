{
 "cells": [
  {
   "cell_type": "code",
   "execution_count": 65,
   "id": "initial_id",
   "metadata": {
    "collapsed": true,
    "ExecuteTime": {
     "end_time": "2024-10-14T22:52:31.034384Z",
     "start_time": "2024-10-14T22:52:30.941377Z"
    }
   },
   "outputs": [],
   "source": [
    "import numpy as np\n",
    "import pandas as pd\n",
    "import matplotlib.pyplot as plt\n"
   ]
  },
  {
   "cell_type": "code",
   "outputs": [],
   "source": [
    "df = pd.read_csv(\"sim_data_full.csv\")"
   ],
   "metadata": {
    "collapsed": false,
    "ExecuteTime": {
     "end_time": "2024-10-14T22:52:31.838419Z",
     "start_time": "2024-10-14T22:52:31.643420Z"
    }
   },
   "id": "b3de9cba9700d016",
   "execution_count": 66
  },
  {
   "cell_type": "code",
   "outputs": [
    {
     "data": {
      "text/plain": "   archetype baseline_transmission_metric  transmission_level  \\\n30     Sahel                         pfpr                0.05   \n31     Sahel                         pfpr                0.05   \n32     Sahel                         pfpr                0.05   \n33     Sahel                         pfpr                0.05   \n34     Sahel                         pfpr                0.05   \n35     Sahel                         pfpr                0.05   \n36     Sahel                         pfpr                0.05   \n37     Sahel                         pfpr                0.05   \n38     Sahel                         pfpr                0.05   \n39     Sahel                         pfpr                0.05   \n40     Sahel                         pfpr                0.05   \n41     Sahel                         pfpr                0.10   \n42     Sahel                         pfpr                0.10   \n43     Sahel                         pfpr                0.10   \n44     Sahel                         pfpr                0.10   \n45     Sahel                         pfpr                0.10   \n46     Sahel                         pfpr                0.10   \n47     Sahel                         pfpr                0.10   \n48     Sahel                         pfpr                0.10   \n49     Sahel                         pfpr                0.10   \n50     Sahel                         pfpr                0.10   \n51     Sahel                         pfpr                0.10   \n52     Sahel                         pfpr                0.20   \n53     Sahel                         pfpr                0.20   \n54     Sahel                         pfpr                0.20   \n55     Sahel                         pfpr                0.20   \n56     Sahel                         pfpr                0.20   \n57     Sahel                         pfpr                0.20   \n58     Sahel                         pfpr                0.20   \n59     Sahel                         pfpr                0.20   \n60     Sahel                         pfpr                0.20   \n61     Sahel                         pfpr                0.20   \n62     Sahel                         pfpr                0.20   \n63     Sahel                         pfpr                0.30   \n64     Sahel                         pfpr                0.30   \n65     Sahel                         pfpr                0.30   \n66     Sahel                         pfpr                0.30   \n67     Sahel                         pfpr                0.30   \n68     Sahel                         pfpr                0.30   \n69     Sahel                         pfpr                0.30   \n70     Sahel                         pfpr                0.30   \n71     Sahel                         pfpr                0.30   \n72     Sahel                         pfpr                0.30   \n73     Sahel                         pfpr                0.30   \n74     Sahel                         pfpr                0.40   \n75     Sahel                         pfpr                0.40   \n76     Sahel                         pfpr                0.40   \n77     Sahel                         pfpr                0.40   \n78     Sahel                         pfpr                0.40   \n79     Sahel                         pfpr                0.40   \n80     Sahel                         pfpr                0.40   \n81     Sahel                         pfpr                0.40   \n82     Sahel                         pfpr                0.40   \n83     Sahel                         pfpr                0.40   \n84     Sahel                         pfpr                0.40   \n\n    scenario_number  iptsc_rdts_used  iptsc_drugs_used_school  cases_treated  \\\n30                0              0.0                     0.00        1607.84   \n31                5              0.0                     0.00        1275.61   \n32                6              0.0                  5070.51        1326.37   \n33                7              0.0                 15273.00         921.78   \n34                8              0.0                  5075.97         942.73   \n35                9              0.0                 15282.12         665.66   \n36               23              0.0                  3855.12        1254.00   \n37               30              0.0                     0.00        1376.78   \n38               31              0.0                     0.00        1209.27   \n39               32              0.0                     0.00        1275.15   \n40               33              0.0                     0.00         986.40   \n41                0              0.0                     0.00        2389.25   \n42                5              0.0                     0.00        2055.16   \n43                6              0.0                  5006.21        2018.97   \n44                7              0.0                 15062.86        1416.12   \n45                8              0.0                  5017.32        1471.50   \n46                9              0.0                 15040.10        1042.15   \n47               23              0.0                  3811.81        1958.14   \n48               30              0.0                     0.00        2103.18   \n49               31              0.0                     0.00        1824.50   \n50               32              0.0                     0.00        1972.21   \n51               33              0.0                     0.00        1504.55   \n52                0              0.0                     0.00        3315.17   \n53                5              0.0                     0.00        2998.20   \n54                6              0.0                  4990.50        2868.20   \n55                7              0.0                 14966.18        2248.87   \n56                8              0.0                  4985.17        2312.13   \n57                9              0.0                 14956.71        1872.48   \n58               23              0.0                  3798.22        3040.01   \n59               30              0.0                     0.00        2970.99   \n60               31              0.0                     0.00        2659.20   \n61               32              0.0                     0.00        2809.05   \n62               33              0.0                     0.00        2330.00   \n63                0              0.0                     0.00        4121.81   \n64                5              0.0                     0.00        3809.74   \n65                6              0.0                  4813.88        3527.11   \n66                7              0.0                 14472.50        2904.42   \n67                8              0.0                  4824.18        2980.24   \n68                9              0.0                 14469.58        2533.23   \n69               23              0.0                  3667.61        3926.88   \n70               30              0.0                     0.00        3715.90   \n71               31              0.0                     0.00        3427.73   \n72               32              0.0                     0.00        3540.40   \n73               33              0.0                     0.00        3118.99   \n74                0              0.0                     0.00        4976.51   \n75                5              0.0                     0.00        4705.12   \n76                6              0.0                  5010.93        4269.96   \n77                7              0.0                 15077.07        3693.34   \n78                8              0.0                  5009.54        3799.16   \n79                9              0.0                 15064.35        3374.65   \n80               23              0.0                  3826.33        4906.98   \n81               30              0.0                     0.00        4519.64   \n82               31              0.0                     0.00        4266.24   \n83               32              0.0                     0.00        4389.42   \n84               33              0.0                     0.00        3985.14   \n\n    severe_cases_treated  received_smc_u5  received_smc_5-10  ...  \\\n30                   0.0          3731.32               0.00  ...   \n31                   0.0          3743.90               0.00  ...   \n32                   0.0          3736.60               0.00  ...   \n33                   0.0          3743.75               0.00  ...   \n34                   0.0          3734.16               0.00  ...   \n35                   0.0          3746.51               0.00  ...   \n36                   0.0             0.00               0.00  ...   \n37                   0.0          3738.27            3551.00  ...   \n38                   0.0          3740.49               0.00  ...   \n39                   0.0          3736.45            3559.46  ...   \n40                   0.0          3738.73               0.00  ...   \n41                   0.0          3601.41               0.00  ...   \n42                   0.0          3607.39               0.00  ...   \n43                   0.0          3604.60               0.00  ...   \n44                   0.0          3601.14               0.00  ...   \n45                   0.0          3612.93               0.00  ...   \n46                   0.0          3603.19               0.00  ...   \n47                   0.0             0.00               0.00  ...   \n48                   0.0          3600.66            3280.02  ...   \n49                   0.0          3604.35               0.00  ...   \n50                   0.0          3596.23            3277.49  ...   \n51                   0.0          3602.98               0.00  ...   \n52                   0.0          3724.60               0.00  ...   \n53                   0.0          3718.28               0.00  ...   \n54                   0.0          3740.33               0.00  ...   \n55                   0.0          3720.09               0.00  ...   \n56                   0.0          3730.14               0.00  ...   \n57                   0.0          3739.22               0.00  ...   \n58                   0.0             0.00               0.00  ...   \n59                   0.0          3724.75            3186.05  ...   \n60                   0.0          3735.42               0.00  ...   \n61                   0.0          3731.81            3180.92  ...   \n62                   0.0          3725.01               0.00  ...   \n63                   0.0          3671.05               0.00  ...   \n64                   0.0          3681.80               0.00  ...   \n65                   0.0          3672.52               0.00  ...   \n66                   0.0          3669.39               0.00  ...   \n67                   0.0          3662.49               0.00  ...   \n68                   0.0          3665.41               0.00  ...   \n69                   0.0             0.00               0.00  ...   \n70                   0.0          3663.33            3127.21  ...   \n71                   0.0          3661.64               0.00  ...   \n72                   0.0          3679.04            3127.07  ...   \n73                   0.0          3669.73               0.00  ...   \n74                   0.0          3695.18               0.00  ...   \n75                   0.0          3700.62               0.00  ...   \n76                   0.0          3694.84               0.00  ...   \n77                   0.0          3687.20               0.00  ...   \n78                   0.0          3689.77               0.00  ...   \n79                   0.0          3694.46               0.00  ...   \n80                   0.0             0.00               0.00  ...   \n81                   0.0          3693.14            3396.85  ...   \n82                   0.0          3699.60               0.00  ...   \n83                   0.0          3703.07            3400.32  ...   \n84                   0.0          3700.75               0.00  ...   \n\n    screen_type  drug_type  out_of_school_rate  ivermectin  primaquine  \\\n30         None       None                 0.2       False       False   \n31         None       None                 0.2       False       False   \n32          IPT       SPAQ                 0.2       False       False   \n33          IPT       SPAQ                 0.2       False       False   \n34          IPT         DP                 0.2       False       False   \n35          IPT         DP                 0.2       False       False   \n36          IPT         DP                 0.4       False       False   \n37          IPT       SPAQ                 0.2       False       False   \n38          IPT       SPAQ                 0.2       False       False   \n39          IPT         DP                 0.2       False       False   \n40          IPT         DP                 0.2       False       False   \n41         None       None                 0.2       False       False   \n42         None       None                 0.2       False       False   \n43          IPT       SPAQ                 0.2       False       False   \n44          IPT       SPAQ                 0.2       False       False   \n45          IPT         DP                 0.2       False       False   \n46          IPT         DP                 0.2       False       False   \n47          IPT         DP                 0.4       False       False   \n48          IPT       SPAQ                 0.2       False       False   \n49          IPT       SPAQ                 0.2       False       False   \n50          IPT         DP                 0.2       False       False   \n51          IPT         DP                 0.2       False       False   \n52         None       None                 0.2       False       False   \n53         None       None                 0.2       False       False   \n54          IPT       SPAQ                 0.2       False       False   \n55          IPT       SPAQ                 0.2       False       False   \n56          IPT         DP                 0.2       False       False   \n57          IPT         DP                 0.2       False       False   \n58          IPT         DP                 0.4       False       False   \n59          IPT       SPAQ                 0.2       False       False   \n60          IPT       SPAQ                 0.2       False       False   \n61          IPT         DP                 0.2       False       False   \n62          IPT         DP                 0.2       False       False   \n63         None       None                 0.2       False       False   \n64         None       None                 0.2       False       False   \n65          IPT       SPAQ                 0.2       False       False   \n66          IPT       SPAQ                 0.2       False       False   \n67          IPT         DP                 0.2       False       False   \n68          IPT         DP                 0.2       False       False   \n69          IPT         DP                 0.4       False       False   \n70          IPT       SPAQ                 0.2       False       False   \n71          IPT       SPAQ                 0.2       False       False   \n72          IPT         DP                 0.2       False       False   \n73          IPT         DP                 0.2       False       False   \n74         None       None                 0.2       False       False   \n75         None       None                 0.2       False       False   \n76          IPT       SPAQ                 0.2       False       False   \n77          IPT       SPAQ                 0.2       False       False   \n78          IPT         DP                 0.2       False       False   \n79          IPT         DP                 0.2       False       False   \n80          IPT         DP                 0.4       False       False   \n81          IPT       SPAQ                 0.2       False       False   \n82          IPT       SPAQ                 0.2       False       False   \n83          IPT         DP                 0.2       False       False   \n84          IPT         DP                 0.2       False       False   \n\n    itn_coverage  hs_rate  smc_on  smc_coverage                 comments  \n30           0.7      0.6    True           0.6                 No IPTsc  \n31           0.9      0.6    True           0.6    No IPTsc - higher ITN  \n32           0.7      0.6    True           0.6                SPAQ term  \n33           0.7      0.6    True           0.6               SPAQ month  \n34           0.7      0.6    True           0.6                  DP term  \n35           0.7      0.6    True           0.6                 DP month  \n36           0.7      0.6   False          None  DP term - 60% in school  \n37           0.7      0.6    True           0.6           u10 SMC - SPAQ  \n38           0.7      0.6    True           0.6           u15 SMC - SPAQ  \n39           0.7      0.6    True           0.6             u10 SMC - DP  \n40           0.7      0.6    True           0.6             u15 SMC - DP  \n41           0.7      0.6    True           0.6                 No IPTsc  \n42           0.9      0.6    True           0.6    No IPTsc - higher ITN  \n43           0.7      0.6    True           0.6                SPAQ term  \n44           0.7      0.6    True           0.6               SPAQ month  \n45           0.7      0.6    True           0.6                  DP term  \n46           0.7      0.6    True           0.6                 DP month  \n47           0.7      0.6   False          None  DP term - 60% in school  \n48           0.7      0.6    True           0.6           u10 SMC - SPAQ  \n49           0.7      0.6    True           0.6           u15 SMC - SPAQ  \n50           0.7      0.6    True           0.6             u10 SMC - DP  \n51           0.7      0.6    True           0.6             u15 SMC - DP  \n52           0.7      0.6    True           0.6                 No IPTsc  \n53           0.9      0.6    True           0.6    No IPTsc - higher ITN  \n54           0.7      0.6    True           0.6                SPAQ term  \n55           0.7      0.6    True           0.6               SPAQ month  \n56           0.7      0.6    True           0.6                  DP term  \n57           0.7      0.6    True           0.6                 DP month  \n58           0.7      0.6   False          None  DP term - 60% in school  \n59           0.7      0.6    True           0.6           u10 SMC - SPAQ  \n60           0.7      0.6    True           0.6           u15 SMC - SPAQ  \n61           0.7      0.6    True           0.6             u10 SMC - DP  \n62           0.7      0.6    True           0.6             u15 SMC - DP  \n63           0.7      0.6    True           0.6                 No IPTsc  \n64           0.9      0.6    True           0.6    No IPTsc - higher ITN  \n65           0.7      0.6    True           0.6                SPAQ term  \n66           0.7      0.6    True           0.6               SPAQ month  \n67           0.7      0.6    True           0.6                  DP term  \n68           0.7      0.6    True           0.6                 DP month  \n69           0.7      0.6   False          None  DP term - 60% in school  \n70           0.7      0.6    True           0.6           u10 SMC - SPAQ  \n71           0.7      0.6    True           0.6           u15 SMC - SPAQ  \n72           0.7      0.6    True           0.6             u10 SMC - DP  \n73           0.7      0.6    True           0.6             u15 SMC - DP  \n74           0.7      0.6    True           0.6                 No IPTsc  \n75           0.9      0.6    True           0.6    No IPTsc - higher ITN  \n76           0.7      0.6    True           0.6                SPAQ term  \n77           0.7      0.6    True           0.6               SPAQ month  \n78           0.7      0.6    True           0.6                  DP term  \n79           0.7      0.6    True           0.6                 DP month  \n80           0.7      0.6   False          None  DP term - 60% in school  \n81           0.7      0.6    True           0.6           u10 SMC - SPAQ  \n82           0.7      0.6    True           0.6           u15 SMC - SPAQ  \n83           0.7      0.6    True           0.6             u10 SMC - DP  \n84           0.7      0.6    True           0.6             u15 SMC - DP  \n\n[55 rows x 124 columns]",
      "text/html": "<div>\n<style scoped>\n    .dataframe tbody tr th:only-of-type {\n        vertical-align: middle;\n    }\n\n    .dataframe tbody tr th {\n        vertical-align: top;\n    }\n\n    .dataframe thead th {\n        text-align: right;\n    }\n</style>\n<table border=\"1\" class=\"dataframe\">\n  <thead>\n    <tr style=\"text-align: right;\">\n      <th></th>\n      <th>archetype</th>\n      <th>baseline_transmission_metric</th>\n      <th>transmission_level</th>\n      <th>scenario_number</th>\n      <th>iptsc_rdts_used</th>\n      <th>iptsc_drugs_used_school</th>\n      <th>cases_treated</th>\n      <th>severe_cases_treated</th>\n      <th>received_smc_u5</th>\n      <th>received_smc_5-10</th>\n      <th>...</th>\n      <th>screen_type</th>\n      <th>drug_type</th>\n      <th>out_of_school_rate</th>\n      <th>ivermectin</th>\n      <th>primaquine</th>\n      <th>itn_coverage</th>\n      <th>hs_rate</th>\n      <th>smc_on</th>\n      <th>smc_coverage</th>\n      <th>comments</th>\n    </tr>\n  </thead>\n  <tbody>\n    <tr>\n      <th>30</th>\n      <td>Sahel</td>\n      <td>pfpr</td>\n      <td>0.05</td>\n      <td>0</td>\n      <td>0.0</td>\n      <td>0.00</td>\n      <td>1607.84</td>\n      <td>0.0</td>\n      <td>3731.32</td>\n      <td>0.00</td>\n      <td>...</td>\n      <td>None</td>\n      <td>None</td>\n      <td>0.2</td>\n      <td>False</td>\n      <td>False</td>\n      <td>0.7</td>\n      <td>0.6</td>\n      <td>True</td>\n      <td>0.6</td>\n      <td>No IPTsc</td>\n    </tr>\n    <tr>\n      <th>31</th>\n      <td>Sahel</td>\n      <td>pfpr</td>\n      <td>0.05</td>\n      <td>5</td>\n      <td>0.0</td>\n      <td>0.00</td>\n      <td>1275.61</td>\n      <td>0.0</td>\n      <td>3743.90</td>\n      <td>0.00</td>\n      <td>...</td>\n      <td>None</td>\n      <td>None</td>\n      <td>0.2</td>\n      <td>False</td>\n      <td>False</td>\n      <td>0.9</td>\n      <td>0.6</td>\n      <td>True</td>\n      <td>0.6</td>\n      <td>No IPTsc - higher ITN</td>\n    </tr>\n    <tr>\n      <th>32</th>\n      <td>Sahel</td>\n      <td>pfpr</td>\n      <td>0.05</td>\n      <td>6</td>\n      <td>0.0</td>\n      <td>5070.51</td>\n      <td>1326.37</td>\n      <td>0.0</td>\n      <td>3736.60</td>\n      <td>0.00</td>\n      <td>...</td>\n      <td>IPT</td>\n      <td>SPAQ</td>\n      <td>0.2</td>\n      <td>False</td>\n      <td>False</td>\n      <td>0.7</td>\n      <td>0.6</td>\n      <td>True</td>\n      <td>0.6</td>\n      <td>SPAQ term</td>\n    </tr>\n    <tr>\n      <th>33</th>\n      <td>Sahel</td>\n      <td>pfpr</td>\n      <td>0.05</td>\n      <td>7</td>\n      <td>0.0</td>\n      <td>15273.00</td>\n      <td>921.78</td>\n      <td>0.0</td>\n      <td>3743.75</td>\n      <td>0.00</td>\n      <td>...</td>\n      <td>IPT</td>\n      <td>SPAQ</td>\n      <td>0.2</td>\n      <td>False</td>\n      <td>False</td>\n      <td>0.7</td>\n      <td>0.6</td>\n      <td>True</td>\n      <td>0.6</td>\n      <td>SPAQ month</td>\n    </tr>\n    <tr>\n      <th>34</th>\n      <td>Sahel</td>\n      <td>pfpr</td>\n      <td>0.05</td>\n      <td>8</td>\n      <td>0.0</td>\n      <td>5075.97</td>\n      <td>942.73</td>\n      <td>0.0</td>\n      <td>3734.16</td>\n      <td>0.00</td>\n      <td>...</td>\n      <td>IPT</td>\n      <td>DP</td>\n      <td>0.2</td>\n      <td>False</td>\n      <td>False</td>\n      <td>0.7</td>\n      <td>0.6</td>\n      <td>True</td>\n      <td>0.6</td>\n      <td>DP term</td>\n    </tr>\n    <tr>\n      <th>35</th>\n      <td>Sahel</td>\n      <td>pfpr</td>\n      <td>0.05</td>\n      <td>9</td>\n      <td>0.0</td>\n      <td>15282.12</td>\n      <td>665.66</td>\n      <td>0.0</td>\n      <td>3746.51</td>\n      <td>0.00</td>\n      <td>...</td>\n      <td>IPT</td>\n      <td>DP</td>\n      <td>0.2</td>\n      <td>False</td>\n      <td>False</td>\n      <td>0.7</td>\n      <td>0.6</td>\n      <td>True</td>\n      <td>0.6</td>\n      <td>DP month</td>\n    </tr>\n    <tr>\n      <th>36</th>\n      <td>Sahel</td>\n      <td>pfpr</td>\n      <td>0.05</td>\n      <td>23</td>\n      <td>0.0</td>\n      <td>3855.12</td>\n      <td>1254.00</td>\n      <td>0.0</td>\n      <td>0.00</td>\n      <td>0.00</td>\n      <td>...</td>\n      <td>IPT</td>\n      <td>DP</td>\n      <td>0.4</td>\n      <td>False</td>\n      <td>False</td>\n      <td>0.7</td>\n      <td>0.6</td>\n      <td>False</td>\n      <td>None</td>\n      <td>DP term - 60% in school</td>\n    </tr>\n    <tr>\n      <th>37</th>\n      <td>Sahel</td>\n      <td>pfpr</td>\n      <td>0.05</td>\n      <td>30</td>\n      <td>0.0</td>\n      <td>0.00</td>\n      <td>1376.78</td>\n      <td>0.0</td>\n      <td>3738.27</td>\n      <td>3551.00</td>\n      <td>...</td>\n      <td>IPT</td>\n      <td>SPAQ</td>\n      <td>0.2</td>\n      <td>False</td>\n      <td>False</td>\n      <td>0.7</td>\n      <td>0.6</td>\n      <td>True</td>\n      <td>0.6</td>\n      <td>u10 SMC - SPAQ</td>\n    </tr>\n    <tr>\n      <th>38</th>\n      <td>Sahel</td>\n      <td>pfpr</td>\n      <td>0.05</td>\n      <td>31</td>\n      <td>0.0</td>\n      <td>0.00</td>\n      <td>1209.27</td>\n      <td>0.0</td>\n      <td>3740.49</td>\n      <td>0.00</td>\n      <td>...</td>\n      <td>IPT</td>\n      <td>SPAQ</td>\n      <td>0.2</td>\n      <td>False</td>\n      <td>False</td>\n      <td>0.7</td>\n      <td>0.6</td>\n      <td>True</td>\n      <td>0.6</td>\n      <td>u15 SMC - SPAQ</td>\n    </tr>\n    <tr>\n      <th>39</th>\n      <td>Sahel</td>\n      <td>pfpr</td>\n      <td>0.05</td>\n      <td>32</td>\n      <td>0.0</td>\n      <td>0.00</td>\n      <td>1275.15</td>\n      <td>0.0</td>\n      <td>3736.45</td>\n      <td>3559.46</td>\n      <td>...</td>\n      <td>IPT</td>\n      <td>DP</td>\n      <td>0.2</td>\n      <td>False</td>\n      <td>False</td>\n      <td>0.7</td>\n      <td>0.6</td>\n      <td>True</td>\n      <td>0.6</td>\n      <td>u10 SMC - DP</td>\n    </tr>\n    <tr>\n      <th>40</th>\n      <td>Sahel</td>\n      <td>pfpr</td>\n      <td>0.05</td>\n      <td>33</td>\n      <td>0.0</td>\n      <td>0.00</td>\n      <td>986.40</td>\n      <td>0.0</td>\n      <td>3738.73</td>\n      <td>0.00</td>\n      <td>...</td>\n      <td>IPT</td>\n      <td>DP</td>\n      <td>0.2</td>\n      <td>False</td>\n      <td>False</td>\n      <td>0.7</td>\n      <td>0.6</td>\n      <td>True</td>\n      <td>0.6</td>\n      <td>u15 SMC - DP</td>\n    </tr>\n    <tr>\n      <th>41</th>\n      <td>Sahel</td>\n      <td>pfpr</td>\n      <td>0.10</td>\n      <td>0</td>\n      <td>0.0</td>\n      <td>0.00</td>\n      <td>2389.25</td>\n      <td>0.0</td>\n      <td>3601.41</td>\n      <td>0.00</td>\n      <td>...</td>\n      <td>None</td>\n      <td>None</td>\n      <td>0.2</td>\n      <td>False</td>\n      <td>False</td>\n      <td>0.7</td>\n      <td>0.6</td>\n      <td>True</td>\n      <td>0.6</td>\n      <td>No IPTsc</td>\n    </tr>\n    <tr>\n      <th>42</th>\n      <td>Sahel</td>\n      <td>pfpr</td>\n      <td>0.10</td>\n      <td>5</td>\n      <td>0.0</td>\n      <td>0.00</td>\n      <td>2055.16</td>\n      <td>0.0</td>\n      <td>3607.39</td>\n      <td>0.00</td>\n      <td>...</td>\n      <td>None</td>\n      <td>None</td>\n      <td>0.2</td>\n      <td>False</td>\n      <td>False</td>\n      <td>0.9</td>\n      <td>0.6</td>\n      <td>True</td>\n      <td>0.6</td>\n      <td>No IPTsc - higher ITN</td>\n    </tr>\n    <tr>\n      <th>43</th>\n      <td>Sahel</td>\n      <td>pfpr</td>\n      <td>0.10</td>\n      <td>6</td>\n      <td>0.0</td>\n      <td>5006.21</td>\n      <td>2018.97</td>\n      <td>0.0</td>\n      <td>3604.60</td>\n      <td>0.00</td>\n      <td>...</td>\n      <td>IPT</td>\n      <td>SPAQ</td>\n      <td>0.2</td>\n      <td>False</td>\n      <td>False</td>\n      <td>0.7</td>\n      <td>0.6</td>\n      <td>True</td>\n      <td>0.6</td>\n      <td>SPAQ term</td>\n    </tr>\n    <tr>\n      <th>44</th>\n      <td>Sahel</td>\n      <td>pfpr</td>\n      <td>0.10</td>\n      <td>7</td>\n      <td>0.0</td>\n      <td>15062.86</td>\n      <td>1416.12</td>\n      <td>0.0</td>\n      <td>3601.14</td>\n      <td>0.00</td>\n      <td>...</td>\n      <td>IPT</td>\n      <td>SPAQ</td>\n      <td>0.2</td>\n      <td>False</td>\n      <td>False</td>\n      <td>0.7</td>\n      <td>0.6</td>\n      <td>True</td>\n      <td>0.6</td>\n      <td>SPAQ month</td>\n    </tr>\n    <tr>\n      <th>45</th>\n      <td>Sahel</td>\n      <td>pfpr</td>\n      <td>0.10</td>\n      <td>8</td>\n      <td>0.0</td>\n      <td>5017.32</td>\n      <td>1471.50</td>\n      <td>0.0</td>\n      <td>3612.93</td>\n      <td>0.00</td>\n      <td>...</td>\n      <td>IPT</td>\n      <td>DP</td>\n      <td>0.2</td>\n      <td>False</td>\n      <td>False</td>\n      <td>0.7</td>\n      <td>0.6</td>\n      <td>True</td>\n      <td>0.6</td>\n      <td>DP term</td>\n    </tr>\n    <tr>\n      <th>46</th>\n      <td>Sahel</td>\n      <td>pfpr</td>\n      <td>0.10</td>\n      <td>9</td>\n      <td>0.0</td>\n      <td>15040.10</td>\n      <td>1042.15</td>\n      <td>0.0</td>\n      <td>3603.19</td>\n      <td>0.00</td>\n      <td>...</td>\n      <td>IPT</td>\n      <td>DP</td>\n      <td>0.2</td>\n      <td>False</td>\n      <td>False</td>\n      <td>0.7</td>\n      <td>0.6</td>\n      <td>True</td>\n      <td>0.6</td>\n      <td>DP month</td>\n    </tr>\n    <tr>\n      <th>47</th>\n      <td>Sahel</td>\n      <td>pfpr</td>\n      <td>0.10</td>\n      <td>23</td>\n      <td>0.0</td>\n      <td>3811.81</td>\n      <td>1958.14</td>\n      <td>0.0</td>\n      <td>0.00</td>\n      <td>0.00</td>\n      <td>...</td>\n      <td>IPT</td>\n      <td>DP</td>\n      <td>0.4</td>\n      <td>False</td>\n      <td>False</td>\n      <td>0.7</td>\n      <td>0.6</td>\n      <td>False</td>\n      <td>None</td>\n      <td>DP term - 60% in school</td>\n    </tr>\n    <tr>\n      <th>48</th>\n      <td>Sahel</td>\n      <td>pfpr</td>\n      <td>0.10</td>\n      <td>30</td>\n      <td>0.0</td>\n      <td>0.00</td>\n      <td>2103.18</td>\n      <td>0.0</td>\n      <td>3600.66</td>\n      <td>3280.02</td>\n      <td>...</td>\n      <td>IPT</td>\n      <td>SPAQ</td>\n      <td>0.2</td>\n      <td>False</td>\n      <td>False</td>\n      <td>0.7</td>\n      <td>0.6</td>\n      <td>True</td>\n      <td>0.6</td>\n      <td>u10 SMC - SPAQ</td>\n    </tr>\n    <tr>\n      <th>49</th>\n      <td>Sahel</td>\n      <td>pfpr</td>\n      <td>0.10</td>\n      <td>31</td>\n      <td>0.0</td>\n      <td>0.00</td>\n      <td>1824.50</td>\n      <td>0.0</td>\n      <td>3604.35</td>\n      <td>0.00</td>\n      <td>...</td>\n      <td>IPT</td>\n      <td>SPAQ</td>\n      <td>0.2</td>\n      <td>False</td>\n      <td>False</td>\n      <td>0.7</td>\n      <td>0.6</td>\n      <td>True</td>\n      <td>0.6</td>\n      <td>u15 SMC - SPAQ</td>\n    </tr>\n    <tr>\n      <th>50</th>\n      <td>Sahel</td>\n      <td>pfpr</td>\n      <td>0.10</td>\n      <td>32</td>\n      <td>0.0</td>\n      <td>0.00</td>\n      <td>1972.21</td>\n      <td>0.0</td>\n      <td>3596.23</td>\n      <td>3277.49</td>\n      <td>...</td>\n      <td>IPT</td>\n      <td>DP</td>\n      <td>0.2</td>\n      <td>False</td>\n      <td>False</td>\n      <td>0.7</td>\n      <td>0.6</td>\n      <td>True</td>\n      <td>0.6</td>\n      <td>u10 SMC - DP</td>\n    </tr>\n    <tr>\n      <th>51</th>\n      <td>Sahel</td>\n      <td>pfpr</td>\n      <td>0.10</td>\n      <td>33</td>\n      <td>0.0</td>\n      <td>0.00</td>\n      <td>1504.55</td>\n      <td>0.0</td>\n      <td>3602.98</td>\n      <td>0.00</td>\n      <td>...</td>\n      <td>IPT</td>\n      <td>DP</td>\n      <td>0.2</td>\n      <td>False</td>\n      <td>False</td>\n      <td>0.7</td>\n      <td>0.6</td>\n      <td>True</td>\n      <td>0.6</td>\n      <td>u15 SMC - DP</td>\n    </tr>\n    <tr>\n      <th>52</th>\n      <td>Sahel</td>\n      <td>pfpr</td>\n      <td>0.20</td>\n      <td>0</td>\n      <td>0.0</td>\n      <td>0.00</td>\n      <td>3315.17</td>\n      <td>0.0</td>\n      <td>3724.60</td>\n      <td>0.00</td>\n      <td>...</td>\n      <td>None</td>\n      <td>None</td>\n      <td>0.2</td>\n      <td>False</td>\n      <td>False</td>\n      <td>0.7</td>\n      <td>0.6</td>\n      <td>True</td>\n      <td>0.6</td>\n      <td>No IPTsc</td>\n    </tr>\n    <tr>\n      <th>53</th>\n      <td>Sahel</td>\n      <td>pfpr</td>\n      <td>0.20</td>\n      <td>5</td>\n      <td>0.0</td>\n      <td>0.00</td>\n      <td>2998.20</td>\n      <td>0.0</td>\n      <td>3718.28</td>\n      <td>0.00</td>\n      <td>...</td>\n      <td>None</td>\n      <td>None</td>\n      <td>0.2</td>\n      <td>False</td>\n      <td>False</td>\n      <td>0.9</td>\n      <td>0.6</td>\n      <td>True</td>\n      <td>0.6</td>\n      <td>No IPTsc - higher ITN</td>\n    </tr>\n    <tr>\n      <th>54</th>\n      <td>Sahel</td>\n      <td>pfpr</td>\n      <td>0.20</td>\n      <td>6</td>\n      <td>0.0</td>\n      <td>4990.50</td>\n      <td>2868.20</td>\n      <td>0.0</td>\n      <td>3740.33</td>\n      <td>0.00</td>\n      <td>...</td>\n      <td>IPT</td>\n      <td>SPAQ</td>\n      <td>0.2</td>\n      <td>False</td>\n      <td>False</td>\n      <td>0.7</td>\n      <td>0.6</td>\n      <td>True</td>\n      <td>0.6</td>\n      <td>SPAQ term</td>\n    </tr>\n    <tr>\n      <th>55</th>\n      <td>Sahel</td>\n      <td>pfpr</td>\n      <td>0.20</td>\n      <td>7</td>\n      <td>0.0</td>\n      <td>14966.18</td>\n      <td>2248.87</td>\n      <td>0.0</td>\n      <td>3720.09</td>\n      <td>0.00</td>\n      <td>...</td>\n      <td>IPT</td>\n      <td>SPAQ</td>\n      <td>0.2</td>\n      <td>False</td>\n      <td>False</td>\n      <td>0.7</td>\n      <td>0.6</td>\n      <td>True</td>\n      <td>0.6</td>\n      <td>SPAQ month</td>\n    </tr>\n    <tr>\n      <th>56</th>\n      <td>Sahel</td>\n      <td>pfpr</td>\n      <td>0.20</td>\n      <td>8</td>\n      <td>0.0</td>\n      <td>4985.17</td>\n      <td>2312.13</td>\n      <td>0.0</td>\n      <td>3730.14</td>\n      <td>0.00</td>\n      <td>...</td>\n      <td>IPT</td>\n      <td>DP</td>\n      <td>0.2</td>\n      <td>False</td>\n      <td>False</td>\n      <td>0.7</td>\n      <td>0.6</td>\n      <td>True</td>\n      <td>0.6</td>\n      <td>DP term</td>\n    </tr>\n    <tr>\n      <th>57</th>\n      <td>Sahel</td>\n      <td>pfpr</td>\n      <td>0.20</td>\n      <td>9</td>\n      <td>0.0</td>\n      <td>14956.71</td>\n      <td>1872.48</td>\n      <td>0.0</td>\n      <td>3739.22</td>\n      <td>0.00</td>\n      <td>...</td>\n      <td>IPT</td>\n      <td>DP</td>\n      <td>0.2</td>\n      <td>False</td>\n      <td>False</td>\n      <td>0.7</td>\n      <td>0.6</td>\n      <td>True</td>\n      <td>0.6</td>\n      <td>DP month</td>\n    </tr>\n    <tr>\n      <th>58</th>\n      <td>Sahel</td>\n      <td>pfpr</td>\n      <td>0.20</td>\n      <td>23</td>\n      <td>0.0</td>\n      <td>3798.22</td>\n      <td>3040.01</td>\n      <td>0.0</td>\n      <td>0.00</td>\n      <td>0.00</td>\n      <td>...</td>\n      <td>IPT</td>\n      <td>DP</td>\n      <td>0.4</td>\n      <td>False</td>\n      <td>False</td>\n      <td>0.7</td>\n      <td>0.6</td>\n      <td>False</td>\n      <td>None</td>\n      <td>DP term - 60% in school</td>\n    </tr>\n    <tr>\n      <th>59</th>\n      <td>Sahel</td>\n      <td>pfpr</td>\n      <td>0.20</td>\n      <td>30</td>\n      <td>0.0</td>\n      <td>0.00</td>\n      <td>2970.99</td>\n      <td>0.0</td>\n      <td>3724.75</td>\n      <td>3186.05</td>\n      <td>...</td>\n      <td>IPT</td>\n      <td>SPAQ</td>\n      <td>0.2</td>\n      <td>False</td>\n      <td>False</td>\n      <td>0.7</td>\n      <td>0.6</td>\n      <td>True</td>\n      <td>0.6</td>\n      <td>u10 SMC - SPAQ</td>\n    </tr>\n    <tr>\n      <th>60</th>\n      <td>Sahel</td>\n      <td>pfpr</td>\n      <td>0.20</td>\n      <td>31</td>\n      <td>0.0</td>\n      <td>0.00</td>\n      <td>2659.20</td>\n      <td>0.0</td>\n      <td>3735.42</td>\n      <td>0.00</td>\n      <td>...</td>\n      <td>IPT</td>\n      <td>SPAQ</td>\n      <td>0.2</td>\n      <td>False</td>\n      <td>False</td>\n      <td>0.7</td>\n      <td>0.6</td>\n      <td>True</td>\n      <td>0.6</td>\n      <td>u15 SMC - SPAQ</td>\n    </tr>\n    <tr>\n      <th>61</th>\n      <td>Sahel</td>\n      <td>pfpr</td>\n      <td>0.20</td>\n      <td>32</td>\n      <td>0.0</td>\n      <td>0.00</td>\n      <td>2809.05</td>\n      <td>0.0</td>\n      <td>3731.81</td>\n      <td>3180.92</td>\n      <td>...</td>\n      <td>IPT</td>\n      <td>DP</td>\n      <td>0.2</td>\n      <td>False</td>\n      <td>False</td>\n      <td>0.7</td>\n      <td>0.6</td>\n      <td>True</td>\n      <td>0.6</td>\n      <td>u10 SMC - DP</td>\n    </tr>\n    <tr>\n      <th>62</th>\n      <td>Sahel</td>\n      <td>pfpr</td>\n      <td>0.20</td>\n      <td>33</td>\n      <td>0.0</td>\n      <td>0.00</td>\n      <td>2330.00</td>\n      <td>0.0</td>\n      <td>3725.01</td>\n      <td>0.00</td>\n      <td>...</td>\n      <td>IPT</td>\n      <td>DP</td>\n      <td>0.2</td>\n      <td>False</td>\n      <td>False</td>\n      <td>0.7</td>\n      <td>0.6</td>\n      <td>True</td>\n      <td>0.6</td>\n      <td>u15 SMC - DP</td>\n    </tr>\n    <tr>\n      <th>63</th>\n      <td>Sahel</td>\n      <td>pfpr</td>\n      <td>0.30</td>\n      <td>0</td>\n      <td>0.0</td>\n      <td>0.00</td>\n      <td>4121.81</td>\n      <td>0.0</td>\n      <td>3671.05</td>\n      <td>0.00</td>\n      <td>...</td>\n      <td>None</td>\n      <td>None</td>\n      <td>0.2</td>\n      <td>False</td>\n      <td>False</td>\n      <td>0.7</td>\n      <td>0.6</td>\n      <td>True</td>\n      <td>0.6</td>\n      <td>No IPTsc</td>\n    </tr>\n    <tr>\n      <th>64</th>\n      <td>Sahel</td>\n      <td>pfpr</td>\n      <td>0.30</td>\n      <td>5</td>\n      <td>0.0</td>\n      <td>0.00</td>\n      <td>3809.74</td>\n      <td>0.0</td>\n      <td>3681.80</td>\n      <td>0.00</td>\n      <td>...</td>\n      <td>None</td>\n      <td>None</td>\n      <td>0.2</td>\n      <td>False</td>\n      <td>False</td>\n      <td>0.9</td>\n      <td>0.6</td>\n      <td>True</td>\n      <td>0.6</td>\n      <td>No IPTsc - higher ITN</td>\n    </tr>\n    <tr>\n      <th>65</th>\n      <td>Sahel</td>\n      <td>pfpr</td>\n      <td>0.30</td>\n      <td>6</td>\n      <td>0.0</td>\n      <td>4813.88</td>\n      <td>3527.11</td>\n      <td>0.0</td>\n      <td>3672.52</td>\n      <td>0.00</td>\n      <td>...</td>\n      <td>IPT</td>\n      <td>SPAQ</td>\n      <td>0.2</td>\n      <td>False</td>\n      <td>False</td>\n      <td>0.7</td>\n      <td>0.6</td>\n      <td>True</td>\n      <td>0.6</td>\n      <td>SPAQ term</td>\n    </tr>\n    <tr>\n      <th>66</th>\n      <td>Sahel</td>\n      <td>pfpr</td>\n      <td>0.30</td>\n      <td>7</td>\n      <td>0.0</td>\n      <td>14472.50</td>\n      <td>2904.42</td>\n      <td>0.0</td>\n      <td>3669.39</td>\n      <td>0.00</td>\n      <td>...</td>\n      <td>IPT</td>\n      <td>SPAQ</td>\n      <td>0.2</td>\n      <td>False</td>\n      <td>False</td>\n      <td>0.7</td>\n      <td>0.6</td>\n      <td>True</td>\n      <td>0.6</td>\n      <td>SPAQ month</td>\n    </tr>\n    <tr>\n      <th>67</th>\n      <td>Sahel</td>\n      <td>pfpr</td>\n      <td>0.30</td>\n      <td>8</td>\n      <td>0.0</td>\n      <td>4824.18</td>\n      <td>2980.24</td>\n      <td>0.0</td>\n      <td>3662.49</td>\n      <td>0.00</td>\n      <td>...</td>\n      <td>IPT</td>\n      <td>DP</td>\n      <td>0.2</td>\n      <td>False</td>\n      <td>False</td>\n      <td>0.7</td>\n      <td>0.6</td>\n      <td>True</td>\n      <td>0.6</td>\n      <td>DP term</td>\n    </tr>\n    <tr>\n      <th>68</th>\n      <td>Sahel</td>\n      <td>pfpr</td>\n      <td>0.30</td>\n      <td>9</td>\n      <td>0.0</td>\n      <td>14469.58</td>\n      <td>2533.23</td>\n      <td>0.0</td>\n      <td>3665.41</td>\n      <td>0.00</td>\n      <td>...</td>\n      <td>IPT</td>\n      <td>DP</td>\n      <td>0.2</td>\n      <td>False</td>\n      <td>False</td>\n      <td>0.7</td>\n      <td>0.6</td>\n      <td>True</td>\n      <td>0.6</td>\n      <td>DP month</td>\n    </tr>\n    <tr>\n      <th>69</th>\n      <td>Sahel</td>\n      <td>pfpr</td>\n      <td>0.30</td>\n      <td>23</td>\n      <td>0.0</td>\n      <td>3667.61</td>\n      <td>3926.88</td>\n      <td>0.0</td>\n      <td>0.00</td>\n      <td>0.00</td>\n      <td>...</td>\n      <td>IPT</td>\n      <td>DP</td>\n      <td>0.4</td>\n      <td>False</td>\n      <td>False</td>\n      <td>0.7</td>\n      <td>0.6</td>\n      <td>False</td>\n      <td>None</td>\n      <td>DP term - 60% in school</td>\n    </tr>\n    <tr>\n      <th>70</th>\n      <td>Sahel</td>\n      <td>pfpr</td>\n      <td>0.30</td>\n      <td>30</td>\n      <td>0.0</td>\n      <td>0.00</td>\n      <td>3715.90</td>\n      <td>0.0</td>\n      <td>3663.33</td>\n      <td>3127.21</td>\n      <td>...</td>\n      <td>IPT</td>\n      <td>SPAQ</td>\n      <td>0.2</td>\n      <td>False</td>\n      <td>False</td>\n      <td>0.7</td>\n      <td>0.6</td>\n      <td>True</td>\n      <td>0.6</td>\n      <td>u10 SMC - SPAQ</td>\n    </tr>\n    <tr>\n      <th>71</th>\n      <td>Sahel</td>\n      <td>pfpr</td>\n      <td>0.30</td>\n      <td>31</td>\n      <td>0.0</td>\n      <td>0.00</td>\n      <td>3427.73</td>\n      <td>0.0</td>\n      <td>3661.64</td>\n      <td>0.00</td>\n      <td>...</td>\n      <td>IPT</td>\n      <td>SPAQ</td>\n      <td>0.2</td>\n      <td>False</td>\n      <td>False</td>\n      <td>0.7</td>\n      <td>0.6</td>\n      <td>True</td>\n      <td>0.6</td>\n      <td>u15 SMC - SPAQ</td>\n    </tr>\n    <tr>\n      <th>72</th>\n      <td>Sahel</td>\n      <td>pfpr</td>\n      <td>0.30</td>\n      <td>32</td>\n      <td>0.0</td>\n      <td>0.00</td>\n      <td>3540.40</td>\n      <td>0.0</td>\n      <td>3679.04</td>\n      <td>3127.07</td>\n      <td>...</td>\n      <td>IPT</td>\n      <td>DP</td>\n      <td>0.2</td>\n      <td>False</td>\n      <td>False</td>\n      <td>0.7</td>\n      <td>0.6</td>\n      <td>True</td>\n      <td>0.6</td>\n      <td>u10 SMC - DP</td>\n    </tr>\n    <tr>\n      <th>73</th>\n      <td>Sahel</td>\n      <td>pfpr</td>\n      <td>0.30</td>\n      <td>33</td>\n      <td>0.0</td>\n      <td>0.00</td>\n      <td>3118.99</td>\n      <td>0.0</td>\n      <td>3669.73</td>\n      <td>0.00</td>\n      <td>...</td>\n      <td>IPT</td>\n      <td>DP</td>\n      <td>0.2</td>\n      <td>False</td>\n      <td>False</td>\n      <td>0.7</td>\n      <td>0.6</td>\n      <td>True</td>\n      <td>0.6</td>\n      <td>u15 SMC - DP</td>\n    </tr>\n    <tr>\n      <th>74</th>\n      <td>Sahel</td>\n      <td>pfpr</td>\n      <td>0.40</td>\n      <td>0</td>\n      <td>0.0</td>\n      <td>0.00</td>\n      <td>4976.51</td>\n      <td>0.0</td>\n      <td>3695.18</td>\n      <td>0.00</td>\n      <td>...</td>\n      <td>None</td>\n      <td>None</td>\n      <td>0.2</td>\n      <td>False</td>\n      <td>False</td>\n      <td>0.7</td>\n      <td>0.6</td>\n      <td>True</td>\n      <td>0.6</td>\n      <td>No IPTsc</td>\n    </tr>\n    <tr>\n      <th>75</th>\n      <td>Sahel</td>\n      <td>pfpr</td>\n      <td>0.40</td>\n      <td>5</td>\n      <td>0.0</td>\n      <td>0.00</td>\n      <td>4705.12</td>\n      <td>0.0</td>\n      <td>3700.62</td>\n      <td>0.00</td>\n      <td>...</td>\n      <td>None</td>\n      <td>None</td>\n      <td>0.2</td>\n      <td>False</td>\n      <td>False</td>\n      <td>0.9</td>\n      <td>0.6</td>\n      <td>True</td>\n      <td>0.6</td>\n      <td>No IPTsc - higher ITN</td>\n    </tr>\n    <tr>\n      <th>76</th>\n      <td>Sahel</td>\n      <td>pfpr</td>\n      <td>0.40</td>\n      <td>6</td>\n      <td>0.0</td>\n      <td>5010.93</td>\n      <td>4269.96</td>\n      <td>0.0</td>\n      <td>3694.84</td>\n      <td>0.00</td>\n      <td>...</td>\n      <td>IPT</td>\n      <td>SPAQ</td>\n      <td>0.2</td>\n      <td>False</td>\n      <td>False</td>\n      <td>0.7</td>\n      <td>0.6</td>\n      <td>True</td>\n      <td>0.6</td>\n      <td>SPAQ term</td>\n    </tr>\n    <tr>\n      <th>77</th>\n      <td>Sahel</td>\n      <td>pfpr</td>\n      <td>0.40</td>\n      <td>7</td>\n      <td>0.0</td>\n      <td>15077.07</td>\n      <td>3693.34</td>\n      <td>0.0</td>\n      <td>3687.20</td>\n      <td>0.00</td>\n      <td>...</td>\n      <td>IPT</td>\n      <td>SPAQ</td>\n      <td>0.2</td>\n      <td>False</td>\n      <td>False</td>\n      <td>0.7</td>\n      <td>0.6</td>\n      <td>True</td>\n      <td>0.6</td>\n      <td>SPAQ month</td>\n    </tr>\n    <tr>\n      <th>78</th>\n      <td>Sahel</td>\n      <td>pfpr</td>\n      <td>0.40</td>\n      <td>8</td>\n      <td>0.0</td>\n      <td>5009.54</td>\n      <td>3799.16</td>\n      <td>0.0</td>\n      <td>3689.77</td>\n      <td>0.00</td>\n      <td>...</td>\n      <td>IPT</td>\n      <td>DP</td>\n      <td>0.2</td>\n      <td>False</td>\n      <td>False</td>\n      <td>0.7</td>\n      <td>0.6</td>\n      <td>True</td>\n      <td>0.6</td>\n      <td>DP term</td>\n    </tr>\n    <tr>\n      <th>79</th>\n      <td>Sahel</td>\n      <td>pfpr</td>\n      <td>0.40</td>\n      <td>9</td>\n      <td>0.0</td>\n      <td>15064.35</td>\n      <td>3374.65</td>\n      <td>0.0</td>\n      <td>3694.46</td>\n      <td>0.00</td>\n      <td>...</td>\n      <td>IPT</td>\n      <td>DP</td>\n      <td>0.2</td>\n      <td>False</td>\n      <td>False</td>\n      <td>0.7</td>\n      <td>0.6</td>\n      <td>True</td>\n      <td>0.6</td>\n      <td>DP month</td>\n    </tr>\n    <tr>\n      <th>80</th>\n      <td>Sahel</td>\n      <td>pfpr</td>\n      <td>0.40</td>\n      <td>23</td>\n      <td>0.0</td>\n      <td>3826.33</td>\n      <td>4906.98</td>\n      <td>0.0</td>\n      <td>0.00</td>\n      <td>0.00</td>\n      <td>...</td>\n      <td>IPT</td>\n      <td>DP</td>\n      <td>0.4</td>\n      <td>False</td>\n      <td>False</td>\n      <td>0.7</td>\n      <td>0.6</td>\n      <td>False</td>\n      <td>None</td>\n      <td>DP term - 60% in school</td>\n    </tr>\n    <tr>\n      <th>81</th>\n      <td>Sahel</td>\n      <td>pfpr</td>\n      <td>0.40</td>\n      <td>30</td>\n      <td>0.0</td>\n      <td>0.00</td>\n      <td>4519.64</td>\n      <td>0.0</td>\n      <td>3693.14</td>\n      <td>3396.85</td>\n      <td>...</td>\n      <td>IPT</td>\n      <td>SPAQ</td>\n      <td>0.2</td>\n      <td>False</td>\n      <td>False</td>\n      <td>0.7</td>\n      <td>0.6</td>\n      <td>True</td>\n      <td>0.6</td>\n      <td>u10 SMC - SPAQ</td>\n    </tr>\n    <tr>\n      <th>82</th>\n      <td>Sahel</td>\n      <td>pfpr</td>\n      <td>0.40</td>\n      <td>31</td>\n      <td>0.0</td>\n      <td>0.00</td>\n      <td>4266.24</td>\n      <td>0.0</td>\n      <td>3699.60</td>\n      <td>0.00</td>\n      <td>...</td>\n      <td>IPT</td>\n      <td>SPAQ</td>\n      <td>0.2</td>\n      <td>False</td>\n      <td>False</td>\n      <td>0.7</td>\n      <td>0.6</td>\n      <td>True</td>\n      <td>0.6</td>\n      <td>u15 SMC - SPAQ</td>\n    </tr>\n    <tr>\n      <th>83</th>\n      <td>Sahel</td>\n      <td>pfpr</td>\n      <td>0.40</td>\n      <td>32</td>\n      <td>0.0</td>\n      <td>0.00</td>\n      <td>4389.42</td>\n      <td>0.0</td>\n      <td>3703.07</td>\n      <td>3400.32</td>\n      <td>...</td>\n      <td>IPT</td>\n      <td>DP</td>\n      <td>0.2</td>\n      <td>False</td>\n      <td>False</td>\n      <td>0.7</td>\n      <td>0.6</td>\n      <td>True</td>\n      <td>0.6</td>\n      <td>u10 SMC - DP</td>\n    </tr>\n    <tr>\n      <th>84</th>\n      <td>Sahel</td>\n      <td>pfpr</td>\n      <td>0.40</td>\n      <td>33</td>\n      <td>0.0</td>\n      <td>0.00</td>\n      <td>3985.14</td>\n      <td>0.0</td>\n      <td>3700.75</td>\n      <td>0.00</td>\n      <td>...</td>\n      <td>IPT</td>\n      <td>DP</td>\n      <td>0.2</td>\n      <td>False</td>\n      <td>False</td>\n      <td>0.7</td>\n      <td>0.6</td>\n      <td>True</td>\n      <td>0.6</td>\n      <td>u15 SMC - DP</td>\n    </tr>\n  </tbody>\n</table>\n<p>55 rows × 124 columns</p>\n</div>"
     },
     "execution_count": 97,
     "metadata": {},
     "output_type": "execute_result"
    }
   ],
   "source": [
    "df[df[\"archetype\"]==\"Sahel\"]"
   ],
   "metadata": {
    "collapsed": false,
    "ExecuteTime": {
     "end_time": "2024-10-14T23:32:06.267306Z",
     "start_time": "2024-10-14T23:32:06.159092Z"
    }
   },
   "id": "e52139272e9447a1",
   "execution_count": 97
  },
  {
   "cell_type": "markdown",
   "source": [
    "Strong direct benefit for SAC, with up to approximately 80% of cases averted in this age group"
   ],
   "metadata": {
    "collapsed": false
   },
   "id": "30f2e7eeee532e70"
  },
  {
   "cell_type": "code",
   "outputs": [
    {
     "name": "stderr",
     "output_type": "stream",
     "text": [
      "C:\\Users\\joshsu\\AppData\\Local\\Temp\\ipykernel_9076\\2824330589.py:4: SettingWithCopyWarning: \n",
      "A value is trying to be set on a copy of a slice from a DataFrame.\n",
      "Try using .loc[row_indexer,col_indexer] = value instead\n",
      "\n",
      "See the caveats in the documentation: https://pandas.pydata.org/pandas-docs/stable/user_guide/indexing.html#returning-a-view-versus-a-copy\n",
      "  baseline[\"cases_sac\"] = baseline[\"clinical_incidence6_15\"] * baseline[\"pop6_15\"]\n",
      "C:\\Users\\joshsu\\AppData\\Local\\Temp\\ipykernel_9076\\2824330589.py:5: SettingWithCopyWarning: \n",
      "A value is trying to be set on a copy of a slice from a DataFrame.\n",
      "Try using .loc[row_indexer,col_indexer] = value instead\n",
      "\n",
      "See the caveats in the documentation: https://pandas.pydata.org/pandas-docs/stable/user_guide/indexing.html#returning-a-view-versus-a-copy\n",
      "  comparator[\"cases_sac\"] = comparator[\"clinical_incidence6_15\"] * comparator[\"pop6_15\"]\n",
      "C:\\Users\\joshsu\\AppData\\Local\\Temp\\ipykernel_9076\\2824330589.py:7: SettingWithCopyWarning: \n",
      "A value is trying to be set on a copy of a slice from a DataFrame.\n",
      "Try using .loc[row_indexer,col_indexer] = value instead\n",
      "\n",
      "See the caveats in the documentation: https://pandas.pydata.org/pandas-docs/stable/user_guide/indexing.html#returning-a-view-versus-a-copy\n",
      "  baseline[\"cases_nonsac\"] = baseline[\"clinical_incidence0_5\"] * baseline[\"pop0_5\"] + baseline[\"clinical_incidence16_500\"] * baseline[\"pop16_500\"]\n",
      "C:\\Users\\joshsu\\AppData\\Local\\Temp\\ipykernel_9076\\2824330589.py:8: SettingWithCopyWarning: \n",
      "A value is trying to be set on a copy of a slice from a DataFrame.\n",
      "Try using .loc[row_indexer,col_indexer] = value instead\n",
      "\n",
      "See the caveats in the documentation: https://pandas.pydata.org/pandas-docs/stable/user_guide/indexing.html#returning-a-view-versus-a-copy\n",
      "  comparator[\"cases_nonsac\"] = comparator[\"clinical_incidence0_5\"] * comparator[\"pop0_5\"] + comparator[\"clinical_incidence16_500\"] * comparator[\"pop16_500\"]\n"
     ]
    },
    {
     "data": {
      "text/plain": "   archetype  transmission_level  cases_sac_baseline  cases_nonsac_baseline  \\\n0    Central                0.05         2395.386684            3651.082633   \n1    Central                0.10         2403.354331            3428.937645   \n2    Central                0.20         2986.875089            3666.974095   \n3    Central                0.30         3138.121765            3809.950521   \n4    Central                0.40         3047.513031            4246.804211   \n5      Sahel                0.05         1110.599547            1572.906179   \n6      Sahel                0.10         1662.488704            2033.214395   \n7      Sahel                0.20         2162.266543            2363.305864   \n8      Sahel                0.30         2342.019809            2821.598593   \n9      Sahel                0.40         2589.679529            3176.188953   \n10  Southern                0.05         1167.135057            2166.799617   \n11  Southern                0.10         1531.664384            2450.022302   \n12  Southern                0.20         2056.063429            2997.018294   \n13  Southern                0.30         2622.509760            3733.550585   \n14  Southern                0.40         2583.199843            3949.460649   \n\n    cases_sac_comparator  cases_nonsac_comparator  cases_averted_sac  \\\n0             262.033318              1222.114903        2133.353366   \n1             274.549557              1229.487299        2128.804774   \n2             554.410605              2218.318654        2432.464483   \n3             640.596374              2724.892700        2497.525391   \n4             662.133995              3375.755847        2385.379036   \n5             200.861767               726.869259         909.737780   \n6             359.281888              1087.898225        1303.206815   \n7             698.304011              1724.440186        1463.962532   \n8             776.649389              2182.236351        1565.370420   \n9             823.033851              2632.343847        1766.645678   \n10            161.725125               928.810410        1005.409932   \n11            280.038109              1507.270754        1251.626275   \n12            421.739374              2176.788434        1634.324055   \n13            578.577665              3078.457679        2043.932095   \n14            563.647402              3386.666341        2019.552441   \n\n    cases_averted_nonsac  \n0            2428.967729  \n1            2199.450346  \n2            1448.655441  \n3            1085.057820  \n4             871.048365  \n5             846.036920  \n6             945.316170  \n7             638.865678  \n8             639.362243  \n9             543.845106  \n10           1237.989207  \n11            942.751549  \n12            820.229859  \n13            655.092907  \n14            562.794308  ",
      "text/html": "<div>\n<style scoped>\n    .dataframe tbody tr th:only-of-type {\n        vertical-align: middle;\n    }\n\n    .dataframe tbody tr th {\n        vertical-align: top;\n    }\n\n    .dataframe thead th {\n        text-align: right;\n    }\n</style>\n<table border=\"1\" class=\"dataframe\">\n  <thead>\n    <tr style=\"text-align: right;\">\n      <th></th>\n      <th>archetype</th>\n      <th>transmission_level</th>\n      <th>cases_sac_baseline</th>\n      <th>cases_nonsac_baseline</th>\n      <th>cases_sac_comparator</th>\n      <th>cases_nonsac_comparator</th>\n      <th>cases_averted_sac</th>\n      <th>cases_averted_nonsac</th>\n    </tr>\n  </thead>\n  <tbody>\n    <tr>\n      <th>0</th>\n      <td>Central</td>\n      <td>0.05</td>\n      <td>2395.386684</td>\n      <td>3651.082633</td>\n      <td>262.033318</td>\n      <td>1222.114903</td>\n      <td>2133.353366</td>\n      <td>2428.967729</td>\n    </tr>\n    <tr>\n      <th>1</th>\n      <td>Central</td>\n      <td>0.10</td>\n      <td>2403.354331</td>\n      <td>3428.937645</td>\n      <td>274.549557</td>\n      <td>1229.487299</td>\n      <td>2128.804774</td>\n      <td>2199.450346</td>\n    </tr>\n    <tr>\n      <th>2</th>\n      <td>Central</td>\n      <td>0.20</td>\n      <td>2986.875089</td>\n      <td>3666.974095</td>\n      <td>554.410605</td>\n      <td>2218.318654</td>\n      <td>2432.464483</td>\n      <td>1448.655441</td>\n    </tr>\n    <tr>\n      <th>3</th>\n      <td>Central</td>\n      <td>0.30</td>\n      <td>3138.121765</td>\n      <td>3809.950521</td>\n      <td>640.596374</td>\n      <td>2724.892700</td>\n      <td>2497.525391</td>\n      <td>1085.057820</td>\n    </tr>\n    <tr>\n      <th>4</th>\n      <td>Central</td>\n      <td>0.40</td>\n      <td>3047.513031</td>\n      <td>4246.804211</td>\n      <td>662.133995</td>\n      <td>3375.755847</td>\n      <td>2385.379036</td>\n      <td>871.048365</td>\n    </tr>\n    <tr>\n      <th>5</th>\n      <td>Sahel</td>\n      <td>0.05</td>\n      <td>1110.599547</td>\n      <td>1572.906179</td>\n      <td>200.861767</td>\n      <td>726.869259</td>\n      <td>909.737780</td>\n      <td>846.036920</td>\n    </tr>\n    <tr>\n      <th>6</th>\n      <td>Sahel</td>\n      <td>0.10</td>\n      <td>1662.488704</td>\n      <td>2033.214395</td>\n      <td>359.281888</td>\n      <td>1087.898225</td>\n      <td>1303.206815</td>\n      <td>945.316170</td>\n    </tr>\n    <tr>\n      <th>7</th>\n      <td>Sahel</td>\n      <td>0.20</td>\n      <td>2162.266543</td>\n      <td>2363.305864</td>\n      <td>698.304011</td>\n      <td>1724.440186</td>\n      <td>1463.962532</td>\n      <td>638.865678</td>\n    </tr>\n    <tr>\n      <th>8</th>\n      <td>Sahel</td>\n      <td>0.30</td>\n      <td>2342.019809</td>\n      <td>2821.598593</td>\n      <td>776.649389</td>\n      <td>2182.236351</td>\n      <td>1565.370420</td>\n      <td>639.362243</td>\n    </tr>\n    <tr>\n      <th>9</th>\n      <td>Sahel</td>\n      <td>0.40</td>\n      <td>2589.679529</td>\n      <td>3176.188953</td>\n      <td>823.033851</td>\n      <td>2632.343847</td>\n      <td>1766.645678</td>\n      <td>543.845106</td>\n    </tr>\n    <tr>\n      <th>10</th>\n      <td>Southern</td>\n      <td>0.05</td>\n      <td>1167.135057</td>\n      <td>2166.799617</td>\n      <td>161.725125</td>\n      <td>928.810410</td>\n      <td>1005.409932</td>\n      <td>1237.989207</td>\n    </tr>\n    <tr>\n      <th>11</th>\n      <td>Southern</td>\n      <td>0.10</td>\n      <td>1531.664384</td>\n      <td>2450.022302</td>\n      <td>280.038109</td>\n      <td>1507.270754</td>\n      <td>1251.626275</td>\n      <td>942.751549</td>\n    </tr>\n    <tr>\n      <th>12</th>\n      <td>Southern</td>\n      <td>0.20</td>\n      <td>2056.063429</td>\n      <td>2997.018294</td>\n      <td>421.739374</td>\n      <td>2176.788434</td>\n      <td>1634.324055</td>\n      <td>820.229859</td>\n    </tr>\n    <tr>\n      <th>13</th>\n      <td>Southern</td>\n      <td>0.30</td>\n      <td>2622.509760</td>\n      <td>3733.550585</td>\n      <td>578.577665</td>\n      <td>3078.457679</td>\n      <td>2043.932095</td>\n      <td>655.092907</td>\n    </tr>\n    <tr>\n      <th>14</th>\n      <td>Southern</td>\n      <td>0.40</td>\n      <td>2583.199843</td>\n      <td>3949.460649</td>\n      <td>563.647402</td>\n      <td>3386.666341</td>\n      <td>2019.552441</td>\n      <td>562.794308</td>\n    </tr>\n  </tbody>\n</table>\n</div>"
     },
     "execution_count": 74,
     "metadata": {},
     "output_type": "execute_result"
    }
   ],
   "source": [
    "baseline = df[df[\"scenario_number\"] == 0]\n",
    "comparator = df[df[\"scenario_number\"] == 9] # DP monthly\n",
    "\n",
    "baseline[\"cases_sac\"] = baseline[\"clinical_incidence6_15\"] * baseline[\"pop6_15\"]\n",
    "comparator[\"cases_sac\"] = comparator[\"clinical_incidence6_15\"] * comparator[\"pop6_15\"]\n",
    "\n",
    "baseline[\"cases_nonsac\"] = baseline[\"clinical_incidence0_5\"] * baseline[\"pop0_5\"] + baseline[\"clinical_incidence16_500\"] * baseline[\"pop16_500\"]\n",
    "comparator[\"cases_nonsac\"] = comparator[\"clinical_incidence0_5\"] * comparator[\"pop0_5\"] + comparator[\"clinical_incidence16_500\"] * comparator[\"pop16_500\"]\n",
    "\n",
    "compare = pd.merge(baseline[[\"archetype\", \"transmission_level\", \"cases_sac\", \"cases_nonsac\"]], \n",
    "                   comparator[[\"archetype\", \"transmission_level\", \"cases_sac\", \"cases_nonsac\"]], \n",
    "                   on=[\"archetype\", \"transmission_level\"], suffixes=(\"_baseline\", \"_comparator\"))\n",
    "\n",
    "compare[\"cases_averted_sac\"] = compare[\"cases_sac_baseline\"] - compare[\"cases_sac_comparator\"]\n",
    "compare[\"cases_averted_nonsac\"] = compare[\"cases_nonsac_baseline\"] - compare[\"cases_nonsac_comparator\"]\n",
    "compare"
   ],
   "metadata": {
    "collapsed": false,
    "ExecuteTime": {
     "end_time": "2024-10-14T22:58:53.266306Z",
     "start_time": "2024-10-14T22:58:53.217984Z"
    }
   },
   "id": "c317c997c04fccc8",
   "execution_count": 74
  },
  {
   "cell_type": "code",
   "outputs": [
    {
     "data": {
      "text/plain": "0     1.777794\n1     1.774004\n2     2.027054\n3     2.081271\n4     1.987816\n5     0.758115\n6     1.086006\n7     1.219969\n8     1.304475\n9     1.472205\n10    0.837842\n11    1.043022\n12    1.361937\n13    1.703277\n14    1.682960\nName: cases_averted_sac, dtype: float64"
     },
     "execution_count": 75,
     "metadata": {},
     "output_type": "execute_result"
    }
   ],
   "source": [
    "compare[\"cases_averted_sac\"]/1200 # cases per child"
   ],
   "metadata": {
    "collapsed": false,
    "ExecuteTime": {
     "end_time": "2024-10-14T22:58:54.858693Z",
     "start_time": "2024-10-14T22:58:54.848384Z"
    }
   },
   "id": "df3dd6d43a032a66",
   "execution_count": 75
  },
  {
   "cell_type": "code",
   "outputs": [
    {
     "data": {
      "text/plain": "0     426.670673\n1     425.760955\n2     486.492897\n3     499.505078\n4     477.075807\n5     181.947556\n6     260.641363\n7     292.792506\n8     313.074084\n9     353.329136\n10    201.081986\n11    250.325255\n12    326.864811\n13    408.786419\n14    403.910488\nName: cases_averted_sac, dtype: float64"
     },
     "execution_count": 76,
     "metadata": {},
     "output_type": "execute_result"
    }
   ],
   "source": [
    "compare[\"cases_averted_sac\"]/5 # cases per 1000 "
   ],
   "metadata": {
    "collapsed": false,
    "ExecuteTime": {
     "end_time": "2024-10-14T22:58:57.462904Z",
     "start_time": "2024-10-14T22:58:57.440907Z"
    }
   },
   "id": "70f4299f9971cbe0",
   "execution_count": 76
  },
  {
   "cell_type": "code",
   "outputs": [
    {
     "data": {
      "text/plain": "0     912.464219\n1     865.651024\n2     776.223985\n3     716.516642\n4     651.285480\n5     351.154940\n6     449.704597\n7     420.565642\n8     440.946533\n9     462.098157\n10    448.679828\n11    438.875565\n12    490.910783\n13    539.805000\n14    516.469350\ndtype: float64"
     },
     "execution_count": 80,
     "metadata": {},
     "output_type": "execute_result"
    }
   ],
   "source": [
    "(compare[\"cases_averted_sac\"]+compare[\"cases_averted_nonsac\"])/5"
   ],
   "metadata": {
    "collapsed": false,
    "ExecuteTime": {
     "end_time": "2024-10-14T23:01:00.316184Z",
     "start_time": "2024-10-14T23:01:00.306251Z"
    }
   },
   "id": "95fce3dd9d154979",
   "execution_count": 80
  },
  {
   "cell_type": "code",
   "outputs": [
    {
     "data": {
      "text/plain": "0     0.754543\n1     0.742119\n2     0.583289\n3     0.515623\n4     0.446433\n5     0.654284\n6     0.608415\n7     0.464655\n8     0.426974\n9     0.400719\n10    0.672898\n11    0.551118\n12    0.485754\n13    0.424638\n14    0.395298\ndtype: float64"
     },
     "execution_count": 81,
     "metadata": {},
     "output_type": "execute_result"
    }
   ],
   "source": [
    "(compare[\"cases_averted_sac\"]+compare[\"cases_averted_nonsac\"])/(compare[\"cases_sac_baseline\"]+compare[\"cases_nonsac_baseline\"])"
   ],
   "metadata": {
    "collapsed": false,
    "ExecuteTime": {
     "end_time": "2024-10-14T23:01:33.339120Z",
     "start_time": "2024-10-14T23:01:33.324123Z"
    }
   },
   "id": "a63a7d170bc4835",
   "execution_count": 81
  },
  {
   "cell_type": "markdown",
   "source": [
    "# Shorter drugs, more frequently"
   ],
   "metadata": {
    "collapsed": false
   },
   "id": "b9a30f1d11dfcd1f"
  },
  {
   "cell_type": "code",
   "outputs": [
    {
     "name": "stderr",
     "output_type": "stream",
     "text": [
      "C:\\Users\\joshsu\\AppData\\Local\\Temp\\ipykernel_9076\\3344551791.py:4: SettingWithCopyWarning: \n",
      "A value is trying to be set on a copy of a slice from a DataFrame.\n",
      "Try using .loc[row_indexer,col_indexer] = value instead\n",
      "\n",
      "See the caveats in the documentation: https://pandas.pydata.org/pandas-docs/stable/user_guide/indexing.html#returning-a-view-versus-a-copy\n",
      "  baseline[\"cases_sac\"] = baseline[\"clinical_incidence6_15\"] * baseline[\"pop6_15\"]\n",
      "C:\\Users\\joshsu\\AppData\\Local\\Temp\\ipykernel_9076\\3344551791.py:5: SettingWithCopyWarning: \n",
      "A value is trying to be set on a copy of a slice from a DataFrame.\n",
      "Try using .loc[row_indexer,col_indexer] = value instead\n",
      "\n",
      "See the caveats in the documentation: https://pandas.pydata.org/pandas-docs/stable/user_guide/indexing.html#returning-a-view-versus-a-copy\n",
      "  comparator[\"cases_sac\"] = comparator[\"clinical_incidence6_15\"] * comparator[\"pop6_15\"]\n",
      "C:\\Users\\joshsu\\AppData\\Local\\Temp\\ipykernel_9076\\3344551791.py:7: SettingWithCopyWarning: \n",
      "A value is trying to be set on a copy of a slice from a DataFrame.\n",
      "Try using .loc[row_indexer,col_indexer] = value instead\n",
      "\n",
      "See the caveats in the documentation: https://pandas.pydata.org/pandas-docs/stable/user_guide/indexing.html#returning-a-view-versus-a-copy\n",
      "  baseline[\"cases_nonsac\"] = baseline[\"clinical_incidence0_5\"] * baseline[\"pop0_5\"] + baseline[\"clinical_incidence16_500\"] * baseline[\"pop16_500\"]\n",
      "C:\\Users\\joshsu\\AppData\\Local\\Temp\\ipykernel_9076\\3344551791.py:8: SettingWithCopyWarning: \n",
      "A value is trying to be set on a copy of a slice from a DataFrame.\n",
      "Try using .loc[row_indexer,col_indexer] = value instead\n",
      "\n",
      "See the caveats in the documentation: https://pandas.pydata.org/pandas-docs/stable/user_guide/indexing.html#returning-a-view-versus-a-copy\n",
      "  comparator[\"cases_nonsac\"] = comparator[\"clinical_incidence0_5\"] * comparator[\"pop0_5\"] + comparator[\"clinical_incidence16_500\"] * comparator[\"pop16_500\"]\n"
     ]
    },
    {
     "data": {
      "text/plain": "   archetype  transmission_level  cases_sac_baseline  cases_nonsac_baseline  \\\n0    Central                0.05         2395.386684            3651.082633   \n1    Central                0.10         2403.354331            3428.937645   \n2    Central                0.20         2986.875089            3666.974095   \n3    Central                0.30         3138.121765            3809.950521   \n4    Central                0.40         3047.513031            4246.804211   \n5      Sahel                0.05         1110.599547            1572.906179   \n6      Sahel                0.10         1662.488704            2033.214395   \n7      Sahel                0.20         2162.266543            2363.305864   \n8      Sahel                0.30         2342.019809            2821.598593   \n9      Sahel                0.40         2589.679529            3176.188953   \n10  Southern                0.05         1167.135057            2166.799617   \n11  Southern                0.10         1531.664384            2450.022302   \n12  Southern                0.20         2056.063429            2997.018294   \n13  Southern                0.30         2622.509760            3733.550585   \n14  Southern                0.40         2583.199843            3949.460649   \n\n    cases_sac_comparator  cases_nonsac_comparator  cases_averted_sac  \\\n0            1028.157067              1880.433395        1367.229617   \n1            1004.581306              1789.389208        1398.773025   \n2            1576.202978              2649.675293        1410.672111   \n3            1632.404791              3031.807502        1505.716974   \n4            1488.108115              3587.895796        1559.404916   \n5             344.482494              1061.399718         766.117053   \n6             593.742775              1466.357703        1068.745929   \n7            1007.397568              1951.786585        1154.868975   \n8            1145.770560              2340.315902        1196.249249   \n9            1215.504730              2717.989307        1374.174799   \n10            472.178417              1151.074823         694.956640   \n11            741.773643              1651.443019         789.890741   \n12           1038.394853              2368.723889        1017.668577   \n13           1258.434173              3207.744789        1364.075587   \n14           1121.563599              3496.895442        1461.636245   \n\n    cases_averted_nonsac  \n0            1770.649238  \n1            1639.548438  \n2            1017.298802  \n3             778.143019  \n4             658.908416  \n5             511.506460  \n6             566.856692  \n7             411.519279  \n8             481.282692  \n9             458.199646  \n10           1015.724794  \n11            798.579283  \n12            628.294405  \n13            525.805796  \n14            452.565207  ",
      "text/html": "<div>\n<style scoped>\n    .dataframe tbody tr th:only-of-type {\n        vertical-align: middle;\n    }\n\n    .dataframe tbody tr th {\n        vertical-align: top;\n    }\n\n    .dataframe thead th {\n        text-align: right;\n    }\n</style>\n<table border=\"1\" class=\"dataframe\">\n  <thead>\n    <tr style=\"text-align: right;\">\n      <th></th>\n      <th>archetype</th>\n      <th>transmission_level</th>\n      <th>cases_sac_baseline</th>\n      <th>cases_nonsac_baseline</th>\n      <th>cases_sac_comparator</th>\n      <th>cases_nonsac_comparator</th>\n      <th>cases_averted_sac</th>\n      <th>cases_averted_nonsac</th>\n    </tr>\n  </thead>\n  <tbody>\n    <tr>\n      <th>0</th>\n      <td>Central</td>\n      <td>0.05</td>\n      <td>2395.386684</td>\n      <td>3651.082633</td>\n      <td>1028.157067</td>\n      <td>1880.433395</td>\n      <td>1367.229617</td>\n      <td>1770.649238</td>\n    </tr>\n    <tr>\n      <th>1</th>\n      <td>Central</td>\n      <td>0.10</td>\n      <td>2403.354331</td>\n      <td>3428.937645</td>\n      <td>1004.581306</td>\n      <td>1789.389208</td>\n      <td>1398.773025</td>\n      <td>1639.548438</td>\n    </tr>\n    <tr>\n      <th>2</th>\n      <td>Central</td>\n      <td>0.20</td>\n      <td>2986.875089</td>\n      <td>3666.974095</td>\n      <td>1576.202978</td>\n      <td>2649.675293</td>\n      <td>1410.672111</td>\n      <td>1017.298802</td>\n    </tr>\n    <tr>\n      <th>3</th>\n      <td>Central</td>\n      <td>0.30</td>\n      <td>3138.121765</td>\n      <td>3809.950521</td>\n      <td>1632.404791</td>\n      <td>3031.807502</td>\n      <td>1505.716974</td>\n      <td>778.143019</td>\n    </tr>\n    <tr>\n      <th>4</th>\n      <td>Central</td>\n      <td>0.40</td>\n      <td>3047.513031</td>\n      <td>4246.804211</td>\n      <td>1488.108115</td>\n      <td>3587.895796</td>\n      <td>1559.404916</td>\n      <td>658.908416</td>\n    </tr>\n    <tr>\n      <th>5</th>\n      <td>Sahel</td>\n      <td>0.05</td>\n      <td>1110.599547</td>\n      <td>1572.906179</td>\n      <td>344.482494</td>\n      <td>1061.399718</td>\n      <td>766.117053</td>\n      <td>511.506460</td>\n    </tr>\n    <tr>\n      <th>6</th>\n      <td>Sahel</td>\n      <td>0.10</td>\n      <td>1662.488704</td>\n      <td>2033.214395</td>\n      <td>593.742775</td>\n      <td>1466.357703</td>\n      <td>1068.745929</td>\n      <td>566.856692</td>\n    </tr>\n    <tr>\n      <th>7</th>\n      <td>Sahel</td>\n      <td>0.20</td>\n      <td>2162.266543</td>\n      <td>2363.305864</td>\n      <td>1007.397568</td>\n      <td>1951.786585</td>\n      <td>1154.868975</td>\n      <td>411.519279</td>\n    </tr>\n    <tr>\n      <th>8</th>\n      <td>Sahel</td>\n      <td>0.30</td>\n      <td>2342.019809</td>\n      <td>2821.598593</td>\n      <td>1145.770560</td>\n      <td>2340.315902</td>\n      <td>1196.249249</td>\n      <td>481.282692</td>\n    </tr>\n    <tr>\n      <th>9</th>\n      <td>Sahel</td>\n      <td>0.40</td>\n      <td>2589.679529</td>\n      <td>3176.188953</td>\n      <td>1215.504730</td>\n      <td>2717.989307</td>\n      <td>1374.174799</td>\n      <td>458.199646</td>\n    </tr>\n    <tr>\n      <th>10</th>\n      <td>Southern</td>\n      <td>0.05</td>\n      <td>1167.135057</td>\n      <td>2166.799617</td>\n      <td>472.178417</td>\n      <td>1151.074823</td>\n      <td>694.956640</td>\n      <td>1015.724794</td>\n    </tr>\n    <tr>\n      <th>11</th>\n      <td>Southern</td>\n      <td>0.10</td>\n      <td>1531.664384</td>\n      <td>2450.022302</td>\n      <td>741.773643</td>\n      <td>1651.443019</td>\n      <td>789.890741</td>\n      <td>798.579283</td>\n    </tr>\n    <tr>\n      <th>12</th>\n      <td>Southern</td>\n      <td>0.20</td>\n      <td>2056.063429</td>\n      <td>2997.018294</td>\n      <td>1038.394853</td>\n      <td>2368.723889</td>\n      <td>1017.668577</td>\n      <td>628.294405</td>\n    </tr>\n    <tr>\n      <th>13</th>\n      <td>Southern</td>\n      <td>0.30</td>\n      <td>2622.509760</td>\n      <td>3733.550585</td>\n      <td>1258.434173</td>\n      <td>3207.744789</td>\n      <td>1364.075587</td>\n      <td>525.805796</td>\n    </tr>\n    <tr>\n      <th>14</th>\n      <td>Southern</td>\n      <td>0.40</td>\n      <td>2583.199843</td>\n      <td>3949.460649</td>\n      <td>1121.563599</td>\n      <td>3496.895442</td>\n      <td>1461.636245</td>\n      <td>452.565207</td>\n    </tr>\n  </tbody>\n</table>\n</div>"
     },
     "execution_count": 87,
     "metadata": {},
     "output_type": "execute_result"
    }
   ],
   "source": [
    "baseline = df[df[\"scenario_number\"] == 0]\n",
    "comparator = df[df[\"scenario_number\"] == 7] # *AQ monthly\n",
    "\n",
    "baseline[\"cases_sac\"] = baseline[\"clinical_incidence6_15\"] * baseline[\"pop6_15\"]\n",
    "comparator[\"cases_sac\"] = comparator[\"clinical_incidence6_15\"] * comparator[\"pop6_15\"]\n",
    "\n",
    "baseline[\"cases_nonsac\"] = baseline[\"clinical_incidence0_5\"] * baseline[\"pop0_5\"] + baseline[\"clinical_incidence16_500\"] * baseline[\"pop16_500\"]\n",
    "comparator[\"cases_nonsac\"] = comparator[\"clinical_incidence0_5\"] * comparator[\"pop0_5\"] + comparator[\"clinical_incidence16_500\"] * comparator[\"pop16_500\"]\n",
    "\n",
    "compare = pd.merge(baseline[[\"archetype\", \"transmission_level\", \"cases_sac\", \"cases_nonsac\"]], \n",
    "                   comparator[[\"archetype\", \"transmission_level\", \"cases_sac\", \"cases_nonsac\"]], \n",
    "                   on=[\"archetype\", \"transmission_level\"], suffixes=(\"_baseline\", \"_comparator\"))\n",
    "\n",
    "compare[\"cases_averted_sac\"] = compare[\"cases_sac_baseline\"] - compare[\"cases_sac_comparator\"]\n",
    "compare[\"cases_averted_nonsac\"] = compare[\"cases_nonsac_baseline\"] - compare[\"cases_nonsac_comparator\"]\n",
    "compare"
   ],
   "metadata": {
    "collapsed": false,
    "ExecuteTime": {
     "end_time": "2024-10-14T23:17:35.647153Z",
     "start_time": "2024-10-14T23:17:35.597996Z"
    }
   },
   "id": "d67fc555e547e9f4",
   "execution_count": 87
  },
  {
   "cell_type": "code",
   "outputs": [
    {
     "data": {
      "text/plain": "0     0.518961\n1     0.520948\n2     0.364897\n3     0.328704\n4     0.304115\n5     0.476102\n6     0.442569\n7     0.346119\n8     0.324875\n9     0.317797\n10    0.513112\n11    0.398944\n12    0.325734\n13    0.297335\n14    0.293020\ndtype: float64"
     },
     "execution_count": 88,
     "metadata": {},
     "output_type": "execute_result"
    }
   ],
   "source": [
    "(compare[\"cases_averted_sac\"]+compare[\"cases_averted_nonsac\"])/(compare[\"cases_sac_baseline\"]+compare[\"cases_nonsac_baseline\"])"
   ],
   "metadata": {
    "collapsed": false,
    "ExecuteTime": {
     "end_time": "2024-10-14T23:18:49.279433Z",
     "start_time": "2024-10-14T23:18:49.253040Z"
    }
   },
   "id": "13f17bb1861e2258",
   "execution_count": 88
  },
  {
   "cell_type": "code",
   "outputs": [
    {
     "data": {
      "text/plain": "0     627.575771\n1     607.664293\n2     485.594183\n3     456.771999\n4     443.662666\n5     255.524703\n6     327.120524\n7     313.277651\n8     335.506388\n9     366.474889\n10    342.136287\n11    317.694005\n12    329.192596\n13    377.976277\n14    382.840290\ndtype: float64"
     },
     "execution_count": 89,
     "metadata": {},
     "output_type": "execute_result"
    }
   ],
   "source": [
    "(compare[\"cases_averted_sac\"]+compare[\"cases_averted_nonsac\"])/5"
   ],
   "metadata": {
    "collapsed": false,
    "ExecuteTime": {
     "end_time": "2024-10-14T23:19:47.363088Z",
     "start_time": "2024-10-14T23:19:47.343706Z"
    }
   },
   "id": "fa8cdf6f79f25f70",
   "execution_count": 89
  },
  {
   "cell_type": "markdown",
   "source": [
    "# Delivery mode "
   ],
   "metadata": {
    "collapsed": false
   },
   "id": "14ef473b3d7ded15"
  },
  {
   "cell_type": "markdown",
   "source": [
    "## SPAQ term"
   ],
   "metadata": {
    "collapsed": false
   },
   "id": "f8a8217d3347215e"
  },
  {
   "cell_type": "code",
   "outputs": [
    {
     "name": "stderr",
     "output_type": "stream",
     "text": [
      "C:\\Users\\joshsu\\AppData\\Local\\Temp\\ipykernel_9076\\1327711091.py:4: SettingWithCopyWarning: \n",
      "A value is trying to be set on a copy of a slice from a DataFrame.\n",
      "Try using .loc[row_indexer,col_indexer] = value instead\n",
      "\n",
      "See the caveats in the documentation: https://pandas.pydata.org/pandas-docs/stable/user_guide/indexing.html#returning-a-view-versus-a-copy\n",
      "  baseline[\"cases_sac\"] = baseline[\"clinical_incidence6_15\"] * baseline[\"pop6_15\"]\n",
      "C:\\Users\\joshsu\\AppData\\Local\\Temp\\ipykernel_9076\\1327711091.py:5: SettingWithCopyWarning: \n",
      "A value is trying to be set on a copy of a slice from a DataFrame.\n",
      "Try using .loc[row_indexer,col_indexer] = value instead\n",
      "\n",
      "See the caveats in the documentation: https://pandas.pydata.org/pandas-docs/stable/user_guide/indexing.html#returning-a-view-versus-a-copy\n",
      "  comparator[\"cases_sac\"] = comparator[\"clinical_incidence6_15\"] * comparator[\"pop6_15\"]\n",
      "C:\\Users\\joshsu\\AppData\\Local\\Temp\\ipykernel_9076\\1327711091.py:7: SettingWithCopyWarning: \n",
      "A value is trying to be set on a copy of a slice from a DataFrame.\n",
      "Try using .loc[row_indexer,col_indexer] = value instead\n",
      "\n",
      "See the caveats in the documentation: https://pandas.pydata.org/pandas-docs/stable/user_guide/indexing.html#returning-a-view-versus-a-copy\n",
      "  baseline[\"cases_nonsac\"] = baseline[\"clinical_incidence0_5\"] * baseline[\"pop0_5\"] + baseline[\"clinical_incidence16_500\"] * baseline[\"pop16_500\"]\n",
      "C:\\Users\\joshsu\\AppData\\Local\\Temp\\ipykernel_9076\\1327711091.py:8: SettingWithCopyWarning: \n",
      "A value is trying to be set on a copy of a slice from a DataFrame.\n",
      "Try using .loc[row_indexer,col_indexer] = value instead\n",
      "\n",
      "See the caveats in the documentation: https://pandas.pydata.org/pandas-docs/stable/user_guide/indexing.html#returning-a-view-versus-a-copy\n",
      "  comparator[\"cases_nonsac\"] = comparator[\"clinical_incidence0_5\"] * comparator[\"pop0_5\"] + comparator[\"clinical_incidence16_500\"] * comparator[\"pop16_500\"]\n"
     ]
    },
    {
     "data": {
      "text/plain": "  archetype  transmission_level  cases_sac_baseline  cases_nonsac_baseline  \\\n0     Sahel                0.05         1110.599547            1572.906179   \n1     Sahel                0.10         1662.488704            2033.214395   \n2     Sahel                0.20         2162.266543            2363.305864   \n3     Sahel                0.30         2342.019809            2821.598593   \n4     Sahel                0.40         2589.679529            3176.188953   \n\n   cases_sac_comparator  cases_nonsac_comparator  cases_averted_sac  \\\n0            846.450530              1332.075576         264.149017   \n1           1329.338597              1800.451602         333.150107   \n2           1766.046628              2200.621345         396.219915   \n3           1772.333993              2625.469522         569.685816   \n4           1776.161336              2990.663131         813.518192   \n\n   cases_averted_nonsac  \n0            240.830603  \n1            232.762793  \n2            162.684518  \n3            196.129071  \n4            185.525822  ",
      "text/html": "<div>\n<style scoped>\n    .dataframe tbody tr th:only-of-type {\n        vertical-align: middle;\n    }\n\n    .dataframe tbody tr th {\n        vertical-align: top;\n    }\n\n    .dataframe thead th {\n        text-align: right;\n    }\n</style>\n<table border=\"1\" class=\"dataframe\">\n  <thead>\n    <tr style=\"text-align: right;\">\n      <th></th>\n      <th>archetype</th>\n      <th>transmission_level</th>\n      <th>cases_sac_baseline</th>\n      <th>cases_nonsac_baseline</th>\n      <th>cases_sac_comparator</th>\n      <th>cases_nonsac_comparator</th>\n      <th>cases_averted_sac</th>\n      <th>cases_averted_nonsac</th>\n    </tr>\n  </thead>\n  <tbody>\n    <tr>\n      <th>0</th>\n      <td>Sahel</td>\n      <td>0.05</td>\n      <td>1110.599547</td>\n      <td>1572.906179</td>\n      <td>846.450530</td>\n      <td>1332.075576</td>\n      <td>264.149017</td>\n      <td>240.830603</td>\n    </tr>\n    <tr>\n      <th>1</th>\n      <td>Sahel</td>\n      <td>0.10</td>\n      <td>1662.488704</td>\n      <td>2033.214395</td>\n      <td>1329.338597</td>\n      <td>1800.451602</td>\n      <td>333.150107</td>\n      <td>232.762793</td>\n    </tr>\n    <tr>\n      <th>2</th>\n      <td>Sahel</td>\n      <td>0.20</td>\n      <td>2162.266543</td>\n      <td>2363.305864</td>\n      <td>1766.046628</td>\n      <td>2200.621345</td>\n      <td>396.219915</td>\n      <td>162.684518</td>\n    </tr>\n    <tr>\n      <th>3</th>\n      <td>Sahel</td>\n      <td>0.30</td>\n      <td>2342.019809</td>\n      <td>2821.598593</td>\n      <td>1772.333993</td>\n      <td>2625.469522</td>\n      <td>569.685816</td>\n      <td>196.129071</td>\n    </tr>\n    <tr>\n      <th>4</th>\n      <td>Sahel</td>\n      <td>0.40</td>\n      <td>2589.679529</td>\n      <td>3176.188953</td>\n      <td>1776.161336</td>\n      <td>2990.663131</td>\n      <td>813.518192</td>\n      <td>185.525822</td>\n    </tr>\n  </tbody>\n</table>\n</div>"
     },
     "execution_count": 111,
     "metadata": {},
     "output_type": "execute_result"
    }
   ],
   "source": [
    "baseline = df[(df[\"scenario_number\"] == 0) & (df[\"archetype\"] == \"Sahel\")]\n",
    "comparator = df[(df[\"scenario_number\"] == 6) & (df[\"archetype\"] == \"Sahel\")] # SPAQ term\n",
    "\n",
    "baseline[\"cases_sac\"] = baseline[\"clinical_incidence6_15\"] * baseline[\"pop6_15\"]\n",
    "comparator[\"cases_sac\"] = comparator[\"clinical_incidence6_15\"] * comparator[\"pop6_15\"]\n",
    "\n",
    "baseline[\"cases_nonsac\"] = baseline[\"clinical_incidence0_5\"] * baseline[\"pop0_5\"] + baseline[\"clinical_incidence16_500\"] * baseline[\"pop16_500\"]\n",
    "comparator[\"cases_nonsac\"] = comparator[\"clinical_incidence0_5\"] * comparator[\"pop0_5\"] + comparator[\"clinical_incidence16_500\"] * comparator[\"pop16_500\"]\n",
    "\n",
    "compare = pd.merge(baseline[[\"archetype\", \"transmission_level\", \"cases_sac\", \"cases_nonsac\"]], \n",
    "                   comparator[[\"archetype\", \"transmission_level\", \"cases_sac\", \"cases_nonsac\"]], \n",
    "                   on=[\"archetype\", \"transmission_level\"], suffixes=(\"_baseline\", \"_comparator\"))\n",
    "\n",
    "compare[\"cases_averted_sac\"] = compare[\"cases_sac_baseline\"] - compare[\"cases_sac_comparator\"]\n",
    "compare[\"cases_averted_nonsac\"] = compare[\"cases_nonsac_baseline\"] - compare[\"cases_nonsac_comparator\"]\n",
    "compare"
   ],
   "metadata": {
    "collapsed": false,
    "ExecuteTime": {
     "end_time": "2024-10-14T23:42:07.495301Z",
     "start_time": "2024-10-14T23:42:07.462302Z"
    }
   },
   "id": "b869e82d88bf53f3",
   "execution_count": 111
  },
  {
   "cell_type": "code",
   "outputs": [
    {
     "data": {
      "text/plain": "0    0.237844\n1    0.200392\n2    0.183243\n3    0.243246\n4    0.314139\ndtype: float64"
     },
     "execution_count": 112,
     "metadata": {},
     "output_type": "execute_result"
    }
   ],
   "source": [
    "compare[\"cases_averted_sac\"]/compare[\"cases_sac_baseline\"]"
   ],
   "metadata": {
    "collapsed": false,
    "ExecuteTime": {
     "end_time": "2024-10-14T23:42:07.984365Z",
     "start_time": "2024-10-14T23:42:07.970364Z"
    }
   },
   "id": "9701bba8044205bf",
   "execution_count": 112
  },
  {
   "cell_type": "code",
   "outputs": [
    {
     "data": {
      "text/plain": "0    0.220124\n1    0.277625\n2    0.330183\n3    0.474738\n4    0.677932\nName: cases_averted_sac, dtype: float64"
     },
     "execution_count": 113,
     "metadata": {},
     "output_type": "execute_result"
    }
   ],
   "source": [
    "compare[\"cases_averted_sac\"]/1200"
   ],
   "metadata": {
    "collapsed": false,
    "ExecuteTime": {
     "end_time": "2024-10-14T23:42:09.727290Z",
     "start_time": "2024-10-14T23:42:09.713323Z"
    }
   },
   "id": "2a5631682cab24d3",
   "execution_count": 113
  },
  {
   "cell_type": "code",
   "outputs": [
    {
     "data": {
      "text/plain": "0.3961205079152137"
     },
     "execution_count": 114,
     "metadata": {},
     "output_type": "execute_result"
    }
   ],
   "source": [
    "compare[\"cases_averted_sac\"].mean()/1200"
   ],
   "metadata": {
    "collapsed": false,
    "ExecuteTime": {
     "end_time": "2024-10-14T23:42:11.080135Z",
     "start_time": "2024-10-14T23:42:11.068139Z"
    }
   },
   "id": "26702ad1a2fcc7d8",
   "execution_count": 114
  },
  {
   "cell_type": "markdown",
   "source": [
    "## SPAQ monthly"
   ],
   "metadata": {
    "collapsed": false
   },
   "id": "587f038914644afa"
  },
  {
   "cell_type": "code",
   "outputs": [
    {
     "name": "stderr",
     "output_type": "stream",
     "text": [
      "C:\\Users\\joshsu\\AppData\\Local\\Temp\\ipykernel_9076\\2292202896.py:4: SettingWithCopyWarning: \n",
      "A value is trying to be set on a copy of a slice from a DataFrame.\n",
      "Try using .loc[row_indexer,col_indexer] = value instead\n",
      "\n",
      "See the caveats in the documentation: https://pandas.pydata.org/pandas-docs/stable/user_guide/indexing.html#returning-a-view-versus-a-copy\n",
      "  baseline[\"cases_sac\"] = baseline[\"clinical_incidence6_15\"] * baseline[\"pop6_15\"]\n",
      "C:\\Users\\joshsu\\AppData\\Local\\Temp\\ipykernel_9076\\2292202896.py:5: SettingWithCopyWarning: \n",
      "A value is trying to be set on a copy of a slice from a DataFrame.\n",
      "Try using .loc[row_indexer,col_indexer] = value instead\n",
      "\n",
      "See the caveats in the documentation: https://pandas.pydata.org/pandas-docs/stable/user_guide/indexing.html#returning-a-view-versus-a-copy\n",
      "  comparator[\"cases_sac\"] = comparator[\"clinical_incidence6_15\"] * comparator[\"pop6_15\"]\n",
      "C:\\Users\\joshsu\\AppData\\Local\\Temp\\ipykernel_9076\\2292202896.py:7: SettingWithCopyWarning: \n",
      "A value is trying to be set on a copy of a slice from a DataFrame.\n",
      "Try using .loc[row_indexer,col_indexer] = value instead\n",
      "\n",
      "See the caveats in the documentation: https://pandas.pydata.org/pandas-docs/stable/user_guide/indexing.html#returning-a-view-versus-a-copy\n",
      "  baseline[\"cases_nonsac\"] = baseline[\"clinical_incidence0_5\"] * baseline[\"pop0_5\"] + baseline[\"clinical_incidence16_500\"] * baseline[\"pop16_500\"]\n",
      "C:\\Users\\joshsu\\AppData\\Local\\Temp\\ipykernel_9076\\2292202896.py:8: SettingWithCopyWarning: \n",
      "A value is trying to be set on a copy of a slice from a DataFrame.\n",
      "Try using .loc[row_indexer,col_indexer] = value instead\n",
      "\n",
      "See the caveats in the documentation: https://pandas.pydata.org/pandas-docs/stable/user_guide/indexing.html#returning-a-view-versus-a-copy\n",
      "  comparator[\"cases_nonsac\"] = comparator[\"clinical_incidence0_5\"] * comparator[\"pop0_5\"] + comparator[\"clinical_incidence16_500\"] * comparator[\"pop16_500\"]\n"
     ]
    },
    {
     "data": {
      "text/plain": "  archetype  transmission_level  cases_sac_baseline  cases_nonsac_baseline  \\\n0     Sahel                0.05         1110.599547            1572.906179   \n1     Sahel                0.10         1662.488704            2033.214395   \n2     Sahel                0.20         2162.266543            2363.305864   \n3     Sahel                0.30         2342.019809            2821.598593   \n4     Sahel                0.40         2589.679529            3176.188953   \n\n   cases_sac_comparator  cases_nonsac_comparator  cases_averted_sac  \\\n0            344.482494              1061.399718         766.117053   \n1            593.742775              1466.357703        1068.745929   \n2           1007.397568              1951.786585        1154.868975   \n3           1145.770560              2340.315902        1196.249249   \n4           1215.504730              2717.989307        1374.174799   \n\n   cases_averted_nonsac  \n0            511.506460  \n1            566.856692  \n2            411.519279  \n3            481.282692  \n4            458.199646  ",
      "text/html": "<div>\n<style scoped>\n    .dataframe tbody tr th:only-of-type {\n        vertical-align: middle;\n    }\n\n    .dataframe tbody tr th {\n        vertical-align: top;\n    }\n\n    .dataframe thead th {\n        text-align: right;\n    }\n</style>\n<table border=\"1\" class=\"dataframe\">\n  <thead>\n    <tr style=\"text-align: right;\">\n      <th></th>\n      <th>archetype</th>\n      <th>transmission_level</th>\n      <th>cases_sac_baseline</th>\n      <th>cases_nonsac_baseline</th>\n      <th>cases_sac_comparator</th>\n      <th>cases_nonsac_comparator</th>\n      <th>cases_averted_sac</th>\n      <th>cases_averted_nonsac</th>\n    </tr>\n  </thead>\n  <tbody>\n    <tr>\n      <th>0</th>\n      <td>Sahel</td>\n      <td>0.05</td>\n      <td>1110.599547</td>\n      <td>1572.906179</td>\n      <td>344.482494</td>\n      <td>1061.399718</td>\n      <td>766.117053</td>\n      <td>511.506460</td>\n    </tr>\n    <tr>\n      <th>1</th>\n      <td>Sahel</td>\n      <td>0.10</td>\n      <td>1662.488704</td>\n      <td>2033.214395</td>\n      <td>593.742775</td>\n      <td>1466.357703</td>\n      <td>1068.745929</td>\n      <td>566.856692</td>\n    </tr>\n    <tr>\n      <th>2</th>\n      <td>Sahel</td>\n      <td>0.20</td>\n      <td>2162.266543</td>\n      <td>2363.305864</td>\n      <td>1007.397568</td>\n      <td>1951.786585</td>\n      <td>1154.868975</td>\n      <td>411.519279</td>\n    </tr>\n    <tr>\n      <th>3</th>\n      <td>Sahel</td>\n      <td>0.30</td>\n      <td>2342.019809</td>\n      <td>2821.598593</td>\n      <td>1145.770560</td>\n      <td>2340.315902</td>\n      <td>1196.249249</td>\n      <td>481.282692</td>\n    </tr>\n    <tr>\n      <th>4</th>\n      <td>Sahel</td>\n      <td>0.40</td>\n      <td>2589.679529</td>\n      <td>3176.188953</td>\n      <td>1215.504730</td>\n      <td>2717.989307</td>\n      <td>1374.174799</td>\n      <td>458.199646</td>\n    </tr>\n  </tbody>\n</table>\n</div>"
     },
     "execution_count": 116,
     "metadata": {},
     "output_type": "execute_result"
    }
   ],
   "source": [
    "baseline = df[(df[\"scenario_number\"] == 0) & (df[\"archetype\"] == \"Sahel\")]\n",
    "comparator = df[(df[\"scenario_number\"] == 7) & (df[\"archetype\"] == \"Sahel\")] # SPAQ monthly\n",
    "\n",
    "baseline[\"cases_sac\"] = baseline[\"clinical_incidence6_15\"] * baseline[\"pop6_15\"]\n",
    "comparator[\"cases_sac\"] = comparator[\"clinical_incidence6_15\"] * comparator[\"pop6_15\"]\n",
    "\n",
    "baseline[\"cases_nonsac\"] = baseline[\"clinical_incidence0_5\"] * baseline[\"pop0_5\"] + baseline[\"clinical_incidence16_500\"] * baseline[\"pop16_500\"]\n",
    "comparator[\"cases_nonsac\"] = comparator[\"clinical_incidence0_5\"] * comparator[\"pop0_5\"] + comparator[\"clinical_incidence16_500\"] * comparator[\"pop16_500\"]\n",
    "\n",
    "compare = pd.merge(baseline[[\"archetype\", \"transmission_level\", \"cases_sac\", \"cases_nonsac\"]], \n",
    "                   comparator[[\"archetype\", \"transmission_level\", \"cases_sac\", \"cases_nonsac\"]], \n",
    "                   on=[\"archetype\", \"transmission_level\"], suffixes=(\"_baseline\", \"_comparator\"))\n",
    "\n",
    "compare[\"cases_averted_sac\"] = compare[\"cases_sac_baseline\"] - compare[\"cases_sac_comparator\"]\n",
    "compare[\"cases_averted_nonsac\"] = compare[\"cases_nonsac_baseline\"] - compare[\"cases_nonsac_comparator\"]\n",
    "compare"
   ],
   "metadata": {
    "collapsed": false,
    "ExecuteTime": {
     "end_time": "2024-10-14T23:43:01.060282Z",
     "start_time": "2024-10-14T23:43:01.015282Z"
    }
   },
   "id": "f53e2401aa358b9c",
   "execution_count": 116
  },
  {
   "cell_type": "code",
   "outputs": [
    {
     "data": {
      "text/plain": "0    0.689823\n1    0.642859\n2    0.534101\n3    0.510777\n4    0.530635\ndtype: float64"
     },
     "execution_count": 117,
     "metadata": {},
     "output_type": "execute_result"
    }
   ],
   "source": [
    "compare[\"cases_averted_sac\"]/compare[\"cases_sac_baseline\"]"
   ],
   "metadata": {
    "collapsed": false,
    "ExecuteTime": {
     "end_time": "2024-10-14T23:43:01.576169Z",
     "start_time": "2024-10-14T23:43:01.548174Z"
    }
   },
   "id": "2c1bf98be6f3fead",
   "execution_count": 117
  },
  {
   "cell_type": "code",
   "outputs": [
    {
     "data": {
      "text/plain": "0    0.638431\n1    0.890622\n2    0.962391\n3    0.996874\n4    1.145146\nName: cases_averted_sac, dtype: float64"
     },
     "execution_count": 118,
     "metadata": {},
     "output_type": "execute_result"
    }
   ],
   "source": [
    "compare[\"cases_averted_sac\"]/1200"
   ],
   "metadata": {
    "collapsed": false,
    "ExecuteTime": {
     "end_time": "2024-10-14T23:43:02.340160Z",
     "start_time": "2024-10-14T23:43:02.320158Z"
    }
   },
   "id": "b575572d72cf609f",
   "execution_count": 118
  },
  {
   "cell_type": "code",
   "outputs": [
    {
     "data": {
      "text/plain": "0.926692667448612"
     },
     "execution_count": 119,
     "metadata": {},
     "output_type": "execute_result"
    }
   ],
   "source": [
    "compare[\"cases_averted_sac\"].mean()/1200"
   ],
   "metadata": {
    "collapsed": false,
    "ExecuteTime": {
     "end_time": "2024-10-14T23:43:03.399947Z",
     "start_time": "2024-10-14T23:43:03.385949Z"
    }
   },
   "id": "e962ddae95ee183c",
   "execution_count": 119
  },
  {
   "cell_type": "markdown",
   "source": [
    "## u15 SPAQ"
   ],
   "metadata": {
    "collapsed": false
   },
   "id": "f6b75df7f8a33fe1"
  },
  {
   "cell_type": "code",
   "outputs": [
    {
     "name": "stderr",
     "output_type": "stream",
     "text": [
      "C:\\Users\\joshsu\\AppData\\Local\\Temp\\ipykernel_9076\\3677315105.py:4: SettingWithCopyWarning: \n",
      "A value is trying to be set on a copy of a slice from a DataFrame.\n",
      "Try using .loc[row_indexer,col_indexer] = value instead\n",
      "\n",
      "See the caveats in the documentation: https://pandas.pydata.org/pandas-docs/stable/user_guide/indexing.html#returning-a-view-versus-a-copy\n",
      "  baseline[\"cases_sac\"] = baseline[\"clinical_incidence6_15\"] * baseline[\"pop6_15\"]\n",
      "C:\\Users\\joshsu\\AppData\\Local\\Temp\\ipykernel_9076\\3677315105.py:5: SettingWithCopyWarning: \n",
      "A value is trying to be set on a copy of a slice from a DataFrame.\n",
      "Try using .loc[row_indexer,col_indexer] = value instead\n",
      "\n",
      "See the caveats in the documentation: https://pandas.pydata.org/pandas-docs/stable/user_guide/indexing.html#returning-a-view-versus-a-copy\n",
      "  comparator[\"cases_sac\"] = comparator[\"clinical_incidence6_15\"] * comparator[\"pop6_15\"]\n",
      "C:\\Users\\joshsu\\AppData\\Local\\Temp\\ipykernel_9076\\3677315105.py:7: SettingWithCopyWarning: \n",
      "A value is trying to be set on a copy of a slice from a DataFrame.\n",
      "Try using .loc[row_indexer,col_indexer] = value instead\n",
      "\n",
      "See the caveats in the documentation: https://pandas.pydata.org/pandas-docs/stable/user_guide/indexing.html#returning-a-view-versus-a-copy\n",
      "  baseline[\"cases_nonsac\"] = baseline[\"clinical_incidence0_5\"] * baseline[\"pop0_5\"] + baseline[\"clinical_incidence16_500\"] * baseline[\"pop16_500\"]\n",
      "C:\\Users\\joshsu\\AppData\\Local\\Temp\\ipykernel_9076\\3677315105.py:8: SettingWithCopyWarning: \n",
      "A value is trying to be set on a copy of a slice from a DataFrame.\n",
      "Try using .loc[row_indexer,col_indexer] = value instead\n",
      "\n",
      "See the caveats in the documentation: https://pandas.pydata.org/pandas-docs/stable/user_guide/indexing.html#returning-a-view-versus-a-copy\n",
      "  comparator[\"cases_nonsac\"] = comparator[\"clinical_incidence0_5\"] * comparator[\"pop0_5\"] + comparator[\"clinical_incidence16_500\"] * comparator[\"pop16_500\"]\n"
     ]
    },
    {
     "data": {
      "text/plain": "  archetype  transmission_level  cases_sac_baseline  cases_nonsac_baseline  \\\n0     Sahel                0.05         1110.599547            1572.906179   \n1     Sahel                0.10         1662.488704            2033.214395   \n2     Sahel                0.20         2162.266543            2363.305864   \n3     Sahel                0.30         2342.019809            2821.598593   \n4     Sahel                0.40         2589.679529            3176.188953   \n\n   cases_sac_comparator  cases_nonsac_comparator  cases_averted_sac  \\\n0            667.948590              1239.888069         442.650957   \n1           1031.024546              1683.072808         631.464157   \n2           1399.165955              2078.717311         763.100588   \n3           1523.972055              2532.646648         818.047754   \n4           1695.908267              2934.690613         893.771262   \n\n   cases_averted_nonsac  \n0            333.018110  \n1            350.141587  \n2            284.588553  \n3            288.951945  \n4            241.498340  ",
      "text/html": "<div>\n<style scoped>\n    .dataframe tbody tr th:only-of-type {\n        vertical-align: middle;\n    }\n\n    .dataframe tbody tr th {\n        vertical-align: top;\n    }\n\n    .dataframe thead th {\n        text-align: right;\n    }\n</style>\n<table border=\"1\" class=\"dataframe\">\n  <thead>\n    <tr style=\"text-align: right;\">\n      <th></th>\n      <th>archetype</th>\n      <th>transmission_level</th>\n      <th>cases_sac_baseline</th>\n      <th>cases_nonsac_baseline</th>\n      <th>cases_sac_comparator</th>\n      <th>cases_nonsac_comparator</th>\n      <th>cases_averted_sac</th>\n      <th>cases_averted_nonsac</th>\n    </tr>\n  </thead>\n  <tbody>\n    <tr>\n      <th>0</th>\n      <td>Sahel</td>\n      <td>0.05</td>\n      <td>1110.599547</td>\n      <td>1572.906179</td>\n      <td>667.948590</td>\n      <td>1239.888069</td>\n      <td>442.650957</td>\n      <td>333.018110</td>\n    </tr>\n    <tr>\n      <th>1</th>\n      <td>Sahel</td>\n      <td>0.10</td>\n      <td>1662.488704</td>\n      <td>2033.214395</td>\n      <td>1031.024546</td>\n      <td>1683.072808</td>\n      <td>631.464157</td>\n      <td>350.141587</td>\n    </tr>\n    <tr>\n      <th>2</th>\n      <td>Sahel</td>\n      <td>0.20</td>\n      <td>2162.266543</td>\n      <td>2363.305864</td>\n      <td>1399.165955</td>\n      <td>2078.717311</td>\n      <td>763.100588</td>\n      <td>284.588553</td>\n    </tr>\n    <tr>\n      <th>3</th>\n      <td>Sahel</td>\n      <td>0.30</td>\n      <td>2342.019809</td>\n      <td>2821.598593</td>\n      <td>1523.972055</td>\n      <td>2532.646648</td>\n      <td>818.047754</td>\n      <td>288.951945</td>\n    </tr>\n    <tr>\n      <th>4</th>\n      <td>Sahel</td>\n      <td>0.40</td>\n      <td>2589.679529</td>\n      <td>3176.188953</td>\n      <td>1695.908267</td>\n      <td>2934.690613</td>\n      <td>893.771262</td>\n      <td>241.498340</td>\n    </tr>\n  </tbody>\n</table>\n</div>"
     },
     "execution_count": 120,
     "metadata": {},
     "output_type": "execute_result"
    }
   ],
   "source": [
    "baseline = df[(df[\"scenario_number\"] == 0) & (df[\"archetype\"] == \"Sahel\")]\n",
    "comparator = df[(df[\"scenario_number\"] == 31) & (df[\"archetype\"] == \"Sahel\")] # u15 SPAQ\n",
    "\n",
    "baseline[\"cases_sac\"] = baseline[\"clinical_incidence6_15\"] * baseline[\"pop6_15\"]\n",
    "comparator[\"cases_sac\"] = comparator[\"clinical_incidence6_15\"] * comparator[\"pop6_15\"]\n",
    "\n",
    "baseline[\"cases_nonsac\"] = baseline[\"clinical_incidence0_5\"] * baseline[\"pop0_5\"] + baseline[\"clinical_incidence16_500\"] * baseline[\"pop16_500\"]\n",
    "comparator[\"cases_nonsac\"] = comparator[\"clinical_incidence0_5\"] * comparator[\"pop0_5\"] + comparator[\"clinical_incidence16_500\"] * comparator[\"pop16_500\"]\n",
    "\n",
    "compare = pd.merge(baseline[[\"archetype\", \"transmission_level\", \"cases_sac\", \"cases_nonsac\"]], \n",
    "                   comparator[[\"archetype\", \"transmission_level\", \"cases_sac\", \"cases_nonsac\"]], \n",
    "                   on=[\"archetype\", \"transmission_level\"], suffixes=(\"_baseline\", \"_comparator\"))\n",
    "\n",
    "compare[\"cases_averted_sac\"] = compare[\"cases_sac_baseline\"] - compare[\"cases_sac_comparator\"]\n",
    "compare[\"cases_averted_nonsac\"] = compare[\"cases_nonsac_baseline\"] - compare[\"cases_nonsac_comparator\"]\n",
    "compare"
   ],
   "metadata": {
    "collapsed": false,
    "ExecuteTime": {
     "end_time": "2024-10-14T23:43:32.733930Z",
     "start_time": "2024-10-14T23:43:32.699751Z"
    }
   },
   "id": "72f64c8b67d4dd6f",
   "execution_count": 120
  },
  {
   "cell_type": "code",
   "outputs": [
    {
     "data": {
      "text/plain": "0    0.398569\n1    0.379831\n2    0.352917\n3    0.349292\n4    0.345128\ndtype: float64"
     },
     "execution_count": 121,
     "metadata": {},
     "output_type": "execute_result"
    }
   ],
   "source": [
    "compare[\"cases_averted_sac\"]/compare[\"cases_sac_baseline\"]"
   ],
   "metadata": {
    "collapsed": false,
    "ExecuteTime": {
     "end_time": "2024-10-14T23:43:33.596456Z",
     "start_time": "2024-10-14T23:43:33.583457Z"
    }
   },
   "id": "b78b3ab30b995b49",
   "execution_count": 121
  },
  {
   "cell_type": "code",
   "outputs": [
    {
     "data": {
      "text/plain": "0    0.368876\n1    0.526220\n2    0.635917\n3    0.681706\n4    0.744809\nName: cases_averted_sac, dtype: float64"
     },
     "execution_count": 122,
     "metadata": {},
     "output_type": "execute_result"
    }
   ],
   "source": [
    "compare[\"cases_averted_sac\"]/1200"
   ],
   "metadata": {
    "collapsed": false,
    "ExecuteTime": {
     "end_time": "2024-10-14T23:43:34.785193Z",
     "start_time": "2024-10-14T23:43:34.773041Z"
    }
   },
   "id": "37070d23c532a397",
   "execution_count": 122
  },
  {
   "cell_type": "code",
   "outputs": [
    {
     "data": {
      "text/plain": "0.5915057864944718"
     },
     "execution_count": 123,
     "metadata": {},
     "output_type": "execute_result"
    }
   ],
   "source": [
    "compare[\"cases_averted_sac\"].mean()/1200"
   ],
   "metadata": {
    "collapsed": false,
    "ExecuteTime": {
     "end_time": "2024-10-14T23:43:40.773076Z",
     "start_time": "2024-10-14T23:43:40.750077Z"
    }
   },
   "id": "368280641d09345b",
   "execution_count": 123
  },
  {
   "cell_type": "markdown",
   "source": [
    "## DP term"
   ],
   "metadata": {
    "collapsed": false
   },
   "id": "4965e6e819c77973"
  },
  {
   "cell_type": "code",
   "outputs": [
    {
     "name": "stderr",
     "output_type": "stream",
     "text": [
      "C:\\Users\\joshsu\\AppData\\Local\\Temp\\ipykernel_9076\\102667215.py:4: SettingWithCopyWarning: \n",
      "A value is trying to be set on a copy of a slice from a DataFrame.\n",
      "Try using .loc[row_indexer,col_indexer] = value instead\n",
      "\n",
      "See the caveats in the documentation: https://pandas.pydata.org/pandas-docs/stable/user_guide/indexing.html#returning-a-view-versus-a-copy\n",
      "  baseline[\"cases_sac\"] = baseline[\"clinical_incidence6_15\"] * baseline[\"pop6_15\"]\n",
      "C:\\Users\\joshsu\\AppData\\Local\\Temp\\ipykernel_9076\\102667215.py:5: SettingWithCopyWarning: \n",
      "A value is trying to be set on a copy of a slice from a DataFrame.\n",
      "Try using .loc[row_indexer,col_indexer] = value instead\n",
      "\n",
      "See the caveats in the documentation: https://pandas.pydata.org/pandas-docs/stable/user_guide/indexing.html#returning-a-view-versus-a-copy\n",
      "  comparator[\"cases_sac\"] = comparator[\"clinical_incidence6_15\"] * comparator[\"pop6_15\"]\n",
      "C:\\Users\\joshsu\\AppData\\Local\\Temp\\ipykernel_9076\\102667215.py:7: SettingWithCopyWarning: \n",
      "A value is trying to be set on a copy of a slice from a DataFrame.\n",
      "Try using .loc[row_indexer,col_indexer] = value instead\n",
      "\n",
      "See the caveats in the documentation: https://pandas.pydata.org/pandas-docs/stable/user_guide/indexing.html#returning-a-view-versus-a-copy\n",
      "  baseline[\"cases_nonsac\"] = baseline[\"clinical_incidence0_5\"] * baseline[\"pop0_5\"] + baseline[\"clinical_incidence16_500\"] * baseline[\"pop16_500\"]\n",
      "C:\\Users\\joshsu\\AppData\\Local\\Temp\\ipykernel_9076\\102667215.py:8: SettingWithCopyWarning: \n",
      "A value is trying to be set on a copy of a slice from a DataFrame.\n",
      "Try using .loc[row_indexer,col_indexer] = value instead\n",
      "\n",
      "See the caveats in the documentation: https://pandas.pydata.org/pandas-docs/stable/user_guide/indexing.html#returning-a-view-versus-a-copy\n",
      "  comparator[\"cases_nonsac\"] = comparator[\"clinical_incidence0_5\"] * comparator[\"pop0_5\"] + comparator[\"clinical_incidence16_500\"] * comparator[\"pop16_500\"]\n"
     ]
    },
    {
     "data": {
      "text/plain": "  archetype  transmission_level  cases_sac_baseline  cases_nonsac_baseline  \\\n0     Sahel                0.05         1110.599547            1572.906179   \n1     Sahel                0.10         1662.488704            2033.214395   \n2     Sahel                0.20         2162.266543            2363.305864   \n3     Sahel                0.30         2342.019809            2821.598593   \n4     Sahel                0.40         2589.679529            3176.188953   \n\n   cases_sac_comparator  cases_nonsac_comparator  cases_averted_sac  \\\n0            495.846714               972.561298         614.752833   \n1            842.968071              1416.319498         819.520633   \n2           1234.426193              1915.114756         927.840350   \n3           1257.555220              2362.990172        1084.464589   \n4           1289.838728              2799.091228        1299.840801   \n\n   cases_averted_nonsac  \n0            600.344881  \n1            616.894897  \n2            448.191108  \n3            458.608422  \n4            377.097725  ",
      "text/html": "<div>\n<style scoped>\n    .dataframe tbody tr th:only-of-type {\n        vertical-align: middle;\n    }\n\n    .dataframe tbody tr th {\n        vertical-align: top;\n    }\n\n    .dataframe thead th {\n        text-align: right;\n    }\n</style>\n<table border=\"1\" class=\"dataframe\">\n  <thead>\n    <tr style=\"text-align: right;\">\n      <th></th>\n      <th>archetype</th>\n      <th>transmission_level</th>\n      <th>cases_sac_baseline</th>\n      <th>cases_nonsac_baseline</th>\n      <th>cases_sac_comparator</th>\n      <th>cases_nonsac_comparator</th>\n      <th>cases_averted_sac</th>\n      <th>cases_averted_nonsac</th>\n    </tr>\n  </thead>\n  <tbody>\n    <tr>\n      <th>0</th>\n      <td>Sahel</td>\n      <td>0.05</td>\n      <td>1110.599547</td>\n      <td>1572.906179</td>\n      <td>495.846714</td>\n      <td>972.561298</td>\n      <td>614.752833</td>\n      <td>600.344881</td>\n    </tr>\n    <tr>\n      <th>1</th>\n      <td>Sahel</td>\n      <td>0.10</td>\n      <td>1662.488704</td>\n      <td>2033.214395</td>\n      <td>842.968071</td>\n      <td>1416.319498</td>\n      <td>819.520633</td>\n      <td>616.894897</td>\n    </tr>\n    <tr>\n      <th>2</th>\n      <td>Sahel</td>\n      <td>0.20</td>\n      <td>2162.266543</td>\n      <td>2363.305864</td>\n      <td>1234.426193</td>\n      <td>1915.114756</td>\n      <td>927.840350</td>\n      <td>448.191108</td>\n    </tr>\n    <tr>\n      <th>3</th>\n      <td>Sahel</td>\n      <td>0.30</td>\n      <td>2342.019809</td>\n      <td>2821.598593</td>\n      <td>1257.555220</td>\n      <td>2362.990172</td>\n      <td>1084.464589</td>\n      <td>458.608422</td>\n    </tr>\n    <tr>\n      <th>4</th>\n      <td>Sahel</td>\n      <td>0.40</td>\n      <td>2589.679529</td>\n      <td>3176.188953</td>\n      <td>1289.838728</td>\n      <td>2799.091228</td>\n      <td>1299.840801</td>\n      <td>377.097725</td>\n    </tr>\n  </tbody>\n</table>\n</div>"
     },
     "execution_count": 124,
     "metadata": {},
     "output_type": "execute_result"
    }
   ],
   "source": [
    "baseline = df[(df[\"scenario_number\"] == 0) & (df[\"archetype\"] == \"Sahel\")]\n",
    "comparator = df[(df[\"scenario_number\"] == 8) & (df[\"archetype\"] == \"Sahel\")] # DP term\n",
    "\n",
    "baseline[\"cases_sac\"] = baseline[\"clinical_incidence6_15\"] * baseline[\"pop6_15\"]\n",
    "comparator[\"cases_sac\"] = comparator[\"clinical_incidence6_15\"] * comparator[\"pop6_15\"]\n",
    "\n",
    "baseline[\"cases_nonsac\"] = baseline[\"clinical_incidence0_5\"] * baseline[\"pop0_5\"] + baseline[\"clinical_incidence16_500\"] * baseline[\"pop16_500\"]\n",
    "comparator[\"cases_nonsac\"] = comparator[\"clinical_incidence0_5\"] * comparator[\"pop0_5\"] + comparator[\"clinical_incidence16_500\"] * comparator[\"pop16_500\"]\n",
    "\n",
    "compare = pd.merge(baseline[[\"archetype\", \"transmission_level\", \"cases_sac\", \"cases_nonsac\"]], \n",
    "                   comparator[[\"archetype\", \"transmission_level\", \"cases_sac\", \"cases_nonsac\"]], \n",
    "                   on=[\"archetype\", \"transmission_level\"], suffixes=(\"_baseline\", \"_comparator\"))\n",
    "\n",
    "compare[\"cases_averted_sac\"] = compare[\"cases_sac_baseline\"] - compare[\"cases_sac_comparator\"]\n",
    "compare[\"cases_averted_nonsac\"] = compare[\"cases_nonsac_baseline\"] - compare[\"cases_nonsac_comparator\"]\n",
    "compare"
   ],
   "metadata": {
    "collapsed": false,
    "ExecuteTime": {
     "end_time": "2024-10-14T23:45:12.699260Z",
     "start_time": "2024-10-14T23:45:12.651494Z"
    }
   },
   "id": "79f8716c58817f12",
   "execution_count": 124
  },
  {
   "cell_type": "code",
   "outputs": [
    {
     "data": {
      "text/plain": "0    0.553532\n1    0.492948\n2    0.429105\n3    0.463047\n4    0.501931\ndtype: float64"
     },
     "execution_count": 125,
     "metadata": {},
     "output_type": "execute_result"
    }
   ],
   "source": [
    "compare[\"cases_averted_sac\"]/compare[\"cases_sac_baseline\"]"
   ],
   "metadata": {
    "collapsed": false,
    "ExecuteTime": {
     "end_time": "2024-10-14T23:45:14.631477Z",
     "start_time": "2024-10-14T23:45:14.609478Z"
    }
   },
   "id": "8b6ecfff1d138e29",
   "execution_count": 125
  },
  {
   "cell_type": "code",
   "outputs": [
    {
     "data": {
      "text/plain": "0    0.512294\n1    0.682934\n2    0.773200\n3    0.903720\n4    1.083201\nName: cases_averted_sac, dtype: float64"
     },
     "execution_count": 126,
     "metadata": {},
     "output_type": "execute_result"
    }
   ],
   "source": [
    "compare[\"cases_averted_sac\"]/1200"
   ],
   "metadata": {
    "collapsed": false,
    "ExecuteTime": {
     "end_time": "2024-10-14T23:45:17.170973Z",
     "start_time": "2024-10-14T23:45:17.157972Z"
    }
   },
   "id": "65e3c02df07d2be1",
   "execution_count": 126
  },
  {
   "cell_type": "code",
   "outputs": [
    {
     "data": {
      "text/plain": "0.791069867694413"
     },
     "execution_count": 127,
     "metadata": {},
     "output_type": "execute_result"
    }
   ],
   "source": [
    "compare[\"cases_averted_sac\"].mean()/1200"
   ],
   "metadata": {
    "collapsed": false,
    "ExecuteTime": {
     "end_time": "2024-10-14T23:45:20.641368Z",
     "start_time": "2024-10-14T23:45:20.619123Z"
    }
   },
   "id": "4462d5ab63c9d024",
   "execution_count": 127
  },
  {
   "cell_type": "markdown",
   "source": [
    "## u10 SMC DP"
   ],
   "metadata": {
    "collapsed": false
   },
   "id": "20ce9cfb99e484e9"
  },
  {
   "cell_type": "code",
   "outputs": [
    {
     "name": "stderr",
     "output_type": "stream",
     "text": [
      "C:\\Users\\joshsu\\AppData\\Local\\Temp\\ipykernel_9076\\3837968825.py:4: SettingWithCopyWarning: \n",
      "A value is trying to be set on a copy of a slice from a DataFrame.\n",
      "Try using .loc[row_indexer,col_indexer] = value instead\n",
      "\n",
      "See the caveats in the documentation: https://pandas.pydata.org/pandas-docs/stable/user_guide/indexing.html#returning-a-view-versus-a-copy\n",
      "  baseline[\"cases_sac\"] = baseline[\"clinical_incidence6_15\"] * baseline[\"pop6_15\"]\n",
      "C:\\Users\\joshsu\\AppData\\Local\\Temp\\ipykernel_9076\\3837968825.py:5: SettingWithCopyWarning: \n",
      "A value is trying to be set on a copy of a slice from a DataFrame.\n",
      "Try using .loc[row_indexer,col_indexer] = value instead\n",
      "\n",
      "See the caveats in the documentation: https://pandas.pydata.org/pandas-docs/stable/user_guide/indexing.html#returning-a-view-versus-a-copy\n",
      "  comparator[\"cases_sac\"] = comparator[\"clinical_incidence6_15\"] * comparator[\"pop6_15\"]\n",
      "C:\\Users\\joshsu\\AppData\\Local\\Temp\\ipykernel_9076\\3837968825.py:7: SettingWithCopyWarning: \n",
      "A value is trying to be set on a copy of a slice from a DataFrame.\n",
      "Try using .loc[row_indexer,col_indexer] = value instead\n",
      "\n",
      "See the caveats in the documentation: https://pandas.pydata.org/pandas-docs/stable/user_guide/indexing.html#returning-a-view-versus-a-copy\n",
      "  baseline[\"cases_nonsac\"] = baseline[\"clinical_incidence0_5\"] * baseline[\"pop0_5\"] + baseline[\"clinical_incidence16_500\"] * baseline[\"pop16_500\"]\n",
      "C:\\Users\\joshsu\\AppData\\Local\\Temp\\ipykernel_9076\\3837968825.py:8: SettingWithCopyWarning: \n",
      "A value is trying to be set on a copy of a slice from a DataFrame.\n",
      "Try using .loc[row_indexer,col_indexer] = value instead\n",
      "\n",
      "See the caveats in the documentation: https://pandas.pydata.org/pandas-docs/stable/user_guide/indexing.html#returning-a-view-versus-a-copy\n",
      "  comparator[\"cases_nonsac\"] = comparator[\"clinical_incidence0_5\"] * comparator[\"pop0_5\"] + comparator[\"clinical_incidence16_500\"] * comparator[\"pop16_500\"]\n"
     ]
    },
    {
     "data": {
      "text/plain": "  archetype  transmission_level  cases_sac_baseline  cases_nonsac_baseline  \\\n0     Sahel                0.05         1110.599547            1572.906179   \n1     Sahel                0.10         1662.488704            2033.214395   \n2     Sahel                0.20         2162.266543            2363.305864   \n3     Sahel                0.30         2342.019809            2821.598593   \n4     Sahel                0.40         2589.679529            3176.188953   \n\n   cases_sac_comparator  cases_nonsac_comparator  cases_averted_sac  \\\n0            741.397096              1263.707276         369.202451   \n1           1179.664437              1756.394644         482.824267   \n2           1586.769809              2090.771318         575.496734   \n3           1688.240731              2515.038576         653.779078   \n4           1845.305481              2943.395754         744.374048   \n\n   cases_averted_nonsac  \n0            309.198903  \n1            276.819750  \n2            272.534546  \n3            306.560017  \n4            232.793199  ",
      "text/html": "<div>\n<style scoped>\n    .dataframe tbody tr th:only-of-type {\n        vertical-align: middle;\n    }\n\n    .dataframe tbody tr th {\n        vertical-align: top;\n    }\n\n    .dataframe thead th {\n        text-align: right;\n    }\n</style>\n<table border=\"1\" class=\"dataframe\">\n  <thead>\n    <tr style=\"text-align: right;\">\n      <th></th>\n      <th>archetype</th>\n      <th>transmission_level</th>\n      <th>cases_sac_baseline</th>\n      <th>cases_nonsac_baseline</th>\n      <th>cases_sac_comparator</th>\n      <th>cases_nonsac_comparator</th>\n      <th>cases_averted_sac</th>\n      <th>cases_averted_nonsac</th>\n    </tr>\n  </thead>\n  <tbody>\n    <tr>\n      <th>0</th>\n      <td>Sahel</td>\n      <td>0.05</td>\n      <td>1110.599547</td>\n      <td>1572.906179</td>\n      <td>741.397096</td>\n      <td>1263.707276</td>\n      <td>369.202451</td>\n      <td>309.198903</td>\n    </tr>\n    <tr>\n      <th>1</th>\n      <td>Sahel</td>\n      <td>0.10</td>\n      <td>1662.488704</td>\n      <td>2033.214395</td>\n      <td>1179.664437</td>\n      <td>1756.394644</td>\n      <td>482.824267</td>\n      <td>276.819750</td>\n    </tr>\n    <tr>\n      <th>2</th>\n      <td>Sahel</td>\n      <td>0.20</td>\n      <td>2162.266543</td>\n      <td>2363.305864</td>\n      <td>1586.769809</td>\n      <td>2090.771318</td>\n      <td>575.496734</td>\n      <td>272.534546</td>\n    </tr>\n    <tr>\n      <th>3</th>\n      <td>Sahel</td>\n      <td>0.30</td>\n      <td>2342.019809</td>\n      <td>2821.598593</td>\n      <td>1688.240731</td>\n      <td>2515.038576</td>\n      <td>653.779078</td>\n      <td>306.560017</td>\n    </tr>\n    <tr>\n      <th>4</th>\n      <td>Sahel</td>\n      <td>0.40</td>\n      <td>2589.679529</td>\n      <td>3176.188953</td>\n      <td>1845.305481</td>\n      <td>2943.395754</td>\n      <td>744.374048</td>\n      <td>232.793199</td>\n    </tr>\n  </tbody>\n</table>\n</div>"
     },
     "execution_count": 128,
     "metadata": {},
     "output_type": "execute_result"
    }
   ],
   "source": [
    "baseline = df[(df[\"scenario_number\"] == 0) & (df[\"archetype\"] == \"Sahel\")]\n",
    "comparator = df[(df[\"scenario_number\"] == 32) & (df[\"archetype\"] == \"Sahel\")] # u10 SMC DP \n",
    "\n",
    "baseline[\"cases_sac\"] = baseline[\"clinical_incidence6_15\"] * baseline[\"pop6_15\"]\n",
    "comparator[\"cases_sac\"] = comparator[\"clinical_incidence6_15\"] * comparator[\"pop6_15\"]\n",
    "\n",
    "baseline[\"cases_nonsac\"] = baseline[\"clinical_incidence0_5\"] * baseline[\"pop0_5\"] + baseline[\"clinical_incidence16_500\"] * baseline[\"pop16_500\"]\n",
    "comparator[\"cases_nonsac\"] = comparator[\"clinical_incidence0_5\"] * comparator[\"pop0_5\"] + comparator[\"clinical_incidence16_500\"] * comparator[\"pop16_500\"]\n",
    "\n",
    "compare = pd.merge(baseline[[\"archetype\", \"transmission_level\", \"cases_sac\", \"cases_nonsac\"]], \n",
    "                   comparator[[\"archetype\", \"transmission_level\", \"cases_sac\", \"cases_nonsac\"]], \n",
    "                   on=[\"archetype\", \"transmission_level\"], suffixes=(\"_baseline\", \"_comparator\"))\n",
    "\n",
    "compare[\"cases_averted_sac\"] = compare[\"cases_sac_baseline\"] - compare[\"cases_sac_comparator\"]\n",
    "compare[\"cases_averted_nonsac\"] = compare[\"cases_nonsac_baseline\"] - compare[\"cases_nonsac_comparator\"]\n",
    "compare"
   ],
   "metadata": {
    "collapsed": false,
    "ExecuteTime": {
     "end_time": "2024-10-14T23:45:43.038051Z",
     "start_time": "2024-10-14T23:45:42.981054Z"
    }
   },
   "id": "8322d672dea3cadc",
   "execution_count": 128
  },
  {
   "cell_type": "code",
   "outputs": [
    {
     "data": {
      "text/plain": "0    0.332435\n1    0.290423\n2    0.266154\n3    0.279152\n4    0.287439\ndtype: float64"
     },
     "execution_count": 129,
     "metadata": {},
     "output_type": "execute_result"
    }
   ],
   "source": [
    "compare[\"cases_averted_sac\"]/compare[\"cases_sac_baseline\"]"
   ],
   "metadata": {
    "collapsed": false,
    "ExecuteTime": {
     "end_time": "2024-10-14T23:45:44.167992Z",
     "start_time": "2024-10-14T23:45:44.154992Z"
    }
   },
   "id": "e4f17afa6823f5ac",
   "execution_count": 129
  },
  {
   "cell_type": "code",
   "outputs": [
    {
     "data": {
      "text/plain": "0    0.307669\n1    0.402354\n2    0.479581\n3    0.544816\n4    0.620312\nName: cases_averted_sac, dtype: float64"
     },
     "execution_count": 130,
     "metadata": {},
     "output_type": "execute_result"
    }
   ],
   "source": [
    "compare[\"cases_averted_sac\"]/1200"
   ],
   "metadata": {
    "collapsed": false,
    "ExecuteTime": {
     "end_time": "2024-10-14T23:45:45.596048Z",
     "start_time": "2024-10-14T23:45:45.575041Z"
    }
   },
   "id": "aa92979fcb3b5617",
   "execution_count": 130
  },
  {
   "cell_type": "code",
   "outputs": [
    {
     "data": {
      "text/plain": "0.4709460961477496"
     },
     "execution_count": 131,
     "metadata": {},
     "output_type": "execute_result"
    }
   ],
   "source": [
    "compare[\"cases_averted_sac\"].mean()/1200"
   ],
   "metadata": {
    "collapsed": false,
    "ExecuteTime": {
     "end_time": "2024-10-14T23:45:48.387070Z",
     "start_time": "2024-10-14T23:45:48.376053Z"
    }
   },
   "id": "23865a0102e2b3ba",
   "execution_count": 131
  },
  {
   "cell_type": "markdown",
   "source": [
    "## u15 SMC DP"
   ],
   "metadata": {
    "collapsed": false
   },
   "id": "86a33236883cecd4"
  },
  {
   "cell_type": "code",
   "outputs": [
    {
     "name": "stderr",
     "output_type": "stream",
     "text": [
      "C:\\Users\\joshsu\\AppData\\Local\\Temp\\ipykernel_9076\\1317946014.py:4: SettingWithCopyWarning: \n",
      "A value is trying to be set on a copy of a slice from a DataFrame.\n",
      "Try using .loc[row_indexer,col_indexer] = value instead\n",
      "\n",
      "See the caveats in the documentation: https://pandas.pydata.org/pandas-docs/stable/user_guide/indexing.html#returning-a-view-versus-a-copy\n",
      "  baseline[\"cases_sac\"] = baseline[\"clinical_incidence6_15\"] * baseline[\"pop6_15\"]\n",
      "C:\\Users\\joshsu\\AppData\\Local\\Temp\\ipykernel_9076\\1317946014.py:5: SettingWithCopyWarning: \n",
      "A value is trying to be set on a copy of a slice from a DataFrame.\n",
      "Try using .loc[row_indexer,col_indexer] = value instead\n",
      "\n",
      "See the caveats in the documentation: https://pandas.pydata.org/pandas-docs/stable/user_guide/indexing.html#returning-a-view-versus-a-copy\n",
      "  comparator[\"cases_sac\"] = comparator[\"clinical_incidence6_15\"] * comparator[\"pop6_15\"]\n",
      "C:\\Users\\joshsu\\AppData\\Local\\Temp\\ipykernel_9076\\1317946014.py:7: SettingWithCopyWarning: \n",
      "A value is trying to be set on a copy of a slice from a DataFrame.\n",
      "Try using .loc[row_indexer,col_indexer] = value instead\n",
      "\n",
      "See the caveats in the documentation: https://pandas.pydata.org/pandas-docs/stable/user_guide/indexing.html#returning-a-view-versus-a-copy\n",
      "  baseline[\"cases_nonsac\"] = baseline[\"clinical_incidence0_5\"] * baseline[\"pop0_5\"] + baseline[\"clinical_incidence16_500\"] * baseline[\"pop16_500\"]\n",
      "C:\\Users\\joshsu\\AppData\\Local\\Temp\\ipykernel_9076\\1317946014.py:8: SettingWithCopyWarning: \n",
      "A value is trying to be set on a copy of a slice from a DataFrame.\n",
      "Try using .loc[row_indexer,col_indexer] = value instead\n",
      "\n",
      "See the caveats in the documentation: https://pandas.pydata.org/pandas-docs/stable/user_guide/indexing.html#returning-a-view-versus-a-copy\n",
      "  comparator[\"cases_nonsac\"] = comparator[\"clinical_incidence0_5\"] * comparator[\"pop0_5\"] + comparator[\"clinical_incidence16_500\"] * comparator[\"pop16_500\"]\n"
     ]
    },
    {
     "data": {
      "text/plain": "  archetype  transmission_level  cases_sac_baseline  cases_nonsac_baseline  \\\n0     Sahel                0.05         1110.599547            1572.906179   \n1     Sahel                0.10         1662.488704            2033.214395   \n2     Sahel                0.20         2162.266543            2363.305864   \n3     Sahel                0.30         2342.019809            2821.598593   \n4     Sahel                0.40         2589.679529            3176.188953   \n\n   cases_sac_comparator  cases_nonsac_comparator  cases_averted_sac  \\\n0            378.992697              1002.293689         731.606850   \n1            606.497033              1404.862117        1055.991671   \n2            960.609169              1862.706386        1201.657374   \n3           1135.120455              2333.790239        1206.899354   \n4           1352.287656              2768.737343        1237.391872   \n\n   cases_averted_nonsac  \n0            570.612490  \n1            628.352277  \n2            500.599477  \n3            487.808355  \n4            407.451610  ",
      "text/html": "<div>\n<style scoped>\n    .dataframe tbody tr th:only-of-type {\n        vertical-align: middle;\n    }\n\n    .dataframe tbody tr th {\n        vertical-align: top;\n    }\n\n    .dataframe thead th {\n        text-align: right;\n    }\n</style>\n<table border=\"1\" class=\"dataframe\">\n  <thead>\n    <tr style=\"text-align: right;\">\n      <th></th>\n      <th>archetype</th>\n      <th>transmission_level</th>\n      <th>cases_sac_baseline</th>\n      <th>cases_nonsac_baseline</th>\n      <th>cases_sac_comparator</th>\n      <th>cases_nonsac_comparator</th>\n      <th>cases_averted_sac</th>\n      <th>cases_averted_nonsac</th>\n    </tr>\n  </thead>\n  <tbody>\n    <tr>\n      <th>0</th>\n      <td>Sahel</td>\n      <td>0.05</td>\n      <td>1110.599547</td>\n      <td>1572.906179</td>\n      <td>378.992697</td>\n      <td>1002.293689</td>\n      <td>731.606850</td>\n      <td>570.612490</td>\n    </tr>\n    <tr>\n      <th>1</th>\n      <td>Sahel</td>\n      <td>0.10</td>\n      <td>1662.488704</td>\n      <td>2033.214395</td>\n      <td>606.497033</td>\n      <td>1404.862117</td>\n      <td>1055.991671</td>\n      <td>628.352277</td>\n    </tr>\n    <tr>\n      <th>2</th>\n      <td>Sahel</td>\n      <td>0.20</td>\n      <td>2162.266543</td>\n      <td>2363.305864</td>\n      <td>960.609169</td>\n      <td>1862.706386</td>\n      <td>1201.657374</td>\n      <td>500.599477</td>\n    </tr>\n    <tr>\n      <th>3</th>\n      <td>Sahel</td>\n      <td>0.30</td>\n      <td>2342.019809</td>\n      <td>2821.598593</td>\n      <td>1135.120455</td>\n      <td>2333.790239</td>\n      <td>1206.899354</td>\n      <td>487.808355</td>\n    </tr>\n    <tr>\n      <th>4</th>\n      <td>Sahel</td>\n      <td>0.40</td>\n      <td>2589.679529</td>\n      <td>3176.188953</td>\n      <td>1352.287656</td>\n      <td>2768.737343</td>\n      <td>1237.391872</td>\n      <td>407.451610</td>\n    </tr>\n  </tbody>\n</table>\n</div>"
     },
     "execution_count": 132,
     "metadata": {},
     "output_type": "execute_result"
    }
   ],
   "source": [
    "baseline = df[(df[\"scenario_number\"] == 0) & (df[\"archetype\"] == \"Sahel\")]\n",
    "comparator = df[(df[\"scenario_number\"] == 33) & (df[\"archetype\"] == \"Sahel\")] # u15 SMC DP \n",
    "\n",
    "baseline[\"cases_sac\"] = baseline[\"clinical_incidence6_15\"] * baseline[\"pop6_15\"]\n",
    "comparator[\"cases_sac\"] = comparator[\"clinical_incidence6_15\"] * comparator[\"pop6_15\"]\n",
    "\n",
    "baseline[\"cases_nonsac\"] = baseline[\"clinical_incidence0_5\"] * baseline[\"pop0_5\"] + baseline[\"clinical_incidence16_500\"] * baseline[\"pop16_500\"]\n",
    "comparator[\"cases_nonsac\"] = comparator[\"clinical_incidence0_5\"] * comparator[\"pop0_5\"] + comparator[\"clinical_incidence16_500\"] * comparator[\"pop16_500\"]\n",
    "\n",
    "compare = pd.merge(baseline[[\"archetype\", \"transmission_level\", \"cases_sac\", \"cases_nonsac\"]], \n",
    "                   comparator[[\"archetype\", \"transmission_level\", \"cases_sac\", \"cases_nonsac\"]], \n",
    "                   on=[\"archetype\", \"transmission_level\"], suffixes=(\"_baseline\", \"_comparator\"))\n",
    "\n",
    "compare[\"cases_averted_sac\"] = compare[\"cases_sac_baseline\"] - compare[\"cases_sac_comparator\"]\n",
    "compare[\"cases_averted_nonsac\"] = compare[\"cases_nonsac_baseline\"] - compare[\"cases_nonsac_comparator\"]\n",
    "compare"
   ],
   "metadata": {
    "collapsed": false,
    "ExecuteTime": {
     "end_time": "2024-10-14T23:46:24.790927Z",
     "start_time": "2024-10-14T23:46:24.732504Z"
    }
   },
   "id": "c8918180bfd00fc1",
   "execution_count": 132
  },
  {
   "cell_type": "code",
   "outputs": [
    {
     "data": {
      "text/plain": "0    0.658749\n1    0.635187\n2    0.555740\n3    0.515324\n4    0.477817\ndtype: float64"
     },
     "execution_count": 133,
     "metadata": {},
     "output_type": "execute_result"
    }
   ],
   "source": [
    "compare[\"cases_averted_sac\"]/compare[\"cases_sac_baseline\"]"
   ],
   "metadata": {
    "collapsed": false,
    "ExecuteTime": {
     "end_time": "2024-10-14T23:46:27.156389Z",
     "start_time": "2024-10-14T23:46:27.144378Z"
    }
   },
   "id": "7d03f352ba4750f4",
   "execution_count": 133
  },
  {
   "cell_type": "code",
   "outputs": [
    {
     "data": {
      "text/plain": "0    0.609672\n1    0.879993\n2    1.001381\n3    1.005749\n4    1.031160\nName: cases_averted_sac, dtype: float64"
     },
     "execution_count": 134,
     "metadata": {},
     "output_type": "execute_result"
    }
   ],
   "source": [
    "compare[\"cases_averted_sac\"]/1200"
   ],
   "metadata": {
    "collapsed": false,
    "ExecuteTime": {
     "end_time": "2024-10-14T23:46:27.640627Z",
     "start_time": "2024-10-14T23:46:27.631508Z"
    }
   },
   "id": "75162b35d13b0cdc",
   "execution_count": 134
  },
  {
   "cell_type": "code",
   "outputs": [
    {
     "data": {
      "text/plain": "0.9055911869157167"
     },
     "execution_count": 135,
     "metadata": {},
     "output_type": "execute_result"
    }
   ],
   "source": [
    "compare[\"cases_averted_sac\"].mean()/1200"
   ],
   "metadata": {
    "collapsed": false,
    "ExecuteTime": {
     "end_time": "2024-10-14T23:46:32.460474Z",
     "start_time": "2024-10-14T23:46:32.448475Z"
    }
   },
   "id": "8a196c5eace8e9fa",
   "execution_count": 135
  },
  {
   "cell_type": "markdown",
   "source": [
    "## DP monthly"
   ],
   "metadata": {
    "collapsed": false
   },
   "id": "a87a46ef89847837"
  },
  {
   "cell_type": "code",
   "outputs": [
    {
     "name": "stderr",
     "output_type": "stream",
     "text": [
      "C:\\Users\\joshsu\\AppData\\Local\\Temp\\ipykernel_9076\\743042381.py:4: SettingWithCopyWarning: \n",
      "A value is trying to be set on a copy of a slice from a DataFrame.\n",
      "Try using .loc[row_indexer,col_indexer] = value instead\n",
      "\n",
      "See the caveats in the documentation: https://pandas.pydata.org/pandas-docs/stable/user_guide/indexing.html#returning-a-view-versus-a-copy\n",
      "  baseline[\"cases_sac\"] = baseline[\"clinical_incidence6_15\"] * baseline[\"pop6_15\"]\n",
      "C:\\Users\\joshsu\\AppData\\Local\\Temp\\ipykernel_9076\\743042381.py:5: SettingWithCopyWarning: \n",
      "A value is trying to be set on a copy of a slice from a DataFrame.\n",
      "Try using .loc[row_indexer,col_indexer] = value instead\n",
      "\n",
      "See the caveats in the documentation: https://pandas.pydata.org/pandas-docs/stable/user_guide/indexing.html#returning-a-view-versus-a-copy\n",
      "  comparator[\"cases_sac\"] = comparator[\"clinical_incidence6_15\"] * comparator[\"pop6_15\"]\n",
      "C:\\Users\\joshsu\\AppData\\Local\\Temp\\ipykernel_9076\\743042381.py:7: SettingWithCopyWarning: \n",
      "A value is trying to be set on a copy of a slice from a DataFrame.\n",
      "Try using .loc[row_indexer,col_indexer] = value instead\n",
      "\n",
      "See the caveats in the documentation: https://pandas.pydata.org/pandas-docs/stable/user_guide/indexing.html#returning-a-view-versus-a-copy\n",
      "  baseline[\"cases_nonsac\"] = baseline[\"clinical_incidence0_5\"] * baseline[\"pop0_5\"] + baseline[\"clinical_incidence16_500\"] * baseline[\"pop16_500\"]\n",
      "C:\\Users\\joshsu\\AppData\\Local\\Temp\\ipykernel_9076\\743042381.py:8: SettingWithCopyWarning: \n",
      "A value is trying to be set on a copy of a slice from a DataFrame.\n",
      "Try using .loc[row_indexer,col_indexer] = value instead\n",
      "\n",
      "See the caveats in the documentation: https://pandas.pydata.org/pandas-docs/stable/user_guide/indexing.html#returning-a-view-versus-a-copy\n",
      "  comparator[\"cases_nonsac\"] = comparator[\"clinical_incidence0_5\"] * comparator[\"pop0_5\"] + comparator[\"clinical_incidence16_500\"] * comparator[\"pop16_500\"]\n"
     ]
    },
    {
     "data": {
      "text/plain": "  archetype  transmission_level  cases_sac_baseline  cases_nonsac_baseline  \\\n0     Sahel                0.05         1110.599547            1572.906179   \n1     Sahel                0.10         1662.488704            2033.214395   \n2     Sahel                0.20         2162.266543            2363.305864   \n3     Sahel                0.30         2342.019809            2821.598593   \n4     Sahel                0.40         2589.679529            3176.188953   \n\n   cases_sac_comparator  cases_nonsac_comparator  cases_averted_sac  \\\n0            200.861767               726.869259         909.737780   \n1            359.281888              1087.898225        1303.206815   \n2            698.304011              1724.440186        1463.962532   \n3            776.649389              2182.236351        1565.370420   \n4            823.033851              2632.343847        1766.645678   \n\n   cases_averted_nonsac  \n0            846.036920  \n1            945.316170  \n2            638.865678  \n3            639.362243  \n4            543.845106  ",
      "text/html": "<div>\n<style scoped>\n    .dataframe tbody tr th:only-of-type {\n        vertical-align: middle;\n    }\n\n    .dataframe tbody tr th {\n        vertical-align: top;\n    }\n\n    .dataframe thead th {\n        text-align: right;\n    }\n</style>\n<table border=\"1\" class=\"dataframe\">\n  <thead>\n    <tr style=\"text-align: right;\">\n      <th></th>\n      <th>archetype</th>\n      <th>transmission_level</th>\n      <th>cases_sac_baseline</th>\n      <th>cases_nonsac_baseline</th>\n      <th>cases_sac_comparator</th>\n      <th>cases_nonsac_comparator</th>\n      <th>cases_averted_sac</th>\n      <th>cases_averted_nonsac</th>\n    </tr>\n  </thead>\n  <tbody>\n    <tr>\n      <th>0</th>\n      <td>Sahel</td>\n      <td>0.05</td>\n      <td>1110.599547</td>\n      <td>1572.906179</td>\n      <td>200.861767</td>\n      <td>726.869259</td>\n      <td>909.737780</td>\n      <td>846.036920</td>\n    </tr>\n    <tr>\n      <th>1</th>\n      <td>Sahel</td>\n      <td>0.10</td>\n      <td>1662.488704</td>\n      <td>2033.214395</td>\n      <td>359.281888</td>\n      <td>1087.898225</td>\n      <td>1303.206815</td>\n      <td>945.316170</td>\n    </tr>\n    <tr>\n      <th>2</th>\n      <td>Sahel</td>\n      <td>0.20</td>\n      <td>2162.266543</td>\n      <td>2363.305864</td>\n      <td>698.304011</td>\n      <td>1724.440186</td>\n      <td>1463.962532</td>\n      <td>638.865678</td>\n    </tr>\n    <tr>\n      <th>3</th>\n      <td>Sahel</td>\n      <td>0.30</td>\n      <td>2342.019809</td>\n      <td>2821.598593</td>\n      <td>776.649389</td>\n      <td>2182.236351</td>\n      <td>1565.370420</td>\n      <td>639.362243</td>\n    </tr>\n    <tr>\n      <th>4</th>\n      <td>Sahel</td>\n      <td>0.40</td>\n      <td>2589.679529</td>\n      <td>3176.188953</td>\n      <td>823.033851</td>\n      <td>2632.343847</td>\n      <td>1766.645678</td>\n      <td>543.845106</td>\n    </tr>\n  </tbody>\n</table>\n</div>"
     },
     "execution_count": 137,
     "metadata": {},
     "output_type": "execute_result"
    }
   ],
   "source": [
    "baseline = df[(df[\"scenario_number\"] == 0) & (df[\"archetype\"] == \"Sahel\")]\n",
    "comparator = df[(df[\"scenario_number\"] == 9) & (df[\"archetype\"] == \"Sahel\")] # DP monthly\n",
    "\n",
    "baseline[\"cases_sac\"] = baseline[\"clinical_incidence6_15\"] * baseline[\"pop6_15\"]\n",
    "comparator[\"cases_sac\"] = comparator[\"clinical_incidence6_15\"] * comparator[\"pop6_15\"]\n",
    "\n",
    "baseline[\"cases_nonsac\"] = baseline[\"clinical_incidence0_5\"] * baseline[\"pop0_5\"] + baseline[\"clinical_incidence16_500\"] * baseline[\"pop16_500\"]\n",
    "comparator[\"cases_nonsac\"] = comparator[\"clinical_incidence0_5\"] * comparator[\"pop0_5\"] + comparator[\"clinical_incidence16_500\"] * comparator[\"pop16_500\"]\n",
    "\n",
    "compare = pd.merge(baseline[[\"archetype\", \"transmission_level\", \"cases_sac\", \"cases_nonsac\"]], \n",
    "                   comparator[[\"archetype\", \"transmission_level\", \"cases_sac\", \"cases_nonsac\"]], \n",
    "                   on=[\"archetype\", \"transmission_level\"], suffixes=(\"_baseline\", \"_comparator\"))\n",
    "\n",
    "compare[\"cases_averted_sac\"] = compare[\"cases_sac_baseline\"] - compare[\"cases_sac_comparator\"]\n",
    "compare[\"cases_averted_nonsac\"] = compare[\"cases_nonsac_baseline\"] - compare[\"cases_nonsac_comparator\"]\n",
    "compare"
   ],
   "metadata": {
    "collapsed": false,
    "ExecuteTime": {
     "end_time": "2024-10-14T23:47:16.834330Z",
     "start_time": "2024-10-14T23:47:16.792123Z"
    }
   },
   "id": "fe3f822bbea49658",
   "execution_count": 137
  },
  {
   "cell_type": "code",
   "outputs": [
    {
     "data": {
      "text/plain": "0    0.819141\n1    0.783889\n2    0.677050\n3    0.668385\n4    0.682187\ndtype: float64"
     },
     "execution_count": 138,
     "metadata": {},
     "output_type": "execute_result"
    }
   ],
   "source": [
    "compare[\"cases_averted_sac\"]/compare[\"cases_sac_baseline\"]"
   ],
   "metadata": {
    "collapsed": false,
    "ExecuteTime": {
     "end_time": "2024-10-14T23:47:19.233890Z",
     "start_time": "2024-10-14T23:47:19.207079Z"
    }
   },
   "id": "c99779e67b5176ca",
   "execution_count": 138
  },
  {
   "cell_type": "code",
   "outputs": [
    {
     "data": {
      "text/plain": "0    0.758115\n1    1.086006\n2    1.219969\n3    1.304475\n4    1.472205\nName: cases_averted_sac, dtype: float64"
     },
     "execution_count": 139,
     "metadata": {},
     "output_type": "execute_result"
    }
   ],
   "source": [
    "compare[\"cases_averted_sac\"]/1200"
   ],
   "metadata": {
    "collapsed": false,
    "ExecuteTime": {
     "end_time": "2024-10-14T23:47:39.311274Z",
     "start_time": "2024-10-14T23:47:39.298757Z"
    }
   },
   "id": "79be765f5b50ce19",
   "execution_count": 139
  },
  {
   "cell_type": "code",
   "outputs": [
    {
     "data": {
      "text/plain": "1.1681538709666008"
     },
     "execution_count": 140,
     "metadata": {},
     "output_type": "execute_result"
    }
   ],
   "source": [
    "compare[\"cases_averted_sac\"].mean()/1200"
   ],
   "metadata": {
    "collapsed": false,
    "ExecuteTime": {
     "end_time": "2024-10-14T23:47:42.669420Z",
     "start_time": "2024-10-14T23:47:42.656220Z"
    }
   },
   "id": "d100300f39ad75c7",
   "execution_count": 140
  },
  {
   "cell_type": "code",
   "outputs": [
    {
     "data": {
      "text/plain": "transmission_level\n0.05    570.766329\n0.10    584.743729\n0.20    562.566803\n0.30    565.756058\n0.40    543.284329\ndtype: float64"
     },
     "execution_count": 85,
     "metadata": {},
     "output_type": "execute_result"
    }
   ],
   "source": [
    "(foo[\"cases_averted_sac\"] + foo[\"cases_averted_nonsac\"])/5"
   ],
   "metadata": {
    "collapsed": false,
    "ExecuteTime": {
     "end_time": "2024-10-14T23:05:00.282661Z",
     "start_time": "2024-10-14T23:05:00.266531Z"
    }
   },
   "id": "32e77ef9a6ab87f2",
   "execution_count": 85
  },
  {
   "cell_type": "code",
   "outputs": [
    {
     "data": {
      "text/plain": "0     0.639202\n1     0.578803\n2     0.381225\n3     0.285542\n4     0.229223\n5     0.222641\n6     0.248767\n7     0.168123\n8     0.168253\n9     0.143117\n10    0.325787\n11    0.248093\n12    0.215850\n13    0.172393\n14    0.148104\nName: cases_averted_nonsac, dtype: float64"
     },
     "execution_count": 77,
     "metadata": {},
     "output_type": "execute_result"
    }
   ],
   "source": [
    "compare[\"cases_averted_nonsac\"]/3800 # cases per non-SAC"
   ],
   "metadata": {
    "collapsed": false,
    "ExecuteTime": {
     "end_time": "2024-10-14T22:58:59.139158Z",
     "start_time": "2024-10-14T22:58:59.112159Z"
    }
   },
   "id": "6f241c1b1319741d",
   "execution_count": 77
  },
  {
   "cell_type": "code",
   "outputs": [
    {
     "name": "stdout",
     "output_type": "stream",
     "text": [
      "1200.8416474091725\n",
      "2.079812109605321\n"
     ]
    }
   ],
   "source": [
    "print(df[\"pop6_15\"].mean())\n",
    "print(2497.525/df[\"pop6_15\"].mean())"
   ],
   "metadata": {
    "collapsed": false,
    "ExecuteTime": {
     "end_time": "2024-10-11T22:00:25.020441Z",
     "start_time": "2024-10-11T22:00:25.006444Z"
    }
   },
   "id": "38d8d5bdfc842ce1",
   "execution_count": 20
  },
  {
   "cell_type": "code",
   "outputs": [
    {
     "data": {
      "text/plain": "   archetype  transmission_level  cases_sac_baseline  cases_nonsac_baseline  \\\n0    Central                0.05         2395.386684            3651.082633   \n1    Central                0.10         2403.354331            3428.937645   \n2    Central                0.20         2986.875089            3666.974095   \n3    Central                0.30         3138.121765            3809.950521   \n4    Central                0.40         3047.513031            4246.804211   \n5      Sahel                0.05         1110.599547            1572.906179   \n6      Sahel                0.10         1662.488704            2033.214395   \n7      Sahel                0.20         2162.266543            2363.305864   \n8      Sahel                0.30         2342.019809            2821.598593   \n9      Sahel                0.40         2589.679529            3176.188953   \n10  Southern                0.05         1167.135057            2166.799617   \n11  Southern                0.10         1531.664384            2450.022302   \n12  Southern                0.20         2056.063429            2997.018294   \n13  Southern                0.30         2622.509760            3733.550585   \n14  Southern                0.40         2583.199843            3949.460649   \n\n    cases_sac_dp_monthly  cases_nonsac_dp_monthly  cases_averted  \\\n0             262.033318              1222.114903    2133.353366   \n1             274.549557              1229.487299    2128.804774   \n2             554.410605              2218.318654    2432.464483   \n3             640.596374              2724.892700    2497.525391   \n4             662.133995              3375.755847    2385.379036   \n5             200.861767               726.869259     909.737780   \n6             359.281888              1087.898225    1303.206815   \n7             698.304011              1724.440186    1463.962532   \n8             776.649389              2182.236351    1565.370420   \n9             823.033851              2632.343847    1766.645678   \n10            161.725125               928.810410    1005.409932   \n11            280.038109              1507.270754    1251.626275   \n12            421.739374              2176.788434    1634.324055   \n13            578.577665              3078.457679    2043.932095   \n14            563.647402              3386.666341    2019.552441   \n\n    cases_averted_sac  cases_averted_nonsac  \n0         2133.353366           2428.967729  \n1         2128.804774           2199.450346  \n2         2432.464483           1448.655441  \n3         2497.525391           1085.057820  \n4         2385.379036            871.048365  \n5          909.737780            846.036920  \n6         1303.206815            945.316170  \n7         1463.962532            638.865678  \n8         1565.370420            639.362243  \n9         1766.645678            543.845106  \n10        1005.409932           1237.989207  \n11        1251.626275            942.751549  \n12        1634.324055            820.229859  \n13        2043.932095            655.092907  \n14        2019.552441            562.794308  ",
      "text/html": "<div>\n<style scoped>\n    .dataframe tbody tr th:only-of-type {\n        vertical-align: middle;\n    }\n\n    .dataframe tbody tr th {\n        vertical-align: top;\n    }\n\n    .dataframe thead th {\n        text-align: right;\n    }\n</style>\n<table border=\"1\" class=\"dataframe\">\n  <thead>\n    <tr style=\"text-align: right;\">\n      <th></th>\n      <th>archetype</th>\n      <th>transmission_level</th>\n      <th>cases_sac_baseline</th>\n      <th>cases_nonsac_baseline</th>\n      <th>cases_sac_dp_monthly</th>\n      <th>cases_nonsac_dp_monthly</th>\n      <th>cases_averted</th>\n      <th>cases_averted_sac</th>\n      <th>cases_averted_nonsac</th>\n    </tr>\n  </thead>\n  <tbody>\n    <tr>\n      <th>0</th>\n      <td>Central</td>\n      <td>0.05</td>\n      <td>2395.386684</td>\n      <td>3651.082633</td>\n      <td>262.033318</td>\n      <td>1222.114903</td>\n      <td>2133.353366</td>\n      <td>2133.353366</td>\n      <td>2428.967729</td>\n    </tr>\n    <tr>\n      <th>1</th>\n      <td>Central</td>\n      <td>0.10</td>\n      <td>2403.354331</td>\n      <td>3428.937645</td>\n      <td>274.549557</td>\n      <td>1229.487299</td>\n      <td>2128.804774</td>\n      <td>2128.804774</td>\n      <td>2199.450346</td>\n    </tr>\n    <tr>\n      <th>2</th>\n      <td>Central</td>\n      <td>0.20</td>\n      <td>2986.875089</td>\n      <td>3666.974095</td>\n      <td>554.410605</td>\n      <td>2218.318654</td>\n      <td>2432.464483</td>\n      <td>2432.464483</td>\n      <td>1448.655441</td>\n    </tr>\n    <tr>\n      <th>3</th>\n      <td>Central</td>\n      <td>0.30</td>\n      <td>3138.121765</td>\n      <td>3809.950521</td>\n      <td>640.596374</td>\n      <td>2724.892700</td>\n      <td>2497.525391</td>\n      <td>2497.525391</td>\n      <td>1085.057820</td>\n    </tr>\n    <tr>\n      <th>4</th>\n      <td>Central</td>\n      <td>0.40</td>\n      <td>3047.513031</td>\n      <td>4246.804211</td>\n      <td>662.133995</td>\n      <td>3375.755847</td>\n      <td>2385.379036</td>\n      <td>2385.379036</td>\n      <td>871.048365</td>\n    </tr>\n    <tr>\n      <th>5</th>\n      <td>Sahel</td>\n      <td>0.05</td>\n      <td>1110.599547</td>\n      <td>1572.906179</td>\n      <td>200.861767</td>\n      <td>726.869259</td>\n      <td>909.737780</td>\n      <td>909.737780</td>\n      <td>846.036920</td>\n    </tr>\n    <tr>\n      <th>6</th>\n      <td>Sahel</td>\n      <td>0.10</td>\n      <td>1662.488704</td>\n      <td>2033.214395</td>\n      <td>359.281888</td>\n      <td>1087.898225</td>\n      <td>1303.206815</td>\n      <td>1303.206815</td>\n      <td>945.316170</td>\n    </tr>\n    <tr>\n      <th>7</th>\n      <td>Sahel</td>\n      <td>0.20</td>\n      <td>2162.266543</td>\n      <td>2363.305864</td>\n      <td>698.304011</td>\n      <td>1724.440186</td>\n      <td>1463.962532</td>\n      <td>1463.962532</td>\n      <td>638.865678</td>\n    </tr>\n    <tr>\n      <th>8</th>\n      <td>Sahel</td>\n      <td>0.30</td>\n      <td>2342.019809</td>\n      <td>2821.598593</td>\n      <td>776.649389</td>\n      <td>2182.236351</td>\n      <td>1565.370420</td>\n      <td>1565.370420</td>\n      <td>639.362243</td>\n    </tr>\n    <tr>\n      <th>9</th>\n      <td>Sahel</td>\n      <td>0.40</td>\n      <td>2589.679529</td>\n      <td>3176.188953</td>\n      <td>823.033851</td>\n      <td>2632.343847</td>\n      <td>1766.645678</td>\n      <td>1766.645678</td>\n      <td>543.845106</td>\n    </tr>\n    <tr>\n      <th>10</th>\n      <td>Southern</td>\n      <td>0.05</td>\n      <td>1167.135057</td>\n      <td>2166.799617</td>\n      <td>161.725125</td>\n      <td>928.810410</td>\n      <td>1005.409932</td>\n      <td>1005.409932</td>\n      <td>1237.989207</td>\n    </tr>\n    <tr>\n      <th>11</th>\n      <td>Southern</td>\n      <td>0.10</td>\n      <td>1531.664384</td>\n      <td>2450.022302</td>\n      <td>280.038109</td>\n      <td>1507.270754</td>\n      <td>1251.626275</td>\n      <td>1251.626275</td>\n      <td>942.751549</td>\n    </tr>\n    <tr>\n      <th>12</th>\n      <td>Southern</td>\n      <td>0.20</td>\n      <td>2056.063429</td>\n      <td>2997.018294</td>\n      <td>421.739374</td>\n      <td>2176.788434</td>\n      <td>1634.324055</td>\n      <td>1634.324055</td>\n      <td>820.229859</td>\n    </tr>\n    <tr>\n      <th>13</th>\n      <td>Southern</td>\n      <td>0.30</td>\n      <td>2622.509760</td>\n      <td>3733.550585</td>\n      <td>578.577665</td>\n      <td>3078.457679</td>\n      <td>2043.932095</td>\n      <td>2043.932095</td>\n      <td>655.092907</td>\n    </tr>\n    <tr>\n      <th>14</th>\n      <td>Southern</td>\n      <td>0.40</td>\n      <td>2583.199843</td>\n      <td>3949.460649</td>\n      <td>563.647402</td>\n      <td>3386.666341</td>\n      <td>2019.552441</td>\n      <td>2019.552441</td>\n      <td>562.794308</td>\n    </tr>\n  </tbody>\n</table>\n</div>"
     },
     "execution_count": 23,
     "metadata": {},
     "output_type": "execute_result"
    }
   ],
   "source": [
    "compare[\"cases_averted_nonsac\"] = compare[\"cases_nonsac_baseline\"] - compare[\"cases_nonsac_dp_monthly\"]\n",
    "compare"
   ],
   "metadata": {
    "collapsed": false,
    "ExecuteTime": {
     "end_time": "2024-10-11T22:01:05.635404Z",
     "start_time": "2024-10-11T22:01:05.603407Z"
    }
   },
   "id": "84991d06f1d407b4",
   "execution_count": 23
  },
  {
   "cell_type": "code",
   "outputs": [
    {
     "name": "stdout",
     "output_type": "stream",
     "text": [
      "3801.5214758784996\n",
      "0.6389462073047176\n"
     ]
    }
   ],
   "source": [
    "print(df[\"pop0_5\"].mean()+df[\"pop16_500\"].mean())\n",
    "print(2428.967729/(df[\"pop0_5\"].mean()+df[\"pop16_500\"].mean()))"
   ],
   "metadata": {
    "collapsed": false,
    "ExecuteTime": {
     "end_time": "2024-10-11T22:01:29.760148Z",
     "start_time": "2024-10-11T22:01:29.748148Z"
    }
   },
   "id": "4555c76a4c07ef43",
   "execution_count": 24
  },
  {
   "cell_type": "code",
   "outputs": [],
   "source": [],
   "metadata": {
    "collapsed": false
   },
   "id": "780fbde83282380"
  },
  {
   "cell_type": "code",
   "outputs": [
    {
     "name": "stderr",
     "output_type": "stream",
     "text": [
      "C:\\Users\\joshsu\\AppData\\Local\\Temp\\ipykernel_9076\\3840358527.py:3: SettingWithCopyWarning: \n",
      "A value is trying to be set on a copy of a slice from a DataFrame.\n",
      "Try using .loc[row_indexer,col_indexer] = value instead\n",
      "\n",
      "See the caveats in the documentation: https://pandas.pydata.org/pandas-docs/stable/user_guide/indexing.html#returning-a-view-versus-a-copy\n",
      "  dp_term[\"cases_sac\"] = dp_term[\"clinical_incidence6_15\"] * dp_term[\"pop6_15\"]\n",
      "C:\\Users\\joshsu\\AppData\\Local\\Temp\\ipykernel_9076\\3840358527.py:4: SettingWithCopyWarning: \n",
      "A value is trying to be set on a copy of a slice from a DataFrame.\n",
      "Try using .loc[row_indexer,col_indexer] = value instead\n",
      "\n",
      "See the caveats in the documentation: https://pandas.pydata.org/pandas-docs/stable/user_guide/indexing.html#returning-a-view-versus-a-copy\n",
      "  dp_term[\"cases_nonsac\"] = dp_term[\"clinical_incidence0_5\"] * dp_term[\"pop0_5\"] + dp_term[\"clinical_incidence16_500\"] * dp_term[\"pop16_500\"]\n"
     ]
    },
    {
     "data": {
      "text/plain": "   archetype  transmission_level  cases_sac_baseline  cases_nonsac_baseline  \\\n0    Central                0.05         2395.386684            3651.082633   \n1    Central                0.10         2403.354331            3428.937645   \n2    Central                0.20         2986.875089            3666.974095   \n3    Central                0.30         3138.121765            3809.950521   \n4    Central                0.40         3047.513031            4246.804211   \n5      Sahel                0.05         1110.599547            1572.906179   \n6      Sahel                0.10         1662.488704            2033.214395   \n7      Sahel                0.20         2162.266543            2363.305864   \n8      Sahel                0.30         2342.019809            2821.598593   \n9      Sahel                0.40         2589.679529            3176.188953   \n10  Southern                0.05         1167.135057            2166.799617   \n11  Southern                0.10         1531.664384            2450.022302   \n12  Southern                0.20         2056.063429            2997.018294   \n13  Southern                0.30         2622.509760            3733.550585   \n14  Southern                0.40         2583.199843            3949.460649   \n\n    cases_sac_dp_term  cases_nonsac_dp_term  cases_averted_sac  \\\n0         1257.645691           2490.758999        1137.740992   \n1         1241.092791           2346.642371        1162.261540   \n2         1690.956550           2917.177183        1295.918539   \n3         1756.526102           3174.514226        1381.595663   \n4         1658.577970           3680.221035        1388.935062   \n5          495.846714            972.561298         614.752833   \n6          842.968071           1416.319498         819.520633   \n7         1234.426193           1915.114756         927.840350   \n8         1257.555220           2362.990172        1084.464589   \n9         1289.838728           2799.091228        1299.840801   \n10         586.020762           1338.723152         581.114296   \n11         939.360873           1872.757895         592.303511   \n12        1282.587607           2504.124476         773.475822   \n13        1485.958426           3303.902097        1136.551335   \n14        1328.154901           3558.265132        1255.044942   \n\n    cases_averted_nonsac  \n0            1160.323634  \n1            1082.295275  \n2             749.796912  \n3             635.436295  \n4             566.583176  \n5             600.344881  \n6             616.894897  \n7             448.191108  \n8             458.608422  \n9             377.097725  \n10            828.076466  \n11            577.264407  \n12            492.893818  \n13            429.648488  \n14            391.195517  ",
      "text/html": "<div>\n<style scoped>\n    .dataframe tbody tr th:only-of-type {\n        vertical-align: middle;\n    }\n\n    .dataframe tbody tr th {\n        vertical-align: top;\n    }\n\n    .dataframe thead th {\n        text-align: right;\n    }\n</style>\n<table border=\"1\" class=\"dataframe\">\n  <thead>\n    <tr style=\"text-align: right;\">\n      <th></th>\n      <th>archetype</th>\n      <th>transmission_level</th>\n      <th>cases_sac_baseline</th>\n      <th>cases_nonsac_baseline</th>\n      <th>cases_sac_dp_term</th>\n      <th>cases_nonsac_dp_term</th>\n      <th>cases_averted_sac</th>\n      <th>cases_averted_nonsac</th>\n    </tr>\n  </thead>\n  <tbody>\n    <tr>\n      <th>0</th>\n      <td>Central</td>\n      <td>0.05</td>\n      <td>2395.386684</td>\n      <td>3651.082633</td>\n      <td>1257.645691</td>\n      <td>2490.758999</td>\n      <td>1137.740992</td>\n      <td>1160.323634</td>\n    </tr>\n    <tr>\n      <th>1</th>\n      <td>Central</td>\n      <td>0.10</td>\n      <td>2403.354331</td>\n      <td>3428.937645</td>\n      <td>1241.092791</td>\n      <td>2346.642371</td>\n      <td>1162.261540</td>\n      <td>1082.295275</td>\n    </tr>\n    <tr>\n      <th>2</th>\n      <td>Central</td>\n      <td>0.20</td>\n      <td>2986.875089</td>\n      <td>3666.974095</td>\n      <td>1690.956550</td>\n      <td>2917.177183</td>\n      <td>1295.918539</td>\n      <td>749.796912</td>\n    </tr>\n    <tr>\n      <th>3</th>\n      <td>Central</td>\n      <td>0.30</td>\n      <td>3138.121765</td>\n      <td>3809.950521</td>\n      <td>1756.526102</td>\n      <td>3174.514226</td>\n      <td>1381.595663</td>\n      <td>635.436295</td>\n    </tr>\n    <tr>\n      <th>4</th>\n      <td>Central</td>\n      <td>0.40</td>\n      <td>3047.513031</td>\n      <td>4246.804211</td>\n      <td>1658.577970</td>\n      <td>3680.221035</td>\n      <td>1388.935062</td>\n      <td>566.583176</td>\n    </tr>\n    <tr>\n      <th>5</th>\n      <td>Sahel</td>\n      <td>0.05</td>\n      <td>1110.599547</td>\n      <td>1572.906179</td>\n      <td>495.846714</td>\n      <td>972.561298</td>\n      <td>614.752833</td>\n      <td>600.344881</td>\n    </tr>\n    <tr>\n      <th>6</th>\n      <td>Sahel</td>\n      <td>0.10</td>\n      <td>1662.488704</td>\n      <td>2033.214395</td>\n      <td>842.968071</td>\n      <td>1416.319498</td>\n      <td>819.520633</td>\n      <td>616.894897</td>\n    </tr>\n    <tr>\n      <th>7</th>\n      <td>Sahel</td>\n      <td>0.20</td>\n      <td>2162.266543</td>\n      <td>2363.305864</td>\n      <td>1234.426193</td>\n      <td>1915.114756</td>\n      <td>927.840350</td>\n      <td>448.191108</td>\n    </tr>\n    <tr>\n      <th>8</th>\n      <td>Sahel</td>\n      <td>0.30</td>\n      <td>2342.019809</td>\n      <td>2821.598593</td>\n      <td>1257.555220</td>\n      <td>2362.990172</td>\n      <td>1084.464589</td>\n      <td>458.608422</td>\n    </tr>\n    <tr>\n      <th>9</th>\n      <td>Sahel</td>\n      <td>0.40</td>\n      <td>2589.679529</td>\n      <td>3176.188953</td>\n      <td>1289.838728</td>\n      <td>2799.091228</td>\n      <td>1299.840801</td>\n      <td>377.097725</td>\n    </tr>\n    <tr>\n      <th>10</th>\n      <td>Southern</td>\n      <td>0.05</td>\n      <td>1167.135057</td>\n      <td>2166.799617</td>\n      <td>586.020762</td>\n      <td>1338.723152</td>\n      <td>581.114296</td>\n      <td>828.076466</td>\n    </tr>\n    <tr>\n      <th>11</th>\n      <td>Southern</td>\n      <td>0.10</td>\n      <td>1531.664384</td>\n      <td>2450.022302</td>\n      <td>939.360873</td>\n      <td>1872.757895</td>\n      <td>592.303511</td>\n      <td>577.264407</td>\n    </tr>\n    <tr>\n      <th>12</th>\n      <td>Southern</td>\n      <td>0.20</td>\n      <td>2056.063429</td>\n      <td>2997.018294</td>\n      <td>1282.587607</td>\n      <td>2504.124476</td>\n      <td>773.475822</td>\n      <td>492.893818</td>\n    </tr>\n    <tr>\n      <th>13</th>\n      <td>Southern</td>\n      <td>0.30</td>\n      <td>2622.509760</td>\n      <td>3733.550585</td>\n      <td>1485.958426</td>\n      <td>3303.902097</td>\n      <td>1136.551335</td>\n      <td>429.648488</td>\n    </tr>\n    <tr>\n      <th>14</th>\n      <td>Southern</td>\n      <td>0.40</td>\n      <td>2583.199843</td>\n      <td>3949.460649</td>\n      <td>1328.154901</td>\n      <td>3558.265132</td>\n      <td>1255.044942</td>\n      <td>391.195517</td>\n    </tr>\n  </tbody>\n</table>\n</div>"
     },
     "execution_count": 25,
     "metadata": {},
     "output_type": "execute_result"
    }
   ],
   "source": [
    "# Do all of the above, but now comparing scenario 0 (baseline) with scenario 8 (DP each term)\n",
    "dp_term = df[df[\"scenario_number\"] == 8]\n",
    "dp_term[\"cases_sac\"] = dp_term[\"clinical_incidence6_15\"] * dp_term[\"pop6_15\"]\n",
    "dp_term[\"cases_nonsac\"] = dp_term[\"clinical_incidence0_5\"] * dp_term[\"pop0_5\"] + dp_term[\"clinical_incidence16_500\"] * dp_term[\"pop16_500\"]\n",
    "\n",
    "compare_term = pd.merge(baseline[[\"archetype\", \"transmission_level\", \"cases_sac\", \"cases_nonsac\"]],\n",
    "                        dp_term[[\"archetype\", \"transmission_level\", \"cases_sac\", \"cases_nonsac\"]],\n",
    "                        on=[\"archetype\", \"transmission_level\"], suffixes=(\"_baseline\", \"_dp_term\"))\n",
    "\n",
    "compare_term[\"cases_averted_sac\"] = compare_term[\"cases_sac_baseline\"] - compare_term[\"cases_sac_dp_term\"]\n",
    "compare_term[\"cases_averted_nonsac\"] = compare_term[\"cases_nonsac_baseline\"] - compare_term[\"cases_nonsac_dp_term\"]\n",
    "compare_term"
   ],
   "metadata": {
    "collapsed": false,
    "ExecuteTime": {
     "end_time": "2024-10-11T22:03:49.381143Z",
     "start_time": "2024-10-11T22:03:49.341146Z"
    }
   },
   "id": "2d09df1e5ab0d6a",
   "execution_count": 25
  },
  {
   "cell_type": "code",
   "outputs": [
    {
     "data": {
      "text/plain": "1.157445885"
     },
     "execution_count": 26,
     "metadata": {},
     "output_type": "execute_result"
    }
   ],
   "source": [
    "1388.935062/1200"
   ],
   "metadata": {
    "collapsed": false,
    "ExecuteTime": {
     "end_time": "2024-10-11T22:04:24.443947Z",
     "start_time": "2024-10-11T22:04:24.424920Z"
    }
   },
   "id": "47baffafbf893e13",
   "execution_count": 26
  },
  {
   "cell_type": "code",
   "outputs": [
    {
     "data": {
      "text/plain": "0.30534832473684215"
     },
     "execution_count": 27,
     "metadata": {},
     "output_type": "execute_result"
    }
   ],
   "source": [
    "1160.323634/3800"
   ],
   "metadata": {
    "collapsed": false,
    "ExecuteTime": {
     "end_time": "2024-10-11T22:05:07.361169Z",
     "start_time": "2024-10-11T22:05:07.351178Z"
    }
   },
   "id": "1c24e8bed0a341b4",
   "execution_count": 27
  },
  {
   "cell_type": "code",
   "outputs": [
    {
     "name": "stderr",
     "output_type": "stream",
     "text": [
      "C:\\Users\\joshsu\\AppData\\Local\\Temp\\ipykernel_9076\\1408693016.py:3: SettingWithCopyWarning: \n",
      "A value is trying to be set on a copy of a slice from a DataFrame.\n",
      "Try using .loc[row_indexer,col_indexer] = value instead\n",
      "\n",
      "See the caveats in the documentation: https://pandas.pydata.org/pandas-docs/stable/user_guide/indexing.html#returning-a-view-versus-a-copy\n",
      "  higher_itn[\"cases_sac\"] = higher_itn[\"clinical_incidence6_15\"] * higher_itn[\"pop6_15\"]\n",
      "C:\\Users\\joshsu\\AppData\\Local\\Temp\\ipykernel_9076\\1408693016.py:4: SettingWithCopyWarning: \n",
      "A value is trying to be set on a copy of a slice from a DataFrame.\n",
      "Try using .loc[row_indexer,col_indexer] = value instead\n",
      "\n",
      "See the caveats in the documentation: https://pandas.pydata.org/pandas-docs/stable/user_guide/indexing.html#returning-a-view-versus-a-copy\n",
      "  higher_itn[\"cases_nonsac\"] = higher_itn[\"clinical_incidence0_5\"] * higher_itn[\"pop0_5\"] + higher_itn[\"clinical_incidence16_500\"] * higher_itn[\"pop16_500\"]\n"
     ]
    },
    {
     "data": {
      "text/plain": "   archetype  transmission_level  cases_sac_baseline  cases_nonsac_baseline  \\\n0    Central                0.05         2395.386684            3651.082633   \n1    Central                0.10         2403.354331            3428.937645   \n2    Central                0.20         2986.875089            3666.974095   \n3    Central                0.30         3138.121765            3809.950521   \n4    Central                0.40         3047.513031            4246.804211   \n5      Sahel                0.05         1110.599547            1572.906179   \n6      Sahel                0.10         1662.488704            2033.214395   \n7      Sahel                0.20         2162.266543            2363.305864   \n8      Sahel                0.30         2342.019809            2821.598593   \n9      Sahel                0.40         2589.679529            3176.188953   \n10  Southern                0.05         1167.135057            2166.799617   \n11  Southern                0.10         1531.664384            2450.022302   \n12  Southern                0.20         2056.063429            2997.018294   \n13  Southern                0.30         2622.509760            3733.550585   \n14  Southern                0.40         2583.199843            3949.460649   \n\n    cases_sac_dp_term  cases_nonsac_dp_term  cases_averted_sac  \\\n0         2067.218548           3103.724215         328.168136   \n1         2136.448484           2980.786368         266.905847   \n2         2950.843749           3563.972898          36.031340   \n3         3108.153359           3721.730482          29.968406   \n4         3033.788219           4178.486402          13.724812   \n5          899.344256           1221.493252         211.255291   \n6         1495.844229           1775.266857         166.644475   \n7         2025.869376           2167.392077         136.397166   \n8         2217.583739           2604.331832         124.436070   \n9         2491.097352           2975.038361          98.582176   \n10        1058.313788           1895.045606         108.821269   \n11        1447.921213           2284.058117          83.743171   \n12        1998.950583           2873.952781          57.112846   \n13        2583.115713           3636.244419          39.394047   \n14        2569.971554           3882.888858          13.228289   \n\n    cases_averted_nonsac  \n0             547.358417  \n1             448.151277  \n2             103.001197  \n3              88.220039  \n4              68.317809  \n5             351.412927  \n6             257.947538  \n7             195.913787  \n8             217.266762  \n9             201.150592  \n10            271.754011  \n11            165.964185  \n12            123.065513  \n13             97.306166  \n14             66.571790  ",
      "text/html": "<div>\n<style scoped>\n    .dataframe tbody tr th:only-of-type {\n        vertical-align: middle;\n    }\n\n    .dataframe tbody tr th {\n        vertical-align: top;\n    }\n\n    .dataframe thead th {\n        text-align: right;\n    }\n</style>\n<table border=\"1\" class=\"dataframe\">\n  <thead>\n    <tr style=\"text-align: right;\">\n      <th></th>\n      <th>archetype</th>\n      <th>transmission_level</th>\n      <th>cases_sac_baseline</th>\n      <th>cases_nonsac_baseline</th>\n      <th>cases_sac_dp_term</th>\n      <th>cases_nonsac_dp_term</th>\n      <th>cases_averted_sac</th>\n      <th>cases_averted_nonsac</th>\n    </tr>\n  </thead>\n  <tbody>\n    <tr>\n      <th>0</th>\n      <td>Central</td>\n      <td>0.05</td>\n      <td>2395.386684</td>\n      <td>3651.082633</td>\n      <td>2067.218548</td>\n      <td>3103.724215</td>\n      <td>328.168136</td>\n      <td>547.358417</td>\n    </tr>\n    <tr>\n      <th>1</th>\n      <td>Central</td>\n      <td>0.10</td>\n      <td>2403.354331</td>\n      <td>3428.937645</td>\n      <td>2136.448484</td>\n      <td>2980.786368</td>\n      <td>266.905847</td>\n      <td>448.151277</td>\n    </tr>\n    <tr>\n      <th>2</th>\n      <td>Central</td>\n      <td>0.20</td>\n      <td>2986.875089</td>\n      <td>3666.974095</td>\n      <td>2950.843749</td>\n      <td>3563.972898</td>\n      <td>36.031340</td>\n      <td>103.001197</td>\n    </tr>\n    <tr>\n      <th>3</th>\n      <td>Central</td>\n      <td>0.30</td>\n      <td>3138.121765</td>\n      <td>3809.950521</td>\n      <td>3108.153359</td>\n      <td>3721.730482</td>\n      <td>29.968406</td>\n      <td>88.220039</td>\n    </tr>\n    <tr>\n      <th>4</th>\n      <td>Central</td>\n      <td>0.40</td>\n      <td>3047.513031</td>\n      <td>4246.804211</td>\n      <td>3033.788219</td>\n      <td>4178.486402</td>\n      <td>13.724812</td>\n      <td>68.317809</td>\n    </tr>\n    <tr>\n      <th>5</th>\n      <td>Sahel</td>\n      <td>0.05</td>\n      <td>1110.599547</td>\n      <td>1572.906179</td>\n      <td>899.344256</td>\n      <td>1221.493252</td>\n      <td>211.255291</td>\n      <td>351.412927</td>\n    </tr>\n    <tr>\n      <th>6</th>\n      <td>Sahel</td>\n      <td>0.10</td>\n      <td>1662.488704</td>\n      <td>2033.214395</td>\n      <td>1495.844229</td>\n      <td>1775.266857</td>\n      <td>166.644475</td>\n      <td>257.947538</td>\n    </tr>\n    <tr>\n      <th>7</th>\n      <td>Sahel</td>\n      <td>0.20</td>\n      <td>2162.266543</td>\n      <td>2363.305864</td>\n      <td>2025.869376</td>\n      <td>2167.392077</td>\n      <td>136.397166</td>\n      <td>195.913787</td>\n    </tr>\n    <tr>\n      <th>8</th>\n      <td>Sahel</td>\n      <td>0.30</td>\n      <td>2342.019809</td>\n      <td>2821.598593</td>\n      <td>2217.583739</td>\n      <td>2604.331832</td>\n      <td>124.436070</td>\n      <td>217.266762</td>\n    </tr>\n    <tr>\n      <th>9</th>\n      <td>Sahel</td>\n      <td>0.40</td>\n      <td>2589.679529</td>\n      <td>3176.188953</td>\n      <td>2491.097352</td>\n      <td>2975.038361</td>\n      <td>98.582176</td>\n      <td>201.150592</td>\n    </tr>\n    <tr>\n      <th>10</th>\n      <td>Southern</td>\n      <td>0.05</td>\n      <td>1167.135057</td>\n      <td>2166.799617</td>\n      <td>1058.313788</td>\n      <td>1895.045606</td>\n      <td>108.821269</td>\n      <td>271.754011</td>\n    </tr>\n    <tr>\n      <th>11</th>\n      <td>Southern</td>\n      <td>0.10</td>\n      <td>1531.664384</td>\n      <td>2450.022302</td>\n      <td>1447.921213</td>\n      <td>2284.058117</td>\n      <td>83.743171</td>\n      <td>165.964185</td>\n    </tr>\n    <tr>\n      <th>12</th>\n      <td>Southern</td>\n      <td>0.20</td>\n      <td>2056.063429</td>\n      <td>2997.018294</td>\n      <td>1998.950583</td>\n      <td>2873.952781</td>\n      <td>57.112846</td>\n      <td>123.065513</td>\n    </tr>\n    <tr>\n      <th>13</th>\n      <td>Southern</td>\n      <td>0.30</td>\n      <td>2622.509760</td>\n      <td>3733.550585</td>\n      <td>2583.115713</td>\n      <td>3636.244419</td>\n      <td>39.394047</td>\n      <td>97.306166</td>\n    </tr>\n    <tr>\n      <th>14</th>\n      <td>Southern</td>\n      <td>0.40</td>\n      <td>2583.199843</td>\n      <td>3949.460649</td>\n      <td>2569.971554</td>\n      <td>3882.888858</td>\n      <td>13.228289</td>\n      <td>66.571790</td>\n    </tr>\n  </tbody>\n</table>\n</div>"
     },
     "execution_count": 29,
     "metadata": {},
     "output_type": "execute_result"
    }
   ],
   "source": [
    "# Do all of the above, but now comparing scenario 0 (baseline) with scenario 5 (higher ITN coverage)\n",
    "higher_itn = df[df[\"scenario_number\"] == 5]\n",
    "higher_itn[\"cases_sac\"] = higher_itn[\"clinical_incidence6_15\"] * higher_itn[\"pop6_15\"]\n",
    "higher_itn[\"cases_nonsac\"] = higher_itn[\"clinical_incidence0_5\"] * higher_itn[\"pop0_5\"] + higher_itn[\"clinical_incidence16_500\"] * higher_itn[\"pop16_500\"]\n",
    "\n",
    "compare_term = pd.merge(baseline[[\"archetype\", \"transmission_level\", \"cases_sac\", \"cases_nonsac\"]],\n",
    "                        higher_itn[[\"archetype\", \"transmission_level\", \"cases_sac\", \"cases_nonsac\"]],\n",
    "                        on=[\"archetype\", \"transmission_level\"], suffixes=(\"_baseline\", \"_dp_term\"))\n",
    "\n",
    "compare_term[\"cases_averted_sac\"] = compare_term[\"cases_sac_baseline\"] - compare_term[\"cases_sac_dp_term\"]\n",
    "compare_term[\"cases_averted_nonsac\"] = compare_term[\"cases_nonsac_baseline\"] - compare_term[\"cases_nonsac_dp_term\"]\n",
    "compare_term"
   ],
   "metadata": {
    "collapsed": false,
    "ExecuteTime": {
     "end_time": "2024-10-14T20:48:22.392204Z",
     "start_time": "2024-10-14T20:48:22.340200Z"
    }
   },
   "id": "459ef181e449be56",
   "execution_count": 29
  },
  {
   "cell_type": "code",
   "outputs": [
    {
     "data": {
      "text/plain": "0.06098267910760182"
     },
     "execution_count": 33,
     "metadata": {},
     "output_type": "execute_result"
    }
   ],
   "source": [
    "np.mean(compare_term[\"cases_averted_sac\"]/compare_term[\"cases_sac_baseline\"])"
   ],
   "metadata": {
    "collapsed": false,
    "ExecuteTime": {
     "end_time": "2024-10-14T20:50:08.255870Z",
     "start_time": "2024-10-14T20:50:08.231875Z"
    }
   },
   "id": "f9b331853f67272d",
   "execution_count": 33
  },
  {
   "cell_type": "code",
   "outputs": [
    {
     "data": {
      "text/plain": "0.07990641938499583"
     },
     "execution_count": 34,
     "metadata": {},
     "output_type": "execute_result"
    }
   ],
   "source": [
    "np.mean(compare_term[\"cases_averted_nonsac\"]/compare_term[\"cases_nonsac_baseline\"])"
   ],
   "metadata": {
    "collapsed": false,
    "ExecuteTime": {
     "end_time": "2024-10-14T20:50:18.206589Z",
     "start_time": "2024-10-14T20:50:18.191611Z"
    }
   },
   "id": "e58c76d1e36f793",
   "execution_count": 34
  },
  {
   "cell_type": "code",
   "outputs": [
    {
     "data": {
      "text/plain": "65.57087138677996"
     },
     "execution_count": 37,
     "metadata": {},
     "output_type": "execute_result"
    }
   ],
   "source": [
    "np.mean(compare_term[\"cases_averted_sac\"]+compare_term[\"cases_averted_nonsac\"])/5"
   ],
   "metadata": {
    "collapsed": false,
    "ExecuteTime": {
     "end_time": "2024-10-14T20:51:57.879658Z",
     "start_time": "2024-10-14T20:51:57.867616Z"
    }
   },
   "id": "bb26b8d3ee2bd728",
   "execution_count": 37
  },
  {
   "cell_type": "code",
   "outputs": [
    {
     "data": {
      "text/plain": "600.0"
     },
     "execution_count": 38,
     "metadata": {},
     "output_type": "execute_result"
    }
   ],
   "source": [
    "0.6*1000"
   ],
   "metadata": {
    "collapsed": false,
    "ExecuteTime": {
     "end_time": "2024-10-14T20:53:46.256602Z",
     "start_time": "2024-10-14T20:53:46.242570Z"
    }
   },
   "id": "d61311cec5b6f66f",
   "execution_count": 38
  },
  {
   "cell_type": "code",
   "outputs": [
    {
     "name": "stderr",
     "output_type": "stream",
     "text": [
      "C:\\Users\\joshsu\\AppData\\Local\\Temp\\ipykernel_9076\\2848895052.py:3: SettingWithCopyWarning: \n",
      "A value is trying to be set on a copy of a slice from a DataFrame.\n",
      "Try using .loc[row_indexer,col_indexer] = value instead\n",
      "\n",
      "See the caveats in the documentation: https://pandas.pydata.org/pandas-docs/stable/user_guide/indexing.html#returning-a-view-versus-a-copy\n",
      "  shorter_drug_monthly[\"cases_sac\"] = shorter_drug_monthly[\"clinical_incidence6_15\"] * shorter_drug_monthly[\"pop6_15\"]\n",
      "C:\\Users\\joshsu\\AppData\\Local\\Temp\\ipykernel_9076\\2848895052.py:4: SettingWithCopyWarning: \n",
      "A value is trying to be set on a copy of a slice from a DataFrame.\n",
      "Try using .loc[row_indexer,col_indexer] = value instead\n",
      "\n",
      "See the caveats in the documentation: https://pandas.pydata.org/pandas-docs/stable/user_guide/indexing.html#returning-a-view-versus-a-copy\n",
      "  shorter_drug_monthly[\"cases_nonsac\"] = shorter_drug_monthly[\"clinical_incidence0_5\"] * shorter_drug_monthly[\"pop0_5\"] + shorter_drug_monthly[\"clinical_incidence16_500\"] * shorter_drug_monthly[\"pop16_500\"]\n"
     ]
    },
    {
     "data": {
      "text/plain": "   archetype  transmission_level  cases_sac_baseline  cases_nonsac_baseline  \\\n0    Central                0.05         2395.386684            3651.082633   \n1    Central                0.10         2403.354331            3428.937645   \n2    Central                0.20         2986.875089            3666.974095   \n3    Central                0.30         3138.121765            3809.950521   \n4    Central                0.40         3047.513031            4246.804211   \n5      Sahel                0.05         1110.599547            1572.906179   \n6      Sahel                0.10         1662.488704            2033.214395   \n7      Sahel                0.20         2162.266543            2363.305864   \n8      Sahel                0.30         2342.019809            2821.598593   \n9      Sahel                0.40         2589.679529            3176.188953   \n10  Southern                0.05         1167.135057            2166.799617   \n11  Southern                0.10         1531.664384            2450.022302   \n12  Southern                0.20         2056.063429            2997.018294   \n13  Southern                0.30         2622.509760            3733.550585   \n14  Southern                0.40         2583.199843            3949.460649   \n\n    cases_sac_dp_term  cases_nonsac_dp_term  cases_averted_sac  \\\n0         1028.157067           1880.433395        1367.229617   \n1         1004.581306           1789.389208        1398.773025   \n2         1576.202978           2649.675293        1410.672111   \n3         1632.404791           3031.807502        1505.716974   \n4         1488.108115           3587.895796        1559.404916   \n5          344.482494           1061.399718         766.117053   \n6          593.742775           1466.357703        1068.745929   \n7         1007.397568           1951.786585        1154.868975   \n8         1145.770560           2340.315902        1196.249249   \n9         1215.504730           2717.989307        1374.174799   \n10         472.178417           1151.074823         694.956640   \n11         741.773643           1651.443019         789.890741   \n12        1038.394853           2368.723889        1017.668577   \n13        1258.434173           3207.744789        1364.075587   \n14        1121.563599           3496.895442        1461.636245   \n\n    cases_averted_nonsac  \n0            1770.649238  \n1            1639.548438  \n2            1017.298802  \n3             778.143019  \n4             658.908416  \n5             511.506460  \n6             566.856692  \n7             411.519279  \n8             481.282692  \n9             458.199646  \n10           1015.724794  \n11            798.579283  \n12            628.294405  \n13            525.805796  \n14            452.565207  ",
      "text/html": "<div>\n<style scoped>\n    .dataframe tbody tr th:only-of-type {\n        vertical-align: middle;\n    }\n\n    .dataframe tbody tr th {\n        vertical-align: top;\n    }\n\n    .dataframe thead th {\n        text-align: right;\n    }\n</style>\n<table border=\"1\" class=\"dataframe\">\n  <thead>\n    <tr style=\"text-align: right;\">\n      <th></th>\n      <th>archetype</th>\n      <th>transmission_level</th>\n      <th>cases_sac_baseline</th>\n      <th>cases_nonsac_baseline</th>\n      <th>cases_sac_dp_term</th>\n      <th>cases_nonsac_dp_term</th>\n      <th>cases_averted_sac</th>\n      <th>cases_averted_nonsac</th>\n    </tr>\n  </thead>\n  <tbody>\n    <tr>\n      <th>0</th>\n      <td>Central</td>\n      <td>0.05</td>\n      <td>2395.386684</td>\n      <td>3651.082633</td>\n      <td>1028.157067</td>\n      <td>1880.433395</td>\n      <td>1367.229617</td>\n      <td>1770.649238</td>\n    </tr>\n    <tr>\n      <th>1</th>\n      <td>Central</td>\n      <td>0.10</td>\n      <td>2403.354331</td>\n      <td>3428.937645</td>\n      <td>1004.581306</td>\n      <td>1789.389208</td>\n      <td>1398.773025</td>\n      <td>1639.548438</td>\n    </tr>\n    <tr>\n      <th>2</th>\n      <td>Central</td>\n      <td>0.20</td>\n      <td>2986.875089</td>\n      <td>3666.974095</td>\n      <td>1576.202978</td>\n      <td>2649.675293</td>\n      <td>1410.672111</td>\n      <td>1017.298802</td>\n    </tr>\n    <tr>\n      <th>3</th>\n      <td>Central</td>\n      <td>0.30</td>\n      <td>3138.121765</td>\n      <td>3809.950521</td>\n      <td>1632.404791</td>\n      <td>3031.807502</td>\n      <td>1505.716974</td>\n      <td>778.143019</td>\n    </tr>\n    <tr>\n      <th>4</th>\n      <td>Central</td>\n      <td>0.40</td>\n      <td>3047.513031</td>\n      <td>4246.804211</td>\n      <td>1488.108115</td>\n      <td>3587.895796</td>\n      <td>1559.404916</td>\n      <td>658.908416</td>\n    </tr>\n    <tr>\n      <th>5</th>\n      <td>Sahel</td>\n      <td>0.05</td>\n      <td>1110.599547</td>\n      <td>1572.906179</td>\n      <td>344.482494</td>\n      <td>1061.399718</td>\n      <td>766.117053</td>\n      <td>511.506460</td>\n    </tr>\n    <tr>\n      <th>6</th>\n      <td>Sahel</td>\n      <td>0.10</td>\n      <td>1662.488704</td>\n      <td>2033.214395</td>\n      <td>593.742775</td>\n      <td>1466.357703</td>\n      <td>1068.745929</td>\n      <td>566.856692</td>\n    </tr>\n    <tr>\n      <th>7</th>\n      <td>Sahel</td>\n      <td>0.20</td>\n      <td>2162.266543</td>\n      <td>2363.305864</td>\n      <td>1007.397568</td>\n      <td>1951.786585</td>\n      <td>1154.868975</td>\n      <td>411.519279</td>\n    </tr>\n    <tr>\n      <th>8</th>\n      <td>Sahel</td>\n      <td>0.30</td>\n      <td>2342.019809</td>\n      <td>2821.598593</td>\n      <td>1145.770560</td>\n      <td>2340.315902</td>\n      <td>1196.249249</td>\n      <td>481.282692</td>\n    </tr>\n    <tr>\n      <th>9</th>\n      <td>Sahel</td>\n      <td>0.40</td>\n      <td>2589.679529</td>\n      <td>3176.188953</td>\n      <td>1215.504730</td>\n      <td>2717.989307</td>\n      <td>1374.174799</td>\n      <td>458.199646</td>\n    </tr>\n    <tr>\n      <th>10</th>\n      <td>Southern</td>\n      <td>0.05</td>\n      <td>1167.135057</td>\n      <td>2166.799617</td>\n      <td>472.178417</td>\n      <td>1151.074823</td>\n      <td>694.956640</td>\n      <td>1015.724794</td>\n    </tr>\n    <tr>\n      <th>11</th>\n      <td>Southern</td>\n      <td>0.10</td>\n      <td>1531.664384</td>\n      <td>2450.022302</td>\n      <td>741.773643</td>\n      <td>1651.443019</td>\n      <td>789.890741</td>\n      <td>798.579283</td>\n    </tr>\n    <tr>\n      <th>12</th>\n      <td>Southern</td>\n      <td>0.20</td>\n      <td>2056.063429</td>\n      <td>2997.018294</td>\n      <td>1038.394853</td>\n      <td>2368.723889</td>\n      <td>1017.668577</td>\n      <td>628.294405</td>\n    </tr>\n    <tr>\n      <th>13</th>\n      <td>Southern</td>\n      <td>0.30</td>\n      <td>2622.509760</td>\n      <td>3733.550585</td>\n      <td>1258.434173</td>\n      <td>3207.744789</td>\n      <td>1364.075587</td>\n      <td>525.805796</td>\n    </tr>\n    <tr>\n      <th>14</th>\n      <td>Southern</td>\n      <td>0.40</td>\n      <td>2583.199843</td>\n      <td>3949.460649</td>\n      <td>1121.563599</td>\n      <td>3496.895442</td>\n      <td>1461.636245</td>\n      <td>452.565207</td>\n    </tr>\n  </tbody>\n</table>\n</div>"
     },
     "execution_count": 60,
     "metadata": {},
     "output_type": "execute_result"
    }
   ],
   "source": [
    "# Do all of the above, but now comparing scenario 0 (baseline) with scenario 7 (*AQ each month)\n",
    "shorter_drug_monthly = df[df[\"scenario_number\"] == 7]\n",
    "shorter_drug_monthly[\"cases_sac\"] = shorter_drug_monthly[\"clinical_incidence6_15\"] * shorter_drug_monthly[\"pop6_15\"]\n",
    "shorter_drug_monthly[\"cases_nonsac\"] = shorter_drug_monthly[\"clinical_incidence0_5\"] * shorter_drug_monthly[\"pop0_5\"] + shorter_drug_monthly[\"clinical_incidence16_500\"] * shorter_drug_monthly[\"pop16_500\"]\n",
    "\n",
    "compare_term = pd.merge(baseline[[\"archetype\", \"transmission_level\", \"cases_sac\", \"cases_nonsac\"]],\n",
    "                        shorter_drug_monthly[[\"archetype\", \"transmission_level\", \"cases_sac\", \"cases_nonsac\"]],\n",
    "                        on=[\"archetype\", \"transmission_level\"], suffixes=(\"_baseline\", \"_dp_term\"))\n",
    "\n",
    "compare_term[\"cases_averted_sac\"] = compare_term[\"cases_sac_baseline\"] - compare_term[\"cases_sac_dp_term\"]\n",
    "compare_term[\"cases_averted_nonsac\"] = compare_term[\"cases_nonsac_baseline\"] - compare_term[\"cases_nonsac_dp_term\"]\n",
    "compare_term"
   ],
   "metadata": {
    "collapsed": false,
    "ExecuteTime": {
     "end_time": "2024-10-14T21:11:56.307541Z",
     "start_time": "2024-10-14T21:11:56.269545Z"
    }
   },
   "id": "74630c856741fd3b",
   "execution_count": 60
  },
  {
   "cell_type": "code",
   "outputs": [
    {
     "data": {
      "text/plain": "  archetype  transmission_level  cases_sac_baseline  cases_nonsac_baseline  \\\n5     Sahel                0.05         1110.599547            1572.906179   \n6     Sahel                0.10         1662.488704            2033.214395   \n7     Sahel                0.20         2162.266543            2363.305864   \n8     Sahel                0.30         2342.019809            2821.598593   \n9     Sahel                0.40         2589.679529            3176.188953   \n\n   cases_sac_dp_term  cases_nonsac_dp_term  cases_averted_sac  \\\n5         344.482494           1061.399718         766.117053   \n6         593.742775           1466.357703        1068.745929   \n7        1007.397568           1951.786585        1154.868975   \n8        1145.770560           2340.315902        1196.249249   \n9        1215.504730           2717.989307        1374.174799   \n\n   cases_averted_nonsac  \n5            511.506460  \n6            566.856692  \n7            411.519279  \n8            481.282692  \n9            458.199646  ",
      "text/html": "<div>\n<style scoped>\n    .dataframe tbody tr th:only-of-type {\n        vertical-align: middle;\n    }\n\n    .dataframe tbody tr th {\n        vertical-align: top;\n    }\n\n    .dataframe thead th {\n        text-align: right;\n    }\n</style>\n<table border=\"1\" class=\"dataframe\">\n  <thead>\n    <tr style=\"text-align: right;\">\n      <th></th>\n      <th>archetype</th>\n      <th>transmission_level</th>\n      <th>cases_sac_baseline</th>\n      <th>cases_nonsac_baseline</th>\n      <th>cases_sac_dp_term</th>\n      <th>cases_nonsac_dp_term</th>\n      <th>cases_averted_sac</th>\n      <th>cases_averted_nonsac</th>\n    </tr>\n  </thead>\n  <tbody>\n    <tr>\n      <th>5</th>\n      <td>Sahel</td>\n      <td>0.05</td>\n      <td>1110.599547</td>\n      <td>1572.906179</td>\n      <td>344.482494</td>\n      <td>1061.399718</td>\n      <td>766.117053</td>\n      <td>511.506460</td>\n    </tr>\n    <tr>\n      <th>6</th>\n      <td>Sahel</td>\n      <td>0.10</td>\n      <td>1662.488704</td>\n      <td>2033.214395</td>\n      <td>593.742775</td>\n      <td>1466.357703</td>\n      <td>1068.745929</td>\n      <td>566.856692</td>\n    </tr>\n    <tr>\n      <th>7</th>\n      <td>Sahel</td>\n      <td>0.20</td>\n      <td>2162.266543</td>\n      <td>2363.305864</td>\n      <td>1007.397568</td>\n      <td>1951.786585</td>\n      <td>1154.868975</td>\n      <td>411.519279</td>\n    </tr>\n    <tr>\n      <th>8</th>\n      <td>Sahel</td>\n      <td>0.30</td>\n      <td>2342.019809</td>\n      <td>2821.598593</td>\n      <td>1145.770560</td>\n      <td>2340.315902</td>\n      <td>1196.249249</td>\n      <td>481.282692</td>\n    </tr>\n    <tr>\n      <th>9</th>\n      <td>Sahel</td>\n      <td>0.40</td>\n      <td>2589.679529</td>\n      <td>3176.188953</td>\n      <td>1215.504730</td>\n      <td>2717.989307</td>\n      <td>1374.174799</td>\n      <td>458.199646</td>\n    </tr>\n  </tbody>\n</table>\n</div>"
     },
     "execution_count": 61,
     "metadata": {},
     "output_type": "execute_result"
    }
   ],
   "source": [
    "# Just Sahel for now\n",
    "compare_term_sahel = compare_term[compare_term[\"archetype\"] == \"Sahel\"]\n",
    "compare_term_sahel"
   ],
   "metadata": {
    "collapsed": false,
    "ExecuteTime": {
     "end_time": "2024-10-14T21:11:57.438641Z",
     "start_time": "2024-10-14T21:11:57.397647Z"
    }
   },
   "id": "803ea613477b5895",
   "execution_count": 61
  },
  {
   "cell_type": "code",
   "outputs": [
    {
     "data": {
      "text/plain": "5    0.689823\n6    0.642859\n7    0.534101\n8    0.510777\n9    0.530635\ndtype: float64"
     },
     "execution_count": 62,
     "metadata": {},
     "output_type": "execute_result"
    }
   ],
   "source": [
    "compare_term_sahel[\"cases_averted_sac\"]/compare_term_sahel[\"cases_sac_baseline\"]"
   ],
   "metadata": {
    "collapsed": false,
    "ExecuteTime": {
     "end_time": "2024-10-14T21:11:59.065129Z",
     "start_time": "2024-10-14T21:11:59.052128Z"
    }
   },
   "id": "188383daed424dbe",
   "execution_count": 62
  },
  {
   "cell_type": "code",
   "outputs": [
    {
     "data": {
      "text/plain": "5    0.638431\n6    0.890622\n7    0.962391\n8    0.996874\n9    1.145146\nName: cases_averted_sac, dtype: float64"
     },
     "execution_count": 64,
     "metadata": {},
     "output_type": "execute_result"
    }
   ],
   "source": [
    "compare_term_sahel[\"cases_averted_sac\"]/1200"
   ],
   "metadata": {
    "collapsed": false,
    "ExecuteTime": {
     "end_time": "2024-10-14T21:12:41.964969Z",
     "start_time": "2024-10-14T21:12:41.955968Z"
    }
   },
   "id": "2441db9e4556dd49",
   "execution_count": 64
  },
  {
   "cell_type": "code",
   "outputs": [
    {
     "data": {
      "text/plain": "1.2991666666666666"
     },
     "execution_count": 40,
     "metadata": {},
     "output_type": "execute_result"
    }
   ],
   "source": [
    "1559/1200"
   ],
   "metadata": {
    "collapsed": false,
    "ExecuteTime": {
     "end_time": "2024-10-14T20:56:53.131413Z",
     "start_time": "2024-10-14T20:56:53.115413Z"
    }
   },
   "id": "5ce81aac21c40380",
   "execution_count": 40
  },
  {
   "cell_type": "code",
   "outputs": [
    {
     "data": {
      "text/plain": "0.46596032578947366"
     },
     "execution_count": 41,
     "metadata": {},
     "output_type": "execute_result"
    }
   ],
   "source": [
    "1770.649238/3800"
   ],
   "metadata": {
    "collapsed": false,
    "ExecuteTime": {
     "end_time": "2024-10-14T20:57:41.875156Z",
     "start_time": "2024-10-14T20:57:41.866156Z"
    }
   },
   "id": "88fc10e6bcea8f13",
   "execution_count": 41
  },
  {
   "cell_type": "code",
   "outputs": [
    {
     "data": {
      "text/plain": "627.4"
     },
     "execution_count": 43,
     "metadata": {},
     "output_type": "execute_result"
    }
   ],
   "source": [
    "(1770+1367)/5"
   ],
   "metadata": {
    "collapsed": false,
    "ExecuteTime": {
     "end_time": "2024-10-14T20:59:43.699459Z",
     "start_time": "2024-10-14T20:59:43.679459Z"
    }
   },
   "id": "e999018a402f2dcf",
   "execution_count": 43
  },
  {
   "cell_type": "code",
   "outputs": [
    {
     "data": {
      "text/plain": "Empty DataFrame\nColumns: [archetype, baseline_transmission_metric, transmission_level, scenario_number, iptsc_rdts_used, iptsc_drugs_used_school, cases_treated, severe_cases_treated, received_smc_u5, received_smc_5-10, received_smc_10-15, received_ivermectin, received_primaquine, pfpr0_5, pfpr2_10, pfpr6_15, pfpr16_500, pfpr_all, clinical_incidence0_5, clinical_incidence2_10, clinical_incidence6_15, clinical_incidence16_500, clinical_incidence_all, severe_incidence0_5, severe_incidence2_10, severe_incidence6_15, severe_incidence16_500, severe_incidence_all, pop0_5, pop2_10, pop6_15, pop16_500, pop_all, avg_age, avg_age_clinical_cases, avg_age_severe_cases, Run_Number, iptsc_rdts_used_STDEV, iptsc_drugs_used_school_STDEV, cases_treated_STDEV, severe_cases_treated_STDEV, received_smc_u5_STDEV, received_smc_5-10_STDEV, received_smc_10-15_STDEV, received_ivermectin_STDEV, received_primaquine_STDEV, pfpr0_5_STDEV, pfpr2_10_STDEV, pfpr6_15_STDEV, pfpr16_500_STDEV, pfpr_all_STDEV, clinical_incidence0_5_STDEV, clinical_incidence2_10_STDEV, clinical_incidence6_15_STDEV, clinical_incidence16_500_STDEV, clinical_incidence_all_STDEV, severe_incidence0_5_STDEV, severe_incidence2_10_STDEV, severe_incidence6_15_STDEV, severe_incidence16_500_STDEV, severe_incidence_all_STDEV, pop0_5_STDEV, pop2_10_STDEV, pop6_15_STDEV, pop16_500_STDEV, pop_all_STDEV, avg_age_STDEV, avg_age_clinical_cases_STDEV, avg_age_severe_cases_STDEV, Run_Number_STDEV, cases_treated_BASELINE, clinical_incidence0_5_BASELINE, clinical_incidence2_10_BASELINE, clinical_incidence6_15_BASELINE, clinical_incidence16_500_BASELINE, clinical_incidence_all_BASELINE, pfpr0_5_BASELINE, pfpr2_10_BASELINE, pfpr6_15_BASELINE, pfpr16_500_BASELINE, pfpr_all_BASELINE, raw_averted_clinical_0_5, frac_averted_clinical_0_5, raw_averted_clinical_0_5_STDEV, frac_averted_clinical_0_5_STDEV, raw_averted_clinical_2_10, frac_averted_clinical_2_10, raw_averted_clinical_2_10_STDEV, frac_averted_clinical_2_10_STDEV, raw_averted_clinical_6_15, frac_averted_clinical_6_15, raw_averted_clinical_6_15_STDEV, frac_averted_clinical_6_15_STDEV, raw_averted_clinical_16_500, frac_averted_clinical_16_500, raw_averted_clinical_16_500_STDEV, frac_averted_clinical_16_500_STDEV, raw_averted_clinical__all, frac_averted_clinical__all, raw_averted_clinical__all_STDEV, ...]\nIndex: []\n\n[0 rows x 124 columns]",
      "text/html": "<div>\n<style scoped>\n    .dataframe tbody tr th:only-of-type {\n        vertical-align: middle;\n    }\n\n    .dataframe tbody tr th {\n        vertical-align: top;\n    }\n\n    .dataframe thead th {\n        text-align: right;\n    }\n</style>\n<table border=\"1\" class=\"dataframe\">\n  <thead>\n    <tr style=\"text-align: right;\">\n      <th></th>\n      <th>archetype</th>\n      <th>baseline_transmission_metric</th>\n      <th>transmission_level</th>\n      <th>scenario_number</th>\n      <th>iptsc_rdts_used</th>\n      <th>iptsc_drugs_used_school</th>\n      <th>cases_treated</th>\n      <th>severe_cases_treated</th>\n      <th>received_smc_u5</th>\n      <th>received_smc_5-10</th>\n      <th>...</th>\n      <th>screen_type</th>\n      <th>drug_type</th>\n      <th>out_of_school_rate</th>\n      <th>ivermectin</th>\n      <th>primaquine</th>\n      <th>itn_coverage</th>\n      <th>hs_rate</th>\n      <th>smc_on</th>\n      <th>smc_coverage</th>\n      <th>comments</th>\n    </tr>\n  </thead>\n  <tbody>\n  </tbody>\n</table>\n<p>0 rows × 124 columns</p>\n</div>"
     },
     "execution_count": 45,
     "metadata": {},
     "output_type": "execute_result"
    }
   ],
   "source": [
    "df[df[\"received_ivermectin\"]>0]"
   ],
   "metadata": {
    "collapsed": false,
    "ExecuteTime": {
     "end_time": "2024-10-14T21:00:25.413456Z",
     "start_time": "2024-10-14T21:00:25.367446Z"
    }
   },
   "id": "b6eb8fee34076a57",
   "execution_count": 45
  },
  {
   "cell_type": "code",
   "outputs": [
    {
     "name": "stdout",
     "output_type": "stream",
     "text": [
      "Without ivermectin:  627.575771\n",
      "With ivermectin:  1004.1212336000001\n"
     ]
    }
   ],
   "source": [
    "# Central at 5%\n",
    "print(\"Without ivermectin: \", (1367.229617+1770.649238)/5)\n",
    "print(\"With ivermectin: \", (1367.229617+1770.649238)/5*0.8/0.5)"
   ],
   "metadata": {
    "collapsed": false,
    "ExecuteTime": {
     "end_time": "2024-10-14T21:03:00.356063Z",
     "start_time": "2024-10-14T21:03:00.349064Z"
    }
   },
   "id": "86b13f8ac2152918",
   "execution_count": 46
  },
  {
   "cell_type": "code",
   "outputs": [
    {
     "data": {
      "text/plain": "1209.2938634"
     },
     "execution_count": 49,
     "metadata": {},
     "output_type": "execute_result"
    }
   ],
   "source": [
    "(2395.386684+3651.082633)/5"
   ],
   "metadata": {
    "collapsed": false,
    "ExecuteTime": {
     "end_time": "2024-10-14T21:06:38.934945Z",
     "start_time": "2024-10-14T21:06:38.919948Z"
    }
   },
   "id": "512223b4b0797e0a",
   "execution_count": 49
  },
  {
   "cell_type": "code",
   "outputs": [
    {
     "name": "stderr",
     "output_type": "stream",
     "text": [
      "C:\\Users\\joshsu\\AppData\\Local\\Temp\\ipykernel_9076\\2032877954.py:3: SettingWithCopyWarning: \n",
      "A value is trying to be set on a copy of a slice from a DataFrame.\n",
      "Try using .loc[row_indexer,col_indexer] = value instead\n",
      "\n",
      "See the caveats in the documentation: https://pandas.pydata.org/pandas-docs/stable/user_guide/indexing.html#returning-a-view-versus-a-copy\n",
      "  comparator[\"cases_sac\"] = comparator[\"clinical_incidence6_15\"] * comparator[\"pop6_15\"]\n",
      "C:\\Users\\joshsu\\AppData\\Local\\Temp\\ipykernel_9076\\2032877954.py:4: SettingWithCopyWarning: \n",
      "A value is trying to be set on a copy of a slice from a DataFrame.\n",
      "Try using .loc[row_indexer,col_indexer] = value instead\n",
      "\n",
      "See the caveats in the documentation: https://pandas.pydata.org/pandas-docs/stable/user_guide/indexing.html#returning-a-view-versus-a-copy\n",
      "  comparator[\"cases_nonsac\"] = comparator[\"clinical_incidence0_5\"] * comparator[\"pop0_5\"] + comparator[\"clinical_incidence16_500\"] * comparator[\"pop16_500\"]\n"
     ]
    },
    {
     "data": {
      "text/plain": "   archetype  transmission_level  cases_sac_baseline  cases_nonsac_baseline  \\\n0    Central                0.05         2395.386684            3651.082633   \n1    Central                0.10         2403.354331            3428.937645   \n2    Central                0.20         2986.875089            3666.974095   \n3    Central                0.30         3138.121765            3809.950521   \n4    Central                0.40         3047.513031            4246.804211   \n5      Sahel                0.05         1110.599547            1572.906179   \n6      Sahel                0.10         1662.488704            2033.214395   \n7      Sahel                0.20         2162.266543            2363.305864   \n8      Sahel                0.30         2342.019809            2821.598593   \n9      Sahel                0.40         2589.679529            3176.188953   \n10  Southern                0.05         1167.135057            2166.799617   \n11  Southern                0.10         1531.664384            2450.022302   \n12  Southern                0.20         2056.063429            2997.018294   \n13  Southern                0.30         2622.509760            3733.550585   \n14  Southern                0.40         2583.199843            3949.460649   \n\n    cases_sac_dp_term  cases_nonsac_dp_term  cases_averted_sac  \\\n0         2093.379554           3237.843232         302.007130   \n1         2117.783879           3062.919967         285.570453   \n2         2753.198297           3434.725275         233.676792   \n3         2864.520037           3627.421425         273.601729   \n4         2720.018651           4083.825056         327.494381   \n5          846.450530           1332.075576         264.149017   \n6         1329.338597           1800.451602         333.150107   \n7         1766.046628           2200.621345         396.219915   \n8         1772.333993           2625.469522         569.685816   \n9         1776.161336           2990.663131         813.518192   \n10        1054.939475           1892.603161         112.195582   \n11        1475.638272           2347.898529          56.026112   \n12        1908.811363           2846.292291         147.252067   \n13        2359.411659           3588.885683         263.098101   \n14        2250.923009           3815.852582         332.276834   \n\n    cases_averted_nonsac  \n0             413.239401  \n1             366.017678  \n2             232.248820  \n3             182.529095  \n4             162.979155  \n5             240.830603  \n6             232.762793  \n7             162.684518  \n8             196.129071  \n9             185.525822  \n10            274.196456  \n11            102.123774  \n12            150.726002  \n13            144.664903  \n14            133.608067  ",
      "text/html": "<div>\n<style scoped>\n    .dataframe tbody tr th:only-of-type {\n        vertical-align: middle;\n    }\n\n    .dataframe tbody tr th {\n        vertical-align: top;\n    }\n\n    .dataframe thead th {\n        text-align: right;\n    }\n</style>\n<table border=\"1\" class=\"dataframe\">\n  <thead>\n    <tr style=\"text-align: right;\">\n      <th></th>\n      <th>archetype</th>\n      <th>transmission_level</th>\n      <th>cases_sac_baseline</th>\n      <th>cases_nonsac_baseline</th>\n      <th>cases_sac_dp_term</th>\n      <th>cases_nonsac_dp_term</th>\n      <th>cases_averted_sac</th>\n      <th>cases_averted_nonsac</th>\n    </tr>\n  </thead>\n  <tbody>\n    <tr>\n      <th>0</th>\n      <td>Central</td>\n      <td>0.05</td>\n      <td>2395.386684</td>\n      <td>3651.082633</td>\n      <td>2093.379554</td>\n      <td>3237.843232</td>\n      <td>302.007130</td>\n      <td>413.239401</td>\n    </tr>\n    <tr>\n      <th>1</th>\n      <td>Central</td>\n      <td>0.10</td>\n      <td>2403.354331</td>\n      <td>3428.937645</td>\n      <td>2117.783879</td>\n      <td>3062.919967</td>\n      <td>285.570453</td>\n      <td>366.017678</td>\n    </tr>\n    <tr>\n      <th>2</th>\n      <td>Central</td>\n      <td>0.20</td>\n      <td>2986.875089</td>\n      <td>3666.974095</td>\n      <td>2753.198297</td>\n      <td>3434.725275</td>\n      <td>233.676792</td>\n      <td>232.248820</td>\n    </tr>\n    <tr>\n      <th>3</th>\n      <td>Central</td>\n      <td>0.30</td>\n      <td>3138.121765</td>\n      <td>3809.950521</td>\n      <td>2864.520037</td>\n      <td>3627.421425</td>\n      <td>273.601729</td>\n      <td>182.529095</td>\n    </tr>\n    <tr>\n      <th>4</th>\n      <td>Central</td>\n      <td>0.40</td>\n      <td>3047.513031</td>\n      <td>4246.804211</td>\n      <td>2720.018651</td>\n      <td>4083.825056</td>\n      <td>327.494381</td>\n      <td>162.979155</td>\n    </tr>\n    <tr>\n      <th>5</th>\n      <td>Sahel</td>\n      <td>0.05</td>\n      <td>1110.599547</td>\n      <td>1572.906179</td>\n      <td>846.450530</td>\n      <td>1332.075576</td>\n      <td>264.149017</td>\n      <td>240.830603</td>\n    </tr>\n    <tr>\n      <th>6</th>\n      <td>Sahel</td>\n      <td>0.10</td>\n      <td>1662.488704</td>\n      <td>2033.214395</td>\n      <td>1329.338597</td>\n      <td>1800.451602</td>\n      <td>333.150107</td>\n      <td>232.762793</td>\n    </tr>\n    <tr>\n      <th>7</th>\n      <td>Sahel</td>\n      <td>0.20</td>\n      <td>2162.266543</td>\n      <td>2363.305864</td>\n      <td>1766.046628</td>\n      <td>2200.621345</td>\n      <td>396.219915</td>\n      <td>162.684518</td>\n    </tr>\n    <tr>\n      <th>8</th>\n      <td>Sahel</td>\n      <td>0.30</td>\n      <td>2342.019809</td>\n      <td>2821.598593</td>\n      <td>1772.333993</td>\n      <td>2625.469522</td>\n      <td>569.685816</td>\n      <td>196.129071</td>\n    </tr>\n    <tr>\n      <th>9</th>\n      <td>Sahel</td>\n      <td>0.40</td>\n      <td>2589.679529</td>\n      <td>3176.188953</td>\n      <td>1776.161336</td>\n      <td>2990.663131</td>\n      <td>813.518192</td>\n      <td>185.525822</td>\n    </tr>\n    <tr>\n      <th>10</th>\n      <td>Southern</td>\n      <td>0.05</td>\n      <td>1167.135057</td>\n      <td>2166.799617</td>\n      <td>1054.939475</td>\n      <td>1892.603161</td>\n      <td>112.195582</td>\n      <td>274.196456</td>\n    </tr>\n    <tr>\n      <th>11</th>\n      <td>Southern</td>\n      <td>0.10</td>\n      <td>1531.664384</td>\n      <td>2450.022302</td>\n      <td>1475.638272</td>\n      <td>2347.898529</td>\n      <td>56.026112</td>\n      <td>102.123774</td>\n    </tr>\n    <tr>\n      <th>12</th>\n      <td>Southern</td>\n      <td>0.20</td>\n      <td>2056.063429</td>\n      <td>2997.018294</td>\n      <td>1908.811363</td>\n      <td>2846.292291</td>\n      <td>147.252067</td>\n      <td>150.726002</td>\n    </tr>\n    <tr>\n      <th>13</th>\n      <td>Southern</td>\n      <td>0.30</td>\n      <td>2622.509760</td>\n      <td>3733.550585</td>\n      <td>2359.411659</td>\n      <td>3588.885683</td>\n      <td>263.098101</td>\n      <td>144.664903</td>\n    </tr>\n    <tr>\n      <th>14</th>\n      <td>Southern</td>\n      <td>0.40</td>\n      <td>2583.199843</td>\n      <td>3949.460649</td>\n      <td>2250.923009</td>\n      <td>3815.852582</td>\n      <td>332.276834</td>\n      <td>133.608067</td>\n    </tr>\n  </tbody>\n</table>\n</div>"
     },
     "execution_count": 51,
     "metadata": {},
     "output_type": "execute_result"
    }
   ],
   "source": [
    "# Do all of the above, but now comparing scenario 0 (baseline) with scenario 6 (SPAQ each term)\n",
    "comparator = df[df[\"scenario_number\"] == 6]\n",
    "comparator[\"cases_sac\"] = comparator[\"clinical_incidence6_15\"] * comparator[\"pop6_15\"]\n",
    "comparator[\"cases_nonsac\"] = comparator[\"clinical_incidence0_5\"] * comparator[\"pop0_5\"] + comparator[\"clinical_incidence16_500\"] * comparator[\"pop16_500\"]\n",
    "\n",
    "compare_term = pd.merge(baseline[[\"archetype\", \"transmission_level\", \"cases_sac\", \"cases_nonsac\"]],\n",
    "                        comparator[[\"archetype\", \"transmission_level\", \"cases_sac\", \"cases_nonsac\"]],\n",
    "                        on=[\"archetype\", \"transmission_level\"], suffixes=(\"_baseline\", \"_dp_term\"))\n",
    "\n",
    "compare_term[\"cases_averted_sac\"] = compare_term[\"cases_sac_baseline\"] - compare_term[\"cases_sac_dp_term\"]\n",
    "compare_term[\"cases_averted_nonsac\"] = compare_term[\"cases_nonsac_baseline\"] - compare_term[\"cases_nonsac_dp_term\"]\n",
    "compare_term"
   ],
   "metadata": {
    "collapsed": false,
    "ExecuteTime": {
     "end_time": "2024-10-14T21:08:38.693814Z",
     "start_time": "2024-10-14T21:08:38.639816Z"
    }
   },
   "id": "24709b7f16c70547",
   "execution_count": 51
  },
  {
   "cell_type": "code",
   "outputs": [
    {
     "data": {
      "text/plain": "  archetype  transmission_level  cases_sac_baseline  cases_nonsac_baseline  \\\n5     Sahel                0.05         1110.599547            1572.906179   \n6     Sahel                0.10         1662.488704            2033.214395   \n7     Sahel                0.20         2162.266543            2363.305864   \n8     Sahel                0.30         2342.019809            2821.598593   \n9     Sahel                0.40         2589.679529            3176.188953   \n\n   cases_sac_dp_term  cases_nonsac_dp_term  cases_averted_sac  \\\n5         846.450530           1332.075576         264.149017   \n6        1329.338597           1800.451602         333.150107   \n7        1766.046628           2200.621345         396.219915   \n8        1772.333993           2625.469522         569.685816   \n9        1776.161336           2990.663131         813.518192   \n\n   cases_averted_nonsac  \n5            240.830603  \n6            232.762793  \n7            162.684518  \n8            196.129071  \n9            185.525822  ",
      "text/html": "<div>\n<style scoped>\n    .dataframe tbody tr th:only-of-type {\n        vertical-align: middle;\n    }\n\n    .dataframe tbody tr th {\n        vertical-align: top;\n    }\n\n    .dataframe thead th {\n        text-align: right;\n    }\n</style>\n<table border=\"1\" class=\"dataframe\">\n  <thead>\n    <tr style=\"text-align: right;\">\n      <th></th>\n      <th>archetype</th>\n      <th>transmission_level</th>\n      <th>cases_sac_baseline</th>\n      <th>cases_nonsac_baseline</th>\n      <th>cases_sac_dp_term</th>\n      <th>cases_nonsac_dp_term</th>\n      <th>cases_averted_sac</th>\n      <th>cases_averted_nonsac</th>\n    </tr>\n  </thead>\n  <tbody>\n    <tr>\n      <th>5</th>\n      <td>Sahel</td>\n      <td>0.05</td>\n      <td>1110.599547</td>\n      <td>1572.906179</td>\n      <td>846.450530</td>\n      <td>1332.075576</td>\n      <td>264.149017</td>\n      <td>240.830603</td>\n    </tr>\n    <tr>\n      <th>6</th>\n      <td>Sahel</td>\n      <td>0.10</td>\n      <td>1662.488704</td>\n      <td>2033.214395</td>\n      <td>1329.338597</td>\n      <td>1800.451602</td>\n      <td>333.150107</td>\n      <td>232.762793</td>\n    </tr>\n    <tr>\n      <th>7</th>\n      <td>Sahel</td>\n      <td>0.20</td>\n      <td>2162.266543</td>\n      <td>2363.305864</td>\n      <td>1766.046628</td>\n      <td>2200.621345</td>\n      <td>396.219915</td>\n      <td>162.684518</td>\n    </tr>\n    <tr>\n      <th>8</th>\n      <td>Sahel</td>\n      <td>0.30</td>\n      <td>2342.019809</td>\n      <td>2821.598593</td>\n      <td>1772.333993</td>\n      <td>2625.469522</td>\n      <td>569.685816</td>\n      <td>196.129071</td>\n    </tr>\n    <tr>\n      <th>9</th>\n      <td>Sahel</td>\n      <td>0.40</td>\n      <td>2589.679529</td>\n      <td>3176.188953</td>\n      <td>1776.161336</td>\n      <td>2990.663131</td>\n      <td>813.518192</td>\n      <td>185.525822</td>\n    </tr>\n  </tbody>\n</table>\n</div>"
     },
     "execution_count": 53,
     "metadata": {},
     "output_type": "execute_result"
    }
   ],
   "source": [
    "# Just Sahel for now\n",
    "compare_term_sahel = compare_term[compare_term[\"archetype\"] == \"Sahel\"]\n",
    "compare_term_sahel"
   ],
   "metadata": {
    "collapsed": false,
    "ExecuteTime": {
     "end_time": "2024-10-14T21:09:28.986294Z",
     "start_time": "2024-10-14T21:09:28.949295Z"
    }
   },
   "id": "f2017a18bb3e2e19",
   "execution_count": 53
  },
  {
   "cell_type": "code",
   "outputs": [
    {
     "data": {
      "text/plain": "5    0.237844\n6    0.200392\n7    0.183243\n8    0.243246\n9    0.314139\ndtype: float64"
     },
     "execution_count": 54,
     "metadata": {},
     "output_type": "execute_result"
    }
   ],
   "source": [
    "compare_term_sahel[\"cases_averted_sac\"]/compare_term_sahel[\"cases_sac_baseline\"]"
   ],
   "metadata": {
    "collapsed": false,
    "ExecuteTime": {
     "end_time": "2024-10-14T21:09:45.133064Z",
     "start_time": "2024-10-14T21:09:45.107070Z"
    }
   },
   "id": "812910697295ca5c",
   "execution_count": 54
  },
  {
   "cell_type": "code",
   "outputs": [
    {
     "data": {
      "text/plain": "0.3961205079152137"
     },
     "execution_count": 57,
     "metadata": {},
     "output_type": "execute_result"
    }
   ],
   "source": [
    "np.mean(compare_term_sahel[\"cases_averted_sac\"])/1200"
   ],
   "metadata": {
    "collapsed": false,
    "ExecuteTime": {
     "end_time": "2024-10-14T21:10:39.410432Z",
     "start_time": "2024-10-14T21:10:39.396417Z"
    }
   },
   "id": "6987d6161c320b61",
   "execution_count": 57
  },
  {
   "cell_type": "code",
   "outputs": [],
   "source": [],
   "metadata": {
    "collapsed": false
   },
   "id": "9b12b7e39aad4432"
  }
 ],
 "metadata": {
  "kernelspec": {
   "display_name": "Python 3",
   "language": "python",
   "name": "python3"
  },
  "language_info": {
   "codemirror_mode": {
    "name": "ipython",
    "version": 2
   },
   "file_extension": ".py",
   "mimetype": "text/x-python",
   "name": "python",
   "nbconvert_exporter": "python",
   "pygments_lexer": "ipython2",
   "version": "2.7.6"
  }
 },
 "nbformat": 4,
 "nbformat_minor": 5
}
