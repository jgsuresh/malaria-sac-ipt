{
 "cells": [
  {
   "cell_type": "code",
   "execution_count": 1,
   "id": "4ac5a9a8-71ec-49cf-a9cc-9e190bf9c640",
   "metadata": {},
   "outputs": [],
   "source": [
    "import matplotlib.pyplot as plt\n",
    "import numpy as np\n",
    "import pandas as pd\n",
    "import seaborn as sns\n",
    "sns.set_context(\"talk\")\n",
    "sns.set_style(\"white\")"
   ]
  },
  {
   "cell_type": "markdown",
   "id": "7561b84d-d30f-4ab5-882e-4c8e1526d31d",
   "metadata": {},
   "source": [
    "# Summarize main scenario simulation output"
   ]
  },
  {
   "cell_type": "code",
   "execution_count": 2,
   "id": "15f83b11-acf0-43fe-b268-fb41257c8868",
   "metadata": {},
   "outputs": [],
   "source": [
    "df1 = pd.read_csv(\"sim_data_4d0152d3-a8d0-ec11-a9f8-b88303911bc1.csv\")\n",
    "df2 = pd.read_csv(\"sim_data_bf038501-a7d0-ec11-a9f8-b88303911bc1.csv\")\n",
    "df = pd.concat([df1,df2], ignore_index=True)"
   ]
  },
  {
   "cell_type": "code",
   "execution_count": 3,
   "id": "7e9f881a-3bb2-4ff0-86b5-bdb6947a6b21",
   "metadata": {},
   "outputs": [
    {
     "data": {
      "text/plain": [
       "Index(['iptsc_rdts_used', 'iptsc_drugs_used', 'cases_treated',\n",
       "       'severe_cases_treated', 'received_smc', 'received_ivermectin',\n",
       "       'received_primaquine', 'pfpr0_5', 'pfpr2_10', 'pfpr6_15', 'pfpr16_500',\n",
       "       'pfpr_all', 'clinical_incidence0_5', 'clinical_incidence2_10',\n",
       "       'clinical_incidence6_15', 'clinical_incidence16_500',\n",
       "       'clinical_incidence_all', 'severe_incidence0_5', 'severe_incidence2_10',\n",
       "       'severe_incidence6_15', 'severe_incidence16_500',\n",
       "       'severe_incidence_all', 'pop0_5', 'pop2_10', 'pop6_15', 'pop16_500',\n",
       "       'pop_all', 'avg_age', 'avg_age_clinical_cases', 'avg_age_severe_cases',\n",
       "       'sim_id', 'archetype', 'baseline_eir', 'Run_Number', 'scenario_number'],\n",
       "      dtype='object')"
      ]
     },
     "execution_count": 3,
     "metadata": {},
     "output_type": "execute_result"
    }
   ],
   "source": [
    "df.columns"
   ]
  },
  {
   "cell_type": "code",
   "execution_count": 4,
   "id": "9028b398-818d-49c5-acec-2160247fab92",
   "metadata": {},
   "outputs": [],
   "source": [
    "df.to_csv(\"sim_data_full_220708.csv\",index=False)"
   ]
  },
  {
   "cell_type": "code",
   "execution_count": 5,
   "id": "b1d0ebdf-dd84-4f52-adec-8a0697241d78",
   "metadata": {},
   "outputs": [
    {
     "data": {
      "text/plain": [
       "Index(['iptsc_rdts_used', 'iptsc_drugs_used', 'cases_treated',\n",
       "       'severe_cases_treated', 'received_smc', 'received_ivermectin',\n",
       "       'received_primaquine', 'pfpr0_5', 'pfpr2_10', 'pfpr6_15', 'pfpr16_500',\n",
       "       'pfpr_all', 'clinical_incidence0_5', 'clinical_incidence2_10',\n",
       "       'clinical_incidence6_15', 'clinical_incidence16_500',\n",
       "       'clinical_incidence_all', 'severe_incidence0_5', 'severe_incidence2_10',\n",
       "       'severe_incidence6_15', 'severe_incidence16_500',\n",
       "       'severe_incidence_all', 'pop0_5', 'pop2_10', 'pop6_15', 'pop16_500',\n",
       "       'pop_all', 'avg_age', 'avg_age_clinical_cases', 'avg_age_severe_cases',\n",
       "       'sim_id', 'archetype', 'baseline_eir', 'Run_Number', 'scenario_number'],\n",
       "      dtype='object')"
      ]
     },
     "execution_count": 5,
     "metadata": {},
     "output_type": "execute_result"
    }
   ],
   "source": [
    "# Convert to marita's format\n",
    "df_marita = df.copy(deep=True)\n",
    "df_marita.columns"
   ]
  },
  {
   "cell_type": "code",
   "execution_count": 6,
   "id": "3adc8524-3891-444c-b23b-9d78fc59f0ce",
   "metadata": {},
   "outputs": [
    {
     "data": {
      "text/html": [
       "<div>\n",
       "<style scoped>\n",
       "    .dataframe tbody tr th:only-of-type {\n",
       "        vertical-align: middle;\n",
       "    }\n",
       "\n",
       "    .dataframe tbody tr th {\n",
       "        vertical-align: top;\n",
       "    }\n",
       "\n",
       "    .dataframe thead th {\n",
       "        text-align: right;\n",
       "    }\n",
       "</style>\n",
       "<table border=\"1\" class=\"dataframe\">\n",
       "  <thead>\n",
       "    <tr style=\"text-align: right;\">\n",
       "      <th></th>\n",
       "      <th>archetype</th>\n",
       "      <th>scenario_number</th>\n",
       "      <th>drug_type</th>\n",
       "      <th>screen_type</th>\n",
       "      <th>interval</th>\n",
       "      <th>itn_coverage</th>\n",
       "      <th>hs_rate</th>\n",
       "      <th>within_school_coverage</th>\n",
       "      <th>out_of_school_rate</th>\n",
       "      <th>target_age_range</th>\n",
       "      <th>smc_on</th>\n",
       "      <th>ivermectin</th>\n",
       "      <th>primaquine</th>\n",
       "      <th>smc_age_range</th>\n",
       "    </tr>\n",
       "  </thead>\n",
       "  <tbody>\n",
       "    <tr>\n",
       "      <th>0</th>\n",
       "      <td>Southern</td>\n",
       "      <td>0</td>\n",
       "      <td>ASAQ</td>\n",
       "      <td>IPT</td>\n",
       "      <td>term</td>\n",
       "      <td>default</td>\n",
       "      <td>0.8</td>\n",
       "      <td>0.9</td>\n",
       "      <td>0.00</td>\n",
       "      <td>default</td>\n",
       "      <td>False</td>\n",
       "      <td>False</td>\n",
       "      <td>False</td>\n",
       "      <td>default</td>\n",
       "    </tr>\n",
       "    <tr>\n",
       "      <th>1</th>\n",
       "      <td>Southern</td>\n",
       "      <td>1</td>\n",
       "      <td>ASAQ</td>\n",
       "      <td>IPT</td>\n",
       "      <td>term</td>\n",
       "      <td>default</td>\n",
       "      <td>0.8</td>\n",
       "      <td>0.9</td>\n",
       "      <td>0.15</td>\n",
       "      <td>default</td>\n",
       "      <td>False</td>\n",
       "      <td>False</td>\n",
       "      <td>False</td>\n",
       "      <td>default</td>\n",
       "    </tr>\n",
       "    <tr>\n",
       "      <th>2</th>\n",
       "      <td>Southern</td>\n",
       "      <td>2</td>\n",
       "      <td>ASAQ</td>\n",
       "      <td>IPT</td>\n",
       "      <td>term</td>\n",
       "      <td>default</td>\n",
       "      <td>0.8</td>\n",
       "      <td>0.9</td>\n",
       "      <td>0.30</td>\n",
       "      <td>default</td>\n",
       "      <td>False</td>\n",
       "      <td>False</td>\n",
       "      <td>False</td>\n",
       "      <td>default</td>\n",
       "    </tr>\n",
       "    <tr>\n",
       "      <th>3</th>\n",
       "      <td>Southern</td>\n",
       "      <td>3</td>\n",
       "      <td>ASAQ</td>\n",
       "      <td>IPT</td>\n",
       "      <td>month</td>\n",
       "      <td>default</td>\n",
       "      <td>0.8</td>\n",
       "      <td>0.9</td>\n",
       "      <td>0.00</td>\n",
       "      <td>default</td>\n",
       "      <td>False</td>\n",
       "      <td>False</td>\n",
       "      <td>False</td>\n",
       "      <td>default</td>\n",
       "    </tr>\n",
       "    <tr>\n",
       "      <th>4</th>\n",
       "      <td>Southern</td>\n",
       "      <td>4</td>\n",
       "      <td>ASAQ</td>\n",
       "      <td>IPT</td>\n",
       "      <td>month</td>\n",
       "      <td>default</td>\n",
       "      <td>0.8</td>\n",
       "      <td>0.9</td>\n",
       "      <td>0.15</td>\n",
       "      <td>default</td>\n",
       "      <td>False</td>\n",
       "      <td>False</td>\n",
       "      <td>False</td>\n",
       "      <td>default</td>\n",
       "    </tr>\n",
       "    <tr>\n",
       "      <th>...</th>\n",
       "      <td>...</td>\n",
       "      <td>...</td>\n",
       "      <td>...</td>\n",
       "      <td>...</td>\n",
       "      <td>...</td>\n",
       "      <td>...</td>\n",
       "      <td>...</td>\n",
       "      <td>...</td>\n",
       "      <td>...</td>\n",
       "      <td>...</td>\n",
       "      <td>...</td>\n",
       "      <td>...</td>\n",
       "      <td>...</td>\n",
       "      <td>...</td>\n",
       "    </tr>\n",
       "    <tr>\n",
       "      <th>171</th>\n",
       "      <td>Central</td>\n",
       "      <td>51</td>\n",
       "      <td>DP</td>\n",
       "      <td>IPT</td>\n",
       "      <td>term</td>\n",
       "      <td>default</td>\n",
       "      <td>0.8</td>\n",
       "      <td>0.2</td>\n",
       "      <td>0.15</td>\n",
       "      <td>default</td>\n",
       "      <td>False</td>\n",
       "      <td>False</td>\n",
       "      <td>False</td>\n",
       "      <td>default</td>\n",
       "    </tr>\n",
       "    <tr>\n",
       "      <th>172</th>\n",
       "      <td>Central</td>\n",
       "      <td>52</td>\n",
       "      <td>DP</td>\n",
       "      <td>IPT</td>\n",
       "      <td>term</td>\n",
       "      <td>default</td>\n",
       "      <td>0.8</td>\n",
       "      <td>0.4</td>\n",
       "      <td>0.15</td>\n",
       "      <td>default</td>\n",
       "      <td>False</td>\n",
       "      <td>False</td>\n",
       "      <td>False</td>\n",
       "      <td>default</td>\n",
       "    </tr>\n",
       "    <tr>\n",
       "      <th>173</th>\n",
       "      <td>Central</td>\n",
       "      <td>53</td>\n",
       "      <td>DP</td>\n",
       "      <td>IPT</td>\n",
       "      <td>term</td>\n",
       "      <td>default</td>\n",
       "      <td>0.8</td>\n",
       "      <td>0.6</td>\n",
       "      <td>0.15</td>\n",
       "      <td>default</td>\n",
       "      <td>False</td>\n",
       "      <td>False</td>\n",
       "      <td>False</td>\n",
       "      <td>default</td>\n",
       "    </tr>\n",
       "    <tr>\n",
       "      <th>174</th>\n",
       "      <td>Central</td>\n",
       "      <td>54</td>\n",
       "      <td>DP</td>\n",
       "      <td>IPT</td>\n",
       "      <td>term</td>\n",
       "      <td>default</td>\n",
       "      <td>0.8</td>\n",
       "      <td>0.8</td>\n",
       "      <td>0.15</td>\n",
       "      <td>default</td>\n",
       "      <td>False</td>\n",
       "      <td>False</td>\n",
       "      <td>False</td>\n",
       "      <td>default</td>\n",
       "    </tr>\n",
       "    <tr>\n",
       "      <th>175</th>\n",
       "      <td>Central</td>\n",
       "      <td>55</td>\n",
       "      <td>DP</td>\n",
       "      <td>IPT</td>\n",
       "      <td>term</td>\n",
       "      <td>default</td>\n",
       "      <td>0.8</td>\n",
       "      <td>1.0</td>\n",
       "      <td>0.15</td>\n",
       "      <td>default</td>\n",
       "      <td>False</td>\n",
       "      <td>False</td>\n",
       "      <td>False</td>\n",
       "      <td>default</td>\n",
       "    </tr>\n",
       "  </tbody>\n",
       "</table>\n",
       "<p>176 rows × 14 columns</p>\n",
       "</div>"
      ],
      "text/plain": [
       "    archetype  scenario_number drug_type screen_type interval itn_coverage  \\\n",
       "0    Southern                0      ASAQ         IPT     term      default   \n",
       "1    Southern                1      ASAQ         IPT     term      default   \n",
       "2    Southern                2      ASAQ         IPT     term      default   \n",
       "3    Southern                3      ASAQ         IPT    month      default   \n",
       "4    Southern                4      ASAQ         IPT    month      default   \n",
       "..        ...              ...       ...         ...      ...          ...   \n",
       "171   Central               51        DP         IPT     term      default   \n",
       "172   Central               52        DP         IPT     term      default   \n",
       "173   Central               53        DP         IPT     term      default   \n",
       "174   Central               54        DP         IPT     term      default   \n",
       "175   Central               55        DP         IPT     term      default   \n",
       "\n",
       "     hs_rate  within_school_coverage  out_of_school_rate target_age_range  \\\n",
       "0        0.8                     0.9                0.00          default   \n",
       "1        0.8                     0.9                0.15          default   \n",
       "2        0.8                     0.9                0.30          default   \n",
       "3        0.8                     0.9                0.00          default   \n",
       "4        0.8                     0.9                0.15          default   \n",
       "..       ...                     ...                 ...              ...   \n",
       "171      0.8                     0.2                0.15          default   \n",
       "172      0.8                     0.4                0.15          default   \n",
       "173      0.8                     0.6                0.15          default   \n",
       "174      0.8                     0.8                0.15          default   \n",
       "175      0.8                     1.0                0.15          default   \n",
       "\n",
       "     smc_on  ivermectin  primaquine smc_age_range  \n",
       "0     False       False       False       default  \n",
       "1     False       False       False       default  \n",
       "2     False       False       False       default  \n",
       "3     False       False       False       default  \n",
       "4     False       False       False       default  \n",
       "..      ...         ...         ...           ...  \n",
       "171   False       False       False       default  \n",
       "172   False       False       False       default  \n",
       "173   False       False       False       default  \n",
       "174   False       False       False       default  \n",
       "175   False       False       False       default  \n",
       "\n",
       "[176 rows x 14 columns]"
      ]
     },
     "execution_count": 6,
     "metadata": {},
     "output_type": "execute_result"
    }
   ],
   "source": [
    "df_scenarios = pd.read_csv(\"../../run_sims/Assets/scenario_master_list.csv\")\n",
    "df_scenarios"
   ]
  },
  {
   "cell_type": "code",
   "execution_count": 7,
   "id": "5119c30d-d51c-425a-bca6-165bf8c51d94",
   "metadata": {},
   "outputs": [],
   "source": [
    "df_marita = pd.merge(df_marita, df_scenarios, on=[\"archetype\", \"scenario_number\"])"
   ]
  },
  {
   "cell_type": "code",
   "execution_count": 8,
   "id": "0f39d5ba-203e-4ae8-9215-289dfa1a2921",
   "metadata": {},
   "outputs": [
    {
     "data": {
      "text/plain": [
       "Index(['iptsc_rdts_used', 'iptsc_drugs_used', 'cases_treated',\n",
       "       'severe_cases_treated', 'received_smc', 'received_ivermectin',\n",
       "       'received_primaquine', 'pfpr0_5', 'pfpr2_10', 'pfpr6_15', 'pfpr16_500',\n",
       "       'pfpr_all', 'clinical_incidence0_5', 'clinical_incidence2_10',\n",
       "       'clinical_incidence6_15', 'clinical_incidence16_500',\n",
       "       'clinical_incidence_all', 'severe_incidence0_5', 'severe_incidence2_10',\n",
       "       'severe_incidence6_15', 'severe_incidence16_500',\n",
       "       'severe_incidence_all', 'pop0_5', 'pop2_10', 'pop6_15', 'pop16_500',\n",
       "       'pop_all', 'avg_age', 'avg_age_clinical_cases', 'avg_age_severe_cases',\n",
       "       'sim_id', 'archetype', 'baseline_eir', 'Run_Number', 'scenario_number',\n",
       "       'drug_type', 'screen_type', 'interval', 'itn_coverage', 'hs_rate',\n",
       "       'within_school_coverage', 'out_of_school_rate', 'target_age_range',\n",
       "       'smc_on', 'ivermectin', 'primaquine', 'smc_age_range'],\n",
       "      dtype='object')"
      ]
     },
     "execution_count": 8,
     "metadata": {},
     "output_type": "execute_result"
    }
   ],
   "source": [
    "df_marita.columns"
   ]
  },
  {
   "cell_type": "code",
   "execution_count": 9,
   "id": "03a12482-9c67-460f-bc60-2a28e20aa7b5",
   "metadata": {},
   "outputs": [],
   "source": [
    "df_marita.rename(columns={\"received_ivermectin\": \"received_ivermectin_in_intervention\",\n",
    "                         \"received_primaquine\": \"received_primaquine_in_intervention\",\n",
    "                         \"cases_treated\": \"received_drugs_and_rdt_in_health_facility\",\n",
    "                         \"iptsc_rdts_used\": \"received_rdt_in_intervention\",\n",
    "                         \"iptsc_drugs_used\": \"received_drugs_in_intervention\"},\n",
    "                inplace=True)"
   ]
  },
  {
   "cell_type": "code",
   "execution_count": 10,
   "id": "3cb80006-2fd5-4710-a904-49ad47d536d1",
   "metadata": {},
   "outputs": [],
   "source": [
    "df_marita.to_csv(\"marita_format_sim_data_220708.csv\",index=False)"
   ]
  },
  {
   "cell_type": "code",
   "execution_count": 11,
   "id": "90371959-63fc-4560-b430-b91a1d4fa6be",
   "metadata": {},
   "outputs": [
    {
     "data": {
      "text/plain": [
       "Index(['received_rdt_in_intervention', 'received_drugs_in_intervention',\n",
       "       'received_drugs_and_rdt_in_health_facility', 'severe_cases_treated',\n",
       "       'received_smc', 'received_ivermectin_in_intervention',\n",
       "       'received_primaquine_in_intervention', 'pfpr0_5', 'pfpr2_10',\n",
       "       'pfpr6_15', 'pfpr16_500', 'pfpr_all', 'clinical_incidence0_5',\n",
       "       'clinical_incidence2_10', 'clinical_incidence6_15',\n",
       "       'clinical_incidence16_500', 'clinical_incidence_all',\n",
       "       'severe_incidence0_5', 'severe_incidence2_10', 'severe_incidence6_15',\n",
       "       'severe_incidence16_500', 'severe_incidence_all', 'pop0_5', 'pop2_10',\n",
       "       'pop6_15', 'pop16_500', 'pop_all', 'avg_age', 'avg_age_clinical_cases',\n",
       "       'avg_age_severe_cases', 'sim_id', 'archetype', 'baseline_eir',\n",
       "       'Run_Number', 'scenario_number', 'drug_type', 'screen_type', 'interval',\n",
       "       'itn_coverage', 'hs_rate', 'within_school_coverage',\n",
       "       'out_of_school_rate', 'target_age_range', 'smc_on', 'ivermectin',\n",
       "       'primaquine', 'smc_age_range'],\n",
       "      dtype='object')"
      ]
     },
     "execution_count": 11,
     "metadata": {},
     "output_type": "execute_result"
    }
   ],
   "source": [
    "df_marita.columns"
   ]
  },
  {
   "cell_type": "code",
   "execution_count": 12,
   "id": "1f94e45d-a4df-4123-af1a-3407b4961ef6",
   "metadata": {},
   "outputs": [],
   "source": [
    "# Cost vs cases averted for major IPTsc scenario variations"
   ]
  },
  {
   "cell_type": "code",
   "execution_count": null,
   "id": "a8659cab-c490-4f88-95f4-602a6e0e5aca",
   "metadata": {},
   "outputs": [],
   "source": []
  }
 ],
 "metadata": {
  "kernelspec": {
   "display_name": "Python 3 (ipykernel)",
   "language": "python",
   "name": "python3"
  },
  "language_info": {
   "codemirror_mode": {
    "name": "ipython",
    "version": 3
   },
   "file_extension": ".py",
   "mimetype": "text/x-python",
   "name": "python",
   "nbconvert_exporter": "python",
   "pygments_lexer": "ipython3",
   "version": "3.8.10"
  }
 },
 "nbformat": 4,
 "nbformat_minor": 5
}
