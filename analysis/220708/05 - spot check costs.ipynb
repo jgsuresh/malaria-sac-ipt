{
 "cells": [
  {
   "cell_type": "code",
   "execution_count": 1,
   "id": "dc5897f8-5ed4-4522-b9ae-b4730ba06706",
   "metadata": {},
   "outputs": [],
   "source": [
    "import pandas as pd\n",
    "import numpy as np\n",
    "import matplotlib\n",
    "matplotlib.rcParams['pdf.fonttype'] = 42\n",
    "import matplotlib.pyplot as plt\n",
    "import seaborn as sns\n",
    "sns.set_context(\"talk\")\n",
    "sns.set_style(\"white\")"
   ]
  },
  {
   "cell_type": "code",
   "execution_count": 2,
   "id": "37daae34-1b22-44d2-9a5c-c6f2d4212f18",
   "metadata": {},
   "outputs": [],
   "source": [
    "df_new = pd.read_csv(\"sim_data_summary_220708.csv\")\n",
    "df_old = pd.read_csv(\"../220510/sim_data_summary_220510.csv\")"
   ]
  },
  {
   "cell_type": "code",
   "execution_count": 5,
   "id": "c0746c0f-5807-4637-847e-572f69977a8d",
   "metadata": {},
   "outputs": [
    {
     "data": {
      "text/html": [
       "<div>\n",
       "<style scoped>\n",
       "    .dataframe tbody tr th:only-of-type {\n",
       "        vertical-align: middle;\n",
       "    }\n",
       "\n",
       "    .dataframe tbody tr th {\n",
       "        vertical-align: top;\n",
       "    }\n",
       "\n",
       "    .dataframe thead th {\n",
       "        text-align: right;\n",
       "    }\n",
       "</style>\n",
       "<table border=\"1\" class=\"dataframe\">\n",
       "  <thead>\n",
       "    <tr style=\"text-align: right;\">\n",
       "      <th></th>\n",
       "      <th>archetype</th>\n",
       "      <th>baseline_eir</th>\n",
       "      <th>scenario_number</th>\n",
       "      <th>iptsc_rdts_used</th>\n",
       "      <th>iptsc_drugs_used</th>\n",
       "      <th>cases_treated</th>\n",
       "      <th>severe_cases_treated</th>\n",
       "      <th>received_smc</th>\n",
       "      <th>received_ivermectin</th>\n",
       "      <th>received_primaquine</th>\n",
       "      <th>...</th>\n",
       "      <th>interval</th>\n",
       "      <th>itn_coverage</th>\n",
       "      <th>hs_rate</th>\n",
       "      <th>within_school_coverage</th>\n",
       "      <th>out_of_school_rate</th>\n",
       "      <th>target_age_range</th>\n",
       "      <th>smc_on</th>\n",
       "      <th>ivermectin</th>\n",
       "      <th>primaquine</th>\n",
       "      <th>smc_age_range</th>\n",
       "    </tr>\n",
       "  </thead>\n",
       "  <tbody>\n",
       "    <tr>\n",
       "      <th>0</th>\n",
       "      <td>Central</td>\n",
       "      <td>1</td>\n",
       "      <td>0</td>\n",
       "      <td>0.0</td>\n",
       "      <td>6020.0</td>\n",
       "      <td>4388.8</td>\n",
       "      <td>0.0</td>\n",
       "      <td>0.0</td>\n",
       "      <td>0.0</td>\n",
       "      <td>0.0</td>\n",
       "      <td>...</td>\n",
       "      <td>term</td>\n",
       "      <td>default</td>\n",
       "      <td>0.8</td>\n",
       "      <td>0.9</td>\n",
       "      <td>0.00</td>\n",
       "      <td>default</td>\n",
       "      <td>False</td>\n",
       "      <td>False</td>\n",
       "      <td>False</td>\n",
       "      <td>default</td>\n",
       "    </tr>\n",
       "    <tr>\n",
       "      <th>1</th>\n",
       "      <td>Central</td>\n",
       "      <td>3</td>\n",
       "      <td>0</td>\n",
       "      <td>0.0</td>\n",
       "      <td>5934.2</td>\n",
       "      <td>4751.8</td>\n",
       "      <td>0.0</td>\n",
       "      <td>0.0</td>\n",
       "      <td>0.0</td>\n",
       "      <td>0.0</td>\n",
       "      <td>...</td>\n",
       "      <td>term</td>\n",
       "      <td>default</td>\n",
       "      <td>0.8</td>\n",
       "      <td>0.9</td>\n",
       "      <td>0.00</td>\n",
       "      <td>default</td>\n",
       "      <td>False</td>\n",
       "      <td>False</td>\n",
       "      <td>False</td>\n",
       "      <td>default</td>\n",
       "    </tr>\n",
       "    <tr>\n",
       "      <th>2</th>\n",
       "      <td>Central</td>\n",
       "      <td>10</td>\n",
       "      <td>0</td>\n",
       "      <td>0.0</td>\n",
       "      <td>6271.2</td>\n",
       "      <td>6570.2</td>\n",
       "      <td>0.0</td>\n",
       "      <td>0.0</td>\n",
       "      <td>0.0</td>\n",
       "      <td>0.0</td>\n",
       "      <td>...</td>\n",
       "      <td>term</td>\n",
       "      <td>default</td>\n",
       "      <td>0.8</td>\n",
       "      <td>0.9</td>\n",
       "      <td>0.00</td>\n",
       "      <td>default</td>\n",
       "      <td>False</td>\n",
       "      <td>False</td>\n",
       "      <td>False</td>\n",
       "      <td>default</td>\n",
       "    </tr>\n",
       "    <tr>\n",
       "      <th>3</th>\n",
       "      <td>Central</td>\n",
       "      <td>30</td>\n",
       "      <td>0</td>\n",
       "      <td>0.0</td>\n",
       "      <td>6115.6</td>\n",
       "      <td>7664.4</td>\n",
       "      <td>0.0</td>\n",
       "      <td>0.0</td>\n",
       "      <td>0.0</td>\n",
       "      <td>0.0</td>\n",
       "      <td>...</td>\n",
       "      <td>term</td>\n",
       "      <td>default</td>\n",
       "      <td>0.8</td>\n",
       "      <td>0.9</td>\n",
       "      <td>0.00</td>\n",
       "      <td>default</td>\n",
       "      <td>False</td>\n",
       "      <td>False</td>\n",
       "      <td>False</td>\n",
       "      <td>default</td>\n",
       "    </tr>\n",
       "    <tr>\n",
       "      <th>4</th>\n",
       "      <td>Central</td>\n",
       "      <td>100</td>\n",
       "      <td>0</td>\n",
       "      <td>0.0</td>\n",
       "      <td>6222.2</td>\n",
       "      <td>9609.0</td>\n",
       "      <td>0.0</td>\n",
       "      <td>0.0</td>\n",
       "      <td>0.0</td>\n",
       "      <td>0.0</td>\n",
       "      <td>...</td>\n",
       "      <td>term</td>\n",
       "      <td>default</td>\n",
       "      <td>0.8</td>\n",
       "      <td>0.9</td>\n",
       "      <td>0.00</td>\n",
       "      <td>default</td>\n",
       "      <td>False</td>\n",
       "      <td>False</td>\n",
       "      <td>False</td>\n",
       "      <td>default</td>\n",
       "    </tr>\n",
       "    <tr>\n",
       "      <th>...</th>\n",
       "      <td>...</td>\n",
       "      <td>...</td>\n",
       "      <td>...</td>\n",
       "      <td>...</td>\n",
       "      <td>...</td>\n",
       "      <td>...</td>\n",
       "      <td>...</td>\n",
       "      <td>...</td>\n",
       "      <td>...</td>\n",
       "      <td>...</td>\n",
       "      <td>...</td>\n",
       "      <td>...</td>\n",
       "      <td>...</td>\n",
       "      <td>...</td>\n",
       "      <td>...</td>\n",
       "      <td>...</td>\n",
       "      <td>...</td>\n",
       "      <td>...</td>\n",
       "      <td>...</td>\n",
       "      <td>...</td>\n",
       "      <td>...</td>\n",
       "    </tr>\n",
       "    <tr>\n",
       "      <th>875</th>\n",
       "      <td>Southern</td>\n",
       "      <td>1</td>\n",
       "      <td>55</td>\n",
       "      <td>0.0</td>\n",
       "      <td>5753.0</td>\n",
       "      <td>682.8</td>\n",
       "      <td>0.0</td>\n",
       "      <td>0.0</td>\n",
       "      <td>0.0</td>\n",
       "      <td>0.0</td>\n",
       "      <td>...</td>\n",
       "      <td>term</td>\n",
       "      <td>default</td>\n",
       "      <td>0.8</td>\n",
       "      <td>1.0</td>\n",
       "      <td>0.15</td>\n",
       "      <td>default</td>\n",
       "      <td>False</td>\n",
       "      <td>False</td>\n",
       "      <td>False</td>\n",
       "      <td>default</td>\n",
       "    </tr>\n",
       "    <tr>\n",
       "      <th>876</th>\n",
       "      <td>Southern</td>\n",
       "      <td>3</td>\n",
       "      <td>55</td>\n",
       "      <td>0.0</td>\n",
       "      <td>5917.2</td>\n",
       "      <td>1910.8</td>\n",
       "      <td>0.0</td>\n",
       "      <td>0.0</td>\n",
       "      <td>0.0</td>\n",
       "      <td>0.0</td>\n",
       "      <td>...</td>\n",
       "      <td>term</td>\n",
       "      <td>default</td>\n",
       "      <td>0.8</td>\n",
       "      <td>1.0</td>\n",
       "      <td>0.15</td>\n",
       "      <td>default</td>\n",
       "      <td>False</td>\n",
       "      <td>False</td>\n",
       "      <td>False</td>\n",
       "      <td>default</td>\n",
       "    </tr>\n",
       "    <tr>\n",
       "      <th>877</th>\n",
       "      <td>Southern</td>\n",
       "      <td>10</td>\n",
       "      <td>55</td>\n",
       "      <td>0.0</td>\n",
       "      <td>5753.6</td>\n",
       "      <td>3109.0</td>\n",
       "      <td>0.0</td>\n",
       "      <td>0.0</td>\n",
       "      <td>0.0</td>\n",
       "      <td>0.0</td>\n",
       "      <td>...</td>\n",
       "      <td>term</td>\n",
       "      <td>default</td>\n",
       "      <td>0.8</td>\n",
       "      <td>1.0</td>\n",
       "      <td>0.15</td>\n",
       "      <td>default</td>\n",
       "      <td>False</td>\n",
       "      <td>False</td>\n",
       "      <td>False</td>\n",
       "      <td>default</td>\n",
       "    </tr>\n",
       "    <tr>\n",
       "      <th>878</th>\n",
       "      <td>Southern</td>\n",
       "      <td>30</td>\n",
       "      <td>55</td>\n",
       "      <td>0.0</td>\n",
       "      <td>5874.8</td>\n",
       "      <td>4542.8</td>\n",
       "      <td>0.0</td>\n",
       "      <td>0.0</td>\n",
       "      <td>0.0</td>\n",
       "      <td>0.0</td>\n",
       "      <td>...</td>\n",
       "      <td>term</td>\n",
       "      <td>default</td>\n",
       "      <td>0.8</td>\n",
       "      <td>1.0</td>\n",
       "      <td>0.15</td>\n",
       "      <td>default</td>\n",
       "      <td>False</td>\n",
       "      <td>False</td>\n",
       "      <td>False</td>\n",
       "      <td>default</td>\n",
       "    </tr>\n",
       "    <tr>\n",
       "      <th>879</th>\n",
       "      <td>Southern</td>\n",
       "      <td>100</td>\n",
       "      <td>55</td>\n",
       "      <td>0.0</td>\n",
       "      <td>6074.2</td>\n",
       "      <td>5843.2</td>\n",
       "      <td>0.0</td>\n",
       "      <td>0.0</td>\n",
       "      <td>0.0</td>\n",
       "      <td>0.0</td>\n",
       "      <td>...</td>\n",
       "      <td>term</td>\n",
       "      <td>default</td>\n",
       "      <td>0.8</td>\n",
       "      <td>1.0</td>\n",
       "      <td>0.15</td>\n",
       "      <td>default</td>\n",
       "      <td>False</td>\n",
       "      <td>False</td>\n",
       "      <td>False</td>\n",
       "      <td>default</td>\n",
       "    </tr>\n",
       "  </tbody>\n",
       "</table>\n",
       "<p>880 rows × 77 columns</p>\n",
       "</div>"
      ],
      "text/plain": [
       "    archetype  baseline_eir  scenario_number  iptsc_rdts_used  \\\n",
       "0     Central             1                0              0.0   \n",
       "1     Central             3                0              0.0   \n",
       "2     Central            10                0              0.0   \n",
       "3     Central            30                0              0.0   \n",
       "4     Central           100                0              0.0   \n",
       "..        ...           ...              ...              ...   \n",
       "875  Southern             1               55              0.0   \n",
       "876  Southern             3               55              0.0   \n",
       "877  Southern            10               55              0.0   \n",
       "878  Southern            30               55              0.0   \n",
       "879  Southern           100               55              0.0   \n",
       "\n",
       "     iptsc_drugs_used  cases_treated  severe_cases_treated  received_smc  \\\n",
       "0              6020.0         4388.8                   0.0           0.0   \n",
       "1              5934.2         4751.8                   0.0           0.0   \n",
       "2              6271.2         6570.2                   0.0           0.0   \n",
       "3              6115.6         7664.4                   0.0           0.0   \n",
       "4              6222.2         9609.0                   0.0           0.0   \n",
       "..                ...            ...                   ...           ...   \n",
       "875            5753.0          682.8                   0.0           0.0   \n",
       "876            5917.2         1910.8                   0.0           0.0   \n",
       "877            5753.6         3109.0                   0.0           0.0   \n",
       "878            5874.8         4542.8                   0.0           0.0   \n",
       "879            6074.2         5843.2                   0.0           0.0   \n",
       "\n",
       "     received_ivermectin  received_primaquine  ...  interval  itn_coverage  \\\n",
       "0                    0.0                  0.0  ...      term       default   \n",
       "1                    0.0                  0.0  ...      term       default   \n",
       "2                    0.0                  0.0  ...      term       default   \n",
       "3                    0.0                  0.0  ...      term       default   \n",
       "4                    0.0                  0.0  ...      term       default   \n",
       "..                   ...                  ...  ...       ...           ...   \n",
       "875                  0.0                  0.0  ...      term       default   \n",
       "876                  0.0                  0.0  ...      term       default   \n",
       "877                  0.0                  0.0  ...      term       default   \n",
       "878                  0.0                  0.0  ...      term       default   \n",
       "879                  0.0                  0.0  ...      term       default   \n",
       "\n",
       "     hs_rate  within_school_coverage  out_of_school_rate  target_age_range  \\\n",
       "0        0.8                     0.9                0.00           default   \n",
       "1        0.8                     0.9                0.00           default   \n",
       "2        0.8                     0.9                0.00           default   \n",
       "3        0.8                     0.9                0.00           default   \n",
       "4        0.8                     0.9                0.00           default   \n",
       "..       ...                     ...                 ...               ...   \n",
       "875      0.8                     1.0                0.15           default   \n",
       "876      0.8                     1.0                0.15           default   \n",
       "877      0.8                     1.0                0.15           default   \n",
       "878      0.8                     1.0                0.15           default   \n",
       "879      0.8                     1.0                0.15           default   \n",
       "\n",
       "     smc_on  ivermectin  primaquine  smc_age_range  \n",
       "0     False       False       False        default  \n",
       "1     False       False       False        default  \n",
       "2     False       False       False        default  \n",
       "3     False       False       False        default  \n",
       "4     False       False       False        default  \n",
       "..      ...         ...         ...            ...  \n",
       "875   False       False       False        default  \n",
       "876   False       False       False        default  \n",
       "877   False       False       False        default  \n",
       "878   False       False       False        default  \n",
       "879   False       False       False        default  \n",
       "\n",
       "[880 rows x 77 columns]"
      ]
     },
     "execution_count": 5,
     "metadata": {},
     "output_type": "execute_result"
    }
   ],
   "source": [
    "df_new"
   ]
  },
  {
   "cell_type": "code",
   "execution_count": 88,
   "id": "ffd04e60-3b83-4816-b2d3-789f369ac160",
   "metadata": {},
   "outputs": [],
   "source": [
    "scenario_number = 16\n",
    "foo_new = df_new[np.logical_and.reduce([df_new[\"archetype\"]==\"Sahel\", df_new[\"baseline_eir\"]==3, df_new[\"scenario_number\"]==16])]\n",
    "foo_old = df_old[np.logical_and.reduce([df_old[\"archetype\"]==\"Sahel\", df_old[\"baseline_eir\"]==3, df_old[\"scenario_number\"]==16])]"
   ]
  },
  {
   "cell_type": "code",
   "execution_count": 89,
   "id": "02ff82bd-de78-4916-a98b-f7fe80ae0ab7",
   "metadata": {},
   "outputs": [
    {
     "data": {
      "text/plain": [
       "Index(['archetype', 'baseline_eir', 'scenario_number', 'iptsc_rdts_used',\n",
       "       'iptsc_drugs_used', 'cases_treated', 'severe_cases_treated',\n",
       "       'received_smc', 'received_ivermectin', 'received_primaquine', 'pfpr0_5',\n",
       "       'pfpr2_10', 'pfpr6_15', 'pfpr16_500', 'pfpr_all',\n",
       "       'clinical_incidence0_5', 'clinical_incidence2_10',\n",
       "       'clinical_incidence6_15', 'clinical_incidence16_500',\n",
       "       'clinical_incidence_all', 'severe_incidence0_5', 'severe_incidence2_10',\n",
       "       'severe_incidence6_15', 'severe_incidence16_500',\n",
       "       'severe_incidence_all', 'pop0_5', 'pop2_10', 'pop6_15', 'pop16_500',\n",
       "       'pop_all', 'avg_age', 'avg_age_clinical_cases', 'avg_age_severe_cases',\n",
       "       'Run_Number', 'cases_treated_BASELINE',\n",
       "       'clinical_incidence0_5_BASELINE', 'clinical_incidence2_10_BASELINE',\n",
       "       'clinical_incidence6_15_BASELINE', 'clinical_incidence16_500_BASELINE',\n",
       "       'clinical_incidence_all_BASELINE', 'frac_averted_clinical_0_5',\n",
       "       'frac_averted_clinical_2_10', 'frac_averted_clinical_6_15',\n",
       "       'frac_averted_clinical_16_500', 'frac_averted_clinical__all',\n",
       "       'cost.CHW', 'cost.RDT', 'cost.drug', 'cost.ACT', 'cost.smc',\n",
       "       'cost.facility', 'cost.severe', 'cost.bednet', 'cost.iver', 'cost.prim',\n",
       "       'cost.CHW.d', 'cost.RDT.d', 'cost.drug.d', 'cost.facility.d',\n",
       "       'cost.severe.d', 'cost.d', 'cost.smc.ref', 'cost.smc.low', 'cost.low',\n",
       "       'cost', 'drug_type', 'screen_type', 'interval', 'itn_coverage',\n",
       "       'hs_rate', 'within_school_coverage', 'out_of_school_rate',\n",
       "       'target_age_range', 'smc_on', 'ivermectin', 'primaquine',\n",
       "       'smc_age_range'],\n",
       "      dtype='object')"
      ]
     },
     "execution_count": 89,
     "metadata": {},
     "output_type": "execute_result"
    }
   ],
   "source": [
    "df_new.columns"
   ]
  },
  {
   "cell_type": "code",
   "execution_count": 90,
   "id": "46f52bc0-8b9d-4087-8080-b3890f15c513",
   "metadata": {},
   "outputs": [
    {
     "data": {
      "text/plain": [
       "361    1.921099\n",
       "Name: cost.CHW, dtype: float64"
      ]
     },
     "execution_count": 90,
     "metadata": {},
     "output_type": "execute_result"
    }
   ],
   "source": [
    "foo_new[\"cost.CHW\"]/foo_old[\"cost.CHW\"]"
   ]
  },
  {
   "cell_type": "code",
   "execution_count": 91,
   "id": "68c8ccca-e4f5-49c3-92db-2bc5b65514d8",
   "metadata": {},
   "outputs": [
    {
     "data": {
      "text/plain": [
       "361    1.186921\n",
       "Name: cost.RDT, dtype: float64"
      ]
     },
     "execution_count": 91,
     "metadata": {},
     "output_type": "execute_result"
    }
   ],
   "source": [
    "foo_new[\"cost.RDT\"]/foo_old[\"cost.RDT\"]"
   ]
  },
  {
   "cell_type": "code",
   "execution_count": 92,
   "id": "f782e758-804b-47b0-ac67-b0e1010166b6",
   "metadata": {},
   "outputs": [
    {
     "data": {
      "text/plain": [
       "361    7.931295\n",
       "Name: cost.drug, dtype: float64"
      ]
     },
     "execution_count": 92,
     "metadata": {},
     "output_type": "execute_result"
    }
   ],
   "source": [
    "foo_new[\"cost.drug\"]/foo_old[\"cost.drug\"]"
   ]
  },
  {
   "cell_type": "code",
   "execution_count": 93,
   "id": "fafb56c0-4511-4f4e-92bd-511d5c1e2d59",
   "metadata": {},
   "outputs": [
    {
     "data": {
      "text/plain": [
       "361    3.801988\n",
       "Name: cost.ACT, dtype: float64"
      ]
     },
     "execution_count": 93,
     "metadata": {},
     "output_type": "execute_result"
    }
   ],
   "source": [
    "foo_new[\"cost.ACT\"]/foo_old[\"cost.ACT\"]"
   ]
  },
  {
   "cell_type": "code",
   "execution_count": 94,
   "id": "beefb7fe-2384-42e7-bab4-6bc2682faf60",
   "metadata": {},
   "outputs": [
    {
     "data": {
      "text/plain": [
       "361    0.269009\n",
       "Name: cost.smc, dtype: float64"
      ]
     },
     "execution_count": 94,
     "metadata": {},
     "output_type": "execute_result"
    }
   ],
   "source": [
    "foo_new[\"cost.smc\"]/foo_old[\"cost.smc\"]"
   ]
  },
  {
   "cell_type": "code",
   "execution_count": 95,
   "id": "7f5cdbe7-1793-402d-8909-cf02600e38de",
   "metadata": {},
   "outputs": [
    {
     "data": {
      "text/plain": [
       "361    0.978591\n",
       "Name: cost.facility, dtype: float64"
      ]
     },
     "execution_count": 95,
     "metadata": {},
     "output_type": "execute_result"
    }
   ],
   "source": [
    "foo_new[\"cost.facility\"]/foo_old[\"cost.facility\"]"
   ]
  },
  {
   "cell_type": "code",
   "execution_count": 96,
   "id": "6377e52f-3636-4397-9c56-f4c054e94cfa",
   "metadata": {},
   "outputs": [
    {
     "data": {
      "text/plain": [
       "361    1.918215\n",
       "Name: cost.severe, dtype: float64"
      ]
     },
     "execution_count": 96,
     "metadata": {},
     "output_type": "execute_result"
    }
   ],
   "source": [
    "foo_new[\"cost.severe\"]/foo_old[\"cost.severe\"]"
   ]
  },
  {
   "cell_type": "code",
   "execution_count": 97,
   "id": "659f149e-a609-4df2-b645-81173b68ff30",
   "metadata": {},
   "outputs": [
    {
     "data": {
      "text/plain": [
       "361    0.633969\n",
       "Name: cost.bednet, dtype: float64"
      ]
     },
     "execution_count": 97,
     "metadata": {},
     "output_type": "execute_result"
    }
   ],
   "source": [
    "foo_new[\"cost.bednet\"]/foo_old[\"cost.bednet\"]"
   ]
  },
  {
   "cell_type": "code",
   "execution_count": 98,
   "id": "9a5405d2-09b2-4853-94ed-10e434e15b13",
   "metadata": {},
   "outputs": [
    {
     "data": {
      "text/plain": [
       "361    66701.705999\n",
       "dtype: float64"
      ]
     },
     "execution_count": 98,
     "metadata": {},
     "output_type": "execute_result"
    }
   ],
   "source": [
    "foo_new[\"cost.CHW\"]+foo_new[\"cost.RDT\"]+foo_new[\"cost.drug\"]+foo_new[\"cost.ACT\"]+foo_new[\"cost.smc\"]+foo_new[\"cost.facility\"]+foo_new[\"cost.severe\"]+foo_new[\"cost.bednet\"]"
   ]
  },
  {
   "cell_type": "code",
   "execution_count": 99,
   "id": "8d96ca97-7a01-46f0-b264-e7ffe98c3465",
   "metadata": {},
   "outputs": [
    {
     "data": {
      "text/plain": [
       "361    66701.705999\n",
       "Name: cost, dtype: float64"
      ]
     },
     "execution_count": 99,
     "metadata": {},
     "output_type": "execute_result"
    }
   ],
   "source": [
    "foo_new[\"cost\"]"
   ]
  },
  {
   "cell_type": "code",
   "execution_count": 100,
   "id": "5c158195-5069-47f7-b9a3-6a276579c3e2",
   "metadata": {},
   "outputs": [
    {
     "data": {
      "text/plain": [
       "361    72343.6375\n",
       "Name: cost, dtype: float64"
      ]
     },
     "execution_count": 100,
     "metadata": {},
     "output_type": "execute_result"
    }
   ],
   "source": [
    "foo_old[\"cost\"]"
   ]
  },
  {
   "cell_type": "code",
   "execution_count": 101,
   "id": "2a8b7689-90b8-47ac-b67f-58f393d47ee5",
   "metadata": {},
   "outputs": [
    {
     "name": "stdout",
     "output_type": "stream",
     "text": [
      "\n",
      "CHW\n",
      "0.1149222780009136\n",
      "0.05515579549016652\n",
      "\n",
      "RDT\n",
      "0.012635119107858937\n",
      "0.0098150863493139\n",
      "\n",
      "drug\n",
      "0.332342803948588\n",
      "0.03863481029521304\n",
      "\n",
      "ACT\n",
      "0.01816298371754722\n",
      "0.004404666337491635\n",
      "\n",
      "smc\n",
      "0.1346995532629821\n",
      "0.4616739853533815\n",
      "\n",
      "facility\n",
      "0.2545450036937415\n",
      "0.23982811575917162\n",
      "\n",
      "severe\n",
      "0.002560654137042904\n",
      "0.00123080801160246\n",
      "\n",
      "bednet\n",
      "0.13013160413132616\n",
      "0.1892567324036584\n"
     ]
    }
   ],
   "source": [
    "cost_list = [\"CHW\", \"RDT\", \"drug\", \"ACT\", \"smc\", \"facility\", \"severe\", \"bednet\"]\n",
    "\n",
    "for c in cost_list:\n",
    "    print(\"\\n\"+c)\n",
    "    print(foo_new[f\"cost.{c}\"].iloc[0]/foo_new[\"cost\"].iloc[0])\n",
    "    print(foo_old[f\"cost.{c}\"].iloc[0]/foo_old[\"cost\"].iloc[0])"
   ]
  },
  {
   "cell_type": "code",
   "execution_count": 102,
   "id": "ea84b305-b72d-48b8-81b9-ba39f3fef9dc",
   "metadata": {},
   "outputs": [
    {
     "name": "stdout",
     "output_type": "stream",
     "text": [
      "\n",
      "CHW\n",
      "3675.34112505967\n",
      "\n",
      "RDT\n",
      "132.724951118381\n",
      "\n",
      "drug\n",
      "19372.84928913894\n",
      "\n",
      "ACT\n",
      "892.852415174002\n",
      "\n",
      "smc\n",
      "-24414.485439381002\n",
      "\n",
      "facility\n",
      "-371.4522686834025\n",
      "\n",
      "severe\n",
      "81.7588707923026\n",
      "\n",
      "bednet\n",
      "-5011.5204433610015\n"
     ]
    }
   ],
   "source": [
    "cost_list = [\"CHW\", \"RDT\", \"drug\", \"ACT\", \"smc\", \"facility\", \"severe\", \"bednet\"]\n",
    "\n",
    "for c in cost_list:\n",
    "    print(\"\\n\"+c)\n",
    "    print(foo_new[f\"cost.{c}\"].iloc[0]-foo_old[f\"cost.{c}\"].iloc[0])"
   ]
  },
  {
   "cell_type": "code",
   "execution_count": 103,
   "id": "afa50669-c4d6-481e-93ac-5a6b1be21b72",
   "metadata": {},
   "outputs": [
    {
     "data": {
      "text/plain": [
       "361    8984.69\n",
       "Name: cost.smc, dtype: float64"
      ]
     },
     "execution_count": 103,
     "metadata": {},
     "output_type": "execute_result"
    }
   ],
   "source": [
    "foo_new[\"cost.smc\"]"
   ]
  },
  {
   "cell_type": "code",
   "execution_count": 104,
   "id": "608c8eef-b40b-4071-a388-375f81f358bf",
   "metadata": {},
   "outputs": [
    {
     "data": {
      "text/plain": [
       "361    33399.175439\n",
       "Name: cost.smc, dtype: float64"
      ]
     },
     "execution_count": 104,
     "metadata": {},
     "output_type": "execute_result"
    }
   ],
   "source": [
    "foo_old[\"cost.smc\"]"
   ]
  },
  {
   "cell_type": "code",
   "execution_count": 118,
   "id": "3974d03f-7827-40c5-bc23-c688a00f5bd5",
   "metadata": {},
   "outputs": [
    {
     "data": {
      "text/plain": [
       "361    3.717343\n",
       "Name: cost.smc, dtype: float64"
      ]
     },
     "execution_count": 118,
     "metadata": {},
     "output_type": "execute_result"
    }
   ],
   "source": [
    "foo_old[\"cost.smc\"]/foo_new[\"cost.smc\"]"
   ]
  },
  {
   "cell_type": "code",
   "execution_count": 105,
   "id": "97976f03-978e-47e4-9a1a-5db685a15139",
   "metadata": {},
   "outputs": [
    {
     "data": {
      "text/plain": [
       "361    33399.175439\n",
       "Name: cost.smc.low, dtype: float64"
      ]
     },
     "execution_count": 105,
     "metadata": {},
     "output_type": "execute_result"
    }
   ],
   "source": [
    "foo_old[\"cost.smc.low\"]"
   ]
  },
  {
   "cell_type": "code",
   "execution_count": 106,
   "id": "547763c7-9c01-477e-a36f-d48583ab28e0",
   "metadata": {},
   "outputs": [
    {
     "data": {
      "text/plain": [
       "361    33185.531188\n",
       "Name: cost.smc.ref, dtype: float64"
      ]
     },
     "execution_count": 106,
     "metadata": {},
     "output_type": "execute_result"
    }
   ],
   "source": [
    "foo_old[\"cost.smc.ref\"]"
   ]
  },
  {
   "cell_type": "code",
   "execution_count": 119,
   "id": "6acf1ef3-23fa-48ed-b1ab-29d95b67e931",
   "metadata": {},
   "outputs": [],
   "source": [
    "df = pd.read_csv(\"sim_data_full_220708.csv\")\n",
    "df=df[np.logical_and(df[\"scenario_number\"]==scenario_number, df[\"archetype\"]==\"Sahel\")]"
   ]
  },
  {
   "cell_type": "code",
   "execution_count": null,
   "id": "1fbd3f51-33d6-4dae-bf29-c2c5832c549a",
   "metadata": {},
   "outputs": [],
   "source": []
  },
  {
   "cell_type": "code",
   "execution_count": 120,
   "id": "7a953d3e-e83d-4dae-9ea4-dfebeff31d30",
   "metadata": {},
   "outputs": [
    {
     "data": {
      "text/plain": [
       "(array([1., 4., 2., 3., 2., 1., 3., 2., 4., 3.]),\n",
       " array([6102. , 6195.6, 6289.2, 6382.8, 6476.4, 6570. , 6663.6, 6757.2,\n",
       "        6850.8, 6944.4, 7038. ]),\n",
       " <BarContainer object of 10 artists>)"
      ]
     },
     "execution_count": 120,
     "metadata": {},
     "output_type": "execute_result"
    },
    {
     "data": {
      "image/png": "[encoded data removed]",
      "text/plain": [
       "<Figure size 432x288 with 1 Axes>"
      ]
     },
     "metadata": {},
     "output_type": "display_data"
    }
   ],
   "source": [
    "plt.hist(df[\"received_smc\"])"
   ]
  },
  {
   "cell_type": "code",
   "execution_count": 121,
   "id": "d9179b44-15a3-41c4-a3c3-3a34c0a961b1",
   "metadata": {},
   "outputs": [
    {
     "data": {
      "text/plain": [
       "6608.68"
      ]
     },
     "execution_count": 121,
     "metadata": {},
     "output_type": "execute_result"
    }
   ],
   "source": [
    "np.mean(df[\"received_smc\"])"
   ]
  },
  {
   "cell_type": "code",
   "execution_count": 109,
   "id": "9193388f-53b6-4b07-81ba-9d68d6d7725e",
   "metadata": {},
   "outputs": [
    {
     "data": {
      "text/plain": [
       "825.0"
      ]
     },
     "execution_count": 109,
     "metadata": {},
     "output_type": "execute_result"
    }
   ],
   "source": [
    "6600/(2*4)"
   ]
  },
  {
   "cell_type": "code",
   "execution_count": 110,
   "id": "984bdb8a-44be-4748-a75e-029cf5db976d",
   "metadata": {},
   "outputs": [
    {
     "data": {
      "text/plain": [
       "0.165"
      ]
     },
     "execution_count": 110,
     "metadata": {},
     "output_type": "execute_result"
    }
   ],
   "source": [
    "825/5000"
   ]
  },
  {
   "cell_type": "code",
   "execution_count": 111,
   "id": "0dee8daa-1dd9-4a57-bf7d-7cb24dc1bb10",
   "metadata": {},
   "outputs": [
    {
     "data": {
      "text/plain": [
       "8415.0"
      ]
     },
     "execution_count": 111,
     "metadata": {},
     "output_type": "execute_result"
    }
   ],
   "source": [
    "825*5.1*2"
   ]
  },
  {
   "cell_type": "code",
   "execution_count": 112,
   "id": "829b9945-f2fe-4820-9e78-f75cee47b9e9",
   "metadata": {},
   "outputs": [
    {
     "data": {
      "text/plain": [
       "361    29833.344\n",
       "dtype: float64"
      ]
     },
     "execution_count": 112,
     "metadata": {},
     "output_type": "execute_result"
    }
   ],
   "source": [
    "foo_new[\"cost.CHW\"]+foo_new[\"cost.drug\"]"
   ]
  },
  {
   "cell_type": "code",
   "execution_count": 114,
   "id": "26d27dc3-cdb3-470e-bd34-60541f1ca145",
   "metadata": {},
   "outputs": [
    {
     "data": {
      "text/plain": [
       "361    8984.69\n",
       "Name: cost.smc, dtype: float64"
      ]
     },
     "execution_count": 114,
     "metadata": {},
     "output_type": "execute_result"
    }
   ],
   "source": [
    "foo_new[\"cost.smc\"]"
   ]
  },
  {
   "cell_type": "code",
   "execution_count": 115,
   "id": "8fa7f589-e2cc-4733-b8a9-0ecf31718edb",
   "metadata": {},
   "outputs": [
    {
     "data": {
      "text/plain": [
       "3.3204644790193094"
      ]
     },
     "execution_count": 115,
     "metadata": {},
     "output_type": "execute_result"
    }
   ],
   "source": [
    "29833.344/8984.69"
   ]
  },
  {
   "cell_type": "code",
   "execution_count": 127,
   "id": "a612fd2e-d03b-4418-bcf2-e185c85d6470",
   "metadata": {},
   "outputs": [
    {
     "data": {
      "text/plain": [
       "361    20.215338\n",
       "Name: cost.smc, dtype: float64"
      ]
     },
     "execution_count": 127,
     "metadata": {},
     "output_type": "execute_result"
    }
   ],
   "source": [
    "(foo_old[\"cost.smc\"])/(6608.68/4)"
   ]
  },
  {
   "cell_type": "code",
   "execution_count": 124,
   "id": "10bc80d5-bb51-4619-aab6-5f229e575ead",
   "metadata": {},
   "outputs": [
    {
     "data": {
      "text/plain": [
       "826.085"
      ]
     },
     "execution_count": 124,
     "metadata": {},
     "output_type": "execute_result"
    }
   ],
   "source": [
    "(6608.68/8)"
   ]
  },
  {
   "cell_type": "code",
   "execution_count": 126,
   "id": "ffe3c591-96f1-45d6-8787-ee7dea172933",
   "metadata": {},
   "outputs": [
    {
     "data": {
      "text/plain": [
       "361    2.719057\n",
       "Name: cost.smc, dtype: float64"
      ]
     },
     "execution_count": 126,
     "metadata": {},
     "output_type": "execute_result"
    }
   ],
   "source": [
    "(foo_new[\"cost.smc\"]/2)/(6608.68/4)"
   ]
  },
  {
   "cell_type": "code",
   "execution_count": null,
   "id": "108cc772-c1e6-4718-9ca5-45c2e3d78c48",
   "metadata": {},
   "outputs": [],
   "source": []
  }
 ],
 "metadata": {
  "kernelspec": {
   "display_name": "Python 3 (ipykernel)",
   "language": "python",
   "name": "python3"
  },
  "language_info": {
   "codemirror_mode": {
    "name": "ipython",
    "version": 3
   },
   "file_extension": ".py",
   "mimetype": "text/x-python",
   "name": "python",
   "nbconvert_exporter": "python",
   "pygments_lexer": "ipython3",
   "version": "3.8.10"
  }
 },
 "nbformat": 4,
 "nbformat_minor": 5
}
