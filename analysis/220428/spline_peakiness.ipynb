{
 "cells": [
  {
   "cell_type": "code",
   "execution_count": 1,
   "id": "49dfbcd1-9f81-4a2e-8167-64f9cc947801",
   "metadata": {},
   "outputs": [],
   "source": [
    "import numpy as np\n",
    "import matplotlib.pyplot as plt\n",
    "import pandas as pd"
   ]
  },
  {
   "cell_type": "code",
   "execution_count": 7,
   "id": "59c9da78-4f6d-4043-8b60-65e25f779617",
   "metadata": {},
   "outputs": [],
   "source": [
    "southern_spline = np.array([0.6, 0.8, 1.0, 0.9, 0.1, 0.01, 0.01, 0.01, 0.01, 0.01, 0.02, 0.05]) \n",
    "+ 10**-0.8*np.array([0.13, 0.33, 1., 0.67, 0.67, 0.67, 0.33, 0.33, 0.2, 0.13, 0.067, 0.067])\n",
    "\n",
    "sahel_spline = np.array([0.086, 0.023, 0.034, 0.0029, 0.077, 0.23, 0.11, 1., 0.19, 0.19, 0.074,0.06])\n",
    "central_spline = np.array([0.51, 0.42, 0.52, 0.66, 0.86, 0.92, 0.82, 0.75, 0.84, 0.99, 1.0, 0.77])"
   ]
  },
  {
   "cell_type": "code",
   "execution_count": 8,
   "id": "5f9e9eb6-0f38-4550-b797-5fc45d1ad23f",
   "metadata": {},
   "outputs": [
    {
     "data": {
      "text/plain": [
       "[<matplotlib.lines.Line2D at 0x19b9f01f790>]"
      ]
     },
     "execution_count": 8,
     "metadata": {},
     "output_type": "execute_result"
    },
    {
     "data": {
      "image/png": "[encoded data removed]",
      "text/plain": [
       "<Figure size 432x288 with 1 Axes>"
      ]
     },
     "metadata": {
      "needs_background": "light"
     },
     "output_type": "display_data"
    }
   ],
   "source": [
    "plt.plot(southern_spline)\n",
    "plt.plot(sahel_spline)\n",
    "plt.plot(central_spline)"
   ]
  },
  {
   "cell_type": "code",
   "execution_count": 10,
   "id": "9ce307e3-d559-4edc-bb4a-88354f8f3b2c",
   "metadata": {},
   "outputs": [],
   "source": [
    "# Note: Southern has a CONSTANT, Sahel doesn't."
   ]
  },
  {
   "cell_type": "code",
   "execution_count": 11,
   "id": "9b2870a9-2ee4-4d91-b7fc-f7d3992e3343",
   "metadata": {},
   "outputs": [
    {
     "data": {
      "text/plain": [
       "3.519999999999999"
      ]
     },
     "execution_count": 11,
     "metadata": {},
     "output_type": "execute_result"
    }
   ],
   "source": [
    "np.sum(southern_spline)"
   ]
  },
  {
   "cell_type": "code",
   "execution_count": 12,
   "id": "bfccdfcd-c507-463a-b237-c723d72be61b",
   "metadata": {},
   "outputs": [
    {
     "data": {
      "text/plain": [
       "2.0768999999999997"
      ]
     },
     "execution_count": 12,
     "metadata": {},
     "output_type": "execute_result"
    }
   ],
   "source": [
    "np.sum(sahel_spline)"
   ]
  },
  {
   "cell_type": "code",
   "execution_count": 13,
   "id": "16191a3e-4f31-49f1-82d4-34692a61cbb4",
   "metadata": {},
   "outputs": [
    {
     "data": {
      "text/plain": [
       "9.059999999999999"
      ]
     },
     "execution_count": 13,
     "metadata": {},
     "output_type": "execute_result"
    }
   ],
   "source": [
    "np.sum(central_spline)"
   ]
  },
  {
   "cell_type": "code",
   "execution_count": 18,
   "id": "ae49de68-f248-413c-8f47-be4a3ffde23b",
   "metadata": {},
   "outputs": [
    {
     "name": "stdout",
     "output_type": "stream",
     "text": [
      "0.6644518272425249\n",
      "0.7670454545454548\n"
     ]
    }
   ],
   "source": [
    "print((1+0.19+0.19)/np.sum(sahel_spline))\n",
    "print((0.8+1.0+0.9)/np.sum(southern_spline))"
   ]
  },
  {
   "cell_type": "code",
   "execution_count": 19,
   "id": "87933e83-74cd-46eb-b2d9-07a55b840d11",
   "metadata": {},
   "outputs": [
    {
     "name": "stdout",
     "output_type": "stream",
     "text": [
      "0.572969329288844\n",
      "0.5397727272727274\n"
     ]
    }
   ],
   "source": [
    "print((1+0.19)/np.sum(sahel_spline))\n",
    "print((1.0+0.9)/np.sum(southern_spline))"
   ]
  },
  {
   "cell_type": "code",
   "execution_count": 20,
   "id": "f0176e9a-12a8-45e0-9eb8-35d120c0e50e",
   "metadata": {},
   "outputs": [
    {
     "name": "stdout",
     "output_type": "stream",
     "text": [
      "0.48148683133516307\n",
      "0.28409090909090917\n"
     ]
    }
   ],
   "source": [
    "print((1)/np.sum(sahel_spline))\n",
    "print((1.0)/np.sum(southern_spline))"
   ]
  },
  {
   "cell_type": "code",
   "execution_count": null,
   "id": "9ac0ee96-80da-4a2f-a00e-6b14ab4240a4",
   "metadata": {},
   "outputs": [],
   "source": []
  }
 ],
 "metadata": {
  "kernelspec": {
   "display_name": "Python 3 (ipykernel)",
   "language": "python",
   "name": "python3"
  },
  "language_info": {
   "codemirror_mode": {
    "name": "ipython",
    "version": 3
   },
   "file_extension": ".py",
   "mimetype": "text/x-python",
   "name": "python",
   "nbconvert_exporter": "python",
   "pygments_lexer": "ipython3",
   "version": "3.9.13"
  }
 },
 "nbformat": 4,
 "nbformat_minor": 5
}
