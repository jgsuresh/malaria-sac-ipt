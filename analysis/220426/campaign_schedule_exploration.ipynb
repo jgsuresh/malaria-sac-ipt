{
 "cells": [
  {
   "cell_type": "code",
   "execution_count": 1,
   "id": "f358edc6-0f8a-4b40-9295-6189850357af",
   "metadata": {},
   "outputs": [],
   "source": [
    "import numpy as np\n",
    "import matplotlib.pyplot as plt"
   ]
  },
  {
   "cell_type": "code",
   "execution_count": 10,
   "id": "077b5c23-1f63-490d-96bd-957bfd575a9a",
   "metadata": {},
   "outputs": [],
   "source": [
    "min_week_gap = 6"
   ]
  },
  {
   "cell_type": "code",
   "execution_count": 5,
   "id": "ec2b721a-6e5b-49aa-afdd-978f4767585a",
   "metadata": {},
   "outputs": [],
   "source": [
    "w1_options = np.arange(52-min_week_gap*2)"
   ]
  },
  {
   "cell_type": "code",
   "execution_count": 6,
   "id": "65c921d2-c850-46e0-80b6-a419a1cfabba",
   "metadata": {},
   "outputs": [
    {
     "data": {
      "text/plain": [
       "array([ 0,  1,  2,  3,  4,  5,  6,  7,  8,  9, 10, 11, 12, 13, 14, 15, 16,\n",
       "       17, 18, 19, 20, 21, 22, 23, 24, 25, 26, 27, 28, 29, 30, 31, 32, 33,\n",
       "       34, 35, 36, 37, 38, 39, 40, 41, 42, 43])"
      ]
     },
     "execution_count": 6,
     "metadata": {},
     "output_type": "execute_result"
    }
   ],
   "source": [
    "w1_options"
   ]
  },
  {
   "cell_type": "code",
   "execution_count": 7,
   "id": "ab25d7b0-9ea1-4c4b-92ae-db7b3b31fbd8",
   "metadata": {},
   "outputs": [
    {
     "data": {
      "text/plain": [
       "85184"
      ]
     },
     "execution_count": 7,
     "metadata": {},
     "output_type": "execute_result"
    }
   ],
   "source": [
    "(52-8)*(52-8)*(52-8)"
   ]
  },
  {
   "cell_type": "code",
   "execution_count": null,
   "id": "81701b2d-26b0-4b01-9179-a25940e90a5a",
   "metadata": {},
   "outputs": [],
   "source": []
  },
  {
   "cell_type": "code",
   "execution_count": 16,
   "id": "23e6266c-9d6a-43b0-b3c1-13b831c9e7bb",
   "metadata": {},
   "outputs": [],
   "source": [
    "w1_array = np.array([])\n",
    "w2_array = np.array([])\n",
    "w3_array = np.array([])\n",
    "\n",
    "total_options = 0\n",
    "w1_options = np.arange(52-min_week_gap*2)\n",
    "for w1 in w1_options:\n",
    "    min_w2 = w1 + min_week_gap\n",
    "    max_w2 = 52-min_week_gap\n",
    "    w2_options = np.arange(min_w2, max_w2)\n",
    "    for w2 in w2_options:\n",
    "        min_w3 = w2 + min_week_gap\n",
    "        max_w3 = np.min([52, w1+52-min_week_gap])\n",
    "        w3_options = np.arange(min_w3, max_w3)\n",
    "        \n",
    "        w1_array = np.append(w1_array, np.ones_like(w3_options)*w1)\n",
    "        w2_array = np.append(w2_array, np.ones_like(w3_options)*w2)\n",
    "        w3_array = np.append(w3_array, w3_options)\n",
    "        total_options += len(w3_options)"
   ]
  },
  {
   "cell_type": "code",
   "execution_count": 14,
   "id": "4cf580dd-46a4-4f14-a1cd-f53692e88951",
   "metadata": {},
   "outputs": [
    {
     "data": {
      "text/plain": [
       "10710"
      ]
     },
     "execution_count": 14,
     "metadata": {},
     "output_type": "execute_result"
    }
   ],
   "source": [
    "total_options"
   ]
  },
  {
   "cell_type": "code",
   "execution_count": 15,
   "id": "c73690c4-bfdb-4ffc-b4ca-d4feeecf02f5",
   "metadata": {},
   "outputs": [
    {
     "data": {
      "text/plain": [
       "array([1, 2, 3, 4])"
      ]
     },
     "execution_count": 15,
     "metadata": {},
     "output_type": "execute_result"
    }
   ],
   "source": [
    "np.append([1,2], [3,4])"
   ]
  },
  {
   "cell_type": "code",
   "execution_count": 23,
   "id": "d73f3ab1-0a05-4a5d-975b-efb7243a250b",
   "metadata": {},
   "outputs": [],
   "source": [
    "import pandas as pd"
   ]
  },
  {
   "cell_type": "code",
   "execution_count": 37,
   "id": "903fbb4f-0acb-46c7-86c4-26d774371fa5",
   "metadata": {},
   "outputs": [],
   "source": [
    "df = pd.DataFrame({\"w1\": w1_array, \n",
    "                   \"w2\": w2_array, \n",
    "                   \"w3\": w3_array, \n",
    "                   \"d1\": ((w1_array+1)*7).astype(int),\n",
    "                   \"d2\": ((w2_array+1)*7).astype(int),\n",
    "                   \"d3\": ((w3_array+1)*7).astype(int),\n",
    "                  \"scenario_number\": np.arange(len(w1_array))})"
   ]
  },
  {
   "cell_type": "code",
   "execution_count": 38,
   "id": "d345f40d-a800-4c99-bb86-a7d81383032a",
   "metadata": {},
   "outputs": [
    {
     "data": {
      "text/html": [
       "<div>\n",
       "<style scoped>\n",
       "    .dataframe tbody tr th:only-of-type {\n",
       "        vertical-align: middle;\n",
       "    }\n",
       "\n",
       "    .dataframe tbody tr th {\n",
       "        vertical-align: top;\n",
       "    }\n",
       "\n",
       "    .dataframe thead th {\n",
       "        text-align: right;\n",
       "    }\n",
       "</style>\n",
       "<table border=\"1\" class=\"dataframe\">\n",
       "  <thead>\n",
       "    <tr style=\"text-align: right;\">\n",
       "      <th></th>\n",
       "      <th>w1</th>\n",
       "      <th>w2</th>\n",
       "      <th>w3</th>\n",
       "      <th>d1</th>\n",
       "      <th>d2</th>\n",
       "      <th>d3</th>\n",
       "      <th>scenario_number</th>\n",
       "    </tr>\n",
       "  </thead>\n",
       "  <tbody>\n",
       "    <tr>\n",
       "      <th>0</th>\n",
       "      <td>0.0</td>\n",
       "      <td>6.0</td>\n",
       "      <td>12.0</td>\n",
       "      <td>7</td>\n",
       "      <td>49</td>\n",
       "      <td>91</td>\n",
       "      <td>0</td>\n",
       "    </tr>\n",
       "    <tr>\n",
       "      <th>1</th>\n",
       "      <td>0.0</td>\n",
       "      <td>6.0</td>\n",
       "      <td>13.0</td>\n",
       "      <td>7</td>\n",
       "      <td>49</td>\n",
       "      <td>98</td>\n",
       "      <td>1</td>\n",
       "    </tr>\n",
       "    <tr>\n",
       "      <th>2</th>\n",
       "      <td>0.0</td>\n",
       "      <td>6.0</td>\n",
       "      <td>14.0</td>\n",
       "      <td>7</td>\n",
       "      <td>49</td>\n",
       "      <td>105</td>\n",
       "      <td>2</td>\n",
       "    </tr>\n",
       "    <tr>\n",
       "      <th>3</th>\n",
       "      <td>0.0</td>\n",
       "      <td>6.0</td>\n",
       "      <td>15.0</td>\n",
       "      <td>7</td>\n",
       "      <td>49</td>\n",
       "      <td>112</td>\n",
       "      <td>3</td>\n",
       "    </tr>\n",
       "    <tr>\n",
       "      <th>4</th>\n",
       "      <td>0.0</td>\n",
       "      <td>6.0</td>\n",
       "      <td>16.0</td>\n",
       "      <td>7</td>\n",
       "      <td>49</td>\n",
       "      <td>119</td>\n",
       "      <td>4</td>\n",
       "    </tr>\n",
       "    <tr>\n",
       "      <th>...</th>\n",
       "      <td>...</td>\n",
       "      <td>...</td>\n",
       "      <td>...</td>\n",
       "      <td>...</td>\n",
       "      <td>...</td>\n",
       "      <td>...</td>\n",
       "      <td>...</td>\n",
       "    </tr>\n",
       "    <tr>\n",
       "      <th>10705</th>\n",
       "      <td>37.0</td>\n",
       "      <td>45.0</td>\n",
       "      <td>51.0</td>\n",
       "      <td>266</td>\n",
       "      <td>322</td>\n",
       "      <td>364</td>\n",
       "      <td>10705</td>\n",
       "    </tr>\n",
       "    <tr>\n",
       "      <th>10706</th>\n",
       "      <td>38.0</td>\n",
       "      <td>44.0</td>\n",
       "      <td>50.0</td>\n",
       "      <td>273</td>\n",
       "      <td>315</td>\n",
       "      <td>357</td>\n",
       "      <td>10706</td>\n",
       "    </tr>\n",
       "    <tr>\n",
       "      <th>10707</th>\n",
       "      <td>38.0</td>\n",
       "      <td>44.0</td>\n",
       "      <td>51.0</td>\n",
       "      <td>273</td>\n",
       "      <td>315</td>\n",
       "      <td>364</td>\n",
       "      <td>10707</td>\n",
       "    </tr>\n",
       "    <tr>\n",
       "      <th>10708</th>\n",
       "      <td>38.0</td>\n",
       "      <td>45.0</td>\n",
       "      <td>51.0</td>\n",
       "      <td>273</td>\n",
       "      <td>322</td>\n",
       "      <td>364</td>\n",
       "      <td>10708</td>\n",
       "    </tr>\n",
       "    <tr>\n",
       "      <th>10709</th>\n",
       "      <td>39.0</td>\n",
       "      <td>45.0</td>\n",
       "      <td>51.0</td>\n",
       "      <td>280</td>\n",
       "      <td>322</td>\n",
       "      <td>364</td>\n",
       "      <td>10709</td>\n",
       "    </tr>\n",
       "  </tbody>\n",
       "</table>\n",
       "<p>10710 rows × 7 columns</p>\n",
       "</div>"
      ],
      "text/plain": [
       "         w1    w2    w3   d1   d2   d3  scenario_number\n",
       "0       0.0   6.0  12.0    7   49   91                0\n",
       "1       0.0   6.0  13.0    7   49   98                1\n",
       "2       0.0   6.0  14.0    7   49  105                2\n",
       "3       0.0   6.0  15.0    7   49  112                3\n",
       "4       0.0   6.0  16.0    7   49  119                4\n",
       "...     ...   ...   ...  ...  ...  ...              ...\n",
       "10705  37.0  45.0  51.0  266  322  364            10705\n",
       "10706  38.0  44.0  50.0  273  315  357            10706\n",
       "10707  38.0  44.0  51.0  273  315  364            10707\n",
       "10708  38.0  45.0  51.0  273  322  364            10708\n",
       "10709  39.0  45.0  51.0  280  322  364            10709\n",
       "\n",
       "[10710 rows x 7 columns]"
      ]
     },
     "execution_count": 38,
     "metadata": {},
     "output_type": "execute_result"
    }
   ],
   "source": [
    "df"
   ]
  },
  {
   "cell_type": "code",
   "execution_count": 26,
   "id": "389e000c-30e3-4182-afb4-c2b5595b3264",
   "metadata": {},
   "outputs": [
    {
     "data": {
      "text/plain": [
       "135.0"
      ]
     },
     "execution_count": 26,
     "metadata": {},
     "output_type": "execute_result"
    }
   ],
   "source": [
    "np.max(df[\"w1\"]+df[\"w2\"]+df[\"w3\"])"
   ]
  },
  {
   "cell_type": "code",
   "execution_count": 30,
   "id": "82544252-7ac2-4f65-929d-4a98be4fcfef",
   "metadata": {},
   "outputs": [
    {
     "data": {
      "text/plain": [
       "18.0"
      ]
     },
     "execution_count": 30,
     "metadata": {},
     "output_type": "execute_result"
    }
   ],
   "source": [
    "np.min(df[\"w1\"]+df[\"w2\"]+df[\"w3\"])"
   ]
  },
  {
   "cell_type": "code",
   "execution_count": 39,
   "id": "4f39f8ed-6f0b-4b00-ad4f-997fc2488152",
   "metadata": {},
   "outputs": [],
   "source": [
    "df.to_csv(\"iptsc_timing_options_without_terms.csv\", index=False)"
   ]
  },
  {
   "cell_type": "code",
   "execution_count": null,
   "id": "3aaa209d-954a-4f19-a824-e09f04aabbbe",
   "metadata": {},
   "outputs": [],
   "source": []
  }
 ],
 "metadata": {
  "kernelspec": {
   "display_name": "Python 3 (ipykernel)",
   "language": "python",
   "name": "python3"
  },
  "language_info": {
   "codemirror_mode": {
    "name": "ipython",
    "version": 3
   },
   "file_extension": ".py",
   "mimetype": "text/x-python",
   "name": "python",
   "nbconvert_exporter": "python",
   "pygments_lexer": "ipython3",
   "version": "3.9.13"
  }
 },
 "nbformat": 4,
 "nbformat_minor": 5
}
