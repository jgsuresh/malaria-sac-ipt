{
 "cells": [
  {
   "cell_type": "code",
   "execution_count": 1,
   "id": "7f73823f-82e2-4d26-b32e-a2ea1aed4fc0",
   "metadata": {
    "tags": []
   },
   "outputs": [],
   "source": [
    "import pandas as pd\n",
    "import numpy as np\n",
    "import matplotlib\n",
    "matplotlib.rcParams['pdf.fonttype'] = 42\n",
    "import matplotlib.pyplot as plt\n",
    "import seaborn as sns\n",
    "sns.set_context(\"talk\")\n",
    "sns.set_style(\"white\")"
   ]
  },
  {
   "cell_type": "code",
   "execution_count": 2,
   "id": "0eacd7e7-1e16-4a38-8a40-edcc2c061787",
   "metadata": {
    "tags": []
   },
   "outputs": [],
   "source": [
    "df = pd.read_csv(\"sim_data_full.csv\")"
   ]
  },
  {
   "cell_type": "code",
   "execution_count": 3,
   "id": "5ed8f730-4728-4a33-9cf6-267e355e0d6e",
   "metadata": {
    "tags": []
   },
   "outputs": [],
   "source": [
    "from compute_costs import *"
   ]
  },
  {
   "cell_type": "code",
   "execution_count": 4,
   "id": "8accd7ef-1da8-4375-a392-be9c24afae0c",
   "metadata": {
    "tags": []
   },
   "outputs": [
    {
     "name": "stderr",
     "output_type": "stream",
     "text": [
      "C:\\Users\\joshsu\\OneDrive - Bill & Melinda Gates Foundation\\Code\\malaria-sac-ipt\\analysis\\230503\\compute_costs.py:43: SettingWithCopyWarning: \n",
      "A value is trying to be set on a copy of a slice from a DataFrame.\n",
      "Try using .loc[row_indexer,col_indexer] = value instead\n",
      "\n",
      "See the caveats in the documentation: https://pandas.pydata.org/pandas-docs/stable/user_guide/indexing.html#returning-a-view-versus-a-copy\n",
      "  df_school[\"cost_IPTsc_drugs\"] = df_school[\"iptsc_drugs_used_school\"] * df_school[\"drug_type\"].map(cost_dict)\n",
      "C:\\Users\\joshsu\\OneDrive - Bill & Melinda Gates Foundation\\Code\\malaria-sac-ipt\\analysis\\230503\\compute_costs.py:44: SettingWithCopyWarning: \n",
      "A value is trying to be set on a copy of a slice from a DataFrame.\n",
      "Try using .loc[row_indexer,col_indexer] = value instead\n",
      "\n",
      "See the caveats in the documentation: https://pandas.pydata.org/pandas-docs/stable/user_guide/indexing.html#returning-a-view-versus-a-copy\n",
      "  df_school[\"cost_IPTsc_consumables\"] = df_school[\"cost_IPTsc_RDTs\"] + df_school[\"cost_IPTsc_drugs\"]\n",
      "C:\\Users\\joshsu\\OneDrive - Bill & Melinda Gates Foundation\\Code\\malaria-sac-ipt\\analysis\\230503\\compute_costs.py:51: SettingWithCopyWarning: \n",
      "A value is trying to be set on a copy of a slice from a DataFrame.\n",
      "Try using .loc[row_indexer,col_indexer] = value instead\n",
      "\n",
      "See the caveats in the documentation: https://pandas.pydata.org/pandas-docs/stable/user_guide/indexing.html#returning-a-view-versus-a-copy\n",
      "  df_school[\"num_school_campaigns\"] = 0\n",
      "C:\\Users\\joshsu\\OneDrive - Bill & Melinda Gates Foundation\\Code\\malaria-sac-ipt\\analysis\\230503\\compute_costs.py:56: SettingWithCopyWarning: \n",
      "A value is trying to be set on a copy of a slice from a DataFrame.\n",
      "Try using .loc[row_indexer,col_indexer] = value instead\n",
      "\n",
      "See the caveats in the documentation: https://pandas.pydata.org/pandas-docs/stable/user_guide/indexing.html#returning-a-view-versus-a-copy\n",
      "  df_school[\"num_schoolchildren_reached_per_year\"] = 0\n",
      "C:\\Users\\joshsu\\OneDrive - Bill & Melinda Gates Foundation\\Code\\malaria-sac-ipt\\analysis\\230503\\compute_costs.py:60: SettingWithCopyWarning: \n",
      "A value is trying to be set on a copy of a slice from a DataFrame.\n",
      "Try using .loc[row_indexer,col_indexer] = value instead\n",
      "\n",
      "See the caveats in the documentation: https://pandas.pydata.org/pandas-docs/stable/user_guide/indexing.html#returning-a-view-versus-a-copy\n",
      "  df_school[\"cost_IPTsc_overhead_low\"] = df_school[\"num_schoolchildren_reached_per_year\"] * 2 * cost_schoolbased_overhead_low_per_child_per_year\n",
      "C:\\Users\\joshsu\\OneDrive - Bill & Melinda Gates Foundation\\Code\\malaria-sac-ipt\\analysis\\230503\\compute_costs.py:65: SettingWithCopyWarning: \n",
      "A value is trying to be set on a copy of a slice from a DataFrame.\n",
      "Try using .loc[row_indexer,col_indexer] = value instead\n",
      "\n",
      "See the caveats in the documentation: https://pandas.pydata.org/pandas-docs/stable/user_guide/indexing.html#returning-a-view-versus-a-copy\n",
      "  df_school[\"cost_IPTsc_overhead_high\"] = 0\n",
      "C:\\Users\\joshsu\\OneDrive - Bill & Melinda Gates Foundation\\Code\\malaria-sac-ipt\\analysis\\230503\\compute_costs.py:78: SettingWithCopyWarning: \n",
      "A value is trying to be set on a copy of a slice from a DataFrame.\n",
      "Try using .loc[row_indexer,col_indexer] = value instead\n",
      "\n",
      "See the caveats in the documentation: https://pandas.pydata.org/pandas-docs/stable/user_guide/indexing.html#returning-a-view-versus-a-copy\n",
      "  df_esmc[\"cost_IPTsc_drugs\"] = (df_esmc[\"received_smc_5-10\"] + df_esmc[\"received_smc_10-15\"]) * df_esmc[\"drug_type\"].map(cost_dict)\n",
      "C:\\Users\\joshsu\\OneDrive - Bill & Melinda Gates Foundation\\Code\\malaria-sac-ipt\\analysis\\230503\\compute_costs.py:79: SettingWithCopyWarning: \n",
      "A value is trying to be set on a copy of a slice from a DataFrame.\n",
      "Try using .loc[row_indexer,col_indexer] = value instead\n",
      "\n",
      "See the caveats in the documentation: https://pandas.pydata.org/pandas-docs/stable/user_guide/indexing.html#returning-a-view-versus-a-copy\n",
      "  df_esmc[\"cost_IPTsc_consumables\"] = df_esmc[\"cost_IPTsc_drugs\"]\n",
      "C:\\Users\\joshsu\\OneDrive - Bill & Melinda Gates Foundation\\Code\\malaria-sac-ipt\\analysis\\230503\\compute_costs.py:82: SettingWithCopyWarning: \n",
      "A value is trying to be set on a copy of a slice from a DataFrame.\n",
      "Try using .loc[row_indexer,col_indexer] = value instead\n",
      "\n",
      "See the caveats in the documentation: https://pandas.pydata.org/pandas-docs/stable/user_guide/indexing.html#returning-a-view-versus-a-copy\n",
      "  df_esmc[\"cost_IPTsc_overhead_low\"] = 0\n",
      "C:\\Users\\joshsu\\OneDrive - Bill & Melinda Gates Foundation\\Code\\malaria-sac-ipt\\analysis\\230503\\compute_costs.py:86: SettingWithCopyWarning: \n",
      "A value is trying to be set on a copy of a slice from a DataFrame.\n",
      "Try using .loc[row_indexer,col_indexer] = value instead\n",
      "\n",
      "See the caveats in the documentation: https://pandas.pydata.org/pandas-docs/stable/user_guide/indexing.html#returning-a-view-versus-a-copy\n",
      "  df_esmc[\"cost_IPTsc_overhead_high\"] = num_SAC_receiving_SMC_per_season * pessimistic_SMC_overhead_per_person_per_season * 2\n"
     ]
    }
   ],
   "source": [
    "compute_costs(df)"
   ]
  },
  {
   "cell_type": "code",
   "execution_count": 5,
   "id": "948537c9-c7df-45e3-9fab-60ca34b3c5aa",
   "metadata": {
    "tags": []
   },
   "outputs": [],
   "source": [
    "df_pfpr = df[df[\"baseline_transmission_metric\"]==\"pfpr\"].reset_index(drop=True)\n",
    "df_pfpr = df_pfpr[df_pfpr[\"transmission_level\"] > 0.01].reset_index(drop=True)"
   ]
  },
  {
   "cell_type": "code",
   "execution_count": 13,
   "id": "74ca5b8b-a6b6-4d1a-9b7e-7313cb18f0f0",
   "metadata": {
    "tags": []
   },
   "outputs": [],
   "source": [
    "scenario_numbers = [0,6,7,8,9]"
   ]
  },
  {
   "cell_type": "code",
   "execution_count": 39,
   "id": "9410bb26-2f19-4fda-bb8b-5c4a20ed579f",
   "metadata": {
    "tags": []
   },
   "outputs": [],
   "source": [
    "df_check = df_pfpr[np.logical_and.reduce([\n",
    "            df_pfpr[\"archetype\"]==\"Sahel\",\n",
    "            df_pfpr[\"transmission_level\"]==0.05,\n",
    "            np.in1d(df_pfpr[\"scenario_number\"], scenario_numbers)])]"
   ]
  },
  {
   "cell_type": "code",
   "execution_count": 40,
   "id": "b061d5be-68c9-4476-ae48-e5c7b6aa6311",
   "metadata": {
    "tags": []
   },
   "outputs": [
    {
     "data": {
      "text/html": [
       "<div>\n",
       "<style scoped>\n",
       "    .dataframe tbody tr th:only-of-type {\n",
       "        vertical-align: middle;\n",
       "    }\n",
       "\n",
       "    .dataframe tbody tr th {\n",
       "        vertical-align: top;\n",
       "    }\n",
       "\n",
       "    .dataframe thead th {\n",
       "        text-align: right;\n",
       "    }\n",
       "</style>\n",
       "<table border=\"1\" class=\"dataframe\">\n",
       "  <thead>\n",
       "    <tr style=\"text-align: right;\">\n",
       "      <th></th>\n",
       "      <th>archetype</th>\n",
       "      <th>baseline_transmission_metric</th>\n",
       "      <th>transmission_level</th>\n",
       "      <th>scenario_number</th>\n",
       "      <th>iptsc_rdts_used</th>\n",
       "      <th>iptsc_drugs_used_school</th>\n",
       "      <th>cases_treated</th>\n",
       "      <th>severe_cases_treated</th>\n",
       "      <th>received_smc_u5</th>\n",
       "      <th>received_smc_5-10</th>\n",
       "      <th>...</th>\n",
       "      <th>cost_severe</th>\n",
       "      <th>cost_ITNs</th>\n",
       "      <th>cost_ivermectin</th>\n",
       "      <th>cost_primaquine</th>\n",
       "      <th>cost_low</th>\n",
       "      <th>cost_high</th>\n",
       "      <th>cost_mean</th>\n",
       "      <th>cost_low_IPTsc_only</th>\n",
       "      <th>cost_high_IPTsc_only</th>\n",
       "      <th>cost_mean_IPTsc_only</th>\n",
       "    </tr>\n",
       "  </thead>\n",
       "  <tbody>\n",
       "    <tr>\n",
       "      <th>150</th>\n",
       "      <td>Sahel</td>\n",
       "      <td>pfpr</td>\n",
       "      <td>0.05</td>\n",
       "      <td>0</td>\n",
       "      <td>0.0</td>\n",
       "      <td>0.0</td>\n",
       "      <td>1626.0</td>\n",
       "      <td>0.0</td>\n",
       "      <td>3716.7</td>\n",
       "      <td>0.0</td>\n",
       "      <td>...</td>\n",
       "      <td>0.0</td>\n",
       "      <td>3500</td>\n",
       "      <td>0.0</td>\n",
       "      <td>0.0</td>\n",
       "      <td>13934.381</td>\n",
       "      <td>32229.4205</td>\n",
       "      <td>23081.90075</td>\n",
       "      <td>17065.70075</td>\n",
       "      <td>29098.10075</td>\n",
       "      <td>23081.90075</td>\n",
       "    </tr>\n",
       "    <tr>\n",
       "      <th>156</th>\n",
       "      <td>Sahel</td>\n",
       "      <td>pfpr</td>\n",
       "      <td>0.05</td>\n",
       "      <td>6</td>\n",
       "      <td>0.0</td>\n",
       "      <td>5085.1</td>\n",
       "      <td>1302.6</td>\n",
       "      <td>0.0</td>\n",
       "      <td>3743.0</td>\n",
       "      <td>0.0</td>\n",
       "      <td>...</td>\n",
       "      <td>0.0</td>\n",
       "      <td>3500</td>\n",
       "      <td>0.0</td>\n",
       "      <td>0.0</td>\n",
       "      <td>14731.886</td>\n",
       "      <td>33983.3960</td>\n",
       "      <td>24357.64100</td>\n",
       "      <td>17885.36350</td>\n",
       "      <td>30829.91850</td>\n",
       "      <td>24357.64100</td>\n",
       "    </tr>\n",
       "    <tr>\n",
       "      <th>157</th>\n",
       "      <td>Sahel</td>\n",
       "      <td>pfpr</td>\n",
       "      <td>0.05</td>\n",
       "      <td>7</td>\n",
       "      <td>0.0</td>\n",
       "      <td>15377.3</td>\n",
       "      <td>915.9</td>\n",
       "      <td>0.0</td>\n",
       "      <td>3731.8</td>\n",
       "      <td>0.0</td>\n",
       "      <td>...</td>\n",
       "      <td>0.0</td>\n",
       "      <td>3500</td>\n",
       "      <td>0.0</td>\n",
       "      <td>0.0</td>\n",
       "      <td>16580.636</td>\n",
       "      <td>40564.2620</td>\n",
       "      <td>28572.44900</td>\n",
       "      <td>19724.67750</td>\n",
       "      <td>37420.22050</td>\n",
       "      <td>28572.44900</td>\n",
       "    </tr>\n",
       "    <tr>\n",
       "      <th>158</th>\n",
       "      <td>Sahel</td>\n",
       "      <td>pfpr</td>\n",
       "      <td>0.05</td>\n",
       "      <td>8</td>\n",
       "      <td>0.0</td>\n",
       "      <td>5083.7</td>\n",
       "      <td>861.6</td>\n",
       "      <td>0.0</td>\n",
       "      <td>3737.9</td>\n",
       "      <td>0.0</td>\n",
       "      <td>...</td>\n",
       "      <td>0.0</td>\n",
       "      <td>3500</td>\n",
       "      <td>0.0</td>\n",
       "      <td>0.0</td>\n",
       "      <td>21833.540</td>\n",
       "      <td>37812.1465</td>\n",
       "      <td>29822.84325</td>\n",
       "      <td>24982.72075</td>\n",
       "      <td>34662.96575</td>\n",
       "      <td>29822.84325</td>\n",
       "    </tr>\n",
       "    <tr>\n",
       "      <th>159</th>\n",
       "      <td>Sahel</td>\n",
       "      <td>pfpr</td>\n",
       "      <td>0.05</td>\n",
       "      <td>9</td>\n",
       "      <td>0.0</td>\n",
       "      <td>15352.6</td>\n",
       "      <td>647.5</td>\n",
       "      <td>0.0</td>\n",
       "      <td>3726.9</td>\n",
       "      <td>0.0</td>\n",
       "      <td>...</td>\n",
       "      <td>0.0</td>\n",
       "      <td>3500</td>\n",
       "      <td>0.0</td>\n",
       "      <td>0.0</td>\n",
       "      <td>42835.169</td>\n",
       "      <td>64806.8415</td>\n",
       "      <td>53821.00525</td>\n",
       "      <td>45975.08225</td>\n",
       "      <td>61666.92825</td>\n",
       "      <td>53821.00525</td>\n",
       "    </tr>\n",
       "  </tbody>\n",
       "</table>\n",
       "<p>5 rows × 147 columns</p>\n",
       "</div>"
      ],
      "text/plain": [
       "    archetype baseline_transmission_metric  transmission_level  \\\n",
       "150     Sahel                         pfpr                0.05   \n",
       "156     Sahel                         pfpr                0.05   \n",
       "157     Sahel                         pfpr                0.05   \n",
       "158     Sahel                         pfpr                0.05   \n",
       "159     Sahel                         pfpr                0.05   \n",
       "\n",
       "     scenario_number  iptsc_rdts_used  iptsc_drugs_used_school  cases_treated  \\\n",
       "150                0              0.0                      0.0         1626.0   \n",
       "156                6              0.0                   5085.1         1302.6   \n",
       "157                7              0.0                  15377.3          915.9   \n",
       "158                8              0.0                   5083.7          861.6   \n",
       "159                9              0.0                  15352.6          647.5   \n",
       "\n",
       "     severe_cases_treated  received_smc_u5  received_smc_5-10  ...  \\\n",
       "150                   0.0           3716.7                0.0  ...   \n",
       "156                   0.0           3743.0                0.0  ...   \n",
       "157                   0.0           3731.8                0.0  ...   \n",
       "158                   0.0           3737.9                0.0  ...   \n",
       "159                   0.0           3726.9                0.0  ...   \n",
       "\n",
       "     cost_severe  cost_ITNs  cost_ivermectin  cost_primaquine   cost_low  \\\n",
       "150          0.0       3500              0.0              0.0  13934.381   \n",
       "156          0.0       3500              0.0              0.0  14731.886   \n",
       "157          0.0       3500              0.0              0.0  16580.636   \n",
       "158          0.0       3500              0.0              0.0  21833.540   \n",
       "159          0.0       3500              0.0              0.0  42835.169   \n",
       "\n",
       "      cost_high    cost_mean  cost_low_IPTsc_only  cost_high_IPTsc_only  \\\n",
       "150  32229.4205  23081.90075          17065.70075           29098.10075   \n",
       "156  33983.3960  24357.64100          17885.36350           30829.91850   \n",
       "157  40564.2620  28572.44900          19724.67750           37420.22050   \n",
       "158  37812.1465  29822.84325          24982.72075           34662.96575   \n",
       "159  64806.8415  53821.00525          45975.08225           61666.92825   \n",
       "\n",
       "     cost_mean_IPTsc_only  \n",
       "150           23081.90075  \n",
       "156           24357.64100  \n",
       "157           28572.44900  \n",
       "158           29822.84325  \n",
       "159           53821.00525  \n",
       "\n",
       "[5 rows x 147 columns]"
      ]
     },
     "execution_count": 40,
     "metadata": {},
     "output_type": "execute_result"
    }
   ],
   "source": [
    "df_check"
   ]
  },
  {
   "cell_type": "code",
   "execution_count": null,
   "id": "34ec3e95-ba5c-49ec-9415-7bad84df25af",
   "metadata": {},
   "outputs": [],
   "source": [
    "#     df[\"cost_low_IPTsc_only\"] = df[\"cost_IPTsc_low\"] + df[\"cost_facility_low\"] + df[\"cost_severe\"] + \\\n",
    "#                       df[\"cost_ITNs\"] + df[\"cost_SMC_u5_mean\"] + df[\"cost_ivermectin\"] + df[\"cost_primaquine\"]\n",
    "\n",
    "#     df[\"cost_high_IPTsc_only\"] = df[\"cost_IPTsc_high\"] + df[\"cost_facility_high\"] + df[\"cost_severe\"] + \\\n",
    "#                       df[\"cost_ITNs\"] + df[\"cost_SMC_u5_mean\"] + df[\"cost_ivermectin\"] + df[\"cost_primaquine\"]\n",
    "\n",
    "#     df[\"cost_mean_IPTsc_only\"] = (df[\"cost_low_IPTsc_only\"] + df[\"cost_high_IPTsc_only\"])/2."
   ]
  },
  {
   "cell_type": "code",
   "execution_count": 57,
   "id": "b05a422a-d487-46f1-93e1-4d3fdb607dbf",
   "metadata": {
    "tags": []
   },
   "outputs": [],
   "source": [
    "df_check2 = df_pfpr[np.logical_and.reduce([\n",
    "            df_pfpr[\"archetype\"]==\"Southern\",\n",
    "            df_pfpr[\"transmission_level\"]==0.05,\n",
    "            np.in1d(df_pfpr[\"scenario_number\"], scenario_numbers)])]"
   ]
  },
  {
   "cell_type": "code",
   "execution_count": 58,
   "id": "7d7c3f32-b7b8-460b-a5d8-678d18ce525f",
   "metadata": {
    "tags": []
   },
   "outputs": [
    {
     "data": {
      "text/plain": [
       "340    8000.852\n",
       "346    7057.528\n",
       "347    3929.688\n",
       "348    4690.856\n",
       "349    2848.504\n",
       "Name: cost_facility_low, dtype: float64"
      ]
     },
     "execution_count": 58,
     "metadata": {},
     "output_type": "execute_result"
    }
   ],
   "source": [
    "df_check2[\"cost_facility_low\"]"
   ]
  },
  {
   "cell_type": "code",
   "execution_count": 44,
   "id": "45b9c254-3d84-48ef-9cad-1bd593042f03",
   "metadata": {
    "tags": []
   },
   "outputs": [
    {
     "data": {
      "text/plain": [
       "150        0.0000\n",
       "156     3890.1015\n",
       "157    11302.3155\n",
       "158    12988.8535\n",
       "159    38765.3150\n",
       "Name: cost_IPTsc_mean, dtype: float64"
      ]
     },
     "execution_count": 44,
     "metadata": {},
     "output_type": "execute_result"
    }
   ],
   "source": [
    "df_check[\"cost_IPTsc_mean\"]"
   ]
  },
  {
   "cell_type": "code",
   "execution_count": 59,
   "id": "d0bfb0cb-fd3c-4ed9-a421-49b4db00e5a9",
   "metadata": {
    "tags": []
   },
   "outputs": [
    {
     "data": {
      "text/plain": [
       "150    7349.520\n",
       "156    5887.752\n",
       "157    4139.868\n",
       "158    3894.432\n",
       "159    2926.700\n",
       "Name: cost_facility_low, dtype: float64"
      ]
     },
     "execution_count": 59,
     "metadata": {},
     "output_type": "execute_result"
    }
   ],
   "source": [
    "df_check[\"cost_facility_low\"]"
   ]
  },
  {
   "cell_type": "code",
   "execution_count": 47,
   "id": "2f8aca55-1618-4858-9f30-755c11d8d737",
   "metadata": {
    "tags": []
   },
   "outputs": [
    {
     "data": {
      "text/plain": [
       "150    3500\n",
       "156    3500\n",
       "157    3500\n",
       "158    3500\n",
       "159    3500\n",
       "Name: cost_ITNs, dtype: int64"
      ]
     },
     "execution_count": 47,
     "metadata": {},
     "output_type": "execute_result"
    }
   ],
   "source": [
    "df_check[\"cost_ITNs\"]"
   ]
  },
  {
   "cell_type": "code",
   "execution_count": 48,
   "id": "5d2d5ceb-874b-4635-a5e3-9d85e346f7fe",
   "metadata": {
    "tags": []
   },
   "outputs": [
    {
     "data": {
      "text/plain": [
       "150    17065.70075\n",
       "156    17885.36350\n",
       "157    19724.67750\n",
       "158    24982.72075\n",
       "159    45975.08225\n",
       "Name: cost_low_IPTsc_only, dtype: float64"
      ]
     },
     "execution_count": 48,
     "metadata": {},
     "output_type": "execute_result"
    }
   ],
   "source": [
    "df_check[\"cost_low_IPTsc_only\"]"
   ]
  },
  {
   "cell_type": "code",
   "execution_count": 49,
   "id": "923962f1-c87a-413a-ad4e-096fda08b955",
   "metadata": {
    "tags": []
   },
   "outputs": [
    {
     "data": {
      "text/plain": [
       "150    29098.10075\n",
       "156    30829.91850\n",
       "157    37420.22050\n",
       "158    34662.96575\n",
       "159    61666.92825\n",
       "Name: cost_high_IPTsc_only, dtype: float64"
      ]
     },
     "execution_count": 49,
     "metadata": {},
     "output_type": "execute_result"
    }
   ],
   "source": [
    "df_check[\"cost_high_IPTsc_only\"]"
   ]
  },
  {
   "cell_type": "code",
   "execution_count": 50,
   "id": "884f9dfb-bac3-477d-845b-fd827fa942a5",
   "metadata": {
    "tags": []
   },
   "outputs": [
    {
     "data": {
      "text/plain": [
       "150    23081.90075\n",
       "156    24357.64100\n",
       "157    28572.44900\n",
       "158    29822.84325\n",
       "159    53821.00525\n",
       "dtype: float64"
      ]
     },
     "execution_count": 50,
     "metadata": {},
     "output_type": "execute_result"
    }
   ],
   "source": [
    "(df_check[\"cost_high_IPTsc_only\"]+df_check[\"cost_low_IPTsc_only\"])/2"
   ]
  },
  {
   "cell_type": "code",
   "execution_count": 51,
   "id": "9d01ccfd-171a-45c5-b66e-b99a25b45108",
   "metadata": {
    "tags": []
   },
   "outputs": [
    {
     "data": {
      "text/plain": [
       "150    2308.190075\n",
       "156    2435.764100\n",
       "157    2857.244900\n",
       "158    2982.284325\n",
       "159    5382.100525\n",
       "dtype: float64"
      ]
     },
     "execution_count": 51,
     "metadata": {},
     "output_type": "execute_result"
    }
   ],
   "source": [
    "(df_check[\"cost_high_IPTsc_only\"]+df_check[\"cost_low_IPTsc_only\"])/2/10"
   ]
  },
  {
   "cell_type": "code",
   "execution_count": null,
   "id": "43ac2df1-0637-489a-9a75-181298f66359",
   "metadata": {},
   "outputs": [],
   "source": []
  },
  {
   "cell_type": "code",
   "execution_count": null,
   "id": "9bc72d9e-c402-44f8-b3a5-db7fd049ed1d",
   "metadata": {},
   "outputs": [],
   "source": []
  },
  {
   "cell_type": "code",
   "execution_count": 41,
   "id": "de4a13a4-fc43-4a2c-bce5-e8b9d19e4d81",
   "metadata": {
    "tags": []
   },
   "outputs": [
    {
     "name": "stdout",
     "output_type": "stream",
     "text": [
      "150        0.00000\n",
      "156     1945.05075\n",
      "157     5651.15775\n",
      "158     6494.42675\n",
      "159    19382.65750\n",
      "Name: cost_IPTsc_mean, dtype: float64\n"
     ]
    }
   ],
   "source": [
    "cost = 0.5*df_check[\"cost_IPTsc_mean\"]\n",
    "print(cost)"
   ]
  },
  {
   "cell_type": "code",
   "execution_count": 52,
   "id": "346345b7-3a74-4cdb-a228-108683b1ea4f",
   "metadata": {
    "tags": []
   },
   "outputs": [
    {
     "data": {
      "text/plain": [
       "150    621.618075\n",
       "156    626.016750\n",
       "157    624.143550\n",
       "158    625.163775\n",
       "159    623.324025\n",
       "Name: cost_SMC_u5_mean, dtype: float64"
      ]
     },
     "execution_count": 52,
     "metadata": {},
     "output_type": "execute_result"
    }
   ],
   "source": [
    "df_check[\"cost_SMC_u5_mean\"]/10"
   ]
  },
  {
   "cell_type": "code",
   "execution_count": 53,
   "id": "734b9e04-bac3-4a5e-bdb8-ab00dd307c89",
   "metadata": {
    "tags": []
   },
   "outputs": [
    {
     "data": {
      "text/plain": [
       "150    1938.1920\n",
       "156    1552.6992\n",
       "157    1091.7528\n",
       "158    1027.0272\n",
       "159     771.8200\n",
       "Name: cost_facility_high, dtype: float64"
      ]
     },
     "execution_count": 53,
     "metadata": {},
     "output_type": "execute_result"
    }
   ],
   "source": [
    "df_check[\"cost_facility_high\"]/10"
   ]
  },
  {
   "cell_type": "code",
   "execution_count": 54,
   "id": "e589a96f-90e5-4c64-855c-427d39513d8f",
   "metadata": {
    "tags": []
   },
   "outputs": [
    {
     "data": {
      "text/plain": [
       "150    350.0\n",
       "156    350.0\n",
       "157    350.0\n",
       "158    350.0\n",
       "159    350.0\n",
       "Name: cost_ITNs, dtype: float64"
      ]
     },
     "execution_count": 54,
     "metadata": {},
     "output_type": "execute_result"
    }
   ],
   "source": [
    "df_check[\"cost_ITNs\"]/10"
   ]
  },
  {
   "cell_type": "code",
   "execution_count": null,
   "id": "37bc20db-e890-4f6e-abde-f3a4dfd69b8d",
   "metadata": {},
   "outputs": [],
   "source": []
  },
  {
   "cell_type": "code",
   "execution_count": 30,
   "id": "d4b97e2c-0936-4aae-891a-80c8d511a9dd",
   "metadata": {
    "tags": []
   },
   "outputs": [
    {
     "name": "stdout",
     "output_type": "stream",
     "text": [
      "0    6044.956949\n",
      "6    5420.895861\n",
      "7    2874.849796\n",
      "8    3742.420110\n",
      "9    1589.886203\n",
      "Name: clinical_incidence_all, dtype: float64\n"
     ]
    }
   ],
   "source": [
    "cases = df_check[\"clinical_incidence_all\"]*5000\n",
    "print(cases)"
   ]
  },
  {
   "cell_type": "code",
   "execution_count": 36,
   "id": "e57c1e95-3693-4651-b17e-1b9434c05af7",
   "metadata": {
    "tags": []
   },
   "outputs": [
    {
     "data": {
      "text/plain": [
       "0    978.305610\n",
       "6    886.596883\n",
       "7    458.467628\n",
       "8    641.017903\n",
       "9    311.159058\n",
       "dtype: float64"
      ]
     },
     "execution_count": 36,
     "metadata": {},
     "output_type": "execute_result"
    }
   ],
   "source": [
    "df_check[\"clinical_incidence0_5\"]*df_check[\"pop0_5\"]"
   ]
  },
  {
   "cell_type": "code",
   "execution_count": null,
   "id": "88db0287-56dd-4616-aa02-bf69f9e799ac",
   "metadata": {},
   "outputs": [],
   "source": [
    "df_check[\"clinical_incidence\"]*df_check[\"pop0_5\"]*0.6"
   ]
  },
  {
   "cell_type": "code",
   "execution_count": 35,
   "id": "5b00ca40-2312-4129-a95a-f03f31523c00",
   "metadata": {
    "tags": []
   },
   "outputs": [
    {
     "data": {
      "text/plain": [
       "0    2690.630564\n",
       "6    2439.786962\n",
       "7    1401.248461\n",
       "8    1862.419014\n",
       "9    1004.328493\n",
       "dtype: float64"
      ]
     },
     "execution_count": 35,
     "metadata": {},
     "output_type": "execute_result"
    }
   ],
   "source": [
    "df_check[\"clinical_incidence16_500\"]*df_check[\"pop16_500\"]"
   ]
  },
  {
   "cell_type": "code",
   "execution_count": 37,
   "id": "06678dbf-90b4-426a-8595-e37d38cd51f3",
   "metadata": {
    "tags": []
   },
   "outputs": [
    {
     "data": {
      "text/plain": [
       "0.375"
      ]
     },
     "execution_count": 37,
     "metadata": {},
     "output_type": "execute_result"
    }
   ],
   "source": [
    "0.25*0.6+0.75*0.3"
   ]
  },
  {
   "cell_type": "code",
   "execution_count": 38,
   "id": "f98bab9d-e79c-4004-b446-5456e06d9eab",
   "metadata": {
    "tags": []
   },
   "outputs": [
    {
     "data": {
      "text/plain": [
       "2.64375"
      ]
     },
     "execution_count": 38,
     "metadata": {},
     "output_type": "execute_result"
    }
   ],
   "source": [
    "0.375*7.05"
   ]
  },
  {
   "cell_type": "code",
   "execution_count": 17,
   "id": "20ebf41d-6de5-49d6-9ccd-cdfe7684bf45",
   "metadata": {
    "tags": []
   },
   "outputs": [
    {
     "name": "stdout",
     "output_type": "stream",
     "text": [
      "0       0.000000\n",
      "6     624.061088\n",
      "7    3170.107153\n",
      "8    2302.536839\n",
      "9    4455.070746\n",
      "dtype: float64\n"
     ]
    }
   ],
   "source": [
    "cases_averted = 5000*(df_check[\"clinical_incidence_all_BASELINE\"]-df_check[\"clinical_incidence_all\"])\n",
    "print(cases_averted)"
   ]
  },
  {
   "cell_type": "code",
   "execution_count": 18,
   "id": "16aeed2f-6cf4-480f-a850-867ec41c71fc",
   "metadata": {
    "tags": []
   },
   "outputs": [
    {
     "data": {
      "text/plain": [
       "0         NaN\n",
       "6    3.731559\n",
       "7    2.587226\n",
       "8    2.801911\n",
       "9    5.266654\n",
       "dtype: float64"
      ]
     },
     "execution_count": 18,
     "metadata": {},
     "output_type": "execute_result"
    }
   ],
   "source": [
    "cost/cases_averted"
   ]
  },
  {
   "cell_type": "code",
   "execution_count": 20,
   "id": "dc06cc73-7043-4d68-bc08-b923a7bd97e1",
   "metadata": {
    "tags": []
   },
   "outputs": [
    {
     "name": "stdout",
     "output_type": "stream",
     "text": [
      "0    2739.389600\n",
      "6    2931.572150\n",
      "7    3125.703145\n",
      "8    3126.394350\n",
      "9    5742.020786\n",
      "Name: cost_mean_IPTsc_only, dtype: float64\n"
     ]
    }
   ],
   "source": [
    "system_cost = df_check[\"cost_mean_IPTsc_only\"]/10\n",
    "print(system_cost)"
   ]
  },
  {
   "cell_type": "code",
   "execution_count": 22,
   "id": "299fd01c-5495-4c8e-a892-7afde1f5df46",
   "metadata": {
    "tags": []
   },
   "outputs": [
    {
     "data": {
      "text/plain": [
       "0    1663.873600\n",
       "6    1813.763900\n",
       "7    1949.558291\n",
       "8    2293.343100\n",
       "9    4761.676773\n",
       "Name: cost_low_IPTsc_only, dtype: float64"
      ]
     },
     "execution_count": 22,
     "metadata": {},
     "output_type": "execute_result"
    }
   ],
   "source": [
    "    # df[\"cost_low_IPTsc_only\"] = df[\"cost_IPTsc_low\"] + df[\"cost_facility_low\"] + df[\"cost_severe\"] + \\\n",
    "    #                   df[\"cost_ITNs\"] + df[\"cost_SMC_u5_mean\"] + df[\"cost_ivermectin\"] + df[\"cost_primaquine\"]\n",
    "df_check[\"cost_low_IPTsc_only\"]/10"
   ]
  },
  {
   "cell_type": "code",
   "execution_count": 24,
   "id": "fe3fc1b4-a654-45bf-a949-1720ef91cef3",
   "metadata": {
    "tags": []
   },
   "outputs": [
    {
     "data": {
      "text/plain": [
       "0        0.000000\n",
       "6     3003.159000\n",
       "7     9752.558909\n",
       "8    11261.723000\n",
       "9    40271.151727\n",
       "Name: cost_IPTsc_low, dtype: float64"
      ]
     },
     "execution_count": 24,
     "metadata": {},
     "output_type": "execute_result"
    }
   ],
   "source": [
    "df_check[\"cost_IPTsc_low\"]"
   ]
  },
  {
   "cell_type": "code",
   "execution_count": 25,
   "id": "9117ab52-0846-4d1f-b040-ea40d960b81c",
   "metadata": {
    "tags": []
   },
   "outputs": [
    {
     "data": {
      "text/plain": [
       "0    13138.736\n",
       "6    11634.480\n",
       "7     6243.024\n",
       "8     8171.708\n",
       "9     3845.616\n",
       "Name: cost_facility_low, dtype: float64"
      ]
     },
     "execution_count": 25,
     "metadata": {},
     "output_type": "execute_result"
    }
   ],
   "source": [
    "df_check[\"cost_facility_low\"]"
   ]
  },
  {
   "cell_type": "code",
   "execution_count": 27,
   "id": "9585251a-482f-4495-9b56-50397747be30",
   "metadata": {
    "tags": []
   },
   "outputs": [
    {
     "data": {
      "text/plain": [
       "0        0.000\n",
       "6     2545.050\n",
       "7     9296.200\n",
       "8    10807.214\n",
       "9    39814.486\n",
       "Name: cost_IPTsc_consumables, dtype: float64"
      ]
     },
     "execution_count": 27,
     "metadata": {},
     "output_type": "execute_result"
    }
   ],
   "source": [
    "df_check[\"cost_IPTsc_consumables\"]"
   ]
  },
  {
   "cell_type": "code",
   "execution_count": 28,
   "id": "79f64243-1819-4109-baf8-6d6276548dee",
   "metadata": {
    "tags": []
   },
   "outputs": [
    {
     "data": {
      "text/plain": [
       "0      0.000000\n",
       "6    458.109000\n",
       "7    456.358909\n",
       "8    454.509000\n",
       "9    456.665727\n",
       "Name: cost_IPTsc_overhead_low, dtype: float64"
      ]
     },
     "execution_count": 28,
     "metadata": {},
     "output_type": "execute_result"
    }
   ],
   "source": [
    "df_check[\"cost_IPTsc_overhead_low\"]"
   ]
  },
  {
   "cell_type": "code",
   "execution_count": null,
   "id": "6be5777b-7bfe-4e61-aea8-9f82ae333392",
   "metadata": {},
   "outputs": [],
   "source": []
  }
 ],
 "metadata": {
  "kernelspec": {
   "display_name": "Python 3 (ipykernel)",
   "language": "python",
   "name": "python3"
  },
  "language_info": {
   "codemirror_mode": {
    "name": "ipython",
    "version": 3
   },
   "file_extension": ".py",
   "mimetype": "text/x-python",
   "name": "python",
   "nbconvert_exporter": "python",
   "pygments_lexer": "ipython3",
   "version": "3.9.13"
  }
 },
 "nbformat": 4,
 "nbformat_minor": 5
}
