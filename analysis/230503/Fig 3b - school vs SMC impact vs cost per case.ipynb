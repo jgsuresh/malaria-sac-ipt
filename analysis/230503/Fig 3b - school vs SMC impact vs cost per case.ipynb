{
 "cells": [
  {
   "cell_type": "code",
   "execution_count": 1,
   "id": "8e2b76d7-dbc1-4b19-a031-8778d52295af",
   "metadata": {
    "tags": []
   },
   "outputs": [],
   "source": [
    "import pandas as pd\n",
    "import numpy as np\n",
    "import matplotlib\n",
    "matplotlib.rcParams['pdf.fonttype'] = 42\n",
    "import matplotlib.pyplot as plt\n",
    "import seaborn as sns\n",
    "sns.set_context(\"talk\")\n",
    "sns.set_style(\"white\")"
   ]
  },
  {
   "cell_type": "code",
   "execution_count": 2,
   "id": "a165ac4d-058c-4422-8373-cecff9fdefe0",
   "metadata": {
    "tags": []
   },
   "outputs": [],
   "source": [
    "df = pd.read_csv(\"sim_data_full.csv\")"
   ]
  },
  {
   "cell_type": "code",
   "execution_count": 3,
   "id": "3b6aa8ce-4c54-45b9-affc-0181ca4c7181",
   "metadata": {
    "tags": []
   },
   "outputs": [],
   "source": [
    "from compute_costs import *"
   ]
  },
  {
   "cell_type": "code",
   "execution_count": 4,
   "id": "dda1dc2e-6ace-416a-b05d-41cefe0745b2",
   "metadata": {
    "tags": []
   },
   "outputs": [
    {
     "name": "stderr",
     "output_type": "stream",
     "text": [
      "C:\\Users\\joshsu\\OneDrive - Bill & Melinda Gates Foundation\\Code\\malaria-sac-ipt\\analysis\\230503\\compute_costs.py:43: SettingWithCopyWarning: \n",
      "A value is trying to be set on a copy of a slice from a DataFrame.\n",
      "Try using .loc[row_indexer,col_indexer] = value instead\n",
      "\n",
      "See the caveats in the documentation: https://pandas.pydata.org/pandas-docs/stable/user_guide/indexing.html#returning-a-view-versus-a-copy\n",
      "  df_school[\"cost_IPTsc_drugs\"] = df_school[\"iptsc_drugs_used_school\"] * df_school[\"drug_type\"].map(cost_dict)\n",
      "C:\\Users\\joshsu\\OneDrive - Bill & Melinda Gates Foundation\\Code\\malaria-sac-ipt\\analysis\\230503\\compute_costs.py:44: SettingWithCopyWarning: \n",
      "A value is trying to be set on a copy of a slice from a DataFrame.\n",
      "Try using .loc[row_indexer,col_indexer] = value instead\n",
      "\n",
      "See the caveats in the documentation: https://pandas.pydata.org/pandas-docs/stable/user_guide/indexing.html#returning-a-view-versus-a-copy\n",
      "  df_school[\"cost_IPTsc_consumables\"] = df_school[\"cost_IPTsc_RDTs\"] + df_school[\"cost_IPTsc_drugs\"]\n",
      "C:\\Users\\joshsu\\OneDrive - Bill & Melinda Gates Foundation\\Code\\malaria-sac-ipt\\analysis\\230503\\compute_costs.py:51: SettingWithCopyWarning: \n",
      "A value is trying to be set on a copy of a slice from a DataFrame.\n",
      "Try using .loc[row_indexer,col_indexer] = value instead\n",
      "\n",
      "See the caveats in the documentation: https://pandas.pydata.org/pandas-docs/stable/user_guide/indexing.html#returning-a-view-versus-a-copy\n",
      "  df_school[\"num_school_campaigns\"] = 0\n",
      "C:\\Users\\joshsu\\OneDrive - Bill & Melinda Gates Foundation\\Code\\malaria-sac-ipt\\analysis\\230503\\compute_costs.py:56: SettingWithCopyWarning: \n",
      "A value is trying to be set on a copy of a slice from a DataFrame.\n",
      "Try using .loc[row_indexer,col_indexer] = value instead\n",
      "\n",
      "See the caveats in the documentation: https://pandas.pydata.org/pandas-docs/stable/user_guide/indexing.html#returning-a-view-versus-a-copy\n",
      "  df_school[\"num_schoolchildren_reached_per_year\"] = 0\n",
      "C:\\Users\\joshsu\\OneDrive - Bill & Melinda Gates Foundation\\Code\\malaria-sac-ipt\\analysis\\230503\\compute_costs.py:60: SettingWithCopyWarning: \n",
      "A value is trying to be set on a copy of a slice from a DataFrame.\n",
      "Try using .loc[row_indexer,col_indexer] = value instead\n",
      "\n",
      "See the caveats in the documentation: https://pandas.pydata.org/pandas-docs/stable/user_guide/indexing.html#returning-a-view-versus-a-copy\n",
      "  df_school[\"cost_IPTsc_overhead_low\"] = df_school[\"num_schoolchildren_reached_per_year\"] * 2 * cost_schoolbased_overhead_low_per_child_per_year\n",
      "C:\\Users\\joshsu\\OneDrive - Bill & Melinda Gates Foundation\\Code\\malaria-sac-ipt\\analysis\\230503\\compute_costs.py:65: SettingWithCopyWarning: \n",
      "A value is trying to be set on a copy of a slice from a DataFrame.\n",
      "Try using .loc[row_indexer,col_indexer] = value instead\n",
      "\n",
      "See the caveats in the documentation: https://pandas.pydata.org/pandas-docs/stable/user_guide/indexing.html#returning-a-view-versus-a-copy\n",
      "  df_school[\"cost_IPTsc_overhead_high\"] = 0\n",
      "C:\\Users\\joshsu\\OneDrive - Bill & Melinda Gates Foundation\\Code\\malaria-sac-ipt\\analysis\\230503\\compute_costs.py:78: SettingWithCopyWarning: \n",
      "A value is trying to be set on a copy of a slice from a DataFrame.\n",
      "Try using .loc[row_indexer,col_indexer] = value instead\n",
      "\n",
      "See the caveats in the documentation: https://pandas.pydata.org/pandas-docs/stable/user_guide/indexing.html#returning-a-view-versus-a-copy\n",
      "  df_esmc[\"cost_IPTsc_drugs\"] = (df_esmc[\"received_smc_5-10\"] + df_esmc[\"received_smc_10-15\"]) * df_esmc[\"drug_type\"].map(cost_dict)\n",
      "C:\\Users\\joshsu\\OneDrive - Bill & Melinda Gates Foundation\\Code\\malaria-sac-ipt\\analysis\\230503\\compute_costs.py:79: SettingWithCopyWarning: \n",
      "A value is trying to be set on a copy of a slice from a DataFrame.\n",
      "Try using .loc[row_indexer,col_indexer] = value instead\n",
      "\n",
      "See the caveats in the documentation: https://pandas.pydata.org/pandas-docs/stable/user_guide/indexing.html#returning-a-view-versus-a-copy\n",
      "  df_esmc[\"cost_IPTsc_consumables\"] = df_esmc[\"cost_IPTsc_drugs\"]\n",
      "C:\\Users\\joshsu\\OneDrive - Bill & Melinda Gates Foundation\\Code\\malaria-sac-ipt\\analysis\\230503\\compute_costs.py:82: SettingWithCopyWarning: \n",
      "A value is trying to be set on a copy of a slice from a DataFrame.\n",
      "Try using .loc[row_indexer,col_indexer] = value instead\n",
      "\n",
      "See the caveats in the documentation: https://pandas.pydata.org/pandas-docs/stable/user_guide/indexing.html#returning-a-view-versus-a-copy\n",
      "  df_esmc[\"cost_IPTsc_overhead_low\"] = 0\n",
      "C:\\Users\\joshsu\\OneDrive - Bill & Melinda Gates Foundation\\Code\\malaria-sac-ipt\\analysis\\230503\\compute_costs.py:86: SettingWithCopyWarning: \n",
      "A value is trying to be set on a copy of a slice from a DataFrame.\n",
      "Try using .loc[row_indexer,col_indexer] = value instead\n",
      "\n",
      "See the caveats in the documentation: https://pandas.pydata.org/pandas-docs/stable/user_guide/indexing.html#returning-a-view-versus-a-copy\n",
      "  df_esmc[\"cost_IPTsc_overhead_high\"] = num_SAC_receiving_SMC_per_season * pessimistic_SMC_overhead_per_person_per_season * 2\n"
     ]
    }
   ],
   "source": [
    "compute_costs(df)"
   ]
  },
  {
   "cell_type": "code",
   "execution_count": 5,
   "id": "8364e3a3-8853-4356-8547-bcc52a6c14a6",
   "metadata": {
    "tags": []
   },
   "outputs": [],
   "source": [
    "df_pfpr = df[df[\"baseline_transmission_metric\"]==\"pfpr\"].reset_index(drop=True)\n",
    "df_pfpr = df_pfpr[df_pfpr[\"transmission_level\"] > 0.01].reset_index(drop=True)"
   ]
  },
  {
   "cell_type": "code",
   "execution_count": 6,
   "id": "93e22226-e1eb-491b-b618-f24206bb2aaf",
   "metadata": {
    "tags": []
   },
   "outputs": [],
   "source": [
    "df_plot = df_pfpr[np.logical_and.reduce([\n",
    "    df_pfpr[\"archetype\"]==\"Sahel\",\n",
    "    df_pfpr[\"transmission_level\"]==0.2,\n",
    "    np.in1d(df_pfpr[\"scenario_number\"], [6,7,8,9,30,31,32,33])])]"
   ]
  },
  {
   "cell_type": "code",
   "execution_count": 7,
   "id": "9ac188bc-04e3-42b3-9186-f206d57daf29",
   "metadata": {
    "tags": []
   },
   "outputs": [],
   "source": [
    "df_itn = df_pfpr[np.logical_and.reduce([\n",
    "    df_pfpr[\"archetype\"]==\"Sahel\",\n",
    "    df_pfpr[\"transmission_level\"]==0.2,\n",
    "    np.in1d(df_pfpr[\"scenario_number\"], [5])])]"
   ]
  },
  {
   "cell_type": "code",
   "execution_count": 8,
   "id": "259b2957-fe59-4954-8584-dca24ee152a6",
   "metadata": {
    "tags": []
   },
   "outputs": [],
   "source": [
    "school_marker = \"o\"\n",
    "smc_marker = \"s\"\n",
    "\n",
    "marker_dict = {i: school_marker for i in [6,7,8,9,10]}\n",
    "marker_dict.update({i: smc_marker for i in [30,31,32,33]})"
   ]
  },
  {
   "cell_type": "code",
   "execution_count": 9,
   "id": "9cfa23d4-e421-4aed-9301-4be055160276",
   "metadata": {},
   "outputs": [],
   "source": [
    "color_dict = {\n",
    "    6: \"#5292C2\",\n",
    "    7: \"#5292C2\",\n",
    "    8: \"#F48420\",\n",
    "    9: \"#F48420\",\n",
    "    5: \"black\",\n",
    "    35: \"#E9CA43\",\n",
    "    36: \"#D61C5B\"\n",
    "}"
   ]
  },
  {
   "cell_type": "code",
   "execution_count": null,
   "id": "9ea9425e-746d-48fd-b17a-614e4dd5f3ea",
   "metadata": {},
   "outputs": [],
   "source": []
  },
  {
   "cell_type": "code",
   "execution_count": 10,
   "id": "0288788b-4612-4f00-8beb-e6d20f56d1e5",
   "metadata": {
    "tags": []
   },
   "outputs": [
    {
     "data": {
      "text/html": [
       "<div>\n",
       "<style scoped>\n",
       "    .dataframe tbody tr th:only-of-type {\n",
       "        vertical-align: middle;\n",
       "    }\n",
       "\n",
       "    .dataframe tbody tr th {\n",
       "        vertical-align: top;\n",
       "    }\n",
       "\n",
       "    .dataframe thead th {\n",
       "        text-align: right;\n",
       "    }\n",
       "</style>\n",
       "<table border=\"1\" class=\"dataframe\">\n",
       "  <thead>\n",
       "    <tr style=\"text-align: right;\">\n",
       "      <th></th>\n",
       "      <th>scenario_number</th>\n",
       "      <th>cost_IPTsc_overhead_low</th>\n",
       "      <th>cost_IPTsc_overhead_high</th>\n",
       "      <th>cost_IPTsc_high</th>\n",
       "      <th>cost_IPTsc_low</th>\n",
       "      <th>cost_IPTsc_mean</th>\n",
       "    </tr>\n",
       "  </thead>\n",
       "  <tbody>\n",
       "    <tr>\n",
       "      <th>232</th>\n",
       "      <td>6</td>\n",
       "      <td>450.495</td>\n",
       "      <td>3704.0700</td>\n",
       "      <td>5455.9950</td>\n",
       "      <td>2202.420</td>\n",
       "      <td>3829.20750</td>\n",
       "    </tr>\n",
       "    <tr>\n",
       "      <th>233</th>\n",
       "      <td>7</td>\n",
       "      <td>452.559</td>\n",
       "      <td>11163.1220</td>\n",
       "      <td>16442.9770</td>\n",
       "      <td>5732.414</td>\n",
       "      <td>11087.69550</td>\n",
       "    </tr>\n",
       "    <tr>\n",
       "      <th>234</th>\n",
       "      <td>8</td>\n",
       "      <td>448.632</td>\n",
       "      <td>3688.7520</td>\n",
       "      <td>14356.2240</td>\n",
       "      <td>11116.104</td>\n",
       "      <td>12736.16400</td>\n",
       "    </tr>\n",
       "    <tr>\n",
       "      <th>235</th>\n",
       "      <td>9</td>\n",
       "      <td>450.663</td>\n",
       "      <td>11116.3540</td>\n",
       "      <td>43263.6480</td>\n",
       "      <td>32597.957</td>\n",
       "      <td>37930.80250</td>\n",
       "    </tr>\n",
       "    <tr>\n",
       "      <th>256</th>\n",
       "      <td>30</td>\n",
       "      <td>0.000</td>\n",
       "      <td>6920.4225</td>\n",
       "      <td>8039.1975</td>\n",
       "      <td>1118.775</td>\n",
       "      <td>4578.98625</td>\n",
       "    </tr>\n",
       "    <tr>\n",
       "      <th>257</th>\n",
       "      <td>31</td>\n",
       "      <td>0.000</td>\n",
       "      <td>13062.9605</td>\n",
       "      <td>15174.7555</td>\n",
       "      <td>2111.795</td>\n",
       "      <td>8643.27525</td>\n",
       "    </tr>\n",
       "    <tr>\n",
       "      <th>258</th>\n",
       "      <td>32</td>\n",
       "      <td>0.000</td>\n",
       "      <td>6858.7200</td>\n",
       "      <td>13638.2400</td>\n",
       "      <td>6779.520</td>\n",
       "      <td>10208.88000</td>\n",
       "    </tr>\n",
       "    <tr>\n",
       "      <th>259</th>\n",
       "      <td>33</td>\n",
       "      <td>0.000</td>\n",
       "      <td>13032.6505</td>\n",
       "      <td>25914.8085</td>\n",
       "      <td>12882.158</td>\n",
       "      <td>19398.48325</td>\n",
       "    </tr>\n",
       "  </tbody>\n",
       "</table>\n",
       "</div>"
      ],
      "text/plain": [
       "     scenario_number  cost_IPTsc_overhead_low  cost_IPTsc_overhead_high  \\\n",
       "232                6                  450.495                 3704.0700   \n",
       "233                7                  452.559                11163.1220   \n",
       "234                8                  448.632                 3688.7520   \n",
       "235                9                  450.663                11116.3540   \n",
       "256               30                    0.000                 6920.4225   \n",
       "257               31                    0.000                13062.9605   \n",
       "258               32                    0.000                 6858.7200   \n",
       "259               33                    0.000                13032.6505   \n",
       "\n",
       "     cost_IPTsc_high  cost_IPTsc_low  cost_IPTsc_mean  \n",
       "232        5455.9950        2202.420       3829.20750  \n",
       "233       16442.9770        5732.414      11087.69550  \n",
       "234       14356.2240       11116.104      12736.16400  \n",
       "235       43263.6480       32597.957      37930.80250  \n",
       "256        8039.1975        1118.775       4578.98625  \n",
       "257       15174.7555        2111.795       8643.27525  \n",
       "258       13638.2400        6779.520      10208.88000  \n",
       "259       25914.8085       12882.158      19398.48325  "
      ]
     },
     "execution_count": 10,
     "metadata": {},
     "output_type": "execute_result"
    }
   ],
   "source": [
    "df_plot[[\"scenario_number\", \"cost_IPTsc_overhead_low\", \"cost_IPTsc_overhead_high\", \"cost_IPTsc_high\", \"cost_IPTsc_low\", \"cost_IPTsc_mean\"]]"
   ]
  },
  {
   "cell_type": "code",
   "execution_count": 1,
   "id": "ae1043b5-85dd-4f29-b7ba-004b713723fb",
   "metadata": {
    "tags": []
   },
   "outputs": [
    {
     "ename": "NameError",
     "evalue": "name 'plt' is not defined",
     "output_type": "error",
     "traceback": [
      "\u001b[1;31m---------------------------------------------------------------------------\u001b[0m",
      "\u001b[1;31mNameError\u001b[0m                                 Traceback (most recent call last)",
      "Cell \u001b[1;32mIn[1], line 1\u001b[0m\n\u001b[1;32m----> 1\u001b[0m \u001b[43mplt\u001b[49m\u001b[38;5;241m.\u001b[39mfigure(dpi\u001b[38;5;241m=\u001b[39m\u001b[38;5;241m300\u001b[39m)\n\u001b[0;32m      2\u001b[0m \u001b[38;5;66;03m# old = bar[\"{}_incidence{}_BASELINE\".format(case_type, agebin)]\u001b[39;00m\n\u001b[0;32m      3\u001b[0m \u001b[38;5;66;03m# new = bar[\"{}_incidence{}\".format(case_type, agebin)]\u001b[39;00m\n\u001b[0;32m      4\u001b[0m cases_averted \u001b[38;5;241m=\u001b[39m \u001b[38;5;241m5000\u001b[39m\u001b[38;5;241m*\u001b[39m(df_itn[\u001b[38;5;124m\"\u001b[39m\u001b[38;5;124mclinical_incidence_all_BASELINE\u001b[39m\u001b[38;5;124m\"\u001b[39m]\u001b[38;5;241m-\u001b[39mdf_itn[\u001b[38;5;124m\"\u001b[39m\u001b[38;5;124mclinical_incidence_all\u001b[39m\u001b[38;5;124m\"\u001b[39m])\n",
      "\u001b[1;31mNameError\u001b[0m: name 'plt' is not defined"
     ]
    }
   ],
   "source": [
    "plt.figure(dpi=300)\n",
    "# old = bar[\"{}_incidence{}_BASELINE\".format(case_type, agebin)]\n",
    "# new = bar[\"{}_incidence{}\".format(case_type, agebin)]\n",
    "cases_averted = 5000*(df_itn[\"clinical_incidence_all_BASELINE\"]-df_itn[\"clinical_incidence_all\"])\n",
    "cost = df_itn[\"cost_ITNs\"]-np.mean(df_plot[\"cost_ITNs\"])\n",
    "frac_cases_averted = df_itn[\"frac_averted_clinical__all\"]\n",
    "plt.scatter(frac_cases_averted, cost/cases_averted, label=\"More ITN coverage\", color='black', marker='D')\n",
    "\n",
    "for i, sdf in df_plot.groupby(\"scenario_number\"):\n",
    "    label = sdf[\"comments\"].iloc[0]\n",
    "    cases_averted = 5000*(sdf[\"clinical_incidence_all_BASELINE\"]-sdf[\"clinical_incidence_all\"])\n",
    "    cost = 0.5*sdf[\"cost_IPTsc_mean\"]\n",
    "    frac_cases_averted = sdf[\"frac_averted_clinical__all\"]\n",
    "    # plt.scatter(cases_averted, cost/cases_averted)\n",
    "    plt.errorbar(100*frac_cases_averted, cost/cases_averted, \n",
    "                 yerr=0.5*(sdf[\"cost_IPTsc_high\"]-sdf[\"cost_IPTsc_mean\"])/cases_averted, \n",
    "                 xerr=100*sdf[\"frac_averted_clinical__all_STDEV\"],\n",
    "                 label=label, marker=marker_dict[sdf[\"scenario_number\"].iloc[0]],\n",
    "                 fmt='o', capsize=3, elinewidth=1.2, errorevery=1, markersize=10)\n",
    "    plt.xlabel(\"Percent of cases averted\")\n",
    "    plt.ylabel(\"Cost per case averted\")\n",
    "    \n",
    "plt.legend(fontsize=8)\n",
    "plt.xlim(left=0)\n",
    "plt.ylim(bottom=0)\n",
    "# plt.ylim([0,20])\n",
    "\n",
    "plt.title(\"School-based vs mass campaign\")\n",
    "plt.tight_layout()\n",
    "\n",
    "plt.savefig(\"school_vs_mass.pdf\")\n",
    "plt.savefig(\"school_vs_mass.png\")\n"
   ]
  },
  {
   "cell_type": "code",
   "execution_count": null,
   "id": "d6e30168-3b1d-4c11-be19-d8f02a3e254b",
   "metadata": {},
   "outputs": [],
   "source": []
  }
 ],
 "metadata": {
  "kernelspec": {
   "display_name": "Python 3 (ipykernel)",
   "language": "python",
   "name": "python3"
  },
  "language_info": {
   "codemirror_mode": {
    "name": "ipython",
    "version": 3
   },
   "file_extension": ".py",
   "mimetype": "text/x-python",
   "name": "python",
   "nbconvert_exporter": "python",
   "pygments_lexer": "ipython3",
   "version": "3.9.13"
  }
 },
 "nbformat": 4,
 "nbformat_minor": 5
}
