{
 "cells": [
  {
   "cell_type": "code",
   "execution_count": 1,
   "id": "e288446d-e04b-44cd-a45c-431a9212b7a3",
   "metadata": {
    "tags": []
   },
   "outputs": [],
   "source": [
    "import pandas as pd\n",
    "import numpy as np\n",
    "import matplotlib\n",
    "matplotlib.rcParams['pdf.fonttype'] = 42\n",
    "import matplotlib.pyplot as plt\n",
    "import seaborn as sns\n",
    "sns.set_context(\"talk\")\n",
    "sns.set_style(\"white\")"
   ]
  },
  {
   "cell_type": "code",
   "execution_count": 2,
   "id": "7dce0c6b-12e7-4d63-86f7-14363640d36f",
   "metadata": {
    "tags": []
   },
   "outputs": [],
   "source": [
    "df = pd.read_csv(\"sim_data_full.csv\")"
   ]
  },
  {
   "cell_type": "code",
   "execution_count": 3,
   "id": "21883953-a70d-49a5-bcbc-10187378dfbc",
   "metadata": {
    "tags": []
   },
   "outputs": [],
   "source": [
    "from compute_costs import *"
   ]
  },
  {
   "cell_type": "code",
   "execution_count": 4,
   "id": "ae9736ac-ddad-4360-8dd3-cb2ecb61ab1d",
   "metadata": {
    "tags": []
   },
   "outputs": [
    {
     "name": "stderr",
     "output_type": "stream",
     "text": [
      "C:\\Users\\joshsu\\OneDrive - Bill & Melinda Gates Foundation\\Code\\malaria-sac-ipt\\analysis\\230503\\compute_costs.py:43: SettingWithCopyWarning: \n",
      "A value is trying to be set on a copy of a slice from a DataFrame.\n",
      "Try using .loc[row_indexer,col_indexer] = value instead\n",
      "\n",
      "See the caveats in the documentation: https://pandas.pydata.org/pandas-docs/stable/user_guide/indexing.html#returning-a-view-versus-a-copy\n",
      "  df_school[\"cost_IPTsc_drugs\"] = df_school[\"iptsc_drugs_used_school\"] * df_school[\"drug_type\"].map(cost_dict)\n",
      "C:\\Users\\joshsu\\OneDrive - Bill & Melinda Gates Foundation\\Code\\malaria-sac-ipt\\analysis\\230503\\compute_costs.py:44: SettingWithCopyWarning: \n",
      "A value is trying to be set on a copy of a slice from a DataFrame.\n",
      "Try using .loc[row_indexer,col_indexer] = value instead\n",
      "\n",
      "See the caveats in the documentation: https://pandas.pydata.org/pandas-docs/stable/user_guide/indexing.html#returning-a-view-versus-a-copy\n",
      "  df_school[\"cost_IPTsc_consumables\"] = df_school[\"cost_IPTsc_RDTs\"] + df_school[\"cost_IPTsc_drugs\"]\n",
      "C:\\Users\\joshsu\\OneDrive - Bill & Melinda Gates Foundation\\Code\\malaria-sac-ipt\\analysis\\230503\\compute_costs.py:51: SettingWithCopyWarning: \n",
      "A value is trying to be set on a copy of a slice from a DataFrame.\n",
      "Try using .loc[row_indexer,col_indexer] = value instead\n",
      "\n",
      "See the caveats in the documentation: https://pandas.pydata.org/pandas-docs/stable/user_guide/indexing.html#returning-a-view-versus-a-copy\n",
      "  df_school[\"num_school_campaigns\"] = 0\n",
      "C:\\Users\\joshsu\\OneDrive - Bill & Melinda Gates Foundation\\Code\\malaria-sac-ipt\\analysis\\230503\\compute_costs.py:56: SettingWithCopyWarning: \n",
      "A value is trying to be set on a copy of a slice from a DataFrame.\n",
      "Try using .loc[row_indexer,col_indexer] = value instead\n",
      "\n",
      "See the caveats in the documentation: https://pandas.pydata.org/pandas-docs/stable/user_guide/indexing.html#returning-a-view-versus-a-copy\n",
      "  df_school[\"num_schoolchildren_reached_per_year\"] = 0\n",
      "C:\\Users\\joshsu\\OneDrive - Bill & Melinda Gates Foundation\\Code\\malaria-sac-ipt\\analysis\\230503\\compute_costs.py:60: SettingWithCopyWarning: \n",
      "A value is trying to be set on a copy of a slice from a DataFrame.\n",
      "Try using .loc[row_indexer,col_indexer] = value instead\n",
      "\n",
      "See the caveats in the documentation: https://pandas.pydata.org/pandas-docs/stable/user_guide/indexing.html#returning-a-view-versus-a-copy\n",
      "  df_school[\"cost_IPTsc_overhead_low\"] = df_school[\"num_schoolchildren_reached_per_year\"] * 2 * cost_schoolbased_overhead_low_per_child_per_year\n",
      "C:\\Users\\joshsu\\OneDrive - Bill & Melinda Gates Foundation\\Code\\malaria-sac-ipt\\analysis\\230503\\compute_costs.py:65: SettingWithCopyWarning: \n",
      "A value is trying to be set on a copy of a slice from a DataFrame.\n",
      "Try using .loc[row_indexer,col_indexer] = value instead\n",
      "\n",
      "See the caveats in the documentation: https://pandas.pydata.org/pandas-docs/stable/user_guide/indexing.html#returning-a-view-versus-a-copy\n",
      "  df_school[\"cost_IPTsc_overhead_high\"] = 0\n",
      "C:\\Users\\joshsu\\OneDrive - Bill & Melinda Gates Foundation\\Code\\malaria-sac-ipt\\analysis\\230503\\compute_costs.py:78: SettingWithCopyWarning: \n",
      "A value is trying to be set on a copy of a slice from a DataFrame.\n",
      "Try using .loc[row_indexer,col_indexer] = value instead\n",
      "\n",
      "See the caveats in the documentation: https://pandas.pydata.org/pandas-docs/stable/user_guide/indexing.html#returning-a-view-versus-a-copy\n",
      "  df_esmc[\"cost_IPTsc_drugs\"] = (df_esmc[\"received_smc_5-10\"] + df_esmc[\"received_smc_10-15\"]) * df_esmc[\"drug_type\"].map(cost_dict)\n",
      "C:\\Users\\joshsu\\OneDrive - Bill & Melinda Gates Foundation\\Code\\malaria-sac-ipt\\analysis\\230503\\compute_costs.py:79: SettingWithCopyWarning: \n",
      "A value is trying to be set on a copy of a slice from a DataFrame.\n",
      "Try using .loc[row_indexer,col_indexer] = value instead\n",
      "\n",
      "See the caveats in the documentation: https://pandas.pydata.org/pandas-docs/stable/user_guide/indexing.html#returning-a-view-versus-a-copy\n",
      "  df_esmc[\"cost_IPTsc_consumables\"] = df_esmc[\"cost_IPTsc_drugs\"]\n",
      "C:\\Users\\joshsu\\OneDrive - Bill & Melinda Gates Foundation\\Code\\malaria-sac-ipt\\analysis\\230503\\compute_costs.py:82: SettingWithCopyWarning: \n",
      "A value is trying to be set on a copy of a slice from a DataFrame.\n",
      "Try using .loc[row_indexer,col_indexer] = value instead\n",
      "\n",
      "See the caveats in the documentation: https://pandas.pydata.org/pandas-docs/stable/user_guide/indexing.html#returning-a-view-versus-a-copy\n",
      "  df_esmc[\"cost_IPTsc_overhead_low\"] = 0\n",
      "C:\\Users\\joshsu\\OneDrive - Bill & Melinda Gates Foundation\\Code\\malaria-sac-ipt\\analysis\\230503\\compute_costs.py:86: SettingWithCopyWarning: \n",
      "A value is trying to be set on a copy of a slice from a DataFrame.\n",
      "Try using .loc[row_indexer,col_indexer] = value instead\n",
      "\n",
      "See the caveats in the documentation: https://pandas.pydata.org/pandas-docs/stable/user_guide/indexing.html#returning-a-view-versus-a-copy\n",
      "  df_esmc[\"cost_IPTsc_overhead_high\"] = num_SAC_receiving_SMC_per_season * pessimistic_SMC_overhead_per_person_per_season * 2\n"
     ]
    }
   ],
   "source": [
    "compute_costs(df)"
   ]
  },
  {
   "cell_type": "code",
   "execution_count": 5,
   "id": "432e53f0-09e5-4bae-b39b-e8d1277101c5",
   "metadata": {
    "tags": []
   },
   "outputs": [],
   "source": [
    "df_pfpr = df[df[\"baseline_transmission_metric\"]==\"pfpr\"].reset_index(drop=True)\n",
    "df_pfpr = df_pfpr[df_pfpr[\"transmission_level\"] > 0.01].reset_index(drop=True)"
   ]
  },
  {
   "cell_type": "code",
   "execution_count": 6,
   "id": "c1212001-0051-49df-bc11-84260f1b838a",
   "metadata": {
    "tags": []
   },
   "outputs": [],
   "source": [
    "df_plot = df_pfpr[np.logical_and.reduce([\n",
    "    df_pfpr[\"archetype\"]==\"Sahel\",\n",
    "    df_pfpr[\"transmission_level\"]==0.2,\n",
    "    np.in1d(df_pfpr[\"scenario_number\"], [6,7,8,9,30,31,32,33])])]"
   ]
  },
  {
   "cell_type": "code",
   "execution_count": 7,
   "id": "4c16608c-2b8e-4e48-8a09-7ca5eef13054",
   "metadata": {
    "tags": []
   },
   "outputs": [],
   "source": [
    "df_itn = df_pfpr[np.logical_and.reduce([\n",
    "    df_pfpr[\"archetype\"]==\"Sahel\",\n",
    "    df_pfpr[\"transmission_level\"]==0.2,\n",
    "    np.in1d(df_pfpr[\"scenario_number\"], [5])])]"
   ]
  },
  {
   "cell_type": "markdown",
   "id": "6bbf6696-ff00-443c-9221-4d7edd1e220a",
   "metadata": {},
   "source": [
    "- Get costs of drug, operational overhead for each of the 4 school-based IPTsc approaches\n",
    "- Get costs of drug, operational overhead for each of the 4 SMC approaches\n",
    "- Get costs of ITNs"
   ]
  },
  {
   "cell_type": "code",
   "execution_count": 13,
   "id": "b797e4e7-5f19-4281-9954-a26d280302e8",
   "metadata": {
    "tags": []
   },
   "outputs": [],
   "source": [
    "df_higher_itn = df_pfpr[np.logical_and.reduce([\n",
    "    np.in1d(df_pfpr[\"scenario_number\"], [5])])]\n",
    "\n",
    "df_regular_itn = df_pfpr[np.logical_and.reduce([\n",
    "    np.logical_not(np.in1d(df_pfpr[\"scenario_number\"], [5]))])]"
   ]
  },
  {
   "cell_type": "code",
   "execution_count": 16,
   "id": "ebb4d911-3250-4190-97fa-0d91f0e342ee",
   "metadata": {
    "tags": []
   },
   "outputs": [],
   "source": [
    "cost_higher_itn = (4500-3500)/5 #per 5k"
   ]
  },
  {
   "cell_type": "code",
   "execution_count": 17,
   "id": "301fe835-26d5-466f-bb0f-53420834d75f",
   "metadata": {
    "tags": []
   },
   "outputs": [
    {
     "data": {
      "text/plain": [
       "200.0"
      ]
     },
     "execution_count": 17,
     "metadata": {},
     "output_type": "execute_result"
    }
   ],
   "source": [
    "cost_higher_itn"
   ]
  },
  {
   "cell_type": "code",
   "execution_count": 35,
   "id": "650aba48-b632-49f0-9d40-826b8df6a617",
   "metadata": {
    "tags": []
   },
   "outputs": [],
   "source": [
    "school_by_term = df_pfpr[np.logical_and.reduce([np.in1d(df_pfpr[\"scenario_number\"], [6,8])])]\n",
    "school_by_month = df_pfpr[np.logical_and.reduce([np.in1d(df_pfpr[\"scenario_number\"], [7,9])])]\n",
    "\n",
    "school_term_overhead_low = np.mean(school_by_term[\"cost_IPTsc_overhead_low\"])\n",
    "school_term_overhead_high = np.mean(school_by_term[\"cost_IPTsc_overhead_high\"])\n",
    "school_term_overhead_mean = np.mean([school_term_overhead_low, school_term_overhead_high])\n",
    "\n",
    "school_month_overhead_low = np.mean(school_by_month[\"cost_IPTsc_overhead_low\"])\n",
    "school_month_overhead_high = np.mean(school_by_month[\"cost_IPTsc_overhead_high\"])\n",
    "school_month_overhead_mean = np.mean([school_month_overhead_low, school_month_overhead_high])"
   ]
  },
  {
   "cell_type": "code",
   "execution_count": 60,
   "id": "a7663432-51e4-440f-a099-c78ec9e744de",
   "metadata": {
    "tags": []
   },
   "outputs": [],
   "source": [
    "asaq_term = df_pfpr[np.logical_and.reduce([df_pfpr[\"archetype\"] != \"Sahel\", np.in1d(df_pfpr[\"scenario_number\"], [6])])]\n",
    "asaq_month = df_pfpr[np.logical_and.reduce([df_pfpr[\"archetype\"] != \"Sahel\", np.in1d(df_pfpr[\"scenario_number\"], [7])])]\n",
    "dp_term = df_pfpr[np.logical_and.reduce([np.in1d(df_pfpr[\"scenario_number\"], [8])])]\n",
    "dp_month = df_pfpr[np.logical_and.reduce([np.in1d(df_pfpr[\"scenario_number\"], [9])])]\n",
    "spaq_term = df_pfpr[np.logical_and.reduce([df_pfpr[\"archetype\"] == \"Sahel\", np.in1d(df_pfpr[\"scenario_number\"], [6])])]\n",
    "spaq_month = df_pfpr[np.logical_and.reduce([df_pfpr[\"archetype\"] == \"Sahel\", np.in1d(df_pfpr[\"scenario_number\"], [7])])]\n",
    "\n",
    "asaq_term_mean = np.mean(asaq_term[\"cost_IPTsc_drugs\"])\n",
    "asaq_month_mean = np.mean(asaq_month[\"cost_IPTsc_drugs\"])\n",
    "\n",
    "spaq_term_mean = np.mean(spaq_term[\"cost_IPTsc_drugs\"])\n",
    "spaq_month_mean = np.mean(spaq_month[\"cost_IPTsc_drugs\"])\n",
    "\n",
    "dp_term_mean = np.mean(dp_term[\"cost_IPTsc_drugs\"])\n",
    "dp_month_mean = np.mean(dp_month[\"cost_IPTsc_drugs\"])"
   ]
  },
  {
   "cell_type": "code",
   "execution_count": 114,
   "id": "58a2cb42-02be-488f-a953-d4606d42dc3b",
   "metadata": {
    "tags": []
   },
   "outputs": [],
   "source": [
    "school_cost_dict = {\n",
    "    \"term\": {\n",
    "        \"overhead\": [school_term_overhead_mean/10, school_term_overhead_low/10, school_term_overhead_high/10],\n",
    "        \"asaq\": asaq_term_mean/10,\n",
    "        \"spaq\": spaq_term_mean/10,\n",
    "        \"dp\": dp_term_mean/10\n",
    "    },\n",
    "    \"month\": {\n",
    "        \"overhead\": [school_month_overhead_mean/10, school_month_overhead_low/10, school_month_overhead_high/10],\n",
    "        \"asaq\": asaq_month_mean/10,\n",
    "        \"spaq\": spaq_month_mean/10,\n",
    "        \"dp\": dp_month_mean/10\n",
    "    }\n",
    "}"
   ]
  },
  {
   "cell_type": "code",
   "execution_count": null,
   "id": "cfb9ac0b-00f0-48a4-ba23-25cc7f029c20",
   "metadata": {},
   "outputs": [],
   "source": []
  },
  {
   "cell_type": "code",
   "execution_count": 115,
   "id": "c60d4fe4-cbda-404f-abdd-d660f7176523",
   "metadata": {
    "tags": []
   },
   "outputs": [],
   "source": [
    "smc_u10 = df_pfpr[np.logical_and.reduce([np.in1d(df_pfpr[\"scenario_number\"], [30,32])])]\n",
    "smc_u15 = df_pfpr[np.logical_and.reduce([np.in1d(df_pfpr[\"scenario_number\"], [31,33])])]\n",
    "\n",
    "smc_u10_overhead_low = np.mean(smc_u10[\"cost_IPTsc_overhead_low\"])\n",
    "smc_u10_overhead_high = np.mean(smc_u10[\"cost_IPTsc_overhead_high\"])\n",
    "smc_u10_overhead_mean = np.mean([smc_u10_overhead_low, smc_u10_overhead_high])\n",
    "\n",
    "smc_u15_overhead_low = np.mean(smc_u15[\"cost_IPTsc_overhead_low\"])\n",
    "smc_u15_overhead_high = np.mean(smc_u15[\"cost_IPTsc_overhead_high\"])\n",
    "smc_u15_overhead_mean = np.mean([smc_u15_overhead_low, smc_u15_overhead_high])"
   ]
  },
  {
   "cell_type": "code",
   "execution_count": 116,
   "id": "3fa89088-15a3-4aec-80ad-f0cb33bf320a",
   "metadata": {
    "tags": []
   },
   "outputs": [],
   "source": [
    "spaq_u10 = df_pfpr[np.logical_and.reduce([np.in1d(df_pfpr[\"scenario_number\"], [30])])]\n",
    "spaq_u15 = df_pfpr[np.logical_and.reduce([np.in1d(df_pfpr[\"scenario_number\"], [31])])]\n",
    "dp_u10 = df_pfpr[np.logical_and.reduce([np.in1d(df_pfpr[\"scenario_number\"], [32])])]\n",
    "dp_u15 = df_pfpr[np.logical_and.reduce([np.in1d(df_pfpr[\"scenario_number\"], [33])])]\n",
    "\n",
    "spaq_u10_mean = np.mean(spaq_u10[\"cost_IPTsc_drugs\"])\n",
    "spaq_u15_mean = np.mean(spaq_u15[\"cost_IPTsc_drugs\"])\n",
    "\n",
    "dp_u10_mean = np.mean(dp_u10[\"cost_IPTsc_drugs\"])\n",
    "dp_u15_mean = np.mean(dp_u15[\"cost_IPTsc_drugs\"])"
   ]
  },
  {
   "cell_type": "code",
   "execution_count": 117,
   "id": "b28aa11d-9466-4581-8f47-9ed136018ec1",
   "metadata": {
    "tags": []
   },
   "outputs": [],
   "source": [
    "smc_cost_dict = {\n",
    "    \"u10\": {\n",
    "        \"overhead\": [smc_u10_overhead_mean/10, smc_u10_overhead_low/10, smc_u10_overhead_high/10],\n",
    "        \"spaq\": spaq_u10_mean/10,\n",
    "        \"dp\": dp_u10_mean/10\n",
    "    },\n",
    "    \"u15\": {\n",
    "        \"overhead\": [smc_u15_overhead_mean/10, smc_u15_overhead_low/10, smc_u15_overhead_high/10],\n",
    "        \"spaq\": spaq_u15_mean/10,\n",
    "        \"dp\": dp_u15_mean/10\n",
    "    },\n",
    "}"
   ]
  },
  {
   "cell_type": "code",
   "execution_count": 118,
   "id": "2a75946f-e282-468c-a872-db43e7b103bc",
   "metadata": {
    "tags": []
   },
   "outputs": [],
   "source": [
    "iptsc_cost_dict = {\n",
    "    \"school\": school_cost_dict,\n",
    "    \"smc\": smc_cost_dict\n",
    "}"
   ]
  },
  {
   "cell_type": "code",
   "execution_count": 124,
   "id": "75914f6f-1e6d-4995-98df-6d99ee48ba91",
   "metadata": {
    "tags": []
   },
   "outputs": [],
   "source": [
    "def make_bar_chart(values, lows, highs, xlabel=None, ylabel=None, legend=None):\n",
    "    # Create a figure and axis object\n",
    "    fig, ax = plt.subplots()\n",
    "    \n",
    "    # Create a bar chart with the given values and error bars\n",
    "    bars = []\n",
    "    for i in range(len(values)):\n",
    "        bar = ax.bar(i, values[i])\n",
    "        ax.errorbar(i, values[i], yerr=[[values[i]-lows[i]], [highs[i]-values[i]]], fmt='none', capsize=10, ecolor='black')\n",
    "        bars.append(bar)\n",
    "    \n",
    "    # Set the x-axis limits\n",
    "    ax.set_xlim(-0.5, len(values) - 0.5)\n",
    "    \n",
    "    # Set the y-axis limits\n",
    "    ax.set_ylim(0, max(highs))\n",
    "    \n",
    "    # Set the x-axis tick labels\n",
    "    ax.set_xticks(range(len(values)))\n",
    "    ax.set_xticklabels(range(1, len(values) + 1))\n",
    "    \n",
    "    # Add axis labels and legend\n",
    "    if xlabel:\n",
    "        ax.set_xlabel(xlabel)\n",
    "    if ylabel:\n",
    "        ax.set_ylabel(ylabel)\n",
    "    if legend:\n",
    "        ax.legend(bars, legend)\n",
    "    \n",
    "    # Display the chart\n",
    "    # plt.show()\n",
    "    plt.savefig(\"impl_costs_nolabels.pdf\")"
   ]
  },
  {
   "cell_type": "code",
   "execution_count": 125,
   "id": "605f36fe-fa27-4b6b-b68f-0ee4de1d5bbb",
   "metadata": {
    "tags": []
   },
   "outputs": [
    {
     "name": "stderr",
     "output_type": "stream",
     "text": [
      "meta NOT subset; don't know how to subset; dropped\n"
     ]
    },
    {
     "data": {
      "image/png": "[encoded data removed]",
      "text/plain": [
       "<Figure size 640x480 with 1 Axes>"
      ]
     },
     "metadata": {},
     "output_type": "display_data"
    }
   ],
   "source": [
    "values = [iptsc_cost_dict[\"school\"][\"term\"][\"overhead\"][0], iptsc_cost_dict[\"school\"][\"term\"][\"asaq\"], iptsc_cost_dict[\"school\"][\"term\"][\"spaq\"], iptsc_cost_dict[\"school\"][\"term\"][\"dp\"], iptsc_cost_dict[\"school\"][\"month\"][\"overhead\"][0], iptsc_cost_dict[\"school\"][\"month\"][\"asaq\"], iptsc_cost_dict[\"school\"][\"month\"][\"spaq\"], iptsc_cost_dict[\"school\"][\"month\"][\"dp\"], iptsc_cost_dict[\"smc\"][\"u10\"][\"overhead\"][0], iptsc_cost_dict[\"smc\"][\"u10\"][\"spaq\"], iptsc_cost_dict[\"smc\"][\"u10\"][\"dp\"], iptsc_cost_dict[\"smc\"][\"u15\"][\"overhead\"][0], iptsc_cost_dict[\"smc\"][\"u15\"][\"spaq\"], iptsc_cost_dict[\"smc\"][\"u15\"][\"dp\"], (4500-3500)/5]\n",
    "lows = [iptsc_cost_dict[\"school\"][\"term\"][\"overhead\"][1], iptsc_cost_dict[\"school\"][\"term\"][\"asaq\"], iptsc_cost_dict[\"school\"][\"term\"][\"spaq\"], iptsc_cost_dict[\"school\"][\"term\"][\"dp\"], iptsc_cost_dict[\"school\"][\"month\"][\"overhead\"][1], iptsc_cost_dict[\"school\"][\"month\"][\"asaq\"], iptsc_cost_dict[\"school\"][\"month\"][\"spaq\"], iptsc_cost_dict[\"school\"][\"month\"][\"dp\"], iptsc_cost_dict[\"smc\"][\"u10\"][\"overhead\"][1], iptsc_cost_dict[\"smc\"][\"u10\"][\"spaq\"], iptsc_cost_dict[\"smc\"][\"u10\"][\"dp\"], iptsc_cost_dict[\"smc\"][\"u15\"][\"overhead\"][1], iptsc_cost_dict[\"smc\"][\"u15\"][\"spaq\"], iptsc_cost_dict[\"smc\"][\"u15\"][\"dp\"], (4500-3500)/5]\n",
    "highs = [iptsc_cost_dict[\"school\"][\"term\"][\"overhead\"][2], iptsc_cost_dict[\"school\"][\"term\"][\"asaq\"], iptsc_cost_dict[\"school\"][\"term\"][\"spaq\"], iptsc_cost_dict[\"school\"][\"term\"][\"dp\"], iptsc_cost_dict[\"school\"][\"month\"][\"overhead\"][2], iptsc_cost_dict[\"school\"][\"month\"][\"asaq\"], iptsc_cost_dict[\"school\"][\"month\"][\"spaq\"], iptsc_cost_dict[\"school\"][\"month\"][\"dp\"], iptsc_cost_dict[\"smc\"][\"u10\"][\"overhead\"][2], iptsc_cost_dict[\"smc\"][\"u10\"][\"spaq\"], iptsc_cost_dict[\"smc\"][\"u10\"][\"dp\"], iptsc_cost_dict[\"smc\"][\"u15\"][\"overhead\"][2], iptsc_cost_dict[\"smc\"][\"u15\"][\"spaq\"], iptsc_cost_dict[\"smc\"][\"u15\"][\"dp\"], (4500-3500)/5]\n",
    "# labels = ['A', 'B', 'C', 'D']\n",
    "make_bar_chart(values, lows, highs, xlabel='X Label', ylabel='Y Label', legend=labels)\n",
    "\n"
   ]
  },
  {
   "cell_type": "code",
   "execution_count": 77,
   "id": "2c8a9a0a-0fc1-450b-b1ae-e66101aa6d04",
   "metadata": {
    "tags": []
   },
   "outputs": [
    {
     "data": {
      "text/plain": [
       "{'u10': {'overhead': [3578.0954999999994, 0.0, 7156.190999999999],\n",
       "  'spaq': 1158.0169999999998,\n",
       "  'dp': 7066.6652},\n",
       " 'u15': {'overhead': [6515.93555, 0.0, 13031.8711],\n",
       "  'spaq': 2107.931,\n",
       "  'dp': 12874.2828}}"
      ]
     },
     "execution_count": 77,
     "metadata": {},
     "output_type": "execute_result"
    }
   ],
   "source": [
    "iptsc_cost_dict[\"smc\"]"
   ]
  },
  {
   "cell_type": "code",
   "execution_count": 69,
   "id": "190b48ef-caa9-467c-bdab-b5cfd951317f",
   "metadata": {
    "tags": []
   },
   "outputs": [
    {
     "data": {
      "text/plain": [
       "13031.8711"
      ]
     },
     "execution_count": 69,
     "metadata": {},
     "output_type": "execute_result"
    }
   ],
   "source": [
    "smc_u15_overhead_high"
   ]
  },
  {
   "cell_type": "code",
   "execution_count": 64,
   "id": "d913c412-ba4a-450b-9213-e7feb5f61b0e",
   "metadata": {
    "tags": []
   },
   "outputs": [
    {
     "data": {
      "text/plain": [
       "{'term': {'overhead': [2058.406916666667, 446.4015, 3670.4123333333337],\n",
       "  'asaq': 2473.5299999999997,\n",
       "  'spaq': 1749.321,\n",
       "  'dp': 10605.782933333336},\n",
       " 'month': {'overhead': [6716.557542803031,\n",
       "   444.8225522727273,\n",
       "   12988.292533333333],\n",
       "  'asaq': 9393.634999999998,\n",
       "  'spaq': 5275.339999999999,\n",
       "  'dp': 37566.658533333335}}"
      ]
     },
     "execution_count": 64,
     "metadata": {},
     "output_type": "execute_result"
    }
   ],
   "source": [
    "school_cost_dict"
   ]
  },
  {
   "cell_type": "code",
   "execution_count": 50,
   "id": "73200e32-fcd2-46ce-bfcd-d9a091492130",
   "metadata": {
    "tags": []
   },
   "outputs": [
    {
     "data": {
      "text/plain": [
       "9393.634999999998"
      ]
     },
     "execution_count": 50,
     "metadata": {},
     "output_type": "execute_result"
    }
   ],
   "source": [
    "asaq_month_mean"
   ]
  },
  {
   "cell_type": "code",
   "execution_count": 48,
   "id": "3fe3af17-0f3b-42f8-ac83-ff779cff0f15",
   "metadata": {
    "tags": []
   },
   "outputs": [
    {
     "data": {
      "text/plain": [
       "2473.5299999999997"
      ]
     },
     "execution_count": 48,
     "metadata": {},
     "output_type": "execute_result"
    }
   ],
   "source": [
    "asaq_term_mean"
   ]
  },
  {
   "cell_type": "code",
   "execution_count": 54,
   "id": "dae07f93-e599-4aa6-a44f-a73d5759fa50",
   "metadata": {
    "tags": []
   },
   "outputs": [
    {
     "data": {
      "text/plain": [
       "0.5615866488318952"
      ]
     },
     "execution_count": 54,
     "metadata": {},
     "output_type": "execute_result"
    }
   ],
   "source": [
    "spaq_month_mean/asaq_month_mean"
   ]
  },
  {
   "cell_type": "code",
   "execution_count": 58,
   "id": "cf5680f7-756b-4afe-9391-93292ffd3391",
   "metadata": {
    "tags": []
   },
   "outputs": [
    {
     "data": {
      "text/plain": [
       "10605.782933333336"
      ]
     },
     "execution_count": 58,
     "metadata": {},
     "output_type": "execute_result"
    }
   ],
   "source": [
    "dp_term_mean"
   ]
  },
  {
   "cell_type": "code",
   "execution_count": 59,
   "id": "0f380e18-826d-4df7-aa3e-6e99fd467bd1",
   "metadata": {
    "tags": []
   },
   "outputs": [
    {
     "data": {
      "text/plain": [
       "37566.658533333335"
      ]
     },
     "execution_count": 59,
     "metadata": {},
     "output_type": "execute_result"
    }
   ],
   "source": [
    "dp_month_mean"
   ]
  },
  {
   "cell_type": "code",
   "execution_count": null,
   "id": "383e39d5-b55c-4c63-80e9-707befca96e4",
   "metadata": {},
   "outputs": [],
   "source": []
  },
  {
   "cell_type": "code",
   "execution_count": 55,
   "id": "7d9288a0-d023-4858-9b97-92aaf182c720",
   "metadata": {
    "tags": []
   },
   "outputs": [
    {
     "data": {
      "text/plain": [
       "0.7"
      ]
     },
     "execution_count": 55,
     "metadata": {},
     "output_type": "execute_result"
    }
   ],
   "source": [
    "35/50"
   ]
  },
  {
   "cell_type": "code",
   "execution_count": 40,
   "id": "2398b998-c7e3-4170-bd32-ba41ecfa02b4",
   "metadata": {
    "tags": []
   },
   "outputs": [
    {
     "data": {
      "text/html": [
       "<div>\n",
       "<style scoped>\n",
       "    .dataframe tbody tr th:only-of-type {\n",
       "        vertical-align: middle;\n",
       "    }\n",
       "\n",
       "    .dataframe tbody tr th {\n",
       "        vertical-align: top;\n",
       "    }\n",
       "\n",
       "    .dataframe thead th {\n",
       "        text-align: right;\n",
       "    }\n",
       "</style>\n",
       "<table border=\"1\" class=\"dataframe\">\n",
       "  <thead>\n",
       "    <tr style=\"text-align: right;\">\n",
       "      <th></th>\n",
       "      <th>archetype</th>\n",
       "      <th>baseline_transmission_metric</th>\n",
       "      <th>transmission_level</th>\n",
       "      <th>scenario_number</th>\n",
       "      <th>iptsc_rdts_used</th>\n",
       "      <th>iptsc_drugs_used_school</th>\n",
       "      <th>cases_treated</th>\n",
       "      <th>severe_cases_treated</th>\n",
       "      <th>received_smc_u5</th>\n",
       "      <th>received_smc_5-10</th>\n",
       "      <th>...</th>\n",
       "      <th>cost_SMC_u5_high</th>\n",
       "      <th>cost_facility_low</th>\n",
       "      <th>cost_facility_high</th>\n",
       "      <th>cost_severe</th>\n",
       "      <th>cost_ITNs</th>\n",
       "      <th>cost_ivermectin</th>\n",
       "      <th>cost_primaquine</th>\n",
       "      <th>cost_low</th>\n",
       "      <th>cost_high</th>\n",
       "      <th>cost_mean</th>\n",
       "    </tr>\n",
       "  </thead>\n",
       "  <tbody>\n",
       "    <tr>\n",
       "      <th>6</th>\n",
       "      <td>Central</td>\n",
       "      <td>pfpr</td>\n",
       "      <td>0.05</td>\n",
       "      <td>6</td>\n",
       "      <td>0.0</td>\n",
       "      <td>5090.1</td>\n",
       "      <td>2574.0</td>\n",
       "      <td>0.0</td>\n",
       "      <td>0.0</td>\n",
       "      <td>0.0</td>\n",
       "      <td>...</td>\n",
       "      <td>0.0</td>\n",
       "      <td>11634.480</td>\n",
       "      <td>30682.080</td>\n",
       "      <td>0.0</td>\n",
       "      <td>3500</td>\n",
       "      <td>0.0</td>\n",
       "      <td>0.0</td>\n",
       "      <td>18137.639</td>\n",
       "      <td>40493.804</td>\n",
       "      <td>29315.7215</td>\n",
       "    </tr>\n",
       "    <tr>\n",
       "      <th>36</th>\n",
       "      <td>Central</td>\n",
       "      <td>pfpr</td>\n",
       "      <td>0.10</td>\n",
       "      <td>6</td>\n",
       "      <td>0.0</td>\n",
       "      <td>4809.5</td>\n",
       "      <td>2582.6</td>\n",
       "      <td>0.0</td>\n",
       "      <td>0.0</td>\n",
       "      <td>0.0</td>\n",
       "      <td>...</td>\n",
       "      <td>0.0</td>\n",
       "      <td>11673.352</td>\n",
       "      <td>30784.592</td>\n",
       "      <td>0.0</td>\n",
       "      <td>3500</td>\n",
       "      <td>0.0</td>\n",
       "      <td>0.0</td>\n",
       "      <td>18010.957</td>\n",
       "      <td>40248.372</td>\n",
       "      <td>29129.6645</td>\n",
       "    </tr>\n",
       "    <tr>\n",
       "      <th>66</th>\n",
       "      <td>Central</td>\n",
       "      <td>pfpr</td>\n",
       "      <td>0.20</td>\n",
       "      <td>6</td>\n",
       "      <td>0.0</td>\n",
       "      <td>4851.5</td>\n",
       "      <td>3755.7</td>\n",
       "      <td>0.0</td>\n",
       "      <td>0.0</td>\n",
       "      <td>0.0</td>\n",
       "      <td>...</td>\n",
       "      <td>0.0</td>\n",
       "      <td>16975.764</td>\n",
       "      <td>44767.944</td>\n",
       "      <td>0.0</td>\n",
       "      <td>3500</td>\n",
       "      <td>0.0</td>\n",
       "      <td>0.0</td>\n",
       "      <td>23338.149</td>\n",
       "      <td>54283.804</td>\n",
       "      <td>38810.9765</td>\n",
       "    </tr>\n",
       "    <tr>\n",
       "      <th>96</th>\n",
       "      <td>Central</td>\n",
       "      <td>pfpr</td>\n",
       "      <td>0.30</td>\n",
       "      <td>6</td>\n",
       "      <td>0.0</td>\n",
       "      <td>5035.0</td>\n",
       "      <td>4432.2</td>\n",
       "      <td>0.0</td>\n",
       "      <td>0.0</td>\n",
       "      <td>0.0</td>\n",
       "      <td>...</td>\n",
       "      <td>0.0</td>\n",
       "      <td>20033.544</td>\n",
       "      <td>52831.824</td>\n",
       "      <td>0.0</td>\n",
       "      <td>3500</td>\n",
       "      <td>0.0</td>\n",
       "      <td>0.0</td>\n",
       "      <td>26504.194</td>\n",
       "      <td>62575.224</td>\n",
       "      <td>44539.7090</td>\n",
       "    </tr>\n",
       "    <tr>\n",
       "      <th>126</th>\n",
       "      <td>Central</td>\n",
       "      <td>pfpr</td>\n",
       "      <td>0.40</td>\n",
       "      <td>6</td>\n",
       "      <td>0.0</td>\n",
       "      <td>5023.9</td>\n",
       "      <td>5253.1</td>\n",
       "      <td>0.0</td>\n",
       "      <td>0.0</td>\n",
       "      <td>0.0</td>\n",
       "      <td>...</td>\n",
       "      <td>0.0</td>\n",
       "      <td>23744.012</td>\n",
       "      <td>62616.952</td>\n",
       "      <td>0.0</td>\n",
       "      <td>3500</td>\n",
       "      <td>0.0</td>\n",
       "      <td>0.0</td>\n",
       "      <td>30208.113</td>\n",
       "      <td>72346.588</td>\n",
       "      <td>51277.3505</td>\n",
       "    </tr>\n",
       "    <tr>\n",
       "      <th>346</th>\n",
       "      <td>Southern</td>\n",
       "      <td>pfpr</td>\n",
       "      <td>0.05</td>\n",
       "      <td>6</td>\n",
       "      <td>0.0</td>\n",
       "      <td>4860.0</td>\n",
       "      <td>1561.4</td>\n",
       "      <td>0.0</td>\n",
       "      <td>0.0</td>\n",
       "      <td>0.0</td>\n",
       "      <td>...</td>\n",
       "      <td>0.0</td>\n",
       "      <td>7057.528</td>\n",
       "      <td>18611.888</td>\n",
       "      <td>0.0</td>\n",
       "      <td>3500</td>\n",
       "      <td>0.0</td>\n",
       "      <td>0.0</td>\n",
       "      <td>13424.928</td>\n",
       "      <td>28138.288</td>\n",
       "      <td>20781.6080</td>\n",
       "    </tr>\n",
       "    <tr>\n",
       "      <th>376</th>\n",
       "      <td>Southern</td>\n",
       "      <td>pfpr</td>\n",
       "      <td>0.10</td>\n",
       "      <td>6</td>\n",
       "      <td>0.0</td>\n",
       "      <td>4973.9</td>\n",
       "      <td>2112.1</td>\n",
       "      <td>0.0</td>\n",
       "      <td>0.0</td>\n",
       "      <td>0.0</td>\n",
       "      <td>...</td>\n",
       "      <td>0.0</td>\n",
       "      <td>9546.692</td>\n",
       "      <td>25176.232</td>\n",
       "      <td>0.0</td>\n",
       "      <td>3500</td>\n",
       "      <td>0.0</td>\n",
       "      <td>0.0</td>\n",
       "      <td>15981.293</td>\n",
       "      <td>34843.868</td>\n",
       "      <td>25412.5805</td>\n",
       "    </tr>\n",
       "    <tr>\n",
       "      <th>406</th>\n",
       "      <td>Southern</td>\n",
       "      <td>pfpr</td>\n",
       "      <td>0.20</td>\n",
       "      <td>6</td>\n",
       "      <td>0.0</td>\n",
       "      <td>4887.2</td>\n",
       "      <td>3141.2</td>\n",
       "      <td>0.0</td>\n",
       "      <td>0.0</td>\n",
       "      <td>0.0</td>\n",
       "      <td>...</td>\n",
       "      <td>0.0</td>\n",
       "      <td>14198.224</td>\n",
       "      <td>37443.104</td>\n",
       "      <td>0.0</td>\n",
       "      <td>3500</td>\n",
       "      <td>0.0</td>\n",
       "      <td>0.0</td>\n",
       "      <td>20581.672</td>\n",
       "      <td>47003.232</td>\n",
       "      <td>33792.4520</td>\n",
       "    </tr>\n",
       "    <tr>\n",
       "      <th>436</th>\n",
       "      <td>Southern</td>\n",
       "      <td>pfpr</td>\n",
       "      <td>0.30</td>\n",
       "      <td>6</td>\n",
       "      <td>0.0</td>\n",
       "      <td>5033.4</td>\n",
       "      <td>4481.5</td>\n",
       "      <td>0.0</td>\n",
       "      <td>0.0</td>\n",
       "      <td>0.0</td>\n",
       "      <td>...</td>\n",
       "      <td>0.0</td>\n",
       "      <td>20256.380</td>\n",
       "      <td>53419.480</td>\n",
       "      <td>0.0</td>\n",
       "      <td>3500</td>\n",
       "      <td>0.0</td>\n",
       "      <td>0.0</td>\n",
       "      <td>26726.086</td>\n",
       "      <td>63160.896</td>\n",
       "      <td>44943.4910</td>\n",
       "    </tr>\n",
       "    <tr>\n",
       "      <th>466</th>\n",
       "      <td>Southern</td>\n",
       "      <td>pfpr</td>\n",
       "      <td>0.40</td>\n",
       "      <td>6</td>\n",
       "      <td>0.0</td>\n",
       "      <td>4906.1</td>\n",
       "      <td>4868.7</td>\n",
       "      <td>0.0</td>\n",
       "      <td>0.0</td>\n",
       "      <td>0.0</td>\n",
       "      <td>...</td>\n",
       "      <td>0.0</td>\n",
       "      <td>22006.524</td>\n",
       "      <td>58034.904</td>\n",
       "      <td>0.0</td>\n",
       "      <td>3500</td>\n",
       "      <td>0.0</td>\n",
       "      <td>0.0</td>\n",
       "      <td>28401.123</td>\n",
       "      <td>67618.468</td>\n",
       "      <td>48009.7955</td>\n",
       "    </tr>\n",
       "  </tbody>\n",
       "</table>\n",
       "<p>10 rows × 143 columns</p>\n",
       "</div>"
      ],
      "text/plain": [
       "    archetype baseline_transmission_metric  transmission_level  \\\n",
       "6     Central                         pfpr                0.05   \n",
       "36    Central                         pfpr                0.10   \n",
       "66    Central                         pfpr                0.20   \n",
       "96    Central                         pfpr                0.30   \n",
       "126   Central                         pfpr                0.40   \n",
       "346  Southern                         pfpr                0.05   \n",
       "376  Southern                         pfpr                0.10   \n",
       "406  Southern                         pfpr                0.20   \n",
       "436  Southern                         pfpr                0.30   \n",
       "466  Southern                         pfpr                0.40   \n",
       "\n",
       "     scenario_number  iptsc_rdts_used  iptsc_drugs_used_school  cases_treated  \\\n",
       "6                  6              0.0                   5090.1         2574.0   \n",
       "36                 6              0.0                   4809.5         2582.6   \n",
       "66                 6              0.0                   4851.5         3755.7   \n",
       "96                 6              0.0                   5035.0         4432.2   \n",
       "126                6              0.0                   5023.9         5253.1   \n",
       "346                6              0.0                   4860.0         1561.4   \n",
       "376                6              0.0                   4973.9         2112.1   \n",
       "406                6              0.0                   4887.2         3141.2   \n",
       "436                6              0.0                   5033.4         4481.5   \n",
       "466                6              0.0                   4906.1         4868.7   \n",
       "\n",
       "     severe_cases_treated  received_smc_u5  received_smc_5-10  ...  \\\n",
       "6                     0.0              0.0                0.0  ...   \n",
       "36                    0.0              0.0                0.0  ...   \n",
       "66                    0.0              0.0                0.0  ...   \n",
       "96                    0.0              0.0                0.0  ...   \n",
       "126                   0.0              0.0                0.0  ...   \n",
       "346                   0.0              0.0                0.0  ...   \n",
       "376                   0.0              0.0                0.0  ...   \n",
       "406                   0.0              0.0                0.0  ...   \n",
       "436                   0.0              0.0                0.0  ...   \n",
       "466                   0.0              0.0                0.0  ...   \n",
       "\n",
       "     cost_SMC_u5_high  cost_facility_low  cost_facility_high  cost_severe  \\\n",
       "6                 0.0          11634.480           30682.080          0.0   \n",
       "36                0.0          11673.352           30784.592          0.0   \n",
       "66                0.0          16975.764           44767.944          0.0   \n",
       "96                0.0          20033.544           52831.824          0.0   \n",
       "126               0.0          23744.012           62616.952          0.0   \n",
       "346               0.0           7057.528           18611.888          0.0   \n",
       "376               0.0           9546.692           25176.232          0.0   \n",
       "406               0.0          14198.224           37443.104          0.0   \n",
       "436               0.0          20256.380           53419.480          0.0   \n",
       "466               0.0          22006.524           58034.904          0.0   \n",
       "\n",
       "     cost_ITNs  cost_ivermectin  cost_primaquine   cost_low  cost_high  \\\n",
       "6         3500              0.0              0.0  18137.639  40493.804   \n",
       "36        3500              0.0              0.0  18010.957  40248.372   \n",
       "66        3500              0.0              0.0  23338.149  54283.804   \n",
       "96        3500              0.0              0.0  26504.194  62575.224   \n",
       "126       3500              0.0              0.0  30208.113  72346.588   \n",
       "346       3500              0.0              0.0  13424.928  28138.288   \n",
       "376       3500              0.0              0.0  15981.293  34843.868   \n",
       "406       3500              0.0              0.0  20581.672  47003.232   \n",
       "436       3500              0.0              0.0  26726.086  63160.896   \n",
       "466       3500              0.0              0.0  28401.123  67618.468   \n",
       "\n",
       "      cost_mean  \n",
       "6    29315.7215  \n",
       "36   29129.6645  \n",
       "66   38810.9765  \n",
       "96   44539.7090  \n",
       "126  51277.3505  \n",
       "346  20781.6080  \n",
       "376  25412.5805  \n",
       "406  33792.4520  \n",
       "436  44943.4910  \n",
       "466  48009.7955  \n",
       "\n",
       "[10 rows x 143 columns]"
      ]
     },
     "execution_count": 40,
     "metadata": {},
     "output_type": "execute_result"
    }
   ],
   "source": [
    "school_term_overhead_low = np.mean(school_by_term[\"cost_IPTsc_overhead_low\"])\n",
    "school_term_overhead_high = np.mean(school_by_term[\"cost_IPTsc_overhead_high\"])\n",
    "school_term_overhead_mean = np.mean([school_term_overhead_low, school_term_overhead_high])"
   ]
  },
  {
   "cell_type": "code",
   "execution_count": 21,
   "id": "46c7cb1b-83a0-44e3-9326-bcb97b1a683e",
   "metadata": {
    "tags": []
   },
   "outputs": [
    {
     "data": {
      "text/plain": [
       "(array([3., 5., 2., 2., 1., 1., 2., 6., 5., 3.]),\n",
       " array([432.747 , 435.2832, 437.8194, 440.3556, 442.8918, 445.428 ,\n",
       "        447.9642, 450.5004, 453.0366, 455.5728, 458.109 ]),\n",
       " <BarContainer object of 10 artists>)"
      ]
     },
     "execution_count": 21,
     "metadata": {},
     "output_type": "execute_result"
    },
    {
     "data": {
      "image/png": "[encoded data removed]",
      "text/plain": [
       "<Figure size 640x480 with 1 Axes>"
      ]
     },
     "metadata": {},
     "output_type": "display_data"
    }
   ],
   "source": [
    "plt.hist(foo[\"cost_IPTsc_overhead_low\"])"
   ]
  },
  {
   "cell_type": "code",
   "execution_count": 22,
   "id": "dc5f5b63-1d2c-4045-9350-6d3d9fda7e6b",
   "metadata": {
    "tags": []
   },
   "outputs": [
    {
     "data": {
      "text/plain": [
       "(array([3., 5., 2., 2., 1., 1., 2., 6., 5., 3.]),\n",
       " array([3558.142 , 3578.9952, 3599.8484, 3620.7016, 3641.5548, 3662.408 ,\n",
       "        3683.2612, 3704.1144, 3724.9676, 3745.8208, 3766.674 ]),\n",
       " <BarContainer object of 10 artists>)"
      ]
     },
     "execution_count": 22,
     "metadata": {},
     "output_type": "execute_result"
    },
    {
     "data": {
      "image/png": "[encoded data removed]",
      "text/plain": [
       "<Figure size 640x480 with 1 Axes>"
      ]
     },
     "metadata": {},
     "output_type": "display_data"
    }
   ],
   "source": [
    "plt.hist(foo[\"cost_IPTsc_overhead_high\"])"
   ]
  },
  {
   "cell_type": "code",
   "execution_count": null,
   "id": "e241e6bd-8307-4ebd-90e6-ffd78847e56e",
   "metadata": {},
   "outputs": [],
   "source": []
  }
 ],
 "metadata": {
  "kernelspec": {
   "display_name": "Python 3 (ipykernel)",
   "language": "python",
   "name": "python3"
  },
  "language_info": {
   "codemirror_mode": {
    "name": "ipython",
    "version": 3
   },
   "file_extension": ".py",
   "mimetype": "text/x-python",
   "name": "python",
   "nbconvert_exporter": "python",
   "pygments_lexer": "ipython3",
   "version": "3.9.13"
  }
 },
 "nbformat": 4,
 "nbformat_minor": 5
}
