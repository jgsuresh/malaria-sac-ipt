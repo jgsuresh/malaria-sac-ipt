{
 "cells": [
  {
   "cell_type": "code",
   "execution_count": 2,
   "id": "initial_id",
   "metadata": {
    "collapsed": true,
    "ExecuteTime": {
     "end_time": "2024-09-30T21:52:48.486784Z",
     "start_time": "2024-09-30T21:52:48.473766Z"
    }
   },
   "outputs": [],
   "source": [
    "import matplotlib.pyplot as plt\n",
    "import numpy as np\n",
    "import pandas as pd\n",
    "import seaborn as sns\n",
    "sns.set_context(\"talk\")\n",
    "sns.set_style(\"white\")"
   ]
  },
  {
   "cell_type": "code",
   "outputs": [],
   "source": [
    "df1 = pd.read_csv(\"sim_data_a729ef5e-d4ea-ed11-aa06-b88303911bc1.csv\") # Southern/Central\n",
    "df2 = pd.read_csv(\"sim_data_3694adf1-d5ea-ed11-aa06-b88303911bc1.csv\") # Sahel\n",
    "\n",
    "df = pd.concat([df1,df2], ignore_index=True)"
   ],
   "metadata": {
    "collapsed": false,
    "ExecuteTime": {
     "end_time": "2024-09-30T21:52:49.316997Z",
     "start_time": "2024-09-30T21:52:48.955301Z"
    }
   },
   "id": "7e8c1ab5838c49f0",
   "execution_count": 3
  },
  {
   "cell_type": "code",
   "outputs": [
    {
     "data": {
      "text/plain": "   archetype  scenario_number  iptsc_on delivery_mode campaign_timing  \\\n0   Southern                0     False          None            None   \n1   Southern                1     False          None            None   \n2   Southern                2     False          None            None   \n3   Southern                3     False          None            None   \n4   Southern                4     False          None            None   \n..       ...              ...       ...           ...             ...   \n93     Sahel               33      True       smc_u15             smc   \n94     Sahel               34      True       smc_u10             smc   \n95     Sahel               35      True       smc_u15             smc   \n96     Sahel               36      True       smc_u10             smc   \n97     Sahel               37      True       smc_u15             smc   \n\n   screen_type drug_type  out_of_school_rate  ivermectin  primaquine  \\\n0         None      None                 0.2       False       False   \n1         None      None                 0.2       False       False   \n2         None      None                 0.2       False       False   \n3         None      None                 0.2       False       False   \n4         None      None                 0.2       False       False   \n..         ...       ...                 ...         ...         ...   \n93         IPT        DP                 0.2       False       False   \n94         IPT      SPAQ                 0.2       False       False   \n95         IPT      SPAQ                 0.2       False       False   \n96         IPT        DP                 0.2       False       False   \n97         IPT        DP                 0.2       False       False   \n\n    itn_coverage  hs_rate  smc_on smc_coverage                       comments  \n0            0.7      0.6   False         None                       No IPTsc  \n1            0.7      1.0   False         None             No IPTsc - 100% HS  \n2            0.7      0.8   False         None              No IPTsc - 80% HS  \n3            0.7      0.4   False         None              No IPTsc - 40% HS  \n4            0.7      0.2   False         None              No IPTsc - 20% HS  \n..           ...      ...     ...          ...                            ...  \n93           0.7      0.6    True          0.6                   u15 SMC - DP  \n94           0.7      0.6    True          0.8  u10 SMC - SPAQ - 80% coverage  \n95           0.7      0.6    True          0.8  u15 SMC - SPAQ - 80% coverage  \n96           0.7      0.6    True          0.8    u10 SMC - DP - 80% coverage  \n97           0.7      0.6    True          0.8    u15 SMC - DP - 80% coverage  \n\n[98 rows x 15 columns]",
      "text/html": "<div>\n<style scoped>\n    .dataframe tbody tr th:only-of-type {\n        vertical-align: middle;\n    }\n\n    .dataframe tbody tr th {\n        vertical-align: top;\n    }\n\n    .dataframe thead th {\n        text-align: right;\n    }\n</style>\n<table border=\"1\" class=\"dataframe\">\n  <thead>\n    <tr style=\"text-align: right;\">\n      <th></th>\n      <th>archetype</th>\n      <th>scenario_number</th>\n      <th>iptsc_on</th>\n      <th>delivery_mode</th>\n      <th>campaign_timing</th>\n      <th>screen_type</th>\n      <th>drug_type</th>\n      <th>out_of_school_rate</th>\n      <th>ivermectin</th>\n      <th>primaquine</th>\n      <th>itn_coverage</th>\n      <th>hs_rate</th>\n      <th>smc_on</th>\n      <th>smc_coverage</th>\n      <th>comments</th>\n    </tr>\n  </thead>\n  <tbody>\n    <tr>\n      <th>0</th>\n      <td>Southern</td>\n      <td>0</td>\n      <td>False</td>\n      <td>None</td>\n      <td>None</td>\n      <td>None</td>\n      <td>None</td>\n      <td>0.2</td>\n      <td>False</td>\n      <td>False</td>\n      <td>0.7</td>\n      <td>0.6</td>\n      <td>False</td>\n      <td>None</td>\n      <td>No IPTsc</td>\n    </tr>\n    <tr>\n      <th>1</th>\n      <td>Southern</td>\n      <td>1</td>\n      <td>False</td>\n      <td>None</td>\n      <td>None</td>\n      <td>None</td>\n      <td>None</td>\n      <td>0.2</td>\n      <td>False</td>\n      <td>False</td>\n      <td>0.7</td>\n      <td>1.0</td>\n      <td>False</td>\n      <td>None</td>\n      <td>No IPTsc - 100% HS</td>\n    </tr>\n    <tr>\n      <th>2</th>\n      <td>Southern</td>\n      <td>2</td>\n      <td>False</td>\n      <td>None</td>\n      <td>None</td>\n      <td>None</td>\n      <td>None</td>\n      <td>0.2</td>\n      <td>False</td>\n      <td>False</td>\n      <td>0.7</td>\n      <td>0.8</td>\n      <td>False</td>\n      <td>None</td>\n      <td>No IPTsc - 80% HS</td>\n    </tr>\n    <tr>\n      <th>3</th>\n      <td>Southern</td>\n      <td>3</td>\n      <td>False</td>\n      <td>None</td>\n      <td>None</td>\n      <td>None</td>\n      <td>None</td>\n      <td>0.2</td>\n      <td>False</td>\n      <td>False</td>\n      <td>0.7</td>\n      <td>0.4</td>\n      <td>False</td>\n      <td>None</td>\n      <td>No IPTsc - 40% HS</td>\n    </tr>\n    <tr>\n      <th>4</th>\n      <td>Southern</td>\n      <td>4</td>\n      <td>False</td>\n      <td>None</td>\n      <td>None</td>\n      <td>None</td>\n      <td>None</td>\n      <td>0.2</td>\n      <td>False</td>\n      <td>False</td>\n      <td>0.7</td>\n      <td>0.2</td>\n      <td>False</td>\n      <td>None</td>\n      <td>No IPTsc - 20% HS</td>\n    </tr>\n    <tr>\n      <th>...</th>\n      <td>...</td>\n      <td>...</td>\n      <td>...</td>\n      <td>...</td>\n      <td>...</td>\n      <td>...</td>\n      <td>...</td>\n      <td>...</td>\n      <td>...</td>\n      <td>...</td>\n      <td>...</td>\n      <td>...</td>\n      <td>...</td>\n      <td>...</td>\n      <td>...</td>\n    </tr>\n    <tr>\n      <th>93</th>\n      <td>Sahel</td>\n      <td>33</td>\n      <td>True</td>\n      <td>smc_u15</td>\n      <td>smc</td>\n      <td>IPT</td>\n      <td>DP</td>\n      <td>0.2</td>\n      <td>False</td>\n      <td>False</td>\n      <td>0.7</td>\n      <td>0.6</td>\n      <td>True</td>\n      <td>0.6</td>\n      <td>u15 SMC - DP</td>\n    </tr>\n    <tr>\n      <th>94</th>\n      <td>Sahel</td>\n      <td>34</td>\n      <td>True</td>\n      <td>smc_u10</td>\n      <td>smc</td>\n      <td>IPT</td>\n      <td>SPAQ</td>\n      <td>0.2</td>\n      <td>False</td>\n      <td>False</td>\n      <td>0.7</td>\n      <td>0.6</td>\n      <td>True</td>\n      <td>0.8</td>\n      <td>u10 SMC - SPAQ - 80% coverage</td>\n    </tr>\n    <tr>\n      <th>95</th>\n      <td>Sahel</td>\n      <td>35</td>\n      <td>True</td>\n      <td>smc_u15</td>\n      <td>smc</td>\n      <td>IPT</td>\n      <td>SPAQ</td>\n      <td>0.2</td>\n      <td>False</td>\n      <td>False</td>\n      <td>0.7</td>\n      <td>0.6</td>\n      <td>True</td>\n      <td>0.8</td>\n      <td>u15 SMC - SPAQ - 80% coverage</td>\n    </tr>\n    <tr>\n      <th>96</th>\n      <td>Sahel</td>\n      <td>36</td>\n      <td>True</td>\n      <td>smc_u10</td>\n      <td>smc</td>\n      <td>IPT</td>\n      <td>DP</td>\n      <td>0.2</td>\n      <td>False</td>\n      <td>False</td>\n      <td>0.7</td>\n      <td>0.6</td>\n      <td>True</td>\n      <td>0.8</td>\n      <td>u10 SMC - DP - 80% coverage</td>\n    </tr>\n    <tr>\n      <th>97</th>\n      <td>Sahel</td>\n      <td>37</td>\n      <td>True</td>\n      <td>smc_u15</td>\n      <td>smc</td>\n      <td>IPT</td>\n      <td>DP</td>\n      <td>0.2</td>\n      <td>False</td>\n      <td>False</td>\n      <td>0.7</td>\n      <td>0.6</td>\n      <td>True</td>\n      <td>0.8</td>\n      <td>u15 SMC - DP - 80% coverage</td>\n    </tr>\n  </tbody>\n</table>\n<p>98 rows × 15 columns</p>\n</div>"
     },
     "execution_count": 4,
     "metadata": {},
     "output_type": "execute_result"
    }
   ],
   "source": [
    "# Add scenario information\n",
    "df_scenarios = pd.read_csv(\"../../run_sims/Assets/scenario_master_list.csv\")\n",
    "df_scenarios"
   ],
   "metadata": {
    "collapsed": false,
    "ExecuteTime": {
     "end_time": "2024-09-30T21:52:49.800151Z",
     "start_time": "2024-09-30T21:52:49.683540Z"
    }
   },
   "id": "508831d8bf4b19a3",
   "execution_count": 4
  },
  {
   "cell_type": "code",
   "outputs": [],
   "source": [
    "df = pd.merge(df, df_scenarios, how=\"left\", on=[\"archetype\", \"scenario_number\"])"
   ],
   "metadata": {
    "collapsed": false,
    "ExecuteTime": {
     "end_time": "2024-09-30T21:52:52.965388Z",
     "start_time": "2024-09-30T21:52:52.921399Z"
    }
   },
   "id": "7fa32425356d5633",
   "execution_count": 5
  },
  {
   "cell_type": "code",
   "outputs": [],
   "source": [
    "df.to_csv(\"sim_data_raw.csv\", index=False)"
   ],
   "metadata": {
    "collapsed": false,
    "ExecuteTime": {
     "end_time": "2024-09-26T22:38:55.263347Z",
     "start_time": "2024-09-26T22:38:54.963571Z"
    }
   },
   "id": "e3ad7c34e297666f",
   "execution_count": 8
  },
  {
   "cell_type": "markdown",
   "source": [
    "# Debugging only"
   ],
   "metadata": {
    "collapsed": false
   },
   "id": "3fcfaa92c78c6b33"
  },
  {
   "cell_type": "code",
   "outputs": [
    {
     "name": "stderr",
     "output_type": "stream",
     "text": [
      "C:\\Users\\joshsu\\AppData\\Local\\Temp\\ipykernel_29272\\105106415.py:1: FutureWarning: The default value of numeric_only in DataFrameGroupBy.mean is deprecated. In a future version, numeric_only will default to False. Either specify numeric_only or select only columns which should be valid for the function.\n",
      "  hold = df.groupby([\"archetype\", \"baseline_transmission_metric\", \"transmission_level\", \"scenario_number\"]).agg(\"mean\").reset_index()\n"
     ]
    }
   ],
   "source": [
    "hold = df.groupby([\"archetype\", \"baseline_transmission_metric\", \"transmission_level\", \"scenario_number\"]).agg(\"mean\").reset_index()"
   ],
   "metadata": {
    "collapsed": false,
    "ExecuteTime": {
     "end_time": "2024-09-30T21:52:54.882499Z",
     "start_time": "2024-09-30T21:52:54.850492Z"
    }
   },
   "id": "86483f0a1b8b338b",
   "execution_count": 6
  },
  {
   "cell_type": "code",
   "outputs": [
    {
     "data": {
      "text/plain": "    archetype baseline_transmission_metric  transmission_level  \\\n203     Sahel                         pfpr                0.01   \n241     Sahel                         pfpr                0.05   \n279     Sahel                         pfpr                0.10   \n317     Sahel                         pfpr                0.20   \n355     Sahel                         pfpr                0.30   \n393     Sahel                         pfpr                0.40   \n\n     scenario_number  iptsc_rdts_used  iptsc_drugs_used_school  cases_treated  \\\n203               23              0.0                  11487.0          773.7   \n241               23              0.0                  11750.0         1114.8   \n279               23              0.0                  11526.8         1673.1   \n317               23              0.0                  11520.2         2497.5   \n355               23              0.0                  11132.9         3188.7   \n393               23              0.0                  11546.4         3942.7   \n\n     severe_cases_treated  received_smc_u5  received_smc_5-10  ...  \\\n203                   0.0           3574.0                0.0  ...   \n241                   0.0           3747.1                0.0  ...   \n279                   0.0           3621.9                0.0  ...   \n317                   0.0           3753.9                0.0  ...   \n355                   0.0           3684.8                0.0  ...   \n393                   0.0           3651.4                0.0  ...   \n\n     avg_age_clinical_cases  avg_age_severe_cases  Run_Number  iptsc_on  \\\n203               38.591918             16.252185         4.5       1.0   \n241               31.950172             10.611993         4.5       1.0   \n279               25.276995             10.038629         4.5       1.0   \n317               17.204474              5.138422         4.5       1.0   \n355               13.247175              3.740365         4.5       1.0   \n393                9.551116              2.207458         4.5       1.0   \n\n     out_of_school_rate  ivermectin  primaquine  itn_coverage  hs_rate  smc_on  \n203                 0.4         0.0         0.0           0.7      0.6     0.0  \n241                 0.4         0.0         0.0           0.7      0.6     0.0  \n279                 0.4         0.0         0.0           0.7      0.6     0.0  \n317                 0.4         0.0         0.0           0.7      0.6     0.0  \n355                 0.4         0.0         0.0           0.7      0.6     0.0  \n393                 0.4         0.0         0.0           0.7      0.6     0.0  \n\n[6 rows x 44 columns]",
      "text/html": "<div>\n<style scoped>\n    .dataframe tbody tr th:only-of-type {\n        vertical-align: middle;\n    }\n\n    .dataframe tbody tr th {\n        vertical-align: top;\n    }\n\n    .dataframe thead th {\n        text-align: right;\n    }\n</style>\n<table border=\"1\" class=\"dataframe\">\n  <thead>\n    <tr style=\"text-align: right;\">\n      <th></th>\n      <th>archetype</th>\n      <th>baseline_transmission_metric</th>\n      <th>transmission_level</th>\n      <th>scenario_number</th>\n      <th>iptsc_rdts_used</th>\n      <th>iptsc_drugs_used_school</th>\n      <th>cases_treated</th>\n      <th>severe_cases_treated</th>\n      <th>received_smc_u5</th>\n      <th>received_smc_5-10</th>\n      <th>...</th>\n      <th>avg_age_clinical_cases</th>\n      <th>avg_age_severe_cases</th>\n      <th>Run_Number</th>\n      <th>iptsc_on</th>\n      <th>out_of_school_rate</th>\n      <th>ivermectin</th>\n      <th>primaquine</th>\n      <th>itn_coverage</th>\n      <th>hs_rate</th>\n      <th>smc_on</th>\n    </tr>\n  </thead>\n  <tbody>\n    <tr>\n      <th>203</th>\n      <td>Sahel</td>\n      <td>pfpr</td>\n      <td>0.01</td>\n      <td>23</td>\n      <td>0.0</td>\n      <td>11487.0</td>\n      <td>773.7</td>\n      <td>0.0</td>\n      <td>3574.0</td>\n      <td>0.0</td>\n      <td>...</td>\n      <td>38.591918</td>\n      <td>16.252185</td>\n      <td>4.5</td>\n      <td>1.0</td>\n      <td>0.4</td>\n      <td>0.0</td>\n      <td>0.0</td>\n      <td>0.7</td>\n      <td>0.6</td>\n      <td>0.0</td>\n    </tr>\n    <tr>\n      <th>241</th>\n      <td>Sahel</td>\n      <td>pfpr</td>\n      <td>0.05</td>\n      <td>23</td>\n      <td>0.0</td>\n      <td>11750.0</td>\n      <td>1114.8</td>\n      <td>0.0</td>\n      <td>3747.1</td>\n      <td>0.0</td>\n      <td>...</td>\n      <td>31.950172</td>\n      <td>10.611993</td>\n      <td>4.5</td>\n      <td>1.0</td>\n      <td>0.4</td>\n      <td>0.0</td>\n      <td>0.0</td>\n      <td>0.7</td>\n      <td>0.6</td>\n      <td>0.0</td>\n    </tr>\n    <tr>\n      <th>279</th>\n      <td>Sahel</td>\n      <td>pfpr</td>\n      <td>0.10</td>\n      <td>23</td>\n      <td>0.0</td>\n      <td>11526.8</td>\n      <td>1673.1</td>\n      <td>0.0</td>\n      <td>3621.9</td>\n      <td>0.0</td>\n      <td>...</td>\n      <td>25.276995</td>\n      <td>10.038629</td>\n      <td>4.5</td>\n      <td>1.0</td>\n      <td>0.4</td>\n      <td>0.0</td>\n      <td>0.0</td>\n      <td>0.7</td>\n      <td>0.6</td>\n      <td>0.0</td>\n    </tr>\n    <tr>\n      <th>317</th>\n      <td>Sahel</td>\n      <td>pfpr</td>\n      <td>0.20</td>\n      <td>23</td>\n      <td>0.0</td>\n      <td>11520.2</td>\n      <td>2497.5</td>\n      <td>0.0</td>\n      <td>3753.9</td>\n      <td>0.0</td>\n      <td>...</td>\n      <td>17.204474</td>\n      <td>5.138422</td>\n      <td>4.5</td>\n      <td>1.0</td>\n      <td>0.4</td>\n      <td>0.0</td>\n      <td>0.0</td>\n      <td>0.7</td>\n      <td>0.6</td>\n      <td>0.0</td>\n    </tr>\n    <tr>\n      <th>355</th>\n      <td>Sahel</td>\n      <td>pfpr</td>\n      <td>0.30</td>\n      <td>23</td>\n      <td>0.0</td>\n      <td>11132.9</td>\n      <td>3188.7</td>\n      <td>0.0</td>\n      <td>3684.8</td>\n      <td>0.0</td>\n      <td>...</td>\n      <td>13.247175</td>\n      <td>3.740365</td>\n      <td>4.5</td>\n      <td>1.0</td>\n      <td>0.4</td>\n      <td>0.0</td>\n      <td>0.0</td>\n      <td>0.7</td>\n      <td>0.6</td>\n      <td>0.0</td>\n    </tr>\n    <tr>\n      <th>393</th>\n      <td>Sahel</td>\n      <td>pfpr</td>\n      <td>0.40</td>\n      <td>23</td>\n      <td>0.0</td>\n      <td>11546.4</td>\n      <td>3942.7</td>\n      <td>0.0</td>\n      <td>3651.4</td>\n      <td>0.0</td>\n      <td>...</td>\n      <td>9.551116</td>\n      <td>2.207458</td>\n      <td>4.5</td>\n      <td>1.0</td>\n      <td>0.4</td>\n      <td>0.0</td>\n      <td>0.0</td>\n      <td>0.7</td>\n      <td>0.6</td>\n      <td>0.0</td>\n    </tr>\n  </tbody>\n</table>\n<p>6 rows × 44 columns</p>\n</div>"
     },
     "execution_count": 7,
     "metadata": {},
     "output_type": "execute_result"
    }
   ],
   "source": [
    "hold = hold[(hold[\"archetype\"] == \"Sahel\") & (hold[\"scenario_number\"] == 23)]\n",
    "hold"
   ],
   "metadata": {
    "collapsed": false,
    "ExecuteTime": {
     "end_time": "2024-09-30T21:53:18.579727Z",
     "start_time": "2024-09-30T21:53:18.534731Z"
    }
   },
   "id": "16e178d03edef1a9",
   "execution_count": 7
  },
  {
   "cell_type": "code",
   "outputs": [],
   "source": [],
   "metadata": {
    "collapsed": false
   },
   "id": "63b4a0f3b6b3e9b3"
  }
 ],
 "metadata": {
  "kernelspec": {
   "display_name": "Python 3",
   "language": "python",
   "name": "python3"
  },
  "language_info": {
   "codemirror_mode": {
    "name": "ipython",
    "version": 2
   },
   "file_extension": ".py",
   "mimetype": "text/x-python",
   "name": "python",
   "nbconvert_exporter": "python",
   "pygments_lexer": "ipython2",
   "version": "2.7.6"
  }
 },
 "nbformat": 4,
 "nbformat_minor": 5
}
