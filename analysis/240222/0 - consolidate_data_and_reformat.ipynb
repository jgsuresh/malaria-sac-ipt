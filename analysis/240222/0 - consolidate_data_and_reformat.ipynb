{
 "cells": [
  {
   "cell_type": "code",
   "execution_count": 1,
   "id": "4ac5a9a8-71ec-49cf-a9cc-9e190bf9c640",
   "metadata": {
    "pycharm": {
     "is_executing": true
    },
    "ExecuteTime": {
     "end_time": "2024-05-15T20:32:01.377184Z",
     "start_time": "2024-05-15T20:32:01.343036Z"
    }
   },
   "outputs": [],
   "source": [
    "import matplotlib.pyplot as plt\n",
    "import numpy as np\n",
    "import pandas as pd\n",
    "import seaborn as sns\n",
    "sns.set_context(\"talk\")\n",
    "sns.set_style(\"white\")"
   ]
  },
  {
   "cell_type": "markdown",
   "id": "7561b84d-d30f-4ab5-882e-4c8e1526d31d",
   "metadata": {},
   "source": [
    "# Summarize main scenario simulation output"
   ]
  },
  {
   "cell_type": "code",
   "execution_count": 2,
   "id": "15f83b11-acf0-43fe-b268-fb41257c8868",
   "metadata": {
    "pycharm": {
     "is_executing": true
    },
    "ExecuteTime": {
     "end_time": "2024-05-15T20:32:02.515091Z",
     "start_time": "2024-05-15T20:32:01.386184Z"
    }
   },
   "outputs": [],
   "source": [
    "df1 = pd.read_csv(\"sim_data_0c36f501-afd1-ee11-aa11-b88303911bc1.csv\") # Southern/Central\n",
    "df2 = pd.read_csv(\"sim_data_d6f3a939-bfd1-ee11-aa11-b88303911bc1.csv\") # Sahel\n",
    "df3 = pd.read_csv(\"sim_data_319b3c54-f712-ef11-aa13-b88303911bc1.csv\") # Sahel missed scenario rerun\n",
    "\n",
    "df = pd.concat([df1,df2,df3], ignore_index=True)"
   ]
  },
  {
   "cell_type": "markdown",
   "id": "0ce974ec-cdf8-4f7b-9edf-5ac502efb443",
   "metadata": {},
   "source": [
    "# Get baseline for comparisons"
   ]
  },
  {
   "cell_type": "code",
   "execution_count": 3,
   "id": "3411552a-c395-4b33-beb8-58f0863d8a23",
   "metadata": {
    "pycharm": {
     "is_executing": true
    },
    "ExecuteTime": {
     "end_time": "2024-05-15T20:32:02.730994Z",
     "start_time": "2024-05-15T20:32:02.522138Z"
    }
   },
   "outputs": [
    {
     "name": "stderr",
     "output_type": "stream",
     "text": [
      "C:\\Users\\joshsu\\AppData\\Local\\Temp\\ipykernel_27692\\517998609.py:1: FutureWarning: The default value of numeric_only in DataFrameGroupBy.mean is deprecated. In a future version, numeric_only will default to False. Either specify numeric_only or select only columns which should be valid for the function.\n",
      "  foo = df.groupby([\"archetype\", \"baseline_transmission_metric\", \"transmission_level\", \"scenario_number\"]).agg(\"mean\").reset_index()\n",
      "C:\\Users\\joshsu\\AppData\\Local\\Temp\\ipykernel_27692\\517998609.py:2: FutureWarning: The default value of numeric_only in DataFrameGroupBy.std is deprecated. In a future version, numeric_only will default to False. Either specify numeric_only or select only columns which should be valid for the function.\n",
      "  foo2 = df.groupby([\"archetype\", \"baseline_transmission_metric\", \"transmission_level\", \"scenario_number\"]).agg(\"std\").reset_index()\n"
     ]
    }
   ],
   "source": [
    "foo = df.groupby([\"archetype\", \"baseline_transmission_metric\", \"transmission_level\", \"scenario_number\"]).agg(\"mean\").reset_index()\n",
    "foo2 = df.groupby([\"archetype\", \"baseline_transmission_metric\", \"transmission_level\", \"scenario_number\"]).agg(\"std\").reset_index()\n",
    "foo3 = pd.merge(foo,foo2, suffixes=('','_STDEV'), on=[\"archetype\", \"baseline_transmission_metric\", \"transmission_level\", \"scenario_number\"])"
   ]
  },
  {
   "cell_type": "code",
   "execution_count": 4,
   "id": "35d29d9e-3321-4fc8-bea1-4a07c4060e5f",
   "metadata": {
    "pycharm": {
     "is_executing": true
    },
    "ExecuteTime": {
     "end_time": "2024-05-15T20:32:02.914415Z",
     "start_time": "2024-05-15T20:32:02.743090Z"
    }
   },
   "outputs": [
    {
     "data": {
      "text/plain": "    archetype baseline_transmission_metric  transmission_level  cases_treated  \\\n0     Central                         pfpr                0.05        2862.76   \n6     Central                         pfpr                0.10        2962.43   \n12    Central                         pfpr                0.20        4089.88   \n18    Central                         pfpr                0.30        4815.68   \n24    Central                         pfpr                0.40        5610.59   \n30      Sahel                         pfpr                0.05        1607.84   \n41      Sahel                         pfpr                0.10        2389.25   \n52      Sahel                         pfpr                0.20        3315.17   \n63      Sahel                         pfpr                0.30        4121.81   \n74      Sahel                         pfpr                0.40        4976.51   \n85   Southern                         pfpr                0.05        1804.91   \n91   Southern                         pfpr                0.10        2274.40   \n97   Southern                         pfpr                0.20        3401.20   \n103  Southern                         pfpr                0.30        4717.93   \n109  Southern                         pfpr                0.40        5233.12   \n\n     clinical_incidence0_5  clinical_incidence2_10  clinical_incidence6_15  \\\n0                 1.075496                1.569295                1.927962   \n6                 1.352028                1.803769                2.081623   \n12                2.271592                2.671552                2.569378   \n18                2.964917                3.158014                2.590742   \n24                3.695807                3.533375                2.498014   \n30                0.459516                0.711672                0.892795   \n41                0.862021                1.233788                1.382494   \n52                1.431745                1.791550                1.785421   \n63                2.152808                2.380752                2.037584   \n74                2.861629                2.834430                2.138002   \n85                0.671936                0.855129                0.995816   \n91                1.068765                1.229369                1.271012   \n97                1.827341                1.936120                1.729469   \n103               2.798274                2.694851                2.113685   \n109               3.515269                3.132550                2.175354   \n\n     clinical_incidence16_500  clinical_incidence_all   pfpr0_5  pfpr2_10  \\\n0                    0.933443                1.205884  0.093119  0.180519   \n6                    0.763989                1.187838  0.119480  0.208189   \n12                   0.514234                1.336877  0.216575  0.333191   \n18                   0.346863                1.395038  0.292601  0.417314   \n24                   0.237899                1.431985  0.375702  0.492377   \n30                   0.401394                0.534534  0.050531  0.090555   \n41                   0.428973                0.740143  0.097676  0.168672   \n52                   0.349763                0.906949  0.163704  0.257953   \n63                   0.267568                1.036275  0.245545  0.352976   \n74                   0.160907                1.156133  0.324506  0.440642   \n85                   0.524205                0.663489  0.065551  0.109922   \n91                   0.508089                0.800311  0.108966  0.161656   \n97                   0.425596                0.998607  0.190143  0.261448   \n103                  0.336477                1.249251  0.298997  0.383514   \n109                  0.229025                1.316282  0.378884  0.464259   \n\n     pfpr6_15  pfpr16_500  pfpr_all  \n0    0.258601    0.209499  0.200374  \n6    0.289457    0.208958  0.210539  \n12   0.419030    0.223914  0.268053  \n18   0.481815    0.218465  0.296740  \n24   0.526861    0.219074  0.322355  \n30   0.123643    0.097292  0.094674  \n41   0.218739    0.133089  0.147047  \n52   0.324968    0.160376  0.200965  \n63   0.410978    0.182737  0.247391  \n74   0.484403    0.197227  0.291248  \n85   0.155774    0.128218  0.122220  \n91   0.207111    0.149806  0.155859  \n97   0.308267    0.175953  0.209738  \n103  0.421431    0.204616  0.275865  \n109  0.486725    0.214865  0.310932  ",
      "text/html": "<div>\n<style scoped>\n    .dataframe tbody tr th:only-of-type {\n        vertical-align: middle;\n    }\n\n    .dataframe tbody tr th {\n        vertical-align: top;\n    }\n\n    .dataframe thead th {\n        text-align: right;\n    }\n</style>\n<table border=\"1\" class=\"dataframe\">\n  <thead>\n    <tr style=\"text-align: right;\">\n      <th></th>\n      <th>archetype</th>\n      <th>baseline_transmission_metric</th>\n      <th>transmission_level</th>\n      <th>cases_treated</th>\n      <th>clinical_incidence0_5</th>\n      <th>clinical_incidence2_10</th>\n      <th>clinical_incidence6_15</th>\n      <th>clinical_incidence16_500</th>\n      <th>clinical_incidence_all</th>\n      <th>pfpr0_5</th>\n      <th>pfpr2_10</th>\n      <th>pfpr6_15</th>\n      <th>pfpr16_500</th>\n      <th>pfpr_all</th>\n    </tr>\n  </thead>\n  <tbody>\n    <tr>\n      <th>0</th>\n      <td>Central</td>\n      <td>pfpr</td>\n      <td>0.05</td>\n      <td>2862.76</td>\n      <td>1.075496</td>\n      <td>1.569295</td>\n      <td>1.927962</td>\n      <td>0.933443</td>\n      <td>1.205884</td>\n      <td>0.093119</td>\n      <td>0.180519</td>\n      <td>0.258601</td>\n      <td>0.209499</td>\n      <td>0.200374</td>\n    </tr>\n    <tr>\n      <th>6</th>\n      <td>Central</td>\n      <td>pfpr</td>\n      <td>0.10</td>\n      <td>2962.43</td>\n      <td>1.352028</td>\n      <td>1.803769</td>\n      <td>2.081623</td>\n      <td>0.763989</td>\n      <td>1.187838</td>\n      <td>0.119480</td>\n      <td>0.208189</td>\n      <td>0.289457</td>\n      <td>0.208958</td>\n      <td>0.210539</td>\n    </tr>\n    <tr>\n      <th>12</th>\n      <td>Central</td>\n      <td>pfpr</td>\n      <td>0.20</td>\n      <td>4089.88</td>\n      <td>2.271592</td>\n      <td>2.671552</td>\n      <td>2.569378</td>\n      <td>0.514234</td>\n      <td>1.336877</td>\n      <td>0.216575</td>\n      <td>0.333191</td>\n      <td>0.419030</td>\n      <td>0.223914</td>\n      <td>0.268053</td>\n    </tr>\n    <tr>\n      <th>18</th>\n      <td>Central</td>\n      <td>pfpr</td>\n      <td>0.30</td>\n      <td>4815.68</td>\n      <td>2.964917</td>\n      <td>3.158014</td>\n      <td>2.590742</td>\n      <td>0.346863</td>\n      <td>1.395038</td>\n      <td>0.292601</td>\n      <td>0.417314</td>\n      <td>0.481815</td>\n      <td>0.218465</td>\n      <td>0.296740</td>\n    </tr>\n    <tr>\n      <th>24</th>\n      <td>Central</td>\n      <td>pfpr</td>\n      <td>0.40</td>\n      <td>5610.59</td>\n      <td>3.695807</td>\n      <td>3.533375</td>\n      <td>2.498014</td>\n      <td>0.237899</td>\n      <td>1.431985</td>\n      <td>0.375702</td>\n      <td>0.492377</td>\n      <td>0.526861</td>\n      <td>0.219074</td>\n      <td>0.322355</td>\n    </tr>\n    <tr>\n      <th>30</th>\n      <td>Sahel</td>\n      <td>pfpr</td>\n      <td>0.05</td>\n      <td>1607.84</td>\n      <td>0.459516</td>\n      <td>0.711672</td>\n      <td>0.892795</td>\n      <td>0.401394</td>\n      <td>0.534534</td>\n      <td>0.050531</td>\n      <td>0.090555</td>\n      <td>0.123643</td>\n      <td>0.097292</td>\n      <td>0.094674</td>\n    </tr>\n    <tr>\n      <th>41</th>\n      <td>Sahel</td>\n      <td>pfpr</td>\n      <td>0.10</td>\n      <td>2389.25</td>\n      <td>0.862021</td>\n      <td>1.233788</td>\n      <td>1.382494</td>\n      <td>0.428973</td>\n      <td>0.740143</td>\n      <td>0.097676</td>\n      <td>0.168672</td>\n      <td>0.218739</td>\n      <td>0.133089</td>\n      <td>0.147047</td>\n    </tr>\n    <tr>\n      <th>52</th>\n      <td>Sahel</td>\n      <td>pfpr</td>\n      <td>0.20</td>\n      <td>3315.17</td>\n      <td>1.431745</td>\n      <td>1.791550</td>\n      <td>1.785421</td>\n      <td>0.349763</td>\n      <td>0.906949</td>\n      <td>0.163704</td>\n      <td>0.257953</td>\n      <td>0.324968</td>\n      <td>0.160376</td>\n      <td>0.200965</td>\n    </tr>\n    <tr>\n      <th>63</th>\n      <td>Sahel</td>\n      <td>pfpr</td>\n      <td>0.30</td>\n      <td>4121.81</td>\n      <td>2.152808</td>\n      <td>2.380752</td>\n      <td>2.037584</td>\n      <td>0.267568</td>\n      <td>1.036275</td>\n      <td>0.245545</td>\n      <td>0.352976</td>\n      <td>0.410978</td>\n      <td>0.182737</td>\n      <td>0.247391</td>\n    </tr>\n    <tr>\n      <th>74</th>\n      <td>Sahel</td>\n      <td>pfpr</td>\n      <td>0.40</td>\n      <td>4976.51</td>\n      <td>2.861629</td>\n      <td>2.834430</td>\n      <td>2.138002</td>\n      <td>0.160907</td>\n      <td>1.156133</td>\n      <td>0.324506</td>\n      <td>0.440642</td>\n      <td>0.484403</td>\n      <td>0.197227</td>\n      <td>0.291248</td>\n    </tr>\n    <tr>\n      <th>85</th>\n      <td>Southern</td>\n      <td>pfpr</td>\n      <td>0.05</td>\n      <td>1804.91</td>\n      <td>0.671936</td>\n      <td>0.855129</td>\n      <td>0.995816</td>\n      <td>0.524205</td>\n      <td>0.663489</td>\n      <td>0.065551</td>\n      <td>0.109922</td>\n      <td>0.155774</td>\n      <td>0.128218</td>\n      <td>0.122220</td>\n    </tr>\n    <tr>\n      <th>91</th>\n      <td>Southern</td>\n      <td>pfpr</td>\n      <td>0.10</td>\n      <td>2274.40</td>\n      <td>1.068765</td>\n      <td>1.229369</td>\n      <td>1.271012</td>\n      <td>0.508089</td>\n      <td>0.800311</td>\n      <td>0.108966</td>\n      <td>0.161656</td>\n      <td>0.207111</td>\n      <td>0.149806</td>\n      <td>0.155859</td>\n    </tr>\n    <tr>\n      <th>97</th>\n      <td>Southern</td>\n      <td>pfpr</td>\n      <td>0.20</td>\n      <td>3401.20</td>\n      <td>1.827341</td>\n      <td>1.936120</td>\n      <td>1.729469</td>\n      <td>0.425596</td>\n      <td>0.998607</td>\n      <td>0.190143</td>\n      <td>0.261448</td>\n      <td>0.308267</td>\n      <td>0.175953</td>\n      <td>0.209738</td>\n    </tr>\n    <tr>\n      <th>103</th>\n      <td>Southern</td>\n      <td>pfpr</td>\n      <td>0.30</td>\n      <td>4717.93</td>\n      <td>2.798274</td>\n      <td>2.694851</td>\n      <td>2.113685</td>\n      <td>0.336477</td>\n      <td>1.249251</td>\n      <td>0.298997</td>\n      <td>0.383514</td>\n      <td>0.421431</td>\n      <td>0.204616</td>\n      <td>0.275865</td>\n    </tr>\n    <tr>\n      <th>109</th>\n      <td>Southern</td>\n      <td>pfpr</td>\n      <td>0.40</td>\n      <td>5233.12</td>\n      <td>3.515269</td>\n      <td>3.132550</td>\n      <td>2.175354</td>\n      <td>0.229025</td>\n      <td>1.316282</td>\n      <td>0.378884</td>\n      <td>0.464259</td>\n      <td>0.486725</td>\n      <td>0.214865</td>\n      <td>0.310932</td>\n    </tr>\n  </tbody>\n</table>\n</div>"
     },
     "execution_count": 4,
     "metadata": {},
     "output_type": "execute_result"
    }
   ],
   "source": [
    "base = foo3[foo3[\"scenario_number\"]==0]\n",
    "base = base[[\"archetype\",\n",
    "             \"baseline_transmission_metric\",\n",
    "             \"transmission_level\",\n",
    "             \"cases_treated\",\n",
    "             'clinical_incidence0_5',\n",
    "             'clinical_incidence2_10',\n",
    "             'clinical_incidence6_15',\n",
    "             'clinical_incidence16_500',\n",
    "             'clinical_incidence_all',\n",
    "             'pfpr0_5',\n",
    "             'pfpr2_10',\n",
    "             'pfpr6_15',\n",
    "             'pfpr16_500',\n",
    "             'pfpr_all']]\n",
    "base"
   ]
  },
  {
   "cell_type": "code",
   "execution_count": 5,
   "id": "c6353365-2235-4e07-b7d7-c28744e359b6",
   "metadata": {
    "pycharm": {
     "is_executing": true
    },
    "ExecuteTime": {
     "end_time": "2024-05-15T20:32:03.179765Z",
     "start_time": "2024-05-15T20:32:02.919944Z"
    }
   },
   "outputs": [
    {
     "data": {
      "text/plain": "    archetype baseline_transmission_metric  transmission_level  \\\n0     Central                         pfpr                0.05   \n1     Central                         pfpr                0.05   \n2     Central                         pfpr                0.05   \n3     Central                         pfpr                0.05   \n4     Central                         pfpr                0.05   \n..        ...                          ...                 ...   \n110  Southern                         pfpr                0.40   \n111  Southern                         pfpr                0.40   \n112  Southern                         pfpr                0.40   \n113  Southern                         pfpr                0.40   \n114  Southern                         pfpr                0.40   \n\n     scenario_number  iptsc_rdts_used  iptsc_drugs_used_school  cases_treated  \\\n0                  0              0.0                     0.00        2862.76   \n1                  5              0.0                     0.00        2233.31   \n2                  6              0.0                  5121.41        2503.75   \n3                  7              0.0                 18675.41        1366.42   \n4                  8              0.0                  5108.83        1821.64   \n..               ...              ...                      ...            ...   \n110                5              0.0                     0.00        5000.81   \n111                6              0.0                  4904.99        4878.46   \n112                7              0.0                 19474.21        3922.51   \n113                8              0.0                  4907.20        4129.76   \n114                9              0.0                 19484.20        3547.12   \n\n     severe_cases_treated  received_smc_u5  received_smc_5-10  ...  \\\n0                     0.0              0.0                0.0  ...   \n1                     0.0              0.0                0.0  ...   \n2                     0.0              0.0                0.0  ...   \n3                     0.0              0.0                0.0  ...   \n4                     0.0              0.0                0.0  ...   \n..                    ...              ...                ...  ...   \n110                   0.0              0.0                0.0  ...   \n111                   0.0              0.0                0.0  ...   \n112                   0.0              0.0                0.0  ...   \n113                   0.0              0.0                0.0  ...   \n114                   0.0              0.0                0.0  ...   \n\n     clinical_incidence0_5_BASELINE  clinical_incidence2_10_BASELINE  \\\n0                          1.075496                         1.569295   \n1                          1.075496                         1.569295   \n2                          1.075496                         1.569295   \n3                          1.075496                         1.569295   \n4                          1.075496                         1.569295   \n..                              ...                              ...   \n110                        3.515269                         3.132550   \n111                        3.515269                         3.132550   \n112                        3.515269                         3.132550   \n113                        3.515269                         3.132550   \n114                        3.515269                         3.132550   \n\n     clinical_incidence6_15_BASELINE  clinical_incidence16_500_BASELINE  \\\n0                           1.927962                           0.933443   \n1                           1.927962                           0.933443   \n2                           1.927962                           0.933443   \n3                           1.927962                           0.933443   \n4                           1.927962                           0.933443   \n..                               ...                                ...   \n110                         2.175354                           0.229025   \n111                         2.175354                           0.229025   \n112                         2.175354                           0.229025   \n113                         2.175354                           0.229025   \n114                         2.175354                           0.229025   \n\n     clinical_incidence_all_BASELINE  pfpr0_5_BASELINE  pfpr2_10_BASELINE  \\\n0                           1.205884          0.093119           0.180519   \n1                           1.205884          0.093119           0.180519   \n2                           1.205884          0.093119           0.180519   \n3                           1.205884          0.093119           0.180519   \n4                           1.205884          0.093119           0.180519   \n..                               ...               ...                ...   \n110                         1.316282          0.378884           0.464259   \n111                         1.316282          0.378884           0.464259   \n112                         1.316282          0.378884           0.464259   \n113                         1.316282          0.378884           0.464259   \n114                         1.316282          0.378884           0.464259   \n\n     pfpr6_15_BASELINE  pfpr16_500_BASELINE  pfpr_all_BASELINE  \n0             0.258601             0.209499           0.200374  \n1             0.258601             0.209499           0.200374  \n2             0.258601             0.209499           0.200374  \n3             0.258601             0.209499           0.200374  \n4             0.258601             0.209499           0.200374  \n..                 ...                  ...                ...  \n110           0.486725             0.214865           0.310932  \n111           0.486725             0.214865           0.310932  \n112           0.486725             0.214865           0.310932  \n113           0.486725             0.214865           0.310932  \n114           0.486725             0.214865           0.310932  \n\n[115 rows x 81 columns]",
      "text/html": "<div>\n<style scoped>\n    .dataframe tbody tr th:only-of-type {\n        vertical-align: middle;\n    }\n\n    .dataframe tbody tr th {\n        vertical-align: top;\n    }\n\n    .dataframe thead th {\n        text-align: right;\n    }\n</style>\n<table border=\"1\" class=\"dataframe\">\n  <thead>\n    <tr style=\"text-align: right;\">\n      <th></th>\n      <th>archetype</th>\n      <th>baseline_transmission_metric</th>\n      <th>transmission_level</th>\n      <th>scenario_number</th>\n      <th>iptsc_rdts_used</th>\n      <th>iptsc_drugs_used_school</th>\n      <th>cases_treated</th>\n      <th>severe_cases_treated</th>\n      <th>received_smc_u5</th>\n      <th>received_smc_5-10</th>\n      <th>...</th>\n      <th>clinical_incidence0_5_BASELINE</th>\n      <th>clinical_incidence2_10_BASELINE</th>\n      <th>clinical_incidence6_15_BASELINE</th>\n      <th>clinical_incidence16_500_BASELINE</th>\n      <th>clinical_incidence_all_BASELINE</th>\n      <th>pfpr0_5_BASELINE</th>\n      <th>pfpr2_10_BASELINE</th>\n      <th>pfpr6_15_BASELINE</th>\n      <th>pfpr16_500_BASELINE</th>\n      <th>pfpr_all_BASELINE</th>\n    </tr>\n  </thead>\n  <tbody>\n    <tr>\n      <th>0</th>\n      <td>Central</td>\n      <td>pfpr</td>\n      <td>0.05</td>\n      <td>0</td>\n      <td>0.0</td>\n      <td>0.00</td>\n      <td>2862.76</td>\n      <td>0.0</td>\n      <td>0.0</td>\n      <td>0.0</td>\n      <td>...</td>\n      <td>1.075496</td>\n      <td>1.569295</td>\n      <td>1.927962</td>\n      <td>0.933443</td>\n      <td>1.205884</td>\n      <td>0.093119</td>\n      <td>0.180519</td>\n      <td>0.258601</td>\n      <td>0.209499</td>\n      <td>0.200374</td>\n    </tr>\n    <tr>\n      <th>1</th>\n      <td>Central</td>\n      <td>pfpr</td>\n      <td>0.05</td>\n      <td>5</td>\n      <td>0.0</td>\n      <td>0.00</td>\n      <td>2233.31</td>\n      <td>0.0</td>\n      <td>0.0</td>\n      <td>0.0</td>\n      <td>...</td>\n      <td>1.075496</td>\n      <td>1.569295</td>\n      <td>1.927962</td>\n      <td>0.933443</td>\n      <td>1.205884</td>\n      <td>0.093119</td>\n      <td>0.180519</td>\n      <td>0.258601</td>\n      <td>0.209499</td>\n      <td>0.200374</td>\n    </tr>\n    <tr>\n      <th>2</th>\n      <td>Central</td>\n      <td>pfpr</td>\n      <td>0.05</td>\n      <td>6</td>\n      <td>0.0</td>\n      <td>5121.41</td>\n      <td>2503.75</td>\n      <td>0.0</td>\n      <td>0.0</td>\n      <td>0.0</td>\n      <td>...</td>\n      <td>1.075496</td>\n      <td>1.569295</td>\n      <td>1.927962</td>\n      <td>0.933443</td>\n      <td>1.205884</td>\n      <td>0.093119</td>\n      <td>0.180519</td>\n      <td>0.258601</td>\n      <td>0.209499</td>\n      <td>0.200374</td>\n    </tr>\n    <tr>\n      <th>3</th>\n      <td>Central</td>\n      <td>pfpr</td>\n      <td>0.05</td>\n      <td>7</td>\n      <td>0.0</td>\n      <td>18675.41</td>\n      <td>1366.42</td>\n      <td>0.0</td>\n      <td>0.0</td>\n      <td>0.0</td>\n      <td>...</td>\n      <td>1.075496</td>\n      <td>1.569295</td>\n      <td>1.927962</td>\n      <td>0.933443</td>\n      <td>1.205884</td>\n      <td>0.093119</td>\n      <td>0.180519</td>\n      <td>0.258601</td>\n      <td>0.209499</td>\n      <td>0.200374</td>\n    </tr>\n    <tr>\n      <th>4</th>\n      <td>Central</td>\n      <td>pfpr</td>\n      <td>0.05</td>\n      <td>8</td>\n      <td>0.0</td>\n      <td>5108.83</td>\n      <td>1821.64</td>\n      <td>0.0</td>\n      <td>0.0</td>\n      <td>0.0</td>\n      <td>...</td>\n      <td>1.075496</td>\n      <td>1.569295</td>\n      <td>1.927962</td>\n      <td>0.933443</td>\n      <td>1.205884</td>\n      <td>0.093119</td>\n      <td>0.180519</td>\n      <td>0.258601</td>\n      <td>0.209499</td>\n      <td>0.200374</td>\n    </tr>\n    <tr>\n      <th>...</th>\n      <td>...</td>\n      <td>...</td>\n      <td>...</td>\n      <td>...</td>\n      <td>...</td>\n      <td>...</td>\n      <td>...</td>\n      <td>...</td>\n      <td>...</td>\n      <td>...</td>\n      <td>...</td>\n      <td>...</td>\n      <td>...</td>\n      <td>...</td>\n      <td>...</td>\n      <td>...</td>\n      <td>...</td>\n      <td>...</td>\n      <td>...</td>\n      <td>...</td>\n      <td>...</td>\n    </tr>\n    <tr>\n      <th>110</th>\n      <td>Southern</td>\n      <td>pfpr</td>\n      <td>0.40</td>\n      <td>5</td>\n      <td>0.0</td>\n      <td>0.00</td>\n      <td>5000.81</td>\n      <td>0.0</td>\n      <td>0.0</td>\n      <td>0.0</td>\n      <td>...</td>\n      <td>3.515269</td>\n      <td>3.132550</td>\n      <td>2.175354</td>\n      <td>0.229025</td>\n      <td>1.316282</td>\n      <td>0.378884</td>\n      <td>0.464259</td>\n      <td>0.486725</td>\n      <td>0.214865</td>\n      <td>0.310932</td>\n    </tr>\n    <tr>\n      <th>111</th>\n      <td>Southern</td>\n      <td>pfpr</td>\n      <td>0.40</td>\n      <td>6</td>\n      <td>0.0</td>\n      <td>4904.99</td>\n      <td>4878.46</td>\n      <td>0.0</td>\n      <td>0.0</td>\n      <td>0.0</td>\n      <td>...</td>\n      <td>3.515269</td>\n      <td>3.132550</td>\n      <td>2.175354</td>\n      <td>0.229025</td>\n      <td>1.316282</td>\n      <td>0.378884</td>\n      <td>0.464259</td>\n      <td>0.486725</td>\n      <td>0.214865</td>\n      <td>0.310932</td>\n    </tr>\n    <tr>\n      <th>112</th>\n      <td>Southern</td>\n      <td>pfpr</td>\n      <td>0.40</td>\n      <td>7</td>\n      <td>0.0</td>\n      <td>19474.21</td>\n      <td>3922.51</td>\n      <td>0.0</td>\n      <td>0.0</td>\n      <td>0.0</td>\n      <td>...</td>\n      <td>3.515269</td>\n      <td>3.132550</td>\n      <td>2.175354</td>\n      <td>0.229025</td>\n      <td>1.316282</td>\n      <td>0.378884</td>\n      <td>0.464259</td>\n      <td>0.486725</td>\n      <td>0.214865</td>\n      <td>0.310932</td>\n    </tr>\n    <tr>\n      <th>113</th>\n      <td>Southern</td>\n      <td>pfpr</td>\n      <td>0.40</td>\n      <td>8</td>\n      <td>0.0</td>\n      <td>4907.20</td>\n      <td>4129.76</td>\n      <td>0.0</td>\n      <td>0.0</td>\n      <td>0.0</td>\n      <td>...</td>\n      <td>3.515269</td>\n      <td>3.132550</td>\n      <td>2.175354</td>\n      <td>0.229025</td>\n      <td>1.316282</td>\n      <td>0.378884</td>\n      <td>0.464259</td>\n      <td>0.486725</td>\n      <td>0.214865</td>\n      <td>0.310932</td>\n    </tr>\n    <tr>\n      <th>114</th>\n      <td>Southern</td>\n      <td>pfpr</td>\n      <td>0.40</td>\n      <td>9</td>\n      <td>0.0</td>\n      <td>19484.20</td>\n      <td>3547.12</td>\n      <td>0.0</td>\n      <td>0.0</td>\n      <td>0.0</td>\n      <td>...</td>\n      <td>3.515269</td>\n      <td>3.132550</td>\n      <td>2.175354</td>\n      <td>0.229025</td>\n      <td>1.316282</td>\n      <td>0.378884</td>\n      <td>0.464259</td>\n      <td>0.486725</td>\n      <td>0.214865</td>\n      <td>0.310932</td>\n    </tr>\n  </tbody>\n</table>\n<p>115 rows × 81 columns</p>\n</div>"
     },
     "execution_count": 5,
     "metadata": {},
     "output_type": "execute_result"
    }
   ],
   "source": [
    "bar = pd.merge(foo3, base, how=\"left\", on=[\"archetype\", \"baseline_transmission_metric\", \"transmission_level\"], suffixes=(\"\",\"_BASELINE\"))\n",
    "bar"
   ]
  },
  {
   "cell_type": "code",
   "execution_count": 6,
   "id": "391263e8-cf19-4784-a953-aead9bb0ab13",
   "metadata": {
    "pycharm": {
     "is_executing": true
    },
    "ExecuteTime": {
     "end_time": "2024-05-15T20:32:03.362605Z",
     "start_time": "2024-05-15T20:32:03.201024Z"
    }
   },
   "outputs": [],
   "source": [
    "# Add total clinical burden fields:\n",
    "case_type = \"clinical\"\n",
    "for agebin in [\"0_5\", \"2_10\",\"6_15\",\"16_500\",\"_all\"]:\n",
    "    # for case_type in [\"clinical\", \"severe\"]:\n",
    "    old = bar[\"{}_incidence{}_BASELINE\".format(case_type, agebin)]\n",
    "    new = bar[\"{}_incidence{}\".format(case_type, agebin)]\n",
    "    frac_averted = (old-new)/old\n",
    "\n",
    "    bar[\"raw_averted_{}_{}\".format(case_type, agebin)] = old-new\n",
    "    bar[\"frac_averted_{}_{}\".format(case_type, agebin)] = (old-new)/old\n",
    "    \n",
    "    # errorbar\n",
    "    new_std = bar[\"{}_incidence{}_STDEV\".format(case_type, agebin)]\n",
    "    frac_averted_stdev = new_std/old\n",
    "    \n",
    "    bar[\"raw_averted_{}_{}_STDEV\".format(case_type, agebin)] = new_std\n",
    "    bar[\"frac_averted_{}_{}_STDEV\".format(case_type, agebin)] = frac_averted_stdev"
   ]
  },
  {
   "cell_type": "code",
   "execution_count": 7,
   "id": "cbf8fe3c-1b6c-4f74-8f55-6df8ad683dfd",
   "metadata": {
    "pycharm": {
     "is_executing": true
    },
    "ExecuteTime": {
     "end_time": "2024-05-15T20:32:03.455638Z",
     "start_time": "2024-05-15T20:32:03.384926Z"
    }
   },
   "outputs": [],
   "source": [
    "# Add prevalence reduction field:\n",
    "for agebin in [\"0_5\", \"2_10\",\"6_15\",\"16_500\",\"_all\"]:\n",
    "    # for case_type in [\"clinical\", \"severe\"]:\n",
    "    old = bar[\"pfpr{}_BASELINE\".format(agebin)]\n",
    "    new = bar[\"pfpr{}\".format(agebin)]\n",
    "    frac_averted = (old-new)/old\n",
    "\n",
    "    bar[\"frac_averted_{}_{}_PFPR\".format(case_type, agebin)] = frac_averted\n",
    "    \n",
    "    \n",
    "    # errorbar\n",
    "    new_std = bar[\"pfpr{}_STDEV\".format(agebin)]\n",
    "    frac_averted_stdev = new_std/old\n",
    "    \n",
    "    bar[\"frac_averted_{}_{}_PFPR_STDEV\".format(case_type, agebin)] = frac_averted_stdev"
   ]
  },
  {
   "cell_type": "markdown",
   "id": "a20f3485-27b9-44fd-91db-5d8bf90d64f2",
   "metadata": {},
   "source": [
    "# Add scenario information"
   ]
  },
  {
   "cell_type": "code",
   "execution_count": 8,
   "id": "0e45c2b4-aa9c-4020-b864-62570b550881",
   "metadata": {
    "pycharm": {
     "is_executing": true
    },
    "ExecuteTime": {
     "end_time": "2024-05-15T20:32:03.718113Z",
     "start_time": "2024-05-15T20:32:03.468615Z"
    }
   },
   "outputs": [
    {
     "data": {
      "text/plain": "   archetype  scenario_number  iptsc_on delivery_mode campaign_timing  \\\n0   Southern                0     False          None            None   \n1   Southern                1     False          None            None   \n2   Southern                2     False          None            None   \n3   Southern                3     False          None            None   \n4   Southern                4     False          None            None   \n..       ...              ...       ...           ...             ...   \n93     Sahel               33      True       smc_u15             smc   \n94     Sahel               34      True       smc_u10             smc   \n95     Sahel               35      True       smc_u15             smc   \n96     Sahel               36      True       smc_u10             smc   \n97     Sahel               37      True       smc_u15             smc   \n\n   screen_type drug_type  out_of_school_rate  ivermectin  primaquine  \\\n0         None      None                 0.2       False       False   \n1         None      None                 0.2       False       False   \n2         None      None                 0.2       False       False   \n3         None      None                 0.2       False       False   \n4         None      None                 0.2       False       False   \n..         ...       ...                 ...         ...         ...   \n93         IPT        DP                 0.2       False       False   \n94         IPT      SPAQ                 0.2       False       False   \n95         IPT      SPAQ                 0.2       False       False   \n96         IPT        DP                 0.2       False       False   \n97         IPT        DP                 0.2       False       False   \n\n    itn_coverage  hs_rate  smc_on smc_coverage                       comments  \n0            0.7      0.6   False         None                       No IPTsc  \n1            0.7      1.0   False         None             No IPTsc - 100% HS  \n2            0.7      0.8   False         None              No IPTsc - 80% HS  \n3            0.7      0.4   False         None              No IPTsc - 40% HS  \n4            0.7      0.2   False         None              No IPTsc - 20% HS  \n..           ...      ...     ...          ...                            ...  \n93           0.7      0.6    True          0.6                   u15 SMC - DP  \n94           0.7      0.6    True          0.8  u10 SMC - SPAQ - 80% coverage  \n95           0.7      0.6    True          0.8  u15 SMC - SPAQ - 80% coverage  \n96           0.7      0.6    True          0.8    u10 SMC - DP - 80% coverage  \n97           0.7      0.6    True          0.8    u15 SMC - DP - 80% coverage  \n\n[98 rows x 15 columns]",
      "text/html": "<div>\n<style scoped>\n    .dataframe tbody tr th:only-of-type {\n        vertical-align: middle;\n    }\n\n    .dataframe tbody tr th {\n        vertical-align: top;\n    }\n\n    .dataframe thead th {\n        text-align: right;\n    }\n</style>\n<table border=\"1\" class=\"dataframe\">\n  <thead>\n    <tr style=\"text-align: right;\">\n      <th></th>\n      <th>archetype</th>\n      <th>scenario_number</th>\n      <th>iptsc_on</th>\n      <th>delivery_mode</th>\n      <th>campaign_timing</th>\n      <th>screen_type</th>\n      <th>drug_type</th>\n      <th>out_of_school_rate</th>\n      <th>ivermectin</th>\n      <th>primaquine</th>\n      <th>itn_coverage</th>\n      <th>hs_rate</th>\n      <th>smc_on</th>\n      <th>smc_coverage</th>\n      <th>comments</th>\n    </tr>\n  </thead>\n  <tbody>\n    <tr>\n      <th>0</th>\n      <td>Southern</td>\n      <td>0</td>\n      <td>False</td>\n      <td>None</td>\n      <td>None</td>\n      <td>None</td>\n      <td>None</td>\n      <td>0.2</td>\n      <td>False</td>\n      <td>False</td>\n      <td>0.7</td>\n      <td>0.6</td>\n      <td>False</td>\n      <td>None</td>\n      <td>No IPTsc</td>\n    </tr>\n    <tr>\n      <th>1</th>\n      <td>Southern</td>\n      <td>1</td>\n      <td>False</td>\n      <td>None</td>\n      <td>None</td>\n      <td>None</td>\n      <td>None</td>\n      <td>0.2</td>\n      <td>False</td>\n      <td>False</td>\n      <td>0.7</td>\n      <td>1.0</td>\n      <td>False</td>\n      <td>None</td>\n      <td>No IPTsc - 100% HS</td>\n    </tr>\n    <tr>\n      <th>2</th>\n      <td>Southern</td>\n      <td>2</td>\n      <td>False</td>\n      <td>None</td>\n      <td>None</td>\n      <td>None</td>\n      <td>None</td>\n      <td>0.2</td>\n      <td>False</td>\n      <td>False</td>\n      <td>0.7</td>\n      <td>0.8</td>\n      <td>False</td>\n      <td>None</td>\n      <td>No IPTsc - 80% HS</td>\n    </tr>\n    <tr>\n      <th>3</th>\n      <td>Southern</td>\n      <td>3</td>\n      <td>False</td>\n      <td>None</td>\n      <td>None</td>\n      <td>None</td>\n      <td>None</td>\n      <td>0.2</td>\n      <td>False</td>\n      <td>False</td>\n      <td>0.7</td>\n      <td>0.4</td>\n      <td>False</td>\n      <td>None</td>\n      <td>No IPTsc - 40% HS</td>\n    </tr>\n    <tr>\n      <th>4</th>\n      <td>Southern</td>\n      <td>4</td>\n      <td>False</td>\n      <td>None</td>\n      <td>None</td>\n      <td>None</td>\n      <td>None</td>\n      <td>0.2</td>\n      <td>False</td>\n      <td>False</td>\n      <td>0.7</td>\n      <td>0.2</td>\n      <td>False</td>\n      <td>None</td>\n      <td>No IPTsc - 20% HS</td>\n    </tr>\n    <tr>\n      <th>...</th>\n      <td>...</td>\n      <td>...</td>\n      <td>...</td>\n      <td>...</td>\n      <td>...</td>\n      <td>...</td>\n      <td>...</td>\n      <td>...</td>\n      <td>...</td>\n      <td>...</td>\n      <td>...</td>\n      <td>...</td>\n      <td>...</td>\n      <td>...</td>\n      <td>...</td>\n    </tr>\n    <tr>\n      <th>93</th>\n      <td>Sahel</td>\n      <td>33</td>\n      <td>True</td>\n      <td>smc_u15</td>\n      <td>smc</td>\n      <td>IPT</td>\n      <td>DP</td>\n      <td>0.2</td>\n      <td>False</td>\n      <td>False</td>\n      <td>0.7</td>\n      <td>0.6</td>\n      <td>True</td>\n      <td>0.6</td>\n      <td>u15 SMC - DP</td>\n    </tr>\n    <tr>\n      <th>94</th>\n      <td>Sahel</td>\n      <td>34</td>\n      <td>True</td>\n      <td>smc_u10</td>\n      <td>smc</td>\n      <td>IPT</td>\n      <td>SPAQ</td>\n      <td>0.2</td>\n      <td>False</td>\n      <td>False</td>\n      <td>0.7</td>\n      <td>0.6</td>\n      <td>True</td>\n      <td>0.8</td>\n      <td>u10 SMC - SPAQ - 80% coverage</td>\n    </tr>\n    <tr>\n      <th>95</th>\n      <td>Sahel</td>\n      <td>35</td>\n      <td>True</td>\n      <td>smc_u15</td>\n      <td>smc</td>\n      <td>IPT</td>\n      <td>SPAQ</td>\n      <td>0.2</td>\n      <td>False</td>\n      <td>False</td>\n      <td>0.7</td>\n      <td>0.6</td>\n      <td>True</td>\n      <td>0.8</td>\n      <td>u15 SMC - SPAQ - 80% coverage</td>\n    </tr>\n    <tr>\n      <th>96</th>\n      <td>Sahel</td>\n      <td>36</td>\n      <td>True</td>\n      <td>smc_u10</td>\n      <td>smc</td>\n      <td>IPT</td>\n      <td>DP</td>\n      <td>0.2</td>\n      <td>False</td>\n      <td>False</td>\n      <td>0.7</td>\n      <td>0.6</td>\n      <td>True</td>\n      <td>0.8</td>\n      <td>u10 SMC - DP - 80% coverage</td>\n    </tr>\n    <tr>\n      <th>97</th>\n      <td>Sahel</td>\n      <td>37</td>\n      <td>True</td>\n      <td>smc_u15</td>\n      <td>smc</td>\n      <td>IPT</td>\n      <td>DP</td>\n      <td>0.2</td>\n      <td>False</td>\n      <td>False</td>\n      <td>0.7</td>\n      <td>0.6</td>\n      <td>True</td>\n      <td>0.8</td>\n      <td>u15 SMC - DP - 80% coverage</td>\n    </tr>\n  </tbody>\n</table>\n<p>98 rows × 15 columns</p>\n</div>"
     },
     "execution_count": 8,
     "metadata": {},
     "output_type": "execute_result"
    }
   ],
   "source": [
    "df_scenarios = pd.read_csv(\"../../run_sims/Assets/scenario_master_list.csv\")\n",
    "df_scenarios"
   ]
  },
  {
   "cell_type": "code",
   "execution_count": 9,
   "id": "122af3fa-4020-4891-9ea0-b0c692f6ecf9",
   "metadata": {
    "pycharm": {
     "is_executing": true
    },
    "ExecuteTime": {
     "end_time": "2024-05-15T20:32:03.804700Z",
     "start_time": "2024-05-15T20:32:03.729099Z"
    }
   },
   "outputs": [],
   "source": [
    "df_full = pd.merge(bar, df_scenarios, how=\"left\", on=[\"archetype\", \n",
    "                                                      \"scenario_number\"])"
   ]
  },
  {
   "cell_type": "code",
   "execution_count": 10,
   "id": "56239719-4032-4e5f-9c99-eeff705ebdb2",
   "metadata": {
    "pycharm": {
     "is_executing": true
    },
    "ExecuteTime": {
     "end_time": "2024-05-15T20:32:04.146443Z",
     "start_time": "2024-05-15T20:32:03.827745Z"
    }
   },
   "outputs": [
    {
     "data": {
      "text/plain": "    archetype baseline_transmission_metric  transmission_level  \\\n0     Central                         pfpr                0.05   \n1     Central                         pfpr                0.05   \n2     Central                         pfpr                0.05   \n3     Central                         pfpr                0.05   \n4     Central                         pfpr                0.05   \n..        ...                          ...                 ...   \n110  Southern                         pfpr                0.40   \n111  Southern                         pfpr                0.40   \n112  Southern                         pfpr                0.40   \n113  Southern                         pfpr                0.40   \n114  Southern                         pfpr                0.40   \n\n     scenario_number  iptsc_rdts_used  iptsc_drugs_used_school  cases_treated  \\\n0                  0              0.0                     0.00        2862.76   \n1                  5              0.0                     0.00        2233.31   \n2                  6              0.0                  5121.41        2503.75   \n3                  7              0.0                 18675.41        1366.42   \n4                  8              0.0                  5108.83        1821.64   \n..               ...              ...                      ...            ...   \n110                5              0.0                     0.00        5000.81   \n111                6              0.0                  4904.99        4878.46   \n112                7              0.0                 19474.21        3922.51   \n113                8              0.0                  4907.20        4129.76   \n114                9              0.0                 19484.20        3547.12   \n\n     severe_cases_treated  received_smc_u5  received_smc_5-10  ...  \\\n0                     0.0              0.0                0.0  ...   \n1                     0.0              0.0                0.0  ...   \n2                     0.0              0.0                0.0  ...   \n3                     0.0              0.0                0.0  ...   \n4                     0.0              0.0                0.0  ...   \n..                    ...              ...                ...  ...   \n110                   0.0              0.0                0.0  ...   \n111                   0.0              0.0                0.0  ...   \n112                   0.0              0.0                0.0  ...   \n113                   0.0              0.0                0.0  ...   \n114                   0.0              0.0                0.0  ...   \n\n     screen_type  drug_type  out_of_school_rate  ivermectin  primaquine  \\\n0           None       None                 0.2       False       False   \n1           None       None                 0.2       False       False   \n2            IPT       ASAQ                 0.2       False       False   \n3            IPT       ASAQ                 0.2       False       False   \n4            IPT         DP                 0.2       False       False   \n..           ...        ...                 ...         ...         ...   \n110         None       None                 0.2       False       False   \n111          IPT       ASAQ                 0.2       False       False   \n112          IPT       ASAQ                 0.2       False       False   \n113          IPT         DP                 0.2       False       False   \n114          IPT         DP                 0.2       False       False   \n\n     itn_coverage  hs_rate  smc_on  smc_coverage               comments  \n0             0.7      0.6   False          None               No IPTsc  \n1             0.9      0.6   False          None  No IPTsc - higher ITN  \n2             0.7      0.6   False          None              ASAQ term  \n3             0.7      0.6   False          None             ASAQ month  \n4             0.7      0.6   False          None                DP term  \n..            ...      ...     ...           ...                    ...  \n110           0.9      0.6   False          None  No IPTsc - higher ITN  \n111           0.7      0.6   False          None              ASAQ term  \n112           0.7      0.6   False          None             ASAQ month  \n113           0.7      0.6   False          None                DP term  \n114           0.7      0.6   False          None               DP month  \n\n[115 rows x 124 columns]",
      "text/html": "<div>\n<style scoped>\n    .dataframe tbody tr th:only-of-type {\n        vertical-align: middle;\n    }\n\n    .dataframe tbody tr th {\n        vertical-align: top;\n    }\n\n    .dataframe thead th {\n        text-align: right;\n    }\n</style>\n<table border=\"1\" class=\"dataframe\">\n  <thead>\n    <tr style=\"text-align: right;\">\n      <th></th>\n      <th>archetype</th>\n      <th>baseline_transmission_metric</th>\n      <th>transmission_level</th>\n      <th>scenario_number</th>\n      <th>iptsc_rdts_used</th>\n      <th>iptsc_drugs_used_school</th>\n      <th>cases_treated</th>\n      <th>severe_cases_treated</th>\n      <th>received_smc_u5</th>\n      <th>received_smc_5-10</th>\n      <th>...</th>\n      <th>screen_type</th>\n      <th>drug_type</th>\n      <th>out_of_school_rate</th>\n      <th>ivermectin</th>\n      <th>primaquine</th>\n      <th>itn_coverage</th>\n      <th>hs_rate</th>\n      <th>smc_on</th>\n      <th>smc_coverage</th>\n      <th>comments</th>\n    </tr>\n  </thead>\n  <tbody>\n    <tr>\n      <th>0</th>\n      <td>Central</td>\n      <td>pfpr</td>\n      <td>0.05</td>\n      <td>0</td>\n      <td>0.0</td>\n      <td>0.00</td>\n      <td>2862.76</td>\n      <td>0.0</td>\n      <td>0.0</td>\n      <td>0.0</td>\n      <td>...</td>\n      <td>None</td>\n      <td>None</td>\n      <td>0.2</td>\n      <td>False</td>\n      <td>False</td>\n      <td>0.7</td>\n      <td>0.6</td>\n      <td>False</td>\n      <td>None</td>\n      <td>No IPTsc</td>\n    </tr>\n    <tr>\n      <th>1</th>\n      <td>Central</td>\n      <td>pfpr</td>\n      <td>0.05</td>\n      <td>5</td>\n      <td>0.0</td>\n      <td>0.00</td>\n      <td>2233.31</td>\n      <td>0.0</td>\n      <td>0.0</td>\n      <td>0.0</td>\n      <td>...</td>\n      <td>None</td>\n      <td>None</td>\n      <td>0.2</td>\n      <td>False</td>\n      <td>False</td>\n      <td>0.9</td>\n      <td>0.6</td>\n      <td>False</td>\n      <td>None</td>\n      <td>No IPTsc - higher ITN</td>\n    </tr>\n    <tr>\n      <th>2</th>\n      <td>Central</td>\n      <td>pfpr</td>\n      <td>0.05</td>\n      <td>6</td>\n      <td>0.0</td>\n      <td>5121.41</td>\n      <td>2503.75</td>\n      <td>0.0</td>\n      <td>0.0</td>\n      <td>0.0</td>\n      <td>...</td>\n      <td>IPT</td>\n      <td>ASAQ</td>\n      <td>0.2</td>\n      <td>False</td>\n      <td>False</td>\n      <td>0.7</td>\n      <td>0.6</td>\n      <td>False</td>\n      <td>None</td>\n      <td>ASAQ term</td>\n    </tr>\n    <tr>\n      <th>3</th>\n      <td>Central</td>\n      <td>pfpr</td>\n      <td>0.05</td>\n      <td>7</td>\n      <td>0.0</td>\n      <td>18675.41</td>\n      <td>1366.42</td>\n      <td>0.0</td>\n      <td>0.0</td>\n      <td>0.0</td>\n      <td>...</td>\n      <td>IPT</td>\n      <td>ASAQ</td>\n      <td>0.2</td>\n      <td>False</td>\n      <td>False</td>\n      <td>0.7</td>\n      <td>0.6</td>\n      <td>False</td>\n      <td>None</td>\n      <td>ASAQ month</td>\n    </tr>\n    <tr>\n      <th>4</th>\n      <td>Central</td>\n      <td>pfpr</td>\n      <td>0.05</td>\n      <td>8</td>\n      <td>0.0</td>\n      <td>5108.83</td>\n      <td>1821.64</td>\n      <td>0.0</td>\n      <td>0.0</td>\n      <td>0.0</td>\n      <td>...</td>\n      <td>IPT</td>\n      <td>DP</td>\n      <td>0.2</td>\n      <td>False</td>\n      <td>False</td>\n      <td>0.7</td>\n      <td>0.6</td>\n      <td>False</td>\n      <td>None</td>\n      <td>DP term</td>\n    </tr>\n    <tr>\n      <th>...</th>\n      <td>...</td>\n      <td>...</td>\n      <td>...</td>\n      <td>...</td>\n      <td>...</td>\n      <td>...</td>\n      <td>...</td>\n      <td>...</td>\n      <td>...</td>\n      <td>...</td>\n      <td>...</td>\n      <td>...</td>\n      <td>...</td>\n      <td>...</td>\n      <td>...</td>\n      <td>...</td>\n      <td>...</td>\n      <td>...</td>\n      <td>...</td>\n      <td>...</td>\n      <td>...</td>\n    </tr>\n    <tr>\n      <th>110</th>\n      <td>Southern</td>\n      <td>pfpr</td>\n      <td>0.40</td>\n      <td>5</td>\n      <td>0.0</td>\n      <td>0.00</td>\n      <td>5000.81</td>\n      <td>0.0</td>\n      <td>0.0</td>\n      <td>0.0</td>\n      <td>...</td>\n      <td>None</td>\n      <td>None</td>\n      <td>0.2</td>\n      <td>False</td>\n      <td>False</td>\n      <td>0.9</td>\n      <td>0.6</td>\n      <td>False</td>\n      <td>None</td>\n      <td>No IPTsc - higher ITN</td>\n    </tr>\n    <tr>\n      <th>111</th>\n      <td>Southern</td>\n      <td>pfpr</td>\n      <td>0.40</td>\n      <td>6</td>\n      <td>0.0</td>\n      <td>4904.99</td>\n      <td>4878.46</td>\n      <td>0.0</td>\n      <td>0.0</td>\n      <td>0.0</td>\n      <td>...</td>\n      <td>IPT</td>\n      <td>ASAQ</td>\n      <td>0.2</td>\n      <td>False</td>\n      <td>False</td>\n      <td>0.7</td>\n      <td>0.6</td>\n      <td>False</td>\n      <td>None</td>\n      <td>ASAQ term</td>\n    </tr>\n    <tr>\n      <th>112</th>\n      <td>Southern</td>\n      <td>pfpr</td>\n      <td>0.40</td>\n      <td>7</td>\n      <td>0.0</td>\n      <td>19474.21</td>\n      <td>3922.51</td>\n      <td>0.0</td>\n      <td>0.0</td>\n      <td>0.0</td>\n      <td>...</td>\n      <td>IPT</td>\n      <td>ASAQ</td>\n      <td>0.2</td>\n      <td>False</td>\n      <td>False</td>\n      <td>0.7</td>\n      <td>0.6</td>\n      <td>False</td>\n      <td>None</td>\n      <td>ASAQ month</td>\n    </tr>\n    <tr>\n      <th>113</th>\n      <td>Southern</td>\n      <td>pfpr</td>\n      <td>0.40</td>\n      <td>8</td>\n      <td>0.0</td>\n      <td>4907.20</td>\n      <td>4129.76</td>\n      <td>0.0</td>\n      <td>0.0</td>\n      <td>0.0</td>\n      <td>...</td>\n      <td>IPT</td>\n      <td>DP</td>\n      <td>0.2</td>\n      <td>False</td>\n      <td>False</td>\n      <td>0.7</td>\n      <td>0.6</td>\n      <td>False</td>\n      <td>None</td>\n      <td>DP term</td>\n    </tr>\n    <tr>\n      <th>114</th>\n      <td>Southern</td>\n      <td>pfpr</td>\n      <td>0.40</td>\n      <td>9</td>\n      <td>0.0</td>\n      <td>19484.20</td>\n      <td>3547.12</td>\n      <td>0.0</td>\n      <td>0.0</td>\n      <td>0.0</td>\n      <td>...</td>\n      <td>IPT</td>\n      <td>DP</td>\n      <td>0.2</td>\n      <td>False</td>\n      <td>False</td>\n      <td>0.7</td>\n      <td>0.6</td>\n      <td>False</td>\n      <td>None</td>\n      <td>DP month</td>\n    </tr>\n  </tbody>\n</table>\n<p>115 rows × 124 columns</p>\n</div>"
     },
     "execution_count": 10,
     "metadata": {},
     "output_type": "execute_result"
    }
   ],
   "source": [
    "df_full"
   ]
  },
  {
   "cell_type": "code",
   "execution_count": 11,
   "id": "c1aea480-90cb-439e-a6c5-2ccaaa4bff26",
   "metadata": {
    "pycharm": {
     "is_executing": true
    },
    "ExecuteTime": {
     "end_time": "2024-05-15T20:32:04.332364Z",
     "start_time": "2024-05-15T20:32:04.152403Z"
    }
   },
   "outputs": [],
   "source": [
    "df_full.to_csv(\"sim_data_full.csv\",index=False)"
   ]
  },
  {
   "cell_type": "code",
   "execution_count": 11,
   "id": "8b5bda24-7168-488c-82ed-c326be710802",
   "metadata": {
    "pycharm": {
     "is_executing": true
    },
    "ExecuteTime": {
     "end_time": "2024-05-15T20:32:04.377172Z",
     "start_time": "2024-05-15T20:32:04.356126Z"
    }
   },
   "outputs": [],
   "source": []
  }
 ],
 "metadata": {
  "kernelspec": {
   "display_name": "Python 3 (ipykernel)",
   "language": "python",
   "name": "python3"
  },
  "language_info": {
   "codemirror_mode": {
    "name": "ipython",
    "version": 3
   },
   "file_extension": ".py",
   "mimetype": "text/x-python",
   "name": "python",
   "nbconvert_exporter": "python",
   "pygments_lexer": "ipython3",
   "version": "3.9.13"
  }
 },
 "nbformat": 4,
 "nbformat_minor": 5
}
