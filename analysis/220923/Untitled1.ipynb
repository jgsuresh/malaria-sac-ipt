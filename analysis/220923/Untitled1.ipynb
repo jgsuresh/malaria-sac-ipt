{
 "cells": [
  {
   "cell_type": "code",
   "execution_count": 14,
   "id": "92a64fb9-9d00-4afe-93f3-cf2fa556be80",
   "metadata": {},
   "outputs": [],
   "source": [
    "import pandas as pd\n",
    "import numpy as np\n",
    "import matplotlib\n",
    "matplotlib.rcParams['pdf.fonttype'] = 42\n",
    "import matplotlib.pyplot as plt\n",
    "import seaborn as sns\n",
    "sns.set_context(\"talk\")\n",
    "sns.set_style(\"white\")"
   ]
  },
  {
   "cell_type": "code",
   "execution_count": 15,
   "id": "e4d26779-5194-43df-82e4-932482a8d42f",
   "metadata": {},
   "outputs": [],
   "source": [
    "# Commodity costs for SMC and ITN "
   ]
  },
  {
   "cell_type": "markdown",
   "id": "09550393-0265-4cba-8c14-eb53bc555407",
   "metadata": {},
   "source": [
    "# ITN"
   ]
  },
  {
   "cell_type": "code",
   "execution_count": 16,
   "id": "e89a16b2-b903-4b36-be9a-bb4a5c0576af",
   "metadata": {},
   "outputs": [],
   "source": [
    "df = pd.read_csv(\"sim_data_full.csv\")"
   ]
  },
  {
   "cell_type": "code",
   "execution_count": 19,
   "id": "a985428c-c0ab-4153-8059-e6b093ca1cda",
   "metadata": {},
   "outputs": [
    {
     "data": {
      "text/plain": [
       "8680.0"
      ]
     },
     "execution_count": 19,
     "metadata": {},
     "output_type": "execute_result"
    }
   ],
   "source": [
    "0.7*5000*2.48"
   ]
  },
  {
   "cell_type": "code",
   "execution_count": 18,
   "id": "2d5dbb34-81f8-45bd-af8a-2373bb7366aa",
   "metadata": {},
   "outputs": [
    {
     "data": {
      "text/html": [
       "<div>\n",
       "<style scoped>\n",
       "    .dataframe tbody tr th:only-of-type {\n",
       "        vertical-align: middle;\n",
       "    }\n",
       "\n",
       "    .dataframe tbody tr th {\n",
       "        vertical-align: top;\n",
       "    }\n",
       "\n",
       "    .dataframe thead th {\n",
       "        text-align: right;\n",
       "    }\n",
       "</style>\n",
       "<table border=\"1\" class=\"dataframe\">\n",
       "  <thead>\n",
       "    <tr style=\"text-align: right;\">\n",
       "      <th></th>\n",
       "      <th>scenario_number</th>\n",
       "      <th>cost_ITNs</th>\n",
       "    </tr>\n",
       "  </thead>\n",
       "  <tbody>\n",
       "    <tr>\n",
       "      <th>0</th>\n",
       "      <td>30</td>\n",
       "      <td>8680.0</td>\n",
       "    </tr>\n",
       "    <tr>\n",
       "      <th>1</th>\n",
       "      <td>31</td>\n",
       "      <td>11160.0</td>\n",
       "    </tr>\n",
       "  </tbody>\n",
       "</table>\n",
       "</div>"
      ],
      "text/plain": [
       "   scenario_number  cost_ITNs\n",
       "0               30     8680.0\n",
       "1               31    11160.0"
      ]
     },
     "execution_count": 18,
     "metadata": {},
     "output_type": "execute_result"
    }
   ],
   "source": [
    "df_itn = df[np.in1d(df[\"scenario_number\"],[30,31])]\n",
    "df_itn.groupby(\"scenario_number\").agg({\"cost_ITNs\": \"mean\"}).reset_index()"
   ]
  },
  {
   "cell_type": "code",
   "execution_count": 20,
   "id": "550b45de-ee84-4780-af0a-f371e5d4690b",
   "metadata": {},
   "outputs": [
    {
     "data": {
      "text/plain": [
       "496.0"
      ]
     },
     "execution_count": 20,
     "metadata": {},
     "output_type": "execute_result"
    }
   ],
   "source": [
    "(11160.0-8680.0)/5"
   ]
  },
  {
   "cell_type": "markdown",
   "id": "c5906723-3992-4b84-ae53-acfdaee04de0",
   "metadata": {},
   "source": [
    "# SMC"
   ]
  },
  {
   "cell_type": "code",
   "execution_count": 23,
   "id": "acb310d8-d558-4290-a0e3-4b12d3ac9fdd",
   "metadata": {},
   "outputs": [],
   "source": [
    "df_esmc = df[np.logical_and(df[\"archetype\"]==\"Sahel\",\n",
    "                            np.in1d(df[\"scenario_number\"],[35,36]))]"
   ]
  },
  {
   "cell_type": "code",
   "execution_count": 29,
   "id": "481abfc1-a15b-4b93-81e2-8c175481a8b0",
   "metadata": {},
   "outputs": [],
   "source": [
    "foo = df_esmc[[\"scenario_number\",\"cost_SMC_low\",\"cost_SMC_mean\", \"cost_SMC_high\"]].groupby(\"scenario_number\").agg(\"mean\").reset_index()"
   ]
  },
  {
   "cell_type": "code",
   "execution_count": 40,
   "id": "44172dfd-ef9c-41d4-a62d-9a7584dbb101",
   "metadata": {},
   "outputs": [],
   "source": [
    "foo[\"cost_SMC_low\"] = foo[\"cost_SMC_low\"]/5/2 # per 1k pop, per year\n",
    "foo[\"cost_SMC_high\"] = foo[\"cost_SMC_high\"]/5/2 # per 1k pop, per year\n",
    "foo[\"cost_SMC_mean\"] = foo[\"cost_SMC_mean\"]/5/2 # per 1k pop, per year\n"
   ]
  },
  {
   "cell_type": "code",
   "execution_count": 42,
   "id": "36ab0e52-c9d7-435c-b451-5537163c26ff",
   "metadata": {},
   "outputs": [
    {
     "data": {
      "text/html": [
       "<div>\n",
       "<style scoped>\n",
       "    .dataframe tbody tr th:only-of-type {\n",
       "        vertical-align: middle;\n",
       "    }\n",
       "\n",
       "    .dataframe tbody tr th {\n",
       "        vertical-align: top;\n",
       "    }\n",
       "\n",
       "    .dataframe thead th {\n",
       "        text-align: right;\n",
       "    }\n",
       "</style>\n",
       "<table border=\"1\" class=\"dataframe\">\n",
       "  <thead>\n",
       "    <tr style=\"text-align: right;\">\n",
       "      <th></th>\n",
       "      <th>scenario_number</th>\n",
       "      <th>cost_SMC_low</th>\n",
       "      <th>cost_SMC_mean</th>\n",
       "      <th>cost_SMC_high</th>\n",
       "    </tr>\n",
       "  </thead>\n",
       "  <tbody>\n",
       "    <tr>\n",
       "      <th>0</th>\n",
       "      <td>35</td>\n",
       "      <td>557.877801</td>\n",
       "      <td>1576.675471</td>\n",
       "      <td>2595.473141</td>\n",
       "    </tr>\n",
       "    <tr>\n",
       "      <th>1</th>\n",
       "      <td>36</td>\n",
       "      <td>575.905585</td>\n",
       "      <td>2103.859386</td>\n",
       "      <td>3631.813186</td>\n",
       "    </tr>\n",
       "  </tbody>\n",
       "</table>\n",
       "</div>"
      ],
      "text/plain": [
       "   scenario_number  cost_SMC_low  cost_SMC_mean  cost_SMC_high\n",
       "0               35    557.877801    1576.675471    2595.473141\n",
       "1               36    575.905585    2103.859386    3631.813186"
      ]
     },
     "execution_count": 42,
     "metadata": {},
     "output_type": "execute_result"
    }
   ],
   "source": [
    "foo"
   ]
  },
  {
   "cell_type": "code",
   "execution_count": 48,
   "id": "1cade67c-916f-4b9e-8641-93a7066df073",
   "metadata": {},
   "outputs": [
    {
     "name": "stderr",
     "output_type": "stream",
     "text": [
      "meta NOT subset; don't know how to subset; dropped\n"
     ]
    },
    {
     "data": {
      "image/png": "[encoded data removed]",
      "text/plain": [
       "<Figure size 432x288 with 1 Axes>"
      ]
     },
     "metadata": {},
     "output_type": "display_data"
    }
   ],
   "source": [
    "plt.scatter([0,0,0],np.array([557.8778011,1576.6754710,2595.4731409]))\n",
    "plt.scatter([1,1,1],np.array([575.9055852,2103.8593858,3631.8131864]))\n",
    "plt.ylim([0,6000])\n",
    "plt.savefig(\"smc_costs_jank.pdf\")"
   ]
  },
  {
   "cell_type": "code",
   "execution_count": 34,
   "id": "5a8de2ba-b728-4336-83ef-d4bd173b4abc",
   "metadata": {},
   "outputs": [
    {
     "data": {
      "text/plain": [
       "<AxesSubplot:xlabel='scenario_number', ylabel='cost_SMC_mean'>"
      ]
     },
     "execution_count": 34,
     "metadata": {},
     "output_type": "execute_result"
    },
    {
     "data": {
      "image/png": "[encoded data removed]",
      "text/plain": [
       "<Figure size 432x288 with 1 Axes>"
      ]
     },
     "metadata": {},
     "output_type": "display_data"
    }
   ],
   "source": [
    "sns.barplot(data=foo, x=\"scenario_number\", y=\"cost_SMC_mean\")"
   ]
  },
  {
   "cell_type": "code",
   "execution_count": null,
   "id": "1b613b36-0d26-4873-8cd3-0509b3e54f52",
   "metadata": {},
   "outputs": [],
   "source": []
  }
 ],
 "metadata": {
  "kernelspec": {
   "display_name": "Python 3 (ipykernel)",
   "language": "python",
   "name": "python3"
  },
  "language_info": {
   "codemirror_mode": {
    "name": "ipython",
    "version": 3
   },
   "file_extension": ".py",
   "mimetype": "text/x-python",
   "name": "python",
   "nbconvert_exporter": "python",
   "pygments_lexer": "ipython3",
   "version": "3.8.10"
  }
 },
 "nbformat": 4,
 "nbformat_minor": 5
}
