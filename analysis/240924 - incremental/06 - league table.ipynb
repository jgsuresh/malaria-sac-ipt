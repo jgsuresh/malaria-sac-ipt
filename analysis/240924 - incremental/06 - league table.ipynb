{
 "cells": [
  {
   "cell_type": "code",
   "execution_count": 1,
   "id": "initial_id",
   "metadata": {
    "collapsed": true,
    "ExecuteTime": {
     "end_time": "2024-10-18T18:03:25.587897Z",
     "start_time": "2024-10-18T18:03:25.575898Z"
    }
   },
   "outputs": [],
   "source": [
    "import pandas as pd\n",
    "import numpy as np\n",
    "import matplotlib.pyplot as plt\n",
    "import seaborn as sns\n",
    "sns.set(style='whitegrid')\n",
    "sns.set_context('talk')"
   ]
  },
  {
   "cell_type": "code",
   "outputs": [
    {
     "name": "stderr",
     "output_type": "stream",
     "text": [
      "C:\\Users\\joshsu\\AppData\\Local\\Temp\\ipykernel_35472\\3052325694.py:10: FutureWarning: merging between different levels is deprecated and will be removed in a future version. (1 levels on the left, 2 on the right)\n",
      "  df = pd.merge(df_costs, df_cases, on=[\"archetype\", \"transmission_level\", \"scenario_number\"])\n",
      "C:\\Users\\joshsu\\AppData\\Local\\Temp\\ipykernel_35472\\3052325694.py:10: PerformanceWarning: dropping on a non-lexsorted multi-index without a level parameter may impact performance.\n",
      "  df = pd.merge(df_costs, df_cases, on=[\"archetype\", \"transmission_level\", \"scenario_number\"])\n"
     ]
    },
    {
     "data": {
      "text/plain": "    archetype  transmission_level  scenario_number     cost_mean     cost_std  \\\n0     Central                0.05                0  16107.653428  2112.155014   \n1     Central                0.10                0  16515.819897  2174.179624   \n2     Central                0.20                0  21151.487610  2955.514287   \n3     Central                0.30                0  24133.977951  3471.043854   \n4     Central                0.40                0  27399.536886  4047.100109   \n..        ...                 ...              ...           ...          ...   \n110  Southern                0.05                9  31497.642850  1577.132396   \n111  Southern                0.10                9  33669.009610  1685.831198   \n112  Southern                0.20                9  36763.521875  1988.693654   \n113  Southern                0.30                9  42242.570439  2623.540358   \n114  Southern                0.40                9  43481.643372  2921.077399   \n\n     cost_IPTsc_mean  cost_IPTsc_std   cases_mean   cases_std  comments  \n0           0.000000        0.000000  6029.420900  170.098339  No IPTsc  \n1           0.000000        0.000000  5939.191469  153.868286  No IPTsc  \n2           0.000000        0.000000  6684.382831  103.193884  No IPTsc  \n3           0.000000        0.000000  6975.190576   88.880312  No IPTsc  \n4           0.000000        0.000000  7159.926498   83.860444  No IPTsc  \n..               ...             ...          ...         ...       ...  \n110     24433.589585     1395.134212  1085.255048  382.213400  DP month  \n111     24961.744690     1422.768009  1795.228737  295.557103  DP month  \n112     24593.254650     1410.140965  2567.773054  150.665002  DP month  \n113     25484.615916     1458.115294  3593.362750  107.524129  DP month  \n114     24561.400022     1403.955394  3980.142696   92.858081  DP month  \n\n[115 rows x 10 columns]",
      "text/html": "<div>\n<style scoped>\n    .dataframe tbody tr th:only-of-type {\n        vertical-align: middle;\n    }\n\n    .dataframe tbody tr th {\n        vertical-align: top;\n    }\n\n    .dataframe thead th {\n        text-align: right;\n    }\n</style>\n<table border=\"1\" class=\"dataframe\">\n  <thead>\n    <tr style=\"text-align: right;\">\n      <th></th>\n      <th>archetype</th>\n      <th>transmission_level</th>\n      <th>scenario_number</th>\n      <th>cost_mean</th>\n      <th>cost_std</th>\n      <th>cost_IPTsc_mean</th>\n      <th>cost_IPTsc_std</th>\n      <th>cases_mean</th>\n      <th>cases_std</th>\n      <th>comments</th>\n    </tr>\n  </thead>\n  <tbody>\n    <tr>\n      <th>0</th>\n      <td>Central</td>\n      <td>0.05</td>\n      <td>0</td>\n      <td>16107.653428</td>\n      <td>2112.155014</td>\n      <td>0.000000</td>\n      <td>0.000000</td>\n      <td>6029.420900</td>\n      <td>170.098339</td>\n      <td>No IPTsc</td>\n    </tr>\n    <tr>\n      <th>1</th>\n      <td>Central</td>\n      <td>0.10</td>\n      <td>0</td>\n      <td>16515.819897</td>\n      <td>2174.179624</td>\n      <td>0.000000</td>\n      <td>0.000000</td>\n      <td>5939.191469</td>\n      <td>153.868286</td>\n      <td>No IPTsc</td>\n    </tr>\n    <tr>\n      <th>2</th>\n      <td>Central</td>\n      <td>0.20</td>\n      <td>0</td>\n      <td>21151.487610</td>\n      <td>2955.514287</td>\n      <td>0.000000</td>\n      <td>0.000000</td>\n      <td>6684.382831</td>\n      <td>103.193884</td>\n      <td>No IPTsc</td>\n    </tr>\n    <tr>\n      <th>3</th>\n      <td>Central</td>\n      <td>0.30</td>\n      <td>0</td>\n      <td>24133.977951</td>\n      <td>3471.043854</td>\n      <td>0.000000</td>\n      <td>0.000000</td>\n      <td>6975.190576</td>\n      <td>88.880312</td>\n      <td>No IPTsc</td>\n    </tr>\n    <tr>\n      <th>4</th>\n      <td>Central</td>\n      <td>0.40</td>\n      <td>0</td>\n      <td>27399.536886</td>\n      <td>4047.100109</td>\n      <td>0.000000</td>\n      <td>0.000000</td>\n      <td>7159.926498</td>\n      <td>83.860444</td>\n      <td>No IPTsc</td>\n    </tr>\n    <tr>\n      <th>...</th>\n      <td>...</td>\n      <td>...</td>\n      <td>...</td>\n      <td>...</td>\n      <td>...</td>\n      <td>...</td>\n      <td>...</td>\n      <td>...</td>\n      <td>...</td>\n      <td>...</td>\n    </tr>\n    <tr>\n      <th>110</th>\n      <td>Southern</td>\n      <td>0.05</td>\n      <td>9</td>\n      <td>31497.642850</td>\n      <td>1577.132396</td>\n      <td>24433.589585</td>\n      <td>1395.134212</td>\n      <td>1085.255048</td>\n      <td>382.213400</td>\n      <td>DP month</td>\n    </tr>\n    <tr>\n      <th>111</th>\n      <td>Southern</td>\n      <td>0.10</td>\n      <td>9</td>\n      <td>33669.009610</td>\n      <td>1685.831198</td>\n      <td>24961.744690</td>\n      <td>1422.768009</td>\n      <td>1795.228737</td>\n      <td>295.557103</td>\n      <td>DP month</td>\n    </tr>\n    <tr>\n      <th>112</th>\n      <td>Southern</td>\n      <td>0.20</td>\n      <td>9</td>\n      <td>36763.521875</td>\n      <td>1988.693654</td>\n      <td>24593.254650</td>\n      <td>1410.140965</td>\n      <td>2567.773054</td>\n      <td>150.665002</td>\n      <td>DP month</td>\n    </tr>\n    <tr>\n      <th>113</th>\n      <td>Southern</td>\n      <td>0.30</td>\n      <td>9</td>\n      <td>42242.570439</td>\n      <td>2623.540358</td>\n      <td>25484.615916</td>\n      <td>1458.115294</td>\n      <td>3593.362750</td>\n      <td>107.524129</td>\n      <td>DP month</td>\n    </tr>\n    <tr>\n      <th>114</th>\n      <td>Southern</td>\n      <td>0.40</td>\n      <td>9</td>\n      <td>43481.643372</td>\n      <td>2921.077399</td>\n      <td>24561.400022</td>\n      <td>1403.955394</td>\n      <td>3980.142696</td>\n      <td>92.858081</td>\n      <td>DP month</td>\n    </tr>\n  </tbody>\n</table>\n<p>115 rows × 10 columns</p>\n</div>"
     },
     "execution_count": 2,
     "metadata": {},
     "output_type": "execute_result"
    }
   ],
   "source": [
    "df_costs = pd.read_csv(\"sim_data_full_with_costs_corrected.csv\")\n",
    "df_costs = df_costs[[\"archetype\", \"transmission_level\", \"scenario_number\", \"mean\", \"std\", \"mean_iptsc\", \"std_iptsc\"]]\n",
    "df_costs.rename(columns={\"mean\": \"cost_mean\", \"std\": \"cost_std\", \"mean_iptsc\": \"cost_IPTsc_mean\", \"std_iptsc\": \"cost_IPTsc_std\"}, inplace=True)\n",
    "\n",
    "df_raw = pd.read_csv(\"sim_data_raw.csv\")\n",
    "df_raw = df_raw[[\"archetype\", \"transmission_level\", \"scenario_number\", \"clinical_incidence_all\"]]\n",
    "df_raw[\"cases\"] = df_raw[\"clinical_incidence_all\"]*5000\n",
    "# Get mean and stdev of cases\n",
    "df_cases = df_raw.groupby([\"archetype\", \"transmission_level\", \"scenario_number\"]).agg({\"cases\": [\"mean\", \"std\"]}).reset_index()\n",
    "df = pd.merge(df_costs, df_cases, on=[\"archetype\", \"transmission_level\", \"scenario_number\"])\n",
    "\n",
    "df_scenarios = pd.read_csv(\"../../run_sims/Assets/scenario_master_list.csv\")\n",
    "df = pd.merge(df, df_scenarios[[\"archetype\", \"scenario_number\", \"comments\"]], on=[\"archetype\", \"scenario_number\"])\n",
    "\n",
    "df.rename(columns={(\"cases\", \"mean\"): \"cases_mean\",\n",
    "                   (\"cases\", \"std\"): \"cases_std\"}, inplace=True)\n",
    "df"
   ],
   "metadata": {
    "collapsed": false,
    "ExecuteTime": {
     "end_time": "2024-10-18T18:03:26.291591Z",
     "start_time": "2024-10-18T18:03:25.592896Z"
    }
   },
   "id": "eaf1dc4cf250c1c2",
   "execution_count": 2
  },
  {
   "cell_type": "code",
   "outputs": [
    {
     "data": {
      "text/plain": "    archetype  transmission_level  scenario_number    cost_mean    cost_std  \\\n0     Central                0.05                0  3221.530686  422.431003   \n1     Central                0.10                0  3303.163979  434.835925   \n2     Central                0.20                0  4230.297522  591.102857   \n3     Central                0.30                0  4826.795590  694.208771   \n4     Central                0.40                0  5479.907377  809.420022   \n..        ...                 ...              ...          ...         ...   \n110  Southern                0.05                9  6299.528570  315.426479   \n111  Southern                0.10                9  6733.801922  337.166240   \n112  Southern                0.20                9  7352.704375  397.738731   \n113  Southern                0.30                9  8448.514088  524.708072   \n114  Southern                0.40                9  8696.328674  584.215480   \n\n     cost_IPTsc_mean  cost_IPTsc_std   cases_mean  cases_std  comments  \n0           0.000000        0.000000  1205.884180  34.019668  No IPTsc  \n1           0.000000        0.000000  1187.838294  30.773657  No IPTsc  \n2           0.000000        0.000000  1336.876566  20.638777  No IPTsc  \n3           0.000000        0.000000  1395.038115  17.776062  No IPTsc  \n4           0.000000        0.000000  1431.985300  16.772089  No IPTsc  \n..               ...             ...          ...        ...       ...  \n110      4886.717917      279.026842   217.051010  76.442680  DP month  \n111      4992.348938      284.553602   359.045747  59.111421  DP month  \n112      4918.650930      282.028193   513.554611  30.133000  DP month  \n113      5096.923183      291.623059   718.672550  21.504826  DP month  \n114      4912.280004      280.791079   796.028539  18.571616  DP month  \n\n[115 rows x 10 columns]",
      "text/html": "<div>\n<style scoped>\n    .dataframe tbody tr th:only-of-type {\n        vertical-align: middle;\n    }\n\n    .dataframe tbody tr th {\n        vertical-align: top;\n    }\n\n    .dataframe thead th {\n        text-align: right;\n    }\n</style>\n<table border=\"1\" class=\"dataframe\">\n  <thead>\n    <tr style=\"text-align: right;\">\n      <th></th>\n      <th>archetype</th>\n      <th>transmission_level</th>\n      <th>scenario_number</th>\n      <th>cost_mean</th>\n      <th>cost_std</th>\n      <th>cost_IPTsc_mean</th>\n      <th>cost_IPTsc_std</th>\n      <th>cases_mean</th>\n      <th>cases_std</th>\n      <th>comments</th>\n    </tr>\n  </thead>\n  <tbody>\n    <tr>\n      <th>0</th>\n      <td>Central</td>\n      <td>0.05</td>\n      <td>0</td>\n      <td>3221.530686</td>\n      <td>422.431003</td>\n      <td>0.000000</td>\n      <td>0.000000</td>\n      <td>1205.884180</td>\n      <td>34.019668</td>\n      <td>No IPTsc</td>\n    </tr>\n    <tr>\n      <th>1</th>\n      <td>Central</td>\n      <td>0.10</td>\n      <td>0</td>\n      <td>3303.163979</td>\n      <td>434.835925</td>\n      <td>0.000000</td>\n      <td>0.000000</td>\n      <td>1187.838294</td>\n      <td>30.773657</td>\n      <td>No IPTsc</td>\n    </tr>\n    <tr>\n      <th>2</th>\n      <td>Central</td>\n      <td>0.20</td>\n      <td>0</td>\n      <td>4230.297522</td>\n      <td>591.102857</td>\n      <td>0.000000</td>\n      <td>0.000000</td>\n      <td>1336.876566</td>\n      <td>20.638777</td>\n      <td>No IPTsc</td>\n    </tr>\n    <tr>\n      <th>3</th>\n      <td>Central</td>\n      <td>0.30</td>\n      <td>0</td>\n      <td>4826.795590</td>\n      <td>694.208771</td>\n      <td>0.000000</td>\n      <td>0.000000</td>\n      <td>1395.038115</td>\n      <td>17.776062</td>\n      <td>No IPTsc</td>\n    </tr>\n    <tr>\n      <th>4</th>\n      <td>Central</td>\n      <td>0.40</td>\n      <td>0</td>\n      <td>5479.907377</td>\n      <td>809.420022</td>\n      <td>0.000000</td>\n      <td>0.000000</td>\n      <td>1431.985300</td>\n      <td>16.772089</td>\n      <td>No IPTsc</td>\n    </tr>\n    <tr>\n      <th>...</th>\n      <td>...</td>\n      <td>...</td>\n      <td>...</td>\n      <td>...</td>\n      <td>...</td>\n      <td>...</td>\n      <td>...</td>\n      <td>...</td>\n      <td>...</td>\n      <td>...</td>\n    </tr>\n    <tr>\n      <th>110</th>\n      <td>Southern</td>\n      <td>0.05</td>\n      <td>9</td>\n      <td>6299.528570</td>\n      <td>315.426479</td>\n      <td>4886.717917</td>\n      <td>279.026842</td>\n      <td>217.051010</td>\n      <td>76.442680</td>\n      <td>DP month</td>\n    </tr>\n    <tr>\n      <th>111</th>\n      <td>Southern</td>\n      <td>0.10</td>\n      <td>9</td>\n      <td>6733.801922</td>\n      <td>337.166240</td>\n      <td>4992.348938</td>\n      <td>284.553602</td>\n      <td>359.045747</td>\n      <td>59.111421</td>\n      <td>DP month</td>\n    </tr>\n    <tr>\n      <th>112</th>\n      <td>Southern</td>\n      <td>0.20</td>\n      <td>9</td>\n      <td>7352.704375</td>\n      <td>397.738731</td>\n      <td>4918.650930</td>\n      <td>282.028193</td>\n      <td>513.554611</td>\n      <td>30.133000</td>\n      <td>DP month</td>\n    </tr>\n    <tr>\n      <th>113</th>\n      <td>Southern</td>\n      <td>0.30</td>\n      <td>9</td>\n      <td>8448.514088</td>\n      <td>524.708072</td>\n      <td>5096.923183</td>\n      <td>291.623059</td>\n      <td>718.672550</td>\n      <td>21.504826</td>\n      <td>DP month</td>\n    </tr>\n    <tr>\n      <th>114</th>\n      <td>Southern</td>\n      <td>0.40</td>\n      <td>9</td>\n      <td>8696.328674</td>\n      <td>584.215480</td>\n      <td>4912.280004</td>\n      <td>280.791079</td>\n      <td>796.028539</td>\n      <td>18.571616</td>\n      <td>DP month</td>\n    </tr>\n  </tbody>\n</table>\n<p>115 rows × 10 columns</p>\n</div>"
     },
     "execution_count": 3,
     "metadata": {},
     "output_type": "execute_result"
    }
   ],
   "source": [
    "# Convert costs to costs per thousand, and cases to cases per thousand. This is done by dividing by 5 since the base population is 5000 in the simulation\n",
    "df[\"cost_mean\"] = df[\"cost_mean\"] / 5\n",
    "df[\"cost_std\"] = df[\"cost_std\"] / 5\n",
    "df[\"cost_IPTsc_mean\"] = df[\"cost_IPTsc_mean\"] / 5\n",
    "df[\"cost_IPTsc_std\"] = df[\"cost_IPTsc_std\"] / 5\n",
    "df[\"cases_mean\"] = df[\"cases_mean\"] / 5\n",
    "df[\"cases_std\"] = df[\"cases_std\"] / 5\n",
    "df"
   ],
   "metadata": {
    "collapsed": false,
    "ExecuteTime": {
     "end_time": "2024-10-18T18:03:26.369159Z",
     "start_time": "2024-10-18T18:03:26.301594Z"
    }
   },
   "id": "8d98fddf9cf2633a",
   "execution_count": 3
  },
  {
   "cell_type": "code",
   "outputs": [],
   "source": [
    "def generate_league_table(df):\n",
    "    # df: dataframe for single archetype and single transmission level\n",
    "    # rows are scenarios ordered by descending cases\n",
    "    # columns are cases, costs, incremental costs, incremental cases, cost-effectiveness ratio\n",
    "    \n",
    "    df_table = df.copy()\n",
    "    \n",
    "    # Set index to scenario number\n",
    "    df_table = df_table.set_index(\"scenario_number\")\n",
    "    \n",
    "    # Sort by descending cases\n",
    "    df_table = df_table.sort_values(\"cases_mean\", ascending=False)\n",
    "    \n",
    "    df_table[\"incremental_cases_averted_mean\"] = -df_table[\"cases_mean\"].diff()\n",
    "    df_table[\"incremental_cases_averted_std\"] = np.sqrt(df_table[\"cases_std\"]**2 + df_table[\"cases_std\"].shift(1)**2)\n",
    "    df_table[\"incremental_cases_averted_low\"] = df_table[\"incremental_cases_averted_mean\"] - 1.96*df_table[\"incremental_cases_averted_std\"]\n",
    "    df_table[\"incremental_cases_averted_high\"] = df_table[\"incremental_cases_averted_mean\"] + 1.96*df_table[\"incremental_cases_averted_std\"]\n",
    "    \n",
    "    df_table[\"incremental_cost_mean\"] = df_table[\"cost_mean\"].diff()\n",
    "    df_table[\"incremental_cost_std\"] = np.sqrt(df_table[\"cost_std\"]**2 + df_table[\"cost_std\"].shift(1)**2)\n",
    "    df_table[\"incremental_cost_low\"] = df_table[\"incremental_cost_mean\"] - 1.96*df_table[\"incremental_cost_std\"]\n",
    "    df_table[\"incremental_cost_high\"] = df_table[\"incremental_cost_mean\"] + 1.96*df_table[\"incremental_cost_std\"]\n",
    "    \n",
    "    df_table[\"incremental_cost_IPTsc_mean\"] = df_table[\"cost_IPTsc_mean\"].diff()\n",
    "    df_table[\"incremental_cost_IPTsc_std\"] = np.sqrt(df_table[\"cost_IPTsc_std\"]**2 + df_table[\"cost_IPTsc_std\"].shift(1)**2)\n",
    "    df_table[\"incremental_cost_IPTsc_low\"] = df_table[\"incremental_cost_IPTsc_mean\"] - 1.96*df_table[\"incremental_cost_IPTsc_std\"]\n",
    "    df_table[\"incremental_cost_IPTsc_high\"] = df_table[\"incremental_cost_IPTsc_mean\"] + 1.96*df_table[\"incremental_cost_IPTsc_std\"]\n",
    "\n",
    "    # Sample incremental costs and cases to get ICER range: \n",
    "    def _sample_icers(ico_mean, ico_std, ica_mean, ica_std, n=100000):\n",
    "        ico = np.random.normal(ico_mean, ico_std, n)\n",
    "        ica = np.random.normal(ica_mean, ica_std, n)\n",
    "        return ico / ica\n",
    "    \n",
    "    df_table[\"icer_mean\"] = df_table[\"incremental_cost_mean\"] / df_table[\"incremental_cases_averted_mean\"]\n",
    "    df_table[\"icer_low\"] = np.nan\n",
    "    df_table[\"icer_high\"] = np.nan\n",
    "    for i in range(1,len(df_table)):\n",
    "        icers = _sample_icers(df_table[\"incremental_cost_mean\"].iloc[i], df_table[\"incremental_cost_std\"].iloc[i], df_table[\"incremental_cases_averted_mean\"].iloc[i], df_table[\"incremental_cases_averted_std\"].iloc[i])\n",
    "        df_table[\"icer_low\"].iloc[i] = np.percentile(icers, 2.5)\n",
    "        df_table[\"icer_high\"].iloc[i] = np.percentile(icers, 97.5)\n",
    "\n",
    "    df_table[\"icer_IPTsc_mean\"] = df_table[\"incremental_cost_IPTsc_mean\"] / df_table[\"incremental_cases_averted_mean\"]\n",
    "    df_table[\"icer_IPTsc_low\"] = np.nan\n",
    "    df_table[\"icer_IPTsc_high\"] = np.nan\n",
    "    for i in range(1,len(df_table)):\n",
    "        icers = _sample_icers(df_table[\"incremental_cost_IPTsc_mean\"].iloc[i], df_table[\"incremental_cost_IPTsc_std\"].iloc[i], df_table[\"incremental_cases_averted_mean\"].iloc[i], df_table[\"incremental_cases_averted_std\"].iloc[i])\n",
    "        df_table[\"icer_IPTsc_low\"].iloc[i] = np.percentile(icers, 2.5)\n",
    "        df_table[\"icer_IPTsc_high\"].iloc[i] = np.percentile(icers, 97.5)\n",
    "\n",
    "    return df_table[[\"comments\",\n",
    "                     \"archetype\",\n",
    "                     \"transmission_level\",\n",
    "                     \"cases_mean\",\n",
    "                     \"incremental_cases_averted_mean\",\n",
    "                     \"incremental_cases_averted_low\",\n",
    "                     \"incremental_cases_averted_high\",\n",
    "                     \"cost_mean\",\n",
    "                     \"incremental_cost_mean\",\n",
    "                     \"incremental_cost_low\",\n",
    "                     \"incremental_cost_high\",\n",
    "                     \"icer_mean\",\n",
    "                     \"icer_low\",\n",
    "                     \"icer_high\",\n",
    "                     \"cost_IPTsc_mean\",\n",
    "                     \"incremental_cost_IPTsc_mean\",\n",
    "                     \"incremental_cost_IPTsc_low\",\n",
    "                     \"incremental_cost_IPTsc_high\",\n",
    "                     \"icer_IPTsc_mean\",\n",
    "                     \"icer_IPTsc_low\",\n",
    "                     \"icer_IPTsc_high\"]].reset_index()"
   ],
   "metadata": {
    "collapsed": false,
    "ExecuteTime": {
     "end_time": "2024-10-18T18:03:26.414171Z",
     "start_time": "2024-10-18T18:03:26.373158Z"
    }
   },
   "id": "4aff3ba4bdd3b146",
   "execution_count": 4
  },
  {
   "cell_type": "code",
   "outputs": [
    {
     "name": "stderr",
     "output_type": "stream",
     "text": [
      "C:\\Users\\joshsu\\AppData\\Local\\Temp\\ipykernel_35472\\1814481486.py:40: SettingWithCopyWarning: \n",
      "A value is trying to be set on a copy of a slice from a DataFrame\n",
      "\n",
      "See the caveats in the documentation: https://pandas.pydata.org/pandas-docs/stable/user_guide/indexing.html#returning-a-view-versus-a-copy\n",
      "  df_table[\"icer_low\"].iloc[i] = np.percentile(icers, 2.5)\n",
      "C:\\Users\\joshsu\\AppData\\Local\\Temp\\ipykernel_35472\\1814481486.py:41: SettingWithCopyWarning: \n",
      "A value is trying to be set on a copy of a slice from a DataFrame\n",
      "\n",
      "See the caveats in the documentation: https://pandas.pydata.org/pandas-docs/stable/user_guide/indexing.html#returning-a-view-versus-a-copy\n",
      "  df_table[\"icer_high\"].iloc[i] = np.percentile(icers, 97.5)\n",
      "C:\\Users\\joshsu\\AppData\\Local\\Temp\\ipykernel_35472\\1814481486.py:48: SettingWithCopyWarning: \n",
      "A value is trying to be set on a copy of a slice from a DataFrame\n",
      "\n",
      "See the caveats in the documentation: https://pandas.pydata.org/pandas-docs/stable/user_guide/indexing.html#returning-a-view-versus-a-copy\n",
      "  df_table[\"icer_IPTsc_low\"].iloc[i] = np.percentile(icers, 2.5)\n",
      "C:\\Users\\joshsu\\AppData\\Local\\Temp\\ipykernel_35472\\1814481486.py:49: SettingWithCopyWarning: \n",
      "A value is trying to be set on a copy of a slice from a DataFrame\n",
      "\n",
      "See the caveats in the documentation: https://pandas.pydata.org/pandas-docs/stable/user_guide/indexing.html#returning-a-view-versus-a-copy\n",
      "  df_table[\"icer_IPTsc_high\"].iloc[i] = np.percentile(icers, 97.5)\n"
     ]
    },
    {
     "data": {
      "text/plain": "   scenario_number    comments archetype  transmission_level  cases_mean  \\\n0                0    No IPTsc  Southern                 0.2  998.606661   \n1                6   ASAQ term  Southern                 0.2  939.800109   \n2                8     DP term  Southern                 0.2  747.883366   \n3                7  ASAQ month  Southern                 0.2  673.520540   \n4                9    DP month  Southern                 0.2  513.554611   \n\n   incremental_cases_averted_mean  incremental_cases_averted_low  \\\n0                             NaN                            NaN   \n1                       58.806552                      -0.102982   \n2                      191.916743                     121.396936   \n3                       74.362826                      -4.634596   \n4                      159.965929                      78.393939   \n\n   incremental_cases_averted_high    cost_mean  incremental_cost_mean  ...  \\\n0                             NaN  3664.479750                    NaN  ...   \n1                      117.716086  3918.859251             254.379501  ...   \n2                      262.436550  4230.775705             311.916454  ...   \n3                      153.360249  4485.500148             254.724443  ...   \n4                      241.537919  7352.704375            2867.204227  ...   \n\n   icer_mean   icer_low  icer_high  cost_IPTsc_mean  \\\n0        NaN        NaN        NaN         0.000000   \n1   4.325700 -41.526168  62.371288       447.983797   \n2   1.625270  -4.789920   8.467225      1252.164820   \n3   3.425427 -30.448549  47.281626      1719.331447   \n4  17.923843   9.269887  39.025105      4918.650930   \n\n   incremental_cost_IPTsc_mean  incremental_cost_IPTsc_low  \\\n0                          NaN                         NaN   \n1                   447.983797                  326.109889   \n2                   804.181023                  628.201707   \n3                   467.166627                  -82.785721   \n4                  3199.319483                 2429.973916   \n\n   incremental_cost_IPTsc_high  icer_IPTsc_mean  icer_IPTsc_low  \\\n0                          NaN              NaN             NaN   \n1                   569.857705         7.617923       -9.029701   \n2                   980.160338         4.190260        2.814920   \n3                  1017.118976         6.282260      -15.527849   \n4                  3968.665051        20.000006       12.155507   \n\n   icer_IPTsc_high  \n0              NaN  \n1        47.242875  \n2         6.903040  \n3        46.496570  \n4        41.831124  \n\n[5 rows x 22 columns]",
      "text/html": "<div>\n<style scoped>\n    .dataframe tbody tr th:only-of-type {\n        vertical-align: middle;\n    }\n\n    .dataframe tbody tr th {\n        vertical-align: top;\n    }\n\n    .dataframe thead th {\n        text-align: right;\n    }\n</style>\n<table border=\"1\" class=\"dataframe\">\n  <thead>\n    <tr style=\"text-align: right;\">\n      <th></th>\n      <th>scenario_number</th>\n      <th>comments</th>\n      <th>archetype</th>\n      <th>transmission_level</th>\n      <th>cases_mean</th>\n      <th>incremental_cases_averted_mean</th>\n      <th>incremental_cases_averted_low</th>\n      <th>incremental_cases_averted_high</th>\n      <th>cost_mean</th>\n      <th>incremental_cost_mean</th>\n      <th>...</th>\n      <th>icer_mean</th>\n      <th>icer_low</th>\n      <th>icer_high</th>\n      <th>cost_IPTsc_mean</th>\n      <th>incremental_cost_IPTsc_mean</th>\n      <th>incremental_cost_IPTsc_low</th>\n      <th>incremental_cost_IPTsc_high</th>\n      <th>icer_IPTsc_mean</th>\n      <th>icer_IPTsc_low</th>\n      <th>icer_IPTsc_high</th>\n    </tr>\n  </thead>\n  <tbody>\n    <tr>\n      <th>0</th>\n      <td>0</td>\n      <td>No IPTsc</td>\n      <td>Southern</td>\n      <td>0.2</td>\n      <td>998.606661</td>\n      <td>NaN</td>\n      <td>NaN</td>\n      <td>NaN</td>\n      <td>3664.479750</td>\n      <td>NaN</td>\n      <td>...</td>\n      <td>NaN</td>\n      <td>NaN</td>\n      <td>NaN</td>\n      <td>0.000000</td>\n      <td>NaN</td>\n      <td>NaN</td>\n      <td>NaN</td>\n      <td>NaN</td>\n      <td>NaN</td>\n      <td>NaN</td>\n    </tr>\n    <tr>\n      <th>1</th>\n      <td>6</td>\n      <td>ASAQ term</td>\n      <td>Southern</td>\n      <td>0.2</td>\n      <td>939.800109</td>\n      <td>58.806552</td>\n      <td>-0.102982</td>\n      <td>117.716086</td>\n      <td>3918.859251</td>\n      <td>254.379501</td>\n      <td>...</td>\n      <td>4.325700</td>\n      <td>-41.526168</td>\n      <td>62.371288</td>\n      <td>447.983797</td>\n      <td>447.983797</td>\n      <td>326.109889</td>\n      <td>569.857705</td>\n      <td>7.617923</td>\n      <td>-9.029701</td>\n      <td>47.242875</td>\n    </tr>\n    <tr>\n      <th>2</th>\n      <td>8</td>\n      <td>DP term</td>\n      <td>Southern</td>\n      <td>0.2</td>\n      <td>747.883366</td>\n      <td>191.916743</td>\n      <td>121.396936</td>\n      <td>262.436550</td>\n      <td>4230.775705</td>\n      <td>311.916454</td>\n      <td>...</td>\n      <td>1.625270</td>\n      <td>-4.789920</td>\n      <td>8.467225</td>\n      <td>1252.164820</td>\n      <td>804.181023</td>\n      <td>628.201707</td>\n      <td>980.160338</td>\n      <td>4.190260</td>\n      <td>2.814920</td>\n      <td>6.903040</td>\n    </tr>\n    <tr>\n      <th>3</th>\n      <td>7</td>\n      <td>ASAQ month</td>\n      <td>Southern</td>\n      <td>0.2</td>\n      <td>673.520540</td>\n      <td>74.362826</td>\n      <td>-4.634596</td>\n      <td>153.360249</td>\n      <td>4485.500148</td>\n      <td>254.724443</td>\n      <td>...</td>\n      <td>3.425427</td>\n      <td>-30.448549</td>\n      <td>47.281626</td>\n      <td>1719.331447</td>\n      <td>467.166627</td>\n      <td>-82.785721</td>\n      <td>1017.118976</td>\n      <td>6.282260</td>\n      <td>-15.527849</td>\n      <td>46.496570</td>\n    </tr>\n    <tr>\n      <th>4</th>\n      <td>9</td>\n      <td>DP month</td>\n      <td>Southern</td>\n      <td>0.2</td>\n      <td>513.554611</td>\n      <td>159.965929</td>\n      <td>78.393939</td>\n      <td>241.537919</td>\n      <td>7352.704375</td>\n      <td>2867.204227</td>\n      <td>...</td>\n      <td>17.923843</td>\n      <td>9.269887</td>\n      <td>39.025105</td>\n      <td>4918.650930</td>\n      <td>3199.319483</td>\n      <td>2429.973916</td>\n      <td>3968.665051</td>\n      <td>20.000006</td>\n      <td>12.155507</td>\n      <td>41.831124</td>\n    </tr>\n  </tbody>\n</table>\n<p>5 rows × 22 columns</p>\n</div>"
     },
     "execution_count": 5,
     "metadata": {},
     "output_type": "execute_result"
    }
   ],
   "source": [
    "df_single = df[(df[\"archetype\"] == \"Southern\") & (df[\"transmission_level\"] == 0.2)]\n",
    "df_single = df_single[df_single[\"scenario_number\"].isin([0, 6, 7, 8, 9])]\n",
    "df_table = generate_league_table(df_single)\n",
    "df_table.to_csv(\"league_table_southern_raw.csv\")\n",
    "df_table"
   ],
   "metadata": {
    "collapsed": false,
    "ExecuteTime": {
     "end_time": "2024-10-18T18:03:26.720284Z",
     "start_time": "2024-10-18T18:03:26.424160Z"
    }
   },
   "id": "7b2c7a4d58df1c69",
   "execution_count": 5
  },
  {
   "cell_type": "code",
   "outputs": [
    {
     "name": "stderr",
     "output_type": "stream",
     "text": [
      "C:\\Users\\joshsu\\AppData\\Local\\Temp\\ipykernel_35472\\1814481486.py:40: SettingWithCopyWarning: \n",
      "A value is trying to be set on a copy of a slice from a DataFrame\n",
      "\n",
      "See the caveats in the documentation: https://pandas.pydata.org/pandas-docs/stable/user_guide/indexing.html#returning-a-view-versus-a-copy\n",
      "  df_table[\"icer_low\"].iloc[i] = np.percentile(icers, 2.5)\n",
      "C:\\Users\\joshsu\\AppData\\Local\\Temp\\ipykernel_35472\\1814481486.py:41: SettingWithCopyWarning: \n",
      "A value is trying to be set on a copy of a slice from a DataFrame\n",
      "\n",
      "See the caveats in the documentation: https://pandas.pydata.org/pandas-docs/stable/user_guide/indexing.html#returning-a-view-versus-a-copy\n",
      "  df_table[\"icer_high\"].iloc[i] = np.percentile(icers, 97.5)\n",
      "C:\\Users\\joshsu\\AppData\\Local\\Temp\\ipykernel_35472\\1814481486.py:48: SettingWithCopyWarning: \n",
      "A value is trying to be set on a copy of a slice from a DataFrame\n",
      "\n",
      "See the caveats in the documentation: https://pandas.pydata.org/pandas-docs/stable/user_guide/indexing.html#returning-a-view-versus-a-copy\n",
      "  df_table[\"icer_IPTsc_low\"].iloc[i] = np.percentile(icers, 2.5)\n",
      "C:\\Users\\joshsu\\AppData\\Local\\Temp\\ipykernel_35472\\1814481486.py:49: SettingWithCopyWarning: \n",
      "A value is trying to be set on a copy of a slice from a DataFrame\n",
      "\n",
      "See the caveats in the documentation: https://pandas.pydata.org/pandas-docs/stable/user_guide/indexing.html#returning-a-view-versus-a-copy\n",
      "  df_table[\"icer_IPTsc_high\"].iloc[i] = np.percentile(icers, 97.5)\n"
     ]
    },
    {
     "data": {
      "text/plain": "   scenario_number    comments archetype  transmission_level   cases_mean  \\\n0                0    No IPTsc   Central                 0.2  1336.876566   \n1                6   ASAQ term   Central                 0.2  1243.182270   \n2                8     DP term   Central                 0.2   925.518857   \n3                7  ASAQ month   Central                 0.2   848.124562   \n4                9    DP month   Central                 0.2   556.799569   \n\n   incremental_cases_averted_mean  incremental_cases_averted_low  \\\n0                             NaN                            NaN   \n1                       93.694296                      33.483170   \n2                      317.663413                     253.385159   \n3                       77.394295                      -2.044341   \n4                      291.324994                     197.407807   \n\n   incremental_cases_averted_high    cost_mean  incremental_cost_mean  ...  \\\n0                             NaN  4230.297522                    NaN  ...   \n1                      153.905422  4379.377127             149.079605  ...   \n2                      381.941667  4475.992750              96.615623  ...   \n3                      156.832931  4391.929037             -84.063713  ...   \n4                      385.242181  6733.081422            2341.152385  ...   \n\n   icer_mean   icer_low  icer_high  cost_IPTsc_mean  \\\n0        NaN        NaN        NaN         0.000000   \n1   1.591128 -19.237830  24.677334       446.115274   \n2   0.304145  -4.026086   4.643178      1244.974376   \n3  -1.086175 -38.468726  32.553552      1563.487567   \n4   8.036222   4.061663  13.922634      4468.641240   \n\n   incremental_cost_IPTsc_mean  incremental_cost_IPTsc_low  \\\n0                          NaN                         NaN   \n1                   446.115274                  324.929077   \n2                   798.859101                  624.189415   \n3                   318.513191                 -181.821556   \n4                  2905.153673                 2208.276029   \n\n   incremental_cost_IPTsc_high  icer_IPTsc_mean  icer_IPTsc_low  \\\n0                          NaN              NaN             NaN   \n1                   567.301471         4.761392        2.616029   \n2                   973.528788         2.514797        1.854165   \n3                   818.847938         4.115461       -7.826320   \n4                  3602.031317         9.972209        6.739397   \n\n   icer_IPTsc_high  \n0              NaN  \n1        13.331580  \n2         3.396738  \n3        30.847138  \n4        15.534368  \n\n[5 rows x 22 columns]",
      "text/html": "<div>\n<style scoped>\n    .dataframe tbody tr th:only-of-type {\n        vertical-align: middle;\n    }\n\n    .dataframe tbody tr th {\n        vertical-align: top;\n    }\n\n    .dataframe thead th {\n        text-align: right;\n    }\n</style>\n<table border=\"1\" class=\"dataframe\">\n  <thead>\n    <tr style=\"text-align: right;\">\n      <th></th>\n      <th>scenario_number</th>\n      <th>comments</th>\n      <th>archetype</th>\n      <th>transmission_level</th>\n      <th>cases_mean</th>\n      <th>incremental_cases_averted_mean</th>\n      <th>incremental_cases_averted_low</th>\n      <th>incremental_cases_averted_high</th>\n      <th>cost_mean</th>\n      <th>incremental_cost_mean</th>\n      <th>...</th>\n      <th>icer_mean</th>\n      <th>icer_low</th>\n      <th>icer_high</th>\n      <th>cost_IPTsc_mean</th>\n      <th>incremental_cost_IPTsc_mean</th>\n      <th>incremental_cost_IPTsc_low</th>\n      <th>incremental_cost_IPTsc_high</th>\n      <th>icer_IPTsc_mean</th>\n      <th>icer_IPTsc_low</th>\n      <th>icer_IPTsc_high</th>\n    </tr>\n  </thead>\n  <tbody>\n    <tr>\n      <th>0</th>\n      <td>0</td>\n      <td>No IPTsc</td>\n      <td>Central</td>\n      <td>0.2</td>\n      <td>1336.876566</td>\n      <td>NaN</td>\n      <td>NaN</td>\n      <td>NaN</td>\n      <td>4230.297522</td>\n      <td>NaN</td>\n      <td>...</td>\n      <td>NaN</td>\n      <td>NaN</td>\n      <td>NaN</td>\n      <td>0.000000</td>\n      <td>NaN</td>\n      <td>NaN</td>\n      <td>NaN</td>\n      <td>NaN</td>\n      <td>NaN</td>\n      <td>NaN</td>\n    </tr>\n    <tr>\n      <th>1</th>\n      <td>6</td>\n      <td>ASAQ term</td>\n      <td>Central</td>\n      <td>0.2</td>\n      <td>1243.182270</td>\n      <td>93.694296</td>\n      <td>33.483170</td>\n      <td>153.905422</td>\n      <td>4379.377127</td>\n      <td>149.079605</td>\n      <td>...</td>\n      <td>1.591128</td>\n      <td>-19.237830</td>\n      <td>24.677334</td>\n      <td>446.115274</td>\n      <td>446.115274</td>\n      <td>324.929077</td>\n      <td>567.301471</td>\n      <td>4.761392</td>\n      <td>2.616029</td>\n      <td>13.331580</td>\n    </tr>\n    <tr>\n      <th>2</th>\n      <td>8</td>\n      <td>DP term</td>\n      <td>Central</td>\n      <td>0.2</td>\n      <td>925.518857</td>\n      <td>317.663413</td>\n      <td>253.385159</td>\n      <td>381.941667</td>\n      <td>4475.992750</td>\n      <td>96.615623</td>\n      <td>...</td>\n      <td>0.304145</td>\n      <td>-4.026086</td>\n      <td>4.643178</td>\n      <td>1244.974376</td>\n      <td>798.859101</td>\n      <td>624.189415</td>\n      <td>973.528788</td>\n      <td>2.514797</td>\n      <td>1.854165</td>\n      <td>3.396738</td>\n    </tr>\n    <tr>\n      <th>3</th>\n      <td>7</td>\n      <td>ASAQ month</td>\n      <td>Central</td>\n      <td>0.2</td>\n      <td>848.124562</td>\n      <td>77.394295</td>\n      <td>-2.044341</td>\n      <td>156.832931</td>\n      <td>4391.929037</td>\n      <td>-84.063713</td>\n      <td>...</td>\n      <td>-1.086175</td>\n      <td>-38.468726</td>\n      <td>32.553552</td>\n      <td>1563.487567</td>\n      <td>318.513191</td>\n      <td>-181.821556</td>\n      <td>818.847938</td>\n      <td>4.115461</td>\n      <td>-7.826320</td>\n      <td>30.847138</td>\n    </tr>\n    <tr>\n      <th>4</th>\n      <td>9</td>\n      <td>DP month</td>\n      <td>Central</td>\n      <td>0.2</td>\n      <td>556.799569</td>\n      <td>291.324994</td>\n      <td>197.407807</td>\n      <td>385.242181</td>\n      <td>6733.081422</td>\n      <td>2341.152385</td>\n      <td>...</td>\n      <td>8.036222</td>\n      <td>4.061663</td>\n      <td>13.922634</td>\n      <td>4468.641240</td>\n      <td>2905.153673</td>\n      <td>2208.276029</td>\n      <td>3602.031317</td>\n      <td>9.972209</td>\n      <td>6.739397</td>\n      <td>15.534368</td>\n    </tr>\n  </tbody>\n</table>\n<p>5 rows × 22 columns</p>\n</div>"
     },
     "execution_count": 6,
     "metadata": {},
     "output_type": "execute_result"
    }
   ],
   "source": [
    "df_single = df[(df[\"archetype\"] == \"Central\") & (df[\"transmission_level\"] == 0.2)]\n",
    "df_single = df_single[df_single[\"scenario_number\"].isin([0, 6, 7, 8, 9])]\n",
    "df_table = generate_league_table(df_single)\n",
    "df_table.to_csv(\"league_table_central_raw.csv\")\n",
    "df_table"
   ],
   "metadata": {
    "collapsed": false,
    "ExecuteTime": {
     "end_time": "2024-10-18T18:03:26.954383Z",
     "start_time": "2024-10-18T18:03:26.723270Z"
    }
   },
   "id": "5e32e37a5dd6084c",
   "execution_count": 6
  },
  {
   "cell_type": "code",
   "outputs": [
    {
     "name": "stderr",
     "output_type": "stream",
     "text": [
      "C:\\Users\\joshsu\\AppData\\Local\\Temp\\ipykernel_35472\\1814481486.py:40: SettingWithCopyWarning: \n",
      "A value is trying to be set on a copy of a slice from a DataFrame\n",
      "\n",
      "See the caveats in the documentation: https://pandas.pydata.org/pandas-docs/stable/user_guide/indexing.html#returning-a-view-versus-a-copy\n",
      "  df_table[\"icer_low\"].iloc[i] = np.percentile(icers, 2.5)\n",
      "C:\\Users\\joshsu\\AppData\\Local\\Temp\\ipykernel_35472\\1814481486.py:41: SettingWithCopyWarning: \n",
      "A value is trying to be set on a copy of a slice from a DataFrame\n",
      "\n",
      "See the caveats in the documentation: https://pandas.pydata.org/pandas-docs/stable/user_guide/indexing.html#returning-a-view-versus-a-copy\n",
      "  df_table[\"icer_high\"].iloc[i] = np.percentile(icers, 97.5)\n",
      "C:\\Users\\joshsu\\AppData\\Local\\Temp\\ipykernel_35472\\1814481486.py:48: SettingWithCopyWarning: \n",
      "A value is trying to be set on a copy of a slice from a DataFrame\n",
      "\n",
      "See the caveats in the documentation: https://pandas.pydata.org/pandas-docs/stable/user_guide/indexing.html#returning-a-view-versus-a-copy\n",
      "  df_table[\"icer_IPTsc_low\"].iloc[i] = np.percentile(icers, 2.5)\n",
      "C:\\Users\\joshsu\\AppData\\Local\\Temp\\ipykernel_35472\\1814481486.py:49: SettingWithCopyWarning: \n",
      "A value is trying to be set on a copy of a slice from a DataFrame\n",
      "\n",
      "See the caveats in the documentation: https://pandas.pydata.org/pandas-docs/stable/user_guide/indexing.html#returning-a-view-versus-a-copy\n",
      "  df_table[\"icer_IPTsc_high\"].iloc[i] = np.percentile(icers, 97.5)\n"
     ]
    },
    {
     "data": {
      "text/plain": "   scenario_number        comments archetype  transmission_level  cases_mean  \\\n0                0        No IPTsc     Sahel                 0.2  906.949171   \n1               30  u10 SMC - SPAQ     Sahel                 0.2  798.546588   \n2                6       SPAQ term     Sahel                 0.2  793.853632   \n3               32    u10 SMC - DP     Sahel                 0.2  736.303414   \n4               31  u15 SMC - SPAQ     Sahel                 0.2  696.593306   \n5                8         DP term     Sahel                 0.2  630.694474   \n6                7      SPAQ month     Sahel                 0.2  592.782363   \n7               33    u15 SMC - DP     Sahel                 0.2  565.394500   \n8                9        DP month     Sahel                 0.2  485.054379   \n\n   incremental_cases_averted_mean  incremental_cases_averted_low  \\\n0                             NaN                            NaN   \n1                      108.402583                      42.887779   \n2                        4.692955                     -58.756115   \n3                       57.550218                      -7.856304   \n4                       39.710108                     -30.962036   \n5                       65.898832                      -6.203063   \n6                       37.912111                     -33.754461   \n7                       27.387862                     -45.088404   \n8                       80.340121                       1.499747   \n\n   incremental_cases_averted_high    cost_mean  incremental_cost_mean  ...  \\\n0                             NaN  4215.096226                    NaN  ...   \n1                      173.917387  4389.542257             174.446031  ...   \n2                       68.142026  4233.259455            -156.282801  ...   \n3                      122.956740  4826.913770             593.654315  ...   \n4                      110.382252  4538.526471            -288.387299  ...   \n5                      138.000727  4665.450893             126.924422  ...   \n6                      109.578684  4438.351761            -227.099132  ...   \n7                       99.864129  5340.961619             902.609858  ...   \n8                      159.180495  6809.113440            1468.151821  ...   \n\n   icer_mean    icer_low   icer_high  cost_IPTsc_mean  \\\n0        NaN         NaN         NaN         0.000000   \n1   1.609242  -13.120237   18.171565       456.108293   \n2 -33.301575 -254.875512  249.114785       381.814261   \n3  10.315414  -51.521291   98.497414      1025.188960   \n4  -7.262315 -148.991368  125.458869       859.911344   \n5   1.926050  -39.846975   51.798136      1273.672721   \n6  -5.990147 -124.982153  114.894573      1099.839962   \n7  32.956565 -280.406425  317.585054      1934.339836   \n8  18.274205   -2.717435  115.019141      3776.741810   \n\n   incremental_cost_IPTsc_mean  incremental_cost_IPTsc_low  \\\n0                          NaN                         NaN   \n1                   456.108293                  193.488045   \n2                   -74.294032                 -364.623926   \n3                   643.374698                  352.048464   \n4                  -165.277616                 -725.975654   \n5                   413.761377                  -97.820766   \n6                  -173.832759                 -600.367339   \n7                   834.499874                  193.730352   \n8                  1842.401975                 1192.642709   \n\n   incremental_cost_IPTsc_high  icer_IPTsc_mean  icer_IPTsc_low  \\\n0                          NaN              NaN             NaN   \n1                   718.728541         4.207541        1.588749   \n2                   216.035862       -15.830970      -65.020257   \n3                   934.700933        11.179362      -48.175337   \n4                   395.420422        -4.162104      -69.019642   \n5                   925.343520         6.278736      -20.470769   \n6                   252.701821        -4.585151      -62.290917   \n7                  1475.269395        30.469697     -258.928188   \n8                  2492.161240        22.932527        7.458162   \n\n   icer_IPTsc_high  \n0              NaN  \n1        11.467202  \n2        64.653617  \n3        84.903789  \n4        59.061873  \n5        49.602928  \n6        52.910510  \n7       275.713590  \n8       138.751537  \n\n[9 rows x 22 columns]",
      "text/html": "<div>\n<style scoped>\n    .dataframe tbody tr th:only-of-type {\n        vertical-align: middle;\n    }\n\n    .dataframe tbody tr th {\n        vertical-align: top;\n    }\n\n    .dataframe thead th {\n        text-align: right;\n    }\n</style>\n<table border=\"1\" class=\"dataframe\">\n  <thead>\n    <tr style=\"text-align: right;\">\n      <th></th>\n      <th>scenario_number</th>\n      <th>comments</th>\n      <th>archetype</th>\n      <th>transmission_level</th>\n      <th>cases_mean</th>\n      <th>incremental_cases_averted_mean</th>\n      <th>incremental_cases_averted_low</th>\n      <th>incremental_cases_averted_high</th>\n      <th>cost_mean</th>\n      <th>incremental_cost_mean</th>\n      <th>...</th>\n      <th>icer_mean</th>\n      <th>icer_low</th>\n      <th>icer_high</th>\n      <th>cost_IPTsc_mean</th>\n      <th>incremental_cost_IPTsc_mean</th>\n      <th>incremental_cost_IPTsc_low</th>\n      <th>incremental_cost_IPTsc_high</th>\n      <th>icer_IPTsc_mean</th>\n      <th>icer_IPTsc_low</th>\n      <th>icer_IPTsc_high</th>\n    </tr>\n  </thead>\n  <tbody>\n    <tr>\n      <th>0</th>\n      <td>0</td>\n      <td>No IPTsc</td>\n      <td>Sahel</td>\n      <td>0.2</td>\n      <td>906.949171</td>\n      <td>NaN</td>\n      <td>NaN</td>\n      <td>NaN</td>\n      <td>4215.096226</td>\n      <td>NaN</td>\n      <td>...</td>\n      <td>NaN</td>\n      <td>NaN</td>\n      <td>NaN</td>\n      <td>0.000000</td>\n      <td>NaN</td>\n      <td>NaN</td>\n      <td>NaN</td>\n      <td>NaN</td>\n      <td>NaN</td>\n      <td>NaN</td>\n    </tr>\n    <tr>\n      <th>1</th>\n      <td>30</td>\n      <td>u10 SMC - SPAQ</td>\n      <td>Sahel</td>\n      <td>0.2</td>\n      <td>798.546588</td>\n      <td>108.402583</td>\n      <td>42.887779</td>\n      <td>173.917387</td>\n      <td>4389.542257</td>\n      <td>174.446031</td>\n      <td>...</td>\n      <td>1.609242</td>\n      <td>-13.120237</td>\n      <td>18.171565</td>\n      <td>456.108293</td>\n      <td>456.108293</td>\n      <td>193.488045</td>\n      <td>718.728541</td>\n      <td>4.207541</td>\n      <td>1.588749</td>\n      <td>11.467202</td>\n    </tr>\n    <tr>\n      <th>2</th>\n      <td>6</td>\n      <td>SPAQ term</td>\n      <td>Sahel</td>\n      <td>0.2</td>\n      <td>793.853632</td>\n      <td>4.692955</td>\n      <td>-58.756115</td>\n      <td>68.142026</td>\n      <td>4233.259455</td>\n      <td>-156.282801</td>\n      <td>...</td>\n      <td>-33.301575</td>\n      <td>-254.875512</td>\n      <td>249.114785</td>\n      <td>381.814261</td>\n      <td>-74.294032</td>\n      <td>-364.623926</td>\n      <td>216.035862</td>\n      <td>-15.830970</td>\n      <td>-65.020257</td>\n      <td>64.653617</td>\n    </tr>\n    <tr>\n      <th>3</th>\n      <td>32</td>\n      <td>u10 SMC - DP</td>\n      <td>Sahel</td>\n      <td>0.2</td>\n      <td>736.303414</td>\n      <td>57.550218</td>\n      <td>-7.856304</td>\n      <td>122.956740</td>\n      <td>4826.913770</td>\n      <td>593.654315</td>\n      <td>...</td>\n      <td>10.315414</td>\n      <td>-51.521291</td>\n      <td>98.497414</td>\n      <td>1025.188960</td>\n      <td>643.374698</td>\n      <td>352.048464</td>\n      <td>934.700933</td>\n      <td>11.179362</td>\n      <td>-48.175337</td>\n      <td>84.903789</td>\n    </tr>\n    <tr>\n      <th>4</th>\n      <td>31</td>\n      <td>u15 SMC - SPAQ</td>\n      <td>Sahel</td>\n      <td>0.2</td>\n      <td>696.593306</td>\n      <td>39.710108</td>\n      <td>-30.962036</td>\n      <td>110.382252</td>\n      <td>4538.526471</td>\n      <td>-288.387299</td>\n      <td>...</td>\n      <td>-7.262315</td>\n      <td>-148.991368</td>\n      <td>125.458869</td>\n      <td>859.911344</td>\n      <td>-165.277616</td>\n      <td>-725.975654</td>\n      <td>395.420422</td>\n      <td>-4.162104</td>\n      <td>-69.019642</td>\n      <td>59.061873</td>\n    </tr>\n    <tr>\n      <th>5</th>\n      <td>8</td>\n      <td>DP term</td>\n      <td>Sahel</td>\n      <td>0.2</td>\n      <td>630.694474</td>\n      <td>65.898832</td>\n      <td>-6.203063</td>\n      <td>138.000727</td>\n      <td>4665.450893</td>\n      <td>126.924422</td>\n      <td>...</td>\n      <td>1.926050</td>\n      <td>-39.846975</td>\n      <td>51.798136</td>\n      <td>1273.672721</td>\n      <td>413.761377</td>\n      <td>-97.820766</td>\n      <td>925.343520</td>\n      <td>6.278736</td>\n      <td>-20.470769</td>\n      <td>49.602928</td>\n    </tr>\n    <tr>\n      <th>6</th>\n      <td>7</td>\n      <td>SPAQ month</td>\n      <td>Sahel</td>\n      <td>0.2</td>\n      <td>592.782363</td>\n      <td>37.912111</td>\n      <td>-33.754461</td>\n      <td>109.578684</td>\n      <td>4438.351761</td>\n      <td>-227.099132</td>\n      <td>...</td>\n      <td>-5.990147</td>\n      <td>-124.982153</td>\n      <td>114.894573</td>\n      <td>1099.839962</td>\n      <td>-173.832759</td>\n      <td>-600.367339</td>\n      <td>252.701821</td>\n      <td>-4.585151</td>\n      <td>-62.290917</td>\n      <td>52.910510</td>\n    </tr>\n    <tr>\n      <th>7</th>\n      <td>33</td>\n      <td>u15 SMC - DP</td>\n      <td>Sahel</td>\n      <td>0.2</td>\n      <td>565.394500</td>\n      <td>27.387862</td>\n      <td>-45.088404</td>\n      <td>99.864129</td>\n      <td>5340.961619</td>\n      <td>902.609858</td>\n      <td>...</td>\n      <td>32.956565</td>\n      <td>-280.406425</td>\n      <td>317.585054</td>\n      <td>1934.339836</td>\n      <td>834.499874</td>\n      <td>193.730352</td>\n      <td>1475.269395</td>\n      <td>30.469697</td>\n      <td>-258.928188</td>\n      <td>275.713590</td>\n    </tr>\n    <tr>\n      <th>8</th>\n      <td>9</td>\n      <td>DP month</td>\n      <td>Sahel</td>\n      <td>0.2</td>\n      <td>485.054379</td>\n      <td>80.340121</td>\n      <td>1.499747</td>\n      <td>159.180495</td>\n      <td>6809.113440</td>\n      <td>1468.151821</td>\n      <td>...</td>\n      <td>18.274205</td>\n      <td>-2.717435</td>\n      <td>115.019141</td>\n      <td>3776.741810</td>\n      <td>1842.401975</td>\n      <td>1192.642709</td>\n      <td>2492.161240</td>\n      <td>22.932527</td>\n      <td>7.458162</td>\n      <td>138.751537</td>\n    </tr>\n  </tbody>\n</table>\n<p>9 rows × 22 columns</p>\n</div>"
     },
     "execution_count": 7,
     "metadata": {},
     "output_type": "execute_result"
    }
   ],
   "source": [
    "df_single = df[(df[\"archetype\"] == \"Sahel\") & (df[\"transmission_level\"] == 0.2)]\n",
    "df_single = df_single[df_single[\"scenario_number\"].isin([0, 6, 7, 8, 9, 30, 31, 32, 33])]\n",
    "df_table = generate_league_table(df_single)\n",
    "df_table.to_csv(\"league_table_sahel_raw.csv\")\n",
    "df_table"
   ],
   "metadata": {
    "collapsed": false,
    "ExecuteTime": {
     "end_time": "2024-10-18T18:03:27.446386Z",
     "start_time": "2024-10-18T18:03:26.957395Z"
    }
   },
   "id": "bc411a11a077ec3a",
   "execution_count": 7
  },
  {
   "cell_type": "code",
   "outputs": [],
   "source": [
    "def generate_league_table_PRETTY(df):\n",
    "    # df: dataframe for single archetype and single transmission level\n",
    "    # rows are scenarios ordered by descending cases\n",
    "    # columns are cases, costs, incremental costs, incremental cases, cost-effectiveness ratio\n",
    "    \n",
    "    df_table = df.copy()\n",
    "    \n",
    "    # Set index to scenario number\n",
    "    df_table = df_table.set_index(\"scenario_number\")\n",
    "    \n",
    "    # Sort by descending cases\n",
    "    df_table = df_table.sort_values(\"cases_mean\", ascending=False)\n",
    "    \n",
    "    df_table[\"incremental_cost_mean\"] = df_table[\"cost_mean\"].diff()\n",
    "    df_table[\"incremental_cost_std\"] = np.sqrt(df_table[\"cost_std\"]**2 + df_table[\"cost_std\"].shift(1)**2)\n",
    "    df_table[\"incremental_cost_low\"] = df_table[\"incremental_cost_mean\"] - 1.96*df_table[\"incremental_cost_std\"]\n",
    "    df_table[\"incremental_cost_high\"] = df_table[\"incremental_cost_mean\"] + 1.96*df_table[\"incremental_cost_std\"]\n",
    "    \n",
    "    df_table[\"incremental_cost_IPTsc_mean\"] = df_table[\"cost_IPTsc_mean\"].diff()\n",
    "    df_table[\"incremental_cost_IPTsc_std\"] = np.sqrt(df_table[\"cost_IPTsc_std\"]**2 + df_table[\"cost_IPTsc_std\"].shift(1)**2)\n",
    "    df_table[\"incremental_cost_IPTsc_low\"] = df_table[\"incremental_cost_IPTsc_mean\"] - 1.96*df_table[\"incremental_cost_IPTsc_std\"]\n",
    "    df_table[\"incremental_cost_IPTsc_high\"] = df_table[\"incremental_cost_IPTsc_mean\"] + 1.96*df_table[\"incremental_cost_IPTsc_std\"]\n",
    "    \n",
    "    df_table[\"incremental_cases_averted_mean\"] = -df_table[\"cases_mean\"].diff()\n",
    "    df_table[\"incremental_cases_averted_std\"] = np.sqrt(df_table[\"cases_std\"]**2 + df_table[\"cases_std\"].shift(1)**2)\n",
    "    df_table[\"incremental_cases_averted_low\"] = df_table[\"incremental_cases_averted_mean\"] - 1.96*df_table[\"incremental_cases_averted_std\"]\n",
    "    df_table[\"incremental_cases_averted_high\"] = df_table[\"incremental_cases_averted_mean\"] + 1.96*df_table[\"incremental_cases_averted_std\"]\n",
    "    \n",
    "\n",
    "    def _sample_icers(ico_mean, ico_std, ica_mean, ica_std, n=100000):\n",
    "        ico = np.random.normal(ico_mean, ico_std, n)\n",
    "        ica = np.random.normal(ica_mean, ica_std, n)\n",
    "        return ico / ica\n",
    "    \n",
    "    df_table[\"icer_mean\"] = df_table[\"incremental_cost_mean\"] / df_table[\"incremental_cases_averted_mean\"]\n",
    "    df_table[\"icer_low\"] = np.nan\n",
    "    df_table[\"icer_high\"] = np.nan\n",
    "    for i in range(1,len(df_table)):\n",
    "        icers = _sample_icers(df_table[\"incremental_cost_mean\"].iloc[i], df_table[\"incremental_cost_std\"].iloc[i], df_table[\"incremental_cases_averted_mean\"].iloc[i], df_table[\"incremental_cases_averted_std\"].iloc[i])\n",
    "        df_table[\"icer_low\"].iloc[i] = np.percentile(icers, 2.5)\n",
    "        df_table[\"icer_high\"].iloc[i] = np.percentile(icers, 97.5)\n",
    "\n",
    "    df_table[\"icer_IPTsc_mean\"] = df_table[\"incremental_cost_IPTsc_mean\"] / df_table[\"incremental_cases_averted_mean\"]\n",
    "    df_table[\"icer_IPTsc_low\"] = np.nan\n",
    "    df_table[\"icer_IPTsc_high\"] = np.nan\n",
    "    for i in range(1,len(df_table)):\n",
    "        icers = _sample_icers(df_table[\"incremental_cost_IPTsc_mean\"].iloc[i], df_table[\"incremental_cost_IPTsc_std\"].iloc[i], df_table[\"incremental_cases_averted_mean\"].iloc[i], df_table[\"incremental_cases_averted_std\"].iloc[i])\n",
    "        df_table[\"icer_IPTsc_low\"].iloc[i] = np.percentile(icers, 2.5)\n",
    "        df_table[\"icer_IPTsc_high\"].iloc[i] = np.percentile(icers, 97.5)\n",
    "\n",
    "    # Format things nicely\n",
    "    df_table[\"cases_mean\"] = df_table[\"cases_mean\"].apply(lambda x: \"{:.1f}\".format(x))\n",
    "    df_table[\"cases_std\"] = df_table[\"cases_std\"].apply(lambda x: \"{:.1f}\".format(x))\n",
    "    df_table = df_table.reset_index()\n",
    "    df_table.rename(columns={\"comments\": \"Scenario\"}, inplace=True)\n",
    "\n",
    "    # Make new \"Cases\" column which has the format: \"{mean} ({low} - {high})\"\n",
    "    df_table[\"cases_low\"] = (df_table[\"cases_mean\"].astype(float) - 1.96*df_table[\"cases_std\"].astype(float)).apply(lambda x: \"{:.1f}\".format(x))\n",
    "    df_table[\"cases_high\"] = (df_table[\"cases_mean\"].astype(float) + 1.96*df_table[\"cases_std\"].astype(float)).apply(lambda x: \"{:.1f}\".format(x))\n",
    "    df_table[\"cases_mean\"] = df_table[\"cases_mean\"].astype(str)\n",
    "    df_table[\"Cases\"] = df_table[\"cases_mean\"] + \" (\" + df_table[\"cases_low\"] + \" - \" + df_table[\"cases_high\"] + \")\"\n",
    "    \n",
    "    # Same for incremental cases\n",
    "    df_table[\"incremental_cases_averted_low\"] = df_table[\"incremental_cases_averted_low\"].apply(lambda x: \"{:.1f}\".format(x))\n",
    "    df_table[\"incremental_cases_averted_high\"] = df_table[\"incremental_cases_averted_high\"].apply(lambda x: \"{:.1f}\".format(x))\n",
    "    df_table[\"incremental_cases_averted_mean\"] = df_table[\"incremental_cases_averted_mean\"].apply(lambda x: \"{:.1f}\".format(x))\n",
    "    df_table[\"Incremental Cases Averted\"] = df_table[\"incremental_cases_averted_mean\"] + \" (\" + df_table[\"incremental_cases_averted_low\"] + \" - \" + df_table[\"incremental_cases_averted_high\"] + \")\"\n",
    "    \n",
    "    # HEALTH SYSTEM PERSPECTIVE \n",
    "    # Same for costs\n",
    "    df_table[\"cost_low\"] = (df_table[\"cost_mean\"] - 1.96*df_table[\"cost_std\"]).apply(lambda x: \"{:.1f}\".format(x))\n",
    "    df_table[\"cost_high\"] = (df_table[\"cost_mean\"] + 1.96*df_table[\"cost_std\"]).apply(lambda x: \"{:.1f}\".format(x))\n",
    "    df_table[\"cost_mean\"] = df_table[\"cost_mean\"].apply(lambda x: \"{:.1f}\".format(x))\n",
    "    df_table[\"Cost (Health System Perspective)\"] = df_table[\"cost_mean\"] + \" (\" + df_table[\"cost_low\"] + \" - \" + df_table[\"cost_high\"] + \")\"\n",
    "    \n",
    "    # Same for incremental costs\n",
    "    df_table[\"incremental_cost_low\"] = df_table[\"incremental_cost_low\"].apply(lambda x: \"{:.1f}\".format(x))\n",
    "    df_table[\"incremental_cost_high\"] = df_table[\"incremental_cost_high\"].apply(lambda x: \"{:.1f}\".format(x)\n",
    "    )\n",
    "    df_table[\"incremental_cost_mean\"] = df_table[\"incremental_cost_mean\"].apply(lambda x: \"{:.1f}\".format(x))\n",
    "    df_table[\"Incremental Cost (Health System Perspective)\"] = df_table[\"incremental_cost_mean\"] + \" (\" + df_table[\"incremental_cost_low\"] + \" - \" + df_table[\"incremental_cost_high\"] + \")\"\n",
    "    \n",
    "    # Same for ICER\n",
    "    df_table[\"icer_low\"] = df_table[\"icer_low\"].apply(lambda x: \"{:.1f}\".format(x))\n",
    "    df_table[\"icer_high\"] = df_table[\"icer_high\"].apply(lambda x: \"{:.1f}\".format(x))\n",
    "    df_table[\"icer_mean\"] = df_table[\"icer_mean\"].apply(lambda x: \"{:.1f}\".format(x))\n",
    "    # If low-end of ICER is negative, it's dominant\n",
    "    df_table[\"icer_low\"] = df_table[\"icer_low\"].apply(lambda x: \"Dominant\" if float(x) < 0 else x)\n",
    "    df_table[\"ICER (Health System Perspective)\"] = df_table[\"icer_mean\"] + \" (\" + df_table[\"icer_low\"] + \" - \" + df_table[\"icer_high\"] + \")\"\n",
    "    \n",
    "    \n",
    "    # FUNDER PERSPECTIVE\n",
    "    # Same for IPTsc costs\n",
    "    df_table[\"cost_IPTsc_low\"] = (df_table[\"cost_IPTsc_mean\"] - 1.96*df_table[\"cost_IPTsc_std\"]).apply(lambda x: \"{:.1f}\".format(x))\n",
    "    df_table[\"cost_IPTsc_high\"] = (df_table[\"cost_IPTsc_mean\"] + 1.96*df_table[\"cost_IPTsc_std\"]).apply(lambda x: \"{:.1f}\".format(x))\n",
    "    df_table[\"cost_IPTsc_mean\"] = df_table[\"cost_IPTsc_mean\"].apply(lambda x: \"{:.1f}\".format(x))\n",
    "    df_table[\"Cost (Funder Perspective)\"] = df_table[\"cost_IPTsc_mean\"] + \" (\" + df_table[\"cost_IPTsc_low\"] + \" - \" + df_table[\"cost_IPTsc_high\"] + \")\"\n",
    "\n",
    "    # Same for incremental IPTsc costs\n",
    "    df_table[\"incremental_cost_IPTsc_low\"] = df_table[\"incremental_cost_IPTsc_low\"].apply(lambda x: \"{:.1f}\".format(x))\n",
    "    df_table[\"incremental_cost_IPTsc_high\"] = df_table[\"incremental_cost_IPTsc_high\"].apply(lambda x: \"{:.1f}\".format(x))\n",
    "    df_table[\"incremental_cost_IPTsc_mean\"] = df_table[\"incremental_cost_IPTsc_mean\"].apply(lambda x: \"{:.1f}\".format(x))\n",
    "    df_table[\"Incremental Cost (Funder Perspective)\"] = df_table[\"incremental_cost_IPTsc_mean\"] + \" (\" + df_table[\"incremental_cost_IPTsc_low\"] + \" - \" + df_table[\"incremental_cost_IPTsc_high\"] + \")\"\n",
    "\n",
    "    # Same for IPTsc ICER\n",
    "    df_table[\"icer_IPTsc_low\"] = df_table[\"icer_IPTsc_low\"].apply(lambda x: \"{:.1f}\".format(x))\n",
    "    df_table[\"icer_IPTsc_high\"] = df_table[\"icer_IPTsc_high\"].apply(lambda x: \"{:.1f}\".format(x))\n",
    "    df_table[\"icer_IPTsc_mean\"] = df_table[\"icer_IPTsc_mean\"].apply(lambda x: \"{:.1f}\".format(x))\n",
    "    # If low-end of ICER is negative, it's dominant\n",
    "    df_table[\"icer_IPTsc_low\"] = df_table[\"icer_IPTsc_low\"].apply(lambda x: \"Dominant\" if float(x) < 0 else x)\n",
    "    df_table[\"ICER (Funder Perspective)\"] = df_table[\"icer_IPTsc_mean\"] + \" (\" + df_table[\"icer_IPTsc_low\"] + \" - \" + df_table[\"icer_IPTsc_high\"] + \")\"\n",
    "\n",
    "    df_table = df_table[[\"Scenario\",\n",
    "                         \"Cases\",\n",
    "                         \"Incremental Cases Averted\",\n",
    "                         \"Cost (Funder Perspective)\",\n",
    "                         \"Incremental Cost (Funder Perspective)\",\n",
    "                         \"ICER (Funder Perspective)\",\n",
    "                         \"Cost (Health System Perspective)\",\n",
    "                         \"Incremental Cost (Health System Perspective)\",\n",
    "                         \"ICER (Health System Perspective)\",\n",
    "                         ]]\n",
    "    return df_table"
   ],
   "metadata": {
    "collapsed": false,
    "ExecuteTime": {
     "end_time": "2024-10-18T18:03:27.555384Z",
     "start_time": "2024-10-18T18:03:27.450382Z"
    }
   },
   "id": "1c0186f3d29ab555",
   "execution_count": 8
  },
  {
   "cell_type": "code",
   "outputs": [
    {
     "name": "stderr",
     "output_type": "stream",
     "text": [
      "C:\\Users\\joshsu\\AppData\\Local\\Temp\\ipykernel_35472\\559688894.py:40: SettingWithCopyWarning: \n",
      "A value is trying to be set on a copy of a slice from a DataFrame\n",
      "\n",
      "See the caveats in the documentation: https://pandas.pydata.org/pandas-docs/stable/user_guide/indexing.html#returning-a-view-versus-a-copy\n",
      "  df_table[\"icer_low\"].iloc[i] = np.percentile(icers, 2.5)\n",
      "C:\\Users\\joshsu\\AppData\\Local\\Temp\\ipykernel_35472\\559688894.py:41: SettingWithCopyWarning: \n",
      "A value is trying to be set on a copy of a slice from a DataFrame\n",
      "\n",
      "See the caveats in the documentation: https://pandas.pydata.org/pandas-docs/stable/user_guide/indexing.html#returning-a-view-versus-a-copy\n",
      "  df_table[\"icer_high\"].iloc[i] = np.percentile(icers, 97.5)\n",
      "C:\\Users\\joshsu\\AppData\\Local\\Temp\\ipykernel_35472\\559688894.py:48: SettingWithCopyWarning: \n",
      "A value is trying to be set on a copy of a slice from a DataFrame\n",
      "\n",
      "See the caveats in the documentation: https://pandas.pydata.org/pandas-docs/stable/user_guide/indexing.html#returning-a-view-versus-a-copy\n",
      "  df_table[\"icer_IPTsc_low\"].iloc[i] = np.percentile(icers, 2.5)\n",
      "C:\\Users\\joshsu\\AppData\\Local\\Temp\\ipykernel_35472\\559688894.py:49: SettingWithCopyWarning: \n",
      "A value is trying to be set on a copy of a slice from a DataFrame\n",
      "\n",
      "See the caveats in the documentation: https://pandas.pydata.org/pandas-docs/stable/user_guide/indexing.html#returning-a-view-versus-a-copy\n",
      "  df_table[\"icer_IPTsc_high\"].iloc[i] = np.percentile(icers, 97.5)\n"
     ]
    },
    {
     "data": {
      "text/plain": "     Scenario                   Cases Incremental Cases Averted  \\\n0    No IPTsc  998.6 (959.0 - 1038.2)           nan (nan - nan)   \n1   ASAQ term   939.8 (896.3 - 983.3)       58.8 (-0.1 - 117.7)   \n2     DP term   747.9 (692.4 - 803.4)     191.9 (121.4 - 262.4)   \n3  ASAQ month   673.5 (617.2 - 729.8)       74.4 (-4.6 - 153.4)   \n4    DP month   513.6 (454.6 - 572.6)      160.0 (78.4 - 241.5)   \n\n  Cost (Funder Perspective) Incremental Cost (Funder Perspective)  \\\n0           0.0 (0.0 - 0.0)                       nan (nan - nan)   \n1     448.0 (326.1 - 569.9)                 448.0 (326.1 - 569.9)   \n2  1252.2 (1125.2 - 1379.1)                 804.2 (628.2 - 980.2)   \n3  1719.3 (1184.2 - 2254.4)                467.2 (-82.8 - 1017.1)   \n4  4918.7 (4365.9 - 5471.4)              3199.3 (2430.0 - 3968.7)   \n\n  ICER (Funder Perspective) Cost (Health System Perspective)  \\\n0           nan (nan - nan)         3664.5 (2699.8 - 4629.2)   \n1          7.6 (2.3 - 47.8)         3918.9 (3010.8 - 4826.9)   \n2           4.2 (2.8 - 6.9)         4230.8 (3485.2 - 4976.4)   \n3     6.3 (Dominant - 46.9)         4485.5 (3634.4 - 5336.6)   \n4        20.0 (12.2 - 42.0)         7352.7 (6573.1 - 8132.3)   \n\n  Incremental Cost (Health System Perspective)  \\\n0                              nan (nan - nan)   \n1                     254.4 (-1070.5 - 1579.3)   \n2                      311.9 (-863.1 - 1486.9)   \n3                      254.7 (-876.8 - 1386.2)   \n4                     2867.2 (1713.0 - 4021.4)   \n\n  ICER (Health System Perspective)  \n0                  nan (nan - nan)  \n1            4.3 (Dominant - 61.8)  \n2             1.6 (Dominant - 8.5)  \n3            3.4 (Dominant - 48.2)  \n4                17.9 (9.3 - 39.1)  ",
      "text/html": "<div>\n<style scoped>\n    .dataframe tbody tr th:only-of-type {\n        vertical-align: middle;\n    }\n\n    .dataframe tbody tr th {\n        vertical-align: top;\n    }\n\n    .dataframe thead th {\n        text-align: right;\n    }\n</style>\n<table border=\"1\" class=\"dataframe\">\n  <thead>\n    <tr style=\"text-align: right;\">\n      <th></th>\n      <th>Scenario</th>\n      <th>Cases</th>\n      <th>Incremental Cases Averted</th>\n      <th>Cost (Funder Perspective)</th>\n      <th>Incremental Cost (Funder Perspective)</th>\n      <th>ICER (Funder Perspective)</th>\n      <th>Cost (Health System Perspective)</th>\n      <th>Incremental Cost (Health System Perspective)</th>\n      <th>ICER (Health System Perspective)</th>\n    </tr>\n  </thead>\n  <tbody>\n    <tr>\n      <th>0</th>\n      <td>No IPTsc</td>\n      <td>998.6 (959.0 - 1038.2)</td>\n      <td>nan (nan - nan)</td>\n      <td>0.0 (0.0 - 0.0)</td>\n      <td>nan (nan - nan)</td>\n      <td>nan (nan - nan)</td>\n      <td>3664.5 (2699.8 - 4629.2)</td>\n      <td>nan (nan - nan)</td>\n      <td>nan (nan - nan)</td>\n    </tr>\n    <tr>\n      <th>1</th>\n      <td>ASAQ term</td>\n      <td>939.8 (896.3 - 983.3)</td>\n      <td>58.8 (-0.1 - 117.7)</td>\n      <td>448.0 (326.1 - 569.9)</td>\n      <td>448.0 (326.1 - 569.9)</td>\n      <td>7.6 (2.3 - 47.8)</td>\n      <td>3918.9 (3010.8 - 4826.9)</td>\n      <td>254.4 (-1070.5 - 1579.3)</td>\n      <td>4.3 (Dominant - 61.8)</td>\n    </tr>\n    <tr>\n      <th>2</th>\n      <td>DP term</td>\n      <td>747.9 (692.4 - 803.4)</td>\n      <td>191.9 (121.4 - 262.4)</td>\n      <td>1252.2 (1125.2 - 1379.1)</td>\n      <td>804.2 (628.2 - 980.2)</td>\n      <td>4.2 (2.8 - 6.9)</td>\n      <td>4230.8 (3485.2 - 4976.4)</td>\n      <td>311.9 (-863.1 - 1486.9)</td>\n      <td>1.6 (Dominant - 8.5)</td>\n    </tr>\n    <tr>\n      <th>3</th>\n      <td>ASAQ month</td>\n      <td>673.5 (617.2 - 729.8)</td>\n      <td>74.4 (-4.6 - 153.4)</td>\n      <td>1719.3 (1184.2 - 2254.4)</td>\n      <td>467.2 (-82.8 - 1017.1)</td>\n      <td>6.3 (Dominant - 46.9)</td>\n      <td>4485.5 (3634.4 - 5336.6)</td>\n      <td>254.7 (-876.8 - 1386.2)</td>\n      <td>3.4 (Dominant - 48.2)</td>\n    </tr>\n    <tr>\n      <th>4</th>\n      <td>DP month</td>\n      <td>513.6 (454.6 - 572.6)</td>\n      <td>160.0 (78.4 - 241.5)</td>\n      <td>4918.7 (4365.9 - 5471.4)</td>\n      <td>3199.3 (2430.0 - 3968.7)</td>\n      <td>20.0 (12.2 - 42.0)</td>\n      <td>7352.7 (6573.1 - 8132.3)</td>\n      <td>2867.2 (1713.0 - 4021.4)</td>\n      <td>17.9 (9.3 - 39.1)</td>\n    </tr>\n  </tbody>\n</table>\n</div>"
     },
     "execution_count": 9,
     "metadata": {},
     "output_type": "execute_result"
    }
   ],
   "source": [
    "df_single = df[(df[\"archetype\"] == \"Southern\") & (df[\"transmission_level\"] == 0.2)]\n",
    "df_single = df_single[df_single[\"scenario_number\"].isin([0, 6, 7, 8, 9])]\n",
    "df_table = generate_league_table_PRETTY(df_single)\n",
    "df_table.to_csv(\"league_table_southern_pretty.csv\")\n",
    "df_table"
   ],
   "metadata": {
    "collapsed": false,
    "ExecuteTime": {
     "end_time": "2024-10-18T18:03:27.968700Z",
     "start_time": "2024-10-18T18:03:27.559383Z"
    }
   },
   "id": "93d12f59163a3596",
   "execution_count": 9
  },
  {
   "cell_type": "code",
   "outputs": [
    {
     "name": "stderr",
     "output_type": "stream",
     "text": [
      "C:\\Users\\joshsu\\AppData\\Local\\Temp\\ipykernel_35472\\559688894.py:40: SettingWithCopyWarning: \n",
      "A value is trying to be set on a copy of a slice from a DataFrame\n",
      "\n",
      "See the caveats in the documentation: https://pandas.pydata.org/pandas-docs/stable/user_guide/indexing.html#returning-a-view-versus-a-copy\n",
      "  df_table[\"icer_low\"].iloc[i] = np.percentile(icers, 2.5)\n",
      "C:\\Users\\joshsu\\AppData\\Local\\Temp\\ipykernel_35472\\559688894.py:41: SettingWithCopyWarning: \n",
      "A value is trying to be set on a copy of a slice from a DataFrame\n",
      "\n",
      "See the caveats in the documentation: https://pandas.pydata.org/pandas-docs/stable/user_guide/indexing.html#returning-a-view-versus-a-copy\n",
      "  df_table[\"icer_high\"].iloc[i] = np.percentile(icers, 97.5)\n",
      "C:\\Users\\joshsu\\AppData\\Local\\Temp\\ipykernel_35472\\559688894.py:48: SettingWithCopyWarning: \n",
      "A value is trying to be set on a copy of a slice from a DataFrame\n",
      "\n",
      "See the caveats in the documentation: https://pandas.pydata.org/pandas-docs/stable/user_guide/indexing.html#returning-a-view-versus-a-copy\n",
      "  df_table[\"icer_IPTsc_low\"].iloc[i] = np.percentile(icers, 2.5)\n",
      "C:\\Users\\joshsu\\AppData\\Local\\Temp\\ipykernel_35472\\559688894.py:49: SettingWithCopyWarning: \n",
      "A value is trying to be set on a copy of a slice from a DataFrame\n",
      "\n",
      "See the caveats in the documentation: https://pandas.pydata.org/pandas-docs/stable/user_guide/indexing.html#returning-a-view-versus-a-copy\n",
      "  df_table[\"icer_IPTsc_high\"].iloc[i] = np.percentile(icers, 97.5)\n"
     ]
    },
    {
     "data": {
      "text/plain": "     Scenario                     Cases Incremental Cases Averted  \\\n0    No IPTsc  1336.9 (1296.5 - 1377.3)           nan (nan - nan)   \n1   ASAQ term  1243.2 (1198.5 - 1287.9)       93.7 (33.5 - 153.9)   \n2     DP term     925.5 (879.2 - 971.8)     317.7 (253.4 - 381.9)   \n3  ASAQ month     848.1 (783.6 - 912.6)       77.4 (-2.0 - 156.8)   \n4    DP month     556.8 (488.6 - 625.0)     291.3 (197.4 - 385.2)   \n\n  Cost (Funder Perspective) Incremental Cost (Funder Perspective)  \\\n0           0.0 (0.0 - 0.0)                       nan (nan - nan)   \n1     446.1 (324.9 - 567.3)                 446.1 (324.9 - 567.3)   \n2  1245.0 (1119.2 - 1370.8)                 798.9 (624.2 - 973.5)   \n3  1563.5 (1079.2 - 2047.8)                318.5 (-181.8 - 818.8)   \n4  4468.6 (3967.5 - 4969.8)              2905.2 (2208.3 - 3602.0)   \n\n  ICER (Funder Perspective) Cost (Health System Perspective)  \\\n0           nan (nan - nan)         4230.3 (3071.7 - 5388.9)   \n1          4.8 (2.6 - 13.4)         4379.4 (3314.6 - 5444.2)   \n2           2.5 (1.9 - 3.4)         4476.0 (3646.5 - 5305.4)   \n3     4.1 (Dominant - 31.4)         4391.9 (3547.9 - 5235.9)   \n4         10.0 (6.7 - 15.6)         6733.1 (6032.0 - 7434.2)   \n\n  Incremental Cost (Health System Perspective)  \\\n0                              nan (nan - nan)   \n1                     149.1 (-1424.5 - 1722.6)   \n2                      96.6 (-1253.1 - 1446.3)   \n3                     -84.1 (-1267.4 - 1099.3)   \n4                     2341.2 (1243.9 - 3438.4)   \n\n  ICER (Health System Perspective)  \n0                  nan (nan - nan)  \n1            1.6 (Dominant - 24.2)  \n2             0.3 (Dominant - 4.7)  \n3           -1.1 (Dominant - 31.6)  \n4                 8.0 (4.0 - 13.9)  ",
      "text/html": "<div>\n<style scoped>\n    .dataframe tbody tr th:only-of-type {\n        vertical-align: middle;\n    }\n\n    .dataframe tbody tr th {\n        vertical-align: top;\n    }\n\n    .dataframe thead th {\n        text-align: right;\n    }\n</style>\n<table border=\"1\" class=\"dataframe\">\n  <thead>\n    <tr style=\"text-align: right;\">\n      <th></th>\n      <th>Scenario</th>\n      <th>Cases</th>\n      <th>Incremental Cases Averted</th>\n      <th>Cost (Funder Perspective)</th>\n      <th>Incremental Cost (Funder Perspective)</th>\n      <th>ICER (Funder Perspective)</th>\n      <th>Cost (Health System Perspective)</th>\n      <th>Incremental Cost (Health System Perspective)</th>\n      <th>ICER (Health System Perspective)</th>\n    </tr>\n  </thead>\n  <tbody>\n    <tr>\n      <th>0</th>\n      <td>No IPTsc</td>\n      <td>1336.9 (1296.5 - 1377.3)</td>\n      <td>nan (nan - nan)</td>\n      <td>0.0 (0.0 - 0.0)</td>\n      <td>nan (nan - nan)</td>\n      <td>nan (nan - nan)</td>\n      <td>4230.3 (3071.7 - 5388.9)</td>\n      <td>nan (nan - nan)</td>\n      <td>nan (nan - nan)</td>\n    </tr>\n    <tr>\n      <th>1</th>\n      <td>ASAQ term</td>\n      <td>1243.2 (1198.5 - 1287.9)</td>\n      <td>93.7 (33.5 - 153.9)</td>\n      <td>446.1 (324.9 - 567.3)</td>\n      <td>446.1 (324.9 - 567.3)</td>\n      <td>4.8 (2.6 - 13.4)</td>\n      <td>4379.4 (3314.6 - 5444.2)</td>\n      <td>149.1 (-1424.5 - 1722.6)</td>\n      <td>1.6 (Dominant - 24.2)</td>\n    </tr>\n    <tr>\n      <th>2</th>\n      <td>DP term</td>\n      <td>925.5 (879.2 - 971.8)</td>\n      <td>317.7 (253.4 - 381.9)</td>\n      <td>1245.0 (1119.2 - 1370.8)</td>\n      <td>798.9 (624.2 - 973.5)</td>\n      <td>2.5 (1.9 - 3.4)</td>\n      <td>4476.0 (3646.5 - 5305.4)</td>\n      <td>96.6 (-1253.1 - 1446.3)</td>\n      <td>0.3 (Dominant - 4.7)</td>\n    </tr>\n    <tr>\n      <th>3</th>\n      <td>ASAQ month</td>\n      <td>848.1 (783.6 - 912.6)</td>\n      <td>77.4 (-2.0 - 156.8)</td>\n      <td>1563.5 (1079.2 - 2047.8)</td>\n      <td>318.5 (-181.8 - 818.8)</td>\n      <td>4.1 (Dominant - 31.4)</td>\n      <td>4391.9 (3547.9 - 5235.9)</td>\n      <td>-84.1 (-1267.4 - 1099.3)</td>\n      <td>-1.1 (Dominant - 31.6)</td>\n    </tr>\n    <tr>\n      <th>4</th>\n      <td>DP month</td>\n      <td>556.8 (488.6 - 625.0)</td>\n      <td>291.3 (197.4 - 385.2)</td>\n      <td>4468.6 (3967.5 - 4969.8)</td>\n      <td>2905.2 (2208.3 - 3602.0)</td>\n      <td>10.0 (6.7 - 15.6)</td>\n      <td>6733.1 (6032.0 - 7434.2)</td>\n      <td>2341.2 (1243.9 - 3438.4)</td>\n      <td>8.0 (4.0 - 13.9)</td>\n    </tr>\n  </tbody>\n</table>\n</div>"
     },
     "execution_count": 10,
     "metadata": {},
     "output_type": "execute_result"
    }
   ],
   "source": [
    "df_single = df[(df[\"archetype\"] == \"Central\") & (df[\"transmission_level\"] == 0.2)]\n",
    "df_single = df_single[df_single[\"scenario_number\"].isin([0, 6, 7, 8, 9])]\n",
    "df_table = generate_league_table_PRETTY(df_single)\n",
    "df_table.to_csv(\"league_table_central_pretty.csv\")\n",
    "df_table"
   ],
   "metadata": {
    "collapsed": false,
    "ExecuteTime": {
     "end_time": "2024-10-18T18:03:28.359257Z",
     "start_time": "2024-10-18T18:03:27.973266Z"
    }
   },
   "id": "6167e5d3267a8943",
   "execution_count": 10
  },
  {
   "cell_type": "code",
   "outputs": [
    {
     "name": "stderr",
     "output_type": "stream",
     "text": [
      "C:\\Users\\joshsu\\AppData\\Local\\Temp\\ipykernel_35472\\559688894.py:40: SettingWithCopyWarning: \n",
      "A value is trying to be set on a copy of a slice from a DataFrame\n",
      "\n",
      "See the caveats in the documentation: https://pandas.pydata.org/pandas-docs/stable/user_guide/indexing.html#returning-a-view-versus-a-copy\n",
      "  df_table[\"icer_low\"].iloc[i] = np.percentile(icers, 2.5)\n",
      "C:\\Users\\joshsu\\AppData\\Local\\Temp\\ipykernel_35472\\559688894.py:41: SettingWithCopyWarning: \n",
      "A value is trying to be set on a copy of a slice from a DataFrame\n",
      "\n",
      "See the caveats in the documentation: https://pandas.pydata.org/pandas-docs/stable/user_guide/indexing.html#returning-a-view-versus-a-copy\n",
      "  df_table[\"icer_high\"].iloc[i] = np.percentile(icers, 97.5)\n",
      "C:\\Users\\joshsu\\AppData\\Local\\Temp\\ipykernel_35472\\559688894.py:48: SettingWithCopyWarning: \n",
      "A value is trying to be set on a copy of a slice from a DataFrame\n",
      "\n",
      "See the caveats in the documentation: https://pandas.pydata.org/pandas-docs/stable/user_guide/indexing.html#returning-a-view-versus-a-copy\n",
      "  df_table[\"icer_IPTsc_low\"].iloc[i] = np.percentile(icers, 2.5)\n",
      "C:\\Users\\joshsu\\AppData\\Local\\Temp\\ipykernel_35472\\559688894.py:49: SettingWithCopyWarning: \n",
      "A value is trying to be set on a copy of a slice from a DataFrame\n",
      "\n",
      "See the caveats in the documentation: https://pandas.pydata.org/pandas-docs/stable/user_guide/indexing.html#returning-a-view-versus-a-copy\n",
      "  df_table[\"icer_IPTsc_high\"].iloc[i] = np.percentile(icers, 97.5)\n"
     ]
    },
    {
     "data": {
      "text/plain": "         Scenario                  Cases Incremental Cases Averted  \\\n0        No IPTsc  906.9 (861.2 - 952.6)           nan (nan - nan)   \n1  u10 SMC - SPAQ  798.5 (751.5 - 845.5)      108.4 (42.9 - 173.9)   \n2       SPAQ term  793.9 (751.2 - 836.6)        4.7 (-58.8 - 68.1)   \n3    u10 SMC - DP  736.3 (686.7 - 785.9)       57.6 (-7.9 - 123.0)   \n4  u15 SMC - SPAQ  696.6 (646.2 - 747.0)      39.7 (-31.0 - 110.4)   \n5         DP term  630.7 (579.2 - 682.2)       65.9 (-6.2 - 138.0)   \n6      SPAQ month  592.8 (543.0 - 642.6)      37.9 (-33.8 - 109.6)   \n7    u15 SMC - DP  565.4 (512.7 - 618.1)       27.4 (-45.1 - 99.9)   \n8        DP month  485.1 (426.5 - 543.7)        80.3 (1.5 - 159.2)   \n\n  Cost (Funder Perspective) Incremental Cost (Funder Perspective)  \\\n0           0.0 (0.0 - 0.0)                       nan (nan - nan)   \n1     456.1 (193.5 - 718.7)                 456.1 (193.5 - 718.7)   \n2     381.8 (258.0 - 505.6)                -74.3 (-364.6 - 216.0)   \n3   1025.2 (761.5 - 1288.9)                 643.4 (352.0 - 934.7)   \n4    859.9 (365.1 - 1354.7)               -165.3 (-726.0 - 395.4)   \n5  1273.7 (1143.7 - 1403.6)                 413.8 (-97.8 - 925.3)   \n6   1099.8 (693.6 - 1506.1)               -173.8 (-600.4 - 252.7)   \n7  1934.3 (1438.8 - 2429.9)                834.5 (193.7 - 1475.3)   \n8  3776.7 (3356.4 - 4197.0)              1842.4 (1192.6 - 2492.2)   \n\n  ICER (Funder Perspective) Cost (Health System Perspective)  \\\n0           nan (nan - nan)         4215.1 (3242.5 - 5187.7)   \n1          4.2 (1.6 - 11.6)         4389.5 (3471.8 - 5307.3)   \n2   -15.8 (Dominant - 64.3)         4233.3 (3373.6 - 5092.9)   \n3    11.2 (Dominant - 85.4)         4826.9 (3947.4 - 5706.5)   \n4    -4.2 (Dominant - 58.5)         4538.5 (3600.5 - 5476.5)   \n5     6.3 (Dominant - 49.0)         4665.5 (3950.3 - 5380.6)   \n6    -4.6 (Dominant - 55.0)         4438.4 (3639.2 - 5237.5)   \n7   30.5 (Dominant - 281.6)         5341.0 (4476.2 - 6205.7)   \n8        22.9 (7.3 - 137.9)         6809.1 (6084.3 - 7534.0)   \n\n  Incremental Cost (Health System Perspective)  \\\n0                              nan (nan - nan)   \n1                     174.4 (-1162.8 - 1511.7)   \n2                    -156.3 (-1413.8 - 1101.2)   \n3                      593.7 (-636.2 - 1823.5)   \n4                     -288.4 (-1574.2 - 997.5)   \n5                     126.9 (-1052.6 - 1306.4)   \n6                     -227.1 (-1299.6 - 845.4)   \n7                      902.6 (-274.9 - 2080.1)   \n8                      1468.2 (339.8 - 2596.5)   \n\n  ICER (Health System Perspective)  \n0                  nan (nan - nan)  \n1            1.6 (Dominant - 18.0)  \n2         -33.3 (Dominant - 258.4)  \n3           10.3 (Dominant - 98.0)  \n4          -7.3 (Dominant - 131.9)  \n5            1.9 (Dominant - 51.8)  \n6          -6.0 (Dominant - 118.2)  \n7          33.0 (Dominant - 319.1)  \n8          18.3 (Dominant - 115.1)  ",
      "text/html": "<div>\n<style scoped>\n    .dataframe tbody tr th:only-of-type {\n        vertical-align: middle;\n    }\n\n    .dataframe tbody tr th {\n        vertical-align: top;\n    }\n\n    .dataframe thead th {\n        text-align: right;\n    }\n</style>\n<table border=\"1\" class=\"dataframe\">\n  <thead>\n    <tr style=\"text-align: right;\">\n      <th></th>\n      <th>Scenario</th>\n      <th>Cases</th>\n      <th>Incremental Cases Averted</th>\n      <th>Cost (Funder Perspective)</th>\n      <th>Incremental Cost (Funder Perspective)</th>\n      <th>ICER (Funder Perspective)</th>\n      <th>Cost (Health System Perspective)</th>\n      <th>Incremental Cost (Health System Perspective)</th>\n      <th>ICER (Health System Perspective)</th>\n    </tr>\n  </thead>\n  <tbody>\n    <tr>\n      <th>0</th>\n      <td>No IPTsc</td>\n      <td>906.9 (861.2 - 952.6)</td>\n      <td>nan (nan - nan)</td>\n      <td>0.0 (0.0 - 0.0)</td>\n      <td>nan (nan - nan)</td>\n      <td>nan (nan - nan)</td>\n      <td>4215.1 (3242.5 - 5187.7)</td>\n      <td>nan (nan - nan)</td>\n      <td>nan (nan - nan)</td>\n    </tr>\n    <tr>\n      <th>1</th>\n      <td>u10 SMC - SPAQ</td>\n      <td>798.5 (751.5 - 845.5)</td>\n      <td>108.4 (42.9 - 173.9)</td>\n      <td>456.1 (193.5 - 718.7)</td>\n      <td>456.1 (193.5 - 718.7)</td>\n      <td>4.2 (1.6 - 11.6)</td>\n      <td>4389.5 (3471.8 - 5307.3)</td>\n      <td>174.4 (-1162.8 - 1511.7)</td>\n      <td>1.6 (Dominant - 18.0)</td>\n    </tr>\n    <tr>\n      <th>2</th>\n      <td>SPAQ term</td>\n      <td>793.9 (751.2 - 836.6)</td>\n      <td>4.7 (-58.8 - 68.1)</td>\n      <td>381.8 (258.0 - 505.6)</td>\n      <td>-74.3 (-364.6 - 216.0)</td>\n      <td>-15.8 (Dominant - 64.3)</td>\n      <td>4233.3 (3373.6 - 5092.9)</td>\n      <td>-156.3 (-1413.8 - 1101.2)</td>\n      <td>-33.3 (Dominant - 258.4)</td>\n    </tr>\n    <tr>\n      <th>3</th>\n      <td>u10 SMC - DP</td>\n      <td>736.3 (686.7 - 785.9)</td>\n      <td>57.6 (-7.9 - 123.0)</td>\n      <td>1025.2 (761.5 - 1288.9)</td>\n      <td>643.4 (352.0 - 934.7)</td>\n      <td>11.2 (Dominant - 85.4)</td>\n      <td>4826.9 (3947.4 - 5706.5)</td>\n      <td>593.7 (-636.2 - 1823.5)</td>\n      <td>10.3 (Dominant - 98.0)</td>\n    </tr>\n    <tr>\n      <th>4</th>\n      <td>u15 SMC - SPAQ</td>\n      <td>696.6 (646.2 - 747.0)</td>\n      <td>39.7 (-31.0 - 110.4)</td>\n      <td>859.9 (365.1 - 1354.7)</td>\n      <td>-165.3 (-726.0 - 395.4)</td>\n      <td>-4.2 (Dominant - 58.5)</td>\n      <td>4538.5 (3600.5 - 5476.5)</td>\n      <td>-288.4 (-1574.2 - 997.5)</td>\n      <td>-7.3 (Dominant - 131.9)</td>\n    </tr>\n    <tr>\n      <th>5</th>\n      <td>DP term</td>\n      <td>630.7 (579.2 - 682.2)</td>\n      <td>65.9 (-6.2 - 138.0)</td>\n      <td>1273.7 (1143.7 - 1403.6)</td>\n      <td>413.8 (-97.8 - 925.3)</td>\n      <td>6.3 (Dominant - 49.0)</td>\n      <td>4665.5 (3950.3 - 5380.6)</td>\n      <td>126.9 (-1052.6 - 1306.4)</td>\n      <td>1.9 (Dominant - 51.8)</td>\n    </tr>\n    <tr>\n      <th>6</th>\n      <td>SPAQ month</td>\n      <td>592.8 (543.0 - 642.6)</td>\n      <td>37.9 (-33.8 - 109.6)</td>\n      <td>1099.8 (693.6 - 1506.1)</td>\n      <td>-173.8 (-600.4 - 252.7)</td>\n      <td>-4.6 (Dominant - 55.0)</td>\n      <td>4438.4 (3639.2 - 5237.5)</td>\n      <td>-227.1 (-1299.6 - 845.4)</td>\n      <td>-6.0 (Dominant - 118.2)</td>\n    </tr>\n    <tr>\n      <th>7</th>\n      <td>u15 SMC - DP</td>\n      <td>565.4 (512.7 - 618.1)</td>\n      <td>27.4 (-45.1 - 99.9)</td>\n      <td>1934.3 (1438.8 - 2429.9)</td>\n      <td>834.5 (193.7 - 1475.3)</td>\n      <td>30.5 (Dominant - 281.6)</td>\n      <td>5341.0 (4476.2 - 6205.7)</td>\n      <td>902.6 (-274.9 - 2080.1)</td>\n      <td>33.0 (Dominant - 319.1)</td>\n    </tr>\n    <tr>\n      <th>8</th>\n      <td>DP month</td>\n      <td>485.1 (426.5 - 543.7)</td>\n      <td>80.3 (1.5 - 159.2)</td>\n      <td>3776.7 (3356.4 - 4197.0)</td>\n      <td>1842.4 (1192.6 - 2492.2)</td>\n      <td>22.9 (7.3 - 137.9)</td>\n      <td>6809.1 (6084.3 - 7534.0)</td>\n      <td>1468.2 (339.8 - 2596.5)</td>\n      <td>18.3 (Dominant - 115.1)</td>\n    </tr>\n  </tbody>\n</table>\n</div>"
     },
     "execution_count": 11,
     "metadata": {},
     "output_type": "execute_result"
    }
   ],
   "source": [
    "df_single = df[(df[\"archetype\"] == \"Sahel\") & (df[\"transmission_level\"] == 0.2)]\n",
    "df_single = df_single[df_single[\"scenario_number\"].isin([0, 6, 7, 8, 9, 30, 31, 32, 33])]\n",
    "df_table = generate_league_table_PRETTY(df_single)\n",
    "df_table"
   ],
   "metadata": {
    "collapsed": false,
    "ExecuteTime": {
     "end_time": "2024-10-18T18:03:28.812129Z",
     "start_time": "2024-10-18T18:03:28.365259Z"
    }
   },
   "id": "c18bb4d93e6a92f3",
   "execution_count": 11
  },
  {
   "cell_type": "code",
   "outputs": [
    {
     "name": "stderr",
     "output_type": "stream",
     "text": [
      "C:\\Users\\joshsu\\AppData\\Local\\Temp\\ipykernel_35472\\559688894.py:40: SettingWithCopyWarning: \n",
      "A value is trying to be set on a copy of a slice from a DataFrame\n",
      "\n",
      "See the caveats in the documentation: https://pandas.pydata.org/pandas-docs/stable/user_guide/indexing.html#returning-a-view-versus-a-copy\n",
      "  df_table[\"icer_low\"].iloc[i] = np.percentile(icers, 2.5)\n",
      "C:\\Users\\joshsu\\AppData\\Local\\Temp\\ipykernel_35472\\559688894.py:41: SettingWithCopyWarning: \n",
      "A value is trying to be set on a copy of a slice from a DataFrame\n",
      "\n",
      "See the caveats in the documentation: https://pandas.pydata.org/pandas-docs/stable/user_guide/indexing.html#returning-a-view-versus-a-copy\n",
      "  df_table[\"icer_high\"].iloc[i] = np.percentile(icers, 97.5)\n",
      "C:\\Users\\joshsu\\AppData\\Local\\Temp\\ipykernel_35472\\559688894.py:48: SettingWithCopyWarning: \n",
      "A value is trying to be set on a copy of a slice from a DataFrame\n",
      "\n",
      "See the caveats in the documentation: https://pandas.pydata.org/pandas-docs/stable/user_guide/indexing.html#returning-a-view-versus-a-copy\n",
      "  df_table[\"icer_IPTsc_low\"].iloc[i] = np.percentile(icers, 2.5)\n",
      "C:\\Users\\joshsu\\AppData\\Local\\Temp\\ipykernel_35472\\559688894.py:49: SettingWithCopyWarning: \n",
      "A value is trying to be set on a copy of a slice from a DataFrame\n",
      "\n",
      "See the caveats in the documentation: https://pandas.pydata.org/pandas-docs/stable/user_guide/indexing.html#returning-a-view-versus-a-copy\n",
      "  df_table[\"icer_IPTsc_high\"].iloc[i] = np.percentile(icers, 97.5)\n"
     ]
    },
    {
     "data": {
      "text/plain": "         Scenario                  Cases Incremental Cases Averted  \\\n0        No IPTsc  906.9 (861.2 - 952.6)           nan (nan - nan)   \n1       SPAQ term  793.9 (751.2 - 836.6)      113.1 (50.6 - 175.6)   \n2    u10 SMC - DP  736.3 (686.7 - 785.9)       57.6 (-7.9 - 123.0)   \n3  u15 SMC - SPAQ  696.6 (646.2 - 747.0)      39.7 (-31.0 - 110.4)   \n4         DP term  630.7 (579.2 - 682.2)       65.9 (-6.2 - 138.0)   \n5      SPAQ month  592.8 (543.0 - 642.6)      37.9 (-33.8 - 109.6)   \n6    u15 SMC - DP  565.4 (512.7 - 618.1)       27.4 (-45.1 - 99.9)   \n7        DP month  485.1 (426.5 - 543.7)        80.3 (1.5 - 159.2)   \n\n  Cost (Funder Perspective) Incremental Cost (Funder Perspective)  \\\n0           0.0 (0.0 - 0.0)                       nan (nan - nan)   \n1     381.8 (258.0 - 505.6)                 381.8 (258.0 - 505.6)   \n2   1025.2 (761.5 - 1288.9)                 643.4 (352.0 - 934.7)   \n3    859.9 (365.1 - 1354.7)               -165.3 (-726.0 - 395.4)   \n4  1273.7 (1143.7 - 1403.6)                 413.8 (-97.8 - 925.3)   \n5   1099.8 (693.6 - 1506.1)               -173.8 (-600.4 - 252.7)   \n6  1934.3 (1438.8 - 2429.9)                834.5 (193.7 - 1475.3)   \n7  3776.7 (3356.4 - 4197.0)              1842.4 (1192.6 - 2492.2)   \n\n  ICER (Funder Perspective) Cost (Health System Perspective)  \\\n0           nan (nan - nan)         4215.1 (3242.5 - 5187.7)   \n1           3.4 (1.9 - 7.8)         4233.3 (3373.6 - 5092.9)   \n2    11.2 (Dominant - 83.6)         4826.9 (3947.4 - 5706.5)   \n3    -4.2 (Dominant - 59.1)         4538.5 (3600.5 - 5476.5)   \n4     6.3 (Dominant - 49.0)         4665.5 (3950.3 - 5380.6)   \n5    -4.6 (Dominant - 51.9)         4438.4 (3639.2 - 5237.5)   \n6   30.5 (Dominant - 289.5)         5341.0 (4476.2 - 6205.7)   \n7        22.9 (7.3 - 143.7)         6809.1 (6084.3 - 7534.0)   \n\n  Incremental Cost (Health System Perspective)  \\\n0                              nan (nan - nan)   \n1                      18.2 (-1279.9 - 1316.2)   \n2                      593.7 (-636.2 - 1823.5)   \n3                     -288.4 (-1574.2 - 997.5)   \n4                     126.9 (-1052.6 - 1306.4)   \n5                     -227.1 (-1299.6 - 845.4)   \n6                      902.6 (-274.9 - 2080.1)   \n7                      1468.2 (339.8 - 2596.5)   \n\n  ICER (Health System Perspective)  \n0                  nan (nan - nan)  \n1            0.2 (Dominant - 14.1)  \n2           10.3 (Dominant - 98.3)  \n3          -7.3 (Dominant - 126.2)  \n4            1.9 (Dominant - 51.3)  \n5          -6.0 (Dominant - 115.3)  \n6          33.0 (Dominant - 335.4)  \n7          18.3 (Dominant - 114.3)  ",
      "text/html": "<div>\n<style scoped>\n    .dataframe tbody tr th:only-of-type {\n        vertical-align: middle;\n    }\n\n    .dataframe tbody tr th {\n        vertical-align: top;\n    }\n\n    .dataframe thead th {\n        text-align: right;\n    }\n</style>\n<table border=\"1\" class=\"dataframe\">\n  <thead>\n    <tr style=\"text-align: right;\">\n      <th></th>\n      <th>Scenario</th>\n      <th>Cases</th>\n      <th>Incremental Cases Averted</th>\n      <th>Cost (Funder Perspective)</th>\n      <th>Incremental Cost (Funder Perspective)</th>\n      <th>ICER (Funder Perspective)</th>\n      <th>Cost (Health System Perspective)</th>\n      <th>Incremental Cost (Health System Perspective)</th>\n      <th>ICER (Health System Perspective)</th>\n    </tr>\n  </thead>\n  <tbody>\n    <tr>\n      <th>0</th>\n      <td>No IPTsc</td>\n      <td>906.9 (861.2 - 952.6)</td>\n      <td>nan (nan - nan)</td>\n      <td>0.0 (0.0 - 0.0)</td>\n      <td>nan (nan - nan)</td>\n      <td>nan (nan - nan)</td>\n      <td>4215.1 (3242.5 - 5187.7)</td>\n      <td>nan (nan - nan)</td>\n      <td>nan (nan - nan)</td>\n    </tr>\n    <tr>\n      <th>1</th>\n      <td>SPAQ term</td>\n      <td>793.9 (751.2 - 836.6)</td>\n      <td>113.1 (50.6 - 175.6)</td>\n      <td>381.8 (258.0 - 505.6)</td>\n      <td>381.8 (258.0 - 505.6)</td>\n      <td>3.4 (1.9 - 7.8)</td>\n      <td>4233.3 (3373.6 - 5092.9)</td>\n      <td>18.2 (-1279.9 - 1316.2)</td>\n      <td>0.2 (Dominant - 14.1)</td>\n    </tr>\n    <tr>\n      <th>2</th>\n      <td>u10 SMC - DP</td>\n      <td>736.3 (686.7 - 785.9)</td>\n      <td>57.6 (-7.9 - 123.0)</td>\n      <td>1025.2 (761.5 - 1288.9)</td>\n      <td>643.4 (352.0 - 934.7)</td>\n      <td>11.2 (Dominant - 83.6)</td>\n      <td>4826.9 (3947.4 - 5706.5)</td>\n      <td>593.7 (-636.2 - 1823.5)</td>\n      <td>10.3 (Dominant - 98.3)</td>\n    </tr>\n    <tr>\n      <th>3</th>\n      <td>u15 SMC - SPAQ</td>\n      <td>696.6 (646.2 - 747.0)</td>\n      <td>39.7 (-31.0 - 110.4)</td>\n      <td>859.9 (365.1 - 1354.7)</td>\n      <td>-165.3 (-726.0 - 395.4)</td>\n      <td>-4.2 (Dominant - 59.1)</td>\n      <td>4538.5 (3600.5 - 5476.5)</td>\n      <td>-288.4 (-1574.2 - 997.5)</td>\n      <td>-7.3 (Dominant - 126.2)</td>\n    </tr>\n    <tr>\n      <th>4</th>\n      <td>DP term</td>\n      <td>630.7 (579.2 - 682.2)</td>\n      <td>65.9 (-6.2 - 138.0)</td>\n      <td>1273.7 (1143.7 - 1403.6)</td>\n      <td>413.8 (-97.8 - 925.3)</td>\n      <td>6.3 (Dominant - 49.0)</td>\n      <td>4665.5 (3950.3 - 5380.6)</td>\n      <td>126.9 (-1052.6 - 1306.4)</td>\n      <td>1.9 (Dominant - 51.3)</td>\n    </tr>\n    <tr>\n      <th>5</th>\n      <td>SPAQ month</td>\n      <td>592.8 (543.0 - 642.6)</td>\n      <td>37.9 (-33.8 - 109.6)</td>\n      <td>1099.8 (693.6 - 1506.1)</td>\n      <td>-173.8 (-600.4 - 252.7)</td>\n      <td>-4.6 (Dominant - 51.9)</td>\n      <td>4438.4 (3639.2 - 5237.5)</td>\n      <td>-227.1 (-1299.6 - 845.4)</td>\n      <td>-6.0 (Dominant - 115.3)</td>\n    </tr>\n    <tr>\n      <th>6</th>\n      <td>u15 SMC - DP</td>\n      <td>565.4 (512.7 - 618.1)</td>\n      <td>27.4 (-45.1 - 99.9)</td>\n      <td>1934.3 (1438.8 - 2429.9)</td>\n      <td>834.5 (193.7 - 1475.3)</td>\n      <td>30.5 (Dominant - 289.5)</td>\n      <td>5341.0 (4476.2 - 6205.7)</td>\n      <td>902.6 (-274.9 - 2080.1)</td>\n      <td>33.0 (Dominant - 335.4)</td>\n    </tr>\n    <tr>\n      <th>7</th>\n      <td>DP month</td>\n      <td>485.1 (426.5 - 543.7)</td>\n      <td>80.3 (1.5 - 159.2)</td>\n      <td>3776.7 (3356.4 - 4197.0)</td>\n      <td>1842.4 (1192.6 - 2492.2)</td>\n      <td>22.9 (7.3 - 143.7)</td>\n      <td>6809.1 (6084.3 - 7534.0)</td>\n      <td>1468.2 (339.8 - 2596.5)</td>\n      <td>18.3 (Dominant - 114.3)</td>\n    </tr>\n  </tbody>\n</table>\n</div>"
     },
     "execution_count": 12,
     "metadata": {},
     "output_type": "execute_result"
    }
   ],
   "source": [
    "# Remove dominated scenario 30 - u10 SMC - SPAQ\n",
    "df_single = df[(df[\"archetype\"] == \"Sahel\") & (df[\"transmission_level\"] == 0.2)]\n",
    "df_single = df_single[df_single[\"scenario_number\"].isin([0, 6, 7, 8, 9, 31, 32, 33])]\n",
    "df_table = generate_league_table_PRETTY(df_single)\n",
    "df_table"
   ],
   "metadata": {
    "collapsed": false,
    "ExecuteTime": {
     "end_time": "2024-10-18T18:03:29.217004Z",
     "start_time": "2024-10-18T18:03:28.818128Z"
    }
   },
   "id": "612fba001fc3ec02",
   "execution_count": 12
  },
  {
   "cell_type": "code",
   "outputs": [
    {
     "name": "stderr",
     "output_type": "stream",
     "text": [
      "C:\\Users\\joshsu\\AppData\\Local\\Temp\\ipykernel_35472\\559688894.py:40: SettingWithCopyWarning: \n",
      "A value is trying to be set on a copy of a slice from a DataFrame\n",
      "\n",
      "See the caveats in the documentation: https://pandas.pydata.org/pandas-docs/stable/user_guide/indexing.html#returning-a-view-versus-a-copy\n",
      "  df_table[\"icer_low\"].iloc[i] = np.percentile(icers, 2.5)\n",
      "C:\\Users\\joshsu\\AppData\\Local\\Temp\\ipykernel_35472\\559688894.py:41: SettingWithCopyWarning: \n",
      "A value is trying to be set on a copy of a slice from a DataFrame\n",
      "\n",
      "See the caveats in the documentation: https://pandas.pydata.org/pandas-docs/stable/user_guide/indexing.html#returning-a-view-versus-a-copy\n",
      "  df_table[\"icer_high\"].iloc[i] = np.percentile(icers, 97.5)\n",
      "C:\\Users\\joshsu\\AppData\\Local\\Temp\\ipykernel_35472\\559688894.py:48: SettingWithCopyWarning: \n",
      "A value is trying to be set on a copy of a slice from a DataFrame\n",
      "\n",
      "See the caveats in the documentation: https://pandas.pydata.org/pandas-docs/stable/user_guide/indexing.html#returning-a-view-versus-a-copy\n",
      "  df_table[\"icer_IPTsc_low\"].iloc[i] = np.percentile(icers, 2.5)\n",
      "C:\\Users\\joshsu\\AppData\\Local\\Temp\\ipykernel_35472\\559688894.py:49: SettingWithCopyWarning: \n",
      "A value is trying to be set on a copy of a slice from a DataFrame\n",
      "\n",
      "See the caveats in the documentation: https://pandas.pydata.org/pandas-docs/stable/user_guide/indexing.html#returning-a-view-versus-a-copy\n",
      "  df_table[\"icer_IPTsc_high\"].iloc[i] = np.percentile(icers, 97.5)\n"
     ]
    },
    {
     "data": {
      "text/plain": "         Scenario                  Cases Incremental Cases Averted  \\\n0        No IPTsc  906.9 (861.2 - 952.6)           nan (nan - nan)   \n1       SPAQ term  793.9 (751.2 - 836.6)      113.1 (50.6 - 175.6)   \n2  u15 SMC - SPAQ  696.6 (646.2 - 747.0)       97.3 (31.3 - 163.3)   \n3         DP term  630.7 (579.2 - 682.2)       65.9 (-6.2 - 138.0)   \n4      SPAQ month  592.8 (543.0 - 642.6)      37.9 (-33.8 - 109.6)   \n5    u15 SMC - DP  565.4 (512.7 - 618.1)       27.4 (-45.1 - 99.9)   \n6        DP month  485.1 (426.5 - 543.7)        80.3 (1.5 - 159.2)   \n\n  Cost (Funder Perspective) Incremental Cost (Funder Perspective)  \\\n0           0.0 (0.0 - 0.0)                       nan (nan - nan)   \n1     381.8 (258.0 - 505.6)                 381.8 (258.0 - 505.6)   \n2    859.9 (365.1 - 1354.7)                 478.1 (-32.0 - 988.2)   \n3  1273.7 (1143.7 - 1403.6)                 413.8 (-97.8 - 925.3)   \n4   1099.8 (693.6 - 1506.1)               -173.8 (-600.4 - 252.7)   \n5  1934.3 (1438.8 - 2429.9)                834.5 (193.7 - 1475.3)   \n6  3776.7 (3356.4 - 4197.0)              1842.4 (1192.6 - 2492.2)   \n\n  ICER (Funder Perspective) Cost (Health System Perspective)  \\\n0           nan (nan - nan)         4215.1 (3242.5 - 5187.7)   \n1           3.4 (1.9 - 7.8)         4233.3 (3373.6 - 5092.9)   \n2     4.9 (Dominant - 17.8)         4538.5 (3600.5 - 5476.5)   \n3     6.3 (Dominant - 49.5)         4665.5 (3950.3 - 5380.6)   \n4    -4.6 (Dominant - 51.9)         4438.4 (3639.2 - 5237.5)   \n5   30.5 (Dominant - 282.6)         5341.0 (4476.2 - 6205.7)   \n6        22.9 (7.5 - 138.0)         6809.1 (6084.3 - 7534.0)   \n\n  Incremental Cost (Health System Perspective)  \\\n0                              nan (nan - nan)   \n1                      18.2 (-1279.9 - 1316.2)   \n2                      305.3 (-967.1 - 1577.6)   \n3                     126.9 (-1052.6 - 1306.4)   \n4                     -227.1 (-1299.6 - 845.4)   \n5                      902.6 (-274.9 - 2080.1)   \n6                      1468.2 (339.8 - 2596.5)   \n\n  ICER (Health System Perspective)  \n0                  nan (nan - nan)  \n1            0.2 (Dominant - 14.1)  \n2            3.1 (Dominant - 23.4)  \n3            1.9 (Dominant - 49.9)  \n4          -6.0 (Dominant - 114.6)  \n5          33.0 (Dominant - 317.4)  \n6          18.3 (Dominant - 115.0)  ",
      "text/html": "<div>\n<style scoped>\n    .dataframe tbody tr th:only-of-type {\n        vertical-align: middle;\n    }\n\n    .dataframe tbody tr th {\n        vertical-align: top;\n    }\n\n    .dataframe thead th {\n        text-align: right;\n    }\n</style>\n<table border=\"1\" class=\"dataframe\">\n  <thead>\n    <tr style=\"text-align: right;\">\n      <th></th>\n      <th>Scenario</th>\n      <th>Cases</th>\n      <th>Incremental Cases Averted</th>\n      <th>Cost (Funder Perspective)</th>\n      <th>Incremental Cost (Funder Perspective)</th>\n      <th>ICER (Funder Perspective)</th>\n      <th>Cost (Health System Perspective)</th>\n      <th>Incremental Cost (Health System Perspective)</th>\n      <th>ICER (Health System Perspective)</th>\n    </tr>\n  </thead>\n  <tbody>\n    <tr>\n      <th>0</th>\n      <td>No IPTsc</td>\n      <td>906.9 (861.2 - 952.6)</td>\n      <td>nan (nan - nan)</td>\n      <td>0.0 (0.0 - 0.0)</td>\n      <td>nan (nan - nan)</td>\n      <td>nan (nan - nan)</td>\n      <td>4215.1 (3242.5 - 5187.7)</td>\n      <td>nan (nan - nan)</td>\n      <td>nan (nan - nan)</td>\n    </tr>\n    <tr>\n      <th>1</th>\n      <td>SPAQ term</td>\n      <td>793.9 (751.2 - 836.6)</td>\n      <td>113.1 (50.6 - 175.6)</td>\n      <td>381.8 (258.0 - 505.6)</td>\n      <td>381.8 (258.0 - 505.6)</td>\n      <td>3.4 (1.9 - 7.8)</td>\n      <td>4233.3 (3373.6 - 5092.9)</td>\n      <td>18.2 (-1279.9 - 1316.2)</td>\n      <td>0.2 (Dominant - 14.1)</td>\n    </tr>\n    <tr>\n      <th>2</th>\n      <td>u15 SMC - SPAQ</td>\n      <td>696.6 (646.2 - 747.0)</td>\n      <td>97.3 (31.3 - 163.3)</td>\n      <td>859.9 (365.1 - 1354.7)</td>\n      <td>478.1 (-32.0 - 988.2)</td>\n      <td>4.9 (Dominant - 17.8)</td>\n      <td>4538.5 (3600.5 - 5476.5)</td>\n      <td>305.3 (-967.1 - 1577.6)</td>\n      <td>3.1 (Dominant - 23.4)</td>\n    </tr>\n    <tr>\n      <th>3</th>\n      <td>DP term</td>\n      <td>630.7 (579.2 - 682.2)</td>\n      <td>65.9 (-6.2 - 138.0)</td>\n      <td>1273.7 (1143.7 - 1403.6)</td>\n      <td>413.8 (-97.8 - 925.3)</td>\n      <td>6.3 (Dominant - 49.5)</td>\n      <td>4665.5 (3950.3 - 5380.6)</td>\n      <td>126.9 (-1052.6 - 1306.4)</td>\n      <td>1.9 (Dominant - 49.9)</td>\n    </tr>\n    <tr>\n      <th>4</th>\n      <td>SPAQ month</td>\n      <td>592.8 (543.0 - 642.6)</td>\n      <td>37.9 (-33.8 - 109.6)</td>\n      <td>1099.8 (693.6 - 1506.1)</td>\n      <td>-173.8 (-600.4 - 252.7)</td>\n      <td>-4.6 (Dominant - 51.9)</td>\n      <td>4438.4 (3639.2 - 5237.5)</td>\n      <td>-227.1 (-1299.6 - 845.4)</td>\n      <td>-6.0 (Dominant - 114.6)</td>\n    </tr>\n    <tr>\n      <th>5</th>\n      <td>u15 SMC - DP</td>\n      <td>565.4 (512.7 - 618.1)</td>\n      <td>27.4 (-45.1 - 99.9)</td>\n      <td>1934.3 (1438.8 - 2429.9)</td>\n      <td>834.5 (193.7 - 1475.3)</td>\n      <td>30.5 (Dominant - 282.6)</td>\n      <td>5341.0 (4476.2 - 6205.7)</td>\n      <td>902.6 (-274.9 - 2080.1)</td>\n      <td>33.0 (Dominant - 317.4)</td>\n    </tr>\n    <tr>\n      <th>6</th>\n      <td>DP month</td>\n      <td>485.1 (426.5 - 543.7)</td>\n      <td>80.3 (1.5 - 159.2)</td>\n      <td>3776.7 (3356.4 - 4197.0)</td>\n      <td>1842.4 (1192.6 - 2492.2)</td>\n      <td>22.9 (7.5 - 138.0)</td>\n      <td>6809.1 (6084.3 - 7534.0)</td>\n      <td>1468.2 (339.8 - 2596.5)</td>\n      <td>18.3 (Dominant - 115.0)</td>\n    </tr>\n  </tbody>\n</table>\n</div>"
     },
     "execution_count": 13,
     "metadata": {},
     "output_type": "execute_result"
    }
   ],
   "source": [
    "# Remove dominated scenario 32 - u10 SMC - DP\n",
    "df_single = df[(df[\"archetype\"] == \"Sahel\") & (df[\"transmission_level\"] == 0.2)]\n",
    "df_single = df_single[df_single[\"scenario_number\"].isin([0, 6, 7, 8, 9, 31, 33])]\n",
    "df_table = generate_league_table_PRETTY(df_single)\n",
    "df_table"
   ],
   "metadata": {
    "collapsed": false,
    "ExecuteTime": {
     "end_time": "2024-10-18T18:03:29.652966Z",
     "start_time": "2024-10-18T18:03:29.222999Z"
    }
   },
   "id": "3872f60d84f606ee",
   "execution_count": 13
  },
  {
   "cell_type": "code",
   "outputs": [
    {
     "name": "stderr",
     "output_type": "stream",
     "text": [
      "C:\\Users\\joshsu\\AppData\\Local\\Temp\\ipykernel_35472\\559688894.py:40: SettingWithCopyWarning: \n",
      "A value is trying to be set on a copy of a slice from a DataFrame\n",
      "\n",
      "See the caveats in the documentation: https://pandas.pydata.org/pandas-docs/stable/user_guide/indexing.html#returning-a-view-versus-a-copy\n",
      "  df_table[\"icer_low\"].iloc[i] = np.percentile(icers, 2.5)\n",
      "C:\\Users\\joshsu\\AppData\\Local\\Temp\\ipykernel_35472\\559688894.py:41: SettingWithCopyWarning: \n",
      "A value is trying to be set on a copy of a slice from a DataFrame\n",
      "\n",
      "See the caveats in the documentation: https://pandas.pydata.org/pandas-docs/stable/user_guide/indexing.html#returning-a-view-versus-a-copy\n",
      "  df_table[\"icer_high\"].iloc[i] = np.percentile(icers, 97.5)\n",
      "C:\\Users\\joshsu\\AppData\\Local\\Temp\\ipykernel_35472\\559688894.py:48: SettingWithCopyWarning: \n",
      "A value is trying to be set on a copy of a slice from a DataFrame\n",
      "\n",
      "See the caveats in the documentation: https://pandas.pydata.org/pandas-docs/stable/user_guide/indexing.html#returning-a-view-versus-a-copy\n",
      "  df_table[\"icer_IPTsc_low\"].iloc[i] = np.percentile(icers, 2.5)\n",
      "C:\\Users\\joshsu\\AppData\\Local\\Temp\\ipykernel_35472\\559688894.py:49: SettingWithCopyWarning: \n",
      "A value is trying to be set on a copy of a slice from a DataFrame\n",
      "\n",
      "See the caveats in the documentation: https://pandas.pydata.org/pandas-docs/stable/user_guide/indexing.html#returning-a-view-versus-a-copy\n",
      "  df_table[\"icer_IPTsc_high\"].iloc[i] = np.percentile(icers, 97.5)\n"
     ]
    },
    {
     "data": {
      "text/plain": "         Scenario                  Cases Incremental Cases Averted  \\\n0        No IPTsc  906.9 (861.2 - 952.6)           nan (nan - nan)   \n1       SPAQ term  793.9 (751.2 - 836.6)      113.1 (50.6 - 175.6)   \n2  u15 SMC - SPAQ  696.6 (646.2 - 747.0)       97.3 (31.3 - 163.3)   \n3      SPAQ month  592.8 (543.0 - 642.6)      103.8 (33.0 - 174.6)   \n4    u15 SMC - DP  565.4 (512.7 - 618.1)       27.4 (-45.1 - 99.9)   \n5        DP month  485.1 (426.5 - 543.7)        80.3 (1.5 - 159.2)   \n\n  Cost (Funder Perspective) Incremental Cost (Funder Perspective)  \\\n0           0.0 (0.0 - 0.0)                       nan (nan - nan)   \n1     381.8 (258.0 - 505.6)                 381.8 (258.0 - 505.6)   \n2    859.9 (365.1 - 1354.7)                 478.1 (-32.0 - 988.2)   \n3   1099.8 (693.6 - 1506.1)                239.9 (-400.3 - 880.1)   \n4  1934.3 (1438.8 - 2429.9)                834.5 (193.7 - 1475.3)   \n5  3776.7 (3356.4 - 4197.0)              1842.4 (1192.6 - 2492.2)   \n\n  ICER (Funder Perspective) Cost (Health System Perspective)  \\\n0           nan (nan - nan)         4215.1 (3242.5 - 5187.7)   \n1           3.4 (1.9 - 7.9)         4233.3 (3373.6 - 5092.9)   \n2     4.9 (Dominant - 17.9)         4538.5 (3600.5 - 5476.5)   \n3     2.3 (Dominant - 13.1)         4438.4 (3639.2 - 5237.5)   \n4   30.5 (Dominant - 281.7)         5341.0 (4476.2 - 6205.7)   \n5        22.9 (7.0 - 140.3)         6809.1 (6084.3 - 7534.0)   \n\n  Incremental Cost (Health System Perspective)  \\\n0                              nan (nan - nan)   \n1                      18.2 (-1279.9 - 1316.2)   \n2                      305.3 (-967.1 - 1577.6)   \n3                    -100.2 (-1332.4 - 1132.1)   \n4                      902.6 (-274.9 - 2080.1)   \n5                      1468.2 (339.8 - 2596.5)   \n\n  ICER (Health System Perspective)  \n0                  nan (nan - nan)  \n1            0.2 (Dominant - 14.1)  \n2            3.1 (Dominant - 23.3)  \n3           -1.0 (Dominant - 14.3)  \n4          33.0 (Dominant - 310.1)  \n5          18.3 (Dominant - 111.0)  ",
      "text/html": "<div>\n<style scoped>\n    .dataframe tbody tr th:only-of-type {\n        vertical-align: middle;\n    }\n\n    .dataframe tbody tr th {\n        vertical-align: top;\n    }\n\n    .dataframe thead th {\n        text-align: right;\n    }\n</style>\n<table border=\"1\" class=\"dataframe\">\n  <thead>\n    <tr style=\"text-align: right;\">\n      <th></th>\n      <th>Scenario</th>\n      <th>Cases</th>\n      <th>Incremental Cases Averted</th>\n      <th>Cost (Funder Perspective)</th>\n      <th>Incremental Cost (Funder Perspective)</th>\n      <th>ICER (Funder Perspective)</th>\n      <th>Cost (Health System Perspective)</th>\n      <th>Incremental Cost (Health System Perspective)</th>\n      <th>ICER (Health System Perspective)</th>\n    </tr>\n  </thead>\n  <tbody>\n    <tr>\n      <th>0</th>\n      <td>No IPTsc</td>\n      <td>906.9 (861.2 - 952.6)</td>\n      <td>nan (nan - nan)</td>\n      <td>0.0 (0.0 - 0.0)</td>\n      <td>nan (nan - nan)</td>\n      <td>nan (nan - nan)</td>\n      <td>4215.1 (3242.5 - 5187.7)</td>\n      <td>nan (nan - nan)</td>\n      <td>nan (nan - nan)</td>\n    </tr>\n    <tr>\n      <th>1</th>\n      <td>SPAQ term</td>\n      <td>793.9 (751.2 - 836.6)</td>\n      <td>113.1 (50.6 - 175.6)</td>\n      <td>381.8 (258.0 - 505.6)</td>\n      <td>381.8 (258.0 - 505.6)</td>\n      <td>3.4 (1.9 - 7.9)</td>\n      <td>4233.3 (3373.6 - 5092.9)</td>\n      <td>18.2 (-1279.9 - 1316.2)</td>\n      <td>0.2 (Dominant - 14.1)</td>\n    </tr>\n    <tr>\n      <th>2</th>\n      <td>u15 SMC - SPAQ</td>\n      <td>696.6 (646.2 - 747.0)</td>\n      <td>97.3 (31.3 - 163.3)</td>\n      <td>859.9 (365.1 - 1354.7)</td>\n      <td>478.1 (-32.0 - 988.2)</td>\n      <td>4.9 (Dominant - 17.9)</td>\n      <td>4538.5 (3600.5 - 5476.5)</td>\n      <td>305.3 (-967.1 - 1577.6)</td>\n      <td>3.1 (Dominant - 23.3)</td>\n    </tr>\n    <tr>\n      <th>3</th>\n      <td>SPAQ month</td>\n      <td>592.8 (543.0 - 642.6)</td>\n      <td>103.8 (33.0 - 174.6)</td>\n      <td>1099.8 (693.6 - 1506.1)</td>\n      <td>239.9 (-400.3 - 880.1)</td>\n      <td>2.3 (Dominant - 13.1)</td>\n      <td>4438.4 (3639.2 - 5237.5)</td>\n      <td>-100.2 (-1332.4 - 1132.1)</td>\n      <td>-1.0 (Dominant - 14.3)</td>\n    </tr>\n    <tr>\n      <th>4</th>\n      <td>u15 SMC - DP</td>\n      <td>565.4 (512.7 - 618.1)</td>\n      <td>27.4 (-45.1 - 99.9)</td>\n      <td>1934.3 (1438.8 - 2429.9)</td>\n      <td>834.5 (193.7 - 1475.3)</td>\n      <td>30.5 (Dominant - 281.7)</td>\n      <td>5341.0 (4476.2 - 6205.7)</td>\n      <td>902.6 (-274.9 - 2080.1)</td>\n      <td>33.0 (Dominant - 310.1)</td>\n    </tr>\n    <tr>\n      <th>5</th>\n      <td>DP month</td>\n      <td>485.1 (426.5 - 543.7)</td>\n      <td>80.3 (1.5 - 159.2)</td>\n      <td>3776.7 (3356.4 - 4197.0)</td>\n      <td>1842.4 (1192.6 - 2492.2)</td>\n      <td>22.9 (7.0 - 140.3)</td>\n      <td>6809.1 (6084.3 - 7534.0)</td>\n      <td>1468.2 (339.8 - 2596.5)</td>\n      <td>18.3 (Dominant - 111.0)</td>\n    </tr>\n  </tbody>\n</table>\n</div>"
     },
     "execution_count": 14,
     "metadata": {},
     "output_type": "execute_result"
    }
   ],
   "source": [
    "# Remove dominated scenario 8 - DP term\n",
    "df_single = df[(df[\"archetype\"] == \"Sahel\") & (df[\"transmission_level\"] == 0.2)]\n",
    "df_single = df_single[df_single[\"scenario_number\"].isin([0, 6, 7, 9, 31, 33])]\n",
    "df_table = generate_league_table_PRETTY(df_single)\n",
    "df_table"
   ],
   "metadata": {
    "collapsed": false,
    "ExecuteTime": {
     "end_time": "2024-10-18T18:03:29.919031Z",
     "start_time": "2024-10-18T18:03:29.656485Z"
    }
   },
   "id": "96fe2e5374de6340",
   "execution_count": 14
  },
  {
   "cell_type": "code",
   "outputs": [
    {
     "name": "stderr",
     "output_type": "stream",
     "text": [
      "C:\\Users\\joshsu\\AppData\\Local\\Temp\\ipykernel_35472\\559688894.py:40: SettingWithCopyWarning: \n",
      "A value is trying to be set on a copy of a slice from a DataFrame\n",
      "\n",
      "See the caveats in the documentation: https://pandas.pydata.org/pandas-docs/stable/user_guide/indexing.html#returning-a-view-versus-a-copy\n",
      "  df_table[\"icer_low\"].iloc[i] = np.percentile(icers, 2.5)\n",
      "C:\\Users\\joshsu\\AppData\\Local\\Temp\\ipykernel_35472\\559688894.py:41: SettingWithCopyWarning: \n",
      "A value is trying to be set on a copy of a slice from a DataFrame\n",
      "\n",
      "See the caveats in the documentation: https://pandas.pydata.org/pandas-docs/stable/user_guide/indexing.html#returning-a-view-versus-a-copy\n",
      "  df_table[\"icer_high\"].iloc[i] = np.percentile(icers, 97.5)\n",
      "C:\\Users\\joshsu\\AppData\\Local\\Temp\\ipykernel_35472\\559688894.py:48: SettingWithCopyWarning: \n",
      "A value is trying to be set on a copy of a slice from a DataFrame\n",
      "\n",
      "See the caveats in the documentation: https://pandas.pydata.org/pandas-docs/stable/user_guide/indexing.html#returning-a-view-versus-a-copy\n",
      "  df_table[\"icer_IPTsc_low\"].iloc[i] = np.percentile(icers, 2.5)\n",
      "C:\\Users\\joshsu\\AppData\\Local\\Temp\\ipykernel_35472\\559688894.py:49: SettingWithCopyWarning: \n",
      "A value is trying to be set on a copy of a slice from a DataFrame\n",
      "\n",
      "See the caveats in the documentation: https://pandas.pydata.org/pandas-docs/stable/user_guide/indexing.html#returning-a-view-versus-a-copy\n",
      "  df_table[\"icer_IPTsc_high\"].iloc[i] = np.percentile(icers, 97.5)\n"
     ]
    },
    {
     "data": {
      "text/plain": "         Scenario                  Cases Incremental Cases Averted  \\\n0        No IPTsc  906.9 (861.2 - 952.6)           nan (nan - nan)   \n1       SPAQ term  793.9 (751.2 - 836.6)      113.1 (50.6 - 175.6)   \n2  u15 SMC - SPAQ  696.6 (646.2 - 747.0)       97.3 (31.3 - 163.3)   \n3    u15 SMC - DP  565.4 (512.7 - 618.1)      131.2 (58.3 - 204.1)   \n4        DP month  485.1 (426.5 - 543.7)        80.3 (1.5 - 159.2)   \n\n  Cost (Funder Perspective) Incremental Cost (Funder Perspective)  \\\n0           0.0 (0.0 - 0.0)                       nan (nan - nan)   \n1     381.8 (258.0 - 505.6)                 381.8 (258.0 - 505.6)   \n2    859.9 (365.1 - 1354.7)                 478.1 (-32.0 - 988.2)   \n3  1934.3 (1438.8 - 2429.9)               1074.4 (374.2 - 1774.7)   \n4  3776.7 (3356.4 - 4197.0)              1842.4 (1192.6 - 2492.2)   \n\n  ICER (Funder Perspective) Cost (Health System Perspective)  \\\n0           nan (nan - nan)         4215.1 (3242.5 - 5187.7)   \n1           3.4 (1.9 - 7.8)         4233.3 (3373.6 - 5092.9)   \n2     4.9 (Dominant - 18.1)         4538.5 (3600.5 - 5476.5)   \n3          8.2 (2.6 - 20.9)         5341.0 (4476.2 - 6205.7)   \n4        22.9 (7.1 - 141.1)         6809.1 (6084.3 - 7534.0)   \n\n  Incremental Cost (Health System Perspective)  \\\n0                              nan (nan - nan)   \n1                      18.2 (-1279.9 - 1316.2)   \n2                      305.3 (-967.1 - 1577.6)   \n3                      802.4 (-473.3 - 2078.2)   \n4                      1468.2 (339.8 - 2596.5)   \n\n  ICER (Health System Perspective)  \n0                  nan (nan - nan)  \n1            0.2 (Dominant - 13.9)  \n2            3.1 (Dominant - 23.4)  \n3            6.1 (Dominant - 21.5)  \n4          18.3 (Dominant - 114.8)  ",
      "text/html": "<div>\n<style scoped>\n    .dataframe tbody tr th:only-of-type {\n        vertical-align: middle;\n    }\n\n    .dataframe tbody tr th {\n        vertical-align: top;\n    }\n\n    .dataframe thead th {\n        text-align: right;\n    }\n</style>\n<table border=\"1\" class=\"dataframe\">\n  <thead>\n    <tr style=\"text-align: right;\">\n      <th></th>\n      <th>Scenario</th>\n      <th>Cases</th>\n      <th>Incremental Cases Averted</th>\n      <th>Cost (Funder Perspective)</th>\n      <th>Incremental Cost (Funder Perspective)</th>\n      <th>ICER (Funder Perspective)</th>\n      <th>Cost (Health System Perspective)</th>\n      <th>Incremental Cost (Health System Perspective)</th>\n      <th>ICER (Health System Perspective)</th>\n    </tr>\n  </thead>\n  <tbody>\n    <tr>\n      <th>0</th>\n      <td>No IPTsc</td>\n      <td>906.9 (861.2 - 952.6)</td>\n      <td>nan (nan - nan)</td>\n      <td>0.0 (0.0 - 0.0)</td>\n      <td>nan (nan - nan)</td>\n      <td>nan (nan - nan)</td>\n      <td>4215.1 (3242.5 - 5187.7)</td>\n      <td>nan (nan - nan)</td>\n      <td>nan (nan - nan)</td>\n    </tr>\n    <tr>\n      <th>1</th>\n      <td>SPAQ term</td>\n      <td>793.9 (751.2 - 836.6)</td>\n      <td>113.1 (50.6 - 175.6)</td>\n      <td>381.8 (258.0 - 505.6)</td>\n      <td>381.8 (258.0 - 505.6)</td>\n      <td>3.4 (1.9 - 7.8)</td>\n      <td>4233.3 (3373.6 - 5092.9)</td>\n      <td>18.2 (-1279.9 - 1316.2)</td>\n      <td>0.2 (Dominant - 13.9)</td>\n    </tr>\n    <tr>\n      <th>2</th>\n      <td>u15 SMC - SPAQ</td>\n      <td>696.6 (646.2 - 747.0)</td>\n      <td>97.3 (31.3 - 163.3)</td>\n      <td>859.9 (365.1 - 1354.7)</td>\n      <td>478.1 (-32.0 - 988.2)</td>\n      <td>4.9 (Dominant - 18.1)</td>\n      <td>4538.5 (3600.5 - 5476.5)</td>\n      <td>305.3 (-967.1 - 1577.6)</td>\n      <td>3.1 (Dominant - 23.4)</td>\n    </tr>\n    <tr>\n      <th>3</th>\n      <td>u15 SMC - DP</td>\n      <td>565.4 (512.7 - 618.1)</td>\n      <td>131.2 (58.3 - 204.1)</td>\n      <td>1934.3 (1438.8 - 2429.9)</td>\n      <td>1074.4 (374.2 - 1774.7)</td>\n      <td>8.2 (2.6 - 20.9)</td>\n      <td>5341.0 (4476.2 - 6205.7)</td>\n      <td>802.4 (-473.3 - 2078.2)</td>\n      <td>6.1 (Dominant - 21.5)</td>\n    </tr>\n    <tr>\n      <th>4</th>\n      <td>DP month</td>\n      <td>485.1 (426.5 - 543.7)</td>\n      <td>80.3 (1.5 - 159.2)</td>\n      <td>3776.7 (3356.4 - 4197.0)</td>\n      <td>1842.4 (1192.6 - 2492.2)</td>\n      <td>22.9 (7.1 - 141.1)</td>\n      <td>6809.1 (6084.3 - 7534.0)</td>\n      <td>1468.2 (339.8 - 2596.5)</td>\n      <td>18.3 (Dominant - 114.8)</td>\n    </tr>\n  </tbody>\n</table>\n</div>"
     },
     "execution_count": 15,
     "metadata": {},
     "output_type": "execute_result"
    }
   ],
   "source": [
    "# Remove dominated scenario 7 - SPAQ month\n",
    "df_single = df[(df[\"archetype\"] == \"Sahel\") & (df[\"transmission_level\"] == 0.2)]\n",
    "df_single = df_single[df_single[\"scenario_number\"].isin([0, 6, 9, 31, 33])]\n",
    "df_table = generate_league_table_PRETTY(df_single)\n",
    "df_table.to_csv(\"league_table_sahel_pretty.csv\")\n",
    "df_table"
   ],
   "metadata": {
    "collapsed": false,
    "ExecuteTime": {
     "end_time": "2024-10-18T18:03:30.291965Z",
     "start_time": "2024-10-18T18:03:29.923028Z"
    }
   },
   "id": "4dba79608b0bfbfc",
   "execution_count": 15
  },
  {
   "cell_type": "markdown",
   "source": [
    "# All league tables for Southern"
   ],
   "metadata": {
    "collapsed": false
   },
   "id": "1393a22c6ecfcfde"
  },
  {
   "cell_type": "markdown",
   "source": [
    "## 5% pfpr"
   ],
   "metadata": {
    "collapsed": false
   },
   "id": "1f67b772794173ed"
  },
  {
   "cell_type": "code",
   "outputs": [
    {
     "name": "stderr",
     "output_type": "stream",
     "text": [
      "C:\\Users\\joshsu\\AppData\\Local\\Temp\\ipykernel_35472\\559688894.py:40: SettingWithCopyWarning: \n",
      "A value is trying to be set on a copy of a slice from a DataFrame\n",
      "\n",
      "See the caveats in the documentation: https://pandas.pydata.org/pandas-docs/stable/user_guide/indexing.html#returning-a-view-versus-a-copy\n",
      "  df_table[\"icer_low\"].iloc[i] = np.percentile(icers, 2.5)\n",
      "C:\\Users\\joshsu\\AppData\\Local\\Temp\\ipykernel_35472\\559688894.py:41: SettingWithCopyWarning: \n",
      "A value is trying to be set on a copy of a slice from a DataFrame\n",
      "\n",
      "See the caveats in the documentation: https://pandas.pydata.org/pandas-docs/stable/user_guide/indexing.html#returning-a-view-versus-a-copy\n",
      "  df_table[\"icer_high\"].iloc[i] = np.percentile(icers, 97.5)\n",
      "C:\\Users\\joshsu\\AppData\\Local\\Temp\\ipykernel_35472\\559688894.py:48: SettingWithCopyWarning: \n",
      "A value is trying to be set on a copy of a slice from a DataFrame\n",
      "\n",
      "See the caveats in the documentation: https://pandas.pydata.org/pandas-docs/stable/user_guide/indexing.html#returning-a-view-versus-a-copy\n",
      "  df_table[\"icer_IPTsc_low\"].iloc[i] = np.percentile(icers, 2.5)\n",
      "C:\\Users\\joshsu\\AppData\\Local\\Temp\\ipykernel_35472\\559688894.py:49: SettingWithCopyWarning: \n",
      "A value is trying to be set on a copy of a slice from a DataFrame\n",
      "\n",
      "See the caveats in the documentation: https://pandas.pydata.org/pandas-docs/stable/user_guide/indexing.html#returning-a-view-versus-a-copy\n",
      "  df_table[\"icer_IPTsc_high\"].iloc[i] = np.percentile(icers, 97.5)\n"
     ]
    },
    {
     "data": {
      "text/plain": "     Scenario                  Cases Incremental Cases Averted  \\\n0    No IPTsc  663.5 (570.2 - 756.8)           nan (nan - nan)   \n1   ASAQ term  586.5 (444.8 - 728.2)      77.0 (-92.7 - 246.6)   \n2     DP term  383.0 (211.9 - 554.1)     203.5 (-18.7 - 425.6)   \n3  ASAQ month  323.0 (147.2 - 498.8)     60.0 (-185.3 - 305.4)   \n4    DP month   217.1 (67.4 - 366.8)    106.0 (-125.1 - 337.0)   \n\n  Cost (Funder Perspective) Incremental Cost (Funder Perspective)  \\\n0           0.0 (0.0 - 0.0)                       nan (nan - nan)   \n1     445.6 (324.4 - 566.9)                 445.6 (324.4 - 566.9)   \n2  1243.0 (1115.7 - 1370.3)                 797.4 (621.6 - 973.2)   \n3  1707.8 (1176.9 - 2238.7)                464.8 (-81.2 - 1010.7)   \n4  4886.7 (4339.8 - 5433.6)              3178.9 (2416.8 - 3941.1)   \n\n  ICER (Funder Perspective) Cost (Health System Perspective)  \\\n0           nan (nan - nan)         2351.6 (1816.3 - 2886.8)   \n1     5.8 (Dominant - 57.0)         2606.5 (2083.0 - 3129.9)   \n2     3.9 (Dominant - 27.7)         2992.9 (2560.4 - 3425.4)   \n3     7.7 (Dominant - 53.8)         3311.3 (2663.5 - 3959.2)   \n4   30.0 (Dominant - 298.6)         6299.5 (5681.3 - 6917.8)   \n\n  Incremental Cost (Health System Perspective)  \\\n0                              nan (nan - nan)   \n1                      254.9 (-493.8 - 1003.5)   \n2                      386.4 (-292.6 - 1065.4)   \n3                      318.4 (-460.5 - 1097.4)   \n4                     2988.2 (2092.7 - 3883.7)   \n\n  ICER (Health System Perspective)  \n0                  nan (nan - nan)  \n1            3.3 (Dominant - 47.3)  \n2            1.9 (Dominant - 16.1)  \n3            5.3 (Dominant - 47.7)  \n4          28.2 (Dominant - 273.1)  ",
      "text/html": "<div>\n<style scoped>\n    .dataframe tbody tr th:only-of-type {\n        vertical-align: middle;\n    }\n\n    .dataframe tbody tr th {\n        vertical-align: top;\n    }\n\n    .dataframe thead th {\n        text-align: right;\n    }\n</style>\n<table border=\"1\" class=\"dataframe\">\n  <thead>\n    <tr style=\"text-align: right;\">\n      <th></th>\n      <th>Scenario</th>\n      <th>Cases</th>\n      <th>Incremental Cases Averted</th>\n      <th>Cost (Funder Perspective)</th>\n      <th>Incremental Cost (Funder Perspective)</th>\n      <th>ICER (Funder Perspective)</th>\n      <th>Cost (Health System Perspective)</th>\n      <th>Incremental Cost (Health System Perspective)</th>\n      <th>ICER (Health System Perspective)</th>\n    </tr>\n  </thead>\n  <tbody>\n    <tr>\n      <th>0</th>\n      <td>No IPTsc</td>\n      <td>663.5 (570.2 - 756.8)</td>\n      <td>nan (nan - nan)</td>\n      <td>0.0 (0.0 - 0.0)</td>\n      <td>nan (nan - nan)</td>\n      <td>nan (nan - nan)</td>\n      <td>2351.6 (1816.3 - 2886.8)</td>\n      <td>nan (nan - nan)</td>\n      <td>nan (nan - nan)</td>\n    </tr>\n    <tr>\n      <th>1</th>\n      <td>ASAQ term</td>\n      <td>586.5 (444.8 - 728.2)</td>\n      <td>77.0 (-92.7 - 246.6)</td>\n      <td>445.6 (324.4 - 566.9)</td>\n      <td>445.6 (324.4 - 566.9)</td>\n      <td>5.8 (Dominant - 57.0)</td>\n      <td>2606.5 (2083.0 - 3129.9)</td>\n      <td>254.9 (-493.8 - 1003.5)</td>\n      <td>3.3 (Dominant - 47.3)</td>\n    </tr>\n    <tr>\n      <th>2</th>\n      <td>DP term</td>\n      <td>383.0 (211.9 - 554.1)</td>\n      <td>203.5 (-18.7 - 425.6)</td>\n      <td>1243.0 (1115.7 - 1370.3)</td>\n      <td>797.4 (621.6 - 973.2)</td>\n      <td>3.9 (Dominant - 27.7)</td>\n      <td>2992.9 (2560.4 - 3425.4)</td>\n      <td>386.4 (-292.6 - 1065.4)</td>\n      <td>1.9 (Dominant - 16.1)</td>\n    </tr>\n    <tr>\n      <th>3</th>\n      <td>ASAQ month</td>\n      <td>323.0 (147.2 - 498.8)</td>\n      <td>60.0 (-185.3 - 305.4)</td>\n      <td>1707.8 (1176.9 - 2238.7)</td>\n      <td>464.8 (-81.2 - 1010.7)</td>\n      <td>7.7 (Dominant - 53.8)</td>\n      <td>3311.3 (2663.5 - 3959.2)</td>\n      <td>318.4 (-460.5 - 1097.4)</td>\n      <td>5.3 (Dominant - 47.7)</td>\n    </tr>\n    <tr>\n      <th>4</th>\n      <td>DP month</td>\n      <td>217.1 (67.4 - 366.8)</td>\n      <td>106.0 (-125.1 - 337.0)</td>\n      <td>4886.7 (4339.8 - 5433.6)</td>\n      <td>3178.9 (2416.8 - 3941.1)</td>\n      <td>30.0 (Dominant - 298.6)</td>\n      <td>6299.5 (5681.3 - 6917.8)</td>\n      <td>2988.2 (2092.7 - 3883.7)</td>\n      <td>28.2 (Dominant - 273.1)</td>\n    </tr>\n  </tbody>\n</table>\n</div>"
     },
     "execution_count": 16,
     "metadata": {},
     "output_type": "execute_result"
    }
   ],
   "source": [
    "df_single = df[(df[\"archetype\"] == \"Southern\") & (df[\"transmission_level\"] == 0.05)]\n",
    "df_single = df_single[df_single[\"scenario_number\"].isin([0, 6, 7, 8, 9])]\n",
    "df_table = generate_league_table_PRETTY(df_single)\n",
    "df_table.to_csv(\"league_tables/league_table_southern_pfpr05_all.csv\", index=False)\n",
    "df_table"
   ],
   "metadata": {
    "collapsed": false,
    "ExecuteTime": {
     "end_time": "2024-10-18T18:03:30.663634Z",
     "start_time": "2024-10-18T18:03:30.296529Z"
    }
   },
   "id": "8c23cc1bdf4923b3",
   "execution_count": 16
  },
  {
   "cell_type": "code",
   "outputs": [
    {
     "name": "stderr",
     "output_type": "stream",
     "text": [
      "C:\\Users\\joshsu\\AppData\\Local\\Temp\\ipykernel_35472\\559688894.py:40: SettingWithCopyWarning: \n",
      "A value is trying to be set on a copy of a slice from a DataFrame\n",
      "\n",
      "See the caveats in the documentation: https://pandas.pydata.org/pandas-docs/stable/user_guide/indexing.html#returning-a-view-versus-a-copy\n",
      "  df_table[\"icer_low\"].iloc[i] = np.percentile(icers, 2.5)\n",
      "C:\\Users\\joshsu\\AppData\\Local\\Temp\\ipykernel_35472\\559688894.py:41: SettingWithCopyWarning: \n",
      "A value is trying to be set on a copy of a slice from a DataFrame\n",
      "\n",
      "See the caveats in the documentation: https://pandas.pydata.org/pandas-docs/stable/user_guide/indexing.html#returning-a-view-versus-a-copy\n",
      "  df_table[\"icer_high\"].iloc[i] = np.percentile(icers, 97.5)\n",
      "C:\\Users\\joshsu\\AppData\\Local\\Temp\\ipykernel_35472\\559688894.py:48: SettingWithCopyWarning: \n",
      "A value is trying to be set on a copy of a slice from a DataFrame\n",
      "\n",
      "See the caveats in the documentation: https://pandas.pydata.org/pandas-docs/stable/user_guide/indexing.html#returning-a-view-versus-a-copy\n",
      "  df_table[\"icer_IPTsc_low\"].iloc[i] = np.percentile(icers, 2.5)\n",
      "C:\\Users\\joshsu\\AppData\\Local\\Temp\\ipykernel_35472\\559688894.py:49: SettingWithCopyWarning: \n",
      "A value is trying to be set on a copy of a slice from a DataFrame\n",
      "\n",
      "See the caveats in the documentation: https://pandas.pydata.org/pandas-docs/stable/user_guide/indexing.html#returning-a-view-versus-a-copy\n",
      "  df_table[\"icer_IPTsc_high\"].iloc[i] = np.percentile(icers, 97.5)\n"
     ]
    },
    {
     "data": {
      "text/plain": "     Scenario                  Cases Incremental Cases Averted  \\\n0    No IPTsc  663.5 (570.2 - 756.8)           nan (nan - nan)   \n1     DP term  383.0 (211.9 - 554.1)      280.4 (85.6 - 475.3)   \n2  ASAQ month  323.0 (147.2 - 498.8)     60.0 (-185.3 - 305.4)   \n3    DP month   217.1 (67.4 - 366.8)    106.0 (-125.1 - 337.0)   \n\n  Cost (Funder Perspective) Incremental Cost (Funder Perspective)  \\\n0           0.0 (0.0 - 0.0)                       nan (nan - nan)   \n1  1243.0 (1115.7 - 1370.3)              1243.0 (1115.7 - 1370.3)   \n2  1707.8 (1176.9 - 2238.7)                464.8 (-81.2 - 1010.7)   \n3  4886.7 (4339.8 - 5433.6)              3178.9 (2416.8 - 3941.1)   \n\n  ICER (Funder Perspective) Cost (Health System Perspective)  \\\n0           nan (nan - nan)         2351.6 (1816.3 - 2886.8)   \n1          4.4 (2.6 - 14.0)         2992.9 (2560.4 - 3425.4)   \n2     7.7 (Dominant - 54.8)         3311.3 (2663.5 - 3959.2)   \n3   30.0 (Dominant - 301.9)         6299.5 (5681.3 - 6917.8)   \n\n  Incremental Cost (Health System Perspective)  \\\n0                              nan (nan - nan)   \n1                       641.3 (-46.8 - 1329.4)   \n2                      318.4 (-460.5 - 1097.4)   \n3                     2988.2 (2092.7 - 3883.7)   \n\n  ICER (Health System Perspective)  \n0                  nan (nan - nan)  \n1             2.3 (Dominant - 8.6)  \n2            5.3 (Dominant - 47.5)  \n3          28.2 (Dominant - 275.2)  ",
      "text/html": "<div>\n<style scoped>\n    .dataframe tbody tr th:only-of-type {\n        vertical-align: middle;\n    }\n\n    .dataframe tbody tr th {\n        vertical-align: top;\n    }\n\n    .dataframe thead th {\n        text-align: right;\n    }\n</style>\n<table border=\"1\" class=\"dataframe\">\n  <thead>\n    <tr style=\"text-align: right;\">\n      <th></th>\n      <th>Scenario</th>\n      <th>Cases</th>\n      <th>Incremental Cases Averted</th>\n      <th>Cost (Funder Perspective)</th>\n      <th>Incremental Cost (Funder Perspective)</th>\n      <th>ICER (Funder Perspective)</th>\n      <th>Cost (Health System Perspective)</th>\n      <th>Incremental Cost (Health System Perspective)</th>\n      <th>ICER (Health System Perspective)</th>\n    </tr>\n  </thead>\n  <tbody>\n    <tr>\n      <th>0</th>\n      <td>No IPTsc</td>\n      <td>663.5 (570.2 - 756.8)</td>\n      <td>nan (nan - nan)</td>\n      <td>0.0 (0.0 - 0.0)</td>\n      <td>nan (nan - nan)</td>\n      <td>nan (nan - nan)</td>\n      <td>2351.6 (1816.3 - 2886.8)</td>\n      <td>nan (nan - nan)</td>\n      <td>nan (nan - nan)</td>\n    </tr>\n    <tr>\n      <th>1</th>\n      <td>DP term</td>\n      <td>383.0 (211.9 - 554.1)</td>\n      <td>280.4 (85.6 - 475.3)</td>\n      <td>1243.0 (1115.7 - 1370.3)</td>\n      <td>1243.0 (1115.7 - 1370.3)</td>\n      <td>4.4 (2.6 - 14.0)</td>\n      <td>2992.9 (2560.4 - 3425.4)</td>\n      <td>641.3 (-46.8 - 1329.4)</td>\n      <td>2.3 (Dominant - 8.6)</td>\n    </tr>\n    <tr>\n      <th>2</th>\n      <td>ASAQ month</td>\n      <td>323.0 (147.2 - 498.8)</td>\n      <td>60.0 (-185.3 - 305.4)</td>\n      <td>1707.8 (1176.9 - 2238.7)</td>\n      <td>464.8 (-81.2 - 1010.7)</td>\n      <td>7.7 (Dominant - 54.8)</td>\n      <td>3311.3 (2663.5 - 3959.2)</td>\n      <td>318.4 (-460.5 - 1097.4)</td>\n      <td>5.3 (Dominant - 47.5)</td>\n    </tr>\n    <tr>\n      <th>3</th>\n      <td>DP month</td>\n      <td>217.1 (67.4 - 366.8)</td>\n      <td>106.0 (-125.1 - 337.0)</td>\n      <td>4886.7 (4339.8 - 5433.6)</td>\n      <td>3178.9 (2416.8 - 3941.1)</td>\n      <td>30.0 (Dominant - 301.9)</td>\n      <td>6299.5 (5681.3 - 6917.8)</td>\n      <td>2988.2 (2092.7 - 3883.7)</td>\n      <td>28.2 (Dominant - 275.2)</td>\n    </tr>\n  </tbody>\n</table>\n</div>"
     },
     "execution_count": 17,
     "metadata": {},
     "output_type": "execute_result"
    }
   ],
   "source": [
    "df_single = df[(df[\"archetype\"] == \"Southern\") & (df[\"transmission_level\"] == 0.05)]\n",
    "df_single = df_single[df_single[\"scenario_number\"].isin([0, 7, 8, 9])]\n",
    "df_table = generate_league_table_PRETTY(df_single)\n",
    "df_table.to_csv(\"league_tables/league_table_southern_pfpr05_reduced.csv\", index=False)\n",
    "df_table"
   ],
   "metadata": {
    "collapsed": false,
    "ExecuteTime": {
     "end_time": "2024-10-18T18:03:31.303725Z",
     "start_time": "2024-10-18T18:03:30.680306Z"
    }
   },
   "id": "e21199a33072a4ab",
   "execution_count": 17
  },
  {
   "cell_type": "markdown",
   "source": [
    "## 10% pfpr"
   ],
   "metadata": {
    "collapsed": false
   },
   "id": "c7c1c8fcb759d70"
  },
  {
   "cell_type": "code",
   "outputs": [
    {
     "name": "stderr",
     "output_type": "stream",
     "text": [
      "C:\\Users\\joshsu\\AppData\\Local\\Temp\\ipykernel_35472\\559688894.py:40: SettingWithCopyWarning: \n",
      "A value is trying to be set on a copy of a slice from a DataFrame\n",
      "\n",
      "See the caveats in the documentation: https://pandas.pydata.org/pandas-docs/stable/user_guide/indexing.html#returning-a-view-versus-a-copy\n",
      "  df_table[\"icer_low\"].iloc[i] = np.percentile(icers, 2.5)\n",
      "C:\\Users\\joshsu\\AppData\\Local\\Temp\\ipykernel_35472\\559688894.py:41: SettingWithCopyWarning: \n",
      "A value is trying to be set on a copy of a slice from a DataFrame\n",
      "\n",
      "See the caveats in the documentation: https://pandas.pydata.org/pandas-docs/stable/user_guide/indexing.html#returning-a-view-versus-a-copy\n",
      "  df_table[\"icer_high\"].iloc[i] = np.percentile(icers, 97.5)\n",
      "C:\\Users\\joshsu\\AppData\\Local\\Temp\\ipykernel_35472\\559688894.py:48: SettingWithCopyWarning: \n",
      "A value is trying to be set on a copy of a slice from a DataFrame\n",
      "\n",
      "See the caveats in the documentation: https://pandas.pydata.org/pandas-docs/stable/user_guide/indexing.html#returning-a-view-versus-a-copy\n",
      "  df_table[\"icer_IPTsc_low\"].iloc[i] = np.percentile(icers, 2.5)\n",
      "C:\\Users\\joshsu\\AppData\\Local\\Temp\\ipykernel_35472\\559688894.py:49: SettingWithCopyWarning: \n",
      "A value is trying to be set on a copy of a slice from a DataFrame\n",
      "\n",
      "See the caveats in the documentation: https://pandas.pydata.org/pandas-docs/stable/user_guide/indexing.html#returning-a-view-versus-a-copy\n",
      "  df_table[\"icer_IPTsc_high\"].iloc[i] = np.percentile(icers, 97.5)\n"
     ]
    },
    {
     "data": {
      "text/plain": "     Scenario                  Cases Incremental Cases Averted  \\\n0    No IPTsc  800.3 (727.8 - 872.8)           nan (nan - nan)   \n1   ASAQ term  768.1 (695.4 - 840.8)      32.2 (-70.5 - 134.9)   \n2     DP term  565.1 (447.5 - 682.7)      203.0 (64.8 - 341.2)   \n3  ASAQ month  480.8 (341.6 - 620.0)      84.2 (-97.9 - 266.3)   \n4    DP month  359.0 (243.2 - 474.8)     121.8 (-59.2 - 302.8)   \n\n  Cost (Funder Perspective) Incremental Cost (Funder Perspective)  \\\n0           0.0 (0.0 - 0.0)                       nan (nan - nan)   \n1     456.1 (332.3 - 579.9)                 456.1 (332.3 - 579.9)   \n2  1271.2 (1143.9 - 1398.5)                 815.1 (637.5 - 992.7)   \n3  1745.1 (1202.0 - 2288.1)                473.9 (-83.9 - 1031.7)   \n4  4992.3 (4434.6 - 5550.1)              3247.3 (2468.8 - 4025.7)   \n\n  ICER (Funder Perspective) Cost (Health System Perspective)  \\\n0           nan (nan - nan)         2737.5 (2079.0 - 3396.1)   \n1   14.2 (Dominant - 121.9)         3063.8 (2438.5 - 3689.1)   \n2          4.0 (2.2 - 12.2)         3433.0 (2926.1 - 3939.9)   \n3     5.6 (Dominant - 57.8)         3717.6 (3017.1 - 4418.2)   \n4   26.7 (Dominant - 254.3)         6733.8 (6073.0 - 7394.6)   \n\n  Incremental Cost (Health System Perspective)  \\\n0                              nan (nan - nan)   \n1                      326.3 (-581.9 - 1234.4)   \n2                      369.2 (-435.8 - 1174.1)   \n3                      284.6 (-580.1 - 1149.3)   \n4                     3016.2 (2053.1 - 3979.2)   \n\n  ICER (Health System Perspective)  \n0                  nan (nan - nan)  \n1          10.1 (Dominant - 116.1)  \n2             1.8 (Dominant - 9.0)  \n3            3.4 (Dominant - 51.1)  \n4          24.8 (Dominant - 242.7)  ",
      "text/html": "<div>\n<style scoped>\n    .dataframe tbody tr th:only-of-type {\n        vertical-align: middle;\n    }\n\n    .dataframe tbody tr th {\n        vertical-align: top;\n    }\n\n    .dataframe thead th {\n        text-align: right;\n    }\n</style>\n<table border=\"1\" class=\"dataframe\">\n  <thead>\n    <tr style=\"text-align: right;\">\n      <th></th>\n      <th>Scenario</th>\n      <th>Cases</th>\n      <th>Incremental Cases Averted</th>\n      <th>Cost (Funder Perspective)</th>\n      <th>Incremental Cost (Funder Perspective)</th>\n      <th>ICER (Funder Perspective)</th>\n      <th>Cost (Health System Perspective)</th>\n      <th>Incremental Cost (Health System Perspective)</th>\n      <th>ICER (Health System Perspective)</th>\n    </tr>\n  </thead>\n  <tbody>\n    <tr>\n      <th>0</th>\n      <td>No IPTsc</td>\n      <td>800.3 (727.8 - 872.8)</td>\n      <td>nan (nan - nan)</td>\n      <td>0.0 (0.0 - 0.0)</td>\n      <td>nan (nan - nan)</td>\n      <td>nan (nan - nan)</td>\n      <td>2737.5 (2079.0 - 3396.1)</td>\n      <td>nan (nan - nan)</td>\n      <td>nan (nan - nan)</td>\n    </tr>\n    <tr>\n      <th>1</th>\n      <td>ASAQ term</td>\n      <td>768.1 (695.4 - 840.8)</td>\n      <td>32.2 (-70.5 - 134.9)</td>\n      <td>456.1 (332.3 - 579.9)</td>\n      <td>456.1 (332.3 - 579.9)</td>\n      <td>14.2 (Dominant - 121.9)</td>\n      <td>3063.8 (2438.5 - 3689.1)</td>\n      <td>326.3 (-581.9 - 1234.4)</td>\n      <td>10.1 (Dominant - 116.1)</td>\n    </tr>\n    <tr>\n      <th>2</th>\n      <td>DP term</td>\n      <td>565.1 (447.5 - 682.7)</td>\n      <td>203.0 (64.8 - 341.2)</td>\n      <td>1271.2 (1143.9 - 1398.5)</td>\n      <td>815.1 (637.5 - 992.7)</td>\n      <td>4.0 (2.2 - 12.2)</td>\n      <td>3433.0 (2926.1 - 3939.9)</td>\n      <td>369.2 (-435.8 - 1174.1)</td>\n      <td>1.8 (Dominant - 9.0)</td>\n    </tr>\n    <tr>\n      <th>3</th>\n      <td>ASAQ month</td>\n      <td>480.8 (341.6 - 620.0)</td>\n      <td>84.2 (-97.9 - 266.3)</td>\n      <td>1745.1 (1202.0 - 2288.1)</td>\n      <td>473.9 (-83.9 - 1031.7)</td>\n      <td>5.6 (Dominant - 57.8)</td>\n      <td>3717.6 (3017.1 - 4418.2)</td>\n      <td>284.6 (-580.1 - 1149.3)</td>\n      <td>3.4 (Dominant - 51.1)</td>\n    </tr>\n    <tr>\n      <th>4</th>\n      <td>DP month</td>\n      <td>359.0 (243.2 - 474.8)</td>\n      <td>121.8 (-59.2 - 302.8)</td>\n      <td>4992.3 (4434.6 - 5550.1)</td>\n      <td>3247.3 (2468.8 - 4025.7)</td>\n      <td>26.7 (Dominant - 254.3)</td>\n      <td>6733.8 (6073.0 - 7394.6)</td>\n      <td>3016.2 (2053.1 - 3979.2)</td>\n      <td>24.8 (Dominant - 242.7)</td>\n    </tr>\n  </tbody>\n</table>\n</div>"
     },
     "execution_count": 18,
     "metadata": {},
     "output_type": "execute_result"
    }
   ],
   "source": [
    "df_single = df[(df[\"archetype\"] == \"Southern\") & (df[\"transmission_level\"] == 0.1)]\n",
    "df_single = df_single[df_single[\"scenario_number\"].isin([0, 6, 7, 8, 9])]\n",
    "df_table = generate_league_table_PRETTY(df_single)\n",
    "df_table"
   ],
   "metadata": {
    "collapsed": false,
    "ExecuteTime": {
     "end_time": "2024-10-18T18:03:31.736692Z",
     "start_time": "2024-10-18T18:03:31.331748Z"
    }
   },
   "id": "aa7a74d5a453eb2a",
   "execution_count": 18
  },
  {
   "cell_type": "code",
   "outputs": [
    {
     "name": "stderr",
     "output_type": "stream",
     "text": [
      "C:\\Users\\joshsu\\AppData\\Local\\Temp\\ipykernel_35472\\559688894.py:40: SettingWithCopyWarning: \n",
      "A value is trying to be set on a copy of a slice from a DataFrame\n",
      "\n",
      "See the caveats in the documentation: https://pandas.pydata.org/pandas-docs/stable/user_guide/indexing.html#returning-a-view-versus-a-copy\n",
      "  df_table[\"icer_low\"].iloc[i] = np.percentile(icers, 2.5)\n",
      "C:\\Users\\joshsu\\AppData\\Local\\Temp\\ipykernel_35472\\559688894.py:41: SettingWithCopyWarning: \n",
      "A value is trying to be set on a copy of a slice from a DataFrame\n",
      "\n",
      "See the caveats in the documentation: https://pandas.pydata.org/pandas-docs/stable/user_guide/indexing.html#returning-a-view-versus-a-copy\n",
      "  df_table[\"icer_high\"].iloc[i] = np.percentile(icers, 97.5)\n",
      "C:\\Users\\joshsu\\AppData\\Local\\Temp\\ipykernel_35472\\559688894.py:48: SettingWithCopyWarning: \n",
      "A value is trying to be set on a copy of a slice from a DataFrame\n",
      "\n",
      "See the caveats in the documentation: https://pandas.pydata.org/pandas-docs/stable/user_guide/indexing.html#returning-a-view-versus-a-copy\n",
      "  df_table[\"icer_IPTsc_low\"].iloc[i] = np.percentile(icers, 2.5)\n",
      "C:\\Users\\joshsu\\AppData\\Local\\Temp\\ipykernel_35472\\559688894.py:49: SettingWithCopyWarning: \n",
      "A value is trying to be set on a copy of a slice from a DataFrame\n",
      "\n",
      "See the caveats in the documentation: https://pandas.pydata.org/pandas-docs/stable/user_guide/indexing.html#returning-a-view-versus-a-copy\n",
      "  df_table[\"icer_IPTsc_high\"].iloc[i] = np.percentile(icers, 97.5)\n"
     ]
    },
    {
     "data": {
      "text/plain": "     Scenario                  Cases Incremental Cases Averted  \\\n0    No IPTsc  800.3 (727.8 - 872.8)           nan (nan - nan)   \n1     DP term  565.1 (447.5 - 682.7)      235.3 (97.1 - 373.4)   \n2  ASAQ month  480.8 (341.6 - 620.0)      84.2 (-97.9 - 266.3)   \n3    DP month  359.0 (243.2 - 474.8)     121.8 (-59.2 - 302.8)   \n\n  Cost (Funder Perspective) Incremental Cost (Funder Perspective)  \\\n0           0.0 (0.0 - 0.0)                       nan (nan - nan)   \n1  1271.2 (1143.9 - 1398.5)              1271.2 (1143.9 - 1398.5)   \n2  1745.1 (1202.0 - 2288.1)                473.9 (-83.9 - 1031.7)   \n3  4992.3 (4434.6 - 5550.1)              3247.3 (2468.8 - 4025.7)   \n\n  ICER (Funder Perspective) Cost (Health System Perspective)  \\\n0           nan (nan - nan)         2737.5 (2079.0 - 3396.1)   \n1          5.4 (3.4 - 13.2)         3433.0 (2926.1 - 3939.9)   \n2     5.6 (Dominant - 58.9)         3717.6 (3017.1 - 4418.2)   \n3   26.7 (Dominant - 263.7)         6733.8 (6073.0 - 7394.6)   \n\n  Incremental Cost (Health System Perspective)  \\\n0                              nan (nan - nan)   \n1                      695.5 (-135.6 - 1526.5)   \n2                      284.6 (-580.1 - 1149.3)   \n3                     3016.2 (2053.1 - 3979.2)   \n\n  ICER (Health System Perspective)  \n0                  nan (nan - nan)  \n1             3.0 (Dominant - 9.6)  \n2            3.4 (Dominant - 52.3)  \n3          24.8 (Dominant - 240.8)  ",
      "text/html": "<div>\n<style scoped>\n    .dataframe tbody tr th:only-of-type {\n        vertical-align: middle;\n    }\n\n    .dataframe tbody tr th {\n        vertical-align: top;\n    }\n\n    .dataframe thead th {\n        text-align: right;\n    }\n</style>\n<table border=\"1\" class=\"dataframe\">\n  <thead>\n    <tr style=\"text-align: right;\">\n      <th></th>\n      <th>Scenario</th>\n      <th>Cases</th>\n      <th>Incremental Cases Averted</th>\n      <th>Cost (Funder Perspective)</th>\n      <th>Incremental Cost (Funder Perspective)</th>\n      <th>ICER (Funder Perspective)</th>\n      <th>Cost (Health System Perspective)</th>\n      <th>Incremental Cost (Health System Perspective)</th>\n      <th>ICER (Health System Perspective)</th>\n    </tr>\n  </thead>\n  <tbody>\n    <tr>\n      <th>0</th>\n      <td>No IPTsc</td>\n      <td>800.3 (727.8 - 872.8)</td>\n      <td>nan (nan - nan)</td>\n      <td>0.0 (0.0 - 0.0)</td>\n      <td>nan (nan - nan)</td>\n      <td>nan (nan - nan)</td>\n      <td>2737.5 (2079.0 - 3396.1)</td>\n      <td>nan (nan - nan)</td>\n      <td>nan (nan - nan)</td>\n    </tr>\n    <tr>\n      <th>1</th>\n      <td>DP term</td>\n      <td>565.1 (447.5 - 682.7)</td>\n      <td>235.3 (97.1 - 373.4)</td>\n      <td>1271.2 (1143.9 - 1398.5)</td>\n      <td>1271.2 (1143.9 - 1398.5)</td>\n      <td>5.4 (3.4 - 13.2)</td>\n      <td>3433.0 (2926.1 - 3939.9)</td>\n      <td>695.5 (-135.6 - 1526.5)</td>\n      <td>3.0 (Dominant - 9.6)</td>\n    </tr>\n    <tr>\n      <th>2</th>\n      <td>ASAQ month</td>\n      <td>480.8 (341.6 - 620.0)</td>\n      <td>84.2 (-97.9 - 266.3)</td>\n      <td>1745.1 (1202.0 - 2288.1)</td>\n      <td>473.9 (-83.9 - 1031.7)</td>\n      <td>5.6 (Dominant - 58.9)</td>\n      <td>3717.6 (3017.1 - 4418.2)</td>\n      <td>284.6 (-580.1 - 1149.3)</td>\n      <td>3.4 (Dominant - 52.3)</td>\n    </tr>\n    <tr>\n      <th>3</th>\n      <td>DP month</td>\n      <td>359.0 (243.2 - 474.8)</td>\n      <td>121.8 (-59.2 - 302.8)</td>\n      <td>4992.3 (4434.6 - 5550.1)</td>\n      <td>3247.3 (2468.8 - 4025.7)</td>\n      <td>26.7 (Dominant - 263.7)</td>\n      <td>6733.8 (6073.0 - 7394.6)</td>\n      <td>3016.2 (2053.1 - 3979.2)</td>\n      <td>24.8 (Dominant - 240.8)</td>\n    </tr>\n  </tbody>\n</table>\n</div>"
     },
     "execution_count": 19,
     "metadata": {},
     "output_type": "execute_result"
    }
   ],
   "source": [
    "df_single = df[(df[\"archetype\"] == \"Southern\") & (df[\"transmission_level\"] == 0.1)]\n",
    "df_single = df_single[df_single[\"scenario_number\"].isin([0, 7, 8, 9])]\n",
    "df_table = generate_league_table_PRETTY(df_single)\n",
    "df_table"
   ],
   "metadata": {
    "collapsed": false,
    "ExecuteTime": {
     "end_time": "2024-10-18T18:03:31.998870Z",
     "start_time": "2024-10-18T18:03:31.741704Z"
    }
   },
   "id": "ad4c1ce247fc964b",
   "execution_count": 19
  },
  {
   "cell_type": "markdown",
   "source": [
    "## 20% pfpr"
   ],
   "metadata": {
    "collapsed": false
   },
   "id": "da7c1cffe3d97228"
  },
  {
   "cell_type": "code",
   "outputs": [
    {
     "name": "stderr",
     "output_type": "stream",
     "text": [
      "C:\\Users\\joshsu\\AppData\\Local\\Temp\\ipykernel_35472\\559688894.py:40: SettingWithCopyWarning: \n",
      "A value is trying to be set on a copy of a slice from a DataFrame\n",
      "\n",
      "See the caveats in the documentation: https://pandas.pydata.org/pandas-docs/stable/user_guide/indexing.html#returning-a-view-versus-a-copy\n",
      "  df_table[\"icer_low\"].iloc[i] = np.percentile(icers, 2.5)\n",
      "C:\\Users\\joshsu\\AppData\\Local\\Temp\\ipykernel_35472\\559688894.py:41: SettingWithCopyWarning: \n",
      "A value is trying to be set on a copy of a slice from a DataFrame\n",
      "\n",
      "See the caveats in the documentation: https://pandas.pydata.org/pandas-docs/stable/user_guide/indexing.html#returning-a-view-versus-a-copy\n",
      "  df_table[\"icer_high\"].iloc[i] = np.percentile(icers, 97.5)\n",
      "C:\\Users\\joshsu\\AppData\\Local\\Temp\\ipykernel_35472\\559688894.py:48: SettingWithCopyWarning: \n",
      "A value is trying to be set on a copy of a slice from a DataFrame\n",
      "\n",
      "See the caveats in the documentation: https://pandas.pydata.org/pandas-docs/stable/user_guide/indexing.html#returning-a-view-versus-a-copy\n",
      "  df_table[\"icer_IPTsc_low\"].iloc[i] = np.percentile(icers, 2.5)\n",
      "C:\\Users\\joshsu\\AppData\\Local\\Temp\\ipykernel_35472\\559688894.py:49: SettingWithCopyWarning: \n",
      "A value is trying to be set on a copy of a slice from a DataFrame\n",
      "\n",
      "See the caveats in the documentation: https://pandas.pydata.org/pandas-docs/stable/user_guide/indexing.html#returning-a-view-versus-a-copy\n",
      "  df_table[\"icer_IPTsc_high\"].iloc[i] = np.percentile(icers, 97.5)\n"
     ]
    },
    {
     "data": {
      "text/plain": "     Scenario                   Cases Incremental Cases Averted  \\\n0    No IPTsc  998.6 (959.0 - 1038.2)           nan (nan - nan)   \n1   ASAQ term   939.8 (896.3 - 983.3)       58.8 (-0.1 - 117.7)   \n2     DP term   747.9 (692.4 - 803.4)     191.9 (121.4 - 262.4)   \n3  ASAQ month   673.5 (617.2 - 729.8)       74.4 (-4.6 - 153.4)   \n4    DP month   513.6 (454.6 - 572.6)      160.0 (78.4 - 241.5)   \n\n  Cost (Funder Perspective) Incremental Cost (Funder Perspective)  \\\n0           0.0 (0.0 - 0.0)                       nan (nan - nan)   \n1     448.0 (326.1 - 569.9)                 448.0 (326.1 - 569.9)   \n2  1252.2 (1125.2 - 1379.1)                 804.2 (628.2 - 980.2)   \n3  1719.3 (1184.2 - 2254.4)                467.2 (-82.8 - 1017.1)   \n4  4918.7 (4365.9 - 5471.4)              3199.3 (2430.0 - 3968.7)   \n\n  ICER (Funder Perspective) Cost (Health System Perspective)  \\\n0           nan (nan - nan)         3664.5 (2699.8 - 4629.2)   \n1     7.6 (Dominant - 47.9)         3918.9 (3010.8 - 4826.9)   \n2           4.2 (2.8 - 6.9)         4230.8 (3485.2 - 4976.4)   \n3     6.3 (Dominant - 46.9)         4485.5 (3634.4 - 5336.6)   \n4        20.0 (12.2 - 42.1)         7352.7 (6573.1 - 8132.3)   \n\n  Incremental Cost (Health System Perspective)  \\\n0                              nan (nan - nan)   \n1                     254.4 (-1070.5 - 1579.3)   \n2                      311.9 (-863.1 - 1486.9)   \n3                      254.7 (-876.8 - 1386.2)   \n4                     2867.2 (1713.0 - 4021.4)   \n\n  ICER (Health System Perspective)  \n0                  nan (nan - nan)  \n1            4.3 (Dominant - 62.9)  \n2             1.6 (Dominant - 8.6)  \n3            3.4 (Dominant - 49.1)  \n4                17.9 (9.3 - 39.2)  ",
      "text/html": "<div>\n<style scoped>\n    .dataframe tbody tr th:only-of-type {\n        vertical-align: middle;\n    }\n\n    .dataframe tbody tr th {\n        vertical-align: top;\n    }\n\n    .dataframe thead th {\n        text-align: right;\n    }\n</style>\n<table border=\"1\" class=\"dataframe\">\n  <thead>\n    <tr style=\"text-align: right;\">\n      <th></th>\n      <th>Scenario</th>\n      <th>Cases</th>\n      <th>Incremental Cases Averted</th>\n      <th>Cost (Funder Perspective)</th>\n      <th>Incremental Cost (Funder Perspective)</th>\n      <th>ICER (Funder Perspective)</th>\n      <th>Cost (Health System Perspective)</th>\n      <th>Incremental Cost (Health System Perspective)</th>\n      <th>ICER (Health System Perspective)</th>\n    </tr>\n  </thead>\n  <tbody>\n    <tr>\n      <th>0</th>\n      <td>No IPTsc</td>\n      <td>998.6 (959.0 - 1038.2)</td>\n      <td>nan (nan - nan)</td>\n      <td>0.0 (0.0 - 0.0)</td>\n      <td>nan (nan - nan)</td>\n      <td>nan (nan - nan)</td>\n      <td>3664.5 (2699.8 - 4629.2)</td>\n      <td>nan (nan - nan)</td>\n      <td>nan (nan - nan)</td>\n    </tr>\n    <tr>\n      <th>1</th>\n      <td>ASAQ term</td>\n      <td>939.8 (896.3 - 983.3)</td>\n      <td>58.8 (-0.1 - 117.7)</td>\n      <td>448.0 (326.1 - 569.9)</td>\n      <td>448.0 (326.1 - 569.9)</td>\n      <td>7.6 (Dominant - 47.9)</td>\n      <td>3918.9 (3010.8 - 4826.9)</td>\n      <td>254.4 (-1070.5 - 1579.3)</td>\n      <td>4.3 (Dominant - 62.9)</td>\n    </tr>\n    <tr>\n      <th>2</th>\n      <td>DP term</td>\n      <td>747.9 (692.4 - 803.4)</td>\n      <td>191.9 (121.4 - 262.4)</td>\n      <td>1252.2 (1125.2 - 1379.1)</td>\n      <td>804.2 (628.2 - 980.2)</td>\n      <td>4.2 (2.8 - 6.9)</td>\n      <td>4230.8 (3485.2 - 4976.4)</td>\n      <td>311.9 (-863.1 - 1486.9)</td>\n      <td>1.6 (Dominant - 8.6)</td>\n    </tr>\n    <tr>\n      <th>3</th>\n      <td>ASAQ month</td>\n      <td>673.5 (617.2 - 729.8)</td>\n      <td>74.4 (-4.6 - 153.4)</td>\n      <td>1719.3 (1184.2 - 2254.4)</td>\n      <td>467.2 (-82.8 - 1017.1)</td>\n      <td>6.3 (Dominant - 46.9)</td>\n      <td>4485.5 (3634.4 - 5336.6)</td>\n      <td>254.7 (-876.8 - 1386.2)</td>\n      <td>3.4 (Dominant - 49.1)</td>\n    </tr>\n    <tr>\n      <th>4</th>\n      <td>DP month</td>\n      <td>513.6 (454.6 - 572.6)</td>\n      <td>160.0 (78.4 - 241.5)</td>\n      <td>4918.7 (4365.9 - 5471.4)</td>\n      <td>3199.3 (2430.0 - 3968.7)</td>\n      <td>20.0 (12.2 - 42.1)</td>\n      <td>7352.7 (6573.1 - 8132.3)</td>\n      <td>2867.2 (1713.0 - 4021.4)</td>\n      <td>17.9 (9.3 - 39.2)</td>\n    </tr>\n  </tbody>\n</table>\n</div>"
     },
     "execution_count": 20,
     "metadata": {},
     "output_type": "execute_result"
    }
   ],
   "source": [
    "df_single = df[(df[\"archetype\"] == \"Southern\") & (df[\"transmission_level\"] == 0.2)]\n",
    "df_single = df_single[df_single[\"scenario_number\"].isin([0, 6, 7, 8, 9])]\n",
    "df_table = generate_league_table_PRETTY(df_single)\n",
    "df_table.to_csv(\"league_tables/league_table_southern_pfpr20_all.csv\")\n",
    "df_table"
   ],
   "metadata": {
    "collapsed": false,
    "ExecuteTime": {
     "end_time": "2024-10-18T18:03:32.436013Z",
     "start_time": "2024-10-18T18:03:32.009857Z"
    }
   },
   "id": "467ff8c5ee753d15",
   "execution_count": 20
  },
  {
   "cell_type": "code",
   "outputs": [
    {
     "name": "stderr",
     "output_type": "stream",
     "text": [
      "C:\\Users\\joshsu\\AppData\\Local\\Temp\\ipykernel_35472\\559688894.py:40: SettingWithCopyWarning: \n",
      "A value is trying to be set on a copy of a slice from a DataFrame\n",
      "\n",
      "See the caveats in the documentation: https://pandas.pydata.org/pandas-docs/stable/user_guide/indexing.html#returning-a-view-versus-a-copy\n",
      "  df_table[\"icer_low\"].iloc[i] = np.percentile(icers, 2.5)\n",
      "C:\\Users\\joshsu\\AppData\\Local\\Temp\\ipykernel_35472\\559688894.py:41: SettingWithCopyWarning: \n",
      "A value is trying to be set on a copy of a slice from a DataFrame\n",
      "\n",
      "See the caveats in the documentation: https://pandas.pydata.org/pandas-docs/stable/user_guide/indexing.html#returning-a-view-versus-a-copy\n",
      "  df_table[\"icer_high\"].iloc[i] = np.percentile(icers, 97.5)\n",
      "C:\\Users\\joshsu\\AppData\\Local\\Temp\\ipykernel_35472\\559688894.py:48: SettingWithCopyWarning: \n",
      "A value is trying to be set on a copy of a slice from a DataFrame\n",
      "\n",
      "See the caveats in the documentation: https://pandas.pydata.org/pandas-docs/stable/user_guide/indexing.html#returning-a-view-versus-a-copy\n",
      "  df_table[\"icer_IPTsc_low\"].iloc[i] = np.percentile(icers, 2.5)\n",
      "C:\\Users\\joshsu\\AppData\\Local\\Temp\\ipykernel_35472\\559688894.py:49: SettingWithCopyWarning: \n",
      "A value is trying to be set on a copy of a slice from a DataFrame\n",
      "\n",
      "See the caveats in the documentation: https://pandas.pydata.org/pandas-docs/stable/user_guide/indexing.html#returning-a-view-versus-a-copy\n",
      "  df_table[\"icer_IPTsc_high\"].iloc[i] = np.percentile(icers, 97.5)\n"
     ]
    },
    {
     "data": {
      "text/plain": "     Scenario                   Cases Incremental Cases Averted  \\\n0    No IPTsc  998.6 (959.0 - 1038.2)           nan (nan - nan)   \n1     DP term   747.9 (692.4 - 803.4)     250.7 (182.6 - 318.9)   \n2  ASAQ month   673.5 (617.2 - 729.8)       74.4 (-4.6 - 153.4)   \n3    DP month   513.6 (454.6 - 572.6)      160.0 (78.4 - 241.5)   \n\n  Cost (Funder Perspective) Incremental Cost (Funder Perspective)  \\\n0           0.0 (0.0 - 0.0)                       nan (nan - nan)   \n1  1252.2 (1125.2 - 1379.1)              1252.2 (1125.2 - 1379.1)   \n2  1719.3 (1184.2 - 2254.4)                467.2 (-82.8 - 1017.1)   \n3  4918.7 (4365.9 - 5471.4)              3199.3 (2430.0 - 3968.7)   \n\n  ICER (Funder Perspective) Cost (Health System Perspective)  \\\n0           nan (nan - nan)         3664.5 (2699.8 - 4629.2)   \n1           5.0 (3.8 - 6.9)         4230.8 (3485.2 - 4976.4)   \n2     6.3 (Dominant - 45.3)         4485.5 (3634.4 - 5336.6)   \n3        20.0 (12.2 - 41.9)         7352.7 (6573.1 - 8132.3)   \n\n  Incremental Cost (Health System Perspective)  \\\n0                              nan (nan - nan)   \n1                      566.3 (-653.0 - 1785.6)   \n2                      254.7 (-876.8 - 1386.2)   \n3                     2867.2 (1713.0 - 4021.4)   \n\n  ICER (Health System Perspective)  \n0                  nan (nan - nan)  \n1             2.3 (Dominant - 7.6)  \n2            3.4 (Dominant - 47.8)  \n3                17.9 (9.3 - 39.1)  ",
      "text/html": "<div>\n<style scoped>\n    .dataframe tbody tr th:only-of-type {\n        vertical-align: middle;\n    }\n\n    .dataframe tbody tr th {\n        vertical-align: top;\n    }\n\n    .dataframe thead th {\n        text-align: right;\n    }\n</style>\n<table border=\"1\" class=\"dataframe\">\n  <thead>\n    <tr style=\"text-align: right;\">\n      <th></th>\n      <th>Scenario</th>\n      <th>Cases</th>\n      <th>Incremental Cases Averted</th>\n      <th>Cost (Funder Perspective)</th>\n      <th>Incremental Cost (Funder Perspective)</th>\n      <th>ICER (Funder Perspective)</th>\n      <th>Cost (Health System Perspective)</th>\n      <th>Incremental Cost (Health System Perspective)</th>\n      <th>ICER (Health System Perspective)</th>\n    </tr>\n  </thead>\n  <tbody>\n    <tr>\n      <th>0</th>\n      <td>No IPTsc</td>\n      <td>998.6 (959.0 - 1038.2)</td>\n      <td>nan (nan - nan)</td>\n      <td>0.0 (0.0 - 0.0)</td>\n      <td>nan (nan - nan)</td>\n      <td>nan (nan - nan)</td>\n      <td>3664.5 (2699.8 - 4629.2)</td>\n      <td>nan (nan - nan)</td>\n      <td>nan (nan - nan)</td>\n    </tr>\n    <tr>\n      <th>1</th>\n      <td>DP term</td>\n      <td>747.9 (692.4 - 803.4)</td>\n      <td>250.7 (182.6 - 318.9)</td>\n      <td>1252.2 (1125.2 - 1379.1)</td>\n      <td>1252.2 (1125.2 - 1379.1)</td>\n      <td>5.0 (3.8 - 6.9)</td>\n      <td>4230.8 (3485.2 - 4976.4)</td>\n      <td>566.3 (-653.0 - 1785.6)</td>\n      <td>2.3 (Dominant - 7.6)</td>\n    </tr>\n    <tr>\n      <th>2</th>\n      <td>ASAQ month</td>\n      <td>673.5 (617.2 - 729.8)</td>\n      <td>74.4 (-4.6 - 153.4)</td>\n      <td>1719.3 (1184.2 - 2254.4)</td>\n      <td>467.2 (-82.8 - 1017.1)</td>\n      <td>6.3 (Dominant - 45.3)</td>\n      <td>4485.5 (3634.4 - 5336.6)</td>\n      <td>254.7 (-876.8 - 1386.2)</td>\n      <td>3.4 (Dominant - 47.8)</td>\n    </tr>\n    <tr>\n      <th>3</th>\n      <td>DP month</td>\n      <td>513.6 (454.6 - 572.6)</td>\n      <td>160.0 (78.4 - 241.5)</td>\n      <td>4918.7 (4365.9 - 5471.4)</td>\n      <td>3199.3 (2430.0 - 3968.7)</td>\n      <td>20.0 (12.2 - 41.9)</td>\n      <td>7352.7 (6573.1 - 8132.3)</td>\n      <td>2867.2 (1713.0 - 4021.4)</td>\n      <td>17.9 (9.3 - 39.1)</td>\n    </tr>\n  </tbody>\n</table>\n</div>"
     },
     "execution_count": 21,
     "metadata": {},
     "output_type": "execute_result"
    }
   ],
   "source": [
    "df_single = df[(df[\"archetype\"] == \"Southern\") & (df[\"transmission_level\"] == 0.2)]\n",
    "df_single = df_single[df_single[\"scenario_number\"].isin([0, 7, 8, 9])]\n",
    "df_table = generate_league_table_PRETTY(df_single)\n",
    "df_table.to_csv(\"league_tables/league_table_southern_pfpr20_reduced.csv\")\n",
    "df_table"
   ],
   "metadata": {
    "collapsed": false,
    "ExecuteTime": {
     "end_time": "2024-10-18T18:03:32.685504Z",
     "start_time": "2024-10-18T18:03:32.440013Z"
    }
   },
   "id": "824af55b792dacd9",
   "execution_count": 21
  },
  {
   "cell_type": "markdown",
   "source": [
    "## 30% pfpr"
   ],
   "metadata": {
    "collapsed": false
   },
   "id": "e021b533e9bf53fe"
  },
  {
   "cell_type": "code",
   "outputs": [
    {
     "name": "stderr",
     "output_type": "stream",
     "text": [
      "C:\\Users\\joshsu\\AppData\\Local\\Temp\\ipykernel_35472\\559688894.py:40: SettingWithCopyWarning: \n",
      "A value is trying to be set on a copy of a slice from a DataFrame\n",
      "\n",
      "See the caveats in the documentation: https://pandas.pydata.org/pandas-docs/stable/user_guide/indexing.html#returning-a-view-versus-a-copy\n",
      "  df_table[\"icer_low\"].iloc[i] = np.percentile(icers, 2.5)\n",
      "C:\\Users\\joshsu\\AppData\\Local\\Temp\\ipykernel_35472\\559688894.py:41: SettingWithCopyWarning: \n",
      "A value is trying to be set on a copy of a slice from a DataFrame\n",
      "\n",
      "See the caveats in the documentation: https://pandas.pydata.org/pandas-docs/stable/user_guide/indexing.html#returning-a-view-versus-a-copy\n",
      "  df_table[\"icer_high\"].iloc[i] = np.percentile(icers, 97.5)\n",
      "C:\\Users\\joshsu\\AppData\\Local\\Temp\\ipykernel_35472\\559688894.py:48: SettingWithCopyWarning: \n",
      "A value is trying to be set on a copy of a slice from a DataFrame\n",
      "\n",
      "See the caveats in the documentation: https://pandas.pydata.org/pandas-docs/stable/user_guide/indexing.html#returning-a-view-versus-a-copy\n",
      "  df_table[\"icer_IPTsc_low\"].iloc[i] = np.percentile(icers, 2.5)\n",
      "C:\\Users\\joshsu\\AppData\\Local\\Temp\\ipykernel_35472\\559688894.py:49: SettingWithCopyWarning: \n",
      "A value is trying to be set on a copy of a slice from a DataFrame\n",
      "\n",
      "See the caveats in the documentation: https://pandas.pydata.org/pandas-docs/stable/user_guide/indexing.html#returning-a-view-versus-a-copy\n",
      "  df_table[\"icer_IPTsc_high\"].iloc[i] = np.percentile(icers, 97.5)\n"
     ]
    },
    {
     "data": {
      "text/plain": "     Scenario                     Cases Incremental Cases Averted  \\\n0    No IPTsc  1249.3 (1215.0 - 1283.6)           nan (nan - nan)   \n1   ASAQ term  1168.5 (1128.3 - 1208.7)       80.8 (28.0 - 133.5)   \n2     DP term     941.0 (905.3 - 976.7)     227.5 (173.8 - 281.1)   \n3  ASAQ month     877.2 (843.3 - 911.1)       63.8 (14.6 - 113.0)   \n4    DP month     718.7 (676.6 - 760.8)     158.5 (104.4 - 212.7)   \n\n  Cost (Funder Perspective) Incremental Cost (Funder Perspective)  \\\n0           0.0 (0.0 - 0.0)                       nan (nan - nan)   \n1     465.5 (338.9 - 592.1)                 465.5 (338.9 - 592.1)   \n2  1300.4 (1168.9 - 1431.9)                834.9 (652.4 - 1017.4)   \n3  1781.1 (1226.7 - 2335.5)                480.7 (-89.1 - 1050.5)   \n4  5096.9 (4525.3 - 5668.5)              3315.8 (2519.5 - 4112.1)   \n\n  ICER (Funder Perspective) Cost (Health System Perspective)  \\\n0           nan (nan - nan)         4746.6 (3414.3 - 6078.9)   \n1          5.8 (3.1 - 16.5)         4974.1 (3713.5 - 6234.7)   \n2           3.7 (2.7 - 5.1)         5212.6 (4155.6 - 6269.7)   \n3     7.5 (Dominant - 34.3)         5491.0 (4363.5 - 6618.5)   \n4        20.9 (14.0 - 33.4)         8448.5 (7420.1 - 9476.9)   \n\n  Incremental Cost (Health System Perspective)  \\\n0                              nan (nan - nan)   \n1                     227.5 (-1606.7 - 2061.7)   \n2                     238.5 (-1406.6 - 1883.7)   \n3                     278.4 (-1267.1 - 1823.8)   \n4                     2957.5 (1431.5 - 4483.6)   \n\n  ICER (Health System Perspective)  \n0                  nan (nan - nan)  \n1            2.8 (Dominant - 34.6)  \n2             1.0 (Dominant - 8.6)  \n3            4.4 (Dominant - 46.8)  \n4                18.7 (8.6 - 33.6)  ",
      "text/html": "<div>\n<style scoped>\n    .dataframe tbody tr th:only-of-type {\n        vertical-align: middle;\n    }\n\n    .dataframe tbody tr th {\n        vertical-align: top;\n    }\n\n    .dataframe thead th {\n        text-align: right;\n    }\n</style>\n<table border=\"1\" class=\"dataframe\">\n  <thead>\n    <tr style=\"text-align: right;\">\n      <th></th>\n      <th>Scenario</th>\n      <th>Cases</th>\n      <th>Incremental Cases Averted</th>\n      <th>Cost (Funder Perspective)</th>\n      <th>Incremental Cost (Funder Perspective)</th>\n      <th>ICER (Funder Perspective)</th>\n      <th>Cost (Health System Perspective)</th>\n      <th>Incremental Cost (Health System Perspective)</th>\n      <th>ICER (Health System Perspective)</th>\n    </tr>\n  </thead>\n  <tbody>\n    <tr>\n      <th>0</th>\n      <td>No IPTsc</td>\n      <td>1249.3 (1215.0 - 1283.6)</td>\n      <td>nan (nan - nan)</td>\n      <td>0.0 (0.0 - 0.0)</td>\n      <td>nan (nan - nan)</td>\n      <td>nan (nan - nan)</td>\n      <td>4746.6 (3414.3 - 6078.9)</td>\n      <td>nan (nan - nan)</td>\n      <td>nan (nan - nan)</td>\n    </tr>\n    <tr>\n      <th>1</th>\n      <td>ASAQ term</td>\n      <td>1168.5 (1128.3 - 1208.7)</td>\n      <td>80.8 (28.0 - 133.5)</td>\n      <td>465.5 (338.9 - 592.1)</td>\n      <td>465.5 (338.9 - 592.1)</td>\n      <td>5.8 (3.1 - 16.5)</td>\n      <td>4974.1 (3713.5 - 6234.7)</td>\n      <td>227.5 (-1606.7 - 2061.7)</td>\n      <td>2.8 (Dominant - 34.6)</td>\n    </tr>\n    <tr>\n      <th>2</th>\n      <td>DP term</td>\n      <td>941.0 (905.3 - 976.7)</td>\n      <td>227.5 (173.8 - 281.1)</td>\n      <td>1300.4 (1168.9 - 1431.9)</td>\n      <td>834.9 (652.4 - 1017.4)</td>\n      <td>3.7 (2.7 - 5.1)</td>\n      <td>5212.6 (4155.6 - 6269.7)</td>\n      <td>238.5 (-1406.6 - 1883.7)</td>\n      <td>1.0 (Dominant - 8.6)</td>\n    </tr>\n    <tr>\n      <th>3</th>\n      <td>ASAQ month</td>\n      <td>877.2 (843.3 - 911.1)</td>\n      <td>63.8 (14.6 - 113.0)</td>\n      <td>1781.1 (1226.7 - 2335.5)</td>\n      <td>480.7 (-89.1 - 1050.5)</td>\n      <td>7.5 (Dominant - 34.3)</td>\n      <td>5491.0 (4363.5 - 6618.5)</td>\n      <td>278.4 (-1267.1 - 1823.8)</td>\n      <td>4.4 (Dominant - 46.8)</td>\n    </tr>\n    <tr>\n      <th>4</th>\n      <td>DP month</td>\n      <td>718.7 (676.6 - 760.8)</td>\n      <td>158.5 (104.4 - 212.7)</td>\n      <td>5096.9 (4525.3 - 5668.5)</td>\n      <td>3315.8 (2519.5 - 4112.1)</td>\n      <td>20.9 (14.0 - 33.4)</td>\n      <td>8448.5 (7420.1 - 9476.9)</td>\n      <td>2957.5 (1431.5 - 4483.6)</td>\n      <td>18.7 (8.6 - 33.6)</td>\n    </tr>\n  </tbody>\n</table>\n</div>"
     },
     "execution_count": 22,
     "metadata": {},
     "output_type": "execute_result"
    }
   ],
   "source": [
    "df_single = df[(df[\"archetype\"] == \"Southern\") & (df[\"transmission_level\"] == 0.3)]\n",
    "df_single = df_single[df_single[\"scenario_number\"].isin([0, 6, 7, 8, 9])]\n",
    "df_table = generate_league_table_PRETTY(df_single)\n",
    "df_table"
   ],
   "metadata": {
    "collapsed": false,
    "ExecuteTime": {
     "end_time": "2024-10-18T18:03:33.121663Z",
     "start_time": "2024-10-18T18:03:32.689504Z"
    }
   },
   "id": "ce9d16a3b7d078fd",
   "execution_count": 22
  },
  {
   "cell_type": "code",
   "outputs": [
    {
     "name": "stderr",
     "output_type": "stream",
     "text": [
      "C:\\Users\\joshsu\\AppData\\Local\\Temp\\ipykernel_35472\\559688894.py:40: SettingWithCopyWarning: \n",
      "A value is trying to be set on a copy of a slice from a DataFrame\n",
      "\n",
      "See the caveats in the documentation: https://pandas.pydata.org/pandas-docs/stable/user_guide/indexing.html#returning-a-view-versus-a-copy\n",
      "  df_table[\"icer_low\"].iloc[i] = np.percentile(icers, 2.5)\n",
      "C:\\Users\\joshsu\\AppData\\Local\\Temp\\ipykernel_35472\\559688894.py:41: SettingWithCopyWarning: \n",
      "A value is trying to be set on a copy of a slice from a DataFrame\n",
      "\n",
      "See the caveats in the documentation: https://pandas.pydata.org/pandas-docs/stable/user_guide/indexing.html#returning-a-view-versus-a-copy\n",
      "  df_table[\"icer_high\"].iloc[i] = np.percentile(icers, 97.5)\n",
      "C:\\Users\\joshsu\\AppData\\Local\\Temp\\ipykernel_35472\\559688894.py:48: SettingWithCopyWarning: \n",
      "A value is trying to be set on a copy of a slice from a DataFrame\n",
      "\n",
      "See the caveats in the documentation: https://pandas.pydata.org/pandas-docs/stable/user_guide/indexing.html#returning-a-view-versus-a-copy\n",
      "  df_table[\"icer_IPTsc_low\"].iloc[i] = np.percentile(icers, 2.5)\n",
      "C:\\Users\\joshsu\\AppData\\Local\\Temp\\ipykernel_35472\\559688894.py:49: SettingWithCopyWarning: \n",
      "A value is trying to be set on a copy of a slice from a DataFrame\n",
      "\n",
      "See the caveats in the documentation: https://pandas.pydata.org/pandas-docs/stable/user_guide/indexing.html#returning-a-view-versus-a-copy\n",
      "  df_table[\"icer_IPTsc_high\"].iloc[i] = np.percentile(icers, 97.5)\n"
     ]
    },
    {
     "data": {
      "text/plain": "     Scenario                     Cases Incremental Cases Averted  \\\n0    No IPTsc  1249.3 (1215.0 - 1283.6)           nan (nan - nan)   \n1     DP term     941.0 (905.3 - 976.7)     308.2 (258.8 - 357.7)   \n2  ASAQ month     877.2 (843.3 - 911.1)       63.8 (14.6 - 113.0)   \n3    DP month     718.7 (676.6 - 760.8)     158.5 (104.4 - 212.7)   \n\n  Cost (Funder Perspective) Incremental Cost (Funder Perspective)  \\\n0           0.0 (0.0 - 0.0)                       nan (nan - nan)   \n1  1300.4 (1168.9 - 1431.9)              1300.4 (1168.9 - 1431.9)   \n2  1781.1 (1226.7 - 2335.5)                480.7 (-89.1 - 1050.5)   \n3  5096.9 (4525.3 - 5668.5)              3315.8 (2519.5 - 4112.1)   \n\n  ICER (Funder Perspective) Cost (Health System Perspective)  \\\n0           nan (nan - nan)         4746.6 (3414.3 - 6078.9)   \n1           4.2 (3.5 - 5.1)         5212.6 (4155.6 - 6269.7)   \n2     7.5 (Dominant - 34.1)         5491.0 (4363.5 - 6618.5)   \n3        20.9 (14.0 - 33.3)         8448.5 (7420.1 - 9476.9)   \n\n  Incremental Cost (Health System Perspective)  \\\n0                              nan (nan - nan)   \n1                     466.0 (-1234.7 - 2166.7)   \n2                     278.4 (-1267.1 - 1823.8)   \n3                     2957.5 (1431.5 - 4483.6)   \n\n  ICER (Health System Perspective)  \n0                  nan (nan - nan)  \n1             1.5 (Dominant - 7.2)  \n2            4.4 (Dominant - 46.4)  \n3                18.7 (8.5 - 33.6)  ",
      "text/html": "<div>\n<style scoped>\n    .dataframe tbody tr th:only-of-type {\n        vertical-align: middle;\n    }\n\n    .dataframe tbody tr th {\n        vertical-align: top;\n    }\n\n    .dataframe thead th {\n        text-align: right;\n    }\n</style>\n<table border=\"1\" class=\"dataframe\">\n  <thead>\n    <tr style=\"text-align: right;\">\n      <th></th>\n      <th>Scenario</th>\n      <th>Cases</th>\n      <th>Incremental Cases Averted</th>\n      <th>Cost (Funder Perspective)</th>\n      <th>Incremental Cost (Funder Perspective)</th>\n      <th>ICER (Funder Perspective)</th>\n      <th>Cost (Health System Perspective)</th>\n      <th>Incremental Cost (Health System Perspective)</th>\n      <th>ICER (Health System Perspective)</th>\n    </tr>\n  </thead>\n  <tbody>\n    <tr>\n      <th>0</th>\n      <td>No IPTsc</td>\n      <td>1249.3 (1215.0 - 1283.6)</td>\n      <td>nan (nan - nan)</td>\n      <td>0.0 (0.0 - 0.0)</td>\n      <td>nan (nan - nan)</td>\n      <td>nan (nan - nan)</td>\n      <td>4746.6 (3414.3 - 6078.9)</td>\n      <td>nan (nan - nan)</td>\n      <td>nan (nan - nan)</td>\n    </tr>\n    <tr>\n      <th>1</th>\n      <td>DP term</td>\n      <td>941.0 (905.3 - 976.7)</td>\n      <td>308.2 (258.8 - 357.7)</td>\n      <td>1300.4 (1168.9 - 1431.9)</td>\n      <td>1300.4 (1168.9 - 1431.9)</td>\n      <td>4.2 (3.5 - 5.1)</td>\n      <td>5212.6 (4155.6 - 6269.7)</td>\n      <td>466.0 (-1234.7 - 2166.7)</td>\n      <td>1.5 (Dominant - 7.2)</td>\n    </tr>\n    <tr>\n      <th>2</th>\n      <td>ASAQ month</td>\n      <td>877.2 (843.3 - 911.1)</td>\n      <td>63.8 (14.6 - 113.0)</td>\n      <td>1781.1 (1226.7 - 2335.5)</td>\n      <td>480.7 (-89.1 - 1050.5)</td>\n      <td>7.5 (Dominant - 34.1)</td>\n      <td>5491.0 (4363.5 - 6618.5)</td>\n      <td>278.4 (-1267.1 - 1823.8)</td>\n      <td>4.4 (Dominant - 46.4)</td>\n    </tr>\n    <tr>\n      <th>3</th>\n      <td>DP month</td>\n      <td>718.7 (676.6 - 760.8)</td>\n      <td>158.5 (104.4 - 212.7)</td>\n      <td>5096.9 (4525.3 - 5668.5)</td>\n      <td>3315.8 (2519.5 - 4112.1)</td>\n      <td>20.9 (14.0 - 33.3)</td>\n      <td>8448.5 (7420.1 - 9476.9)</td>\n      <td>2957.5 (1431.5 - 4483.6)</td>\n      <td>18.7 (8.5 - 33.6)</td>\n    </tr>\n  </tbody>\n</table>\n</div>"
     },
     "execution_count": 23,
     "metadata": {},
     "output_type": "execute_result"
    }
   ],
   "source": [
    "df_single = df[(df[\"archetype\"] == \"Southern\") & (df[\"transmission_level\"] == 0.3)]\n",
    "df_single = df_single[df_single[\"scenario_number\"].isin([0, 7, 8, 9])]\n",
    "df_table = generate_league_table_PRETTY(df_single)\n",
    "df_table"
   ],
   "metadata": {
    "collapsed": false,
    "ExecuteTime": {
     "end_time": "2024-10-18T18:03:33.533665Z",
     "start_time": "2024-10-18T18:03:33.125663Z"
    }
   },
   "id": "b42fe565d5718ff6",
   "execution_count": 23
  },
  {
   "cell_type": "markdown",
   "source": [
    "## 40% pfpr"
   ],
   "metadata": {
    "collapsed": false
   },
   "id": "f7b94d4c0d6afb0e"
  },
  {
   "cell_type": "code",
   "outputs": [
    {
     "name": "stderr",
     "output_type": "stream",
     "text": [
      "C:\\Users\\joshsu\\AppData\\Local\\Temp\\ipykernel_35472\\559688894.py:40: SettingWithCopyWarning: \n",
      "A value is trying to be set on a copy of a slice from a DataFrame\n",
      "\n",
      "See the caveats in the documentation: https://pandas.pydata.org/pandas-docs/stable/user_guide/indexing.html#returning-a-view-versus-a-copy\n",
      "  df_table[\"icer_low\"].iloc[i] = np.percentile(icers, 2.5)\n",
      "C:\\Users\\joshsu\\AppData\\Local\\Temp\\ipykernel_35472\\559688894.py:41: SettingWithCopyWarning: \n",
      "A value is trying to be set on a copy of a slice from a DataFrame\n",
      "\n",
      "See the caveats in the documentation: https://pandas.pydata.org/pandas-docs/stable/user_guide/indexing.html#returning-a-view-versus-a-copy\n",
      "  df_table[\"icer_high\"].iloc[i] = np.percentile(icers, 97.5)\n",
      "C:\\Users\\joshsu\\AppData\\Local\\Temp\\ipykernel_35472\\559688894.py:48: SettingWithCopyWarning: \n",
      "A value is trying to be set on a copy of a slice from a DataFrame\n",
      "\n",
      "See the caveats in the documentation: https://pandas.pydata.org/pandas-docs/stable/user_guide/indexing.html#returning-a-view-versus-a-copy\n",
      "  df_table[\"icer_IPTsc_low\"].iloc[i] = np.percentile(icers, 2.5)\n",
      "C:\\Users\\joshsu\\AppData\\Local\\Temp\\ipykernel_35472\\559688894.py:49: SettingWithCopyWarning: \n",
      "A value is trying to be set on a copy of a slice from a DataFrame\n",
      "\n",
      "See the caveats in the documentation: https://pandas.pydata.org/pandas-docs/stable/user_guide/indexing.html#returning-a-view-versus-a-copy\n",
      "  df_table[\"icer_IPTsc_high\"].iloc[i] = np.percentile(icers, 97.5)\n"
     ]
    },
    {
     "data": {
      "text/plain": "     Scenario                     Cases Incremental Cases Averted  \\\n0    No IPTsc  1316.3 (1276.7 - 1355.9)           nan (nan - nan)   \n1   ASAQ term  1222.6 (1191.8 - 1253.4)       93.7 (43.5 - 143.8)   \n2     DP term    985.4 (950.1 - 1020.7)     237.2 (190.4 - 284.0)   \n3  ASAQ month     930.6 (891.4 - 969.8)        54.8 (2.0 - 107.6)   \n4    DP month     796.0 (759.5 - 832.5)      134.6 (81.0 - 188.1)   \n\n  Cost (Funder Perspective) Incremental Cost (Funder Perspective)  \\\n0           0.0 (0.0 - 0.0)                       nan (nan - nan)   \n1     448.7 (326.8 - 570.7)                 448.7 (326.8 - 570.7)   \n2  1253.8 (1127.0 - 1380.6)                 805.1 (629.1 - 981.0)   \n3  1716.1 (1182.6 - 2249.7)                462.3 (-86.1 - 1010.8)   \n4  4912.3 (4361.9 - 5462.6)              3196.1 (2429.6 - 3962.7)   \n\n  ICER (Funder Perspective) Cost (Health System Perspective)  \\\n0           nan (nan - nan)         5169.8 (3689.1 - 6650.4)   \n1          4.8 (2.8 - 10.6)         5326.2 (3941.4 - 6710.9)   \n2           3.4 (2.5 - 4.6)         5515.9 (4339.1 - 6692.8)   \n3     8.4 (Dominant - 54.9)         5808.3 (4576.5 - 7040.2)   \n4        23.8 (15.4 - 41.0)         8696.3 (7551.3 - 9841.4)   \n\n  Incremental Cost (Health System Perspective)  \\\n0                              nan (nan - nan)   \n1                     156.4 (-1870.9 - 2183.7)   \n2                     189.7 (-1627.5 - 2007.0)   \n3                     292.4 (-1411.2 - 1996.1)   \n4                     2888.0 (1206.1 - 4569.8)   \n\n  ICER (Health System Perspective)  \n0                  nan (nan - nan)  \n1            1.7 (Dominant - 28.1)  \n2             0.8 (Dominant - 8.6)  \n3            5.3 (Dominant - 80.3)  \n4                21.5 (8.5 - 42.5)  ",
      "text/html": "<div>\n<style scoped>\n    .dataframe tbody tr th:only-of-type {\n        vertical-align: middle;\n    }\n\n    .dataframe tbody tr th {\n        vertical-align: top;\n    }\n\n    .dataframe thead th {\n        text-align: right;\n    }\n</style>\n<table border=\"1\" class=\"dataframe\">\n  <thead>\n    <tr style=\"text-align: right;\">\n      <th></th>\n      <th>Scenario</th>\n      <th>Cases</th>\n      <th>Incremental Cases Averted</th>\n      <th>Cost (Funder Perspective)</th>\n      <th>Incremental Cost (Funder Perspective)</th>\n      <th>ICER (Funder Perspective)</th>\n      <th>Cost (Health System Perspective)</th>\n      <th>Incremental Cost (Health System Perspective)</th>\n      <th>ICER (Health System Perspective)</th>\n    </tr>\n  </thead>\n  <tbody>\n    <tr>\n      <th>0</th>\n      <td>No IPTsc</td>\n      <td>1316.3 (1276.7 - 1355.9)</td>\n      <td>nan (nan - nan)</td>\n      <td>0.0 (0.0 - 0.0)</td>\n      <td>nan (nan - nan)</td>\n      <td>nan (nan - nan)</td>\n      <td>5169.8 (3689.1 - 6650.4)</td>\n      <td>nan (nan - nan)</td>\n      <td>nan (nan - nan)</td>\n    </tr>\n    <tr>\n      <th>1</th>\n      <td>ASAQ term</td>\n      <td>1222.6 (1191.8 - 1253.4)</td>\n      <td>93.7 (43.5 - 143.8)</td>\n      <td>448.7 (326.8 - 570.7)</td>\n      <td>448.7 (326.8 - 570.7)</td>\n      <td>4.8 (2.8 - 10.6)</td>\n      <td>5326.2 (3941.4 - 6710.9)</td>\n      <td>156.4 (-1870.9 - 2183.7)</td>\n      <td>1.7 (Dominant - 28.1)</td>\n    </tr>\n    <tr>\n      <th>2</th>\n      <td>DP term</td>\n      <td>985.4 (950.1 - 1020.7)</td>\n      <td>237.2 (190.4 - 284.0)</td>\n      <td>1253.8 (1127.0 - 1380.6)</td>\n      <td>805.1 (629.1 - 981.0)</td>\n      <td>3.4 (2.5 - 4.6)</td>\n      <td>5515.9 (4339.1 - 6692.8)</td>\n      <td>189.7 (-1627.5 - 2007.0)</td>\n      <td>0.8 (Dominant - 8.6)</td>\n    </tr>\n    <tr>\n      <th>3</th>\n      <td>ASAQ month</td>\n      <td>930.6 (891.4 - 969.8)</td>\n      <td>54.8 (2.0 - 107.6)</td>\n      <td>1716.1 (1182.6 - 2249.7)</td>\n      <td>462.3 (-86.1 - 1010.8)</td>\n      <td>8.4 (Dominant - 54.9)</td>\n      <td>5808.3 (4576.5 - 7040.2)</td>\n      <td>292.4 (-1411.2 - 1996.1)</td>\n      <td>5.3 (Dominant - 80.3)</td>\n    </tr>\n    <tr>\n      <th>4</th>\n      <td>DP month</td>\n      <td>796.0 (759.5 - 832.5)</td>\n      <td>134.6 (81.0 - 188.1)</td>\n      <td>4912.3 (4361.9 - 5462.6)</td>\n      <td>3196.1 (2429.6 - 3962.7)</td>\n      <td>23.8 (15.4 - 41.0)</td>\n      <td>8696.3 (7551.3 - 9841.4)</td>\n      <td>2888.0 (1206.1 - 4569.8)</td>\n      <td>21.5 (8.5 - 42.5)</td>\n    </tr>\n  </tbody>\n</table>\n</div>"
     },
     "execution_count": 24,
     "metadata": {},
     "output_type": "execute_result"
    }
   ],
   "source": [
    "df_single = df[(df[\"archetype\"] == \"Southern\") & (df[\"transmission_level\"] == 0.4)]\n",
    "df_single = df_single[df_single[\"scenario_number\"].isin([0, 6, 7, 8, 9])]\n",
    "df_table = generate_league_table_PRETTY(df_single)\n",
    "df_table.to_csv(\"league_tables/league_table_southern_pfpr40_all.csv\")\n",
    "df_table"
   ],
   "metadata": {
    "collapsed": false,
    "ExecuteTime": {
     "end_time": "2024-10-18T18:03:33.948665Z",
     "start_time": "2024-10-18T18:03:33.538667Z"
    }
   },
   "id": "2c4e7f8e5f8ebb57",
   "execution_count": 24
  },
  {
   "cell_type": "code",
   "outputs": [
    {
     "name": "stderr",
     "output_type": "stream",
     "text": [
      "C:\\Users\\joshsu\\AppData\\Local\\Temp\\ipykernel_35472\\559688894.py:40: SettingWithCopyWarning: \n",
      "A value is trying to be set on a copy of a slice from a DataFrame\n",
      "\n",
      "See the caveats in the documentation: https://pandas.pydata.org/pandas-docs/stable/user_guide/indexing.html#returning-a-view-versus-a-copy\n",
      "  df_table[\"icer_low\"].iloc[i] = np.percentile(icers, 2.5)\n",
      "C:\\Users\\joshsu\\AppData\\Local\\Temp\\ipykernel_35472\\559688894.py:41: SettingWithCopyWarning: \n",
      "A value is trying to be set on a copy of a slice from a DataFrame\n",
      "\n",
      "See the caveats in the documentation: https://pandas.pydata.org/pandas-docs/stable/user_guide/indexing.html#returning-a-view-versus-a-copy\n",
      "  df_table[\"icer_high\"].iloc[i] = np.percentile(icers, 97.5)\n",
      "C:\\Users\\joshsu\\AppData\\Local\\Temp\\ipykernel_35472\\559688894.py:48: SettingWithCopyWarning: \n",
      "A value is trying to be set on a copy of a slice from a DataFrame\n",
      "\n",
      "See the caveats in the documentation: https://pandas.pydata.org/pandas-docs/stable/user_guide/indexing.html#returning-a-view-versus-a-copy\n",
      "  df_table[\"icer_IPTsc_low\"].iloc[i] = np.percentile(icers, 2.5)\n",
      "C:\\Users\\joshsu\\AppData\\Local\\Temp\\ipykernel_35472\\559688894.py:49: SettingWithCopyWarning: \n",
      "A value is trying to be set on a copy of a slice from a DataFrame\n",
      "\n",
      "See the caveats in the documentation: https://pandas.pydata.org/pandas-docs/stable/user_guide/indexing.html#returning-a-view-versus-a-copy\n",
      "  df_table[\"icer_IPTsc_high\"].iloc[i] = np.percentile(icers, 97.5)\n"
     ]
    },
    {
     "data": {
      "text/plain": "     Scenario                     Cases Incremental Cases Averted  \\\n0    No IPTsc  1316.3 (1276.7 - 1355.9)           nan (nan - nan)   \n1     DP term    985.4 (950.1 - 1020.7)     330.9 (277.9 - 383.9)   \n2  ASAQ month     930.6 (891.4 - 969.8)        54.8 (2.0 - 107.6)   \n3    DP month     796.0 (759.5 - 832.5)      134.6 (81.0 - 188.1)   \n\n  Cost (Funder Perspective) Incremental Cost (Funder Perspective)  \\\n0           0.0 (0.0 - 0.0)                       nan (nan - nan)   \n1  1253.8 (1127.0 - 1380.6)              1253.8 (1127.0 - 1380.6)   \n2  1716.1 (1182.6 - 2249.7)                462.3 (-86.1 - 1010.8)   \n3  4912.3 (4361.9 - 5462.6)              3196.1 (2429.6 - 3962.7)   \n\n  ICER (Funder Perspective) Cost (Health System Perspective)  \\\n0           nan (nan - nan)         5169.8 (3689.1 - 6650.4)   \n1           3.8 (3.2 - 4.6)         5515.9 (4339.1 - 6692.8)   \n2     8.4 (Dominant - 54.0)         5808.3 (4576.5 - 7040.2)   \n3        23.8 (15.4 - 41.0)         8696.3 (7551.3 - 9841.4)   \n\n  Incremental Cost (Health System Perspective)  \\\n0                              nan (nan - nan)   \n1                     346.2 (-1545.2 - 2237.5)   \n2                     292.4 (-1411.2 - 1996.1)   \n3                     2888.0 (1206.1 - 4569.8)   \n\n  ICER (Health System Perspective)  \n0                  nan (nan - nan)  \n1             1.0 (Dominant - 6.9)  \n2            5.3 (Dominant - 81.1)  \n3                21.5 (8.5 - 42.3)  ",
      "text/html": "<div>\n<style scoped>\n    .dataframe tbody tr th:only-of-type {\n        vertical-align: middle;\n    }\n\n    .dataframe tbody tr th {\n        vertical-align: top;\n    }\n\n    .dataframe thead th {\n        text-align: right;\n    }\n</style>\n<table border=\"1\" class=\"dataframe\">\n  <thead>\n    <tr style=\"text-align: right;\">\n      <th></th>\n      <th>Scenario</th>\n      <th>Cases</th>\n      <th>Incremental Cases Averted</th>\n      <th>Cost (Funder Perspective)</th>\n      <th>Incremental Cost (Funder Perspective)</th>\n      <th>ICER (Funder Perspective)</th>\n      <th>Cost (Health System Perspective)</th>\n      <th>Incremental Cost (Health System Perspective)</th>\n      <th>ICER (Health System Perspective)</th>\n    </tr>\n  </thead>\n  <tbody>\n    <tr>\n      <th>0</th>\n      <td>No IPTsc</td>\n      <td>1316.3 (1276.7 - 1355.9)</td>\n      <td>nan (nan - nan)</td>\n      <td>0.0 (0.0 - 0.0)</td>\n      <td>nan (nan - nan)</td>\n      <td>nan (nan - nan)</td>\n      <td>5169.8 (3689.1 - 6650.4)</td>\n      <td>nan (nan - nan)</td>\n      <td>nan (nan - nan)</td>\n    </tr>\n    <tr>\n      <th>1</th>\n      <td>DP term</td>\n      <td>985.4 (950.1 - 1020.7)</td>\n      <td>330.9 (277.9 - 383.9)</td>\n      <td>1253.8 (1127.0 - 1380.6)</td>\n      <td>1253.8 (1127.0 - 1380.6)</td>\n      <td>3.8 (3.2 - 4.6)</td>\n      <td>5515.9 (4339.1 - 6692.8)</td>\n      <td>346.2 (-1545.2 - 2237.5)</td>\n      <td>1.0 (Dominant - 6.9)</td>\n    </tr>\n    <tr>\n      <th>2</th>\n      <td>ASAQ month</td>\n      <td>930.6 (891.4 - 969.8)</td>\n      <td>54.8 (2.0 - 107.6)</td>\n      <td>1716.1 (1182.6 - 2249.7)</td>\n      <td>462.3 (-86.1 - 1010.8)</td>\n      <td>8.4 (Dominant - 54.0)</td>\n      <td>5808.3 (4576.5 - 7040.2)</td>\n      <td>292.4 (-1411.2 - 1996.1)</td>\n      <td>5.3 (Dominant - 81.1)</td>\n    </tr>\n    <tr>\n      <th>3</th>\n      <td>DP month</td>\n      <td>796.0 (759.5 - 832.5)</td>\n      <td>134.6 (81.0 - 188.1)</td>\n      <td>4912.3 (4361.9 - 5462.6)</td>\n      <td>3196.1 (2429.6 - 3962.7)</td>\n      <td>23.8 (15.4 - 41.0)</td>\n      <td>8696.3 (7551.3 - 9841.4)</td>\n      <td>2888.0 (1206.1 - 4569.8)</td>\n      <td>21.5 (8.5 - 42.3)</td>\n    </tr>\n  </tbody>\n</table>\n</div>"
     },
     "execution_count": 25,
     "metadata": {},
     "output_type": "execute_result"
    }
   ],
   "source": [
    "df_single = df[(df[\"archetype\"] == \"Southern\") & (df[\"transmission_level\"] == 0.4)]\n",
    "df_single = df_single[df_single[\"scenario_number\"].isin([0, 7, 8, 9])]\n",
    "df_table = generate_league_table_PRETTY(df_single)\n",
    "df_table.to_csv(\"league_tables/league_table_southern_pfpr40_reduced.csv\")\n",
    "df_table"
   ],
   "metadata": {
    "collapsed": false,
    "ExecuteTime": {
     "end_time": "2024-10-18T18:03:34.339730Z",
     "start_time": "2024-10-18T18:03:33.957665Z"
    }
   },
   "id": "91d2c1e85ec1e060",
   "execution_count": 25
  },
  {
   "cell_type": "markdown",
   "source": [
    "# All league tables for Central"
   ],
   "metadata": {
    "collapsed": false
   },
   "id": "d7e4ca719f35b5fc"
  },
  {
   "cell_type": "markdown",
   "source": [
    "## 5% pfpr"
   ],
   "metadata": {
    "collapsed": false
   },
   "id": "5fd8eebf26616f22"
  },
  {
   "cell_type": "code",
   "outputs": [
    {
     "name": "stderr",
     "output_type": "stream",
     "text": [
      "C:\\Users\\joshsu\\AppData\\Local\\Temp\\ipykernel_35472\\559688894.py:40: SettingWithCopyWarning: \n",
      "A value is trying to be set on a copy of a slice from a DataFrame\n",
      "\n",
      "See the caveats in the documentation: https://pandas.pydata.org/pandas-docs/stable/user_guide/indexing.html#returning-a-view-versus-a-copy\n",
      "  df_table[\"icer_low\"].iloc[i] = np.percentile(icers, 2.5)\n",
      "C:\\Users\\joshsu\\AppData\\Local\\Temp\\ipykernel_35472\\559688894.py:41: SettingWithCopyWarning: \n",
      "A value is trying to be set on a copy of a slice from a DataFrame\n",
      "\n",
      "See the caveats in the documentation: https://pandas.pydata.org/pandas-docs/stable/user_guide/indexing.html#returning-a-view-versus-a-copy\n",
      "  df_table[\"icer_high\"].iloc[i] = np.percentile(icers, 97.5)\n",
      "C:\\Users\\joshsu\\AppData\\Local\\Temp\\ipykernel_35472\\559688894.py:48: SettingWithCopyWarning: \n",
      "A value is trying to be set on a copy of a slice from a DataFrame\n",
      "\n",
      "See the caveats in the documentation: https://pandas.pydata.org/pandas-docs/stable/user_guide/indexing.html#returning-a-view-versus-a-copy\n",
      "  df_table[\"icer_IPTsc_low\"].iloc[i] = np.percentile(icers, 2.5)\n",
      "C:\\Users\\joshsu\\AppData\\Local\\Temp\\ipykernel_35472\\559688894.py:49: SettingWithCopyWarning: \n",
      "A value is trying to be set on a copy of a slice from a DataFrame\n",
      "\n",
      "See the caveats in the documentation: https://pandas.pydata.org/pandas-docs/stable/user_guide/indexing.html#returning-a-view-versus-a-copy\n",
      "  df_table[\"icer_IPTsc_high\"].iloc[i] = np.percentile(icers, 97.5)\n"
     ]
    },
    {
     "data": {
      "text/plain": "     Scenario                     Cases Incremental Cases Averted  \\\n0    No IPTsc  1205.9 (1139.3 - 1272.5)           nan (nan - nan)   \n1   ASAQ term   1063.3 (963.3 - 1163.3)      142.6 (22.4 - 262.8)   \n2     DP term     748.0 (647.1 - 848.9)     315.3 (173.2 - 457.5)   \n3  ASAQ month     580.1 (414.5 - 745.7)     167.8 (-26.1 - 361.7)   \n4    DP month     295.8 (142.9 - 448.7)      284.3 (59.0 - 509.7)   \n\n  Cost (Funder Perspective) Incremental Cost (Funder Perspective)  \\\n0           0.0 (0.0 - 0.0)                       nan (nan - nan)   \n1     468.6 (341.2 - 596.1)                 468.6 (341.2 - 596.1)   \n2  1305.3 (1170.3 - 1440.3)                836.6 (651.0 - 1022.3)   \n3  1647.6 (1136.6 - 2158.6)                342.3 (-186.3 - 870.8)   \n4  4713.4 (4185.9 - 5241.0)              3065.8 (2331.4 - 3800.3)   \n\n  ICER (Funder Perspective) Cost (Health System Perspective)  \\\n0           nan (nan - nan)         3221.5 (2393.6 - 4049.5)   \n1          3.3 (1.5 - 15.4)         3394.1 (2642.3 - 4146.0)   \n2           2.7 (1.7 - 5.0)         3670.5 (3100.7 - 4240.4)   \n3     2.0 (Dominant - 17.8)         3638.9 (2936.4 - 4341.3)   \n4         10.8 (5.4 - 43.3)         6238.7 (5623.4 - 6854.0)   \n\n  Incremental Cost (Health System Perspective)  \\\n0                              nan (nan - nan)   \n1                      172.6 (-945.8 - 1291.0)   \n2                      276.4 (-667.0 - 1219.8)   \n3                       -31.7 (-936.2 - 872.9)   \n4                     2599.8 (1666.0 - 3533.6)   \n\n  ICER (Health System Perspective)  \n0                  nan (nan - nan)  \n1            1.2 (Dominant - 16.4)  \n2             0.9 (Dominant - 4.5)  \n3           -0.2 (Dominant - 14.2)  \n4                 9.1 (4.2 - 36.6)  ",
      "text/html": "<div>\n<style scoped>\n    .dataframe tbody tr th:only-of-type {\n        vertical-align: middle;\n    }\n\n    .dataframe tbody tr th {\n        vertical-align: top;\n    }\n\n    .dataframe thead th {\n        text-align: right;\n    }\n</style>\n<table border=\"1\" class=\"dataframe\">\n  <thead>\n    <tr style=\"text-align: right;\">\n      <th></th>\n      <th>Scenario</th>\n      <th>Cases</th>\n      <th>Incremental Cases Averted</th>\n      <th>Cost (Funder Perspective)</th>\n      <th>Incremental Cost (Funder Perspective)</th>\n      <th>ICER (Funder Perspective)</th>\n      <th>Cost (Health System Perspective)</th>\n      <th>Incremental Cost (Health System Perspective)</th>\n      <th>ICER (Health System Perspective)</th>\n    </tr>\n  </thead>\n  <tbody>\n    <tr>\n      <th>0</th>\n      <td>No IPTsc</td>\n      <td>1205.9 (1139.3 - 1272.5)</td>\n      <td>nan (nan - nan)</td>\n      <td>0.0 (0.0 - 0.0)</td>\n      <td>nan (nan - nan)</td>\n      <td>nan (nan - nan)</td>\n      <td>3221.5 (2393.6 - 4049.5)</td>\n      <td>nan (nan - nan)</td>\n      <td>nan (nan - nan)</td>\n    </tr>\n    <tr>\n      <th>1</th>\n      <td>ASAQ term</td>\n      <td>1063.3 (963.3 - 1163.3)</td>\n      <td>142.6 (22.4 - 262.8)</td>\n      <td>468.6 (341.2 - 596.1)</td>\n      <td>468.6 (341.2 - 596.1)</td>\n      <td>3.3 (1.5 - 15.4)</td>\n      <td>3394.1 (2642.3 - 4146.0)</td>\n      <td>172.6 (-945.8 - 1291.0)</td>\n      <td>1.2 (Dominant - 16.4)</td>\n    </tr>\n    <tr>\n      <th>2</th>\n      <td>DP term</td>\n      <td>748.0 (647.1 - 848.9)</td>\n      <td>315.3 (173.2 - 457.5)</td>\n      <td>1305.3 (1170.3 - 1440.3)</td>\n      <td>836.6 (651.0 - 1022.3)</td>\n      <td>2.7 (1.7 - 5.0)</td>\n      <td>3670.5 (3100.7 - 4240.4)</td>\n      <td>276.4 (-667.0 - 1219.8)</td>\n      <td>0.9 (Dominant - 4.5)</td>\n    </tr>\n    <tr>\n      <th>3</th>\n      <td>ASAQ month</td>\n      <td>580.1 (414.5 - 745.7)</td>\n      <td>167.8 (-26.1 - 361.7)</td>\n      <td>1647.6 (1136.6 - 2158.6)</td>\n      <td>342.3 (-186.3 - 870.8)</td>\n      <td>2.0 (Dominant - 17.8)</td>\n      <td>3638.9 (2936.4 - 4341.3)</td>\n      <td>-31.7 (-936.2 - 872.9)</td>\n      <td>-0.2 (Dominant - 14.2)</td>\n    </tr>\n    <tr>\n      <th>4</th>\n      <td>DP month</td>\n      <td>295.8 (142.9 - 448.7)</td>\n      <td>284.3 (59.0 - 509.7)</td>\n      <td>4713.4 (4185.9 - 5241.0)</td>\n      <td>3065.8 (2331.4 - 3800.3)</td>\n      <td>10.8 (5.4 - 43.3)</td>\n      <td>6238.7 (5623.4 - 6854.0)</td>\n      <td>2599.8 (1666.0 - 3533.6)</td>\n      <td>9.1 (4.2 - 36.6)</td>\n    </tr>\n  </tbody>\n</table>\n</div>"
     },
     "execution_count": 26,
     "metadata": {},
     "output_type": "execute_result"
    }
   ],
   "source": [
    "df_single = df[(df[\"archetype\"] == \"Central\") & (df[\"transmission_level\"] == 0.05)]\n",
    "df_single = df_single[df_single[\"scenario_number\"].isin([0, 6, 7, 8, 9])]\n",
    "df_table = generate_league_table_PRETTY(df_single)\n",
    "df_table.to_csv(\"league_tables/league_table_central_pfpr05_all.csv\", index=False)\n",
    "df_table"
   ],
   "metadata": {
    "collapsed": false,
    "ExecuteTime": {
     "end_time": "2024-10-18T18:03:34.738434Z",
     "start_time": "2024-10-18T18:03:34.358733Z"
    }
   },
   "id": "7e112f60bf7d20ca",
   "execution_count": 26
  },
  {
   "cell_type": "code",
   "outputs": [
    {
     "name": "stderr",
     "output_type": "stream",
     "text": [
      "C:\\Users\\joshsu\\AppData\\Local\\Temp\\ipykernel_35472\\559688894.py:40: SettingWithCopyWarning: \n",
      "A value is trying to be set on a copy of a slice from a DataFrame\n",
      "\n",
      "See the caveats in the documentation: https://pandas.pydata.org/pandas-docs/stable/user_guide/indexing.html#returning-a-view-versus-a-copy\n",
      "  df_table[\"icer_low\"].iloc[i] = np.percentile(icers, 2.5)\n",
      "C:\\Users\\joshsu\\AppData\\Local\\Temp\\ipykernel_35472\\559688894.py:41: SettingWithCopyWarning: \n",
      "A value is trying to be set on a copy of a slice from a DataFrame\n",
      "\n",
      "See the caveats in the documentation: https://pandas.pydata.org/pandas-docs/stable/user_guide/indexing.html#returning-a-view-versus-a-copy\n",
      "  df_table[\"icer_high\"].iloc[i] = np.percentile(icers, 97.5)\n",
      "C:\\Users\\joshsu\\AppData\\Local\\Temp\\ipykernel_35472\\559688894.py:48: SettingWithCopyWarning: \n",
      "A value is trying to be set on a copy of a slice from a DataFrame\n",
      "\n",
      "See the caveats in the documentation: https://pandas.pydata.org/pandas-docs/stable/user_guide/indexing.html#returning-a-view-versus-a-copy\n",
      "  df_table[\"icer_IPTsc_low\"].iloc[i] = np.percentile(icers, 2.5)\n",
      "C:\\Users\\joshsu\\AppData\\Local\\Temp\\ipykernel_35472\\559688894.py:49: SettingWithCopyWarning: \n",
      "A value is trying to be set on a copy of a slice from a DataFrame\n",
      "\n",
      "See the caveats in the documentation: https://pandas.pydata.org/pandas-docs/stable/user_guide/indexing.html#returning-a-view-versus-a-copy\n",
      "  df_table[\"icer_IPTsc_high\"].iloc[i] = np.percentile(icers, 97.5)\n"
     ]
    },
    {
     "data": {
      "text/plain": "     Scenario                     Cases Incremental Cases Averted  \\\n0    No IPTsc  1205.9 (1139.3 - 1272.5)           nan (nan - nan)   \n1  ASAQ month     580.1 (414.5 - 745.7)     625.8 (447.3 - 804.2)   \n2    DP month     295.8 (142.9 - 448.7)      284.3 (59.0 - 509.7)   \n\n  Cost (Funder Perspective) Incremental Cost (Funder Perspective)  \\\n0           0.0 (0.0 - 0.0)                       nan (nan - nan)   \n1  1647.6 (1136.6 - 2158.6)              1647.6 (1136.6 - 2158.6)   \n2  4713.4 (4185.9 - 5241.0)              3065.8 (2331.4 - 3800.3)   \n\n  ICER (Funder Perspective) Cost (Health System Perspective)  \\\n0           nan (nan - nan)         3221.5 (2393.6 - 4049.5)   \n1           2.6 (1.7 - 4.0)         3638.9 (2936.4 - 4341.3)   \n2         10.8 (5.4 - 43.9)         6238.7 (5623.4 - 6854.0)   \n\n  Incremental Cost (Health System Perspective)  \\\n0                              nan (nan - nan)   \n1                      417.3 (-668.5 - 1503.1)   \n2                     2599.8 (1666.0 - 3533.6)   \n\n  ICER (Health System Perspective)  \n0                  nan (nan - nan)  \n1             0.7 (Dominant - 2.5)  \n2                 9.1 (4.2 - 37.7)  ",
      "text/html": "<div>\n<style scoped>\n    .dataframe tbody tr th:only-of-type {\n        vertical-align: middle;\n    }\n\n    .dataframe tbody tr th {\n        vertical-align: top;\n    }\n\n    .dataframe thead th {\n        text-align: right;\n    }\n</style>\n<table border=\"1\" class=\"dataframe\">\n  <thead>\n    <tr style=\"text-align: right;\">\n      <th></th>\n      <th>Scenario</th>\n      <th>Cases</th>\n      <th>Incremental Cases Averted</th>\n      <th>Cost (Funder Perspective)</th>\n      <th>Incremental Cost (Funder Perspective)</th>\n      <th>ICER (Funder Perspective)</th>\n      <th>Cost (Health System Perspective)</th>\n      <th>Incremental Cost (Health System Perspective)</th>\n      <th>ICER (Health System Perspective)</th>\n    </tr>\n  </thead>\n  <tbody>\n    <tr>\n      <th>0</th>\n      <td>No IPTsc</td>\n      <td>1205.9 (1139.3 - 1272.5)</td>\n      <td>nan (nan - nan)</td>\n      <td>0.0 (0.0 - 0.0)</td>\n      <td>nan (nan - nan)</td>\n      <td>nan (nan - nan)</td>\n      <td>3221.5 (2393.6 - 4049.5)</td>\n      <td>nan (nan - nan)</td>\n      <td>nan (nan - nan)</td>\n    </tr>\n    <tr>\n      <th>1</th>\n      <td>ASAQ month</td>\n      <td>580.1 (414.5 - 745.7)</td>\n      <td>625.8 (447.3 - 804.2)</td>\n      <td>1647.6 (1136.6 - 2158.6)</td>\n      <td>1647.6 (1136.6 - 2158.6)</td>\n      <td>2.6 (1.7 - 4.0)</td>\n      <td>3638.9 (2936.4 - 4341.3)</td>\n      <td>417.3 (-668.5 - 1503.1)</td>\n      <td>0.7 (Dominant - 2.5)</td>\n    </tr>\n    <tr>\n      <th>2</th>\n      <td>DP month</td>\n      <td>295.8 (142.9 - 448.7)</td>\n      <td>284.3 (59.0 - 509.7)</td>\n      <td>4713.4 (4185.9 - 5241.0)</td>\n      <td>3065.8 (2331.4 - 3800.3)</td>\n      <td>10.8 (5.4 - 43.9)</td>\n      <td>6238.7 (5623.4 - 6854.0)</td>\n      <td>2599.8 (1666.0 - 3533.6)</td>\n      <td>9.1 (4.2 - 37.7)</td>\n    </tr>\n  </tbody>\n</table>\n</div>"
     },
     "execution_count": 27,
     "metadata": {},
     "output_type": "execute_result"
    }
   ],
   "source": [
    "df_single = df[(df[\"archetype\"] == \"Central\") & (df[\"transmission_level\"] == 0.05)]\n",
    "df_single = df_single[df_single[\"scenario_number\"].isin([0, 7, 9])]\n",
    "df_table = generate_league_table_PRETTY(df_single)\n",
    "df_table.to_csv(\"league_tables/league_table_central_pfpr05_reduced.csv\", index=False)\n",
    "df_table"
   ],
   "metadata": {
    "collapsed": false,
    "ExecuteTime": {
     "end_time": "2024-10-18T18:03:35.018993Z",
     "start_time": "2024-10-18T18:03:34.742441Z"
    }
   },
   "id": "1fc8b2e5a4f95b66",
   "execution_count": 27
  },
  {
   "cell_type": "markdown",
   "source": [
    "## 10% pfpr"
   ],
   "metadata": {
    "collapsed": false
   },
   "id": "541308a95b0a6ca9"
  },
  {
   "cell_type": "code",
   "outputs": [
    {
     "name": "stderr",
     "output_type": "stream",
     "text": [
      "C:\\Users\\joshsu\\AppData\\Local\\Temp\\ipykernel_35472\\559688894.py:40: SettingWithCopyWarning: \n",
      "A value is trying to be set on a copy of a slice from a DataFrame\n",
      "\n",
      "See the caveats in the documentation: https://pandas.pydata.org/pandas-docs/stable/user_guide/indexing.html#returning-a-view-versus-a-copy\n",
      "  df_table[\"icer_low\"].iloc[i] = np.percentile(icers, 2.5)\n",
      "C:\\Users\\joshsu\\AppData\\Local\\Temp\\ipykernel_35472\\559688894.py:41: SettingWithCopyWarning: \n",
      "A value is trying to be set on a copy of a slice from a DataFrame\n",
      "\n",
      "See the caveats in the documentation: https://pandas.pydata.org/pandas-docs/stable/user_guide/indexing.html#returning-a-view-versus-a-copy\n",
      "  df_table[\"icer_high\"].iloc[i] = np.percentile(icers, 97.5)\n",
      "C:\\Users\\joshsu\\AppData\\Local\\Temp\\ipykernel_35472\\559688894.py:48: SettingWithCopyWarning: \n",
      "A value is trying to be set on a copy of a slice from a DataFrame\n",
      "\n",
      "See the caveats in the documentation: https://pandas.pydata.org/pandas-docs/stable/user_guide/indexing.html#returning-a-view-versus-a-copy\n",
      "  df_table[\"icer_IPTsc_low\"].iloc[i] = np.percentile(icers, 2.5)\n",
      "C:\\Users\\joshsu\\AppData\\Local\\Temp\\ipykernel_35472\\559688894.py:49: SettingWithCopyWarning: \n",
      "A value is trying to be set on a copy of a slice from a DataFrame\n",
      "\n",
      "See the caveats in the documentation: https://pandas.pydata.org/pandas-docs/stable/user_guide/indexing.html#returning-a-view-versus-a-copy\n",
      "  df_table[\"icer_IPTsc_high\"].iloc[i] = np.percentile(icers, 97.5)\n"
     ]
    },
    {
     "data": {
      "text/plain": "     Scenario                     Cases Incremental Cases Averted  \\\n0    No IPTsc  1187.8 (1127.4 - 1248.2)           nan (nan - nan)   \n1   ASAQ term   1054.8 (983.3 - 1126.3)      133.0 (39.4 - 226.5)   \n2     DP term     730.3 (621.1 - 839.5)     324.6 (194.1 - 455.1)   \n3  ASAQ month     569.0 (443.6 - 694.4)      161.3 (-5.0 - 327.6)   \n4    DP month     306.1 (187.1 - 425.1)      262.9 (90.0 - 435.9)   \n\n  Cost (Funder Perspective) Incremental Cost (Funder Perspective)  \\\n0           0.0 (0.0 - 0.0)                       nan (nan - nan)   \n1     440.6 (320.9 - 560.2)                 440.6 (320.9 - 560.2)   \n2  1230.1 (1105.8 - 1354.4)                 789.5 (617.0 - 962.1)   \n3  1542.0 (1064.8 - 2019.2)                311.9 (-181.2 - 805.0)   \n4  4409.2 (3916.8 - 4901.6)              2867.2 (2181.5 - 3552.9)   \n\n  ICER (Funder Perspective) Cost (Health System Perspective)  \\\n0           nan (nan - nan)         3303.2 (2450.9 - 4155.4)   \n1          3.3 (1.8 - 10.9)         3446.9 (2680.7 - 4213.2)   \n2           2.4 (1.6 - 4.2)         3636.7 (3044.7 - 4228.7)   \n3     1.9 (Dominant - 15.0)         3565.1 (2905.2 - 4224.9)   \n4         10.9 (6.1 - 31.8)         5990.7 (5413.2 - 6568.1)   \n\n  Incremental Cost (Health System Perspective)  \\\n0                              nan (nan - nan)   \n1                     143.8 (-1002.3 - 1289.9)   \n2                      189.7 (-778.6 - 1158.0)   \n3                       -71.6 (-958.1 - 814.9)   \n4                     2425.6 (1548.8 - 3302.5)   \n\n  ICER (Health System Perspective)  \n0                  nan (nan - nan)  \n1            1.1 (Dominant - 14.2)  \n2             0.6 (Dominant - 4.0)  \n3           -0.4 (Dominant - 11.6)  \n4                 9.2 (4.7 - 27.3)  ",
      "text/html": "<div>\n<style scoped>\n    .dataframe tbody tr th:only-of-type {\n        vertical-align: middle;\n    }\n\n    .dataframe tbody tr th {\n        vertical-align: top;\n    }\n\n    .dataframe thead th {\n        text-align: right;\n    }\n</style>\n<table border=\"1\" class=\"dataframe\">\n  <thead>\n    <tr style=\"text-align: right;\">\n      <th></th>\n      <th>Scenario</th>\n      <th>Cases</th>\n      <th>Incremental Cases Averted</th>\n      <th>Cost (Funder Perspective)</th>\n      <th>Incremental Cost (Funder Perspective)</th>\n      <th>ICER (Funder Perspective)</th>\n      <th>Cost (Health System Perspective)</th>\n      <th>Incremental Cost (Health System Perspective)</th>\n      <th>ICER (Health System Perspective)</th>\n    </tr>\n  </thead>\n  <tbody>\n    <tr>\n      <th>0</th>\n      <td>No IPTsc</td>\n      <td>1187.8 (1127.4 - 1248.2)</td>\n      <td>nan (nan - nan)</td>\n      <td>0.0 (0.0 - 0.0)</td>\n      <td>nan (nan - nan)</td>\n      <td>nan (nan - nan)</td>\n      <td>3303.2 (2450.9 - 4155.4)</td>\n      <td>nan (nan - nan)</td>\n      <td>nan (nan - nan)</td>\n    </tr>\n    <tr>\n      <th>1</th>\n      <td>ASAQ term</td>\n      <td>1054.8 (983.3 - 1126.3)</td>\n      <td>133.0 (39.4 - 226.5)</td>\n      <td>440.6 (320.9 - 560.2)</td>\n      <td>440.6 (320.9 - 560.2)</td>\n      <td>3.3 (1.8 - 10.9)</td>\n      <td>3446.9 (2680.7 - 4213.2)</td>\n      <td>143.8 (-1002.3 - 1289.9)</td>\n      <td>1.1 (Dominant - 14.2)</td>\n    </tr>\n    <tr>\n      <th>2</th>\n      <td>DP term</td>\n      <td>730.3 (621.1 - 839.5)</td>\n      <td>324.6 (194.1 - 455.1)</td>\n      <td>1230.1 (1105.8 - 1354.4)</td>\n      <td>789.5 (617.0 - 962.1)</td>\n      <td>2.4 (1.6 - 4.2)</td>\n      <td>3636.7 (3044.7 - 4228.7)</td>\n      <td>189.7 (-778.6 - 1158.0)</td>\n      <td>0.6 (Dominant - 4.0)</td>\n    </tr>\n    <tr>\n      <th>3</th>\n      <td>ASAQ month</td>\n      <td>569.0 (443.6 - 694.4)</td>\n      <td>161.3 (-5.0 - 327.6)</td>\n      <td>1542.0 (1064.8 - 2019.2)</td>\n      <td>311.9 (-181.2 - 805.0)</td>\n      <td>1.9 (Dominant - 15.0)</td>\n      <td>3565.1 (2905.2 - 4224.9)</td>\n      <td>-71.6 (-958.1 - 814.9)</td>\n      <td>-0.4 (Dominant - 11.6)</td>\n    </tr>\n    <tr>\n      <th>4</th>\n      <td>DP month</td>\n      <td>306.1 (187.1 - 425.1)</td>\n      <td>262.9 (90.0 - 435.9)</td>\n      <td>4409.2 (3916.8 - 4901.6)</td>\n      <td>2867.2 (2181.5 - 3552.9)</td>\n      <td>10.9 (6.1 - 31.8)</td>\n      <td>5990.7 (5413.2 - 6568.1)</td>\n      <td>2425.6 (1548.8 - 3302.5)</td>\n      <td>9.2 (4.7 - 27.3)</td>\n    </tr>\n  </tbody>\n</table>\n</div>"
     },
     "execution_count": 28,
     "metadata": {},
     "output_type": "execute_result"
    }
   ],
   "source": [
    "df_single = df[(df[\"archetype\"] == \"Central\") & (df[\"transmission_level\"] == 0.1)]\n",
    "df_single = df_single[df_single[\"scenario_number\"].isin([0, 6, 7, 8, 9])]\n",
    "df_table = generate_league_table_PRETTY(df_single)\n",
    "df_table"
   ],
   "metadata": {
    "collapsed": false,
    "ExecuteTime": {
     "end_time": "2024-10-18T18:03:35.284829Z",
     "start_time": "2024-10-18T18:03:35.022989Z"
    }
   },
   "id": "6cf5f4f0194458d8",
   "execution_count": 28
  },
  {
   "cell_type": "code",
   "outputs": [
    {
     "name": "stderr",
     "output_type": "stream",
     "text": [
      "C:\\Users\\joshsu\\AppData\\Local\\Temp\\ipykernel_35472\\559688894.py:40: SettingWithCopyWarning: \n",
      "A value is trying to be set on a copy of a slice from a DataFrame\n",
      "\n",
      "See the caveats in the documentation: https://pandas.pydata.org/pandas-docs/stable/user_guide/indexing.html#returning-a-view-versus-a-copy\n",
      "  df_table[\"icer_low\"].iloc[i] = np.percentile(icers, 2.5)\n",
      "C:\\Users\\joshsu\\AppData\\Local\\Temp\\ipykernel_35472\\559688894.py:41: SettingWithCopyWarning: \n",
      "A value is trying to be set on a copy of a slice from a DataFrame\n",
      "\n",
      "See the caveats in the documentation: https://pandas.pydata.org/pandas-docs/stable/user_guide/indexing.html#returning-a-view-versus-a-copy\n",
      "  df_table[\"icer_high\"].iloc[i] = np.percentile(icers, 97.5)\n",
      "C:\\Users\\joshsu\\AppData\\Local\\Temp\\ipykernel_35472\\559688894.py:48: SettingWithCopyWarning: \n",
      "A value is trying to be set on a copy of a slice from a DataFrame\n",
      "\n",
      "See the caveats in the documentation: https://pandas.pydata.org/pandas-docs/stable/user_guide/indexing.html#returning-a-view-versus-a-copy\n",
      "  df_table[\"icer_IPTsc_low\"].iloc[i] = np.percentile(icers, 2.5)\n",
      "C:\\Users\\joshsu\\AppData\\Local\\Temp\\ipykernel_35472\\559688894.py:49: SettingWithCopyWarning: \n",
      "A value is trying to be set on a copy of a slice from a DataFrame\n",
      "\n",
      "See the caveats in the documentation: https://pandas.pydata.org/pandas-docs/stable/user_guide/indexing.html#returning-a-view-versus-a-copy\n",
      "  df_table[\"icer_IPTsc_high\"].iloc[i] = np.percentile(icers, 97.5)\n"
     ]
    },
    {
     "data": {
      "text/plain": "     Scenario                     Cases Incremental Cases Averted  \\\n0    No IPTsc  1187.8 (1127.4 - 1248.2)           nan (nan - nan)   \n1  ASAQ month     569.0 (443.6 - 694.4)     618.8 (479.6 - 758.1)   \n2    DP month     306.1 (187.1 - 425.1)      262.9 (90.0 - 435.9)   \n\n  Cost (Funder Perspective) Incremental Cost (Funder Perspective)  \\\n0           0.0 (0.0 - 0.0)                       nan (nan - nan)   \n1  1542.0 (1064.8 - 2019.2)              1542.0 (1064.8 - 2019.2)   \n2  4409.2 (3916.8 - 4901.6)              2867.2 (2181.5 - 3552.9)   \n\n  ICER (Funder Perspective) Cost (Health System Perspective)  \\\n0           nan (nan - nan)         3303.2 (2450.9 - 4155.4)   \n1           2.5 (1.6 - 3.6)         3565.1 (2905.2 - 4224.9)   \n2         10.9 (6.1 - 31.4)         5990.7 (5413.2 - 6568.1)   \n\n  Incremental Cost (Health System Perspective)  \\\n0                              nan (nan - nan)   \n1                      261.9 (-816.0 - 1339.8)   \n2                     2425.6 (1548.8 - 3302.5)   \n\n  ICER (Health System Perspective)  \n0                  nan (nan - nan)  \n1             0.4 (Dominant - 2.2)  \n2                 9.2 (4.6 - 26.9)  ",
      "text/html": "<div>\n<style scoped>\n    .dataframe tbody tr th:only-of-type {\n        vertical-align: middle;\n    }\n\n    .dataframe tbody tr th {\n        vertical-align: top;\n    }\n\n    .dataframe thead th {\n        text-align: right;\n    }\n</style>\n<table border=\"1\" class=\"dataframe\">\n  <thead>\n    <tr style=\"text-align: right;\">\n      <th></th>\n      <th>Scenario</th>\n      <th>Cases</th>\n      <th>Incremental Cases Averted</th>\n      <th>Cost (Funder Perspective)</th>\n      <th>Incremental Cost (Funder Perspective)</th>\n      <th>ICER (Funder Perspective)</th>\n      <th>Cost (Health System Perspective)</th>\n      <th>Incremental Cost (Health System Perspective)</th>\n      <th>ICER (Health System Perspective)</th>\n    </tr>\n  </thead>\n  <tbody>\n    <tr>\n      <th>0</th>\n      <td>No IPTsc</td>\n      <td>1187.8 (1127.4 - 1248.2)</td>\n      <td>nan (nan - nan)</td>\n      <td>0.0 (0.0 - 0.0)</td>\n      <td>nan (nan - nan)</td>\n      <td>nan (nan - nan)</td>\n      <td>3303.2 (2450.9 - 4155.4)</td>\n      <td>nan (nan - nan)</td>\n      <td>nan (nan - nan)</td>\n    </tr>\n    <tr>\n      <th>1</th>\n      <td>ASAQ month</td>\n      <td>569.0 (443.6 - 694.4)</td>\n      <td>618.8 (479.6 - 758.1)</td>\n      <td>1542.0 (1064.8 - 2019.2)</td>\n      <td>1542.0 (1064.8 - 2019.2)</td>\n      <td>2.5 (1.6 - 3.6)</td>\n      <td>3565.1 (2905.2 - 4224.9)</td>\n      <td>261.9 (-816.0 - 1339.8)</td>\n      <td>0.4 (Dominant - 2.2)</td>\n    </tr>\n    <tr>\n      <th>2</th>\n      <td>DP month</td>\n      <td>306.1 (187.1 - 425.1)</td>\n      <td>262.9 (90.0 - 435.9)</td>\n      <td>4409.2 (3916.8 - 4901.6)</td>\n      <td>2867.2 (2181.5 - 3552.9)</td>\n      <td>10.9 (6.1 - 31.4)</td>\n      <td>5990.7 (5413.2 - 6568.1)</td>\n      <td>2425.6 (1548.8 - 3302.5)</td>\n      <td>9.2 (4.6 - 26.9)</td>\n    </tr>\n  </tbody>\n</table>\n</div>"
     },
     "execution_count": 29,
     "metadata": {},
     "output_type": "execute_result"
    }
   ],
   "source": [
    "df_single = df[(df[\"archetype\"] == \"Central\") & (df[\"transmission_level\"] == 0.1)]\n",
    "df_single = df_single[df_single[\"scenario_number\"].isin([0, 7, 9])]\n",
    "df_table = generate_league_table_PRETTY(df_single)\n",
    "df_table"
   ],
   "metadata": {
    "collapsed": false,
    "ExecuteTime": {
     "end_time": "2024-10-18T18:03:35.566357Z",
     "start_time": "2024-10-18T18:03:35.289831Z"
    }
   },
   "id": "4fc22ba3d8206e3a",
   "execution_count": 29
  },
  {
   "cell_type": "markdown",
   "source": [
    "## 20% pfpr"
   ],
   "metadata": {
    "collapsed": false
   },
   "id": "bfb465e712becfc6"
  },
  {
   "cell_type": "code",
   "outputs": [
    {
     "name": "stderr",
     "output_type": "stream",
     "text": [
      "C:\\Users\\joshsu\\AppData\\Local\\Temp\\ipykernel_35472\\559688894.py:40: SettingWithCopyWarning: \n",
      "A value is trying to be set on a copy of a slice from a DataFrame\n",
      "\n",
      "See the caveats in the documentation: https://pandas.pydata.org/pandas-docs/stable/user_guide/indexing.html#returning-a-view-versus-a-copy\n",
      "  df_table[\"icer_low\"].iloc[i] = np.percentile(icers, 2.5)\n",
      "C:\\Users\\joshsu\\AppData\\Local\\Temp\\ipykernel_35472\\559688894.py:41: SettingWithCopyWarning: \n",
      "A value is trying to be set on a copy of a slice from a DataFrame\n",
      "\n",
      "See the caveats in the documentation: https://pandas.pydata.org/pandas-docs/stable/user_guide/indexing.html#returning-a-view-versus-a-copy\n",
      "  df_table[\"icer_high\"].iloc[i] = np.percentile(icers, 97.5)\n",
      "C:\\Users\\joshsu\\AppData\\Local\\Temp\\ipykernel_35472\\559688894.py:48: SettingWithCopyWarning: \n",
      "A value is trying to be set on a copy of a slice from a DataFrame\n",
      "\n",
      "See the caveats in the documentation: https://pandas.pydata.org/pandas-docs/stable/user_guide/indexing.html#returning-a-view-versus-a-copy\n",
      "  df_table[\"icer_IPTsc_low\"].iloc[i] = np.percentile(icers, 2.5)\n",
      "C:\\Users\\joshsu\\AppData\\Local\\Temp\\ipykernel_35472\\559688894.py:49: SettingWithCopyWarning: \n",
      "A value is trying to be set on a copy of a slice from a DataFrame\n",
      "\n",
      "See the caveats in the documentation: https://pandas.pydata.org/pandas-docs/stable/user_guide/indexing.html#returning-a-view-versus-a-copy\n",
      "  df_table[\"icer_IPTsc_high\"].iloc[i] = np.percentile(icers, 97.5)\n"
     ]
    },
    {
     "data": {
      "text/plain": "     Scenario                     Cases Incremental Cases Averted  \\\n0    No IPTsc  1336.9 (1296.5 - 1377.3)           nan (nan - nan)   \n1   ASAQ term  1243.2 (1198.5 - 1287.9)       93.7 (33.5 - 153.9)   \n2     DP term     925.5 (879.2 - 971.8)     317.7 (253.4 - 381.9)   \n3  ASAQ month     848.1 (783.6 - 912.6)       77.4 (-2.0 - 156.8)   \n4    DP month     556.8 (488.6 - 625.0)     291.3 (197.4 - 385.2)   \n\n  Cost (Funder Perspective) Incremental Cost (Funder Perspective)  \\\n0           0.0 (0.0 - 0.0)                       nan (nan - nan)   \n1     446.1 (324.9 - 567.3)                 446.1 (324.9 - 567.3)   \n2  1245.0 (1119.2 - 1370.8)                 798.9 (624.2 - 973.5)   \n3  1563.5 (1079.2 - 2047.8)                318.5 (-181.8 - 818.8)   \n4  4468.6 (3967.5 - 4969.8)              2905.2 (2208.3 - 3602.0)   \n\n  ICER (Funder Perspective) Cost (Health System Perspective)  \\\n0           nan (nan - nan)         4230.3 (3071.7 - 5388.9)   \n1          4.8 (2.6 - 13.3)         4379.4 (3314.6 - 5444.2)   \n2           2.5 (1.9 - 3.4)         4476.0 (3646.5 - 5305.4)   \n3     4.1 (Dominant - 31.8)         4391.9 (3547.9 - 5235.9)   \n4         10.0 (6.7 - 15.5)         6733.1 (6032.0 - 7434.2)   \n\n  Incremental Cost (Health System Perspective)  \\\n0                              nan (nan - nan)   \n1                     149.1 (-1424.5 - 1722.6)   \n2                      96.6 (-1253.1 - 1446.3)   \n3                     -84.1 (-1267.4 - 1099.3)   \n4                     2341.2 (1243.9 - 3438.4)   \n\n  ICER (Health System Perspective)  \n0                  nan (nan - nan)  \n1            1.6 (Dominant - 24.4)  \n2             0.3 (Dominant - 4.7)  \n3           -1.1 (Dominant - 32.9)  \n4                 8.0 (4.0 - 13.9)  ",
      "text/html": "<div>\n<style scoped>\n    .dataframe tbody tr th:only-of-type {\n        vertical-align: middle;\n    }\n\n    .dataframe tbody tr th {\n        vertical-align: top;\n    }\n\n    .dataframe thead th {\n        text-align: right;\n    }\n</style>\n<table border=\"1\" class=\"dataframe\">\n  <thead>\n    <tr style=\"text-align: right;\">\n      <th></th>\n      <th>Scenario</th>\n      <th>Cases</th>\n      <th>Incremental Cases Averted</th>\n      <th>Cost (Funder Perspective)</th>\n      <th>Incremental Cost (Funder Perspective)</th>\n      <th>ICER (Funder Perspective)</th>\n      <th>Cost (Health System Perspective)</th>\n      <th>Incremental Cost (Health System Perspective)</th>\n      <th>ICER (Health System Perspective)</th>\n    </tr>\n  </thead>\n  <tbody>\n    <tr>\n      <th>0</th>\n      <td>No IPTsc</td>\n      <td>1336.9 (1296.5 - 1377.3)</td>\n      <td>nan (nan - nan)</td>\n      <td>0.0 (0.0 - 0.0)</td>\n      <td>nan (nan - nan)</td>\n      <td>nan (nan - nan)</td>\n      <td>4230.3 (3071.7 - 5388.9)</td>\n      <td>nan (nan - nan)</td>\n      <td>nan (nan - nan)</td>\n    </tr>\n    <tr>\n      <th>1</th>\n      <td>ASAQ term</td>\n      <td>1243.2 (1198.5 - 1287.9)</td>\n      <td>93.7 (33.5 - 153.9)</td>\n      <td>446.1 (324.9 - 567.3)</td>\n      <td>446.1 (324.9 - 567.3)</td>\n      <td>4.8 (2.6 - 13.3)</td>\n      <td>4379.4 (3314.6 - 5444.2)</td>\n      <td>149.1 (-1424.5 - 1722.6)</td>\n      <td>1.6 (Dominant - 24.4)</td>\n    </tr>\n    <tr>\n      <th>2</th>\n      <td>DP term</td>\n      <td>925.5 (879.2 - 971.8)</td>\n      <td>317.7 (253.4 - 381.9)</td>\n      <td>1245.0 (1119.2 - 1370.8)</td>\n      <td>798.9 (624.2 - 973.5)</td>\n      <td>2.5 (1.9 - 3.4)</td>\n      <td>4476.0 (3646.5 - 5305.4)</td>\n      <td>96.6 (-1253.1 - 1446.3)</td>\n      <td>0.3 (Dominant - 4.7)</td>\n    </tr>\n    <tr>\n      <th>3</th>\n      <td>ASAQ month</td>\n      <td>848.1 (783.6 - 912.6)</td>\n      <td>77.4 (-2.0 - 156.8)</td>\n      <td>1563.5 (1079.2 - 2047.8)</td>\n      <td>318.5 (-181.8 - 818.8)</td>\n      <td>4.1 (Dominant - 31.8)</td>\n      <td>4391.9 (3547.9 - 5235.9)</td>\n      <td>-84.1 (-1267.4 - 1099.3)</td>\n      <td>-1.1 (Dominant - 32.9)</td>\n    </tr>\n    <tr>\n      <th>4</th>\n      <td>DP month</td>\n      <td>556.8 (488.6 - 625.0)</td>\n      <td>291.3 (197.4 - 385.2)</td>\n      <td>4468.6 (3967.5 - 4969.8)</td>\n      <td>2905.2 (2208.3 - 3602.0)</td>\n      <td>10.0 (6.7 - 15.5)</td>\n      <td>6733.1 (6032.0 - 7434.2)</td>\n      <td>2341.2 (1243.9 - 3438.4)</td>\n      <td>8.0 (4.0 - 13.9)</td>\n    </tr>\n  </tbody>\n</table>\n</div>"
     },
     "execution_count": 30,
     "metadata": {},
     "output_type": "execute_result"
    }
   ],
   "source": [
    "df_single = df[(df[\"archetype\"] == \"Central\") & (df[\"transmission_level\"] == 0.2)]\n",
    "df_single = df_single[df_single[\"scenario_number\"].isin([0, 6, 7, 8, 9])]\n",
    "df_table = generate_league_table_PRETTY(df_single)\n",
    "df_table.to_csv(\"league_tables/league_table_central_pfpr20_all.csv\", index=False)\n",
    "df_table"
   ],
   "metadata": {
    "collapsed": false,
    "ExecuteTime": {
     "end_time": "2024-10-18T18:03:35.847560Z",
     "start_time": "2024-10-18T18:03:35.571358Z"
    }
   },
   "id": "2120e147c8877a51",
   "execution_count": 30
  },
  {
   "cell_type": "code",
   "outputs": [
    {
     "name": "stderr",
     "output_type": "stream",
     "text": [
      "C:\\Users\\joshsu\\AppData\\Local\\Temp\\ipykernel_35472\\559688894.py:40: SettingWithCopyWarning: \n",
      "A value is trying to be set on a copy of a slice from a DataFrame\n",
      "\n",
      "See the caveats in the documentation: https://pandas.pydata.org/pandas-docs/stable/user_guide/indexing.html#returning-a-view-versus-a-copy\n",
      "  df_table[\"icer_low\"].iloc[i] = np.percentile(icers, 2.5)\n",
      "C:\\Users\\joshsu\\AppData\\Local\\Temp\\ipykernel_35472\\559688894.py:41: SettingWithCopyWarning: \n",
      "A value is trying to be set on a copy of a slice from a DataFrame\n",
      "\n",
      "See the caveats in the documentation: https://pandas.pydata.org/pandas-docs/stable/user_guide/indexing.html#returning-a-view-versus-a-copy\n",
      "  df_table[\"icer_high\"].iloc[i] = np.percentile(icers, 97.5)\n",
      "C:\\Users\\joshsu\\AppData\\Local\\Temp\\ipykernel_35472\\559688894.py:48: SettingWithCopyWarning: \n",
      "A value is trying to be set on a copy of a slice from a DataFrame\n",
      "\n",
      "See the caveats in the documentation: https://pandas.pydata.org/pandas-docs/stable/user_guide/indexing.html#returning-a-view-versus-a-copy\n",
      "  df_table[\"icer_IPTsc_low\"].iloc[i] = np.percentile(icers, 2.5)\n",
      "C:\\Users\\joshsu\\AppData\\Local\\Temp\\ipykernel_35472\\559688894.py:49: SettingWithCopyWarning: \n",
      "A value is trying to be set on a copy of a slice from a DataFrame\n",
      "\n",
      "See the caveats in the documentation: https://pandas.pydata.org/pandas-docs/stable/user_guide/indexing.html#returning-a-view-versus-a-copy\n",
      "  df_table[\"icer_IPTsc_high\"].iloc[i] = np.percentile(icers, 97.5)\n"
     ]
    },
    {
     "data": {
      "text/plain": "     Scenario                     Cases Incremental Cases Averted  \\\n0    No IPTsc  1336.9 (1296.5 - 1377.3)           nan (nan - nan)   \n1     DP term     925.5 (879.2 - 971.8)     411.4 (349.9 - 472.8)   \n2  ASAQ month     848.1 (783.6 - 912.6)       77.4 (-2.0 - 156.8)   \n3    DP month     556.8 (488.6 - 625.0)     291.3 (197.4 - 385.2)   \n\n  Cost (Funder Perspective) Incremental Cost (Funder Perspective)  \\\n0           0.0 (0.0 - 0.0)                       nan (nan - nan)   \n1  1245.0 (1119.2 - 1370.8)              1245.0 (1119.2 - 1370.8)   \n2  1563.5 (1079.2 - 2047.8)                318.5 (-181.8 - 818.8)   \n3  4468.6 (3967.5 - 4969.8)              2905.2 (2208.3 - 3602.0)   \n\n  ICER (Funder Perspective) Cost (Health System Perspective)  \\\n0           nan (nan - nan)         4230.3 (3071.7 - 5388.9)   \n1           3.0 (2.5 - 3.7)         4476.0 (3646.5 - 5305.4)   \n2     4.1 (Dominant - 31.3)         4391.9 (3547.9 - 5235.9)   \n3         10.0 (6.7 - 15.5)         6733.1 (6032.0 - 7434.2)   \n\n  Incremental Cost (Health System Perspective)  \\\n0                              nan (nan - nan)   \n1                     245.7 (-1179.2 - 1670.6)   \n2                     -84.1 (-1267.4 - 1099.3)   \n3                     2341.2 (1243.9 - 3438.4)   \n\n  ICER (Health System Perspective)  \n0                  nan (nan - nan)  \n1             0.6 (Dominant - 4.1)  \n2           -1.1 (Dominant - 31.7)  \n3                 8.0 (4.1 - 13.8)  ",
      "text/html": "<div>\n<style scoped>\n    .dataframe tbody tr th:only-of-type {\n        vertical-align: middle;\n    }\n\n    .dataframe tbody tr th {\n        vertical-align: top;\n    }\n\n    .dataframe thead th {\n        text-align: right;\n    }\n</style>\n<table border=\"1\" class=\"dataframe\">\n  <thead>\n    <tr style=\"text-align: right;\">\n      <th></th>\n      <th>Scenario</th>\n      <th>Cases</th>\n      <th>Incremental Cases Averted</th>\n      <th>Cost (Funder Perspective)</th>\n      <th>Incremental Cost (Funder Perspective)</th>\n      <th>ICER (Funder Perspective)</th>\n      <th>Cost (Health System Perspective)</th>\n      <th>Incremental Cost (Health System Perspective)</th>\n      <th>ICER (Health System Perspective)</th>\n    </tr>\n  </thead>\n  <tbody>\n    <tr>\n      <th>0</th>\n      <td>No IPTsc</td>\n      <td>1336.9 (1296.5 - 1377.3)</td>\n      <td>nan (nan - nan)</td>\n      <td>0.0 (0.0 - 0.0)</td>\n      <td>nan (nan - nan)</td>\n      <td>nan (nan - nan)</td>\n      <td>4230.3 (3071.7 - 5388.9)</td>\n      <td>nan (nan - nan)</td>\n      <td>nan (nan - nan)</td>\n    </tr>\n    <tr>\n      <th>1</th>\n      <td>DP term</td>\n      <td>925.5 (879.2 - 971.8)</td>\n      <td>411.4 (349.9 - 472.8)</td>\n      <td>1245.0 (1119.2 - 1370.8)</td>\n      <td>1245.0 (1119.2 - 1370.8)</td>\n      <td>3.0 (2.5 - 3.7)</td>\n      <td>4476.0 (3646.5 - 5305.4)</td>\n      <td>245.7 (-1179.2 - 1670.6)</td>\n      <td>0.6 (Dominant - 4.1)</td>\n    </tr>\n    <tr>\n      <th>2</th>\n      <td>ASAQ month</td>\n      <td>848.1 (783.6 - 912.6)</td>\n      <td>77.4 (-2.0 - 156.8)</td>\n      <td>1563.5 (1079.2 - 2047.8)</td>\n      <td>318.5 (-181.8 - 818.8)</td>\n      <td>4.1 (Dominant - 31.3)</td>\n      <td>4391.9 (3547.9 - 5235.9)</td>\n      <td>-84.1 (-1267.4 - 1099.3)</td>\n      <td>-1.1 (Dominant - 31.7)</td>\n    </tr>\n    <tr>\n      <th>3</th>\n      <td>DP month</td>\n      <td>556.8 (488.6 - 625.0)</td>\n      <td>291.3 (197.4 - 385.2)</td>\n      <td>4468.6 (3967.5 - 4969.8)</td>\n      <td>2905.2 (2208.3 - 3602.0)</td>\n      <td>10.0 (6.7 - 15.5)</td>\n      <td>6733.1 (6032.0 - 7434.2)</td>\n      <td>2341.2 (1243.9 - 3438.4)</td>\n      <td>8.0 (4.1 - 13.8)</td>\n    </tr>\n  </tbody>\n</table>\n</div>"
     },
     "execution_count": 31,
     "metadata": {},
     "output_type": "execute_result"
    }
   ],
   "source": [
    "df_single = df[(df[\"archetype\"] == \"Central\") & (df[\"transmission_level\"] == 0.2)]\n",
    "df_single = df_single[df_single[\"scenario_number\"].isin([0, 7,8, 9])]\n",
    "df_table = generate_league_table_PRETTY(df_single)\n",
    "# df_table.to_csv(\"league_tables/league_table_central_pfpr20_reduced.csv\", index=False)\n",
    "df_table"
   ],
   "metadata": {
    "collapsed": false,
    "ExecuteTime": {
     "end_time": "2024-10-18T18:03:36.188757Z",
     "start_time": "2024-10-18T18:03:35.854541Z"
    }
   },
   "id": "da8a793a15c6b679",
   "execution_count": 31
  },
  {
   "cell_type": "code",
   "outputs": [
    {
     "name": "stderr",
     "output_type": "stream",
     "text": [
      "C:\\Users\\joshsu\\AppData\\Local\\Temp\\ipykernel_35472\\559688894.py:40: SettingWithCopyWarning: \n",
      "A value is trying to be set on a copy of a slice from a DataFrame\n",
      "\n",
      "See the caveats in the documentation: https://pandas.pydata.org/pandas-docs/stable/user_guide/indexing.html#returning-a-view-versus-a-copy\n",
      "  df_table[\"icer_low\"].iloc[i] = np.percentile(icers, 2.5)\n",
      "C:\\Users\\joshsu\\AppData\\Local\\Temp\\ipykernel_35472\\559688894.py:41: SettingWithCopyWarning: \n",
      "A value is trying to be set on a copy of a slice from a DataFrame\n",
      "\n",
      "See the caveats in the documentation: https://pandas.pydata.org/pandas-docs/stable/user_guide/indexing.html#returning-a-view-versus-a-copy\n",
      "  df_table[\"icer_high\"].iloc[i] = np.percentile(icers, 97.5)\n",
      "C:\\Users\\joshsu\\AppData\\Local\\Temp\\ipykernel_35472\\559688894.py:48: SettingWithCopyWarning: \n",
      "A value is trying to be set on a copy of a slice from a DataFrame\n",
      "\n",
      "See the caveats in the documentation: https://pandas.pydata.org/pandas-docs/stable/user_guide/indexing.html#returning-a-view-versus-a-copy\n",
      "  df_table[\"icer_IPTsc_low\"].iloc[i] = np.percentile(icers, 2.5)\n",
      "C:\\Users\\joshsu\\AppData\\Local\\Temp\\ipykernel_35472\\559688894.py:49: SettingWithCopyWarning: \n",
      "A value is trying to be set on a copy of a slice from a DataFrame\n",
      "\n",
      "See the caveats in the documentation: https://pandas.pydata.org/pandas-docs/stable/user_guide/indexing.html#returning-a-view-versus-a-copy\n",
      "  df_table[\"icer_IPTsc_high\"].iloc[i] = np.percentile(icers, 97.5)\n"
     ]
    },
    {
     "data": {
      "text/plain": "     Scenario                     Cases Incremental Cases Averted  \\\n0    No IPTsc  1336.9 (1296.5 - 1377.3)           nan (nan - nan)   \n1  ASAQ month     848.1 (783.6 - 912.6)     488.8 (412.6 - 564.9)   \n2    DP month     556.8 (488.6 - 625.0)     291.3 (197.4 - 385.2)   \n\n  Cost (Funder Perspective) Incremental Cost (Funder Perspective)  \\\n0           0.0 (0.0 - 0.0)                       nan (nan - nan)   \n1  1563.5 (1079.2 - 2047.8)              1563.5 (1079.2 - 2047.8)   \n2  4468.6 (3967.5 - 4969.8)              2905.2 (2208.3 - 3602.0)   \n\n  ICER (Funder Perspective) Cost (Health System Perspective)  \\\n0           nan (nan - nan)         4230.3 (3071.7 - 5388.9)   \n1           3.2 (2.2 - 4.4)         4391.9 (3547.9 - 5235.9)   \n2         10.0 (6.7 - 15.5)         6733.1 (6032.0 - 7434.2)   \n\n  Incremental Cost (Health System Perspective)  \\\n0                              nan (nan - nan)   \n1                     161.6 (-1271.8 - 1595.0)   \n2                     2341.2 (1243.9 - 3438.4)   \n\n  ICER (Health System Perspective)  \n0                  nan (nan - nan)  \n1             0.3 (Dominant - 3.3)  \n2                 8.0 (4.1 - 13.9)  ",
      "text/html": "<div>\n<style scoped>\n    .dataframe tbody tr th:only-of-type {\n        vertical-align: middle;\n    }\n\n    .dataframe tbody tr th {\n        vertical-align: top;\n    }\n\n    .dataframe thead th {\n        text-align: right;\n    }\n</style>\n<table border=\"1\" class=\"dataframe\">\n  <thead>\n    <tr style=\"text-align: right;\">\n      <th></th>\n      <th>Scenario</th>\n      <th>Cases</th>\n      <th>Incremental Cases Averted</th>\n      <th>Cost (Funder Perspective)</th>\n      <th>Incremental Cost (Funder Perspective)</th>\n      <th>ICER (Funder Perspective)</th>\n      <th>Cost (Health System Perspective)</th>\n      <th>Incremental Cost (Health System Perspective)</th>\n      <th>ICER (Health System Perspective)</th>\n    </tr>\n  </thead>\n  <tbody>\n    <tr>\n      <th>0</th>\n      <td>No IPTsc</td>\n      <td>1336.9 (1296.5 - 1377.3)</td>\n      <td>nan (nan - nan)</td>\n      <td>0.0 (0.0 - 0.0)</td>\n      <td>nan (nan - nan)</td>\n      <td>nan (nan - nan)</td>\n      <td>4230.3 (3071.7 - 5388.9)</td>\n      <td>nan (nan - nan)</td>\n      <td>nan (nan - nan)</td>\n    </tr>\n    <tr>\n      <th>1</th>\n      <td>ASAQ month</td>\n      <td>848.1 (783.6 - 912.6)</td>\n      <td>488.8 (412.6 - 564.9)</td>\n      <td>1563.5 (1079.2 - 2047.8)</td>\n      <td>1563.5 (1079.2 - 2047.8)</td>\n      <td>3.2 (2.2 - 4.4)</td>\n      <td>4391.9 (3547.9 - 5235.9)</td>\n      <td>161.6 (-1271.8 - 1595.0)</td>\n      <td>0.3 (Dominant - 3.3)</td>\n    </tr>\n    <tr>\n      <th>2</th>\n      <td>DP month</td>\n      <td>556.8 (488.6 - 625.0)</td>\n      <td>291.3 (197.4 - 385.2)</td>\n      <td>4468.6 (3967.5 - 4969.8)</td>\n      <td>2905.2 (2208.3 - 3602.0)</td>\n      <td>10.0 (6.7 - 15.5)</td>\n      <td>6733.1 (6032.0 - 7434.2)</td>\n      <td>2341.2 (1243.9 - 3438.4)</td>\n      <td>8.0 (4.1 - 13.9)</td>\n    </tr>\n  </tbody>\n</table>\n</div>"
     },
     "execution_count": 32,
     "metadata": {},
     "output_type": "execute_result"
    }
   ],
   "source": [
    "df_single = df[(df[\"archetype\"] == \"Central\") & (df[\"transmission_level\"] == 0.2)]\n",
    "df_single = df_single[df_single[\"scenario_number\"].isin([0, 7, 9])]\n",
    "df_table = generate_league_table_PRETTY(df_single)\n",
    "df_table.to_csv(\"league_tables/league_table_central_pfpr20_reduced.csv\", index=False)\n",
    "df_table"
   ],
   "metadata": {
    "collapsed": false,
    "ExecuteTime": {
     "end_time": "2024-10-18T18:03:36.464056Z",
     "start_time": "2024-10-18T18:03:36.195707Z"
    }
   },
   "id": "8b258277091efe7a",
   "execution_count": 32
  },
  {
   "cell_type": "markdown",
   "source": [
    "## 30% pfpr"
   ],
   "metadata": {
    "collapsed": false
   },
   "id": "e4b23f3bc3731a22"
  },
  {
   "cell_type": "code",
   "outputs": [
    {
     "name": "stderr",
     "output_type": "stream",
     "text": [
      "C:\\Users\\joshsu\\AppData\\Local\\Temp\\ipykernel_35472\\559688894.py:40: SettingWithCopyWarning: \n",
      "A value is trying to be set on a copy of a slice from a DataFrame\n",
      "\n",
      "See the caveats in the documentation: https://pandas.pydata.org/pandas-docs/stable/user_guide/indexing.html#returning-a-view-versus-a-copy\n",
      "  df_table[\"icer_low\"].iloc[i] = np.percentile(icers, 2.5)\n",
      "C:\\Users\\joshsu\\AppData\\Local\\Temp\\ipykernel_35472\\559688894.py:41: SettingWithCopyWarning: \n",
      "A value is trying to be set on a copy of a slice from a DataFrame\n",
      "\n",
      "See the caveats in the documentation: https://pandas.pydata.org/pandas-docs/stable/user_guide/indexing.html#returning-a-view-versus-a-copy\n",
      "  df_table[\"icer_high\"].iloc[i] = np.percentile(icers, 97.5)\n",
      "C:\\Users\\joshsu\\AppData\\Local\\Temp\\ipykernel_35472\\559688894.py:48: SettingWithCopyWarning: \n",
      "A value is trying to be set on a copy of a slice from a DataFrame\n",
      "\n",
      "See the caveats in the documentation: https://pandas.pydata.org/pandas-docs/stable/user_guide/indexing.html#returning-a-view-versus-a-copy\n",
      "  df_table[\"icer_IPTsc_low\"].iloc[i] = np.percentile(icers, 2.5)\n",
      "C:\\Users\\joshsu\\AppData\\Local\\Temp\\ipykernel_35472\\559688894.py:49: SettingWithCopyWarning: \n",
      "A value is trying to be set on a copy of a slice from a DataFrame\n",
      "\n",
      "See the caveats in the documentation: https://pandas.pydata.org/pandas-docs/stable/user_guide/indexing.html#returning-a-view-versus-a-copy\n",
      "  df_table[\"icer_IPTsc_high\"].iloc[i] = np.percentile(icers, 97.5)\n"
     ]
    },
    {
     "data": {
      "text/plain": "     Scenario                     Cases Incremental Cases Averted  \\\n0    No IPTsc  1395.0 (1360.1 - 1429.9)           nan (nan - nan)   \n1   ASAQ term  1304.2 (1268.7 - 1339.7)       90.9 (41.1 - 140.6)   \n2     DP term    990.5 (954.6 - 1026.4)     313.6 (263.2 - 364.0)   \n3  ASAQ month     936.8 (889.8 - 983.8)       53.7 (-5.3 - 112.8)   \n4    DP month     675.8 (634.6 - 717.0)     261.0 (198.6 - 323.5)   \n\n  Cost (Funder Perspective) Incremental Cost (Funder Perspective)  \\\n0           0.0 (0.0 - 0.0)                       nan (nan - nan)   \n1     460.7 (335.6 - 585.7)                 460.7 (335.6 - 585.7)   \n2  1285.0 (1155.4 - 1414.6)                824.3 (644.2 - 1004.4)   \n3  1612.5 (1113.4 - 2111.5)                327.5 (-188.1 - 843.1)   \n4  4604.5 (4089.5 - 5119.4)              2992.0 (2274.9 - 3709.1)   \n\n  ICER (Funder Perspective) Cost (Health System Perspective)  \\\n0           nan (nan - nan)         4826.8 (3466.1 - 6187.4)   \n1          5.1 (2.9 - 11.6)         4988.6 (3724.2 - 6253.1)   \n2           2.6 (2.0 - 3.4)         5087.9 (4069.2 - 6106.5)   \n3     6.1 (Dominant - 51.4)         4994.1 (3988.6 - 5999.7)   \n4         11.5 (8.1 - 16.2)         7428.8 (6581.2 - 8276.4)   \n\n  Incremental Cost (Health System Perspective)  \\\n0                              nan (nan - nan)   \n1                     161.8 (-1695.6 - 2019.3)   \n2                      99.3 (-1524.4 - 1723.0)   \n3                     -93.8 (-1525.1 - 1337.6)   \n4                     2434.7 (1119.5 - 3749.8)   \n\n  ICER (Health System Perspective)  \n0                  nan (nan - nan)  \n1            1.8 (Dominant - 27.0)  \n2             0.3 (Dominant - 5.6)  \n3           -1.7 (Dominant - 63.5)  \n4                 9.3 (4.2 - 15.6)  ",
      "text/html": "<div>\n<style scoped>\n    .dataframe tbody tr th:only-of-type {\n        vertical-align: middle;\n    }\n\n    .dataframe tbody tr th {\n        vertical-align: top;\n    }\n\n    .dataframe thead th {\n        text-align: right;\n    }\n</style>\n<table border=\"1\" class=\"dataframe\">\n  <thead>\n    <tr style=\"text-align: right;\">\n      <th></th>\n      <th>Scenario</th>\n      <th>Cases</th>\n      <th>Incremental Cases Averted</th>\n      <th>Cost (Funder Perspective)</th>\n      <th>Incremental Cost (Funder Perspective)</th>\n      <th>ICER (Funder Perspective)</th>\n      <th>Cost (Health System Perspective)</th>\n      <th>Incremental Cost (Health System Perspective)</th>\n      <th>ICER (Health System Perspective)</th>\n    </tr>\n  </thead>\n  <tbody>\n    <tr>\n      <th>0</th>\n      <td>No IPTsc</td>\n      <td>1395.0 (1360.1 - 1429.9)</td>\n      <td>nan (nan - nan)</td>\n      <td>0.0 (0.0 - 0.0)</td>\n      <td>nan (nan - nan)</td>\n      <td>nan (nan - nan)</td>\n      <td>4826.8 (3466.1 - 6187.4)</td>\n      <td>nan (nan - nan)</td>\n      <td>nan (nan - nan)</td>\n    </tr>\n    <tr>\n      <th>1</th>\n      <td>ASAQ term</td>\n      <td>1304.2 (1268.7 - 1339.7)</td>\n      <td>90.9 (41.1 - 140.6)</td>\n      <td>460.7 (335.6 - 585.7)</td>\n      <td>460.7 (335.6 - 585.7)</td>\n      <td>5.1 (2.9 - 11.6)</td>\n      <td>4988.6 (3724.2 - 6253.1)</td>\n      <td>161.8 (-1695.6 - 2019.3)</td>\n      <td>1.8 (Dominant - 27.0)</td>\n    </tr>\n    <tr>\n      <th>2</th>\n      <td>DP term</td>\n      <td>990.5 (954.6 - 1026.4)</td>\n      <td>313.6 (263.2 - 364.0)</td>\n      <td>1285.0 (1155.4 - 1414.6)</td>\n      <td>824.3 (644.2 - 1004.4)</td>\n      <td>2.6 (2.0 - 3.4)</td>\n      <td>5087.9 (4069.2 - 6106.5)</td>\n      <td>99.3 (-1524.4 - 1723.0)</td>\n      <td>0.3 (Dominant - 5.6)</td>\n    </tr>\n    <tr>\n      <th>3</th>\n      <td>ASAQ month</td>\n      <td>936.8 (889.8 - 983.8)</td>\n      <td>53.7 (-5.3 - 112.8)</td>\n      <td>1612.5 (1113.4 - 2111.5)</td>\n      <td>327.5 (-188.1 - 843.1)</td>\n      <td>6.1 (Dominant - 51.4)</td>\n      <td>4994.1 (3988.6 - 5999.7)</td>\n      <td>-93.8 (-1525.1 - 1337.6)</td>\n      <td>-1.7 (Dominant - 63.5)</td>\n    </tr>\n    <tr>\n      <th>4</th>\n      <td>DP month</td>\n      <td>675.8 (634.6 - 717.0)</td>\n      <td>261.0 (198.6 - 323.5)</td>\n      <td>4604.5 (4089.5 - 5119.4)</td>\n      <td>2992.0 (2274.9 - 3709.1)</td>\n      <td>11.5 (8.1 - 16.2)</td>\n      <td>7428.8 (6581.2 - 8276.4)</td>\n      <td>2434.7 (1119.5 - 3749.8)</td>\n      <td>9.3 (4.2 - 15.6)</td>\n    </tr>\n  </tbody>\n</table>\n</div>"
     },
     "execution_count": 33,
     "metadata": {},
     "output_type": "execute_result"
    }
   ],
   "source": [
    "df_single = df[(df[\"archetype\"] == \"Central\") & (df[\"transmission_level\"] == 0.3)]\n",
    "df_single = df_single[df_single[\"scenario_number\"].isin([0, 6, 7, 8, 9])]\n",
    "df_table = generate_league_table_PRETTY(df_single)\n",
    "df_table"
   ],
   "metadata": {
    "collapsed": false,
    "ExecuteTime": {
     "end_time": "2024-10-18T18:03:37.020318Z",
     "start_time": "2024-10-18T18:03:36.468077Z"
    }
   },
   "id": "6b117aac7a9249bf",
   "execution_count": 33
  },
  {
   "cell_type": "markdown",
   "source": [
    "## 40% pfpr"
   ],
   "metadata": {
    "collapsed": false
   },
   "id": "5271671fc8dba329"
  },
  {
   "cell_type": "code",
   "outputs": [
    {
     "name": "stderr",
     "output_type": "stream",
     "text": [
      "C:\\Users\\joshsu\\AppData\\Local\\Temp\\ipykernel_35472\\559688894.py:40: SettingWithCopyWarning: \n",
      "A value is trying to be set on a copy of a slice from a DataFrame\n",
      "\n",
      "See the caveats in the documentation: https://pandas.pydata.org/pandas-docs/stable/user_guide/indexing.html#returning-a-view-versus-a-copy\n",
      "  df_table[\"icer_low\"].iloc[i] = np.percentile(icers, 2.5)\n",
      "C:\\Users\\joshsu\\AppData\\Local\\Temp\\ipykernel_35472\\559688894.py:41: SettingWithCopyWarning: \n",
      "A value is trying to be set on a copy of a slice from a DataFrame\n",
      "\n",
      "See the caveats in the documentation: https://pandas.pydata.org/pandas-docs/stable/user_guide/indexing.html#returning-a-view-versus-a-copy\n",
      "  df_table[\"icer_high\"].iloc[i] = np.percentile(icers, 97.5)\n",
      "C:\\Users\\joshsu\\AppData\\Local\\Temp\\ipykernel_35472\\559688894.py:48: SettingWithCopyWarning: \n",
      "A value is trying to be set on a copy of a slice from a DataFrame\n",
      "\n",
      "See the caveats in the documentation: https://pandas.pydata.org/pandas-docs/stable/user_guide/indexing.html#returning-a-view-versus-a-copy\n",
      "  df_table[\"icer_IPTsc_low\"].iloc[i] = np.percentile(icers, 2.5)\n",
      "C:\\Users\\joshsu\\AppData\\Local\\Temp\\ipykernel_35472\\559688894.py:49: SettingWithCopyWarning: \n",
      "A value is trying to be set on a copy of a slice from a DataFrame\n",
      "\n",
      "See the caveats in the documentation: https://pandas.pydata.org/pandas-docs/stable/user_guide/indexing.html#returning-a-view-versus-a-copy\n",
      "  df_table[\"icer_IPTsc_high\"].iloc[i] = np.percentile(icers, 97.5)\n"
     ]
    },
    {
     "data": {
      "text/plain": "     Scenario                     Cases Incremental Cases Averted  \\\n0    No IPTsc  1432.0 (1399.1 - 1464.9)           nan (nan - nan)   \n1   ASAQ term  1335.8 (1302.5 - 1369.1)       96.1 (49.4 - 142.9)   \n2     DP term  1048.8 (1013.9 - 1083.7)     287.1 (238.8 - 335.3)   \n3  ASAQ month    996.7 (963.2 - 1030.2)        52.1 (3.7 - 100.5)   \n4    DP month     793.2 (757.3 - 829.1)     203.4 (154.4 - 252.5)   \n\n  Cost (Funder Perspective) Incremental Cost (Funder Perspective)  \\\n0           0.0 (0.0 - 0.0)                       nan (nan - nan)   \n1     460.1 (335.0 - 585.2)                 460.1 (335.0 - 585.2)   \n2  1283.6 (1153.9 - 1413.2)                823.5 (643.3 - 1003.6)   \n3  1612.2 (1113.1 - 2111.4)                328.6 (-187.1 - 844.4)   \n4  4607.2 (4091.5 - 5123.0)              2995.0 (2277.2 - 3712.7)   \n\n  ICER (Funder Perspective) Cost (Health System Perspective)  \\\n0           nan (nan - nan)         5479.9 (3893.4 - 7066.4)   \n1           4.8 (2.9 - 9.6)         5660.1 (4165.7 - 7154.6)   \n2           2.9 (2.1 - 3.8)         5764.4 (4513.8 - 7015.0)   \n3     6.3 (Dominant - 42.3)         5726.2 (4503.9 - 6948.6)   \n4        14.7 (10.4 - 20.9)         8213.0 (7140.2 - 9285.8)   \n\n  Incremental Cost (Health System Perspective)  \\\n0                              nan (nan - nan)   \n1                     180.2 (-1999.3 - 2359.7)   \n2                     104.3 (-1844.4 - 2053.0)   \n3                     -38.2 (-1786.9 - 1710.6)   \n4                      2486.8 (860.4 - 4113.1)   \n\n  ICER (Health System Perspective)  \n0                  nan (nan - nan)  \n1            1.9 (Dominant - 28.6)  \n2             0.4 (Dominant - 7.2)  \n3           -0.7 (Dominant - 64.3)  \n4                12.2 (4.1 - 21.8)  ",
      "text/html": "<div>\n<style scoped>\n    .dataframe tbody tr th:only-of-type {\n        vertical-align: middle;\n    }\n\n    .dataframe tbody tr th {\n        vertical-align: top;\n    }\n\n    .dataframe thead th {\n        text-align: right;\n    }\n</style>\n<table border=\"1\" class=\"dataframe\">\n  <thead>\n    <tr style=\"text-align: right;\">\n      <th></th>\n      <th>Scenario</th>\n      <th>Cases</th>\n      <th>Incremental Cases Averted</th>\n      <th>Cost (Funder Perspective)</th>\n      <th>Incremental Cost (Funder Perspective)</th>\n      <th>ICER (Funder Perspective)</th>\n      <th>Cost (Health System Perspective)</th>\n      <th>Incremental Cost (Health System Perspective)</th>\n      <th>ICER (Health System Perspective)</th>\n    </tr>\n  </thead>\n  <tbody>\n    <tr>\n      <th>0</th>\n      <td>No IPTsc</td>\n      <td>1432.0 (1399.1 - 1464.9)</td>\n      <td>nan (nan - nan)</td>\n      <td>0.0 (0.0 - 0.0)</td>\n      <td>nan (nan - nan)</td>\n      <td>nan (nan - nan)</td>\n      <td>5479.9 (3893.4 - 7066.4)</td>\n      <td>nan (nan - nan)</td>\n      <td>nan (nan - nan)</td>\n    </tr>\n    <tr>\n      <th>1</th>\n      <td>ASAQ term</td>\n      <td>1335.8 (1302.5 - 1369.1)</td>\n      <td>96.1 (49.4 - 142.9)</td>\n      <td>460.1 (335.0 - 585.2)</td>\n      <td>460.1 (335.0 - 585.2)</td>\n      <td>4.8 (2.9 - 9.6)</td>\n      <td>5660.1 (4165.7 - 7154.6)</td>\n      <td>180.2 (-1999.3 - 2359.7)</td>\n      <td>1.9 (Dominant - 28.6)</td>\n    </tr>\n    <tr>\n      <th>2</th>\n      <td>DP term</td>\n      <td>1048.8 (1013.9 - 1083.7)</td>\n      <td>287.1 (238.8 - 335.3)</td>\n      <td>1283.6 (1153.9 - 1413.2)</td>\n      <td>823.5 (643.3 - 1003.6)</td>\n      <td>2.9 (2.1 - 3.8)</td>\n      <td>5764.4 (4513.8 - 7015.0)</td>\n      <td>104.3 (-1844.4 - 2053.0)</td>\n      <td>0.4 (Dominant - 7.2)</td>\n    </tr>\n    <tr>\n      <th>3</th>\n      <td>ASAQ month</td>\n      <td>996.7 (963.2 - 1030.2)</td>\n      <td>52.1 (3.7 - 100.5)</td>\n      <td>1612.2 (1113.1 - 2111.4)</td>\n      <td>328.6 (-187.1 - 844.4)</td>\n      <td>6.3 (Dominant - 42.3)</td>\n      <td>5726.2 (4503.9 - 6948.6)</td>\n      <td>-38.2 (-1786.9 - 1710.6)</td>\n      <td>-0.7 (Dominant - 64.3)</td>\n    </tr>\n    <tr>\n      <th>4</th>\n      <td>DP month</td>\n      <td>793.2 (757.3 - 829.1)</td>\n      <td>203.4 (154.4 - 252.5)</td>\n      <td>4607.2 (4091.5 - 5123.0)</td>\n      <td>2995.0 (2277.2 - 3712.7)</td>\n      <td>14.7 (10.4 - 20.9)</td>\n      <td>8213.0 (7140.2 - 9285.8)</td>\n      <td>2486.8 (860.4 - 4113.1)</td>\n      <td>12.2 (4.1 - 21.8)</td>\n    </tr>\n  </tbody>\n</table>\n</div>"
     },
     "execution_count": 34,
     "metadata": {},
     "output_type": "execute_result"
    }
   ],
   "source": [
    "df_single = df[(df[\"archetype\"] == \"Central\") & (df[\"transmission_level\"] == 0.4)]\n",
    "df_single = df_single[df_single[\"scenario_number\"].isin([0, 6, 7, 8, 9])]\n",
    "df_table = generate_league_table_PRETTY(df_single)\n",
    "df_table.to_csv(\"league_tables/league_table_central_pfpr40_all.csv\", index=False)\n",
    "df_table"
   ],
   "metadata": {
    "collapsed": false,
    "ExecuteTime": {
     "end_time": "2024-10-18T18:03:37.556057Z",
     "start_time": "2024-10-18T18:03:37.033276Z"
    }
   },
   "id": "c099bcc1d630e60e",
   "execution_count": 34
  },
  {
   "cell_type": "code",
   "outputs": [
    {
     "name": "stderr",
     "output_type": "stream",
     "text": [
      "C:\\Users\\joshsu\\AppData\\Local\\Temp\\ipykernel_35472\\559688894.py:40: SettingWithCopyWarning: \n",
      "A value is trying to be set on a copy of a slice from a DataFrame\n",
      "\n",
      "See the caveats in the documentation: https://pandas.pydata.org/pandas-docs/stable/user_guide/indexing.html#returning-a-view-versus-a-copy\n",
      "  df_table[\"icer_low\"].iloc[i] = np.percentile(icers, 2.5)\n",
      "C:\\Users\\joshsu\\AppData\\Local\\Temp\\ipykernel_35472\\559688894.py:41: SettingWithCopyWarning: \n",
      "A value is trying to be set on a copy of a slice from a DataFrame\n",
      "\n",
      "See the caveats in the documentation: https://pandas.pydata.org/pandas-docs/stable/user_guide/indexing.html#returning-a-view-versus-a-copy\n",
      "  df_table[\"icer_high\"].iloc[i] = np.percentile(icers, 97.5)\n",
      "C:\\Users\\joshsu\\AppData\\Local\\Temp\\ipykernel_35472\\559688894.py:48: SettingWithCopyWarning: \n",
      "A value is trying to be set on a copy of a slice from a DataFrame\n",
      "\n",
      "See the caveats in the documentation: https://pandas.pydata.org/pandas-docs/stable/user_guide/indexing.html#returning-a-view-versus-a-copy\n",
      "  df_table[\"icer_IPTsc_low\"].iloc[i] = np.percentile(icers, 2.5)\n",
      "C:\\Users\\joshsu\\AppData\\Local\\Temp\\ipykernel_35472\\559688894.py:49: SettingWithCopyWarning: \n",
      "A value is trying to be set on a copy of a slice from a DataFrame\n",
      "\n",
      "See the caveats in the documentation: https://pandas.pydata.org/pandas-docs/stable/user_guide/indexing.html#returning-a-view-versus-a-copy\n",
      "  df_table[\"icer_IPTsc_high\"].iloc[i] = np.percentile(icers, 97.5)\n"
     ]
    },
    {
     "data": {
      "text/plain": "     Scenario                     Cases Incremental Cases Averted  \\\n0    No IPTsc  1432.0 (1399.1 - 1464.9)           nan (nan - nan)   \n1  ASAQ month    996.7 (963.2 - 1030.2)     435.3 (388.4 - 482.2)   \n2    DP month     793.2 (757.3 - 829.1)     203.4 (154.4 - 252.5)   \n\n  Cost (Funder Perspective) Incremental Cost (Funder Perspective)  \\\n0           0.0 (0.0 - 0.0)                       nan (nan - nan)   \n1  1612.2 (1113.1 - 2111.4)              1612.2 (1113.1 - 2111.4)   \n2  4607.2 (4091.5 - 5123.0)              2995.0 (2277.2 - 3712.7)   \n\n  ICER (Funder Perspective) Cost (Health System Perspective)  \\\n0           nan (nan - nan)         5479.9 (3893.4 - 7066.4)   \n1           3.7 (2.5 - 5.0)         5726.2 (4503.9 - 6948.6)   \n2        14.7 (10.4 - 20.9)         8213.0 (7140.2 - 9285.8)   \n\n  Incremental Cost (Health System Perspective)  \\\n0                              nan (nan - nan)   \n1                     246.3 (-1756.4 - 2249.1)   \n2                      2486.8 (860.4 - 4113.1)   \n\n  ICER (Health System Perspective)  \n0                  nan (nan - nan)  \n1             0.6 (Dominant - 5.2)  \n2                12.2 (4.1 - 21.8)  ",
      "text/html": "<div>\n<style scoped>\n    .dataframe tbody tr th:only-of-type {\n        vertical-align: middle;\n    }\n\n    .dataframe tbody tr th {\n        vertical-align: top;\n    }\n\n    .dataframe thead th {\n        text-align: right;\n    }\n</style>\n<table border=\"1\" class=\"dataframe\">\n  <thead>\n    <tr style=\"text-align: right;\">\n      <th></th>\n      <th>Scenario</th>\n      <th>Cases</th>\n      <th>Incremental Cases Averted</th>\n      <th>Cost (Funder Perspective)</th>\n      <th>Incremental Cost (Funder Perspective)</th>\n      <th>ICER (Funder Perspective)</th>\n      <th>Cost (Health System Perspective)</th>\n      <th>Incremental Cost (Health System Perspective)</th>\n      <th>ICER (Health System Perspective)</th>\n    </tr>\n  </thead>\n  <tbody>\n    <tr>\n      <th>0</th>\n      <td>No IPTsc</td>\n      <td>1432.0 (1399.1 - 1464.9)</td>\n      <td>nan (nan - nan)</td>\n      <td>0.0 (0.0 - 0.0)</td>\n      <td>nan (nan - nan)</td>\n      <td>nan (nan - nan)</td>\n      <td>5479.9 (3893.4 - 7066.4)</td>\n      <td>nan (nan - nan)</td>\n      <td>nan (nan - nan)</td>\n    </tr>\n    <tr>\n      <th>1</th>\n      <td>ASAQ month</td>\n      <td>996.7 (963.2 - 1030.2)</td>\n      <td>435.3 (388.4 - 482.2)</td>\n      <td>1612.2 (1113.1 - 2111.4)</td>\n      <td>1612.2 (1113.1 - 2111.4)</td>\n      <td>3.7 (2.5 - 5.0)</td>\n      <td>5726.2 (4503.9 - 6948.6)</td>\n      <td>246.3 (-1756.4 - 2249.1)</td>\n      <td>0.6 (Dominant - 5.2)</td>\n    </tr>\n    <tr>\n      <th>2</th>\n      <td>DP month</td>\n      <td>793.2 (757.3 - 829.1)</td>\n      <td>203.4 (154.4 - 252.5)</td>\n      <td>4607.2 (4091.5 - 5123.0)</td>\n      <td>2995.0 (2277.2 - 3712.7)</td>\n      <td>14.7 (10.4 - 20.9)</td>\n      <td>8213.0 (7140.2 - 9285.8)</td>\n      <td>2486.8 (860.4 - 4113.1)</td>\n      <td>12.2 (4.1 - 21.8)</td>\n    </tr>\n  </tbody>\n</table>\n</div>"
     },
     "execution_count": 35,
     "metadata": {},
     "output_type": "execute_result"
    }
   ],
   "source": [
    "df_single = df[(df[\"archetype\"] == \"Central\") & (df[\"transmission_level\"] == 0.4)]\n",
    "df_single = df_single[df_single[\"scenario_number\"].isin([0, 7, 9])]\n",
    "df_table = generate_league_table_PRETTY(df_single)\n",
    "df_table.to_csv(\"league_tables/league_table_central_pfpr40_reduced.csv\", index=False)\n",
    "df_table"
   ],
   "metadata": {
    "collapsed": false,
    "ExecuteTime": {
     "end_time": "2024-10-18T18:03:37.727868Z",
     "start_time": "2024-10-18T18:03:37.560059Z"
    }
   },
   "id": "45689a12806ccf6b",
   "execution_count": 35
  },
  {
   "cell_type": "markdown",
   "source": [
    "# All league tables for Sahel"
   ],
   "metadata": {
    "collapsed": false
   },
   "id": "32fac0de028c40de"
  },
  {
   "cell_type": "code",
   "outputs": [
    {
     "data": {
      "text/plain": "    scenario_number    comments\n4                 0    No IPTsc\n19                7  ASAQ month\n29                9    DP month",
      "text/html": "<div>\n<style scoped>\n    .dataframe tbody tr th:only-of-type {\n        vertical-align: middle;\n    }\n\n    .dataframe tbody tr th {\n        vertical-align: top;\n    }\n\n    .dataframe thead th {\n        text-align: right;\n    }\n</style>\n<table border=\"1\" class=\"dataframe\">\n  <thead>\n    <tr style=\"text-align: right;\">\n      <th></th>\n      <th>scenario_number</th>\n      <th>comments</th>\n    </tr>\n  </thead>\n  <tbody>\n    <tr>\n      <th>4</th>\n      <td>0</td>\n      <td>No IPTsc</td>\n    </tr>\n    <tr>\n      <th>19</th>\n      <td>7</td>\n      <td>ASAQ month</td>\n    </tr>\n    <tr>\n      <th>29</th>\n      <td>9</td>\n      <td>DP month</td>\n    </tr>\n  </tbody>\n</table>\n</div>"
     },
     "execution_count": 36,
     "metadata": {},
     "output_type": "execute_result"
    }
   ],
   "source": [
    "df_single[[\"scenario_number\", \"comments\"]]"
   ],
   "metadata": {
    "collapsed": false,
    "ExecuteTime": {
     "end_time": "2024-10-18T18:03:37.759736Z",
     "start_time": "2024-10-18T18:03:37.731731Z"
    }
   },
   "id": "497a99902db5c051",
   "execution_count": 36
  },
  {
   "cell_type": "markdown",
   "source": [
    "## 5% pfpr"
   ],
   "metadata": {
    "collapsed": false
   },
   "id": "5cb75b856535b88f"
  },
  {
   "cell_type": "code",
   "outputs": [
    {
     "name": "stderr",
     "output_type": "stream",
     "text": [
      "C:\\Users\\joshsu\\AppData\\Local\\Temp\\ipykernel_35472\\559688894.py:40: SettingWithCopyWarning: \n",
      "A value is trying to be set on a copy of a slice from a DataFrame\n",
      "\n",
      "See the caveats in the documentation: https://pandas.pydata.org/pandas-docs/stable/user_guide/indexing.html#returning-a-view-versus-a-copy\n",
      "  df_table[\"icer_low\"].iloc[i] = np.percentile(icers, 2.5)\n",
      "C:\\Users\\joshsu\\AppData\\Local\\Temp\\ipykernel_35472\\559688894.py:41: SettingWithCopyWarning: \n",
      "A value is trying to be set on a copy of a slice from a DataFrame\n",
      "\n",
      "See the caveats in the documentation: https://pandas.pydata.org/pandas-docs/stable/user_guide/indexing.html#returning-a-view-versus-a-copy\n",
      "  df_table[\"icer_high\"].iloc[i] = np.percentile(icers, 97.5)\n",
      "C:\\Users\\joshsu\\AppData\\Local\\Temp\\ipykernel_35472\\559688894.py:48: SettingWithCopyWarning: \n",
      "A value is trying to be set on a copy of a slice from a DataFrame\n",
      "\n",
      "See the caveats in the documentation: https://pandas.pydata.org/pandas-docs/stable/user_guide/indexing.html#returning-a-view-versus-a-copy\n",
      "  df_table[\"icer_IPTsc_low\"].iloc[i] = np.percentile(icers, 2.5)\n",
      "C:\\Users\\joshsu\\AppData\\Local\\Temp\\ipykernel_35472\\559688894.py:49: SettingWithCopyWarning: \n",
      "A value is trying to be set on a copy of a slice from a DataFrame\n",
      "\n",
      "See the caveats in the documentation: https://pandas.pydata.org/pandas-docs/stable/user_guide/indexing.html#returning-a-view-versus-a-copy\n",
      "  df_table[\"icer_IPTsc_high\"].iloc[i] = np.percentile(icers, 97.5)\n"
     ]
    },
    {
     "data": {
      "text/plain": "         Scenario                  Cases Incremental Cases Averted  \\\n0        No IPTsc  534.5 (433.2 - 635.8)           nan (nan - nan)   \n1  u10 SMC - SPAQ  445.3 (350.2 - 540.4)      89.2 (-49.7 - 228.1)   \n2       SPAQ term  434.0 (334.2 - 533.8)     11.3 (-126.5 - 149.0)   \n3    u10 SMC - DP  399.5 (308.4 - 490.6)     34.5 (-100.5 - 169.5)   \n4  u15 SMC - SPAQ  380.0 (277.9 - 482.1)     19.6 (-117.3 - 156.4)   \n5         DP term  292.7 (174.1 - 411.3)      87.3 (-69.3 - 243.9)   \n6      SPAQ month  280.2 (160.4 - 400.0)     12.5 (-156.2 - 181.1)   \n7    u15 SMC - DP  275.3 (184.6 - 366.0)      4.9 (-145.3 - 155.2)   \n8        DP month   184.9 (41.4 - 328.4)      90.4 (-79.3 - 260.1)   \n\n  Cost (Funder Perspective) Incremental Cost (Funder Perspective)  \\\n0           0.0 (0.0 - 0.0)                       nan (nan - nan)   \n1     508.8 (216.2 - 801.5)                 508.8 (216.2 - 801.5)   \n2     387.9 (262.1 - 513.6)               -121.0 (-439.5 - 197.5)   \n3   1147.0 (852.5 - 1441.5)                759.1 (438.9 - 1079.3)   \n4    897.9 (381.7 - 1414.1)               -249.0 (-843.3 - 345.3)   \n5  1296.9 (1166.2 - 1427.5)                398.9 (-133.5 - 931.4)   \n6   1122.7 (708.6 - 1536.7)               -174.2 (-608.4 - 260.0)   \n7  2017.7 (1501.0 - 2534.4)                895.1 (232.9 - 1557.2)   \n8  3858.6 (3428.5 - 4288.7)              1840.9 (1168.6 - 2513.2)   \n\n  ICER (Funder Perspective) Cost (Health System Perspective)  \\\n0           nan (nan - nan)         2813.7 (2270.3 - 3357.1)   \n1     5.7 (Dominant - 55.8)         3134.2 (2569.5 - 3699.0)   \n2   -10.7 (Dominant - 36.5)         2971.0 (2475.7 - 3466.4)   \n3   22.0 (Dominant - 159.8)         3688.1 (3139.6 - 4236.6)   \n4   -12.7 (Dominant - 68.6)         3386.0 (2699.6 - 4072.4)   \n5     4.6 (Dominant - 50.8)         3564.3 (3137.9 - 3990.7)   \n6   -14.0 (Dominant - 41.7)         3374.6 (2794.3 - 3955.0)   \n7  180.9 (Dominant - 184.6)         4321.8 (3671.4 - 4972.2)   \n8   20.4 (Dominant - 222.8)         5900.2 (5326.5 - 6473.8)   \n\n  Incremental Cost (Health System Perspective)  \\\n0                              nan (nan - nan)   \n1                      320.5 (-463.2 - 1104.2)   \n2                      -163.2 (-914.4 - 588.0)   \n3                       717.1 (-22.0 - 1456.2)   \n4                     -302.1 (-1180.8 - 576.6)   \n5                       178.3 (-629.8 - 986.4)   \n6                      -189.7 (-909.9 - 530.5)   \n7                        947.2 (75.4 - 1818.9)   \n8                      1578.4 (711.1 - 2445.6)   \n\n  ICER (Health System Perspective)  \n0                  nan (nan - nan)  \n1            3.6 (Dominant - 46.7)  \n2          -14.5 (Dominant - 71.3)  \n3          20.8 (Dominant - 146.0)  \n4          -15.4 (Dominant - 94.1)  \n5            2.0 (Dominant - 41.0)  \n6          -15.2 (Dominant - 61.0)  \n7         191.4 (Dominant - 195.9)  \n8          17.5 (Dominant - 181.0)  ",
      "text/html": "<div>\n<style scoped>\n    .dataframe tbody tr th:only-of-type {\n        vertical-align: middle;\n    }\n\n    .dataframe tbody tr th {\n        vertical-align: top;\n    }\n\n    .dataframe thead th {\n        text-align: right;\n    }\n</style>\n<table border=\"1\" class=\"dataframe\">\n  <thead>\n    <tr style=\"text-align: right;\">\n      <th></th>\n      <th>Scenario</th>\n      <th>Cases</th>\n      <th>Incremental Cases Averted</th>\n      <th>Cost (Funder Perspective)</th>\n      <th>Incremental Cost (Funder Perspective)</th>\n      <th>ICER (Funder Perspective)</th>\n      <th>Cost (Health System Perspective)</th>\n      <th>Incremental Cost (Health System Perspective)</th>\n      <th>ICER (Health System Perspective)</th>\n    </tr>\n  </thead>\n  <tbody>\n    <tr>\n      <th>0</th>\n      <td>No IPTsc</td>\n      <td>534.5 (433.2 - 635.8)</td>\n      <td>nan (nan - nan)</td>\n      <td>0.0 (0.0 - 0.0)</td>\n      <td>nan (nan - nan)</td>\n      <td>nan (nan - nan)</td>\n      <td>2813.7 (2270.3 - 3357.1)</td>\n      <td>nan (nan - nan)</td>\n      <td>nan (nan - nan)</td>\n    </tr>\n    <tr>\n      <th>1</th>\n      <td>u10 SMC - SPAQ</td>\n      <td>445.3 (350.2 - 540.4)</td>\n      <td>89.2 (-49.7 - 228.1)</td>\n      <td>508.8 (216.2 - 801.5)</td>\n      <td>508.8 (216.2 - 801.5)</td>\n      <td>5.7 (Dominant - 55.8)</td>\n      <td>3134.2 (2569.5 - 3699.0)</td>\n      <td>320.5 (-463.2 - 1104.2)</td>\n      <td>3.6 (Dominant - 46.7)</td>\n    </tr>\n    <tr>\n      <th>2</th>\n      <td>SPAQ term</td>\n      <td>434.0 (334.2 - 533.8)</td>\n      <td>11.3 (-126.5 - 149.0)</td>\n      <td>387.9 (262.1 - 513.6)</td>\n      <td>-121.0 (-439.5 - 197.5)</td>\n      <td>-10.7 (Dominant - 36.5)</td>\n      <td>2971.0 (2475.7 - 3466.4)</td>\n      <td>-163.2 (-914.4 - 588.0)</td>\n      <td>-14.5 (Dominant - 71.3)</td>\n    </tr>\n    <tr>\n      <th>3</th>\n      <td>u10 SMC - DP</td>\n      <td>399.5 (308.4 - 490.6)</td>\n      <td>34.5 (-100.5 - 169.5)</td>\n      <td>1147.0 (852.5 - 1441.5)</td>\n      <td>759.1 (438.9 - 1079.3)</td>\n      <td>22.0 (Dominant - 159.8)</td>\n      <td>3688.1 (3139.6 - 4236.6)</td>\n      <td>717.1 (-22.0 - 1456.2)</td>\n      <td>20.8 (Dominant - 146.0)</td>\n    </tr>\n    <tr>\n      <th>4</th>\n      <td>u15 SMC - SPAQ</td>\n      <td>380.0 (277.9 - 482.1)</td>\n      <td>19.6 (-117.3 - 156.4)</td>\n      <td>897.9 (381.7 - 1414.1)</td>\n      <td>-249.0 (-843.3 - 345.3)</td>\n      <td>-12.7 (Dominant - 68.6)</td>\n      <td>3386.0 (2699.6 - 4072.4)</td>\n      <td>-302.1 (-1180.8 - 576.6)</td>\n      <td>-15.4 (Dominant - 94.1)</td>\n    </tr>\n    <tr>\n      <th>5</th>\n      <td>DP term</td>\n      <td>292.7 (174.1 - 411.3)</td>\n      <td>87.3 (-69.3 - 243.9)</td>\n      <td>1296.9 (1166.2 - 1427.5)</td>\n      <td>398.9 (-133.5 - 931.4)</td>\n      <td>4.6 (Dominant - 50.8)</td>\n      <td>3564.3 (3137.9 - 3990.7)</td>\n      <td>178.3 (-629.8 - 986.4)</td>\n      <td>2.0 (Dominant - 41.0)</td>\n    </tr>\n    <tr>\n      <th>6</th>\n      <td>SPAQ month</td>\n      <td>280.2 (160.4 - 400.0)</td>\n      <td>12.5 (-156.2 - 181.1)</td>\n      <td>1122.7 (708.6 - 1536.7)</td>\n      <td>-174.2 (-608.4 - 260.0)</td>\n      <td>-14.0 (Dominant - 41.7)</td>\n      <td>3374.6 (2794.3 - 3955.0)</td>\n      <td>-189.7 (-909.9 - 530.5)</td>\n      <td>-15.2 (Dominant - 61.0)</td>\n    </tr>\n    <tr>\n      <th>7</th>\n      <td>u15 SMC - DP</td>\n      <td>275.3 (184.6 - 366.0)</td>\n      <td>4.9 (-145.3 - 155.2)</td>\n      <td>2017.7 (1501.0 - 2534.4)</td>\n      <td>895.1 (232.9 - 1557.2)</td>\n      <td>180.9 (Dominant - 184.6)</td>\n      <td>4321.8 (3671.4 - 4972.2)</td>\n      <td>947.2 (75.4 - 1818.9)</td>\n      <td>191.4 (Dominant - 195.9)</td>\n    </tr>\n    <tr>\n      <th>8</th>\n      <td>DP month</td>\n      <td>184.9 (41.4 - 328.4)</td>\n      <td>90.4 (-79.3 - 260.1)</td>\n      <td>3858.6 (3428.5 - 4288.7)</td>\n      <td>1840.9 (1168.6 - 2513.2)</td>\n      <td>20.4 (Dominant - 222.8)</td>\n      <td>5900.2 (5326.5 - 6473.8)</td>\n      <td>1578.4 (711.1 - 2445.6)</td>\n      <td>17.5 (Dominant - 181.0)</td>\n    </tr>\n  </tbody>\n</table>\n</div>"
     },
     "execution_count": 37,
     "metadata": {},
     "output_type": "execute_result"
    }
   ],
   "source": [
    "df_single = df[(df[\"archetype\"] == \"Sahel\") & (df[\"transmission_level\"] == 0.05)]\n",
    "df_single = df_single[df_single[\"scenario_number\"].isin([0, 6, 7, 8, 9, 30, 31, 32, 33])]\n",
    "df_table = generate_league_table_PRETTY(df_single)\n",
    "df_table.to_csv(\"league_tables/league_table_sahel_pfpr05_all.csv\", index=False)\n",
    "df_table"
   ],
   "metadata": {
    "collapsed": false,
    "ExecuteTime": {
     "end_time": "2024-10-18T18:03:38.162480Z",
     "start_time": "2024-10-18T18:03:37.762724Z"
    }
   },
   "id": "3106e6b6ee6245f1",
   "execution_count": 37
  },
  {
   "cell_type": "code",
   "outputs": [
    {
     "name": "stderr",
     "output_type": "stream",
     "text": [
      "C:\\Users\\joshsu\\AppData\\Local\\Temp\\ipykernel_35472\\559688894.py:40: SettingWithCopyWarning: \n",
      "A value is trying to be set on a copy of a slice from a DataFrame\n",
      "\n",
      "See the caveats in the documentation: https://pandas.pydata.org/pandas-docs/stable/user_guide/indexing.html#returning-a-view-versus-a-copy\n",
      "  df_table[\"icer_low\"].iloc[i] = np.percentile(icers, 2.5)\n",
      "C:\\Users\\joshsu\\AppData\\Local\\Temp\\ipykernel_35472\\559688894.py:41: SettingWithCopyWarning: \n",
      "A value is trying to be set on a copy of a slice from a DataFrame\n",
      "\n",
      "See the caveats in the documentation: https://pandas.pydata.org/pandas-docs/stable/user_guide/indexing.html#returning-a-view-versus-a-copy\n",
      "  df_table[\"icer_high\"].iloc[i] = np.percentile(icers, 97.5)\n",
      "C:\\Users\\joshsu\\AppData\\Local\\Temp\\ipykernel_35472\\559688894.py:48: SettingWithCopyWarning: \n",
      "A value is trying to be set on a copy of a slice from a DataFrame\n",
      "\n",
      "See the caveats in the documentation: https://pandas.pydata.org/pandas-docs/stable/user_guide/indexing.html#returning-a-view-versus-a-copy\n",
      "  df_table[\"icer_IPTsc_low\"].iloc[i] = np.percentile(icers, 2.5)\n",
      "C:\\Users\\joshsu\\AppData\\Local\\Temp\\ipykernel_35472\\559688894.py:49: SettingWithCopyWarning: \n",
      "A value is trying to be set on a copy of a slice from a DataFrame\n",
      "\n",
      "See the caveats in the documentation: https://pandas.pydata.org/pandas-docs/stable/user_guide/indexing.html#returning-a-view-versus-a-copy\n",
      "  df_table[\"icer_IPTsc_high\"].iloc[i] = np.percentile(icers, 97.5)\n"
     ]
    },
    {
     "data": {
      "text/plain": "         Scenario                  Cases Incremental Cases Averted  \\\n0        No IPTsc  534.5 (433.2 - 635.8)           nan (nan - nan)   \n1       SPAQ term  434.0 (334.2 - 533.8)     100.5 (-41.6 - 242.6)   \n2  u15 SMC - SPAQ  380.0 (277.9 - 482.1)      54.1 (-88.7 - 196.8)   \n3      SPAQ month  280.2 (160.4 - 400.0)      99.8 (-57.7 - 257.2)   \n4    u15 SMC - DP  275.3 (184.6 - 366.0)      4.9 (-145.3 - 155.2)   \n5        DP month   184.9 (41.4 - 328.4)      90.4 (-79.3 - 260.1)   \n\n  Cost (Funder Perspective) Incremental Cost (Funder Perspective)  \\\n0           0.0 (0.0 - 0.0)                       nan (nan - nan)   \n1     387.9 (262.1 - 513.6)                 387.9 (262.1 - 513.6)   \n2    897.9 (381.7 - 1414.1)                510.1 (-21.2 - 1041.4)   \n3   1122.7 (708.6 - 1536.7)                224.7 (-437.0 - 886.5)   \n4  2017.7 (1501.0 - 2534.4)                895.1 (232.9 - 1557.2)   \n5  3858.6 (3428.5 - 4288.7)              1840.9 (1168.6 - 2513.2)   \n\n  ICER (Funder Perspective) Cost (Health System Perspective)  \\\n0           nan (nan - nan)         2813.7 (2270.3 - 3357.1)   \n1     3.9 (Dominant - 35.3)         2971.0 (2475.7 - 3466.4)   \n2     9.4 (Dominant - 86.8)         3386.0 (2699.6 - 4072.4)   \n3     2.3 (Dominant - 32.1)         3374.6 (2794.3 - 3955.0)   \n4  180.9 (Dominant - 188.9)         4321.8 (3671.4 - 4972.2)   \n5   20.4 (Dominant - 206.1)         5900.2 (5326.5 - 6473.8)   \n\n  Incremental Cost (Health System Perspective)  \\\n0                              nan (nan - nan)   \n1                       157.3 (-578.0 - 892.6)   \n2                      415.0 (-431.5 - 1261.5)   \n3                       -11.4 (-910.3 - 887.5)   \n4                        947.2 (75.4 - 1818.9)   \n5                      1578.4 (711.1 - 2445.6)   \n\n  ICER (Health System Perspective)  \n0                  nan (nan - nan)  \n1            1.6 (Dominant - 29.5)  \n2            7.7 (Dominant - 83.9)  \n3           -0.1 (Dominant - 33.2)  \n4         191.4 (Dominant - 197.5)  \n5          17.5 (Dominant - 186.5)  ",
      "text/html": "<div>\n<style scoped>\n    .dataframe tbody tr th:only-of-type {\n        vertical-align: middle;\n    }\n\n    .dataframe tbody tr th {\n        vertical-align: top;\n    }\n\n    .dataframe thead th {\n        text-align: right;\n    }\n</style>\n<table border=\"1\" class=\"dataframe\">\n  <thead>\n    <tr style=\"text-align: right;\">\n      <th></th>\n      <th>Scenario</th>\n      <th>Cases</th>\n      <th>Incremental Cases Averted</th>\n      <th>Cost (Funder Perspective)</th>\n      <th>Incremental Cost (Funder Perspective)</th>\n      <th>ICER (Funder Perspective)</th>\n      <th>Cost (Health System Perspective)</th>\n      <th>Incremental Cost (Health System Perspective)</th>\n      <th>ICER (Health System Perspective)</th>\n    </tr>\n  </thead>\n  <tbody>\n    <tr>\n      <th>0</th>\n      <td>No IPTsc</td>\n      <td>534.5 (433.2 - 635.8)</td>\n      <td>nan (nan - nan)</td>\n      <td>0.0 (0.0 - 0.0)</td>\n      <td>nan (nan - nan)</td>\n      <td>nan (nan - nan)</td>\n      <td>2813.7 (2270.3 - 3357.1)</td>\n      <td>nan (nan - nan)</td>\n      <td>nan (nan - nan)</td>\n    </tr>\n    <tr>\n      <th>1</th>\n      <td>SPAQ term</td>\n      <td>434.0 (334.2 - 533.8)</td>\n      <td>100.5 (-41.6 - 242.6)</td>\n      <td>387.9 (262.1 - 513.6)</td>\n      <td>387.9 (262.1 - 513.6)</td>\n      <td>3.9 (Dominant - 35.3)</td>\n      <td>2971.0 (2475.7 - 3466.4)</td>\n      <td>157.3 (-578.0 - 892.6)</td>\n      <td>1.6 (Dominant - 29.5)</td>\n    </tr>\n    <tr>\n      <th>2</th>\n      <td>u15 SMC - SPAQ</td>\n      <td>380.0 (277.9 - 482.1)</td>\n      <td>54.1 (-88.7 - 196.8)</td>\n      <td>897.9 (381.7 - 1414.1)</td>\n      <td>510.1 (-21.2 - 1041.4)</td>\n      <td>9.4 (Dominant - 86.8)</td>\n      <td>3386.0 (2699.6 - 4072.4)</td>\n      <td>415.0 (-431.5 - 1261.5)</td>\n      <td>7.7 (Dominant - 83.9)</td>\n    </tr>\n    <tr>\n      <th>3</th>\n      <td>SPAQ month</td>\n      <td>280.2 (160.4 - 400.0)</td>\n      <td>99.8 (-57.7 - 257.2)</td>\n      <td>1122.7 (708.6 - 1536.7)</td>\n      <td>224.7 (-437.0 - 886.5)</td>\n      <td>2.3 (Dominant - 32.1)</td>\n      <td>3374.6 (2794.3 - 3955.0)</td>\n      <td>-11.4 (-910.3 - 887.5)</td>\n      <td>-0.1 (Dominant - 33.2)</td>\n    </tr>\n    <tr>\n      <th>4</th>\n      <td>u15 SMC - DP</td>\n      <td>275.3 (184.6 - 366.0)</td>\n      <td>4.9 (-145.3 - 155.2)</td>\n      <td>2017.7 (1501.0 - 2534.4)</td>\n      <td>895.1 (232.9 - 1557.2)</td>\n      <td>180.9 (Dominant - 188.9)</td>\n      <td>4321.8 (3671.4 - 4972.2)</td>\n      <td>947.2 (75.4 - 1818.9)</td>\n      <td>191.4 (Dominant - 197.5)</td>\n    </tr>\n    <tr>\n      <th>5</th>\n      <td>DP month</td>\n      <td>184.9 (41.4 - 328.4)</td>\n      <td>90.4 (-79.3 - 260.1)</td>\n      <td>3858.6 (3428.5 - 4288.7)</td>\n      <td>1840.9 (1168.6 - 2513.2)</td>\n      <td>20.4 (Dominant - 206.1)</td>\n      <td>5900.2 (5326.5 - 6473.8)</td>\n      <td>1578.4 (711.1 - 2445.6)</td>\n      <td>17.5 (Dominant - 186.5)</td>\n    </tr>\n  </tbody>\n</table>\n</div>"
     },
     "execution_count": 38,
     "metadata": {},
     "output_type": "execute_result"
    }
   ],
   "source": [
    "df_single = df[(df[\"archetype\"] == \"Sahel\") & (df[\"transmission_level\"] == 0.05)]\n",
    "df_single = df_single[df_single[\"scenario_number\"].isin([0, 6, 7, 9, 31, 33])]\n",
    "df_table = generate_league_table_PRETTY(df_single)\n",
    "df_table"
   ],
   "metadata": {
    "collapsed": false,
    "ExecuteTime": {
     "end_time": "2024-10-18T18:03:38.771495Z",
     "start_time": "2024-10-18T18:03:38.169461Z"
    }
   },
   "id": "64b6b18e23c22f6",
   "execution_count": 38
  },
  {
   "cell_type": "code",
   "outputs": [
    {
     "name": "stderr",
     "output_type": "stream",
     "text": [
      "C:\\Users\\joshsu\\AppData\\Local\\Temp\\ipykernel_35472\\559688894.py:40: SettingWithCopyWarning: \n",
      "A value is trying to be set on a copy of a slice from a DataFrame\n",
      "\n",
      "See the caveats in the documentation: https://pandas.pydata.org/pandas-docs/stable/user_guide/indexing.html#returning-a-view-versus-a-copy\n",
      "  df_table[\"icer_low\"].iloc[i] = np.percentile(icers, 2.5)\n",
      "C:\\Users\\joshsu\\AppData\\Local\\Temp\\ipykernel_35472\\559688894.py:41: SettingWithCopyWarning: \n",
      "A value is trying to be set on a copy of a slice from a DataFrame\n",
      "\n",
      "See the caveats in the documentation: https://pandas.pydata.org/pandas-docs/stable/user_guide/indexing.html#returning-a-view-versus-a-copy\n",
      "  df_table[\"icer_high\"].iloc[i] = np.percentile(icers, 97.5)\n",
      "C:\\Users\\joshsu\\AppData\\Local\\Temp\\ipykernel_35472\\559688894.py:48: SettingWithCopyWarning: \n",
      "A value is trying to be set on a copy of a slice from a DataFrame\n",
      "\n",
      "See the caveats in the documentation: https://pandas.pydata.org/pandas-docs/stable/user_guide/indexing.html#returning-a-view-versus-a-copy\n",
      "  df_table[\"icer_IPTsc_low\"].iloc[i] = np.percentile(icers, 2.5)\n",
      "C:\\Users\\joshsu\\AppData\\Local\\Temp\\ipykernel_35472\\559688894.py:49: SettingWithCopyWarning: \n",
      "A value is trying to be set on a copy of a slice from a DataFrame\n",
      "\n",
      "See the caveats in the documentation: https://pandas.pydata.org/pandas-docs/stable/user_guide/indexing.html#returning-a-view-versus-a-copy\n",
      "  df_table[\"icer_IPTsc_high\"].iloc[i] = np.percentile(icers, 97.5)\n"
     ]
    },
    {
     "data": {
      "text/plain": "         Scenario                  Cases Incremental Cases Averted  \\\n0        No IPTsc  534.5 (433.2 - 635.8)           nan (nan - nan)   \n1       SPAQ term  434.0 (334.2 - 533.8)     100.5 (-41.6 - 242.6)   \n2  u15 SMC - SPAQ  380.0 (277.9 - 482.1)      54.1 (-88.7 - 196.8)   \n3      SPAQ month  280.2 (160.4 - 400.0)      99.8 (-57.7 - 257.2)   \n4    u15 SMC - DP  275.3 (184.6 - 366.0)      4.9 (-145.3 - 155.2)   \n5        DP month   184.9 (41.4 - 328.4)      90.4 (-79.3 - 260.1)   \n\n  Cost (Funder Perspective) Incremental Cost (Funder Perspective)  \\\n0           0.0 (0.0 - 0.0)                       nan (nan - nan)   \n1     387.9 (262.1 - 513.6)                 387.9 (262.1 - 513.6)   \n2    897.9 (381.7 - 1414.1)                510.1 (-21.2 - 1041.4)   \n3   1122.7 (708.6 - 1536.7)                224.7 (-437.0 - 886.5)   \n4  2017.7 (1501.0 - 2534.4)                895.1 (232.9 - 1557.2)   \n5  3858.6 (3428.5 - 4288.7)              1840.9 (1168.6 - 2513.2)   \n\n  ICER (Funder Perspective) Cost (Health System Perspective)  \\\n0           nan (nan - nan)         2813.7 (2270.3 - 3357.1)   \n1     3.9 (Dominant - 35.5)         2971.0 (2475.7 - 3466.4)   \n2     9.4 (Dominant - 89.0)         3386.0 (2699.6 - 4072.4)   \n3     2.3 (Dominant - 33.2)         3374.6 (2794.3 - 3955.0)   \n4  180.9 (Dominant - 184.0)         4321.8 (3671.4 - 4972.2)   \n5   20.4 (Dominant - 202.9)         5900.2 (5326.5 - 6473.8)   \n\n  Incremental Cost (Health System Perspective)  \\\n0                              nan (nan - nan)   \n1                       157.3 (-578.0 - 892.6)   \n2                      415.0 (-431.5 - 1261.5)   \n3                       -11.4 (-910.3 - 887.5)   \n4                        947.2 (75.4 - 1818.9)   \n5                      1578.4 (711.1 - 2445.6)   \n\n  ICER (Health System Perspective)  \n0                  nan (nan - nan)  \n1            1.6 (Dominant - 30.9)  \n2            7.7 (Dominant - 85.2)  \n3           -0.1 (Dominant - 33.9)  \n4         191.4 (Dominant - 197.7)  \n5          17.5 (Dominant - 178.6)  ",
      "text/html": "<div>\n<style scoped>\n    .dataframe tbody tr th:only-of-type {\n        vertical-align: middle;\n    }\n\n    .dataframe tbody tr th {\n        vertical-align: top;\n    }\n\n    .dataframe thead th {\n        text-align: right;\n    }\n</style>\n<table border=\"1\" class=\"dataframe\">\n  <thead>\n    <tr style=\"text-align: right;\">\n      <th></th>\n      <th>Scenario</th>\n      <th>Cases</th>\n      <th>Incremental Cases Averted</th>\n      <th>Cost (Funder Perspective)</th>\n      <th>Incremental Cost (Funder Perspective)</th>\n      <th>ICER (Funder Perspective)</th>\n      <th>Cost (Health System Perspective)</th>\n      <th>Incremental Cost (Health System Perspective)</th>\n      <th>ICER (Health System Perspective)</th>\n    </tr>\n  </thead>\n  <tbody>\n    <tr>\n      <th>0</th>\n      <td>No IPTsc</td>\n      <td>534.5 (433.2 - 635.8)</td>\n      <td>nan (nan - nan)</td>\n      <td>0.0 (0.0 - 0.0)</td>\n      <td>nan (nan - nan)</td>\n      <td>nan (nan - nan)</td>\n      <td>2813.7 (2270.3 - 3357.1)</td>\n      <td>nan (nan - nan)</td>\n      <td>nan (nan - nan)</td>\n    </tr>\n    <tr>\n      <th>1</th>\n      <td>SPAQ term</td>\n      <td>434.0 (334.2 - 533.8)</td>\n      <td>100.5 (-41.6 - 242.6)</td>\n      <td>387.9 (262.1 - 513.6)</td>\n      <td>387.9 (262.1 - 513.6)</td>\n      <td>3.9 (Dominant - 35.5)</td>\n      <td>2971.0 (2475.7 - 3466.4)</td>\n      <td>157.3 (-578.0 - 892.6)</td>\n      <td>1.6 (Dominant - 30.9)</td>\n    </tr>\n    <tr>\n      <th>2</th>\n      <td>u15 SMC - SPAQ</td>\n      <td>380.0 (277.9 - 482.1)</td>\n      <td>54.1 (-88.7 - 196.8)</td>\n      <td>897.9 (381.7 - 1414.1)</td>\n      <td>510.1 (-21.2 - 1041.4)</td>\n      <td>9.4 (Dominant - 89.0)</td>\n      <td>3386.0 (2699.6 - 4072.4)</td>\n      <td>415.0 (-431.5 - 1261.5)</td>\n      <td>7.7 (Dominant - 85.2)</td>\n    </tr>\n    <tr>\n      <th>3</th>\n      <td>SPAQ month</td>\n      <td>280.2 (160.4 - 400.0)</td>\n      <td>99.8 (-57.7 - 257.2)</td>\n      <td>1122.7 (708.6 - 1536.7)</td>\n      <td>224.7 (-437.0 - 886.5)</td>\n      <td>2.3 (Dominant - 33.2)</td>\n      <td>3374.6 (2794.3 - 3955.0)</td>\n      <td>-11.4 (-910.3 - 887.5)</td>\n      <td>-0.1 (Dominant - 33.9)</td>\n    </tr>\n    <tr>\n      <th>4</th>\n      <td>u15 SMC - DP</td>\n      <td>275.3 (184.6 - 366.0)</td>\n      <td>4.9 (-145.3 - 155.2)</td>\n      <td>2017.7 (1501.0 - 2534.4)</td>\n      <td>895.1 (232.9 - 1557.2)</td>\n      <td>180.9 (Dominant - 184.0)</td>\n      <td>4321.8 (3671.4 - 4972.2)</td>\n      <td>947.2 (75.4 - 1818.9)</td>\n      <td>191.4 (Dominant - 197.7)</td>\n    </tr>\n    <tr>\n      <th>5</th>\n      <td>DP month</td>\n      <td>184.9 (41.4 - 328.4)</td>\n      <td>90.4 (-79.3 - 260.1)</td>\n      <td>3858.6 (3428.5 - 4288.7)</td>\n      <td>1840.9 (1168.6 - 2513.2)</td>\n      <td>20.4 (Dominant - 202.9)</td>\n      <td>5900.2 (5326.5 - 6473.8)</td>\n      <td>1578.4 (711.1 - 2445.6)</td>\n      <td>17.5 (Dominant - 178.6)</td>\n    </tr>\n  </tbody>\n</table>\n</div>"
     },
     "execution_count": 39,
     "metadata": {},
     "output_type": "execute_result"
    }
   ],
   "source": [
    "df_single = df[(df[\"archetype\"] == \"Sahel\") & (df[\"transmission_level\"] == 0.05)]\n",
    "df_single = df_single[df_single[\"scenario_number\"].isin([0, 6, 7, 9, 31, 33])]\n",
    "df_table = generate_league_table_PRETTY(df_single)\n",
    "df_table"
   ],
   "metadata": {
    "collapsed": false,
    "ExecuteTime": {
     "end_time": "2024-10-18T18:03:39.551298Z",
     "start_time": "2024-10-18T18:03:38.776508Z"
    }
   },
   "id": "60bd6a05a1995a1c",
   "execution_count": 39
  },
  {
   "cell_type": "code",
   "outputs": [
    {
     "name": "stderr",
     "output_type": "stream",
     "text": [
      "C:\\Users\\joshsu\\AppData\\Local\\Temp\\ipykernel_35472\\559688894.py:40: SettingWithCopyWarning: \n",
      "A value is trying to be set on a copy of a slice from a DataFrame\n",
      "\n",
      "See the caveats in the documentation: https://pandas.pydata.org/pandas-docs/stable/user_guide/indexing.html#returning-a-view-versus-a-copy\n",
      "  df_table[\"icer_low\"].iloc[i] = np.percentile(icers, 2.5)\n",
      "C:\\Users\\joshsu\\AppData\\Local\\Temp\\ipykernel_35472\\559688894.py:41: SettingWithCopyWarning: \n",
      "A value is trying to be set on a copy of a slice from a DataFrame\n",
      "\n",
      "See the caveats in the documentation: https://pandas.pydata.org/pandas-docs/stable/user_guide/indexing.html#returning-a-view-versus-a-copy\n",
      "  df_table[\"icer_high\"].iloc[i] = np.percentile(icers, 97.5)\n",
      "C:\\Users\\joshsu\\AppData\\Local\\Temp\\ipykernel_35472\\559688894.py:48: SettingWithCopyWarning: \n",
      "A value is trying to be set on a copy of a slice from a DataFrame\n",
      "\n",
      "See the caveats in the documentation: https://pandas.pydata.org/pandas-docs/stable/user_guide/indexing.html#returning-a-view-versus-a-copy\n",
      "  df_table[\"icer_IPTsc_low\"].iloc[i] = np.percentile(icers, 2.5)\n",
      "C:\\Users\\joshsu\\AppData\\Local\\Temp\\ipykernel_35472\\559688894.py:49: SettingWithCopyWarning: \n",
      "A value is trying to be set on a copy of a slice from a DataFrame\n",
      "\n",
      "See the caveats in the documentation: https://pandas.pydata.org/pandas-docs/stable/user_guide/indexing.html#returning-a-view-versus-a-copy\n",
      "  df_table[\"icer_IPTsc_high\"].iloc[i] = np.percentile(icers, 97.5)\n"
     ]
    },
    {
     "data": {
      "text/plain": "       Scenario                  Cases Incremental Cases Averted  \\\n0      No IPTsc  534.5 (433.2 - 635.8)           nan (nan - nan)   \n1     SPAQ term  434.0 (334.2 - 533.8)     100.5 (-41.6 - 242.6)   \n2    SPAQ month  280.2 (160.4 - 400.0)      153.8 (-2.0 - 309.7)   \n3  u15 SMC - DP  275.3 (184.6 - 366.0)      4.9 (-145.3 - 155.2)   \n4      DP month   184.9 (41.4 - 328.4)      90.4 (-79.3 - 260.1)   \n\n  Cost (Funder Perspective) Incremental Cost (Funder Perspective)  \\\n0           0.0 (0.0 - 0.0)                       nan (nan - nan)   \n1     387.9 (262.1 - 513.6)                 387.9 (262.1 - 513.6)   \n2   1122.7 (708.6 - 1536.7)                734.8 (302.1 - 1167.5)   \n3  2017.7 (1501.0 - 2534.4)                895.1 (232.9 - 1557.2)   \n4  3858.6 (3428.5 - 4288.7)              1840.9 (1168.6 - 2513.2)   \n\n  ICER (Funder Perspective) Cost (Health System Perspective)  \\\n0           nan (nan - nan)         2813.7 (2270.3 - 3357.1)   \n1     3.9 (Dominant - 36.7)         2971.0 (2475.7 - 3466.4)   \n2     4.8 (Dominant - 31.5)         3374.6 (2794.3 - 3955.0)   \n3  180.9 (Dominant - 181.8)         4321.8 (3671.4 - 4972.2)   \n4   20.4 (Dominant - 206.7)         5900.2 (5326.5 - 6473.8)   \n\n  Incremental Cost (Health System Perspective)  \\\n0                              nan (nan - nan)   \n1                       157.3 (-578.0 - 892.6)   \n2                      403.6 (-359.4 - 1166.6)   \n3                        947.2 (75.4 - 1818.9)   \n4                      1578.4 (711.1 - 2445.6)   \n\n  ICER (Health System Perspective)  \n0                  nan (nan - nan)  \n1            1.6 (Dominant - 29.5)  \n2            2.6 (Dominant - 21.0)  \n3         191.4 (Dominant - 202.0)  \n4          17.5 (Dominant - 182.5)  ",
      "text/html": "<div>\n<style scoped>\n    .dataframe tbody tr th:only-of-type {\n        vertical-align: middle;\n    }\n\n    .dataframe tbody tr th {\n        vertical-align: top;\n    }\n\n    .dataframe thead th {\n        text-align: right;\n    }\n</style>\n<table border=\"1\" class=\"dataframe\">\n  <thead>\n    <tr style=\"text-align: right;\">\n      <th></th>\n      <th>Scenario</th>\n      <th>Cases</th>\n      <th>Incremental Cases Averted</th>\n      <th>Cost (Funder Perspective)</th>\n      <th>Incremental Cost (Funder Perspective)</th>\n      <th>ICER (Funder Perspective)</th>\n      <th>Cost (Health System Perspective)</th>\n      <th>Incremental Cost (Health System Perspective)</th>\n      <th>ICER (Health System Perspective)</th>\n    </tr>\n  </thead>\n  <tbody>\n    <tr>\n      <th>0</th>\n      <td>No IPTsc</td>\n      <td>534.5 (433.2 - 635.8)</td>\n      <td>nan (nan - nan)</td>\n      <td>0.0 (0.0 - 0.0)</td>\n      <td>nan (nan - nan)</td>\n      <td>nan (nan - nan)</td>\n      <td>2813.7 (2270.3 - 3357.1)</td>\n      <td>nan (nan - nan)</td>\n      <td>nan (nan - nan)</td>\n    </tr>\n    <tr>\n      <th>1</th>\n      <td>SPAQ term</td>\n      <td>434.0 (334.2 - 533.8)</td>\n      <td>100.5 (-41.6 - 242.6)</td>\n      <td>387.9 (262.1 - 513.6)</td>\n      <td>387.9 (262.1 - 513.6)</td>\n      <td>3.9 (Dominant - 36.7)</td>\n      <td>2971.0 (2475.7 - 3466.4)</td>\n      <td>157.3 (-578.0 - 892.6)</td>\n      <td>1.6 (Dominant - 29.5)</td>\n    </tr>\n    <tr>\n      <th>2</th>\n      <td>SPAQ month</td>\n      <td>280.2 (160.4 - 400.0)</td>\n      <td>153.8 (-2.0 - 309.7)</td>\n      <td>1122.7 (708.6 - 1536.7)</td>\n      <td>734.8 (302.1 - 1167.5)</td>\n      <td>4.8 (Dominant - 31.5)</td>\n      <td>3374.6 (2794.3 - 3955.0)</td>\n      <td>403.6 (-359.4 - 1166.6)</td>\n      <td>2.6 (Dominant - 21.0)</td>\n    </tr>\n    <tr>\n      <th>3</th>\n      <td>u15 SMC - DP</td>\n      <td>275.3 (184.6 - 366.0)</td>\n      <td>4.9 (-145.3 - 155.2)</td>\n      <td>2017.7 (1501.0 - 2534.4)</td>\n      <td>895.1 (232.9 - 1557.2)</td>\n      <td>180.9 (Dominant - 181.8)</td>\n      <td>4321.8 (3671.4 - 4972.2)</td>\n      <td>947.2 (75.4 - 1818.9)</td>\n      <td>191.4 (Dominant - 202.0)</td>\n    </tr>\n    <tr>\n      <th>4</th>\n      <td>DP month</td>\n      <td>184.9 (41.4 - 328.4)</td>\n      <td>90.4 (-79.3 - 260.1)</td>\n      <td>3858.6 (3428.5 - 4288.7)</td>\n      <td>1840.9 (1168.6 - 2513.2)</td>\n      <td>20.4 (Dominant - 206.7)</td>\n      <td>5900.2 (5326.5 - 6473.8)</td>\n      <td>1578.4 (711.1 - 2445.6)</td>\n      <td>17.5 (Dominant - 182.5)</td>\n    </tr>\n  </tbody>\n</table>\n</div>"
     },
     "execution_count": 40,
     "metadata": {},
     "output_type": "execute_result"
    }
   ],
   "source": [
    "df_single = df[(df[\"archetype\"] == \"Sahel\") & (df[\"transmission_level\"] == 0.05)]\n",
    "df_single = df_single[df_single[\"scenario_number\"].isin([0, 6, 7, 9, 33])]\n",
    "df_table = generate_league_table_PRETTY(df_single)\n",
    "df_table"
   ],
   "metadata": {
    "collapsed": false,
    "ExecuteTime": {
     "end_time": "2024-10-18T18:03:43.556532Z",
     "start_time": "2024-10-18T18:03:42.911311Z"
    }
   },
   "id": "5a42dbf91ca12724",
   "execution_count": 40
  },
  {
   "cell_type": "code",
   "outputs": [
    {
     "name": "stderr",
     "output_type": "stream",
     "text": [
      "C:\\Users\\joshsu\\AppData\\Local\\Temp\\ipykernel_35472\\559688894.py:40: SettingWithCopyWarning: \n",
      "A value is trying to be set on a copy of a slice from a DataFrame\n",
      "\n",
      "See the caveats in the documentation: https://pandas.pydata.org/pandas-docs/stable/user_guide/indexing.html#returning-a-view-versus-a-copy\n",
      "  df_table[\"icer_low\"].iloc[i] = np.percentile(icers, 2.5)\n",
      "C:\\Users\\joshsu\\AppData\\Local\\Temp\\ipykernel_35472\\559688894.py:41: SettingWithCopyWarning: \n",
      "A value is trying to be set on a copy of a slice from a DataFrame\n",
      "\n",
      "See the caveats in the documentation: https://pandas.pydata.org/pandas-docs/stable/user_guide/indexing.html#returning-a-view-versus-a-copy\n",
      "  df_table[\"icer_high\"].iloc[i] = np.percentile(icers, 97.5)\n",
      "C:\\Users\\joshsu\\AppData\\Local\\Temp\\ipykernel_35472\\559688894.py:48: SettingWithCopyWarning: \n",
      "A value is trying to be set on a copy of a slice from a DataFrame\n",
      "\n",
      "See the caveats in the documentation: https://pandas.pydata.org/pandas-docs/stable/user_guide/indexing.html#returning-a-view-versus-a-copy\n",
      "  df_table[\"icer_IPTsc_low\"].iloc[i] = np.percentile(icers, 2.5)\n",
      "C:\\Users\\joshsu\\AppData\\Local\\Temp\\ipykernel_35472\\559688894.py:49: SettingWithCopyWarning: \n",
      "A value is trying to be set on a copy of a slice from a DataFrame\n",
      "\n",
      "See the caveats in the documentation: https://pandas.pydata.org/pandas-docs/stable/user_guide/indexing.html#returning-a-view-versus-a-copy\n",
      "  df_table[\"icer_IPTsc_high\"].iloc[i] = np.percentile(icers, 97.5)\n"
     ]
    },
    {
     "data": {
      "text/plain": "     Scenario                  Cases Incremental Cases Averted  \\\n0    No IPTsc  534.5 (433.2 - 635.8)           nan (nan - nan)   \n1   SPAQ term  434.0 (334.2 - 533.8)     100.5 (-41.6 - 242.6)   \n2  SPAQ month  280.2 (160.4 - 400.0)      153.8 (-2.0 - 309.7)   \n3    DP month   184.9 (41.4 - 328.4)      95.3 (-91.5 - 282.2)   \n\n  Cost (Funder Perspective) Incremental Cost (Funder Perspective)  \\\n0           0.0 (0.0 - 0.0)                       nan (nan - nan)   \n1     387.9 (262.1 - 513.6)                 387.9 (262.1 - 513.6)   \n2   1122.7 (708.6 - 1536.7)                734.8 (302.1 - 1167.5)   \n3  3858.6 (3428.5 - 4288.7)              2735.9 (2138.9 - 3332.9)   \n\n  ICER (Funder Perspective) Cost (Health System Perspective)  \\\n0           nan (nan - nan)         2813.7 (2270.3 - 3357.1)   \n1     3.9 (Dominant - 35.8)         2971.0 (2475.7 - 3466.4)   \n2     4.8 (Dominant - 30.3)         3374.6 (2794.3 - 3955.0)   \n3   28.7 (Dominant - 294.5)         5900.2 (5326.5 - 6473.8)   \n\n  Incremental Cost (Health System Perspective)  \\\n0                              nan (nan - nan)   \n1                       157.3 (-578.0 - 892.6)   \n2                      403.6 (-359.4 - 1166.6)   \n3                     2525.5 (1709.5 - 3341.6)   \n\n  ICER (Health System Perspective)  \n0                  nan (nan - nan)  \n1            1.6 (Dominant - 29.7)  \n2            2.6 (Dominant - 20.9)  \n3          26.5 (Dominant - 264.5)  ",
      "text/html": "<div>\n<style scoped>\n    .dataframe tbody tr th:only-of-type {\n        vertical-align: middle;\n    }\n\n    .dataframe tbody tr th {\n        vertical-align: top;\n    }\n\n    .dataframe thead th {\n        text-align: right;\n    }\n</style>\n<table border=\"1\" class=\"dataframe\">\n  <thead>\n    <tr style=\"text-align: right;\">\n      <th></th>\n      <th>Scenario</th>\n      <th>Cases</th>\n      <th>Incremental Cases Averted</th>\n      <th>Cost (Funder Perspective)</th>\n      <th>Incremental Cost (Funder Perspective)</th>\n      <th>ICER (Funder Perspective)</th>\n      <th>Cost (Health System Perspective)</th>\n      <th>Incremental Cost (Health System Perspective)</th>\n      <th>ICER (Health System Perspective)</th>\n    </tr>\n  </thead>\n  <tbody>\n    <tr>\n      <th>0</th>\n      <td>No IPTsc</td>\n      <td>534.5 (433.2 - 635.8)</td>\n      <td>nan (nan - nan)</td>\n      <td>0.0 (0.0 - 0.0)</td>\n      <td>nan (nan - nan)</td>\n      <td>nan (nan - nan)</td>\n      <td>2813.7 (2270.3 - 3357.1)</td>\n      <td>nan (nan - nan)</td>\n      <td>nan (nan - nan)</td>\n    </tr>\n    <tr>\n      <th>1</th>\n      <td>SPAQ term</td>\n      <td>434.0 (334.2 - 533.8)</td>\n      <td>100.5 (-41.6 - 242.6)</td>\n      <td>387.9 (262.1 - 513.6)</td>\n      <td>387.9 (262.1 - 513.6)</td>\n      <td>3.9 (Dominant - 35.8)</td>\n      <td>2971.0 (2475.7 - 3466.4)</td>\n      <td>157.3 (-578.0 - 892.6)</td>\n      <td>1.6 (Dominant - 29.7)</td>\n    </tr>\n    <tr>\n      <th>2</th>\n      <td>SPAQ month</td>\n      <td>280.2 (160.4 - 400.0)</td>\n      <td>153.8 (-2.0 - 309.7)</td>\n      <td>1122.7 (708.6 - 1536.7)</td>\n      <td>734.8 (302.1 - 1167.5)</td>\n      <td>4.8 (Dominant - 30.3)</td>\n      <td>3374.6 (2794.3 - 3955.0)</td>\n      <td>403.6 (-359.4 - 1166.6)</td>\n      <td>2.6 (Dominant - 20.9)</td>\n    </tr>\n    <tr>\n      <th>3</th>\n      <td>DP month</td>\n      <td>184.9 (41.4 - 328.4)</td>\n      <td>95.3 (-91.5 - 282.2)</td>\n      <td>3858.6 (3428.5 - 4288.7)</td>\n      <td>2735.9 (2138.9 - 3332.9)</td>\n      <td>28.7 (Dominant - 294.5)</td>\n      <td>5900.2 (5326.5 - 6473.8)</td>\n      <td>2525.5 (1709.5 - 3341.6)</td>\n      <td>26.5 (Dominant - 264.5)</td>\n    </tr>\n  </tbody>\n</table>\n</div>"
     },
     "execution_count": 41,
     "metadata": {},
     "output_type": "execute_result"
    }
   ],
   "source": [
    "df_single = df[(df[\"archetype\"] == \"Sahel\") & (df[\"transmission_level\"] == 0.05)]\n",
    "df_single = df_single[df_single[\"scenario_number\"].isin([0, 6, 7, 9])]\n",
    "df_table = generate_league_table_PRETTY(df_single)\n",
    "df_table.to_csv(\"league_tables/league_table_sahel_pfpr05_reduced.csv\", index=False)\n",
    "df_table"
   ],
   "metadata": {
    "collapsed": false,
    "ExecuteTime": {
     "end_time": "2024-10-18T18:03:49.965207Z",
     "start_time": "2024-10-18T18:03:49.735190Z"
    }
   },
   "id": "4faaf37e06d8bfc5",
   "execution_count": 41
  },
  {
   "cell_type": "markdown",
   "source": [
    "## 10% pfpr"
   ],
   "metadata": {
    "collapsed": false
   },
   "id": "65b4ef9a18fd219f"
  },
  {
   "cell_type": "code",
   "outputs": [
    {
     "name": "stderr",
     "output_type": "stream",
     "text": [
      "C:\\Users\\joshsu\\AppData\\Local\\Temp\\ipykernel_35472\\559688894.py:40: SettingWithCopyWarning: \n",
      "A value is trying to be set on a copy of a slice from a DataFrame\n",
      "\n",
      "See the caveats in the documentation: https://pandas.pydata.org/pandas-docs/stable/user_guide/indexing.html#returning-a-view-versus-a-copy\n",
      "  df_table[\"icer_low\"].iloc[i] = np.percentile(icers, 2.5)\n",
      "C:\\Users\\joshsu\\AppData\\Local\\Temp\\ipykernel_35472\\559688894.py:41: SettingWithCopyWarning: \n",
      "A value is trying to be set on a copy of a slice from a DataFrame\n",
      "\n",
      "See the caveats in the documentation: https://pandas.pydata.org/pandas-docs/stable/user_guide/indexing.html#returning-a-view-versus-a-copy\n",
      "  df_table[\"icer_high\"].iloc[i] = np.percentile(icers, 97.5)\n",
      "C:\\Users\\joshsu\\AppData\\Local\\Temp\\ipykernel_35472\\559688894.py:48: SettingWithCopyWarning: \n",
      "A value is trying to be set on a copy of a slice from a DataFrame\n",
      "\n",
      "See the caveats in the documentation: https://pandas.pydata.org/pandas-docs/stable/user_guide/indexing.html#returning-a-view-versus-a-copy\n",
      "  df_table[\"icer_IPTsc_low\"].iloc[i] = np.percentile(icers, 2.5)\n",
      "C:\\Users\\joshsu\\AppData\\Local\\Temp\\ipykernel_35472\\559688894.py:49: SettingWithCopyWarning: \n",
      "A value is trying to be set on a copy of a slice from a DataFrame\n",
      "\n",
      "See the caveats in the documentation: https://pandas.pydata.org/pandas-docs/stable/user_guide/indexing.html#returning-a-view-versus-a-copy\n",
      "  df_table[\"icer_IPTsc_high\"].iloc[i] = np.percentile(icers, 97.5)\n"
     ]
    },
    {
     "data": {
      "text/plain": "         Scenario                  Cases Incremental Cases Averted  \\\n0        No IPTsc  740.1 (676.4 - 803.8)           nan (nan - nan)   \n1  u10 SMC - SPAQ  642.5 (577.2 - 707.8)        97.6 (6.4 - 188.9)   \n2       SPAQ term  626.8 (561.3 - 692.3)      15.7 (-76.7 - 108.1)   \n3    u10 SMC - DP  588.0 (526.1 - 649.9)      38.8 (-51.2 - 128.9)   \n4  u15 SMC - SPAQ  543.5 (482.2 - 604.8)      44.5 (-42.6 - 131.6)   \n5         DP term  452.0 (364.4 - 539.6)      91.5 (-15.5 - 198.4)   \n6      SPAQ month  412.3 (307.6 - 517.0)      39.7 (-96.8 - 176.3)   \n7    u15 SMC - DP  402.6 (334.6 - 470.6)      9.7 (-115.2 - 134.5)   \n8        DP month  289.8 (189.3 - 390.3)      112.8 (-8.5 - 234.2)   \n\n  Cost (Funder Perspective) Incremental Cost (Funder Perspective)  \\\n0           0.0 (0.0 - 0.0)                       nan (nan - nan)   \n1     469.9 (199.9 - 739.9)                 469.9 (199.9 - 739.9)   \n2     383.0 (258.6 - 507.5)                -86.9 (-384.2 - 210.4)   \n3   1056.4 (785.3 - 1327.4)                 673.3 (375.1 - 971.6)   \n4    861.7 (366.6 - 1356.8)               -194.7 (-759.1 - 369.8)   \n5  1281.9 (1151.8 - 1412.0)                 420.2 (-91.7 - 932.2)   \n6   1107.0 (698.9 - 1515.0)               -175.0 (-603.2 - 253.3)   \n7  1938.5 (1442.0 - 2435.0)                831.5 (188.9 - 1474.1)   \n8  3797.6 (3375.8 - 4219.4)              1859.2 (1207.7 - 2510.6)   \n\n  ICER (Funder Perspective) Cost (Health System Perspective)  \\\n0           nan (nan - nan)         3434.1 (2710.8 - 4157.5)   \n1          4.8 (1.1 - 27.5)         3669.4 (2967.4 - 4371.3)   \n2    -5.5 (Dominant - 44.0)         3513.2 (2873.3 - 4153.1)   \n3   17.3 (Dominant - 171.7)         4146.9 (3474.3 - 4819.6)   \n4    -4.4 (Dominant - 56.2)         3832.5 (3071.9 - 4593.2)   \n5     4.6 (Dominant - 37.3)         3963.8 (3448.4 - 4479.3)   \n6    -4.4 (Dominant - 42.6)         3741.2 (3099.1 - 4383.3)   \n7   85.9 (Dominant - 206.1)         4645.7 (3941.4 - 5349.9)   \n8   16.5 (Dominant - 114.7)         6124.8 (5539.7 - 6710.0)   \n\n  Incremental Cost (Health System Perspective)  \\\n0                              nan (nan - nan)   \n1                      235.2 (-772.7 - 1243.2)   \n2                     -156.1 (-1106.0 - 793.7)   \n3                      633.7 (-294.7 - 1562.2)   \n4                     -314.4 (-1329.8 - 701.0)   \n5                      131.3 (-787.5 - 1050.2)   \n6                     -222.7 (-1046.1 - 600.7)   \n7                       904.5 (-48.5 - 1857.5)   \n8                      1479.2 (563.6 - 2394.8)   \n\n  ICER (Health System Perspective)  \n0                  nan (nan - nan)  \n1            2.4 (Dominant - 27.0)  \n2          -9.9 (Dominant - 129.6)  \n3          16.3 (Dominant - 165.7)  \n4           -7.1 (Dominant - 98.1)  \n5            1.4 (Dominant - 33.3)  \n6           -5.6 (Dominant - 70.6)  \n7          93.5 (Dominant - 229.8)  \n8           13.1 (Dominant - 95.8)  ",
      "text/html": "<div>\n<style scoped>\n    .dataframe tbody tr th:only-of-type {\n        vertical-align: middle;\n    }\n\n    .dataframe tbody tr th {\n        vertical-align: top;\n    }\n\n    .dataframe thead th {\n        text-align: right;\n    }\n</style>\n<table border=\"1\" class=\"dataframe\">\n  <thead>\n    <tr style=\"text-align: right;\">\n      <th></th>\n      <th>Scenario</th>\n      <th>Cases</th>\n      <th>Incremental Cases Averted</th>\n      <th>Cost (Funder Perspective)</th>\n      <th>Incremental Cost (Funder Perspective)</th>\n      <th>ICER (Funder Perspective)</th>\n      <th>Cost (Health System Perspective)</th>\n      <th>Incremental Cost (Health System Perspective)</th>\n      <th>ICER (Health System Perspective)</th>\n    </tr>\n  </thead>\n  <tbody>\n    <tr>\n      <th>0</th>\n      <td>No IPTsc</td>\n      <td>740.1 (676.4 - 803.8)</td>\n      <td>nan (nan - nan)</td>\n      <td>0.0 (0.0 - 0.0)</td>\n      <td>nan (nan - nan)</td>\n      <td>nan (nan - nan)</td>\n      <td>3434.1 (2710.8 - 4157.5)</td>\n      <td>nan (nan - nan)</td>\n      <td>nan (nan - nan)</td>\n    </tr>\n    <tr>\n      <th>1</th>\n      <td>u10 SMC - SPAQ</td>\n      <td>642.5 (577.2 - 707.8)</td>\n      <td>97.6 (6.4 - 188.9)</td>\n      <td>469.9 (199.9 - 739.9)</td>\n      <td>469.9 (199.9 - 739.9)</td>\n      <td>4.8 (1.1 - 27.5)</td>\n      <td>3669.4 (2967.4 - 4371.3)</td>\n      <td>235.2 (-772.7 - 1243.2)</td>\n      <td>2.4 (Dominant - 27.0)</td>\n    </tr>\n    <tr>\n      <th>2</th>\n      <td>SPAQ term</td>\n      <td>626.8 (561.3 - 692.3)</td>\n      <td>15.7 (-76.7 - 108.1)</td>\n      <td>383.0 (258.6 - 507.5)</td>\n      <td>-86.9 (-384.2 - 210.4)</td>\n      <td>-5.5 (Dominant - 44.0)</td>\n      <td>3513.2 (2873.3 - 4153.1)</td>\n      <td>-156.1 (-1106.0 - 793.7)</td>\n      <td>-9.9 (Dominant - 129.6)</td>\n    </tr>\n    <tr>\n      <th>3</th>\n      <td>u10 SMC - DP</td>\n      <td>588.0 (526.1 - 649.9)</td>\n      <td>38.8 (-51.2 - 128.9)</td>\n      <td>1056.4 (785.3 - 1327.4)</td>\n      <td>673.3 (375.1 - 971.6)</td>\n      <td>17.3 (Dominant - 171.7)</td>\n      <td>4146.9 (3474.3 - 4819.6)</td>\n      <td>633.7 (-294.7 - 1562.2)</td>\n      <td>16.3 (Dominant - 165.7)</td>\n    </tr>\n    <tr>\n      <th>4</th>\n      <td>u15 SMC - SPAQ</td>\n      <td>543.5 (482.2 - 604.8)</td>\n      <td>44.5 (-42.6 - 131.6)</td>\n      <td>861.7 (366.6 - 1356.8)</td>\n      <td>-194.7 (-759.1 - 369.8)</td>\n      <td>-4.4 (Dominant - 56.2)</td>\n      <td>3832.5 (3071.9 - 4593.2)</td>\n      <td>-314.4 (-1329.8 - 701.0)</td>\n      <td>-7.1 (Dominant - 98.1)</td>\n    </tr>\n    <tr>\n      <th>5</th>\n      <td>DP term</td>\n      <td>452.0 (364.4 - 539.6)</td>\n      <td>91.5 (-15.5 - 198.4)</td>\n      <td>1281.9 (1151.8 - 1412.0)</td>\n      <td>420.2 (-91.7 - 932.2)</td>\n      <td>4.6 (Dominant - 37.3)</td>\n      <td>3963.8 (3448.4 - 4479.3)</td>\n      <td>131.3 (-787.5 - 1050.2)</td>\n      <td>1.4 (Dominant - 33.3)</td>\n    </tr>\n    <tr>\n      <th>6</th>\n      <td>SPAQ month</td>\n      <td>412.3 (307.6 - 517.0)</td>\n      <td>39.7 (-96.8 - 176.3)</td>\n      <td>1107.0 (698.9 - 1515.0)</td>\n      <td>-175.0 (-603.2 - 253.3)</td>\n      <td>-4.4 (Dominant - 42.6)</td>\n      <td>3741.2 (3099.1 - 4383.3)</td>\n      <td>-222.7 (-1046.1 - 600.7)</td>\n      <td>-5.6 (Dominant - 70.6)</td>\n    </tr>\n    <tr>\n      <th>7</th>\n      <td>u15 SMC - DP</td>\n      <td>402.6 (334.6 - 470.6)</td>\n      <td>9.7 (-115.2 - 134.5)</td>\n      <td>1938.5 (1442.0 - 2435.0)</td>\n      <td>831.5 (188.9 - 1474.1)</td>\n      <td>85.9 (Dominant - 206.1)</td>\n      <td>4645.7 (3941.4 - 5349.9)</td>\n      <td>904.5 (-48.5 - 1857.5)</td>\n      <td>93.5 (Dominant - 229.8)</td>\n    </tr>\n    <tr>\n      <th>8</th>\n      <td>DP month</td>\n      <td>289.8 (189.3 - 390.3)</td>\n      <td>112.8 (-8.5 - 234.2)</td>\n      <td>3797.6 (3375.8 - 4219.4)</td>\n      <td>1859.2 (1207.7 - 2510.6)</td>\n      <td>16.5 (Dominant - 114.7)</td>\n      <td>6124.8 (5539.7 - 6710.0)</td>\n      <td>1479.2 (563.6 - 2394.8)</td>\n      <td>13.1 (Dominant - 95.8)</td>\n    </tr>\n  </tbody>\n</table>\n</div>"
     },
     "execution_count": 42,
     "metadata": {},
     "output_type": "execute_result"
    }
   ],
   "source": [
    "df_single = df[(df[\"archetype\"] == \"Sahel\") & (df[\"transmission_level\"] == 0.1)]\n",
    "df_single = df_single[df_single[\"scenario_number\"].isin([0, 6, 7, 8, 9, 30, 31, 32, 33])]\n",
    "df_table = generate_league_table_PRETTY(df_single)\n",
    "df_table"
   ],
   "metadata": {
    "collapsed": false,
    "ExecuteTime": {
     "end_time": "2024-10-18T18:03:57.163285Z",
     "start_time": "2024-10-18T18:03:56.822084Z"
    }
   },
   "id": "e2b430e64deefc93",
   "execution_count": 42
  },
  {
   "cell_type": "code",
   "outputs": [
    {
     "name": "stderr",
     "output_type": "stream",
     "text": [
      "C:\\Users\\joshsu\\AppData\\Local\\Temp\\ipykernel_35472\\559688894.py:40: SettingWithCopyWarning: \n",
      "A value is trying to be set on a copy of a slice from a DataFrame\n",
      "\n",
      "See the caveats in the documentation: https://pandas.pydata.org/pandas-docs/stable/user_guide/indexing.html#returning-a-view-versus-a-copy\n",
      "  df_table[\"icer_low\"].iloc[i] = np.percentile(icers, 2.5)\n",
      "C:\\Users\\joshsu\\AppData\\Local\\Temp\\ipykernel_35472\\559688894.py:41: SettingWithCopyWarning: \n",
      "A value is trying to be set on a copy of a slice from a DataFrame\n",
      "\n",
      "See the caveats in the documentation: https://pandas.pydata.org/pandas-docs/stable/user_guide/indexing.html#returning-a-view-versus-a-copy\n",
      "  df_table[\"icer_high\"].iloc[i] = np.percentile(icers, 97.5)\n",
      "C:\\Users\\joshsu\\AppData\\Local\\Temp\\ipykernel_35472\\559688894.py:48: SettingWithCopyWarning: \n",
      "A value is trying to be set on a copy of a slice from a DataFrame\n",
      "\n",
      "See the caveats in the documentation: https://pandas.pydata.org/pandas-docs/stable/user_guide/indexing.html#returning-a-view-versus-a-copy\n",
      "  df_table[\"icer_IPTsc_low\"].iloc[i] = np.percentile(icers, 2.5)\n",
      "C:\\Users\\joshsu\\AppData\\Local\\Temp\\ipykernel_35472\\559688894.py:49: SettingWithCopyWarning: \n",
      "A value is trying to be set on a copy of a slice from a DataFrame\n",
      "\n",
      "See the caveats in the documentation: https://pandas.pydata.org/pandas-docs/stable/user_guide/indexing.html#returning-a-view-versus-a-copy\n",
      "  df_table[\"icer_IPTsc_high\"].iloc[i] = np.percentile(icers, 97.5)\n"
     ]
    },
    {
     "data": {
      "text/plain": "         Scenario                  Cases Incremental Cases Averted  \\\n0        No IPTsc  740.1 (676.4 - 803.8)           nan (nan - nan)   \n1       SPAQ term  626.8 (561.3 - 692.3)      113.3 (22.0 - 204.6)   \n2  u15 SMC - SPAQ  543.5 (482.2 - 604.8)       83.3 (-6.3 - 173.0)   \n3      SPAQ month  412.3 (307.6 - 517.0)       131.2 (9.8 - 252.6)   \n4    u15 SMC - DP  402.6 (334.6 - 470.6)      9.7 (-115.2 - 134.5)   \n5        DP month  289.8 (189.3 - 390.3)      112.8 (-8.5 - 234.2)   \n\n  Cost (Funder Perspective) Incremental Cost (Funder Perspective)  \\\n0           0.0 (0.0 - 0.0)                       nan (nan - nan)   \n1     383.0 (258.6 - 507.5)                 383.0 (258.6 - 507.5)   \n2    861.7 (366.6 - 1356.8)                 478.7 (-31.8 - 989.2)   \n3   1107.0 (698.9 - 1515.0)                245.3 (-396.3 - 886.8)   \n4  1938.5 (1442.0 - 2435.0)                831.5 (188.9 - 1474.1)   \n5  3797.6 (3375.8 - 4219.4)              1859.2 (1207.7 - 2510.6)   \n\n  ICER (Funder Perspective) Cost (Health System Perspective)  \\\n0           nan (nan - nan)         3434.1 (2710.8 - 4157.5)   \n1          3.4 (1.6 - 14.4)         3513.2 (2873.3 - 4153.1)   \n2     5.7 (Dominant - 43.8)         3832.5 (3071.9 - 4593.2)   \n3     1.9 (Dominant - 15.5)         3741.2 (3099.1 - 4383.3)   \n4   85.9 (Dominant - 207.7)         4645.7 (3941.4 - 5349.9)   \n5   16.5 (Dominant - 117.8)         6124.8 (5539.7 - 6710.0)   \n\n  Incremental Cost (Health System Perspective)  \\\n0                              nan (nan - nan)   \n1                       79.1 (-886.7 - 1044.9)   \n2                      319.3 (-674.7 - 1313.4)   \n3                      -91.4 (-1086.8 - 904.1)   \n4                       904.5 (-48.5 - 1857.5)   \n5                      1479.2 (563.6 - 2394.8)   \n\n  ICER (Health System Perspective)  \n0                  nan (nan - nan)  \n1            0.7 (Dominant - 15.3)  \n2            3.8 (Dominant - 42.1)  \n3           -0.7 (Dominant - 13.2)  \n4          93.5 (Dominant - 220.0)  \n5           13.1 (Dominant - 96.3)  ",
      "text/html": "<div>\n<style scoped>\n    .dataframe tbody tr th:only-of-type {\n        vertical-align: middle;\n    }\n\n    .dataframe tbody tr th {\n        vertical-align: top;\n    }\n\n    .dataframe thead th {\n        text-align: right;\n    }\n</style>\n<table border=\"1\" class=\"dataframe\">\n  <thead>\n    <tr style=\"text-align: right;\">\n      <th></th>\n      <th>Scenario</th>\n      <th>Cases</th>\n      <th>Incremental Cases Averted</th>\n      <th>Cost (Funder Perspective)</th>\n      <th>Incremental Cost (Funder Perspective)</th>\n      <th>ICER (Funder Perspective)</th>\n      <th>Cost (Health System Perspective)</th>\n      <th>Incremental Cost (Health System Perspective)</th>\n      <th>ICER (Health System Perspective)</th>\n    </tr>\n  </thead>\n  <tbody>\n    <tr>\n      <th>0</th>\n      <td>No IPTsc</td>\n      <td>740.1 (676.4 - 803.8)</td>\n      <td>nan (nan - nan)</td>\n      <td>0.0 (0.0 - 0.0)</td>\n      <td>nan (nan - nan)</td>\n      <td>nan (nan - nan)</td>\n      <td>3434.1 (2710.8 - 4157.5)</td>\n      <td>nan (nan - nan)</td>\n      <td>nan (nan - nan)</td>\n    </tr>\n    <tr>\n      <th>1</th>\n      <td>SPAQ term</td>\n      <td>626.8 (561.3 - 692.3)</td>\n      <td>113.3 (22.0 - 204.6)</td>\n      <td>383.0 (258.6 - 507.5)</td>\n      <td>383.0 (258.6 - 507.5)</td>\n      <td>3.4 (1.6 - 14.4)</td>\n      <td>3513.2 (2873.3 - 4153.1)</td>\n      <td>79.1 (-886.7 - 1044.9)</td>\n      <td>0.7 (Dominant - 15.3)</td>\n    </tr>\n    <tr>\n      <th>2</th>\n      <td>u15 SMC - SPAQ</td>\n      <td>543.5 (482.2 - 604.8)</td>\n      <td>83.3 (-6.3 - 173.0)</td>\n      <td>861.7 (366.6 - 1356.8)</td>\n      <td>478.7 (-31.8 - 989.2)</td>\n      <td>5.7 (Dominant - 43.8)</td>\n      <td>3832.5 (3071.9 - 4593.2)</td>\n      <td>319.3 (-674.7 - 1313.4)</td>\n      <td>3.8 (Dominant - 42.1)</td>\n    </tr>\n    <tr>\n      <th>3</th>\n      <td>SPAQ month</td>\n      <td>412.3 (307.6 - 517.0)</td>\n      <td>131.2 (9.8 - 252.6)</td>\n      <td>1107.0 (698.9 - 1515.0)</td>\n      <td>245.3 (-396.3 - 886.8)</td>\n      <td>1.9 (Dominant - 15.5)</td>\n      <td>3741.2 (3099.1 - 4383.3)</td>\n      <td>-91.4 (-1086.8 - 904.1)</td>\n      <td>-0.7 (Dominant - 13.2)</td>\n    </tr>\n    <tr>\n      <th>4</th>\n      <td>u15 SMC - DP</td>\n      <td>402.6 (334.6 - 470.6)</td>\n      <td>9.7 (-115.2 - 134.5)</td>\n      <td>1938.5 (1442.0 - 2435.0)</td>\n      <td>831.5 (188.9 - 1474.1)</td>\n      <td>85.9 (Dominant - 207.7)</td>\n      <td>4645.7 (3941.4 - 5349.9)</td>\n      <td>904.5 (-48.5 - 1857.5)</td>\n      <td>93.5 (Dominant - 220.0)</td>\n    </tr>\n    <tr>\n      <th>5</th>\n      <td>DP month</td>\n      <td>289.8 (189.3 - 390.3)</td>\n      <td>112.8 (-8.5 - 234.2)</td>\n      <td>3797.6 (3375.8 - 4219.4)</td>\n      <td>1859.2 (1207.7 - 2510.6)</td>\n      <td>16.5 (Dominant - 117.8)</td>\n      <td>6124.8 (5539.7 - 6710.0)</td>\n      <td>1479.2 (563.6 - 2394.8)</td>\n      <td>13.1 (Dominant - 96.3)</td>\n    </tr>\n  </tbody>\n</table>\n</div>"
     },
     "execution_count": 43,
     "metadata": {},
     "output_type": "execute_result"
    }
   ],
   "source": [
    "df_single = df[(df[\"archetype\"] == \"Sahel\") & (df[\"transmission_level\"] == 0.1)]\n",
    "df_single = df_single[df_single[\"scenario_number\"].isin([0, 6, 7, 9, 31, 33])]\n",
    "df_table = generate_league_table_PRETTY(df_single)\n",
    "df_table"
   ],
   "metadata": {
    "collapsed": false,
    "ExecuteTime": {
     "end_time": "2024-10-18T18:03:58.898558Z",
     "start_time": "2024-10-18T18:03:58.614517Z"
    }
   },
   "id": "d7ec2774d088376f",
   "execution_count": 43
  },
  {
   "cell_type": "code",
   "outputs": [
    {
     "name": "stderr",
     "output_type": "stream",
     "text": [
      "C:\\Users\\joshsu\\AppData\\Local\\Temp\\ipykernel_35472\\559688894.py:40: SettingWithCopyWarning: \n",
      "A value is trying to be set on a copy of a slice from a DataFrame\n",
      "\n",
      "See the caveats in the documentation: https://pandas.pydata.org/pandas-docs/stable/user_guide/indexing.html#returning-a-view-versus-a-copy\n",
      "  df_table[\"icer_low\"].iloc[i] = np.percentile(icers, 2.5)\n",
      "C:\\Users\\joshsu\\AppData\\Local\\Temp\\ipykernel_35472\\559688894.py:41: SettingWithCopyWarning: \n",
      "A value is trying to be set on a copy of a slice from a DataFrame\n",
      "\n",
      "See the caveats in the documentation: https://pandas.pydata.org/pandas-docs/stable/user_guide/indexing.html#returning-a-view-versus-a-copy\n",
      "  df_table[\"icer_high\"].iloc[i] = np.percentile(icers, 97.5)\n",
      "C:\\Users\\joshsu\\AppData\\Local\\Temp\\ipykernel_35472\\559688894.py:48: SettingWithCopyWarning: \n",
      "A value is trying to be set on a copy of a slice from a DataFrame\n",
      "\n",
      "See the caveats in the documentation: https://pandas.pydata.org/pandas-docs/stable/user_guide/indexing.html#returning-a-view-versus-a-copy\n",
      "  df_table[\"icer_IPTsc_low\"].iloc[i] = np.percentile(icers, 2.5)\n",
      "C:\\Users\\joshsu\\AppData\\Local\\Temp\\ipykernel_35472\\559688894.py:49: SettingWithCopyWarning: \n",
      "A value is trying to be set on a copy of a slice from a DataFrame\n",
      "\n",
      "See the caveats in the documentation: https://pandas.pydata.org/pandas-docs/stable/user_guide/indexing.html#returning-a-view-versus-a-copy\n",
      "  df_table[\"icer_IPTsc_high\"].iloc[i] = np.percentile(icers, 97.5)\n"
     ]
    },
    {
     "data": {
      "text/plain": "     Scenario                  Cases Incremental Cases Averted  \\\n0    No IPTsc  740.1 (676.4 - 803.8)           nan (nan - nan)   \n1   SPAQ term  626.8 (561.3 - 692.3)      113.3 (22.0 - 204.6)   \n2  SPAQ month  412.3 (307.6 - 517.0)      214.5 (91.0 - 338.0)   \n3    DP month  289.8 (189.3 - 390.3)     122.5 (-22.7 - 267.7)   \n\n  Cost (Funder Perspective) Incremental Cost (Funder Perspective)  \\\n0           0.0 (0.0 - 0.0)                       nan (nan - nan)   \n1     383.0 (258.6 - 507.5)                 383.0 (258.6 - 507.5)   \n2   1107.0 (698.9 - 1515.0)                723.9 (297.3 - 1150.5)   \n3  3797.6 (3375.8 - 4219.4)              2690.7 (2103.8 - 3277.5)   \n\n  ICER (Funder Perspective) Cost (Health System Perspective)  \\\n0           nan (nan - nan)         3434.1 (2710.8 - 4157.5)   \n1          3.4 (1.6 - 14.2)         3513.2 (2873.3 - 4153.1)   \n2           3.4 (1.3 - 8.8)         3741.2 (3099.1 - 4383.3)   \n3   22.0 (Dominant - 181.7)         6124.8 (5539.7 - 6710.0)   \n\n  Incremental Cost (Health System Perspective)  \\\n0                              nan (nan - nan)   \n1                       79.1 (-886.7 - 1044.9)   \n2                      228.0 (-678.6 - 1134.5)   \n3                     2383.7 (1514.9 - 3252.4)   \n\n  ICER (Health System Perspective)  \n0                  nan (nan - nan)  \n1            0.7 (Dominant - 15.2)  \n2             1.1 (Dominant - 6.7)  \n3          19.5 (Dominant - 153.6)  ",
      "text/html": "<div>\n<style scoped>\n    .dataframe tbody tr th:only-of-type {\n        vertical-align: middle;\n    }\n\n    .dataframe tbody tr th {\n        vertical-align: top;\n    }\n\n    .dataframe thead th {\n        text-align: right;\n    }\n</style>\n<table border=\"1\" class=\"dataframe\">\n  <thead>\n    <tr style=\"text-align: right;\">\n      <th></th>\n      <th>Scenario</th>\n      <th>Cases</th>\n      <th>Incremental Cases Averted</th>\n      <th>Cost (Funder Perspective)</th>\n      <th>Incremental Cost (Funder Perspective)</th>\n      <th>ICER (Funder Perspective)</th>\n      <th>Cost (Health System Perspective)</th>\n      <th>Incremental Cost (Health System Perspective)</th>\n      <th>ICER (Health System Perspective)</th>\n    </tr>\n  </thead>\n  <tbody>\n    <tr>\n      <th>0</th>\n      <td>No IPTsc</td>\n      <td>740.1 (676.4 - 803.8)</td>\n      <td>nan (nan - nan)</td>\n      <td>0.0 (0.0 - 0.0)</td>\n      <td>nan (nan - nan)</td>\n      <td>nan (nan - nan)</td>\n      <td>3434.1 (2710.8 - 4157.5)</td>\n      <td>nan (nan - nan)</td>\n      <td>nan (nan - nan)</td>\n    </tr>\n    <tr>\n      <th>1</th>\n      <td>SPAQ term</td>\n      <td>626.8 (561.3 - 692.3)</td>\n      <td>113.3 (22.0 - 204.6)</td>\n      <td>383.0 (258.6 - 507.5)</td>\n      <td>383.0 (258.6 - 507.5)</td>\n      <td>3.4 (1.6 - 14.2)</td>\n      <td>3513.2 (2873.3 - 4153.1)</td>\n      <td>79.1 (-886.7 - 1044.9)</td>\n      <td>0.7 (Dominant - 15.2)</td>\n    </tr>\n    <tr>\n      <th>2</th>\n      <td>SPAQ month</td>\n      <td>412.3 (307.6 - 517.0)</td>\n      <td>214.5 (91.0 - 338.0)</td>\n      <td>1107.0 (698.9 - 1515.0)</td>\n      <td>723.9 (297.3 - 1150.5)</td>\n      <td>3.4 (1.3 - 8.8)</td>\n      <td>3741.2 (3099.1 - 4383.3)</td>\n      <td>228.0 (-678.6 - 1134.5)</td>\n      <td>1.1 (Dominant - 6.7)</td>\n    </tr>\n    <tr>\n      <th>3</th>\n      <td>DP month</td>\n      <td>289.8 (189.3 - 390.3)</td>\n      <td>122.5 (-22.7 - 267.7)</td>\n      <td>3797.6 (3375.8 - 4219.4)</td>\n      <td>2690.7 (2103.8 - 3277.5)</td>\n      <td>22.0 (Dominant - 181.7)</td>\n      <td>6124.8 (5539.7 - 6710.0)</td>\n      <td>2383.7 (1514.9 - 3252.4)</td>\n      <td>19.5 (Dominant - 153.6)</td>\n    </tr>\n  </tbody>\n</table>\n</div>"
     },
     "execution_count": 44,
     "metadata": {},
     "output_type": "execute_result"
    }
   ],
   "source": [
    "df_single = df[(df[\"archetype\"] == \"Sahel\") & (df[\"transmission_level\"] == 0.1)]\n",
    "df_single = df_single[df_single[\"scenario_number\"].isin([0, 6, 7, 9])]\n",
    "df_table = generate_league_table_PRETTY(df_single)\n",
    "df_table"
   ],
   "metadata": {
    "collapsed": false,
    "ExecuteTime": {
     "end_time": "2024-10-18T18:04:00.261536Z",
     "start_time": "2024-10-18T18:03:59.980330Z"
    }
   },
   "id": "1dda379174cc1fe8",
   "execution_count": 44
  },
  {
   "cell_type": "markdown",
   "source": [
    "## 20% pfpr"
   ],
   "metadata": {
    "collapsed": false
   },
   "id": "7a99eef902886bc1"
  },
  {
   "cell_type": "code",
   "outputs": [
    {
     "name": "stderr",
     "output_type": "stream",
     "text": [
      "C:\\Users\\joshsu\\AppData\\Local\\Temp\\ipykernel_35472\\559688894.py:40: SettingWithCopyWarning: \n",
      "A value is trying to be set on a copy of a slice from a DataFrame\n",
      "\n",
      "See the caveats in the documentation: https://pandas.pydata.org/pandas-docs/stable/user_guide/indexing.html#returning-a-view-versus-a-copy\n",
      "  df_table[\"icer_low\"].iloc[i] = np.percentile(icers, 2.5)\n",
      "C:\\Users\\joshsu\\AppData\\Local\\Temp\\ipykernel_35472\\559688894.py:41: SettingWithCopyWarning: \n",
      "A value is trying to be set on a copy of a slice from a DataFrame\n",
      "\n",
      "See the caveats in the documentation: https://pandas.pydata.org/pandas-docs/stable/user_guide/indexing.html#returning-a-view-versus-a-copy\n",
      "  df_table[\"icer_high\"].iloc[i] = np.percentile(icers, 97.5)\n",
      "C:\\Users\\joshsu\\AppData\\Local\\Temp\\ipykernel_35472\\559688894.py:48: SettingWithCopyWarning: \n",
      "A value is trying to be set on a copy of a slice from a DataFrame\n",
      "\n",
      "See the caveats in the documentation: https://pandas.pydata.org/pandas-docs/stable/user_guide/indexing.html#returning-a-view-versus-a-copy\n",
      "  df_table[\"icer_IPTsc_low\"].iloc[i] = np.percentile(icers, 2.5)\n",
      "C:\\Users\\joshsu\\AppData\\Local\\Temp\\ipykernel_35472\\559688894.py:49: SettingWithCopyWarning: \n",
      "A value is trying to be set on a copy of a slice from a DataFrame\n",
      "\n",
      "See the caveats in the documentation: https://pandas.pydata.org/pandas-docs/stable/user_guide/indexing.html#returning-a-view-versus-a-copy\n",
      "  df_table[\"icer_IPTsc_high\"].iloc[i] = np.percentile(icers, 97.5)\n"
     ]
    },
    {
     "data": {
      "text/plain": "         Scenario                  Cases Incremental Cases Averted  \\\n0        No IPTsc  906.9 (861.2 - 952.6)           nan (nan - nan)   \n1  u10 SMC - SPAQ  798.5 (751.5 - 845.5)      108.4 (42.9 - 173.9)   \n2       SPAQ term  793.9 (751.2 - 836.6)        4.7 (-58.8 - 68.1)   \n3    u10 SMC - DP  736.3 (686.7 - 785.9)       57.6 (-7.9 - 123.0)   \n4  u15 SMC - SPAQ  696.6 (646.2 - 747.0)      39.7 (-31.0 - 110.4)   \n5         DP term  630.7 (579.2 - 682.2)       65.9 (-6.2 - 138.0)   \n6      SPAQ month  592.8 (543.0 - 642.6)      37.9 (-33.8 - 109.6)   \n7    u15 SMC - DP  565.4 (512.7 - 618.1)       27.4 (-45.1 - 99.9)   \n8        DP month  485.1 (426.5 - 543.7)        80.3 (1.5 - 159.2)   \n\n  Cost (Funder Perspective) Incremental Cost (Funder Perspective)  \\\n0           0.0 (0.0 - 0.0)                       nan (nan - nan)   \n1     456.1 (193.5 - 718.7)                 456.1 (193.5 - 718.7)   \n2     381.8 (258.0 - 505.6)                -74.3 (-364.6 - 216.0)   \n3   1025.2 (761.5 - 1288.9)                 643.4 (352.0 - 934.7)   \n4    859.9 (365.1 - 1354.7)               -165.3 (-726.0 - 395.4)   \n5  1273.7 (1143.7 - 1403.6)                 413.8 (-97.8 - 925.3)   \n6   1099.8 (693.6 - 1506.1)               -173.8 (-600.4 - 252.7)   \n7  1934.3 (1438.8 - 2429.9)                834.5 (193.7 - 1475.3)   \n8  3776.7 (3356.4 - 4197.0)              1842.4 (1192.6 - 2492.2)   \n\n  ICER (Funder Perspective) Cost (Health System Perspective)  \\\n0           nan (nan - nan)         4215.1 (3242.5 - 5187.7)   \n1          4.2 (1.6 - 11.6)         4389.5 (3471.8 - 5307.3)   \n2   -15.8 (Dominant - 65.2)         4233.3 (3373.6 - 5092.9)   \n3    11.2 (Dominant - 83.9)         4826.9 (3947.4 - 5706.5)   \n4    -4.2 (Dominant - 59.0)         4538.5 (3600.5 - 5476.5)   \n5     6.3 (Dominant - 49.3)         4665.5 (3950.3 - 5380.6)   \n6    -4.6 (Dominant - 53.8)         4438.4 (3639.2 - 5237.5)   \n7   30.5 (Dominant - 276.0)         5341.0 (4476.2 - 6205.7)   \n8        22.9 (7.4 - 138.8)         6809.1 (6084.3 - 7534.0)   \n\n  Incremental Cost (Health System Perspective)  \\\n0                              nan (nan - nan)   \n1                     174.4 (-1162.8 - 1511.7)   \n2                    -156.3 (-1413.8 - 1101.2)   \n3                      593.7 (-636.2 - 1823.5)   \n4                     -288.4 (-1574.2 - 997.5)   \n5                     126.9 (-1052.6 - 1306.4)   \n6                     -227.1 (-1299.6 - 845.4)   \n7                      902.6 (-274.9 - 2080.1)   \n8                      1468.2 (339.8 - 2596.5)   \n\n  ICER (Health System Perspective)  \n0                  nan (nan - nan)  \n1            1.6 (Dominant - 18.1)  \n2         -33.3 (Dominant - 261.3)  \n3          10.3 (Dominant - 101.3)  \n4          -7.3 (Dominant - 128.7)  \n5            1.9 (Dominant - 49.9)  \n6          -6.0 (Dominant - 111.3)  \n7          33.0 (Dominant - 332.1)  \n8          18.3 (Dominant - 113.3)  ",
      "text/html": "<div>\n<style scoped>\n    .dataframe tbody tr th:only-of-type {\n        vertical-align: middle;\n    }\n\n    .dataframe tbody tr th {\n        vertical-align: top;\n    }\n\n    .dataframe thead th {\n        text-align: right;\n    }\n</style>\n<table border=\"1\" class=\"dataframe\">\n  <thead>\n    <tr style=\"text-align: right;\">\n      <th></th>\n      <th>Scenario</th>\n      <th>Cases</th>\n      <th>Incremental Cases Averted</th>\n      <th>Cost (Funder Perspective)</th>\n      <th>Incremental Cost (Funder Perspective)</th>\n      <th>ICER (Funder Perspective)</th>\n      <th>Cost (Health System Perspective)</th>\n      <th>Incremental Cost (Health System Perspective)</th>\n      <th>ICER (Health System Perspective)</th>\n    </tr>\n  </thead>\n  <tbody>\n    <tr>\n      <th>0</th>\n      <td>No IPTsc</td>\n      <td>906.9 (861.2 - 952.6)</td>\n      <td>nan (nan - nan)</td>\n      <td>0.0 (0.0 - 0.0)</td>\n      <td>nan (nan - nan)</td>\n      <td>nan (nan - nan)</td>\n      <td>4215.1 (3242.5 - 5187.7)</td>\n      <td>nan (nan - nan)</td>\n      <td>nan (nan - nan)</td>\n    </tr>\n    <tr>\n      <th>1</th>\n      <td>u10 SMC - SPAQ</td>\n      <td>798.5 (751.5 - 845.5)</td>\n      <td>108.4 (42.9 - 173.9)</td>\n      <td>456.1 (193.5 - 718.7)</td>\n      <td>456.1 (193.5 - 718.7)</td>\n      <td>4.2 (1.6 - 11.6)</td>\n      <td>4389.5 (3471.8 - 5307.3)</td>\n      <td>174.4 (-1162.8 - 1511.7)</td>\n      <td>1.6 (Dominant - 18.1)</td>\n    </tr>\n    <tr>\n      <th>2</th>\n      <td>SPAQ term</td>\n      <td>793.9 (751.2 - 836.6)</td>\n      <td>4.7 (-58.8 - 68.1)</td>\n      <td>381.8 (258.0 - 505.6)</td>\n      <td>-74.3 (-364.6 - 216.0)</td>\n      <td>-15.8 (Dominant - 65.2)</td>\n      <td>4233.3 (3373.6 - 5092.9)</td>\n      <td>-156.3 (-1413.8 - 1101.2)</td>\n      <td>-33.3 (Dominant - 261.3)</td>\n    </tr>\n    <tr>\n      <th>3</th>\n      <td>u10 SMC - DP</td>\n      <td>736.3 (686.7 - 785.9)</td>\n      <td>57.6 (-7.9 - 123.0)</td>\n      <td>1025.2 (761.5 - 1288.9)</td>\n      <td>643.4 (352.0 - 934.7)</td>\n      <td>11.2 (Dominant - 83.9)</td>\n      <td>4826.9 (3947.4 - 5706.5)</td>\n      <td>593.7 (-636.2 - 1823.5)</td>\n      <td>10.3 (Dominant - 101.3)</td>\n    </tr>\n    <tr>\n      <th>4</th>\n      <td>u15 SMC - SPAQ</td>\n      <td>696.6 (646.2 - 747.0)</td>\n      <td>39.7 (-31.0 - 110.4)</td>\n      <td>859.9 (365.1 - 1354.7)</td>\n      <td>-165.3 (-726.0 - 395.4)</td>\n      <td>-4.2 (Dominant - 59.0)</td>\n      <td>4538.5 (3600.5 - 5476.5)</td>\n      <td>-288.4 (-1574.2 - 997.5)</td>\n      <td>-7.3 (Dominant - 128.7)</td>\n    </tr>\n    <tr>\n      <th>5</th>\n      <td>DP term</td>\n      <td>630.7 (579.2 - 682.2)</td>\n      <td>65.9 (-6.2 - 138.0)</td>\n      <td>1273.7 (1143.7 - 1403.6)</td>\n      <td>413.8 (-97.8 - 925.3)</td>\n      <td>6.3 (Dominant - 49.3)</td>\n      <td>4665.5 (3950.3 - 5380.6)</td>\n      <td>126.9 (-1052.6 - 1306.4)</td>\n      <td>1.9 (Dominant - 49.9)</td>\n    </tr>\n    <tr>\n      <th>6</th>\n      <td>SPAQ month</td>\n      <td>592.8 (543.0 - 642.6)</td>\n      <td>37.9 (-33.8 - 109.6)</td>\n      <td>1099.8 (693.6 - 1506.1)</td>\n      <td>-173.8 (-600.4 - 252.7)</td>\n      <td>-4.6 (Dominant - 53.8)</td>\n      <td>4438.4 (3639.2 - 5237.5)</td>\n      <td>-227.1 (-1299.6 - 845.4)</td>\n      <td>-6.0 (Dominant - 111.3)</td>\n    </tr>\n    <tr>\n      <th>7</th>\n      <td>u15 SMC - DP</td>\n      <td>565.4 (512.7 - 618.1)</td>\n      <td>27.4 (-45.1 - 99.9)</td>\n      <td>1934.3 (1438.8 - 2429.9)</td>\n      <td>834.5 (193.7 - 1475.3)</td>\n      <td>30.5 (Dominant - 276.0)</td>\n      <td>5341.0 (4476.2 - 6205.7)</td>\n      <td>902.6 (-274.9 - 2080.1)</td>\n      <td>33.0 (Dominant - 332.1)</td>\n    </tr>\n    <tr>\n      <th>8</th>\n      <td>DP month</td>\n      <td>485.1 (426.5 - 543.7)</td>\n      <td>80.3 (1.5 - 159.2)</td>\n      <td>3776.7 (3356.4 - 4197.0)</td>\n      <td>1842.4 (1192.6 - 2492.2)</td>\n      <td>22.9 (7.4 - 138.8)</td>\n      <td>6809.1 (6084.3 - 7534.0)</td>\n      <td>1468.2 (339.8 - 2596.5)</td>\n      <td>18.3 (Dominant - 113.3)</td>\n    </tr>\n  </tbody>\n</table>\n</div>"
     },
     "execution_count": 45,
     "metadata": {},
     "output_type": "execute_result"
    }
   ],
   "source": [
    "df_single = df[(df[\"archetype\"] == \"Sahel\") & (df[\"transmission_level\"] == 0.2)]\n",
    "df_single = df_single[df_single[\"scenario_number\"].isin([0, 6, 7, 8, 9, 30, 31, 32, 33])]\n",
    "df_table = generate_league_table_PRETTY(df_single)\n",
    "df_table.to_csv(\"league_tables/league_table_sahel_pfpr20_all.csv\", index=False)\n",
    "df_table"
   ],
   "metadata": {
    "collapsed": false,
    "ExecuteTime": {
     "end_time": "2024-10-18T18:04:01.410828Z",
     "start_time": "2024-10-18T18:04:00.950548Z"
    }
   },
   "id": "2aff240d7dcb8fde",
   "execution_count": 45
  },
  {
   "cell_type": "code",
   "outputs": [
    {
     "name": "stderr",
     "output_type": "stream",
     "text": [
      "C:\\Users\\joshsu\\AppData\\Local\\Temp\\ipykernel_35472\\559688894.py:40: SettingWithCopyWarning: \n",
      "A value is trying to be set on a copy of a slice from a DataFrame\n",
      "\n",
      "See the caveats in the documentation: https://pandas.pydata.org/pandas-docs/stable/user_guide/indexing.html#returning-a-view-versus-a-copy\n",
      "  df_table[\"icer_low\"].iloc[i] = np.percentile(icers, 2.5)\n",
      "C:\\Users\\joshsu\\AppData\\Local\\Temp\\ipykernel_35472\\559688894.py:41: SettingWithCopyWarning: \n",
      "A value is trying to be set on a copy of a slice from a DataFrame\n",
      "\n",
      "See the caveats in the documentation: https://pandas.pydata.org/pandas-docs/stable/user_guide/indexing.html#returning-a-view-versus-a-copy\n",
      "  df_table[\"icer_high\"].iloc[i] = np.percentile(icers, 97.5)\n",
      "C:\\Users\\joshsu\\AppData\\Local\\Temp\\ipykernel_35472\\559688894.py:48: SettingWithCopyWarning: \n",
      "A value is trying to be set on a copy of a slice from a DataFrame\n",
      "\n",
      "See the caveats in the documentation: https://pandas.pydata.org/pandas-docs/stable/user_guide/indexing.html#returning-a-view-versus-a-copy\n",
      "  df_table[\"icer_IPTsc_low\"].iloc[i] = np.percentile(icers, 2.5)\n",
      "C:\\Users\\joshsu\\AppData\\Local\\Temp\\ipykernel_35472\\559688894.py:49: SettingWithCopyWarning: \n",
      "A value is trying to be set on a copy of a slice from a DataFrame\n",
      "\n",
      "See the caveats in the documentation: https://pandas.pydata.org/pandas-docs/stable/user_guide/indexing.html#returning-a-view-versus-a-copy\n",
      "  df_table[\"icer_IPTsc_high\"].iloc[i] = np.percentile(icers, 97.5)\n"
     ]
    },
    {
     "data": {
      "text/plain": "         Scenario                  Cases Incremental Cases Averted  \\\n0        No IPTsc  906.9 (861.2 - 952.6)           nan (nan - nan)   \n1       SPAQ term  793.9 (751.2 - 836.6)      113.1 (50.6 - 175.6)   \n2  u15 SMC - SPAQ  696.6 (646.2 - 747.0)       97.3 (31.3 - 163.3)   \n3      SPAQ month  592.8 (543.0 - 642.6)      103.8 (33.0 - 174.6)   \n4    u15 SMC - DP  565.4 (512.7 - 618.1)       27.4 (-45.1 - 99.9)   \n5        DP month  485.1 (426.5 - 543.7)        80.3 (1.5 - 159.2)   \n\n  Cost (Funder Perspective) Incremental Cost (Funder Perspective)  \\\n0           0.0 (0.0 - 0.0)                       nan (nan - nan)   \n1     381.8 (258.0 - 505.6)                 381.8 (258.0 - 505.6)   \n2    859.9 (365.1 - 1354.7)                 478.1 (-32.0 - 988.2)   \n3   1099.8 (693.6 - 1506.1)                239.9 (-400.3 - 880.1)   \n4  1934.3 (1438.8 - 2429.9)                834.5 (193.7 - 1475.3)   \n5  3776.7 (3356.4 - 4197.0)              1842.4 (1192.6 - 2492.2)   \n\n  ICER (Funder Perspective) Cost (Health System Perspective)  \\\n0           nan (nan - nan)         4215.1 (3242.5 - 5187.7)   \n1           3.4 (1.9 - 7.8)         4233.3 (3373.6 - 5092.9)   \n2     4.9 (Dominant - 17.9)         4538.5 (3600.5 - 5476.5)   \n3     2.3 (Dominant - 13.0)         4438.4 (3639.2 - 5237.5)   \n4   30.5 (Dominant - 275.8)         5341.0 (4476.2 - 6205.7)   \n5        22.9 (7.2 - 140.4)         6809.1 (6084.3 - 7534.0)   \n\n  Incremental Cost (Health System Perspective)  \\\n0                              nan (nan - nan)   \n1                      18.2 (-1279.9 - 1316.2)   \n2                      305.3 (-967.1 - 1577.6)   \n3                    -100.2 (-1332.4 - 1132.1)   \n4                      902.6 (-274.9 - 2080.1)   \n5                      1468.2 (339.8 - 2596.5)   \n\n  ICER (Health System Perspective)  \n0                  nan (nan - nan)  \n1            0.2 (Dominant - 13.9)  \n2            3.1 (Dominant - 23.7)  \n3           -1.0 (Dominant - 14.4)  \n4          33.0 (Dominant - 321.3)  \n5          18.3 (Dominant - 114.4)  ",
      "text/html": "<div>\n<style scoped>\n    .dataframe tbody tr th:only-of-type {\n        vertical-align: middle;\n    }\n\n    .dataframe tbody tr th {\n        vertical-align: top;\n    }\n\n    .dataframe thead th {\n        text-align: right;\n    }\n</style>\n<table border=\"1\" class=\"dataframe\">\n  <thead>\n    <tr style=\"text-align: right;\">\n      <th></th>\n      <th>Scenario</th>\n      <th>Cases</th>\n      <th>Incremental Cases Averted</th>\n      <th>Cost (Funder Perspective)</th>\n      <th>Incremental Cost (Funder Perspective)</th>\n      <th>ICER (Funder Perspective)</th>\n      <th>Cost (Health System Perspective)</th>\n      <th>Incremental Cost (Health System Perspective)</th>\n      <th>ICER (Health System Perspective)</th>\n    </tr>\n  </thead>\n  <tbody>\n    <tr>\n      <th>0</th>\n      <td>No IPTsc</td>\n      <td>906.9 (861.2 - 952.6)</td>\n      <td>nan (nan - nan)</td>\n      <td>0.0 (0.0 - 0.0)</td>\n      <td>nan (nan - nan)</td>\n      <td>nan (nan - nan)</td>\n      <td>4215.1 (3242.5 - 5187.7)</td>\n      <td>nan (nan - nan)</td>\n      <td>nan (nan - nan)</td>\n    </tr>\n    <tr>\n      <th>1</th>\n      <td>SPAQ term</td>\n      <td>793.9 (751.2 - 836.6)</td>\n      <td>113.1 (50.6 - 175.6)</td>\n      <td>381.8 (258.0 - 505.6)</td>\n      <td>381.8 (258.0 - 505.6)</td>\n      <td>3.4 (1.9 - 7.8)</td>\n      <td>4233.3 (3373.6 - 5092.9)</td>\n      <td>18.2 (-1279.9 - 1316.2)</td>\n      <td>0.2 (Dominant - 13.9)</td>\n    </tr>\n    <tr>\n      <th>2</th>\n      <td>u15 SMC - SPAQ</td>\n      <td>696.6 (646.2 - 747.0)</td>\n      <td>97.3 (31.3 - 163.3)</td>\n      <td>859.9 (365.1 - 1354.7)</td>\n      <td>478.1 (-32.0 - 988.2)</td>\n      <td>4.9 (Dominant - 17.9)</td>\n      <td>4538.5 (3600.5 - 5476.5)</td>\n      <td>305.3 (-967.1 - 1577.6)</td>\n      <td>3.1 (Dominant - 23.7)</td>\n    </tr>\n    <tr>\n      <th>3</th>\n      <td>SPAQ month</td>\n      <td>592.8 (543.0 - 642.6)</td>\n      <td>103.8 (33.0 - 174.6)</td>\n      <td>1099.8 (693.6 - 1506.1)</td>\n      <td>239.9 (-400.3 - 880.1)</td>\n      <td>2.3 (Dominant - 13.0)</td>\n      <td>4438.4 (3639.2 - 5237.5)</td>\n      <td>-100.2 (-1332.4 - 1132.1)</td>\n      <td>-1.0 (Dominant - 14.4)</td>\n    </tr>\n    <tr>\n      <th>4</th>\n      <td>u15 SMC - DP</td>\n      <td>565.4 (512.7 - 618.1)</td>\n      <td>27.4 (-45.1 - 99.9)</td>\n      <td>1934.3 (1438.8 - 2429.9)</td>\n      <td>834.5 (193.7 - 1475.3)</td>\n      <td>30.5 (Dominant - 275.8)</td>\n      <td>5341.0 (4476.2 - 6205.7)</td>\n      <td>902.6 (-274.9 - 2080.1)</td>\n      <td>33.0 (Dominant - 321.3)</td>\n    </tr>\n    <tr>\n      <th>5</th>\n      <td>DP month</td>\n      <td>485.1 (426.5 - 543.7)</td>\n      <td>80.3 (1.5 - 159.2)</td>\n      <td>3776.7 (3356.4 - 4197.0)</td>\n      <td>1842.4 (1192.6 - 2492.2)</td>\n      <td>22.9 (7.2 - 140.4)</td>\n      <td>6809.1 (6084.3 - 7534.0)</td>\n      <td>1468.2 (339.8 - 2596.5)</td>\n      <td>18.3 (Dominant - 114.4)</td>\n    </tr>\n  </tbody>\n</table>\n</div>"
     },
     "execution_count": 46,
     "metadata": {},
     "output_type": "execute_result"
    }
   ],
   "source": [
    "df_single = df[(df[\"archetype\"] == \"Sahel\") & (df[\"transmission_level\"] == 0.2)]\n",
    "df_single = df_single[df_single[\"scenario_number\"].isin([0, 6, 7, 9, 31, 33])]\n",
    "df_table = generate_league_table_PRETTY(df_single)\n",
    "df_table"
   ],
   "metadata": {
    "collapsed": false,
    "ExecuteTime": {
     "end_time": "2024-10-18T18:04:02.341708Z",
     "start_time": "2024-10-18T18:04:02.032678Z"
    }
   },
   "id": "8635911328cbc212",
   "execution_count": 46
  },
  {
   "cell_type": "code",
   "outputs": [
    {
     "name": "stderr",
     "output_type": "stream",
     "text": [
      "C:\\Users\\joshsu\\AppData\\Local\\Temp\\ipykernel_35472\\559688894.py:40: SettingWithCopyWarning: \n",
      "A value is trying to be set on a copy of a slice from a DataFrame\n",
      "\n",
      "See the caveats in the documentation: https://pandas.pydata.org/pandas-docs/stable/user_guide/indexing.html#returning-a-view-versus-a-copy\n",
      "  df_table[\"icer_low\"].iloc[i] = np.percentile(icers, 2.5)\n",
      "C:\\Users\\joshsu\\AppData\\Local\\Temp\\ipykernel_35472\\559688894.py:41: SettingWithCopyWarning: \n",
      "A value is trying to be set on a copy of a slice from a DataFrame\n",
      "\n",
      "See the caveats in the documentation: https://pandas.pydata.org/pandas-docs/stable/user_guide/indexing.html#returning-a-view-versus-a-copy\n",
      "  df_table[\"icer_high\"].iloc[i] = np.percentile(icers, 97.5)\n",
      "C:\\Users\\joshsu\\AppData\\Local\\Temp\\ipykernel_35472\\559688894.py:48: SettingWithCopyWarning: \n",
      "A value is trying to be set on a copy of a slice from a DataFrame\n",
      "\n",
      "See the caveats in the documentation: https://pandas.pydata.org/pandas-docs/stable/user_guide/indexing.html#returning-a-view-versus-a-copy\n",
      "  df_table[\"icer_IPTsc_low\"].iloc[i] = np.percentile(icers, 2.5)\n",
      "C:\\Users\\joshsu\\AppData\\Local\\Temp\\ipykernel_35472\\559688894.py:49: SettingWithCopyWarning: \n",
      "A value is trying to be set on a copy of a slice from a DataFrame\n",
      "\n",
      "See the caveats in the documentation: https://pandas.pydata.org/pandas-docs/stable/user_guide/indexing.html#returning-a-view-versus-a-copy\n",
      "  df_table[\"icer_IPTsc_high\"].iloc[i] = np.percentile(icers, 97.5)\n"
     ]
    },
    {
     "data": {
      "text/plain": "     Scenario                  Cases Incremental Cases Averted  \\\n0    No IPTsc  906.9 (861.2 - 952.6)           nan (nan - nan)   \n1   SPAQ term  793.9 (751.2 - 836.6)      113.1 (50.6 - 175.6)   \n2  SPAQ month  592.8 (543.0 - 642.6)     201.1 (135.5 - 266.6)   \n3    DP month  485.1 (426.5 - 543.7)      107.7 (30.8 - 184.6)   \n\n  Cost (Funder Perspective) Incremental Cost (Funder Perspective)  \\\n0           0.0 (0.0 - 0.0)                       nan (nan - nan)   \n1     381.8 (258.0 - 505.6)                 381.8 (258.0 - 505.6)   \n2   1099.8 (693.6 - 1506.1)                718.0 (293.3 - 1142.7)   \n3  3776.7 (3356.4 - 4197.0)              2676.9 (2092.4 - 3261.5)   \n\n  ICER (Funder Perspective) Cost (Health System Perspective)  \\\n0           nan (nan - nan)         4215.1 (3242.5 - 5187.7)   \n1           3.4 (1.9 - 7.8)         4233.3 (3373.6 - 5092.9)   \n2           3.6 (1.4 - 6.6)         4438.4 (3639.2 - 5237.5)   \n3        24.8 (13.5 - 81.0)         6809.1 (6084.3 - 7534.0)   \n\n  Incremental Cost (Health System Perspective)  \\\n0                              nan (nan - nan)   \n1                      18.2 (-1279.9 - 1316.2)   \n2                      205.1 (-968.7 - 1378.9)   \n3                     2370.8 (1291.8 - 3449.7)   \n\n  ICER (Health System Perspective)  \n0                  nan (nan - nan)  \n1            0.2 (Dominant - 13.9)  \n2             1.0 (Dominant - 7.4)  \n3                22.0 (9.6 - 75.5)  ",
      "text/html": "<div>\n<style scoped>\n    .dataframe tbody tr th:only-of-type {\n        vertical-align: middle;\n    }\n\n    .dataframe tbody tr th {\n        vertical-align: top;\n    }\n\n    .dataframe thead th {\n        text-align: right;\n    }\n</style>\n<table border=\"1\" class=\"dataframe\">\n  <thead>\n    <tr style=\"text-align: right;\">\n      <th></th>\n      <th>Scenario</th>\n      <th>Cases</th>\n      <th>Incremental Cases Averted</th>\n      <th>Cost (Funder Perspective)</th>\n      <th>Incremental Cost (Funder Perspective)</th>\n      <th>ICER (Funder Perspective)</th>\n      <th>Cost (Health System Perspective)</th>\n      <th>Incremental Cost (Health System Perspective)</th>\n      <th>ICER (Health System Perspective)</th>\n    </tr>\n  </thead>\n  <tbody>\n    <tr>\n      <th>0</th>\n      <td>No IPTsc</td>\n      <td>906.9 (861.2 - 952.6)</td>\n      <td>nan (nan - nan)</td>\n      <td>0.0 (0.0 - 0.0)</td>\n      <td>nan (nan - nan)</td>\n      <td>nan (nan - nan)</td>\n      <td>4215.1 (3242.5 - 5187.7)</td>\n      <td>nan (nan - nan)</td>\n      <td>nan (nan - nan)</td>\n    </tr>\n    <tr>\n      <th>1</th>\n      <td>SPAQ term</td>\n      <td>793.9 (751.2 - 836.6)</td>\n      <td>113.1 (50.6 - 175.6)</td>\n      <td>381.8 (258.0 - 505.6)</td>\n      <td>381.8 (258.0 - 505.6)</td>\n      <td>3.4 (1.9 - 7.8)</td>\n      <td>4233.3 (3373.6 - 5092.9)</td>\n      <td>18.2 (-1279.9 - 1316.2)</td>\n      <td>0.2 (Dominant - 13.9)</td>\n    </tr>\n    <tr>\n      <th>2</th>\n      <td>SPAQ month</td>\n      <td>592.8 (543.0 - 642.6)</td>\n      <td>201.1 (135.5 - 266.6)</td>\n      <td>1099.8 (693.6 - 1506.1)</td>\n      <td>718.0 (293.3 - 1142.7)</td>\n      <td>3.6 (1.4 - 6.6)</td>\n      <td>4438.4 (3639.2 - 5237.5)</td>\n      <td>205.1 (-968.7 - 1378.9)</td>\n      <td>1.0 (Dominant - 7.4)</td>\n    </tr>\n    <tr>\n      <th>3</th>\n      <td>DP month</td>\n      <td>485.1 (426.5 - 543.7)</td>\n      <td>107.7 (30.8 - 184.6)</td>\n      <td>3776.7 (3356.4 - 4197.0)</td>\n      <td>2676.9 (2092.4 - 3261.5)</td>\n      <td>24.8 (13.5 - 81.0)</td>\n      <td>6809.1 (6084.3 - 7534.0)</td>\n      <td>2370.8 (1291.8 - 3449.7)</td>\n      <td>22.0 (9.6 - 75.5)</td>\n    </tr>\n  </tbody>\n</table>\n</div>"
     },
     "execution_count": 47,
     "metadata": {},
     "output_type": "execute_result"
    }
   ],
   "source": [
    "df_single = df[(df[\"archetype\"] == \"Sahel\") & (df[\"transmission_level\"] == 0.2)]\n",
    "df_single = df_single[df_single[\"scenario_number\"].isin([0, 6, 7, 9])]\n",
    "df_table = generate_league_table_PRETTY(df_single)\n",
    "df_table.to_csv(\"league_tables/league_table_sahel_pfpr20_reduced.csv\", index=False)\n",
    "df_table"
   ],
   "metadata": {
    "collapsed": false,
    "ExecuteTime": {
     "end_time": "2024-10-18T18:04:03.298801Z",
     "start_time": "2024-10-18T18:04:03.084306Z"
    }
   },
   "id": "56eeca916134ab1a",
   "execution_count": 47
  },
  {
   "cell_type": "markdown",
   "source": [
    "## 30% pfpr"
   ],
   "metadata": {
    "collapsed": false
   },
   "id": "374e56fa2aa2a8f0"
  },
  {
   "cell_type": "code",
   "outputs": [
    {
     "name": "stderr",
     "output_type": "stream",
     "text": [
      "C:\\Users\\joshsu\\AppData\\Local\\Temp\\ipykernel_35472\\559688894.py:40: SettingWithCopyWarning: \n",
      "A value is trying to be set on a copy of a slice from a DataFrame\n",
      "\n",
      "See the caveats in the documentation: https://pandas.pydata.org/pandas-docs/stable/user_guide/indexing.html#returning-a-view-versus-a-copy\n",
      "  df_table[\"icer_low\"].iloc[i] = np.percentile(icers, 2.5)\n",
      "C:\\Users\\joshsu\\AppData\\Local\\Temp\\ipykernel_35472\\559688894.py:41: SettingWithCopyWarning: \n",
      "A value is trying to be set on a copy of a slice from a DataFrame\n",
      "\n",
      "See the caveats in the documentation: https://pandas.pydata.org/pandas-docs/stable/user_guide/indexing.html#returning-a-view-versus-a-copy\n",
      "  df_table[\"icer_high\"].iloc[i] = np.percentile(icers, 97.5)\n",
      "C:\\Users\\joshsu\\AppData\\Local\\Temp\\ipykernel_35472\\559688894.py:48: SettingWithCopyWarning: \n",
      "A value is trying to be set on a copy of a slice from a DataFrame\n",
      "\n",
      "See the caveats in the documentation: https://pandas.pydata.org/pandas-docs/stable/user_guide/indexing.html#returning-a-view-versus-a-copy\n",
      "  df_table[\"icer_IPTsc_low\"].iloc[i] = np.percentile(icers, 2.5)\n",
      "C:\\Users\\joshsu\\AppData\\Local\\Temp\\ipykernel_35472\\559688894.py:49: SettingWithCopyWarning: \n",
      "A value is trying to be set on a copy of a slice from a DataFrame\n",
      "\n",
      "See the caveats in the documentation: https://pandas.pydata.org/pandas-docs/stable/user_guide/indexing.html#returning-a-view-versus-a-copy\n",
      "  df_table[\"icer_IPTsc_high\"].iloc[i] = np.percentile(icers, 97.5)\n"
     ]
    },
    {
     "data": {
      "text/plain": "         Scenario                    Cases Incremental Cases Averted  \\\n0        No IPTsc  1036.3 (988.5 - 1084.1)           nan (nan - nan)   \n1  u10 SMC - SPAQ    905.7 (863.8 - 947.6)      130.6 (66.9 - 194.3)   \n2       SPAQ term    883.5 (840.6 - 926.4)       22.2 (-37.8 - 82.3)   \n3    u10 SMC - DP    843.5 (798.4 - 888.6)      39.9 (-22.3 - 102.1)   \n4  u15 SMC - SPAQ    814.1 (772.4 - 855.8)       29.4 (-32.0 - 90.9)   \n5         DP term    726.9 (682.0 - 771.8)       87.3 (26.0 - 148.5)   \n6      SPAQ month    700.0 (653.2 - 746.8)       26.9 (-38.0 - 91.7)   \n7    u15 SMC - DP    695.9 (655.7 - 736.1)        4.1 (-57.6 - 65.8)   \n8        DP month    594.1 (540.6 - 647.6)      101.8 (34.9 - 168.7)   \n\n  Cost (Funder Perspective) Incremental Cost (Funder Perspective)  \\\n0           0.0 (0.0 - 0.0)                       nan (nan - nan)   \n1     448.2 (190.5 - 705.9)                 448.2 (190.5 - 705.9)   \n2     368.3 (248.6 - 487.9)                -79.9 (-364.0 - 204.2)   \n3   1007.7 (748.9 - 1266.4)                 639.4 (354.3 - 924.4)   \n4    824.3 (350.2 - 1298.4)               -183.3 (-723.4 - 356.8)   \n5  1232.6 (1107.2 - 1358.1)                 408.3 (-82.1 - 898.7)   \n6   1063.8 (671.5 - 1456.1)               -168.8 (-580.7 - 243.0)   \n7  1854.2 (1379.2 - 2329.1)                790.4 (174.4 - 1406.4)   \n8  3653.7 (3250.0 - 4057.4)              1799.6 (1176.2 - 2422.9)   \n\n  ICER (Funder Perspective) Cost (Health System Perspective)  \\\n0           nan (nan - nan)         4870.3 (3678.5 - 6062.0)   \n1           3.4 (1.3 - 7.7)         4982.6 (3871.5 - 6093.8)   \n2    -3.6 (Dominant - 51.9)         4750.9 (3711.4 - 5790.3)   \n3   16.0 (Dominant - 162.8)         5401.7 (4336.7 - 6466.7)   \n4    -6.2 (Dominant - 84.3)         5122.8 (4015.5 - 6230.2)   \n5     4.7 (Dominant - 18.6)         5163.1 (4272.0 - 6054.2)   \n6    -6.3 (Dominant - 75.0)         4933.1 (3984.3 - 5881.8)   \n7  194.5 (Dominant - 392.3)         5900.2 (4869.1 - 6931.3)   \n8         17.7 (9.1 - 52.4)         7217.2 (6355.9 - 8078.5)   \n\n  Incremental Cost (Health System Perspective)  \\\n0                              nan (nan - nan)   \n1                     112.4 (-1517.0 - 1741.8)   \n2                    -231.8 (-1753.3 - 1289.7)   \n3                      650.8 (-837.4 - 2139.0)   \n4                    -278.9 (-1815.2 - 1257.5)   \n5                      40.3 (-1381.1 - 1461.6)   \n6                    -230.0 (-1531.6 - 1071.6)   \n7                      967.1 (-434.1 - 2368.3)   \n8                      1317.0 (-26.4 - 2660.5)   \n\n  ICER (Health System Perspective)  \n0                  nan (nan - nan)  \n1            0.9 (Dominant - 15.4)  \n2         -10.4 (Dominant - 257.8)  \n3          16.3 (Dominant - 204.5)  \n4          -9.5 (Dominant - 209.0)  \n5            0.5 (Dominant - 23.5)  \n6          -8.6 (Dominant - 192.1)  \n7         238.0 (Dominant - 517.5)  \n8           12.9 (Dominant - 44.7)  ",
      "text/html": "<div>\n<style scoped>\n    .dataframe tbody tr th:only-of-type {\n        vertical-align: middle;\n    }\n\n    .dataframe tbody tr th {\n        vertical-align: top;\n    }\n\n    .dataframe thead th {\n        text-align: right;\n    }\n</style>\n<table border=\"1\" class=\"dataframe\">\n  <thead>\n    <tr style=\"text-align: right;\">\n      <th></th>\n      <th>Scenario</th>\n      <th>Cases</th>\n      <th>Incremental Cases Averted</th>\n      <th>Cost (Funder Perspective)</th>\n      <th>Incremental Cost (Funder Perspective)</th>\n      <th>ICER (Funder Perspective)</th>\n      <th>Cost (Health System Perspective)</th>\n      <th>Incremental Cost (Health System Perspective)</th>\n      <th>ICER (Health System Perspective)</th>\n    </tr>\n  </thead>\n  <tbody>\n    <tr>\n      <th>0</th>\n      <td>No IPTsc</td>\n      <td>1036.3 (988.5 - 1084.1)</td>\n      <td>nan (nan - nan)</td>\n      <td>0.0 (0.0 - 0.0)</td>\n      <td>nan (nan - nan)</td>\n      <td>nan (nan - nan)</td>\n      <td>4870.3 (3678.5 - 6062.0)</td>\n      <td>nan (nan - nan)</td>\n      <td>nan (nan - nan)</td>\n    </tr>\n    <tr>\n      <th>1</th>\n      <td>u10 SMC - SPAQ</td>\n      <td>905.7 (863.8 - 947.6)</td>\n      <td>130.6 (66.9 - 194.3)</td>\n      <td>448.2 (190.5 - 705.9)</td>\n      <td>448.2 (190.5 - 705.9)</td>\n      <td>3.4 (1.3 - 7.7)</td>\n      <td>4982.6 (3871.5 - 6093.8)</td>\n      <td>112.4 (-1517.0 - 1741.8)</td>\n      <td>0.9 (Dominant - 15.4)</td>\n    </tr>\n    <tr>\n      <th>2</th>\n      <td>SPAQ term</td>\n      <td>883.5 (840.6 - 926.4)</td>\n      <td>22.2 (-37.8 - 82.3)</td>\n      <td>368.3 (248.6 - 487.9)</td>\n      <td>-79.9 (-364.0 - 204.2)</td>\n      <td>-3.6 (Dominant - 51.9)</td>\n      <td>4750.9 (3711.4 - 5790.3)</td>\n      <td>-231.8 (-1753.3 - 1289.7)</td>\n      <td>-10.4 (Dominant - 257.8)</td>\n    </tr>\n    <tr>\n      <th>3</th>\n      <td>u10 SMC - DP</td>\n      <td>843.5 (798.4 - 888.6)</td>\n      <td>39.9 (-22.3 - 102.1)</td>\n      <td>1007.7 (748.9 - 1266.4)</td>\n      <td>639.4 (354.3 - 924.4)</td>\n      <td>16.0 (Dominant - 162.8)</td>\n      <td>5401.7 (4336.7 - 6466.7)</td>\n      <td>650.8 (-837.4 - 2139.0)</td>\n      <td>16.3 (Dominant - 204.5)</td>\n    </tr>\n    <tr>\n      <th>4</th>\n      <td>u15 SMC - SPAQ</td>\n      <td>814.1 (772.4 - 855.8)</td>\n      <td>29.4 (-32.0 - 90.9)</td>\n      <td>824.3 (350.2 - 1298.4)</td>\n      <td>-183.3 (-723.4 - 356.8)</td>\n      <td>-6.2 (Dominant - 84.3)</td>\n      <td>5122.8 (4015.5 - 6230.2)</td>\n      <td>-278.9 (-1815.2 - 1257.5)</td>\n      <td>-9.5 (Dominant - 209.0)</td>\n    </tr>\n    <tr>\n      <th>5</th>\n      <td>DP term</td>\n      <td>726.9 (682.0 - 771.8)</td>\n      <td>87.3 (26.0 - 148.5)</td>\n      <td>1232.6 (1107.2 - 1358.1)</td>\n      <td>408.3 (-82.1 - 898.7)</td>\n      <td>4.7 (Dominant - 18.6)</td>\n      <td>5163.1 (4272.0 - 6054.2)</td>\n      <td>40.3 (-1381.1 - 1461.6)</td>\n      <td>0.5 (Dominant - 23.5)</td>\n    </tr>\n    <tr>\n      <th>6</th>\n      <td>SPAQ month</td>\n      <td>700.0 (653.2 - 746.8)</td>\n      <td>26.9 (-38.0 - 91.7)</td>\n      <td>1063.8 (671.5 - 1456.1)</td>\n      <td>-168.8 (-580.7 - 243.0)</td>\n      <td>-6.3 (Dominant - 75.0)</td>\n      <td>4933.1 (3984.3 - 5881.8)</td>\n      <td>-230.0 (-1531.6 - 1071.6)</td>\n      <td>-8.6 (Dominant - 192.1)</td>\n    </tr>\n    <tr>\n      <th>7</th>\n      <td>u15 SMC - DP</td>\n      <td>695.9 (655.7 - 736.1)</td>\n      <td>4.1 (-57.6 - 65.8)</td>\n      <td>1854.2 (1379.2 - 2329.1)</td>\n      <td>790.4 (174.4 - 1406.4)</td>\n      <td>194.5 (Dominant - 392.3)</td>\n      <td>5900.2 (4869.1 - 6931.3)</td>\n      <td>967.1 (-434.1 - 2368.3)</td>\n      <td>238.0 (Dominant - 517.5)</td>\n    </tr>\n    <tr>\n      <th>8</th>\n      <td>DP month</td>\n      <td>594.1 (540.6 - 647.6)</td>\n      <td>101.8 (34.9 - 168.7)</td>\n      <td>3653.7 (3250.0 - 4057.4)</td>\n      <td>1799.6 (1176.2 - 2422.9)</td>\n      <td>17.7 (9.1 - 52.4)</td>\n      <td>7217.2 (6355.9 - 8078.5)</td>\n      <td>1317.0 (-26.4 - 2660.5)</td>\n      <td>12.9 (Dominant - 44.7)</td>\n    </tr>\n  </tbody>\n</table>\n</div>"
     },
     "execution_count": 48,
     "metadata": {},
     "output_type": "execute_result"
    }
   ],
   "source": [
    "df_single = df[(df[\"archetype\"] == \"Sahel\") & (df[\"transmission_level\"] == 0.3)]\n",
    "df_single = df_single[df_single[\"scenario_number\"].isin([0, 6, 7, 8, 9, 30, 31, 32, 33])]\n",
    "df_table = generate_league_table_PRETTY(df_single)\n",
    "df_table"
   ],
   "metadata": {
    "collapsed": false,
    "ExecuteTime": {
     "end_time": "2024-10-18T18:04:04.772454Z",
     "start_time": "2024-10-18T18:04:04.295307Z"
    }
   },
   "id": "4314d774e87c6e68",
   "execution_count": 48
  },
  {
   "cell_type": "code",
   "outputs": [
    {
     "name": "stderr",
     "output_type": "stream",
     "text": [
      "C:\\Users\\joshsu\\AppData\\Local\\Temp\\ipykernel_35472\\559688894.py:40: SettingWithCopyWarning: \n",
      "A value is trying to be set on a copy of a slice from a DataFrame\n",
      "\n",
      "See the caveats in the documentation: https://pandas.pydata.org/pandas-docs/stable/user_guide/indexing.html#returning-a-view-versus-a-copy\n",
      "  df_table[\"icer_low\"].iloc[i] = np.percentile(icers, 2.5)\n",
      "C:\\Users\\joshsu\\AppData\\Local\\Temp\\ipykernel_35472\\559688894.py:41: SettingWithCopyWarning: \n",
      "A value is trying to be set on a copy of a slice from a DataFrame\n",
      "\n",
      "See the caveats in the documentation: https://pandas.pydata.org/pandas-docs/stable/user_guide/indexing.html#returning-a-view-versus-a-copy\n",
      "  df_table[\"icer_high\"].iloc[i] = np.percentile(icers, 97.5)\n",
      "C:\\Users\\joshsu\\AppData\\Local\\Temp\\ipykernel_35472\\559688894.py:48: SettingWithCopyWarning: \n",
      "A value is trying to be set on a copy of a slice from a DataFrame\n",
      "\n",
      "See the caveats in the documentation: https://pandas.pydata.org/pandas-docs/stable/user_guide/indexing.html#returning-a-view-versus-a-copy\n",
      "  df_table[\"icer_IPTsc_low\"].iloc[i] = np.percentile(icers, 2.5)\n",
      "C:\\Users\\joshsu\\AppData\\Local\\Temp\\ipykernel_35472\\559688894.py:49: SettingWithCopyWarning: \n",
      "A value is trying to be set on a copy of a slice from a DataFrame\n",
      "\n",
      "See the caveats in the documentation: https://pandas.pydata.org/pandas-docs/stable/user_guide/indexing.html#returning-a-view-versus-a-copy\n",
      "  df_table[\"icer_IPTsc_high\"].iloc[i] = np.percentile(icers, 97.5)\n"
     ]
    },
    {
     "data": {
      "text/plain": "         Scenario                    Cases Incremental Cases Averted  \\\n0        No IPTsc  1036.3 (988.5 - 1084.1)           nan (nan - nan)   \n1       SPAQ term    883.5 (840.6 - 926.4)      152.8 (88.5 - 217.1)   \n2  u15 SMC - SPAQ    814.1 (772.4 - 855.8)        69.3 (9.5 - 129.2)   \n3      SPAQ month    700.0 (653.2 - 746.8)      114.1 (51.4 - 176.9)   \n4    u15 SMC - DP    695.9 (655.7 - 736.1)        4.1 (-57.6 - 65.8)   \n5        DP month    594.1 (540.6 - 647.6)      101.8 (34.9 - 168.7)   \n\n  Cost (Funder Perspective) Incremental Cost (Funder Perspective)  \\\n0           0.0 (0.0 - 0.0)                       nan (nan - nan)   \n1     368.3 (248.6 - 487.9)                 368.3 (248.6 - 487.9)   \n2    824.3 (350.2 - 1298.4)                 456.1 (-32.9 - 945.0)   \n3   1063.8 (671.5 - 1456.1)                239.5 (-375.9 - 854.8)   \n4  1854.2 (1379.2 - 2329.1)                790.4 (174.4 - 1406.4)   \n5  3653.7 (3250.0 - 4057.4)              1799.6 (1176.2 - 2422.9)   \n\n  ICER (Funder Perspective) Cost (Health System Perspective)  \\\n0           nan (nan - nan)         4870.3 (3678.5 - 6062.0)   \n1           2.4 (1.4 - 4.4)         4750.9 (3711.4 - 5790.3)   \n2     6.6 (Dominant - 35.2)         5122.8 (4015.5 - 6230.2)   \n3      2.1 (Dominant - 9.7)         4933.1 (3984.3 - 5881.8)   \n4  194.5 (Dominant - 372.9)         5900.2 (4869.1 - 6931.3)   \n5         17.7 (9.0 - 52.0)         7217.2 (6355.9 - 8078.5)   \n\n  Incremental Cost (Health System Perspective)  \\\n0                              nan (nan - nan)   \n1                    -119.4 (-1700.8 - 1462.0)   \n2                     372.0 (-1146.8 - 1890.7)   \n3                    -189.8 (-1648.0 - 1268.4)   \n4                      967.1 (-434.1 - 2368.3)   \n5                      1317.0 (-26.4 - 2660.5)   \n\n  ICER (Health System Perspective)  \n0                  nan (nan - nan)  \n1           -0.8 (Dominant - 10.4)  \n2            5.4 (Dominant - 52.7)  \n3           -1.7 (Dominant - 12.9)  \n4         238.0 (Dominant - 514.9)  \n5           12.9 (Dominant - 45.2)  ",
      "text/html": "<div>\n<style scoped>\n    .dataframe tbody tr th:only-of-type {\n        vertical-align: middle;\n    }\n\n    .dataframe tbody tr th {\n        vertical-align: top;\n    }\n\n    .dataframe thead th {\n        text-align: right;\n    }\n</style>\n<table border=\"1\" class=\"dataframe\">\n  <thead>\n    <tr style=\"text-align: right;\">\n      <th></th>\n      <th>Scenario</th>\n      <th>Cases</th>\n      <th>Incremental Cases Averted</th>\n      <th>Cost (Funder Perspective)</th>\n      <th>Incremental Cost (Funder Perspective)</th>\n      <th>ICER (Funder Perspective)</th>\n      <th>Cost (Health System Perspective)</th>\n      <th>Incremental Cost (Health System Perspective)</th>\n      <th>ICER (Health System Perspective)</th>\n    </tr>\n  </thead>\n  <tbody>\n    <tr>\n      <th>0</th>\n      <td>No IPTsc</td>\n      <td>1036.3 (988.5 - 1084.1)</td>\n      <td>nan (nan - nan)</td>\n      <td>0.0 (0.0 - 0.0)</td>\n      <td>nan (nan - nan)</td>\n      <td>nan (nan - nan)</td>\n      <td>4870.3 (3678.5 - 6062.0)</td>\n      <td>nan (nan - nan)</td>\n      <td>nan (nan - nan)</td>\n    </tr>\n    <tr>\n      <th>1</th>\n      <td>SPAQ term</td>\n      <td>883.5 (840.6 - 926.4)</td>\n      <td>152.8 (88.5 - 217.1)</td>\n      <td>368.3 (248.6 - 487.9)</td>\n      <td>368.3 (248.6 - 487.9)</td>\n      <td>2.4 (1.4 - 4.4)</td>\n      <td>4750.9 (3711.4 - 5790.3)</td>\n      <td>-119.4 (-1700.8 - 1462.0)</td>\n      <td>-0.8 (Dominant - 10.4)</td>\n    </tr>\n    <tr>\n      <th>2</th>\n      <td>u15 SMC - SPAQ</td>\n      <td>814.1 (772.4 - 855.8)</td>\n      <td>69.3 (9.5 - 129.2)</td>\n      <td>824.3 (350.2 - 1298.4)</td>\n      <td>456.1 (-32.9 - 945.0)</td>\n      <td>6.6 (Dominant - 35.2)</td>\n      <td>5122.8 (4015.5 - 6230.2)</td>\n      <td>372.0 (-1146.8 - 1890.7)</td>\n      <td>5.4 (Dominant - 52.7)</td>\n    </tr>\n    <tr>\n      <th>3</th>\n      <td>SPAQ month</td>\n      <td>700.0 (653.2 - 746.8)</td>\n      <td>114.1 (51.4 - 176.9)</td>\n      <td>1063.8 (671.5 - 1456.1)</td>\n      <td>239.5 (-375.9 - 854.8)</td>\n      <td>2.1 (Dominant - 9.7)</td>\n      <td>4933.1 (3984.3 - 5881.8)</td>\n      <td>-189.8 (-1648.0 - 1268.4)</td>\n      <td>-1.7 (Dominant - 12.9)</td>\n    </tr>\n    <tr>\n      <th>4</th>\n      <td>u15 SMC - DP</td>\n      <td>695.9 (655.7 - 736.1)</td>\n      <td>4.1 (-57.6 - 65.8)</td>\n      <td>1854.2 (1379.2 - 2329.1)</td>\n      <td>790.4 (174.4 - 1406.4)</td>\n      <td>194.5 (Dominant - 372.9)</td>\n      <td>5900.2 (4869.1 - 6931.3)</td>\n      <td>967.1 (-434.1 - 2368.3)</td>\n      <td>238.0 (Dominant - 514.9)</td>\n    </tr>\n    <tr>\n      <th>5</th>\n      <td>DP month</td>\n      <td>594.1 (540.6 - 647.6)</td>\n      <td>101.8 (34.9 - 168.7)</td>\n      <td>3653.7 (3250.0 - 4057.4)</td>\n      <td>1799.6 (1176.2 - 2422.9)</td>\n      <td>17.7 (9.0 - 52.0)</td>\n      <td>7217.2 (6355.9 - 8078.5)</td>\n      <td>1317.0 (-26.4 - 2660.5)</td>\n      <td>12.9 (Dominant - 45.2)</td>\n    </tr>\n  </tbody>\n</table>\n</div>"
     },
     "execution_count": 49,
     "metadata": {},
     "output_type": "execute_result"
    }
   ],
   "source": [
    "df_single = df[(df[\"archetype\"] == \"Sahel\") & (df[\"transmission_level\"] == 0.3)]\n",
    "df_single = df_single[df_single[\"scenario_number\"].isin([0, 6, 7, 9, 31, 33])]\n",
    "df_table = generate_league_table_PRETTY(df_single)\n",
    "df_table"
   ],
   "metadata": {
    "collapsed": false,
    "ExecuteTime": {
     "end_time": "2024-10-18T18:04:05.534840Z",
     "start_time": "2024-10-18T18:04:05.189679Z"
    }
   },
   "id": "3182a5bb3f6c751",
   "execution_count": 49
  },
  {
   "cell_type": "code",
   "outputs": [
    {
     "name": "stderr",
     "output_type": "stream",
     "text": [
      "C:\\Users\\joshsu\\AppData\\Local\\Temp\\ipykernel_35472\\559688894.py:40: SettingWithCopyWarning: \n",
      "A value is trying to be set on a copy of a slice from a DataFrame\n",
      "\n",
      "See the caveats in the documentation: https://pandas.pydata.org/pandas-docs/stable/user_guide/indexing.html#returning-a-view-versus-a-copy\n",
      "  df_table[\"icer_low\"].iloc[i] = np.percentile(icers, 2.5)\n",
      "C:\\Users\\joshsu\\AppData\\Local\\Temp\\ipykernel_35472\\559688894.py:41: SettingWithCopyWarning: \n",
      "A value is trying to be set on a copy of a slice from a DataFrame\n",
      "\n",
      "See the caveats in the documentation: https://pandas.pydata.org/pandas-docs/stable/user_guide/indexing.html#returning-a-view-versus-a-copy\n",
      "  df_table[\"icer_high\"].iloc[i] = np.percentile(icers, 97.5)\n",
      "C:\\Users\\joshsu\\AppData\\Local\\Temp\\ipykernel_35472\\559688894.py:48: SettingWithCopyWarning: \n",
      "A value is trying to be set on a copy of a slice from a DataFrame\n",
      "\n",
      "See the caveats in the documentation: https://pandas.pydata.org/pandas-docs/stable/user_guide/indexing.html#returning-a-view-versus-a-copy\n",
      "  df_table[\"icer_IPTsc_low\"].iloc[i] = np.percentile(icers, 2.5)\n",
      "C:\\Users\\joshsu\\AppData\\Local\\Temp\\ipykernel_35472\\559688894.py:49: SettingWithCopyWarning: \n",
      "A value is trying to be set on a copy of a slice from a DataFrame\n",
      "\n",
      "See the caveats in the documentation: https://pandas.pydata.org/pandas-docs/stable/user_guide/indexing.html#returning-a-view-versus-a-copy\n",
      "  df_table[\"icer_IPTsc_high\"].iloc[i] = np.percentile(icers, 97.5)\n"
     ]
    },
    {
     "data": {
      "text/plain": "     Scenario                    Cases Incremental Cases Averted  \\\n0    No IPTsc  1036.3 (988.5 - 1084.1)           nan (nan - nan)   \n1   SPAQ term    883.5 (840.6 - 926.4)      152.8 (88.5 - 217.1)   \n2  SPAQ month    700.0 (653.2 - 746.8)     183.5 (119.9 - 247.0)   \n3    DP month    594.1 (540.6 - 647.6)      105.9 (34.8 - 177.0)   \n\n  Cost (Funder Perspective) Incremental Cost (Funder Perspective)  \\\n0           0.0 (0.0 - 0.0)                       nan (nan - nan)   \n1     368.3 (248.6 - 487.9)                 368.3 (248.6 - 487.9)   \n2   1063.8 (671.5 - 1456.1)                695.5 (285.4 - 1105.6)   \n3  3653.7 (3250.0 - 4057.4)              2589.9 (2027.0 - 3152.9)   \n\n  ICER (Funder Perspective) Cost (Health System Perspective)  \\\n0           nan (nan - nan)         4870.3 (3678.5 - 6062.0)   \n1           2.4 (1.4 - 4.4)         4750.9 (3711.4 - 5790.3)   \n2           3.8 (1.5 - 7.1)         4933.1 (3984.3 - 5881.8)   \n3        24.5 (13.7 - 73.1)         7217.2 (6355.9 - 8078.5)   \n\n  Incremental Cost (Health System Perspective)  \\\n0                              nan (nan - nan)   \n1                    -119.4 (-1700.8 - 1462.0)   \n2                     182.2 (-1225.1 - 1589.5)   \n3                     2284.2 (1002.8 - 3565.6)   \n\n  ICER (Health System Perspective)  \n0                  nan (nan - nan)  \n1           -0.8 (Dominant - 10.5)  \n2             1.0 (Dominant - 9.3)  \n3                21.6 (8.1 - 68.6)  ",
      "text/html": "<div>\n<style scoped>\n    .dataframe tbody tr th:only-of-type {\n        vertical-align: middle;\n    }\n\n    .dataframe tbody tr th {\n        vertical-align: top;\n    }\n\n    .dataframe thead th {\n        text-align: right;\n    }\n</style>\n<table border=\"1\" class=\"dataframe\">\n  <thead>\n    <tr style=\"text-align: right;\">\n      <th></th>\n      <th>Scenario</th>\n      <th>Cases</th>\n      <th>Incremental Cases Averted</th>\n      <th>Cost (Funder Perspective)</th>\n      <th>Incremental Cost (Funder Perspective)</th>\n      <th>ICER (Funder Perspective)</th>\n      <th>Cost (Health System Perspective)</th>\n      <th>Incremental Cost (Health System Perspective)</th>\n      <th>ICER (Health System Perspective)</th>\n    </tr>\n  </thead>\n  <tbody>\n    <tr>\n      <th>0</th>\n      <td>No IPTsc</td>\n      <td>1036.3 (988.5 - 1084.1)</td>\n      <td>nan (nan - nan)</td>\n      <td>0.0 (0.0 - 0.0)</td>\n      <td>nan (nan - nan)</td>\n      <td>nan (nan - nan)</td>\n      <td>4870.3 (3678.5 - 6062.0)</td>\n      <td>nan (nan - nan)</td>\n      <td>nan (nan - nan)</td>\n    </tr>\n    <tr>\n      <th>1</th>\n      <td>SPAQ term</td>\n      <td>883.5 (840.6 - 926.4)</td>\n      <td>152.8 (88.5 - 217.1)</td>\n      <td>368.3 (248.6 - 487.9)</td>\n      <td>368.3 (248.6 - 487.9)</td>\n      <td>2.4 (1.4 - 4.4)</td>\n      <td>4750.9 (3711.4 - 5790.3)</td>\n      <td>-119.4 (-1700.8 - 1462.0)</td>\n      <td>-0.8 (Dominant - 10.5)</td>\n    </tr>\n    <tr>\n      <th>2</th>\n      <td>SPAQ month</td>\n      <td>700.0 (653.2 - 746.8)</td>\n      <td>183.5 (119.9 - 247.0)</td>\n      <td>1063.8 (671.5 - 1456.1)</td>\n      <td>695.5 (285.4 - 1105.6)</td>\n      <td>3.8 (1.5 - 7.1)</td>\n      <td>4933.1 (3984.3 - 5881.8)</td>\n      <td>182.2 (-1225.1 - 1589.5)</td>\n      <td>1.0 (Dominant - 9.3)</td>\n    </tr>\n    <tr>\n      <th>3</th>\n      <td>DP month</td>\n      <td>594.1 (540.6 - 647.6)</td>\n      <td>105.9 (34.8 - 177.0)</td>\n      <td>3653.7 (3250.0 - 4057.4)</td>\n      <td>2589.9 (2027.0 - 3152.9)</td>\n      <td>24.5 (13.7 - 73.1)</td>\n      <td>7217.2 (6355.9 - 8078.5)</td>\n      <td>2284.2 (1002.8 - 3565.6)</td>\n      <td>21.6 (8.1 - 68.6)</td>\n    </tr>\n  </tbody>\n</table>\n</div>"
     },
     "execution_count": 50,
     "metadata": {},
     "output_type": "execute_result"
    }
   ],
   "source": [
    "df_single = df[(df[\"archetype\"] == \"Sahel\") & (df[\"transmission_level\"] == 0.3)]\n",
    "df_single = df_single[df_single[\"scenario_number\"].isin([0, 6, 7, 9])]\n",
    "df_table = generate_league_table_PRETTY(df_single)\n",
    "df_table"
   ],
   "metadata": {
    "collapsed": false,
    "ExecuteTime": {
     "end_time": "2024-10-18T18:04:06.684288Z",
     "start_time": "2024-10-18T18:04:06.311793Z"
    }
   },
   "id": "67a8935fabf417d8",
   "execution_count": 50
  },
  {
   "cell_type": "markdown",
   "source": [
    "## 40% pfpr"
   ],
   "metadata": {
    "collapsed": false
   },
   "id": "3c2d13a588a28485"
  },
  {
   "cell_type": "code",
   "outputs": [
    {
     "name": "stderr",
     "output_type": "stream",
     "text": [
      "C:\\Users\\joshsu\\AppData\\Local\\Temp\\ipykernel_35472\\559688894.py:40: SettingWithCopyWarning: \n",
      "A value is trying to be set on a copy of a slice from a DataFrame\n",
      "\n",
      "See the caveats in the documentation: https://pandas.pydata.org/pandas-docs/stable/user_guide/indexing.html#returning-a-view-versus-a-copy\n",
      "  df_table[\"icer_low\"].iloc[i] = np.percentile(icers, 2.5)\n",
      "C:\\Users\\joshsu\\AppData\\Local\\Temp\\ipykernel_35472\\559688894.py:41: SettingWithCopyWarning: \n",
      "A value is trying to be set on a copy of a slice from a DataFrame\n",
      "\n",
      "See the caveats in the documentation: https://pandas.pydata.org/pandas-docs/stable/user_guide/indexing.html#returning-a-view-versus-a-copy\n",
      "  df_table[\"icer_high\"].iloc[i] = np.percentile(icers, 97.5)\n",
      "C:\\Users\\joshsu\\AppData\\Local\\Temp\\ipykernel_35472\\559688894.py:48: SettingWithCopyWarning: \n",
      "A value is trying to be set on a copy of a slice from a DataFrame\n",
      "\n",
      "See the caveats in the documentation: https://pandas.pydata.org/pandas-docs/stable/user_guide/indexing.html#returning-a-view-versus-a-copy\n",
      "  df_table[\"icer_IPTsc_low\"].iloc[i] = np.percentile(icers, 2.5)\n",
      "C:\\Users\\joshsu\\AppData\\Local\\Temp\\ipykernel_35472\\559688894.py:49: SettingWithCopyWarning: \n",
      "A value is trying to be set on a copy of a slice from a DataFrame\n",
      "\n",
      "See the caveats in the documentation: https://pandas.pydata.org/pandas-docs/stable/user_guide/indexing.html#returning-a-view-versus-a-copy\n",
      "  df_table[\"icer_IPTsc_high\"].iloc[i] = np.percentile(icers, 97.5)\n"
     ]
    },
    {
     "data": {
      "text/plain": "         Scenario                     Cases Incremental Cases Averted  \\\n0        No IPTsc  1156.1 (1117.1 - 1195.1)           nan (nan - nan)   \n1  u10 SMC - SPAQ   1010.1 (972.1 - 1048.1)      146.1 (91.6 - 200.6)   \n2    u10 SMC - DP    959.9 (915.6 - 1004.2)       50.2 (-8.2 - 108.6)   \n3       SPAQ term     956.0 (915.6 - 996.4)        3.9 (-56.2 - 63.9)   \n4  u15 SMC - SPAQ     928.5 (890.1 - 966.9)       27.5 (-28.2 - 83.2)   \n5    u15 SMC - DP     825.7 (784.0 - 867.4)      102.8 (46.2 - 159.5)   \n6         DP term     820.6 (779.0 - 862.2)        5.2 (-53.7 - 64.0)   \n7      SPAQ month     788.7 (744.6 - 832.8)       31.9 (-28.6 - 92.4)   \n8        DP month     693.1 (648.0 - 738.2)       95.6 (32.6 - 158.6)   \n\n  Cost (Funder Perspective) Incremental Cost (Funder Perspective)  \\\n0           0.0 (0.0 - 0.0)                       nan (nan - nan)   \n1     486.7 (206.8 - 766.5)                 486.7 (206.8 - 766.5)   \n2   1095.6 (814.0 - 1377.2)                609.0 (211.9 - 1006.0)   \n3     383.3 (258.8 - 507.8)             -712.3 (-1020.2 - -404.4)   \n4    864.4 (367.6 - 1361.2)                 481.1 (-31.1 - 993.3)   \n5  1942.7 (1444.7 - 2440.7)               1078.3 (374.8 - 1781.7)   \n6  1279.9 (1149.4 - 1410.4)             -662.8 (-1177.6 - -148.0)   \n7   1108.2 (699.8 - 1516.6)               -171.7 (-600.5 - 257.0)   \n8  3803.4 (3379.7 - 4227.2)              2695.3 (2106.7 - 3283.8)   \n\n   ICER (Funder Perspective) Cost (Health System Perspective)  \\\n0            nan (nan - nan)         5576.2 (4145.9 - 7006.6)   \n1            3.3 (1.3 - 6.4)         5687.5 (4356.9 - 7018.1)   \n2     12.1 (Dominant - 95.9)         6193.1 (4896.8 - 7489.3)   \n3  -183.3 (Dominant - 364.7)         5378.7 (4140.4 - 6616.9)   \n4    17.5 (Dominant - 170.9)         5857.1 (4527.8 - 7186.4)   \n5          10.5 (3.4 - 26.6)         6705.2 (5449.0 - 7961.3)   \n6  -128.3 (Dominant - 344.8)         5887.3 (4774.2 - 7000.4)   \n7     -5.4 (Dominant - 60.6)         5628.8 (4478.6 - 6778.9)   \n8         28.2 (15.9 - 81.7)         8062.1 (6985.9 - 9138.4)   \n\n  Incremental Cost (Health System Perspective)  \\\n0                              nan (nan - nan)   \n1                     111.3 (-1842.3 - 2064.9)   \n2                     505.6 (-1352.1 - 2363.2)   \n3                     -814.4 (-2607.0 - 978.2)   \n4                     478.4 (-1338.3 - 2295.1)   \n5                      848.1 (-980.8 - 2677.0)   \n6                     -817.8 (-2496.2 - 860.5)   \n7                    -258.6 (-1859.1 - 1342.0)   \n8                      2433.4 (858.2 - 4008.6)   \n\n  ICER (Health System Perspective)  \n0                  nan (nan - nan)  \n1            0.8 (Dominant - 15.2)  \n2          10.1 (Dominant - 137.1)  \n3        -209.6 (Dominant - 516.3)  \n4          17.4 (Dominant - 305.9)  \n5            8.2 (Dominant - 34.2)  \n6        -158.3 (Dominant - 523.0)  \n7          -8.1 (Dominant - 200.2)  \n8                25.5 (8.0 - 80.2)  ",
      "text/html": "<div>\n<style scoped>\n    .dataframe tbody tr th:only-of-type {\n        vertical-align: middle;\n    }\n\n    .dataframe tbody tr th {\n        vertical-align: top;\n    }\n\n    .dataframe thead th {\n        text-align: right;\n    }\n</style>\n<table border=\"1\" class=\"dataframe\">\n  <thead>\n    <tr style=\"text-align: right;\">\n      <th></th>\n      <th>Scenario</th>\n      <th>Cases</th>\n      <th>Incremental Cases Averted</th>\n      <th>Cost (Funder Perspective)</th>\n      <th>Incremental Cost (Funder Perspective)</th>\n      <th>ICER (Funder Perspective)</th>\n      <th>Cost (Health System Perspective)</th>\n      <th>Incremental Cost (Health System Perspective)</th>\n      <th>ICER (Health System Perspective)</th>\n    </tr>\n  </thead>\n  <tbody>\n    <tr>\n      <th>0</th>\n      <td>No IPTsc</td>\n      <td>1156.1 (1117.1 - 1195.1)</td>\n      <td>nan (nan - nan)</td>\n      <td>0.0 (0.0 - 0.0)</td>\n      <td>nan (nan - nan)</td>\n      <td>nan (nan - nan)</td>\n      <td>5576.2 (4145.9 - 7006.6)</td>\n      <td>nan (nan - nan)</td>\n      <td>nan (nan - nan)</td>\n    </tr>\n    <tr>\n      <th>1</th>\n      <td>u10 SMC - SPAQ</td>\n      <td>1010.1 (972.1 - 1048.1)</td>\n      <td>146.1 (91.6 - 200.6)</td>\n      <td>486.7 (206.8 - 766.5)</td>\n      <td>486.7 (206.8 - 766.5)</td>\n      <td>3.3 (1.3 - 6.4)</td>\n      <td>5687.5 (4356.9 - 7018.1)</td>\n      <td>111.3 (-1842.3 - 2064.9)</td>\n      <td>0.8 (Dominant - 15.2)</td>\n    </tr>\n    <tr>\n      <th>2</th>\n      <td>u10 SMC - DP</td>\n      <td>959.9 (915.6 - 1004.2)</td>\n      <td>50.2 (-8.2 - 108.6)</td>\n      <td>1095.6 (814.0 - 1377.2)</td>\n      <td>609.0 (211.9 - 1006.0)</td>\n      <td>12.1 (Dominant - 95.9)</td>\n      <td>6193.1 (4896.8 - 7489.3)</td>\n      <td>505.6 (-1352.1 - 2363.2)</td>\n      <td>10.1 (Dominant - 137.1)</td>\n    </tr>\n    <tr>\n      <th>3</th>\n      <td>SPAQ term</td>\n      <td>956.0 (915.6 - 996.4)</td>\n      <td>3.9 (-56.2 - 63.9)</td>\n      <td>383.3 (258.8 - 507.8)</td>\n      <td>-712.3 (-1020.2 - -404.4)</td>\n      <td>-183.3 (Dominant - 364.7)</td>\n      <td>5378.7 (4140.4 - 6616.9)</td>\n      <td>-814.4 (-2607.0 - 978.2)</td>\n      <td>-209.6 (Dominant - 516.3)</td>\n    </tr>\n    <tr>\n      <th>4</th>\n      <td>u15 SMC - SPAQ</td>\n      <td>928.5 (890.1 - 966.9)</td>\n      <td>27.5 (-28.2 - 83.2)</td>\n      <td>864.4 (367.6 - 1361.2)</td>\n      <td>481.1 (-31.1 - 993.3)</td>\n      <td>17.5 (Dominant - 170.9)</td>\n      <td>5857.1 (4527.8 - 7186.4)</td>\n      <td>478.4 (-1338.3 - 2295.1)</td>\n      <td>17.4 (Dominant - 305.9)</td>\n    </tr>\n    <tr>\n      <th>5</th>\n      <td>u15 SMC - DP</td>\n      <td>825.7 (784.0 - 867.4)</td>\n      <td>102.8 (46.2 - 159.5)</td>\n      <td>1942.7 (1444.7 - 2440.7)</td>\n      <td>1078.3 (374.8 - 1781.7)</td>\n      <td>10.5 (3.4 - 26.6)</td>\n      <td>6705.2 (5449.0 - 7961.3)</td>\n      <td>848.1 (-980.8 - 2677.0)</td>\n      <td>8.2 (Dominant - 34.2)</td>\n    </tr>\n    <tr>\n      <th>6</th>\n      <td>DP term</td>\n      <td>820.6 (779.0 - 862.2)</td>\n      <td>5.2 (-53.7 - 64.0)</td>\n      <td>1279.9 (1149.4 - 1410.4)</td>\n      <td>-662.8 (-1177.6 - -148.0)</td>\n      <td>-128.3 (Dominant - 344.8)</td>\n      <td>5887.3 (4774.2 - 7000.4)</td>\n      <td>-817.8 (-2496.2 - 860.5)</td>\n      <td>-158.3 (Dominant - 523.0)</td>\n    </tr>\n    <tr>\n      <th>7</th>\n      <td>SPAQ month</td>\n      <td>788.7 (744.6 - 832.8)</td>\n      <td>31.9 (-28.6 - 92.4)</td>\n      <td>1108.2 (699.8 - 1516.6)</td>\n      <td>-171.7 (-600.5 - 257.0)</td>\n      <td>-5.4 (Dominant - 60.6)</td>\n      <td>5628.8 (4478.6 - 6778.9)</td>\n      <td>-258.6 (-1859.1 - 1342.0)</td>\n      <td>-8.1 (Dominant - 200.2)</td>\n    </tr>\n    <tr>\n      <th>8</th>\n      <td>DP month</td>\n      <td>693.1 (648.0 - 738.2)</td>\n      <td>95.6 (32.6 - 158.6)</td>\n      <td>3803.4 (3379.7 - 4227.2)</td>\n      <td>2695.3 (2106.7 - 3283.8)</td>\n      <td>28.2 (15.9 - 81.7)</td>\n      <td>8062.1 (6985.9 - 9138.4)</td>\n      <td>2433.4 (858.2 - 4008.6)</td>\n      <td>25.5 (8.0 - 80.2)</td>\n    </tr>\n  </tbody>\n</table>\n</div>"
     },
     "execution_count": 51,
     "metadata": {},
     "output_type": "execute_result"
    }
   ],
   "source": [
    "df_single = df[(df[\"archetype\"] == \"Sahel\") & (df[\"transmission_level\"] == 0.4)]\n",
    "df_single = df_single[df_single[\"scenario_number\"].isin([0, 6, 7, 8, 9, 30, 31, 32, 33])]\n",
    "df_table = generate_league_table_PRETTY(df_single)\n",
    "df_table.to_csv(\"league_tables/league_table_sahel_pfpr40_all.csv\", index=False)\n",
    "df_table"
   ],
   "metadata": {
    "collapsed": false,
    "ExecuteTime": {
     "end_time": "2024-10-18T18:04:08.012030Z",
     "start_time": "2024-10-18T18:04:07.528869Z"
    }
   },
   "id": "1cd02e497f688b31",
   "execution_count": 51
  },
  {
   "cell_type": "code",
   "outputs": [
    {
     "name": "stderr",
     "output_type": "stream",
     "text": [
      "C:\\Users\\joshsu\\AppData\\Local\\Temp\\ipykernel_35472\\559688894.py:40: SettingWithCopyWarning: \n",
      "A value is trying to be set on a copy of a slice from a DataFrame\n",
      "\n",
      "See the caveats in the documentation: https://pandas.pydata.org/pandas-docs/stable/user_guide/indexing.html#returning-a-view-versus-a-copy\n",
      "  df_table[\"icer_low\"].iloc[i] = np.percentile(icers, 2.5)\n",
      "C:\\Users\\joshsu\\AppData\\Local\\Temp\\ipykernel_35472\\559688894.py:41: SettingWithCopyWarning: \n",
      "A value is trying to be set on a copy of a slice from a DataFrame\n",
      "\n",
      "See the caveats in the documentation: https://pandas.pydata.org/pandas-docs/stable/user_guide/indexing.html#returning-a-view-versus-a-copy\n",
      "  df_table[\"icer_high\"].iloc[i] = np.percentile(icers, 97.5)\n",
      "C:\\Users\\joshsu\\AppData\\Local\\Temp\\ipykernel_35472\\559688894.py:48: SettingWithCopyWarning: \n",
      "A value is trying to be set on a copy of a slice from a DataFrame\n",
      "\n",
      "See the caveats in the documentation: https://pandas.pydata.org/pandas-docs/stable/user_guide/indexing.html#returning-a-view-versus-a-copy\n",
      "  df_table[\"icer_IPTsc_low\"].iloc[i] = np.percentile(icers, 2.5)\n",
      "C:\\Users\\joshsu\\AppData\\Local\\Temp\\ipykernel_35472\\559688894.py:49: SettingWithCopyWarning: \n",
      "A value is trying to be set on a copy of a slice from a DataFrame\n",
      "\n",
      "See the caveats in the documentation: https://pandas.pydata.org/pandas-docs/stable/user_guide/indexing.html#returning-a-view-versus-a-copy\n",
      "  df_table[\"icer_IPTsc_high\"].iloc[i] = np.percentile(icers, 97.5)\n"
     ]
    },
    {
     "data": {
      "text/plain": "         Scenario                     Cases Incremental Cases Averted  \\\n0        No IPTsc  1156.1 (1117.1 - 1195.1)           nan (nan - nan)   \n1  u10 SMC - SPAQ   1010.1 (972.1 - 1048.1)      146.1 (91.6 - 200.6)   \n2       SPAQ term     956.0 (915.6 - 996.4)       54.0 (-1.4 - 109.5)   \n3  u15 SMC - SPAQ     928.5 (890.1 - 966.9)       27.5 (-28.2 - 83.2)   \n4         DP term     820.6 (779.0 - 862.2)      108.0 (51.5 - 164.5)   \n5      SPAQ month     788.7 (744.6 - 832.8)       31.9 (-28.6 - 92.4)   \n6        DP month     693.1 (648.0 - 738.2)       95.6 (32.6 - 158.6)   \n\n  Cost (Funder Perspective) Incremental Cost (Funder Perspective)  \\\n0           0.0 (0.0 - 0.0)                       nan (nan - nan)   \n1     486.7 (206.8 - 766.5)                 486.7 (206.8 - 766.5)   \n2     383.3 (258.8 - 507.8)               -103.3 (-409.7 - 203.0)   \n3    864.4 (367.6 - 1361.2)                 481.1 (-31.1 - 993.3)   \n4  1279.9 (1149.4 - 1410.4)                 415.5 (-98.2 - 929.2)   \n5   1108.2 (699.8 - 1516.6)               -171.7 (-600.5 - 257.0)   \n6  3803.4 (3379.7 - 4227.2)              2695.3 (2106.7 - 3283.8)   \n\n  ICER (Funder Perspective) Cost (Health System Perspective)  \\\n0           nan (nan - nan)         5576.2 (4145.9 - 7006.6)   \n1           3.3 (1.3 - 6.4)         5687.5 (4356.9 - 7018.1)   \n2     -1.9 (Dominant - 9.0)         5378.7 (4140.4 - 6616.9)   \n3   17.5 (Dominant - 182.2)         5857.1 (4527.8 - 7186.4)   \n4     3.8 (Dominant - 11.4)         5887.3 (4774.2 - 7000.4)   \n5    -5.4 (Dominant - 64.4)         5628.8 (4478.6 - 6778.9)   \n6        28.2 (15.9 - 81.8)         8062.1 (6985.9 - 9138.4)   \n\n  Incremental Cost (Health System Perspective)  \\\n0                              nan (nan - nan)   \n1                     111.3 (-1842.3 - 2064.9)   \n2                    -308.8 (-2126.5 - 1508.8)   \n3                     478.4 (-1338.3 - 2295.1)   \n4                      30.2 (-1703.6 - 1764.0)   \n5                    -258.6 (-1859.1 - 1342.0)   \n6                      2433.4 (858.2 - 4008.6)   \n\n  ICER (Health System Perspective)  \n0                  nan (nan - nan)  \n1            0.8 (Dominant - 15.3)  \n2           -5.7 (Dominant - 65.9)  \n3          17.4 (Dominant - 305.7)  \n4            0.3 (Dominant - 19.1)  \n5          -8.1 (Dominant - 199.8)  \n6                25.5 (7.9 - 80.1)  ",
      "text/html": "<div>\n<style scoped>\n    .dataframe tbody tr th:only-of-type {\n        vertical-align: middle;\n    }\n\n    .dataframe tbody tr th {\n        vertical-align: top;\n    }\n\n    .dataframe thead th {\n        text-align: right;\n    }\n</style>\n<table border=\"1\" class=\"dataframe\">\n  <thead>\n    <tr style=\"text-align: right;\">\n      <th></th>\n      <th>Scenario</th>\n      <th>Cases</th>\n      <th>Incremental Cases Averted</th>\n      <th>Cost (Funder Perspective)</th>\n      <th>Incremental Cost (Funder Perspective)</th>\n      <th>ICER (Funder Perspective)</th>\n      <th>Cost (Health System Perspective)</th>\n      <th>Incremental Cost (Health System Perspective)</th>\n      <th>ICER (Health System Perspective)</th>\n    </tr>\n  </thead>\n  <tbody>\n    <tr>\n      <th>0</th>\n      <td>No IPTsc</td>\n      <td>1156.1 (1117.1 - 1195.1)</td>\n      <td>nan (nan - nan)</td>\n      <td>0.0 (0.0 - 0.0)</td>\n      <td>nan (nan - nan)</td>\n      <td>nan (nan - nan)</td>\n      <td>5576.2 (4145.9 - 7006.6)</td>\n      <td>nan (nan - nan)</td>\n      <td>nan (nan - nan)</td>\n    </tr>\n    <tr>\n      <th>1</th>\n      <td>u10 SMC - SPAQ</td>\n      <td>1010.1 (972.1 - 1048.1)</td>\n      <td>146.1 (91.6 - 200.6)</td>\n      <td>486.7 (206.8 - 766.5)</td>\n      <td>486.7 (206.8 - 766.5)</td>\n      <td>3.3 (1.3 - 6.4)</td>\n      <td>5687.5 (4356.9 - 7018.1)</td>\n      <td>111.3 (-1842.3 - 2064.9)</td>\n      <td>0.8 (Dominant - 15.3)</td>\n    </tr>\n    <tr>\n      <th>2</th>\n      <td>SPAQ term</td>\n      <td>956.0 (915.6 - 996.4)</td>\n      <td>54.0 (-1.4 - 109.5)</td>\n      <td>383.3 (258.8 - 507.8)</td>\n      <td>-103.3 (-409.7 - 203.0)</td>\n      <td>-1.9 (Dominant - 9.0)</td>\n      <td>5378.7 (4140.4 - 6616.9)</td>\n      <td>-308.8 (-2126.5 - 1508.8)</td>\n      <td>-5.7 (Dominant - 65.9)</td>\n    </tr>\n    <tr>\n      <th>3</th>\n      <td>u15 SMC - SPAQ</td>\n      <td>928.5 (890.1 - 966.9)</td>\n      <td>27.5 (-28.2 - 83.2)</td>\n      <td>864.4 (367.6 - 1361.2)</td>\n      <td>481.1 (-31.1 - 993.3)</td>\n      <td>17.5 (Dominant - 182.2)</td>\n      <td>5857.1 (4527.8 - 7186.4)</td>\n      <td>478.4 (-1338.3 - 2295.1)</td>\n      <td>17.4 (Dominant - 305.7)</td>\n    </tr>\n    <tr>\n      <th>4</th>\n      <td>DP term</td>\n      <td>820.6 (779.0 - 862.2)</td>\n      <td>108.0 (51.5 - 164.5)</td>\n      <td>1279.9 (1149.4 - 1410.4)</td>\n      <td>415.5 (-98.2 - 929.2)</td>\n      <td>3.8 (Dominant - 11.4)</td>\n      <td>5887.3 (4774.2 - 7000.4)</td>\n      <td>30.2 (-1703.6 - 1764.0)</td>\n      <td>0.3 (Dominant - 19.1)</td>\n    </tr>\n    <tr>\n      <th>5</th>\n      <td>SPAQ month</td>\n      <td>788.7 (744.6 - 832.8)</td>\n      <td>31.9 (-28.6 - 92.4)</td>\n      <td>1108.2 (699.8 - 1516.6)</td>\n      <td>-171.7 (-600.5 - 257.0)</td>\n      <td>-5.4 (Dominant - 64.4)</td>\n      <td>5628.8 (4478.6 - 6778.9)</td>\n      <td>-258.6 (-1859.1 - 1342.0)</td>\n      <td>-8.1 (Dominant - 199.8)</td>\n    </tr>\n    <tr>\n      <th>6</th>\n      <td>DP month</td>\n      <td>693.1 (648.0 - 738.2)</td>\n      <td>95.6 (32.6 - 158.6)</td>\n      <td>3803.4 (3379.7 - 4227.2)</td>\n      <td>2695.3 (2106.7 - 3283.8)</td>\n      <td>28.2 (15.9 - 81.8)</td>\n      <td>8062.1 (6985.9 - 9138.4)</td>\n      <td>2433.4 (858.2 - 4008.6)</td>\n      <td>25.5 (7.9 - 80.1)</td>\n    </tr>\n  </tbody>\n</table>\n</div>"
     },
     "execution_count": 52,
     "metadata": {},
     "output_type": "execute_result"
    }
   ],
   "source": [
    "df_single = df[(df[\"archetype\"] == \"Sahel\") & (df[\"transmission_level\"] == 0.4)]\n",
    "df_single = df_single[df_single[\"scenario_number\"].isin([0, 6, 7, 8, 9, 30, 31])]\n",
    "df_table = generate_league_table_PRETTY(df_single)\n",
    "df_table"
   ],
   "metadata": {
    "collapsed": false,
    "ExecuteTime": {
     "end_time": "2024-10-18T18:04:09.377385Z",
     "start_time": "2024-10-18T18:04:08.641338Z"
    }
   },
   "id": "e2d7fafed54c5246",
   "execution_count": 52
  },
  {
   "cell_type": "code",
   "outputs": [
    {
     "name": "stderr",
     "output_type": "stream",
     "text": [
      "C:\\Users\\joshsu\\AppData\\Local\\Temp\\ipykernel_35472\\559688894.py:40: SettingWithCopyWarning: \n",
      "A value is trying to be set on a copy of a slice from a DataFrame\n",
      "\n",
      "See the caveats in the documentation: https://pandas.pydata.org/pandas-docs/stable/user_guide/indexing.html#returning-a-view-versus-a-copy\n",
      "  df_table[\"icer_low\"].iloc[i] = np.percentile(icers, 2.5)\n",
      "C:\\Users\\joshsu\\AppData\\Local\\Temp\\ipykernel_35472\\559688894.py:41: SettingWithCopyWarning: \n",
      "A value is trying to be set on a copy of a slice from a DataFrame\n",
      "\n",
      "See the caveats in the documentation: https://pandas.pydata.org/pandas-docs/stable/user_guide/indexing.html#returning-a-view-versus-a-copy\n",
      "  df_table[\"icer_high\"].iloc[i] = np.percentile(icers, 97.5)\n",
      "C:\\Users\\joshsu\\AppData\\Local\\Temp\\ipykernel_35472\\559688894.py:48: SettingWithCopyWarning: \n",
      "A value is trying to be set on a copy of a slice from a DataFrame\n",
      "\n",
      "See the caveats in the documentation: https://pandas.pydata.org/pandas-docs/stable/user_guide/indexing.html#returning-a-view-versus-a-copy\n",
      "  df_table[\"icer_IPTsc_low\"].iloc[i] = np.percentile(icers, 2.5)\n",
      "C:\\Users\\joshsu\\AppData\\Local\\Temp\\ipykernel_35472\\559688894.py:49: SettingWithCopyWarning: \n",
      "A value is trying to be set on a copy of a slice from a DataFrame\n",
      "\n",
      "See the caveats in the documentation: https://pandas.pydata.org/pandas-docs/stable/user_guide/indexing.html#returning-a-view-versus-a-copy\n",
      "  df_table[\"icer_IPTsc_high\"].iloc[i] = np.percentile(icers, 97.5)\n"
     ]
    },
    {
     "data": {
      "text/plain": "         Scenario                     Cases Incremental Cases Averted  \\\n0        No IPTsc  1156.1 (1117.1 - 1195.1)           nan (nan - nan)   \n1       SPAQ term     956.0 (915.6 - 996.4)     200.1 (143.9 - 256.4)   \n2  u15 SMC - SPAQ     928.5 (890.1 - 966.9)       27.5 (-28.2 - 83.2)   \n3      SPAQ month     788.7 (744.6 - 832.8)      139.9 (81.5 - 198.3)   \n4        DP month     693.1 (648.0 - 738.2)       95.6 (32.6 - 158.6)   \n\n  Cost (Funder Perspective) Incremental Cost (Funder Perspective)  \\\n0           0.0 (0.0 - 0.0)                       nan (nan - nan)   \n1     383.3 (258.8 - 507.8)                 383.3 (258.8 - 507.8)   \n2    864.4 (367.6 - 1361.2)                 481.1 (-31.1 - 993.3)   \n3   1108.2 (699.8 - 1516.6)                243.8 (-399.4 - 886.9)   \n4  3803.4 (3379.7 - 4227.2)              2695.3 (2106.7 - 3283.8)   \n\n  ICER (Funder Perspective) Cost (Health System Perspective)  \\\n0           nan (nan - nan)         5576.2 (4145.9 - 7006.6)   \n1           1.9 (1.2 - 3.0)         5378.7 (4140.4 - 6616.9)   \n2   17.5 (Dominant - 182.2)         5857.1 (4527.8 - 7186.4)   \n3      1.7 (Dominant - 7.2)         5628.8 (4478.6 - 6778.9)   \n4        28.2 (15.9 - 81.5)         8062.1 (6985.9 - 9138.4)   \n\n  Incremental Cost (Health System Perspective)  \\\n0                              nan (nan - nan)   \n1                    -197.6 (-2089.5 - 1694.3)   \n2                     478.4 (-1338.3 - 2295.1)   \n3                    -228.3 (-1986.2 - 1529.5)   \n4                      2433.4 (858.2 - 4008.6)   \n\n  ICER (Health System Perspective)  \n0                  nan (nan - nan)  \n1            -1.0 (Dominant - 8.8)  \n2          17.4 (Dominant - 307.8)  \n3           -1.6 (Dominant - 12.0)  \n4                25.5 (8.0 - 79.1)  ",
      "text/html": "<div>\n<style scoped>\n    .dataframe tbody tr th:only-of-type {\n        vertical-align: middle;\n    }\n\n    .dataframe tbody tr th {\n        vertical-align: top;\n    }\n\n    .dataframe thead th {\n        text-align: right;\n    }\n</style>\n<table border=\"1\" class=\"dataframe\">\n  <thead>\n    <tr style=\"text-align: right;\">\n      <th></th>\n      <th>Scenario</th>\n      <th>Cases</th>\n      <th>Incremental Cases Averted</th>\n      <th>Cost (Funder Perspective)</th>\n      <th>Incremental Cost (Funder Perspective)</th>\n      <th>ICER (Funder Perspective)</th>\n      <th>Cost (Health System Perspective)</th>\n      <th>Incremental Cost (Health System Perspective)</th>\n      <th>ICER (Health System Perspective)</th>\n    </tr>\n  </thead>\n  <tbody>\n    <tr>\n      <th>0</th>\n      <td>No IPTsc</td>\n      <td>1156.1 (1117.1 - 1195.1)</td>\n      <td>nan (nan - nan)</td>\n      <td>0.0 (0.0 - 0.0)</td>\n      <td>nan (nan - nan)</td>\n      <td>nan (nan - nan)</td>\n      <td>5576.2 (4145.9 - 7006.6)</td>\n      <td>nan (nan - nan)</td>\n      <td>nan (nan - nan)</td>\n    </tr>\n    <tr>\n      <th>1</th>\n      <td>SPAQ term</td>\n      <td>956.0 (915.6 - 996.4)</td>\n      <td>200.1 (143.9 - 256.4)</td>\n      <td>383.3 (258.8 - 507.8)</td>\n      <td>383.3 (258.8 - 507.8)</td>\n      <td>1.9 (1.2 - 3.0)</td>\n      <td>5378.7 (4140.4 - 6616.9)</td>\n      <td>-197.6 (-2089.5 - 1694.3)</td>\n      <td>-1.0 (Dominant - 8.8)</td>\n    </tr>\n    <tr>\n      <th>2</th>\n      <td>u15 SMC - SPAQ</td>\n      <td>928.5 (890.1 - 966.9)</td>\n      <td>27.5 (-28.2 - 83.2)</td>\n      <td>864.4 (367.6 - 1361.2)</td>\n      <td>481.1 (-31.1 - 993.3)</td>\n      <td>17.5 (Dominant - 182.2)</td>\n      <td>5857.1 (4527.8 - 7186.4)</td>\n      <td>478.4 (-1338.3 - 2295.1)</td>\n      <td>17.4 (Dominant - 307.8)</td>\n    </tr>\n    <tr>\n      <th>3</th>\n      <td>SPAQ month</td>\n      <td>788.7 (744.6 - 832.8)</td>\n      <td>139.9 (81.5 - 198.3)</td>\n      <td>1108.2 (699.8 - 1516.6)</td>\n      <td>243.8 (-399.4 - 886.9)</td>\n      <td>1.7 (Dominant - 7.2)</td>\n      <td>5628.8 (4478.6 - 6778.9)</td>\n      <td>-228.3 (-1986.2 - 1529.5)</td>\n      <td>-1.6 (Dominant - 12.0)</td>\n    </tr>\n    <tr>\n      <th>4</th>\n      <td>DP month</td>\n      <td>693.1 (648.0 - 738.2)</td>\n      <td>95.6 (32.6 - 158.6)</td>\n      <td>3803.4 (3379.7 - 4227.2)</td>\n      <td>2695.3 (2106.7 - 3283.8)</td>\n      <td>28.2 (15.9 - 81.5)</td>\n      <td>8062.1 (6985.9 - 9138.4)</td>\n      <td>2433.4 (858.2 - 4008.6)</td>\n      <td>25.5 (8.0 - 79.1)</td>\n    </tr>\n  </tbody>\n</table>\n</div>"
     },
     "execution_count": 53,
     "metadata": {},
     "output_type": "execute_result"
    }
   ],
   "source": [
    "df_single = df[(df[\"archetype\"] == \"Sahel\") & (df[\"transmission_level\"] == 0.4)]\n",
    "df_single = df_single[df_single[\"scenario_number\"].isin([0, 6, 7, 9, 31])]\n",
    "df_table = generate_league_table_PRETTY(df_single)\n",
    "df_table"
   ],
   "metadata": {
    "collapsed": false,
    "ExecuteTime": {
     "end_time": "2024-10-18T18:04:10.714210Z",
     "start_time": "2024-10-18T18:04:10.378792Z"
    }
   },
   "id": "c5eef0472d8bb5cf",
   "execution_count": 53
  },
  {
   "cell_type": "code",
   "outputs": [
    {
     "name": "stderr",
     "output_type": "stream",
     "text": [
      "C:\\Users\\joshsu\\AppData\\Local\\Temp\\ipykernel_35472\\559688894.py:40: SettingWithCopyWarning: \n",
      "A value is trying to be set on a copy of a slice from a DataFrame\n",
      "\n",
      "See the caveats in the documentation: https://pandas.pydata.org/pandas-docs/stable/user_guide/indexing.html#returning-a-view-versus-a-copy\n",
      "  df_table[\"icer_low\"].iloc[i] = np.percentile(icers, 2.5)\n",
      "C:\\Users\\joshsu\\AppData\\Local\\Temp\\ipykernel_35472\\559688894.py:41: SettingWithCopyWarning: \n",
      "A value is trying to be set on a copy of a slice from a DataFrame\n",
      "\n",
      "See the caveats in the documentation: https://pandas.pydata.org/pandas-docs/stable/user_guide/indexing.html#returning-a-view-versus-a-copy\n",
      "  df_table[\"icer_high\"].iloc[i] = np.percentile(icers, 97.5)\n",
      "C:\\Users\\joshsu\\AppData\\Local\\Temp\\ipykernel_35472\\559688894.py:48: SettingWithCopyWarning: \n",
      "A value is trying to be set on a copy of a slice from a DataFrame\n",
      "\n",
      "See the caveats in the documentation: https://pandas.pydata.org/pandas-docs/stable/user_guide/indexing.html#returning-a-view-versus-a-copy\n",
      "  df_table[\"icer_IPTsc_low\"].iloc[i] = np.percentile(icers, 2.5)\n",
      "C:\\Users\\joshsu\\AppData\\Local\\Temp\\ipykernel_35472\\559688894.py:49: SettingWithCopyWarning: \n",
      "A value is trying to be set on a copy of a slice from a DataFrame\n",
      "\n",
      "See the caveats in the documentation: https://pandas.pydata.org/pandas-docs/stable/user_guide/indexing.html#returning-a-view-versus-a-copy\n",
      "  df_table[\"icer_IPTsc_high\"].iloc[i] = np.percentile(icers, 97.5)\n"
     ]
    },
    {
     "data": {
      "text/plain": "     Scenario                     Cases Incremental Cases Averted  \\\n0    No IPTsc  1156.1 (1117.1 - 1195.1)           nan (nan - nan)   \n1   SPAQ term     956.0 (915.6 - 996.4)     200.1 (143.9 - 256.4)   \n2  SPAQ month     788.7 (744.6 - 832.8)     167.4 (107.6 - 227.1)   \n3    DP month     693.1 (648.0 - 738.2)       95.6 (32.6 - 158.6)   \n\n  Cost (Funder Perspective) Incremental Cost (Funder Perspective)  \\\n0           0.0 (0.0 - 0.0)                       nan (nan - nan)   \n1     383.3 (258.8 - 507.8)                 383.3 (258.8 - 507.8)   \n2   1108.2 (699.8 - 1516.6)                724.8 (297.9 - 1151.8)   \n3  3803.4 (3379.7 - 4227.2)              2695.3 (2106.7 - 3283.8)   \n\n  ICER (Funder Perspective) Cost (Health System Perspective)  \\\n0           nan (nan - nan)         5576.2 (4145.9 - 7006.6)   \n1           1.9 (1.2 - 3.0)         5378.7 (4140.4 - 6616.9)   \n2           4.3 (1.7 - 8.2)         5628.8 (4478.6 - 6778.9)   \n3        28.2 (15.9 - 81.8)         8062.1 (6985.9 - 9138.4)   \n\n  Incremental Cost (Health System Perspective)  \\\n0                              nan (nan - nan)   \n1                    -197.6 (-2089.5 - 1694.3)   \n2                     250.1 (-1439.9 - 1940.1)   \n3                      2433.4 (858.2 - 4008.6)   \n\n  ICER (Health System Perspective)  \n0                  nan (nan - nan)  \n1            -1.0 (Dominant - 8.8)  \n2            1.5 (Dominant - 12.6)  \n3                25.5 (7.9 - 80.1)  ",
      "text/html": "<div>\n<style scoped>\n    .dataframe tbody tr th:only-of-type {\n        vertical-align: middle;\n    }\n\n    .dataframe tbody tr th {\n        vertical-align: top;\n    }\n\n    .dataframe thead th {\n        text-align: right;\n    }\n</style>\n<table border=\"1\" class=\"dataframe\">\n  <thead>\n    <tr style=\"text-align: right;\">\n      <th></th>\n      <th>Scenario</th>\n      <th>Cases</th>\n      <th>Incremental Cases Averted</th>\n      <th>Cost (Funder Perspective)</th>\n      <th>Incremental Cost (Funder Perspective)</th>\n      <th>ICER (Funder Perspective)</th>\n      <th>Cost (Health System Perspective)</th>\n      <th>Incremental Cost (Health System Perspective)</th>\n      <th>ICER (Health System Perspective)</th>\n    </tr>\n  </thead>\n  <tbody>\n    <tr>\n      <th>0</th>\n      <td>No IPTsc</td>\n      <td>1156.1 (1117.1 - 1195.1)</td>\n      <td>nan (nan - nan)</td>\n      <td>0.0 (0.0 - 0.0)</td>\n      <td>nan (nan - nan)</td>\n      <td>nan (nan - nan)</td>\n      <td>5576.2 (4145.9 - 7006.6)</td>\n      <td>nan (nan - nan)</td>\n      <td>nan (nan - nan)</td>\n    </tr>\n    <tr>\n      <th>1</th>\n      <td>SPAQ term</td>\n      <td>956.0 (915.6 - 996.4)</td>\n      <td>200.1 (143.9 - 256.4)</td>\n      <td>383.3 (258.8 - 507.8)</td>\n      <td>383.3 (258.8 - 507.8)</td>\n      <td>1.9 (1.2 - 3.0)</td>\n      <td>5378.7 (4140.4 - 6616.9)</td>\n      <td>-197.6 (-2089.5 - 1694.3)</td>\n      <td>-1.0 (Dominant - 8.8)</td>\n    </tr>\n    <tr>\n      <th>2</th>\n      <td>SPAQ month</td>\n      <td>788.7 (744.6 - 832.8)</td>\n      <td>167.4 (107.6 - 227.1)</td>\n      <td>1108.2 (699.8 - 1516.6)</td>\n      <td>724.8 (297.9 - 1151.8)</td>\n      <td>4.3 (1.7 - 8.2)</td>\n      <td>5628.8 (4478.6 - 6778.9)</td>\n      <td>250.1 (-1439.9 - 1940.1)</td>\n      <td>1.5 (Dominant - 12.6)</td>\n    </tr>\n    <tr>\n      <th>3</th>\n      <td>DP month</td>\n      <td>693.1 (648.0 - 738.2)</td>\n      <td>95.6 (32.6 - 158.6)</td>\n      <td>3803.4 (3379.7 - 4227.2)</td>\n      <td>2695.3 (2106.7 - 3283.8)</td>\n      <td>28.2 (15.9 - 81.8)</td>\n      <td>8062.1 (6985.9 - 9138.4)</td>\n      <td>2433.4 (858.2 - 4008.6)</td>\n      <td>25.5 (7.9 - 80.1)</td>\n    </tr>\n  </tbody>\n</table>\n</div>"
     },
     "execution_count": 55,
     "metadata": {},
     "output_type": "execute_result"
    }
   ],
   "source": [
    "df_single = df[(df[\"archetype\"] == \"Sahel\") & (df[\"transmission_level\"] == 0.4)]\n",
    "df_single = df_single[df_single[\"scenario_number\"].isin([0, 6, 7, 9])]\n",
    "df_table = generate_league_table_PRETTY(df_single)\n",
    "df_table.to_csv(\"league_tables/league_table_sahel_pfpr40_reduced.csv\", index=False)\n",
    "df_table"
   ],
   "metadata": {
    "collapsed": false,
    "ExecuteTime": {
     "end_time": "2024-10-18T18:05:51.410332Z",
     "start_time": "2024-10-18T18:05:51.230343Z"
    }
   },
   "id": "3272abb4d5705925",
   "execution_count": 55
  },
  {
   "cell_type": "code",
   "outputs": [
    {
     "data": {
      "text/plain": "5"
     },
     "execution_count": 56,
     "metadata": {},
     "output_type": "execute_result"
    }
   ],
   "source": [
    "5"
   ],
   "metadata": {
    "collapsed": false,
    "ExecuteTime": {
     "end_time": "2024-10-18T18:05:55.912901Z",
     "start_time": "2024-10-18T18:05:55.900653Z"
    }
   },
   "id": "61b149b63bbb1769",
   "execution_count": 56
  },
  {
   "cell_type": "markdown",
   "source": [
    "# How does higher-ITN compare?\n",
    "Make league table with just scenarios 0 and 5 for each archetype and transmission level"
   ],
   "metadata": {
    "collapsed": false
   },
   "id": "1a1b2cd4377ddb77"
  },
  {
   "cell_type": "code",
   "outputs": [
    {
     "name": "stdout",
     "output_type": "stream",
     "text": [
      "248.0\n"
     ]
    }
   ],
   "source": [
    "# ITN cost for higher coverage: 20% higher coverage of 5000 people\n",
    "total_cost = 0.2*5000*2.48/2 # Factor of 2 accounts for the fact that the IPTsc has to be done every year, while the ITN distribution was only done in the first year\n",
    "# print(total_cost)\n",
    "itn_cost_per_1k = total_cost/5\n",
    "print(itn_cost_per_1k)"
   ],
   "metadata": {
    "collapsed": false,
    "ExecuteTime": {
     "end_time": "2024-10-18T18:08:26.343755Z",
     "start_time": "2024-10-18T18:08:26.335754Z"
    }
   },
   "id": "660231c95b9256d1",
   "execution_count": 62
  },
  {
   "cell_type": "code",
   "outputs": [],
   "source": [
    "# Set cost_IPTsc_mean for scenario 5 to be itn_cost_per_1k\n",
    "df.loc[(df[\"scenario_number\"] == 5), \"cost_IPTsc_mean\"] = itn_cost_per_1k"
   ],
   "metadata": {
    "collapsed": false,
    "ExecuteTime": {
     "end_time": "2024-10-18T18:10:09.416571Z",
     "start_time": "2024-10-18T18:10:09.404540Z"
    }
   },
   "id": "bfba3c79c0eb8c68",
   "execution_count": 65
  },
  {
   "cell_type": "code",
   "outputs": [
    {
     "name": "stderr",
     "output_type": "stream",
     "text": [
      "C:\\Users\\joshsu\\AppData\\Local\\Temp\\ipykernel_35472\\559688894.py:40: SettingWithCopyWarning: \n",
      "A value is trying to be set on a copy of a slice from a DataFrame\n",
      "\n",
      "See the caveats in the documentation: https://pandas.pydata.org/pandas-docs/stable/user_guide/indexing.html#returning-a-view-versus-a-copy\n",
      "  df_table[\"icer_low\"].iloc[i] = np.percentile(icers, 2.5)\n",
      "C:\\Users\\joshsu\\AppData\\Local\\Temp\\ipykernel_35472\\559688894.py:41: SettingWithCopyWarning: \n",
      "A value is trying to be set on a copy of a slice from a DataFrame\n",
      "\n",
      "See the caveats in the documentation: https://pandas.pydata.org/pandas-docs/stable/user_guide/indexing.html#returning-a-view-versus-a-copy\n",
      "  df_table[\"icer_high\"].iloc[i] = np.percentile(icers, 97.5)\n",
      "C:\\Users\\joshsu\\AppData\\Local\\Temp\\ipykernel_35472\\559688894.py:48: SettingWithCopyWarning: \n",
      "A value is trying to be set on a copy of a slice from a DataFrame\n",
      "\n",
      "See the caveats in the documentation: https://pandas.pydata.org/pandas-docs/stable/user_guide/indexing.html#returning-a-view-versus-a-copy\n",
      "  df_table[\"icer_IPTsc_low\"].iloc[i] = np.percentile(icers, 2.5)\n",
      "C:\\Users\\joshsu\\AppData\\Local\\Temp\\ipykernel_35472\\559688894.py:49: SettingWithCopyWarning: \n",
      "A value is trying to be set on a copy of a slice from a DataFrame\n",
      "\n",
      "See the caveats in the documentation: https://pandas.pydata.org/pandas-docs/stable/user_guide/indexing.html#returning-a-view-versus-a-copy\n",
      "  df_table[\"icer_IPTsc_high\"].iloc[i] = np.percentile(icers, 97.5)\n"
     ]
    },
    {
     "data": {
      "text/plain": "                Scenario                  Cases Incremental Cases Averted  \\\n0               No IPTsc  663.5 (570.2 - 756.8)           nan (nan - nan)   \n1  No IPTsc - higher ITN  587.2 (462.7 - 711.7)      76.3 (-79.2 - 231.8)   \n\n  Cost (Funder Perspective) Incremental Cost (Funder Perspective)  \\\n0           0.0 (0.0 - 0.0)                       nan (nan - nan)   \n1     248.0 (248.0 - 248.0)                 248.0 (248.0 - 248.0)   \n\n  ICER (Funder Perspective) Cost (Health System Perspective)  \\\n0           nan (nan - nan)         2351.6 (1816.3 - 2886.8)   \n1     3.2 (Dominant - 32.0)         2323.3 (1861.5 - 2785.0)   \n\n  Incremental Cost (Health System Perspective)  \\\n0                              nan (nan - nan)   \n1                       -28.3 (-735.3 - 678.6)   \n\n  ICER (Health System Perspective)  \n0                  nan (nan - nan)  \n1           -0.4 (Dominant - 35.9)  ",
      "text/html": "<div>\n<style scoped>\n    .dataframe tbody tr th:only-of-type {\n        vertical-align: middle;\n    }\n\n    .dataframe tbody tr th {\n        vertical-align: top;\n    }\n\n    .dataframe thead th {\n        text-align: right;\n    }\n</style>\n<table border=\"1\" class=\"dataframe\">\n  <thead>\n    <tr style=\"text-align: right;\">\n      <th></th>\n      <th>Scenario</th>\n      <th>Cases</th>\n      <th>Incremental Cases Averted</th>\n      <th>Cost (Funder Perspective)</th>\n      <th>Incremental Cost (Funder Perspective)</th>\n      <th>ICER (Funder Perspective)</th>\n      <th>Cost (Health System Perspective)</th>\n      <th>Incremental Cost (Health System Perspective)</th>\n      <th>ICER (Health System Perspective)</th>\n    </tr>\n  </thead>\n  <tbody>\n    <tr>\n      <th>0</th>\n      <td>No IPTsc</td>\n      <td>663.5 (570.2 - 756.8)</td>\n      <td>nan (nan - nan)</td>\n      <td>0.0 (0.0 - 0.0)</td>\n      <td>nan (nan - nan)</td>\n      <td>nan (nan - nan)</td>\n      <td>2351.6 (1816.3 - 2886.8)</td>\n      <td>nan (nan - nan)</td>\n      <td>nan (nan - nan)</td>\n    </tr>\n    <tr>\n      <th>1</th>\n      <td>No IPTsc - higher ITN</td>\n      <td>587.2 (462.7 - 711.7)</td>\n      <td>76.3 (-79.2 - 231.8)</td>\n      <td>248.0 (248.0 - 248.0)</td>\n      <td>248.0 (248.0 - 248.0)</td>\n      <td>3.2 (Dominant - 32.0)</td>\n      <td>2323.3 (1861.5 - 2785.0)</td>\n      <td>-28.3 (-735.3 - 678.6)</td>\n      <td>-0.4 (Dominant - 35.9)</td>\n    </tr>\n  </tbody>\n</table>\n</div>"
     },
     "execution_count": 66,
     "metadata": {},
     "output_type": "execute_result"
    }
   ],
   "source": [
    "df_single = df[(df[\"archetype\"] == \"Southern\") & (df[\"scenario_number\"].isin([0, 5])) & (df[\"transmission_level\"] == 0.05)]\n",
    "df_table = generate_league_table_PRETTY(df_single)\n",
    "df_table"
   ],
   "metadata": {
    "collapsed": false,
    "ExecuteTime": {
     "end_time": "2024-10-18T18:10:10.354557Z",
     "start_time": "2024-10-18T18:10:10.213561Z"
    }
   },
   "id": "d1ef5f88cca5e3ca",
   "execution_count": 66
  },
  {
   "cell_type": "code",
   "outputs": [
    {
     "name": "stderr",
     "output_type": "stream",
     "text": [
      "C:\\Users\\joshsu\\AppData\\Local\\Temp\\ipykernel_35472\\559688894.py:40: SettingWithCopyWarning: \n",
      "A value is trying to be set on a copy of a slice from a DataFrame\n",
      "\n",
      "See the caveats in the documentation: https://pandas.pydata.org/pandas-docs/stable/user_guide/indexing.html#returning-a-view-versus-a-copy\n",
      "  df_table[\"icer_low\"].iloc[i] = np.percentile(icers, 2.5)\n",
      "C:\\Users\\joshsu\\AppData\\Local\\Temp\\ipykernel_35472\\559688894.py:41: SettingWithCopyWarning: \n",
      "A value is trying to be set on a copy of a slice from a DataFrame\n",
      "\n",
      "See the caveats in the documentation: https://pandas.pydata.org/pandas-docs/stable/user_guide/indexing.html#returning-a-view-versus-a-copy\n",
      "  df_table[\"icer_high\"].iloc[i] = np.percentile(icers, 97.5)\n",
      "C:\\Users\\joshsu\\AppData\\Local\\Temp\\ipykernel_35472\\559688894.py:48: SettingWithCopyWarning: \n",
      "A value is trying to be set on a copy of a slice from a DataFrame\n",
      "\n",
      "See the caveats in the documentation: https://pandas.pydata.org/pandas-docs/stable/user_guide/indexing.html#returning-a-view-versus-a-copy\n",
      "  df_table[\"icer_IPTsc_low\"].iloc[i] = np.percentile(icers, 2.5)\n",
      "C:\\Users\\joshsu\\AppData\\Local\\Temp\\ipykernel_35472\\559688894.py:49: SettingWithCopyWarning: \n",
      "A value is trying to be set on a copy of a slice from a DataFrame\n",
      "\n",
      "See the caveats in the documentation: https://pandas.pydata.org/pandas-docs/stable/user_guide/indexing.html#returning-a-view-versus-a-copy\n",
      "  df_table[\"icer_IPTsc_high\"].iloc[i] = np.percentile(icers, 97.5)\n"
     ]
    },
    {
     "data": {
      "text/plain": "                Scenario                   Cases Incremental Cases Averted  \\\n0               No IPTsc  998.6 (959.0 - 1038.2)           nan (nan - nan)   \n1  No IPTsc - higher ITN  962.7 (917.8 - 1007.6)       35.9 (-23.9 - 95.8)   \n\n  Cost (Funder Perspective) Incremental Cost (Funder Perspective)  \\\n0           0.0 (0.0 - 0.0)                       nan (nan - nan)   \n1     248.0 (248.0 - 248.0)                 248.0 (248.0 - 248.0)   \n\n  ICER (Funder Perspective) Cost (Health System Perspective)  \\\n0           nan (nan - nan)         3664.5 (2699.8 - 4629.2)   \n1     6.9 (Dominant - 70.8)         3656.7 (2773.9 - 4539.5)   \n\n  Incremental Cost (Health System Perspective)  \\\n0                              nan (nan - nan)   \n1                      -7.8 (-1315.4 - 1299.9)   \n\n  ICER (Health System Perspective)  \n0                  nan (nan - nan)  \n1          -0.2 (Dominant - 142.6)  ",
      "text/html": "<div>\n<style scoped>\n    .dataframe tbody tr th:only-of-type {\n        vertical-align: middle;\n    }\n\n    .dataframe tbody tr th {\n        vertical-align: top;\n    }\n\n    .dataframe thead th {\n        text-align: right;\n    }\n</style>\n<table border=\"1\" class=\"dataframe\">\n  <thead>\n    <tr style=\"text-align: right;\">\n      <th></th>\n      <th>Scenario</th>\n      <th>Cases</th>\n      <th>Incremental Cases Averted</th>\n      <th>Cost (Funder Perspective)</th>\n      <th>Incremental Cost (Funder Perspective)</th>\n      <th>ICER (Funder Perspective)</th>\n      <th>Cost (Health System Perspective)</th>\n      <th>Incremental Cost (Health System Perspective)</th>\n      <th>ICER (Health System Perspective)</th>\n    </tr>\n  </thead>\n  <tbody>\n    <tr>\n      <th>0</th>\n      <td>No IPTsc</td>\n      <td>998.6 (959.0 - 1038.2)</td>\n      <td>nan (nan - nan)</td>\n      <td>0.0 (0.0 - 0.0)</td>\n      <td>nan (nan - nan)</td>\n      <td>nan (nan - nan)</td>\n      <td>3664.5 (2699.8 - 4629.2)</td>\n      <td>nan (nan - nan)</td>\n      <td>nan (nan - nan)</td>\n    </tr>\n    <tr>\n      <th>1</th>\n      <td>No IPTsc - higher ITN</td>\n      <td>962.7 (917.8 - 1007.6)</td>\n      <td>35.9 (-23.9 - 95.8)</td>\n      <td>248.0 (248.0 - 248.0)</td>\n      <td>248.0 (248.0 - 248.0)</td>\n      <td>6.9 (Dominant - 70.8)</td>\n      <td>3656.7 (2773.9 - 4539.5)</td>\n      <td>-7.8 (-1315.4 - 1299.9)</td>\n      <td>-0.2 (Dominant - 142.6)</td>\n    </tr>\n  </tbody>\n</table>\n</div>"
     },
     "execution_count": 67,
     "metadata": {},
     "output_type": "execute_result"
    }
   ],
   "source": [
    "df_single = df[(df[\"archetype\"] == \"Southern\") & (df[\"scenario_number\"].isin([0, 5])) & (df[\"transmission_level\"] == 0.2)]\n",
    "df_table = generate_league_table_PRETTY(df_single)\n",
    "df_table"
   ],
   "metadata": {
    "collapsed": false,
    "ExecuteTime": {
     "end_time": "2024-10-18T18:10:41.588864Z",
     "start_time": "2024-10-18T18:10:41.498685Z"
    }
   },
   "id": "5f1795232236eb88",
   "execution_count": 67
  },
  {
   "cell_type": "code",
   "outputs": [
    {
     "name": "stderr",
     "output_type": "stream",
     "text": [
      "C:\\Users\\joshsu\\AppData\\Local\\Temp\\ipykernel_35472\\559688894.py:40: SettingWithCopyWarning: \n",
      "A value is trying to be set on a copy of a slice from a DataFrame\n",
      "\n",
      "See the caveats in the documentation: https://pandas.pydata.org/pandas-docs/stable/user_guide/indexing.html#returning-a-view-versus-a-copy\n",
      "  df_table[\"icer_low\"].iloc[i] = np.percentile(icers, 2.5)\n",
      "C:\\Users\\joshsu\\AppData\\Local\\Temp\\ipykernel_35472\\559688894.py:41: SettingWithCopyWarning: \n",
      "A value is trying to be set on a copy of a slice from a DataFrame\n",
      "\n",
      "See the caveats in the documentation: https://pandas.pydata.org/pandas-docs/stable/user_guide/indexing.html#returning-a-view-versus-a-copy\n",
      "  df_table[\"icer_high\"].iloc[i] = np.percentile(icers, 97.5)\n",
      "C:\\Users\\joshsu\\AppData\\Local\\Temp\\ipykernel_35472\\559688894.py:48: SettingWithCopyWarning: \n",
      "A value is trying to be set on a copy of a slice from a DataFrame\n",
      "\n",
      "See the caveats in the documentation: https://pandas.pydata.org/pandas-docs/stable/user_guide/indexing.html#returning-a-view-versus-a-copy\n",
      "  df_table[\"icer_IPTsc_low\"].iloc[i] = np.percentile(icers, 2.5)\n",
      "C:\\Users\\joshsu\\AppData\\Local\\Temp\\ipykernel_35472\\559688894.py:49: SettingWithCopyWarning: \n",
      "A value is trying to be set on a copy of a slice from a DataFrame\n",
      "\n",
      "See the caveats in the documentation: https://pandas.pydata.org/pandas-docs/stable/user_guide/indexing.html#returning-a-view-versus-a-copy\n",
      "  df_table[\"icer_IPTsc_high\"].iloc[i] = np.percentile(icers, 97.5)\n"
     ]
    },
    {
     "data": {
      "text/plain": "                Scenario                     Cases Incremental Cases Averted  \\\n0               No IPTsc  1316.3 (1276.7 - 1355.9)           nan (nan - nan)   \n1  No IPTsc - higher ITN  1299.0 (1262.0 - 1336.0)       17.3 (-37.0 - 71.5)   \n\n  Cost (Funder Perspective) Incremental Cost (Funder Perspective)  \\\n0           0.0 (0.0 - 0.0)                       nan (nan - nan)   \n1     248.0 (248.0 - 248.0)                 248.0 (248.0 - 248.0)   \n\n  ICER (Funder Perspective) Cost (Health System Perspective)  \\\n0           nan (nan - nan)         5169.8 (3689.1 - 6650.4)   \n1   14.4 (Dominant - 119.9)         5226.2 (3810.3 - 6642.1)   \n\n  Incremental Cost (Health System Perspective)  \\\n0                              nan (nan - nan)   \n1                      56.4 (-1992.3 - 2105.1)   \n\n  ICER (Health System Perspective)  \n0                  nan (nan - nan)  \n1           3.3 (Dominant - 395.9)  ",
      "text/html": "<div>\n<style scoped>\n    .dataframe tbody tr th:only-of-type {\n        vertical-align: middle;\n    }\n\n    .dataframe tbody tr th {\n        vertical-align: top;\n    }\n\n    .dataframe thead th {\n        text-align: right;\n    }\n</style>\n<table border=\"1\" class=\"dataframe\">\n  <thead>\n    <tr style=\"text-align: right;\">\n      <th></th>\n      <th>Scenario</th>\n      <th>Cases</th>\n      <th>Incremental Cases Averted</th>\n      <th>Cost (Funder Perspective)</th>\n      <th>Incremental Cost (Funder Perspective)</th>\n      <th>ICER (Funder Perspective)</th>\n      <th>Cost (Health System Perspective)</th>\n      <th>Incremental Cost (Health System Perspective)</th>\n      <th>ICER (Health System Perspective)</th>\n    </tr>\n  </thead>\n  <tbody>\n    <tr>\n      <th>0</th>\n      <td>No IPTsc</td>\n      <td>1316.3 (1276.7 - 1355.9)</td>\n      <td>nan (nan - nan)</td>\n      <td>0.0 (0.0 - 0.0)</td>\n      <td>nan (nan - nan)</td>\n      <td>nan (nan - nan)</td>\n      <td>5169.8 (3689.1 - 6650.4)</td>\n      <td>nan (nan - nan)</td>\n      <td>nan (nan - nan)</td>\n    </tr>\n    <tr>\n      <th>1</th>\n      <td>No IPTsc - higher ITN</td>\n      <td>1299.0 (1262.0 - 1336.0)</td>\n      <td>17.3 (-37.0 - 71.5)</td>\n      <td>248.0 (248.0 - 248.0)</td>\n      <td>248.0 (248.0 - 248.0)</td>\n      <td>14.4 (Dominant - 119.9)</td>\n      <td>5226.2 (3810.3 - 6642.1)</td>\n      <td>56.4 (-1992.3 - 2105.1)</td>\n      <td>3.3 (Dominant - 395.9)</td>\n    </tr>\n  </tbody>\n</table>\n</div>"
     },
     "execution_count": 68,
     "metadata": {},
     "output_type": "execute_result"
    }
   ],
   "source": [
    "df_single = df[(df[\"archetype\"] == \"Southern\") & (df[\"scenario_number\"].isin([0, 5])) & (df[\"transmission_level\"] == 0.4)]\n",
    "df_table = generate_league_table_PRETTY(df_single)\n",
    "df_table"
   ],
   "metadata": {
    "collapsed": false,
    "ExecuteTime": {
     "end_time": "2024-10-18T18:11:56.548008Z",
     "start_time": "2024-10-18T18:11:56.480853Z"
    }
   },
   "id": "6a3ec98591d38505",
   "execution_count": 68
  },
  {
   "cell_type": "code",
   "outputs": [
    {
     "name": "stderr",
     "output_type": "stream",
     "text": [
      "C:\\Users\\joshsu\\AppData\\Local\\Temp\\ipykernel_35472\\559688894.py:40: SettingWithCopyWarning: \n",
      "A value is trying to be set on a copy of a slice from a DataFrame\n",
      "\n",
      "See the caveats in the documentation: https://pandas.pydata.org/pandas-docs/stable/user_guide/indexing.html#returning-a-view-versus-a-copy\n",
      "  df_table[\"icer_low\"].iloc[i] = np.percentile(icers, 2.5)\n",
      "C:\\Users\\joshsu\\AppData\\Local\\Temp\\ipykernel_35472\\559688894.py:41: SettingWithCopyWarning: \n",
      "A value is trying to be set on a copy of a slice from a DataFrame\n",
      "\n",
      "See the caveats in the documentation: https://pandas.pydata.org/pandas-docs/stable/user_guide/indexing.html#returning-a-view-versus-a-copy\n",
      "  df_table[\"icer_high\"].iloc[i] = np.percentile(icers, 97.5)\n",
      "C:\\Users\\joshsu\\AppData\\Local\\Temp\\ipykernel_35472\\559688894.py:48: SettingWithCopyWarning: \n",
      "A value is trying to be set on a copy of a slice from a DataFrame\n",
      "\n",
      "See the caveats in the documentation: https://pandas.pydata.org/pandas-docs/stable/user_guide/indexing.html#returning-a-view-versus-a-copy\n",
      "  df_table[\"icer_IPTsc_low\"].iloc[i] = np.percentile(icers, 2.5)\n",
      "C:\\Users\\joshsu\\AppData\\Local\\Temp\\ipykernel_35472\\559688894.py:49: SettingWithCopyWarning: \n",
      "A value is trying to be set on a copy of a slice from a DataFrame\n",
      "\n",
      "See the caveats in the documentation: https://pandas.pydata.org/pandas-docs/stable/user_guide/indexing.html#returning-a-view-versus-a-copy\n",
      "  df_table[\"icer_IPTsc_high\"].iloc[i] = np.percentile(icers, 97.5)\n"
     ]
    },
    {
     "data": {
      "text/plain": "                Scenario                     Cases Incremental Cases Averted  \\\n0               No IPTsc  1205.9 (1139.3 - 1272.5)           nan (nan - nan)   \n1  No IPTsc - higher ITN   1031.3 (915.5 - 1147.1)      174.6 (40.9 - 308.3)   \n\n  Cost (Funder Perspective) Incremental Cost (Funder Perspective)  \\\n0           0.0 (0.0 - 0.0)                       nan (nan - nan)   \n1     248.0 (248.0 - 248.0)                 248.0 (248.0 - 248.0)   \n\n  ICER (Funder Perspective) Cost (Health System Perspective)  \\\n0           nan (nan - nan)         3221.5 (2393.6 - 4049.5)   \n1           1.4 (0.8 - 5.3)         2952.0 (2276.6 - 3627.3)   \n\n  Incremental Cost (Health System Perspective)  \\\n0                              nan (nan - nan)   \n1                     -269.6 (-1338.1 - 798.9)   \n\n  ICER (Health System Perspective)  \n0                  nan (nan - nan)  \n1            -1.5 (Dominant - 6.3)  ",
      "text/html": "<div>\n<style scoped>\n    .dataframe tbody tr th:only-of-type {\n        vertical-align: middle;\n    }\n\n    .dataframe tbody tr th {\n        vertical-align: top;\n    }\n\n    .dataframe thead th {\n        text-align: right;\n    }\n</style>\n<table border=\"1\" class=\"dataframe\">\n  <thead>\n    <tr style=\"text-align: right;\">\n      <th></th>\n      <th>Scenario</th>\n      <th>Cases</th>\n      <th>Incremental Cases Averted</th>\n      <th>Cost (Funder Perspective)</th>\n      <th>Incremental Cost (Funder Perspective)</th>\n      <th>ICER (Funder Perspective)</th>\n      <th>Cost (Health System Perspective)</th>\n      <th>Incremental Cost (Health System Perspective)</th>\n      <th>ICER (Health System Perspective)</th>\n    </tr>\n  </thead>\n  <tbody>\n    <tr>\n      <th>0</th>\n      <td>No IPTsc</td>\n      <td>1205.9 (1139.3 - 1272.5)</td>\n      <td>nan (nan - nan)</td>\n      <td>0.0 (0.0 - 0.0)</td>\n      <td>nan (nan - nan)</td>\n      <td>nan (nan - nan)</td>\n      <td>3221.5 (2393.6 - 4049.5)</td>\n      <td>nan (nan - nan)</td>\n      <td>nan (nan - nan)</td>\n    </tr>\n    <tr>\n      <th>1</th>\n      <td>No IPTsc - higher ITN</td>\n      <td>1031.3 (915.5 - 1147.1)</td>\n      <td>174.6 (40.9 - 308.3)</td>\n      <td>248.0 (248.0 - 248.0)</td>\n      <td>248.0 (248.0 - 248.0)</td>\n      <td>1.4 (0.8 - 5.3)</td>\n      <td>2952.0 (2276.6 - 3627.3)</td>\n      <td>-269.6 (-1338.1 - 798.9)</td>\n      <td>-1.5 (Dominant - 6.3)</td>\n    </tr>\n  </tbody>\n</table>\n</div>"
     },
     "execution_count": 69,
     "metadata": {},
     "output_type": "execute_result"
    }
   ],
   "source": [
    "df_single = df[(df[\"archetype\"] == \"Central\") & (df[\"scenario_number\"].isin([0, 5])) & (df[\"transmission_level\"] == 0.05)]\n",
    "df_table = generate_league_table_PRETTY(df_single)\n",
    "df_table"
   ],
   "metadata": {
    "collapsed": false,
    "ExecuteTime": {
     "end_time": "2024-10-18T18:13:03.305884Z",
     "start_time": "2024-10-18T18:13:03.183096Z"
    }
   },
   "id": "8e035d81135db61d",
   "execution_count": 69
  },
  {
   "cell_type": "code",
   "outputs": [
    {
     "name": "stderr",
     "output_type": "stream",
     "text": [
      "C:\\Users\\joshsu\\AppData\\Local\\Temp\\ipykernel_35472\\559688894.py:40: SettingWithCopyWarning: \n",
      "A value is trying to be set on a copy of a slice from a DataFrame\n",
      "\n",
      "See the caveats in the documentation: https://pandas.pydata.org/pandas-docs/stable/user_guide/indexing.html#returning-a-view-versus-a-copy\n",
      "  df_table[\"icer_low\"].iloc[i] = np.percentile(icers, 2.5)\n",
      "C:\\Users\\joshsu\\AppData\\Local\\Temp\\ipykernel_35472\\559688894.py:41: SettingWithCopyWarning: \n",
      "A value is trying to be set on a copy of a slice from a DataFrame\n",
      "\n",
      "See the caveats in the documentation: https://pandas.pydata.org/pandas-docs/stable/user_guide/indexing.html#returning-a-view-versus-a-copy\n",
      "  df_table[\"icer_high\"].iloc[i] = np.percentile(icers, 97.5)\n",
      "C:\\Users\\joshsu\\AppData\\Local\\Temp\\ipykernel_35472\\559688894.py:48: SettingWithCopyWarning: \n",
      "A value is trying to be set on a copy of a slice from a DataFrame\n",
      "\n",
      "See the caveats in the documentation: https://pandas.pydata.org/pandas-docs/stable/user_guide/indexing.html#returning-a-view-versus-a-copy\n",
      "  df_table[\"icer_IPTsc_low\"].iloc[i] = np.percentile(icers, 2.5)\n",
      "C:\\Users\\joshsu\\AppData\\Local\\Temp\\ipykernel_35472\\559688894.py:49: SettingWithCopyWarning: \n",
      "A value is trying to be set on a copy of a slice from a DataFrame\n",
      "\n",
      "See the caveats in the documentation: https://pandas.pydata.org/pandas-docs/stable/user_guide/indexing.html#returning-a-view-versus-a-copy\n",
      "  df_table[\"icer_IPTsc_high\"].iloc[i] = np.percentile(icers, 97.5)\n"
     ]
    },
    {
     "data": {
      "text/plain": "                Scenario                     Cases Incremental Cases Averted  \\\n0               No IPTsc  1336.9 (1296.5 - 1377.3)           nan (nan - nan)   \n1  No IPTsc - higher ITN  1308.6 (1266.7 - 1350.5)       28.3 (-30.1 - 86.6)   \n\n  Cost (Funder Perspective) Incremental Cost (Funder Perspective)  \\\n0           0.0 (0.0 - 0.0)                       nan (nan - nan)   \n1     248.0 (248.0 - 248.0)                 248.0 (248.0 - 248.0)   \n\n  ICER (Funder Perspective) Cost (Health System Perspective)  \\\n0           nan (nan - nan)         4230.3 (3071.7 - 5388.9)   \n1     8.8 (Dominant - 84.3)         4093.5 (3065.0 - 5122.0)   \n\n  Incremental Cost (Health System Perspective)  \\\n0                              nan (nan - nan)   \n1                    -136.8 (-1686.0 - 1412.4)   \n\n  ICER (Health System Perspective)  \n0                  nan (nan - nan)  \n1          -4.8 (Dominant - 219.8)  ",
      "text/html": "<div>\n<style scoped>\n    .dataframe tbody tr th:only-of-type {\n        vertical-align: middle;\n    }\n\n    .dataframe tbody tr th {\n        vertical-align: top;\n    }\n\n    .dataframe thead th {\n        text-align: right;\n    }\n</style>\n<table border=\"1\" class=\"dataframe\">\n  <thead>\n    <tr style=\"text-align: right;\">\n      <th></th>\n      <th>Scenario</th>\n      <th>Cases</th>\n      <th>Incremental Cases Averted</th>\n      <th>Cost (Funder Perspective)</th>\n      <th>Incremental Cost (Funder Perspective)</th>\n      <th>ICER (Funder Perspective)</th>\n      <th>Cost (Health System Perspective)</th>\n      <th>Incremental Cost (Health System Perspective)</th>\n      <th>ICER (Health System Perspective)</th>\n    </tr>\n  </thead>\n  <tbody>\n    <tr>\n      <th>0</th>\n      <td>No IPTsc</td>\n      <td>1336.9 (1296.5 - 1377.3)</td>\n      <td>nan (nan - nan)</td>\n      <td>0.0 (0.0 - 0.0)</td>\n      <td>nan (nan - nan)</td>\n      <td>nan (nan - nan)</td>\n      <td>4230.3 (3071.7 - 5388.9)</td>\n      <td>nan (nan - nan)</td>\n      <td>nan (nan - nan)</td>\n    </tr>\n    <tr>\n      <th>1</th>\n      <td>No IPTsc - higher ITN</td>\n      <td>1308.6 (1266.7 - 1350.5)</td>\n      <td>28.3 (-30.1 - 86.6)</td>\n      <td>248.0 (248.0 - 248.0)</td>\n      <td>248.0 (248.0 - 248.0)</td>\n      <td>8.8 (Dominant - 84.3)</td>\n      <td>4093.5 (3065.0 - 5122.0)</td>\n      <td>-136.8 (-1686.0 - 1412.4)</td>\n      <td>-4.8 (Dominant - 219.8)</td>\n    </tr>\n  </tbody>\n</table>\n</div>"
     },
     "execution_count": 70,
     "metadata": {},
     "output_type": "execute_result"
    }
   ],
   "source": [
    "df_single = df[(df[\"archetype\"] == \"Central\") & (df[\"scenario_number\"].isin([0, 5])) & (df[\"transmission_level\"] == 0.2)]\n",
    "df_table = generate_league_table_PRETTY(df_single)\n",
    "df_table"
   ],
   "metadata": {
    "collapsed": false,
    "ExecuteTime": {
     "end_time": "2024-10-18T18:13:11.462064Z",
     "start_time": "2024-10-18T18:13:11.379776Z"
    }
   },
   "id": "9a42e6604ab9c776",
   "execution_count": 70
  },
  {
   "cell_type": "code",
   "outputs": [
    {
     "name": "stderr",
     "output_type": "stream",
     "text": [
      "C:\\Users\\joshsu\\AppData\\Local\\Temp\\ipykernel_35472\\559688894.py:40: SettingWithCopyWarning: \n",
      "A value is trying to be set on a copy of a slice from a DataFrame\n",
      "\n",
      "See the caveats in the documentation: https://pandas.pydata.org/pandas-docs/stable/user_guide/indexing.html#returning-a-view-versus-a-copy\n",
      "  df_table[\"icer_low\"].iloc[i] = np.percentile(icers, 2.5)\n",
      "C:\\Users\\joshsu\\AppData\\Local\\Temp\\ipykernel_35472\\559688894.py:41: SettingWithCopyWarning: \n",
      "A value is trying to be set on a copy of a slice from a DataFrame\n",
      "\n",
      "See the caveats in the documentation: https://pandas.pydata.org/pandas-docs/stable/user_guide/indexing.html#returning-a-view-versus-a-copy\n",
      "  df_table[\"icer_high\"].iloc[i] = np.percentile(icers, 97.5)\n",
      "C:\\Users\\joshsu\\AppData\\Local\\Temp\\ipykernel_35472\\559688894.py:48: SettingWithCopyWarning: \n",
      "A value is trying to be set on a copy of a slice from a DataFrame\n",
      "\n",
      "See the caveats in the documentation: https://pandas.pydata.org/pandas-docs/stable/user_guide/indexing.html#returning-a-view-versus-a-copy\n",
      "  df_table[\"icer_IPTsc_low\"].iloc[i] = np.percentile(icers, 2.5)\n",
      "C:\\Users\\joshsu\\AppData\\Local\\Temp\\ipykernel_35472\\559688894.py:49: SettingWithCopyWarning: \n",
      "A value is trying to be set on a copy of a slice from a DataFrame\n",
      "\n",
      "See the caveats in the documentation: https://pandas.pydata.org/pandas-docs/stable/user_guide/indexing.html#returning-a-view-versus-a-copy\n",
      "  df_table[\"icer_IPTsc_high\"].iloc[i] = np.percentile(icers, 97.5)\n"
     ]
    },
    {
     "data": {
      "text/plain": "                Scenario                     Cases Incremental Cases Averted  \\\n0               No IPTsc  1432.0 (1399.1 - 1464.9)           nan (nan - nan)   \n1  No IPTsc - higher ITN  1415.8 (1385.8 - 1445.8)       16.2 (-28.2 - 60.7)   \n\n  Cost (Funder Perspective) Incremental Cost (Funder Perspective)  \\\n0           0.0 (0.0 - 0.0)                       nan (nan - nan)   \n1     248.0 (248.0 - 248.0)                 248.0 (248.0 - 248.0)   \n\n  ICER (Funder Perspective) Cost (Health System Perspective)  \\\n0           nan (nan - nan)         5479.9 (3893.4 - 7066.4)   \n1   15.3 (Dominant - 145.9)         5468.4 (3973.5 - 6963.2)   \n\n  Incremental Cost (Health System Perspective)  \\\n0                              nan (nan - nan)   \n1                     -11.5 (-2191.3 - 2168.2)   \n\n  ICER (Health System Perspective)  \n0                  nan (nan - nan)  \n1          -0.7 (Dominant - 485.0)  ",
      "text/html": "<div>\n<style scoped>\n    .dataframe tbody tr th:only-of-type {\n        vertical-align: middle;\n    }\n\n    .dataframe tbody tr th {\n        vertical-align: top;\n    }\n\n    .dataframe thead th {\n        text-align: right;\n    }\n</style>\n<table border=\"1\" class=\"dataframe\">\n  <thead>\n    <tr style=\"text-align: right;\">\n      <th></th>\n      <th>Scenario</th>\n      <th>Cases</th>\n      <th>Incremental Cases Averted</th>\n      <th>Cost (Funder Perspective)</th>\n      <th>Incremental Cost (Funder Perspective)</th>\n      <th>ICER (Funder Perspective)</th>\n      <th>Cost (Health System Perspective)</th>\n      <th>Incremental Cost (Health System Perspective)</th>\n      <th>ICER (Health System Perspective)</th>\n    </tr>\n  </thead>\n  <tbody>\n    <tr>\n      <th>0</th>\n      <td>No IPTsc</td>\n      <td>1432.0 (1399.1 - 1464.9)</td>\n      <td>nan (nan - nan)</td>\n      <td>0.0 (0.0 - 0.0)</td>\n      <td>nan (nan - nan)</td>\n      <td>nan (nan - nan)</td>\n      <td>5479.9 (3893.4 - 7066.4)</td>\n      <td>nan (nan - nan)</td>\n      <td>nan (nan - nan)</td>\n    </tr>\n    <tr>\n      <th>1</th>\n      <td>No IPTsc - higher ITN</td>\n      <td>1415.8 (1385.8 - 1445.8)</td>\n      <td>16.2 (-28.2 - 60.7)</td>\n      <td>248.0 (248.0 - 248.0)</td>\n      <td>248.0 (248.0 - 248.0)</td>\n      <td>15.3 (Dominant - 145.9)</td>\n      <td>5468.4 (3973.5 - 6963.2)</td>\n      <td>-11.5 (-2191.3 - 2168.2)</td>\n      <td>-0.7 (Dominant - 485.0)</td>\n    </tr>\n  </tbody>\n</table>\n</div>"
     },
     "execution_count": 71,
     "metadata": {},
     "output_type": "execute_result"
    }
   ],
   "source": [
    "df_single = df[(df[\"archetype\"] == \"Central\") & (df[\"scenario_number\"].isin([0, 5])) & (df[\"transmission_level\"] == 0.4)]\n",
    "df_table = generate_league_table_PRETTY(df_single)\n",
    "df_table"
   ],
   "metadata": {
    "collapsed": false,
    "ExecuteTime": {
     "end_time": "2024-10-18T18:13:21.645771Z",
     "start_time": "2024-10-18T18:13:21.560588Z"
    }
   },
   "id": "84f2fc8c808b2989",
   "execution_count": 71
  },
  {
   "cell_type": "code",
   "outputs": [
    {
     "name": "stderr",
     "output_type": "stream",
     "text": [
      "C:\\Users\\joshsu\\AppData\\Local\\Temp\\ipykernel_35472\\559688894.py:40: SettingWithCopyWarning: \n",
      "A value is trying to be set on a copy of a slice from a DataFrame\n",
      "\n",
      "See the caveats in the documentation: https://pandas.pydata.org/pandas-docs/stable/user_guide/indexing.html#returning-a-view-versus-a-copy\n",
      "  df_table[\"icer_low\"].iloc[i] = np.percentile(icers, 2.5)\n",
      "C:\\Users\\joshsu\\AppData\\Local\\Temp\\ipykernel_35472\\559688894.py:41: SettingWithCopyWarning: \n",
      "A value is trying to be set on a copy of a slice from a DataFrame\n",
      "\n",
      "See the caveats in the documentation: https://pandas.pydata.org/pandas-docs/stable/user_guide/indexing.html#returning-a-view-versus-a-copy\n",
      "  df_table[\"icer_high\"].iloc[i] = np.percentile(icers, 97.5)\n",
      "C:\\Users\\joshsu\\AppData\\Local\\Temp\\ipykernel_35472\\559688894.py:48: SettingWithCopyWarning: \n",
      "A value is trying to be set on a copy of a slice from a DataFrame\n",
      "\n",
      "See the caveats in the documentation: https://pandas.pydata.org/pandas-docs/stable/user_guide/indexing.html#returning-a-view-versus-a-copy\n",
      "  df_table[\"icer_IPTsc_low\"].iloc[i] = np.percentile(icers, 2.5)\n",
      "C:\\Users\\joshsu\\AppData\\Local\\Temp\\ipykernel_35472\\559688894.py:49: SettingWithCopyWarning: \n",
      "A value is trying to be set on a copy of a slice from a DataFrame\n",
      "\n",
      "See the caveats in the documentation: https://pandas.pydata.org/pandas-docs/stable/user_guide/indexing.html#returning-a-view-versus-a-copy\n",
      "  df_table[\"icer_IPTsc_high\"].iloc[i] = np.percentile(icers, 97.5)\n"
     ]
    },
    {
     "data": {
      "text/plain": "                Scenario                  Cases Incremental Cases Averted  \\\n0               No IPTsc  534.5 (433.2 - 635.8)           nan (nan - nan)   \n1  No IPTsc - higher ITN  422.3 (318.6 - 526.0)     112.2 (-32.8 - 257.2)   \n\n  Cost (Funder Perspective) Incremental Cost (Funder Perspective)  \\\n0           0.0 (0.0 - 0.0)                       nan (nan - nan)   \n1     248.0 (248.0 - 248.0)                 248.0 (248.0 - 248.0)   \n\n  ICER (Funder Perspective) Cost (Health System Perspective)  \\\n0           nan (nan - nan)         2813.7 (2270.3 - 3357.1)   \n1     2.2 (Dominant - 19.2)         2790.7 (2329.1 - 3252.2)   \n\n  Incremental Cost (Health System Perspective)  \\\n0                              nan (nan - nan)   \n1                       -23.1 (-736.0 - 689.9)   \n\n  ICER (Health System Perspective)  \n0                  nan (nan - nan)  \n1           -0.2 (Dominant - 20.3)  ",
      "text/html": "<div>\n<style scoped>\n    .dataframe tbody tr th:only-of-type {\n        vertical-align: middle;\n    }\n\n    .dataframe tbody tr th {\n        vertical-align: top;\n    }\n\n    .dataframe thead th {\n        text-align: right;\n    }\n</style>\n<table border=\"1\" class=\"dataframe\">\n  <thead>\n    <tr style=\"text-align: right;\">\n      <th></th>\n      <th>Scenario</th>\n      <th>Cases</th>\n      <th>Incremental Cases Averted</th>\n      <th>Cost (Funder Perspective)</th>\n      <th>Incremental Cost (Funder Perspective)</th>\n      <th>ICER (Funder Perspective)</th>\n      <th>Cost (Health System Perspective)</th>\n      <th>Incremental Cost (Health System Perspective)</th>\n      <th>ICER (Health System Perspective)</th>\n    </tr>\n  </thead>\n  <tbody>\n    <tr>\n      <th>0</th>\n      <td>No IPTsc</td>\n      <td>534.5 (433.2 - 635.8)</td>\n      <td>nan (nan - nan)</td>\n      <td>0.0 (0.0 - 0.0)</td>\n      <td>nan (nan - nan)</td>\n      <td>nan (nan - nan)</td>\n      <td>2813.7 (2270.3 - 3357.1)</td>\n      <td>nan (nan - nan)</td>\n      <td>nan (nan - nan)</td>\n    </tr>\n    <tr>\n      <th>1</th>\n      <td>No IPTsc - higher ITN</td>\n      <td>422.3 (318.6 - 526.0)</td>\n      <td>112.2 (-32.8 - 257.2)</td>\n      <td>248.0 (248.0 - 248.0)</td>\n      <td>248.0 (248.0 - 248.0)</td>\n      <td>2.2 (Dominant - 19.2)</td>\n      <td>2790.7 (2329.1 - 3252.2)</td>\n      <td>-23.1 (-736.0 - 689.9)</td>\n      <td>-0.2 (Dominant - 20.3)</td>\n    </tr>\n  </tbody>\n</table>\n</div>"
     },
     "execution_count": 72,
     "metadata": {},
     "output_type": "execute_result"
    }
   ],
   "source": [
    "df_single = df[(df[\"archetype\"] == \"Sahel\") & (df[\"scenario_number\"].isin([0, 5])) & (df[\"transmission_level\"] == 0.05)]\n",
    "df_table = generate_league_table_PRETTY(df_single)\n",
    "df_table"
   ],
   "metadata": {
    "collapsed": false,
    "ExecuteTime": {
     "end_time": "2024-10-18T18:13:59.377746Z",
     "start_time": "2024-10-18T18:13:59.264747Z"
    }
   },
   "id": "64bb2e19a1b35067",
   "execution_count": 72
  },
  {
   "cell_type": "code",
   "outputs": [
    {
     "name": "stderr",
     "output_type": "stream",
     "text": [
      "C:\\Users\\joshsu\\AppData\\Local\\Temp\\ipykernel_35472\\559688894.py:40: SettingWithCopyWarning: \n",
      "A value is trying to be set on a copy of a slice from a DataFrame\n",
      "\n",
      "See the caveats in the documentation: https://pandas.pydata.org/pandas-docs/stable/user_guide/indexing.html#returning-a-view-versus-a-copy\n",
      "  df_table[\"icer_low\"].iloc[i] = np.percentile(icers, 2.5)\n",
      "C:\\Users\\joshsu\\AppData\\Local\\Temp\\ipykernel_35472\\559688894.py:41: SettingWithCopyWarning: \n",
      "A value is trying to be set on a copy of a slice from a DataFrame\n",
      "\n",
      "See the caveats in the documentation: https://pandas.pydata.org/pandas-docs/stable/user_guide/indexing.html#returning-a-view-versus-a-copy\n",
      "  df_table[\"icer_high\"].iloc[i] = np.percentile(icers, 97.5)\n",
      "C:\\Users\\joshsu\\AppData\\Local\\Temp\\ipykernel_35472\\559688894.py:48: SettingWithCopyWarning: \n",
      "A value is trying to be set on a copy of a slice from a DataFrame\n",
      "\n",
      "See the caveats in the documentation: https://pandas.pydata.org/pandas-docs/stable/user_guide/indexing.html#returning-a-view-versus-a-copy\n",
      "  df_table[\"icer_IPTsc_low\"].iloc[i] = np.percentile(icers, 2.5)\n",
      "C:\\Users\\joshsu\\AppData\\Local\\Temp\\ipykernel_35472\\559688894.py:49: SettingWithCopyWarning: \n",
      "A value is trying to be set on a copy of a slice from a DataFrame\n",
      "\n",
      "See the caveats in the documentation: https://pandas.pydata.org/pandas-docs/stable/user_guide/indexing.html#returning-a-view-versus-a-copy\n",
      "  df_table[\"icer_IPTsc_high\"].iloc[i] = np.percentile(icers, 97.5)\n"
     ]
    },
    {
     "data": {
      "text/plain": "                Scenario                  Cases Incremental Cases Averted  \\\n0               No IPTsc  906.9 (861.2 - 952.6)           nan (nan - nan)   \n1  No IPTsc - higher ITN  840.2 (796.7 - 883.7)        66.8 (3.7 - 129.8)   \n\n  Cost (Funder Perspective) Incremental Cost (Funder Perspective)  \\\n0           0.0 (0.0 - 0.0)                       nan (nan - nan)   \n1     248.0 (248.0 - 248.0)                 248.0 (248.0 - 248.0)   \n\n  ICER (Funder Perspective) Cost (Health System Perspective)  \\\n0           nan (nan - nan)         4215.1 (3242.5 - 5187.7)   \n1          3.7 (1.7 - 20.1)         4201.9 (3318.4 - 5085.3)   \n\n  Incremental Cost (Health System Perspective)  \\\n0                              nan (nan - nan)   \n1                     -13.2 (-1327.2 - 1300.7)   \n\n  ICER (Health System Perspective)  \n0                  nan (nan - nan)  \n1           -0.2 (Dominant - 39.5)  ",
      "text/html": "<div>\n<style scoped>\n    .dataframe tbody tr th:only-of-type {\n        vertical-align: middle;\n    }\n\n    .dataframe tbody tr th {\n        vertical-align: top;\n    }\n\n    .dataframe thead th {\n        text-align: right;\n    }\n</style>\n<table border=\"1\" class=\"dataframe\">\n  <thead>\n    <tr style=\"text-align: right;\">\n      <th></th>\n      <th>Scenario</th>\n      <th>Cases</th>\n      <th>Incremental Cases Averted</th>\n      <th>Cost (Funder Perspective)</th>\n      <th>Incremental Cost (Funder Perspective)</th>\n      <th>ICER (Funder Perspective)</th>\n      <th>Cost (Health System Perspective)</th>\n      <th>Incremental Cost (Health System Perspective)</th>\n      <th>ICER (Health System Perspective)</th>\n    </tr>\n  </thead>\n  <tbody>\n    <tr>\n      <th>0</th>\n      <td>No IPTsc</td>\n      <td>906.9 (861.2 - 952.6)</td>\n      <td>nan (nan - nan)</td>\n      <td>0.0 (0.0 - 0.0)</td>\n      <td>nan (nan - nan)</td>\n      <td>nan (nan - nan)</td>\n      <td>4215.1 (3242.5 - 5187.7)</td>\n      <td>nan (nan - nan)</td>\n      <td>nan (nan - nan)</td>\n    </tr>\n    <tr>\n      <th>1</th>\n      <td>No IPTsc - higher ITN</td>\n      <td>840.2 (796.7 - 883.7)</td>\n      <td>66.8 (3.7 - 129.8)</td>\n      <td>248.0 (248.0 - 248.0)</td>\n      <td>248.0 (248.0 - 248.0)</td>\n      <td>3.7 (1.7 - 20.1)</td>\n      <td>4201.9 (3318.4 - 5085.3)</td>\n      <td>-13.2 (-1327.2 - 1300.7)</td>\n      <td>-0.2 (Dominant - 39.5)</td>\n    </tr>\n  </tbody>\n</table>\n</div>"
     },
     "execution_count": 73,
     "metadata": {},
     "output_type": "execute_result"
    }
   ],
   "source": [
    "df_single = df[(df[\"archetype\"] == \"Sahel\") & (df[\"scenario_number\"].isin([0, 5])) & (df[\"transmission_level\"] == 0.2)]\n",
    "df_table = generate_league_table_PRETTY(df_single)\n",
    "df_table"
   ],
   "metadata": {
    "collapsed": false,
    "ExecuteTime": {
     "end_time": "2024-10-18T18:14:08.281188Z",
     "start_time": "2024-10-18T18:14:08.184070Z"
    }
   },
   "id": "7b1401430b0ff436",
   "execution_count": 73
  },
  {
   "cell_type": "code",
   "outputs": [
    {
     "name": "stderr",
     "output_type": "stream",
     "text": [
      "C:\\Users\\joshsu\\AppData\\Local\\Temp\\ipykernel_35472\\559688894.py:40: SettingWithCopyWarning: \n",
      "A value is trying to be set on a copy of a slice from a DataFrame\n",
      "\n",
      "See the caveats in the documentation: https://pandas.pydata.org/pandas-docs/stable/user_guide/indexing.html#returning-a-view-versus-a-copy\n",
      "  df_table[\"icer_low\"].iloc[i] = np.percentile(icers, 2.5)\n",
      "C:\\Users\\joshsu\\AppData\\Local\\Temp\\ipykernel_35472\\559688894.py:41: SettingWithCopyWarning: \n",
      "A value is trying to be set on a copy of a slice from a DataFrame\n",
      "\n",
      "See the caveats in the documentation: https://pandas.pydata.org/pandas-docs/stable/user_guide/indexing.html#returning-a-view-versus-a-copy\n",
      "  df_table[\"icer_high\"].iloc[i] = np.percentile(icers, 97.5)\n",
      "C:\\Users\\joshsu\\AppData\\Local\\Temp\\ipykernel_35472\\559688894.py:48: SettingWithCopyWarning: \n",
      "A value is trying to be set on a copy of a slice from a DataFrame\n",
      "\n",
      "See the caveats in the documentation: https://pandas.pydata.org/pandas-docs/stable/user_guide/indexing.html#returning-a-view-versus-a-copy\n",
      "  df_table[\"icer_IPTsc_low\"].iloc[i] = np.percentile(icers, 2.5)\n",
      "C:\\Users\\joshsu\\AppData\\Local\\Temp\\ipykernel_35472\\559688894.py:49: SettingWithCopyWarning: \n",
      "A value is trying to be set on a copy of a slice from a DataFrame\n",
      "\n",
      "See the caveats in the documentation: https://pandas.pydata.org/pandas-docs/stable/user_guide/indexing.html#returning-a-view-versus-a-copy\n",
      "  df_table[\"icer_IPTsc_high\"].iloc[i] = np.percentile(icers, 97.5)\n"
     ]
    },
    {
     "data": {
      "text/plain": "                Scenario                     Cases Incremental Cases Averted  \\\n0               No IPTsc  1156.1 (1117.1 - 1195.1)           nan (nan - nan)   \n1  No IPTsc - higher ITN  1096.0 (1053.7 - 1138.3)        60.1 (2.4 - 117.8)   \n\n  Cost (Funder Perspective) Incremental Cost (Funder Perspective)  \\\n0           0.0 (0.0 - 0.0)                       nan (nan - nan)   \n1     248.0 (248.0 - 248.0)                 248.0 (248.0 - 248.0)   \n\n  ICER (Funder Perspective) Cost (Health System Perspective)  \\\n0           nan (nan - nan)         5576.2 (4145.9 - 7006.6)   \n1          4.1 (1.8 - 24.3)         5602.1 (4250.4 - 6953.9)   \n\n  Incremental Cost (Health System Perspective)  \\\n0                              nan (nan - nan)   \n1                      25.9 (-1942.2 - 1993.9)   \n\n  ICER (Health System Perspective)  \n0                  nan (nan - nan)  \n1            0.4 (Dominant - 67.9)  ",
      "text/html": "<div>\n<style scoped>\n    .dataframe tbody tr th:only-of-type {\n        vertical-align: middle;\n    }\n\n    .dataframe tbody tr th {\n        vertical-align: top;\n    }\n\n    .dataframe thead th {\n        text-align: right;\n    }\n</style>\n<table border=\"1\" class=\"dataframe\">\n  <thead>\n    <tr style=\"text-align: right;\">\n      <th></th>\n      <th>Scenario</th>\n      <th>Cases</th>\n      <th>Incremental Cases Averted</th>\n      <th>Cost (Funder Perspective)</th>\n      <th>Incremental Cost (Funder Perspective)</th>\n      <th>ICER (Funder Perspective)</th>\n      <th>Cost (Health System Perspective)</th>\n      <th>Incremental Cost (Health System Perspective)</th>\n      <th>ICER (Health System Perspective)</th>\n    </tr>\n  </thead>\n  <tbody>\n    <tr>\n      <th>0</th>\n      <td>No IPTsc</td>\n      <td>1156.1 (1117.1 - 1195.1)</td>\n      <td>nan (nan - nan)</td>\n      <td>0.0 (0.0 - 0.0)</td>\n      <td>nan (nan - nan)</td>\n      <td>nan (nan - nan)</td>\n      <td>5576.2 (4145.9 - 7006.6)</td>\n      <td>nan (nan - nan)</td>\n      <td>nan (nan - nan)</td>\n    </tr>\n    <tr>\n      <th>1</th>\n      <td>No IPTsc - higher ITN</td>\n      <td>1096.0 (1053.7 - 1138.3)</td>\n      <td>60.1 (2.4 - 117.8)</td>\n      <td>248.0 (248.0 - 248.0)</td>\n      <td>248.0 (248.0 - 248.0)</td>\n      <td>4.1 (1.8 - 24.3)</td>\n      <td>5602.1 (4250.4 - 6953.9)</td>\n      <td>25.9 (-1942.2 - 1993.9)</td>\n      <td>0.4 (Dominant - 67.9)</td>\n    </tr>\n  </tbody>\n</table>\n</div>"
     },
     "execution_count": 74,
     "metadata": {},
     "output_type": "execute_result"
    }
   ],
   "source": [
    "df_single = df[(df[\"archetype\"] == \"Sahel\") & (df[\"scenario_number\"].isin([0, 5])) & (df[\"transmission_level\"] == 0.4)]\n",
    "df_table = generate_league_table_PRETTY(df_single)\n",
    "df_table"
   ],
   "metadata": {
    "collapsed": false,
    "ExecuteTime": {
     "end_time": "2024-10-18T18:14:24.461539Z",
     "start_time": "2024-10-18T18:14:24.365295Z"
    }
   },
   "id": "f2f9fbd9a8e58c6d",
   "execution_count": 74
  },
  {
   "cell_type": "code",
   "outputs": [],
   "source": [
    "itn_funder_icers = np.array([3.2,6.9,14.4,1.4,8.8,15.3,2.2,3.7,4.1])\n",
    "itn_hs_icers = np.array([-0.4,-0.2,3.3,-1.5,-4.8,-0.7,-0.2,-0.2,0.4])"
   ],
   "metadata": {
    "collapsed": false,
    "ExecuteTime": {
     "end_time": "2024-10-18T18:25:23.226534Z",
     "start_time": "2024-10-18T18:25:23.112530Z"
    }
   },
   "id": "51f2f56ddad2bd3f",
   "execution_count": 75
  },
  {
   "cell_type": "code",
   "outputs": [
    {
     "data": {
      "text/plain": "6.666666666666668"
     },
     "execution_count": 76,
     "metadata": {},
     "output_type": "execute_result"
    }
   ],
   "source": [
    "itn_funder_icers.mean()"
   ],
   "metadata": {
    "collapsed": false,
    "ExecuteTime": {
     "end_time": "2024-10-18T18:25:27.414315Z",
     "start_time": "2024-10-18T18:25:27.389331Z"
    }
   },
   "id": "5cc4daa81887b6ed",
   "execution_count": 76
  },
  {
   "cell_type": "code",
   "outputs": [
    {
     "data": {
      "text/plain": "-0.47777777777777786"
     },
     "execution_count": 77,
     "metadata": {},
     "output_type": "execute_result"
    }
   ],
   "source": [
    "itn_hs_icers.mean()"
   ],
   "metadata": {
    "collapsed": false,
    "ExecuteTime": {
     "end_time": "2024-10-18T18:25:29.783102Z",
     "start_time": "2024-10-18T18:25:29.760106Z"
    }
   },
   "id": "2361ca4e0eb7770c",
   "execution_count": 77
  },
  {
   "cell_type": "code",
   "outputs": [
    {
     "data": {
      "text/plain": "4.1"
     },
     "execution_count": 79,
     "metadata": {},
     "output_type": "execute_result"
    }
   ],
   "source": [
    "np.median(itn_funder_icers)"
   ],
   "metadata": {
    "collapsed": false,
    "ExecuteTime": {
     "end_time": "2024-10-18T18:25:44.223993Z",
     "start_time": "2024-10-18T18:25:44.194957Z"
    }
   },
   "id": "634f39cc1ccb193c",
   "execution_count": 79
  },
  {
   "cell_type": "code",
   "outputs": [
    {
     "data": {
      "text/plain": "-0.2"
     },
     "execution_count": 80,
     "metadata": {},
     "output_type": "execute_result"
    }
   ],
   "source": [
    "np.median(itn_hs_icers)"
   ],
   "metadata": {
    "collapsed": false,
    "ExecuteTime": {
     "end_time": "2024-10-18T18:25:48.585485Z",
     "start_time": "2024-10-18T18:25:48.572452Z"
    }
   },
   "id": "71b3414ec246c5bd",
   "execution_count": 80
  },
  {
   "cell_type": "code",
   "outputs": [
    {
     "data": {
      "text/plain": "    archetype  transmission_level  scenario_number    cost_mean    cost_std  \\\n87   Southern                 0.2                0  3664.479750  492.202836   \n102  Southern                 0.2                7  4485.500148  434.233769   \n107  Southern                 0.2                8  4230.775705  380.415075   \n112  Southern                 0.2                9  7352.704375  397.738731   \n\n     cost_IPTsc_mean  cost_IPTsc_std  cases_mean  cases_std    comments  \n87          0.000000        0.000000  998.606661  20.229171    No IPTsc  \n102      1719.331447      273.010255  673.520540  28.706974  ASAQ month  \n107      1252.164820       64.768735  747.883366  28.291114     DP term  \n112      4918.650930      282.028193  513.554611  30.133000    DP month  ",
      "text/html": "<div>\n<style scoped>\n    .dataframe tbody tr th:only-of-type {\n        vertical-align: middle;\n    }\n\n    .dataframe tbody tr th {\n        vertical-align: top;\n    }\n\n    .dataframe thead th {\n        text-align: right;\n    }\n</style>\n<table border=\"1\" class=\"dataframe\">\n  <thead>\n    <tr style=\"text-align: right;\">\n      <th></th>\n      <th>archetype</th>\n      <th>transmission_level</th>\n      <th>scenario_number</th>\n      <th>cost_mean</th>\n      <th>cost_std</th>\n      <th>cost_IPTsc_mean</th>\n      <th>cost_IPTsc_std</th>\n      <th>cases_mean</th>\n      <th>cases_std</th>\n      <th>comments</th>\n    </tr>\n  </thead>\n  <tbody>\n    <tr>\n      <th>87</th>\n      <td>Southern</td>\n      <td>0.2</td>\n      <td>0</td>\n      <td>3664.479750</td>\n      <td>492.202836</td>\n      <td>0.000000</td>\n      <td>0.000000</td>\n      <td>998.606661</td>\n      <td>20.229171</td>\n      <td>No IPTsc</td>\n    </tr>\n    <tr>\n      <th>102</th>\n      <td>Southern</td>\n      <td>0.2</td>\n      <td>7</td>\n      <td>4485.500148</td>\n      <td>434.233769</td>\n      <td>1719.331447</td>\n      <td>273.010255</td>\n      <td>673.520540</td>\n      <td>28.706974</td>\n      <td>ASAQ month</td>\n    </tr>\n    <tr>\n      <th>107</th>\n      <td>Southern</td>\n      <td>0.2</td>\n      <td>8</td>\n      <td>4230.775705</td>\n      <td>380.415075</td>\n      <td>1252.164820</td>\n      <td>64.768735</td>\n      <td>747.883366</td>\n      <td>28.291114</td>\n      <td>DP term</td>\n    </tr>\n    <tr>\n      <th>112</th>\n      <td>Southern</td>\n      <td>0.2</td>\n      <td>9</td>\n      <td>7352.704375</td>\n      <td>397.738731</td>\n      <td>4918.650930</td>\n      <td>282.028193</td>\n      <td>513.554611</td>\n      <td>30.133000</td>\n      <td>DP month</td>\n    </tr>\n  </tbody>\n</table>\n</div>"
     },
     "execution_count": 83,
     "metadata": {},
     "output_type": "execute_result"
    }
   ],
   "source": [
    "# Quick check\n",
    "df_single = df[(df[\"archetype\"] == \"Southern\") & (df[\"transmission_level\"] == 0.2) & (df[\"scenario_number\"].isin([0, 7,8,9]))]\n",
    "df_single"
   ],
   "metadata": {
    "collapsed": false,
    "ExecuteTime": {
     "end_time": "2024-10-18T22:37:10.127913Z",
     "start_time": "2024-10-18T22:37:10.088916Z"
    }
   },
   "id": "b751c2b2c15e838",
   "execution_count": 83
  },
  {
   "cell_type": "code",
   "outputs": [
    {
     "name": "stderr",
     "output_type": "stream",
     "text": [
      "C:\\Users\\joshsu\\AppData\\Local\\Temp\\ipykernel_35472\\559688894.py:40: SettingWithCopyWarning: \n",
      "A value is trying to be set on a copy of a slice from a DataFrame\n",
      "\n",
      "See the caveats in the documentation: https://pandas.pydata.org/pandas-docs/stable/user_guide/indexing.html#returning-a-view-versus-a-copy\n",
      "  df_table[\"icer_low\"].iloc[i] = np.percentile(icers, 2.5)\n",
      "C:\\Users\\joshsu\\AppData\\Local\\Temp\\ipykernel_35472\\559688894.py:41: SettingWithCopyWarning: \n",
      "A value is trying to be set on a copy of a slice from a DataFrame\n",
      "\n",
      "See the caveats in the documentation: https://pandas.pydata.org/pandas-docs/stable/user_guide/indexing.html#returning-a-view-versus-a-copy\n",
      "  df_table[\"icer_high\"].iloc[i] = np.percentile(icers, 97.5)\n",
      "C:\\Users\\joshsu\\AppData\\Local\\Temp\\ipykernel_35472\\559688894.py:48: SettingWithCopyWarning: \n",
      "A value is trying to be set on a copy of a slice from a DataFrame\n",
      "\n",
      "See the caveats in the documentation: https://pandas.pydata.org/pandas-docs/stable/user_guide/indexing.html#returning-a-view-versus-a-copy\n",
      "  df_table[\"icer_IPTsc_low\"].iloc[i] = np.percentile(icers, 2.5)\n",
      "C:\\Users\\joshsu\\AppData\\Local\\Temp\\ipykernel_35472\\559688894.py:49: SettingWithCopyWarning: \n",
      "A value is trying to be set on a copy of a slice from a DataFrame\n",
      "\n",
      "See the caveats in the documentation: https://pandas.pydata.org/pandas-docs/stable/user_guide/indexing.html#returning-a-view-versus-a-copy\n",
      "  df_table[\"icer_IPTsc_high\"].iloc[i] = np.percentile(icers, 97.5)\n"
     ]
    },
    {
     "data": {
      "text/plain": "     Scenario                   Cases Incremental Cases Averted  \\\n0    No IPTsc  998.6 (959.0 - 1038.2)           nan (nan - nan)   \n1     DP term   747.9 (692.4 - 803.4)     250.7 (182.6 - 318.9)   \n2  ASAQ month   673.5 (617.2 - 729.8)       74.4 (-4.6 - 153.4)   \n3    DP month   513.6 (454.6 - 572.6)      160.0 (78.4 - 241.5)   \n\n  Cost (Funder Perspective) Incremental Cost (Funder Perspective)  \\\n0           0.0 (0.0 - 0.0)                       nan (nan - nan)   \n1  1252.2 (1125.2 - 1379.1)              1252.2 (1125.2 - 1379.1)   \n2  1719.3 (1184.2 - 2254.4)                467.2 (-82.8 - 1017.1)   \n3  4918.7 (4365.9 - 5471.4)              3199.3 (2430.0 - 3968.7)   \n\n  ICER (Funder Perspective) Cost (Health System Perspective)  \\\n0           nan (nan - nan)         3664.5 (2699.8 - 4629.2)   \n1           5.0 (3.8 - 7.0)         4230.8 (3485.2 - 4976.4)   \n2     6.3 (Dominant - 46.1)         4485.5 (3634.4 - 5336.6)   \n3        20.0 (12.1 - 42.0)         7352.7 (6573.1 - 8132.3)   \n\n  Incremental Cost (Health System Perspective)  \\\n0                              nan (nan - nan)   \n1                      566.3 (-653.0 - 1785.6)   \n2                      254.7 (-876.8 - 1386.2)   \n3                     2867.2 (1713.0 - 4021.4)   \n\n  ICER (Health System Perspective)  \n0                  nan (nan - nan)  \n1             2.3 (Dominant - 7.5)  \n2            3.4 (Dominant - 48.0)  \n3                17.9 (9.3 - 39.1)  ",
      "text/html": "<div>\n<style scoped>\n    .dataframe tbody tr th:only-of-type {\n        vertical-align: middle;\n    }\n\n    .dataframe tbody tr th {\n        vertical-align: top;\n    }\n\n    .dataframe thead th {\n        text-align: right;\n    }\n</style>\n<table border=\"1\" class=\"dataframe\">\n  <thead>\n    <tr style=\"text-align: right;\">\n      <th></th>\n      <th>Scenario</th>\n      <th>Cases</th>\n      <th>Incremental Cases Averted</th>\n      <th>Cost (Funder Perspective)</th>\n      <th>Incremental Cost (Funder Perspective)</th>\n      <th>ICER (Funder Perspective)</th>\n      <th>Cost (Health System Perspective)</th>\n      <th>Incremental Cost (Health System Perspective)</th>\n      <th>ICER (Health System Perspective)</th>\n    </tr>\n  </thead>\n  <tbody>\n    <tr>\n      <th>0</th>\n      <td>No IPTsc</td>\n      <td>998.6 (959.0 - 1038.2)</td>\n      <td>nan (nan - nan)</td>\n      <td>0.0 (0.0 - 0.0)</td>\n      <td>nan (nan - nan)</td>\n      <td>nan (nan - nan)</td>\n      <td>3664.5 (2699.8 - 4629.2)</td>\n      <td>nan (nan - nan)</td>\n      <td>nan (nan - nan)</td>\n    </tr>\n    <tr>\n      <th>1</th>\n      <td>DP term</td>\n      <td>747.9 (692.4 - 803.4)</td>\n      <td>250.7 (182.6 - 318.9)</td>\n      <td>1252.2 (1125.2 - 1379.1)</td>\n      <td>1252.2 (1125.2 - 1379.1)</td>\n      <td>5.0 (3.8 - 7.0)</td>\n      <td>4230.8 (3485.2 - 4976.4)</td>\n      <td>566.3 (-653.0 - 1785.6)</td>\n      <td>2.3 (Dominant - 7.5)</td>\n    </tr>\n    <tr>\n      <th>2</th>\n      <td>ASAQ month</td>\n      <td>673.5 (617.2 - 729.8)</td>\n      <td>74.4 (-4.6 - 153.4)</td>\n      <td>1719.3 (1184.2 - 2254.4)</td>\n      <td>467.2 (-82.8 - 1017.1)</td>\n      <td>6.3 (Dominant - 46.1)</td>\n      <td>4485.5 (3634.4 - 5336.6)</td>\n      <td>254.7 (-876.8 - 1386.2)</td>\n      <td>3.4 (Dominant - 48.0)</td>\n    </tr>\n    <tr>\n      <th>3</th>\n      <td>DP month</td>\n      <td>513.6 (454.6 - 572.6)</td>\n      <td>160.0 (78.4 - 241.5)</td>\n      <td>4918.7 (4365.9 - 5471.4)</td>\n      <td>3199.3 (2430.0 - 3968.7)</td>\n      <td>20.0 (12.1 - 42.0)</td>\n      <td>7352.7 (6573.1 - 8132.3)</td>\n      <td>2867.2 (1713.0 - 4021.4)</td>\n      <td>17.9 (9.3 - 39.1)</td>\n    </tr>\n  </tbody>\n</table>\n</div>"
     },
     "execution_count": 84,
     "metadata": {},
     "output_type": "execute_result"
    }
   ],
   "source": [
    "generate_league_table_PRETTY(df_single)"
   ],
   "metadata": {
    "collapsed": false,
    "ExecuteTime": {
     "end_time": "2024-10-18T22:37:11.752194Z",
     "start_time": "2024-10-18T22:37:11.609136Z"
    }
   },
   "id": "77a15104674e5366",
   "execution_count": 84
  },
  {
   "cell_type": "code",
   "outputs": [],
   "source": [],
   "metadata": {
    "collapsed": false
   },
   "id": "6ea7742097ff92ba"
  }
 ],
 "metadata": {
  "kernelspec": {
   "display_name": "Python 3",
   "language": "python",
   "name": "python3"
  },
  "language_info": {
   "codemirror_mode": {
    "name": "ipython",
    "version": 2
   },
   "file_extension": ".py",
   "mimetype": "text/x-python",
   "name": "python",
   "nbconvert_exporter": "python",
   "pygments_lexer": "ipython2",
   "version": "2.7.6"
  }
 },
 "nbformat": 4,
 "nbformat_minor": 5
}
