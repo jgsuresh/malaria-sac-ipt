{
 "cells": [
  {
   "cell_type": "code",
   "execution_count": 2,
   "id": "initial_id",
   "metadata": {
    "collapsed": true,
    "ExecuteTime": {
     "end_time": "2024-10-08T22:36:35.360020Z",
     "start_time": "2024-10-08T22:36:35.347020Z"
    }
   },
   "outputs": [],
   "source": [
    "# Sensitivity of costing results to cost parameters\n",
    "\n",
    "import numpy as np\n",
    "import pandas as pd\n",
    "import matplotlib.pyplot as plt\n"
   ]
  },
  {
   "cell_type": "code",
   "outputs": [
    {
     "name": "stderr",
     "output_type": "stream",
     "text": [
      "C:\\Users\\joshsu\\AppData\\Local\\Temp\\ipykernel_12996\\2260152570.py:1: DtypeWarning: Columns (49) have mixed types. Specify dtype option on import or set low_memory=False.\n",
      "  df = pd.read_csv(\"sim_data_raw_with_cost_ranges.csv\")\n"
     ]
    },
    {
     "data": {
      "text/plain": "       iptsc_rdts_used  iptsc_drugs_used_school  cases_treated  \\\n0                    0                        0           2861   \n1                    0                        0           2813   \n2                    0                        0           2686   \n3                    0                        0           2962   \n4                    0                        0           2801   \n...                ...                      ...            ...   \n11495                0                        0           4391   \n11496                0                        0           4476   \n11497                0                        0           4426   \n11498                0                        0           4519   \n11499                0                        0           4363   \n\n       severe_cases_treated  received_smc_u5  received_smc_5-10  \\\n0                         0                0                  0   \n1                         0                0                  0   \n2                         0                0                  0   \n3                         0                0                  0   \n4                         0                0                  0   \n...                     ...              ...                ...   \n11495                     0             3734               3405   \n11496                     0             3838               3413   \n11497                     0             3698               3363   \n11498                     0             3703               3384   \n11499                     0             3605               3377   \n\n       received_smc_10-15  received_ivermectin  received_primaquine   pfpr0_5  \\\n0                       0                    0                    0  0.087048   \n1                       0                    0                    0  0.090804   \n2                       0                    0                    0  0.092848   \n3                       0                    0                    0  0.094327   \n4                       0                    0                    0  0.092801   \n...                   ...                  ...                  ...       ...   \n11495                   0                    0                    0  0.300372   \n11496                   0                    0                    0  0.308730   \n11497                   0                    0                    0  0.298432   \n11498                   0                    0                    0  0.297721   \n11499                   0                    0                    0  0.302395   \n\n       ...  cost_SMC_u5_mean  cost_facility_low  cost_facility_high  \\\n0      ...            0.0000           12931.72            34103.12   \n1      ...            0.0000           12714.76            33530.96   \n2      ...            0.0000           12140.72            32017.12   \n3      ...            0.0000           13388.24            35307.04   \n4      ...            0.0000           12660.52            33387.92   \n...    ...               ...                ...                 ...   \n11495  ...         6245.1150           19847.32            52340.72   \n11496  ...         6419.0550           20231.52            53353.92   \n11497  ...         6184.9050           20005.52            52757.92   \n11498  ...         6193.2675           20425.88            53866.48   \n11499  ...         6029.3625           19720.76            52006.96   \n\n       cost_severe  cost_ITNs  cost_ivermectin  cost_primaquine  cost_low  \\\n0              0.0       3500              0.0              0.0  16431.72   \n1              0.0       3500              0.0              0.0  16214.76   \n2              0.0       3500              0.0              0.0  15640.72   \n3              0.0       3500              0.0              0.0  16888.24   \n4              0.0       3500              0.0              0.0  16160.52   \n...            ...        ...              ...              ...       ...   \n11495          0.0       3500              0.0              0.0  33733.24   \n11496          0.0       3500              0.0              0.0  34220.88   \n11497          0.0       3500              0.0              0.0  33771.68   \n11498          0.0       3500              0.0              0.0  34241.13   \n11499          0.0       3500              0.0              0.0  33439.69   \n\n       cost_high   cost_mean  \n0      37603.120  27017.4200  \n1      37030.960  26622.8600  \n2      35517.120  25578.9200  \n3      38807.040  27847.6400  \n4      36887.920  26524.2200  \n...          ...         ...  \n11495  79890.255  56811.7475  \n11496  81199.455  57710.1675  \n11497  80036.105  56903.8925  \n11498  81247.645  57744.3875  \n11499  79111.520  56275.6050  \n\n[11500 rows x 71 columns]",
      "text/html": "<div>\n<style scoped>\n    .dataframe tbody tr th:only-of-type {\n        vertical-align: middle;\n    }\n\n    .dataframe tbody tr th {\n        vertical-align: top;\n    }\n\n    .dataframe thead th {\n        text-align: right;\n    }\n</style>\n<table border=\"1\" class=\"dataframe\">\n  <thead>\n    <tr style=\"text-align: right;\">\n      <th></th>\n      <th>iptsc_rdts_used</th>\n      <th>iptsc_drugs_used_school</th>\n      <th>cases_treated</th>\n      <th>severe_cases_treated</th>\n      <th>received_smc_u5</th>\n      <th>received_smc_5-10</th>\n      <th>received_smc_10-15</th>\n      <th>received_ivermectin</th>\n      <th>received_primaquine</th>\n      <th>pfpr0_5</th>\n      <th>...</th>\n      <th>cost_SMC_u5_mean</th>\n      <th>cost_facility_low</th>\n      <th>cost_facility_high</th>\n      <th>cost_severe</th>\n      <th>cost_ITNs</th>\n      <th>cost_ivermectin</th>\n      <th>cost_primaquine</th>\n      <th>cost_low</th>\n      <th>cost_high</th>\n      <th>cost_mean</th>\n    </tr>\n  </thead>\n  <tbody>\n    <tr>\n      <th>0</th>\n      <td>0</td>\n      <td>0</td>\n      <td>2861</td>\n      <td>0</td>\n      <td>0</td>\n      <td>0</td>\n      <td>0</td>\n      <td>0</td>\n      <td>0</td>\n      <td>0.087048</td>\n      <td>...</td>\n      <td>0.0000</td>\n      <td>12931.72</td>\n      <td>34103.12</td>\n      <td>0.0</td>\n      <td>3500</td>\n      <td>0.0</td>\n      <td>0.0</td>\n      <td>16431.72</td>\n      <td>37603.120</td>\n      <td>27017.4200</td>\n    </tr>\n    <tr>\n      <th>1</th>\n      <td>0</td>\n      <td>0</td>\n      <td>2813</td>\n      <td>0</td>\n      <td>0</td>\n      <td>0</td>\n      <td>0</td>\n      <td>0</td>\n      <td>0</td>\n      <td>0.090804</td>\n      <td>...</td>\n      <td>0.0000</td>\n      <td>12714.76</td>\n      <td>33530.96</td>\n      <td>0.0</td>\n      <td>3500</td>\n      <td>0.0</td>\n      <td>0.0</td>\n      <td>16214.76</td>\n      <td>37030.960</td>\n      <td>26622.8600</td>\n    </tr>\n    <tr>\n      <th>2</th>\n      <td>0</td>\n      <td>0</td>\n      <td>2686</td>\n      <td>0</td>\n      <td>0</td>\n      <td>0</td>\n      <td>0</td>\n      <td>0</td>\n      <td>0</td>\n      <td>0.092848</td>\n      <td>...</td>\n      <td>0.0000</td>\n      <td>12140.72</td>\n      <td>32017.12</td>\n      <td>0.0</td>\n      <td>3500</td>\n      <td>0.0</td>\n      <td>0.0</td>\n      <td>15640.72</td>\n      <td>35517.120</td>\n      <td>25578.9200</td>\n    </tr>\n    <tr>\n      <th>3</th>\n      <td>0</td>\n      <td>0</td>\n      <td>2962</td>\n      <td>0</td>\n      <td>0</td>\n      <td>0</td>\n      <td>0</td>\n      <td>0</td>\n      <td>0</td>\n      <td>0.094327</td>\n      <td>...</td>\n      <td>0.0000</td>\n      <td>13388.24</td>\n      <td>35307.04</td>\n      <td>0.0</td>\n      <td>3500</td>\n      <td>0.0</td>\n      <td>0.0</td>\n      <td>16888.24</td>\n      <td>38807.040</td>\n      <td>27847.6400</td>\n    </tr>\n    <tr>\n      <th>4</th>\n      <td>0</td>\n      <td>0</td>\n      <td>2801</td>\n      <td>0</td>\n      <td>0</td>\n      <td>0</td>\n      <td>0</td>\n      <td>0</td>\n      <td>0</td>\n      <td>0.092801</td>\n      <td>...</td>\n      <td>0.0000</td>\n      <td>12660.52</td>\n      <td>33387.92</td>\n      <td>0.0</td>\n      <td>3500</td>\n      <td>0.0</td>\n      <td>0.0</td>\n      <td>16160.52</td>\n      <td>36887.920</td>\n      <td>26524.2200</td>\n    </tr>\n    <tr>\n      <th>...</th>\n      <td>...</td>\n      <td>...</td>\n      <td>...</td>\n      <td>...</td>\n      <td>...</td>\n      <td>...</td>\n      <td>...</td>\n      <td>...</td>\n      <td>...</td>\n      <td>...</td>\n      <td>...</td>\n      <td>...</td>\n      <td>...</td>\n      <td>...</td>\n      <td>...</td>\n      <td>...</td>\n      <td>...</td>\n      <td>...</td>\n      <td>...</td>\n      <td>...</td>\n      <td>...</td>\n    </tr>\n    <tr>\n      <th>11495</th>\n      <td>0</td>\n      <td>0</td>\n      <td>4391</td>\n      <td>0</td>\n      <td>3734</td>\n      <td>3405</td>\n      <td>0</td>\n      <td>0</td>\n      <td>0</td>\n      <td>0.300372</td>\n      <td>...</td>\n      <td>6245.1150</td>\n      <td>19847.32</td>\n      <td>52340.72</td>\n      <td>0.0</td>\n      <td>3500</td>\n      <td>0.0</td>\n      <td>0.0</td>\n      <td>33733.24</td>\n      <td>79890.255</td>\n      <td>56811.7475</td>\n    </tr>\n    <tr>\n      <th>11496</th>\n      <td>0</td>\n      <td>0</td>\n      <td>4476</td>\n      <td>0</td>\n      <td>3838</td>\n      <td>3413</td>\n      <td>0</td>\n      <td>0</td>\n      <td>0</td>\n      <td>0.308730</td>\n      <td>...</td>\n      <td>6419.0550</td>\n      <td>20231.52</td>\n      <td>53353.92</td>\n      <td>0.0</td>\n      <td>3500</td>\n      <td>0.0</td>\n      <td>0.0</td>\n      <td>34220.88</td>\n      <td>81199.455</td>\n      <td>57710.1675</td>\n    </tr>\n    <tr>\n      <th>11497</th>\n      <td>0</td>\n      <td>0</td>\n      <td>4426</td>\n      <td>0</td>\n      <td>3698</td>\n      <td>3363</td>\n      <td>0</td>\n      <td>0</td>\n      <td>0</td>\n      <td>0.298432</td>\n      <td>...</td>\n      <td>6184.9050</td>\n      <td>20005.52</td>\n      <td>52757.92</td>\n      <td>0.0</td>\n      <td>3500</td>\n      <td>0.0</td>\n      <td>0.0</td>\n      <td>33771.68</td>\n      <td>80036.105</td>\n      <td>56903.8925</td>\n    </tr>\n    <tr>\n      <th>11498</th>\n      <td>0</td>\n      <td>0</td>\n      <td>4519</td>\n      <td>0</td>\n      <td>3703</td>\n      <td>3384</td>\n      <td>0</td>\n      <td>0</td>\n      <td>0</td>\n      <td>0.297721</td>\n      <td>...</td>\n      <td>6193.2675</td>\n      <td>20425.88</td>\n      <td>53866.48</td>\n      <td>0.0</td>\n      <td>3500</td>\n      <td>0.0</td>\n      <td>0.0</td>\n      <td>34241.13</td>\n      <td>81247.645</td>\n      <td>57744.3875</td>\n    </tr>\n    <tr>\n      <th>11499</th>\n      <td>0</td>\n      <td>0</td>\n      <td>4363</td>\n      <td>0</td>\n      <td>3605</td>\n      <td>3377</td>\n      <td>0</td>\n      <td>0</td>\n      <td>0</td>\n      <td>0.302395</td>\n      <td>...</td>\n      <td>6029.3625</td>\n      <td>19720.76</td>\n      <td>52006.96</td>\n      <td>0.0</td>\n      <td>3500</td>\n      <td>0.0</td>\n      <td>0.0</td>\n      <td>33439.69</td>\n      <td>79111.520</td>\n      <td>56275.6050</td>\n    </tr>\n  </tbody>\n</table>\n<p>11500 rows × 71 columns</p>\n</div>"
     },
     "execution_count": 3,
     "metadata": {},
     "output_type": "execute_result"
    }
   ],
   "source": [
    "df = pd.read_csv(\"sim_data_raw_with_cost_ranges.csv\")\n",
    "df"
   ],
   "metadata": {
    "collapsed": false,
    "ExecuteTime": {
     "end_time": "2024-10-08T22:37:19.980289Z",
     "start_time": "2024-10-08T22:37:19.760625Z"
    }
   },
   "id": "2918143a2e3323b3",
   "execution_count": 3
  },
  {
   "cell_type": "markdown",
   "source": [
    "# One-way sensitivity means: take the mean of the cost parameters and vary one parameter at a time"
   ],
   "metadata": {
    "collapsed": false
   },
   "id": "c6b50b973e921930"
  },
  {
   "cell_type": "code",
   "outputs": [],
   "source": [
    "def sample_as_normal(min_val, max_val, n_samples):\n",
    "    # Sample from normal distribution where 99% of probability distribution is within min and max\n",
    "    mean = (min_val + max_val) / 2\n",
    "    sigma = 0.194*(max_val - min_val)\n",
    "    return np.random.normal(mean, sigma, n_samples)"
   ],
   "metadata": {
    "collapsed": false,
    "ExecuteTime": {
     "end_time": "2024-10-08T22:42:46.119930Z",
     "start_time": "2024-10-08T22:42:46.100929Z"
    }
   },
   "id": "5da1db455452564e",
   "execution_count": 4
  },
  {
   "cell_type": "code",
   "outputs": [
    {
     "data": {
      "text/plain": "    archetype  transmission_level  scenario_number          mean          std  \\\n0     Central                0.05                0  27033.363580  4220.771814   \n1     Central                0.05                5  22855.555324  3445.400487   \n2     Central                0.05                6  28774.074276  3835.152515   \n3     Central                0.05                7  31208.624665  3579.317443   \n4     Central                0.05                8  31525.574512  2909.548986   \n..        ...                 ...              ...           ...          ...   \n110  Southern                0.40                5  45600.264481  7211.276095   \n111  Southern                0.40                6  48092.209036  7072.012439   \n112  Southern                0.40                7  52907.274806  6287.415975   \n113  Southern                0.40                8  49977.913421  6005.660876   \n114  Southern                0.40                9  81788.903070  5840.633780   \n\n       mean_iptsc    std_iptsc  mean_smc  std_smc  mean_facility  std_facility  \n0        0.000000     0.000000       0.0      0.0   23533.363580   4220.771814  \n1        0.000000     0.000000       0.0      0.0   18355.555324   3445.400487  \n2     4686.802973   650.289079       0.0      0.0   20587.271303   3780.953367  \n3    16474.150364  2602.503140       0.0      0.0   11234.474301   2490.055553  \n4    13053.318339   688.024777       0.0      0.0   14972.256173   2824.078409  \n..            ...          ...       ...      ...            ...           ...  \n110      0.000000     0.000000       0.0      0.0   41100.264481   7211.276095  \n111   4488.452458   621.611041       0.0      0.0   40103.756578   7043.348296  \n112  17164.300352  2719.086228       0.0      0.0   32242.974454   5670.758788  \n113  12538.273669   647.486072       0.0      0.0   33939.639752   5973.925095  \n114  49127.982613  2810.682476       0.0      0.0   29160.920457   5145.561703  \n\n[115 rows x 11 columns]",
      "text/html": "<div>\n<style scoped>\n    .dataframe tbody tr th:only-of-type {\n        vertical-align: middle;\n    }\n\n    .dataframe tbody tr th {\n        vertical-align: top;\n    }\n\n    .dataframe thead th {\n        text-align: right;\n    }\n</style>\n<table border=\"1\" class=\"dataframe\">\n  <thead>\n    <tr style=\"text-align: right;\">\n      <th></th>\n      <th>archetype</th>\n      <th>transmission_level</th>\n      <th>scenario_number</th>\n      <th>mean</th>\n      <th>std</th>\n      <th>mean_iptsc</th>\n      <th>std_iptsc</th>\n      <th>mean_smc</th>\n      <th>std_smc</th>\n      <th>mean_facility</th>\n      <th>std_facility</th>\n    </tr>\n  </thead>\n  <tbody>\n    <tr>\n      <th>0</th>\n      <td>Central</td>\n      <td>0.05</td>\n      <td>0</td>\n      <td>27033.363580</td>\n      <td>4220.771814</td>\n      <td>0.000000</td>\n      <td>0.000000</td>\n      <td>0.0</td>\n      <td>0.0</td>\n      <td>23533.363580</td>\n      <td>4220.771814</td>\n    </tr>\n    <tr>\n      <th>1</th>\n      <td>Central</td>\n      <td>0.05</td>\n      <td>5</td>\n      <td>22855.555324</td>\n      <td>3445.400487</td>\n      <td>0.000000</td>\n      <td>0.000000</td>\n      <td>0.0</td>\n      <td>0.0</td>\n      <td>18355.555324</td>\n      <td>3445.400487</td>\n    </tr>\n    <tr>\n      <th>2</th>\n      <td>Central</td>\n      <td>0.05</td>\n      <td>6</td>\n      <td>28774.074276</td>\n      <td>3835.152515</td>\n      <td>4686.802973</td>\n      <td>650.289079</td>\n      <td>0.0</td>\n      <td>0.0</td>\n      <td>20587.271303</td>\n      <td>3780.953367</td>\n    </tr>\n    <tr>\n      <th>3</th>\n      <td>Central</td>\n      <td>0.05</td>\n      <td>7</td>\n      <td>31208.624665</td>\n      <td>3579.317443</td>\n      <td>16474.150364</td>\n      <td>2602.503140</td>\n      <td>0.0</td>\n      <td>0.0</td>\n      <td>11234.474301</td>\n      <td>2490.055553</td>\n    </tr>\n    <tr>\n      <th>4</th>\n      <td>Central</td>\n      <td>0.05</td>\n      <td>8</td>\n      <td>31525.574512</td>\n      <td>2909.548986</td>\n      <td>13053.318339</td>\n      <td>688.024777</td>\n      <td>0.0</td>\n      <td>0.0</td>\n      <td>14972.256173</td>\n      <td>2824.078409</td>\n    </tr>\n    <tr>\n      <th>...</th>\n      <td>...</td>\n      <td>...</td>\n      <td>...</td>\n      <td>...</td>\n      <td>...</td>\n      <td>...</td>\n      <td>...</td>\n      <td>...</td>\n      <td>...</td>\n      <td>...</td>\n      <td>...</td>\n    </tr>\n    <tr>\n      <th>110</th>\n      <td>Southern</td>\n      <td>0.40</td>\n      <td>5</td>\n      <td>45600.264481</td>\n      <td>7211.276095</td>\n      <td>0.000000</td>\n      <td>0.000000</td>\n      <td>0.0</td>\n      <td>0.0</td>\n      <td>41100.264481</td>\n      <td>7211.276095</td>\n    </tr>\n    <tr>\n      <th>111</th>\n      <td>Southern</td>\n      <td>0.40</td>\n      <td>6</td>\n      <td>48092.209036</td>\n      <td>7072.012439</td>\n      <td>4488.452458</td>\n      <td>621.611041</td>\n      <td>0.0</td>\n      <td>0.0</td>\n      <td>40103.756578</td>\n      <td>7043.348296</td>\n    </tr>\n    <tr>\n      <th>112</th>\n      <td>Southern</td>\n      <td>0.40</td>\n      <td>7</td>\n      <td>52907.274806</td>\n      <td>6287.415975</td>\n      <td>17164.300352</td>\n      <td>2719.086228</td>\n      <td>0.0</td>\n      <td>0.0</td>\n      <td>32242.974454</td>\n      <td>5670.758788</td>\n    </tr>\n    <tr>\n      <th>113</th>\n      <td>Southern</td>\n      <td>0.40</td>\n      <td>8</td>\n      <td>49977.913421</td>\n      <td>6005.660876</td>\n      <td>12538.273669</td>\n      <td>647.486072</td>\n      <td>0.0</td>\n      <td>0.0</td>\n      <td>33939.639752</td>\n      <td>5973.925095</td>\n    </tr>\n    <tr>\n      <th>114</th>\n      <td>Southern</td>\n      <td>0.40</td>\n      <td>9</td>\n      <td>81788.903070</td>\n      <td>5840.633780</td>\n      <td>49127.982613</td>\n      <td>2810.682476</td>\n      <td>0.0</td>\n      <td>0.0</td>\n      <td>29160.920457</td>\n      <td>5145.561703</td>\n    </tr>\n  </tbody>\n</table>\n<p>115 rows × 11 columns</p>\n</div>"
     },
     "execution_count": 6,
     "metadata": {},
     "output_type": "execute_result"
    }
   ],
   "source": [
    "df = pd.read_csv(\"sim_data_full_with_costs_corrected.csv\")\n",
    "df"
   ],
   "metadata": {
    "collapsed": false,
    "ExecuteTime": {
     "end_time": "2024-10-08T22:49:47.555726Z",
     "start_time": "2024-10-08T22:49:47.515670Z"
    }
   },
   "id": "c433647986f4989e",
   "execution_count": 6
  },
  {
   "cell_type": "code",
   "outputs": [
    {
     "data": {
      "text/plain": "3916.7921823859892"
     },
     "execution_count": 8,
     "metadata": {},
     "output_type": "execute_result"
    }
   ],
   "source": [
    "np.sqrt(3869**2+610**2)"
   ],
   "metadata": {
    "collapsed": false,
    "ExecuteTime": {
     "end_time": "2024-10-08T22:57:11.967501Z",
     "start_time": "2024-10-08T22:57:11.954494Z"
    }
   },
   "id": "dd4ebd86cf9b6a63",
   "execution_count": 8
  },
  {
   "cell_type": "code",
   "outputs": [],
   "source": [
    "# Sensitivity of health-system perspective costs to facility costs\n",
    "costs_all = []\n",
    "costs_iptsc_all = []\n",
    "costs_smc_all = []\n",
    "costs_facility_all = []\n",
    "\n",
    "for index, row in df_scenario.iterrows():\n",
    "    cost_IPTsc = sample_as_normal(row[\"cost_IPTsc_low\"], row[\"cost_IPTsc_high\"], N_per_replicate)\n",
    "    cost_SMC_u5 = sample_as_normal(row[\"cost_SMC_u5_low\"], row[\"cost_SMC_u5_high\"], N_per_replicate)\n",
    "    cost_facility = sample_as_normal(row[\"cost_facility_low\"], row[\"cost_facility_high\"], N_per_replicate)\n",
    "    \n",
    "    cost = cost_IPTsc + cost_facility + row[\"cost_severe\"] + row[\"cost_ITNs\"] + cost_SMC_u5 + row[\"cost_ivermectin\"] + row[\"cost_primaquine\"]\n",
    "    \n",
    "    costs_all.extend(cost)\n",
    "    costs_iptsc_all.extend(cost_IPTsc)\n",
    "    costs_smc_all.extend(cost_SMC_u5)\n",
    "    costs_facility_all.extend(cost_facility)\n",
    "    \n",
    "return np.mean(costs_all), np.std(costs_all), np.mean(costs_iptsc_all), np.std(costs_iptsc_all), np.mean(costs_smc_all), np.std(costs_smc_all), np.mean(costs_facility_all), np.std(costs_facility_all)"
   ],
   "metadata": {
    "collapsed": false
   },
   "id": "8d8b90a8d6324d2d"
  },
  {
   "cell_type": "code",
   "outputs": [],
   "source": [
    "def sample_costs(df_scenario, N_per_replicate=10000):\n",
    "    costs_all = []\n",
    "    costs_iptsc_all = []\n",
    "    costs_smc_all = []\n",
    "    costs_facility_all = []\n",
    "    \n",
    "    for index, row in df_scenario.iterrows():\n",
    "        cost_IPTsc = sample_as_normal(row[\"cost_IPTsc_low\"], row[\"cost_IPTsc_high\"], N_per_replicate)\n",
    "        cost_SMC_u5 = sample_as_normal(row[\"cost_SMC_u5_low\"], row[\"cost_SMC_u5_high\"], N_per_replicate)\n",
    "        cost_facility = sample_as_normal(row[\"cost_facility_low\"], row[\"cost_facility_high\"], N_per_replicate)\n",
    "        \n",
    "        cost = cost_IPTsc + cost_facility + row[\"cost_severe\"] + row[\"cost_ITNs\"] + cost_SMC_u5 + row[\"cost_ivermectin\"] + row[\"cost_primaquine\"]\n",
    "        \n",
    "        costs_all.extend(cost)\n",
    "        costs_iptsc_all.extend(cost_IPTsc)\n",
    "        costs_smc_all.extend(cost_SMC_u5)\n",
    "        costs_facility_all.extend(cost_facility)\n",
    "        \n",
    "    return np.mean(costs_all), np.std(costs_all), np.mean(costs_iptsc_all), np.std(costs_iptsc_all), np.mean(costs_smc_all), np.std(costs_smc_all), np.mean(costs_facility_all), np.std(costs_facility_all)\n",
    "\n",
    "def sample_costs_pandas(group):\n",
    "    m, s, m_iptsc, s_iptsc, m_smc, s_smc, m_facility, s_facility = sample_costs(group)\n",
    "    return pd.Series([m, s, m_iptsc, s_iptsc, m_smc, s_smc, m_facility, s_facility], index=['mean', 'std', 'mean_iptsc', 'std_iptsc', 'mean_smc', 'std_smc', 'mean_facility', 'std_facility'])"
   ],
   "metadata": {
    "collapsed": false
   },
   "id": "ab7daf123f13dfe1"
  }
 ],
 "metadata": {
  "kernelspec": {
   "display_name": "Python 3",
   "language": "python",
   "name": "python3"
  },
  "language_info": {
   "codemirror_mode": {
    "name": "ipython",
    "version": 2
   },
   "file_extension": ".py",
   "mimetype": "text/x-python",
   "name": "python",
   "nbconvert_exporter": "python",
   "pygments_lexer": "ipython2",
   "version": "2.7.6"
  }
 },
 "nbformat": 4,
 "nbformat_minor": 5
}
