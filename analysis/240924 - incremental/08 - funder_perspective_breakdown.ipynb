{
 "cells": [
  {
   "cell_type": "code",
   "execution_count": 36,
   "id": "initial_id",
   "metadata": {
    "collapsed": true,
    "ExecuteTime": {
     "end_time": "2024-10-16T19:11:27.074977Z",
     "start_time": "2024-10-16T19:11:26.914046Z"
    }
   },
   "outputs": [],
   "source": [
    "import pandas as pd\n",
    "import numpy as np\n",
    "import matplotlib.pyplot as plt\n",
    "import seaborn as sns\n",
    "sns.set(style='whitegrid')\n",
    "sns.set_context('talk')"
   ]
  },
  {
   "cell_type": "code",
   "outputs": [
    {
     "name": "stderr",
     "output_type": "stream",
     "text": [
      "C:\\Users\\joshsu\\AppData\\Local\\Temp\\ipykernel_35308\\3052325694.py:10: FutureWarning: merging between different levels is deprecated and will be removed in a future version. (1 levels on the left, 2 on the right)\n",
      "  df = pd.merge(df_costs, df_cases, on=[\"archetype\", \"transmission_level\", \"scenario_number\"])\n",
      "C:\\Users\\joshsu\\AppData\\Local\\Temp\\ipykernel_35308\\3052325694.py:10: PerformanceWarning: dropping on a non-lexsorted multi-index without a level parameter may impact performance.\n",
      "  df = pd.merge(df_costs, df_cases, on=[\"archetype\", \"transmission_level\", \"scenario_number\"])\n"
     ]
    },
    {
     "data": {
      "text/plain": "    archetype  transmission_level  scenario_number     cost_mean     cost_std  \\\n0     Central                0.05                0  13515.606913  2111.463641   \n1     Central                0.10                0  13924.492711  2173.949547   \n2     Central                0.20                0  18555.945817  2953.446063   \n3     Central                0.30                0  21540.746463  3470.073071   \n4     Central                0.40                0  24805.441372  4050.598704   \n..        ...                 ...              ...           ...          ...   \n110  Southern                0.05                9  28911.179685  1574.288687   \n111  Southern                0.10                9  31077.164603  1688.091396   \n112  Southern                0.20                9  34171.878292  1987.819370   \n113  Southern                0.30                9  39653.339973  2622.320037   \n114  Southern                0.40                9  40889.065748  2921.532232   \n\n     cost_IPTsc_mean  cost_IPTsc_std   cases_mean   cases_std  comments  \n0           0.000000        0.000000  6029.420900  170.098339  No IPTsc  \n1           0.000000        0.000000  5939.191469  153.868286  No IPTsc  \n2           0.000000        0.000000  6684.382831  103.193884  No IPTsc  \n3           0.000000        0.000000  6975.190576   88.880312  No IPTsc  \n4           0.000000        0.000000  7159.926498   83.860444  No IPTsc  \n..               ...             ...          ...         ...       ...  \n110     24435.524126     1391.735672  1085.255048  382.213400  DP month  \n111     24961.381004     1425.165487  1795.228737  295.557103  DP month  \n112     24590.487624     1410.503846  2567.773054  150.665002  DP month  \n113     25485.022567     1457.565234  3593.362750  107.524129  DP month  \n114     24561.655215     1405.686956  3980.142696   92.858081  DP month  \n\n[115 rows x 10 columns]",
      "text/html": "<div>\n<style scoped>\n    .dataframe tbody tr th:only-of-type {\n        vertical-align: middle;\n    }\n\n    .dataframe tbody tr th {\n        vertical-align: top;\n    }\n\n    .dataframe thead th {\n        text-align: right;\n    }\n</style>\n<table border=\"1\" class=\"dataframe\">\n  <thead>\n    <tr style=\"text-align: right;\">\n      <th></th>\n      <th>archetype</th>\n      <th>transmission_level</th>\n      <th>scenario_number</th>\n      <th>cost_mean</th>\n      <th>cost_std</th>\n      <th>cost_IPTsc_mean</th>\n      <th>cost_IPTsc_std</th>\n      <th>cases_mean</th>\n      <th>cases_std</th>\n      <th>comments</th>\n    </tr>\n  </thead>\n  <tbody>\n    <tr>\n      <th>0</th>\n      <td>Central</td>\n      <td>0.05</td>\n      <td>0</td>\n      <td>13515.606913</td>\n      <td>2111.463641</td>\n      <td>0.000000</td>\n      <td>0.000000</td>\n      <td>6029.420900</td>\n      <td>170.098339</td>\n      <td>No IPTsc</td>\n    </tr>\n    <tr>\n      <th>1</th>\n      <td>Central</td>\n      <td>0.10</td>\n      <td>0</td>\n      <td>13924.492711</td>\n      <td>2173.949547</td>\n      <td>0.000000</td>\n      <td>0.000000</td>\n      <td>5939.191469</td>\n      <td>153.868286</td>\n      <td>No IPTsc</td>\n    </tr>\n    <tr>\n      <th>2</th>\n      <td>Central</td>\n      <td>0.20</td>\n      <td>0</td>\n      <td>18555.945817</td>\n      <td>2953.446063</td>\n      <td>0.000000</td>\n      <td>0.000000</td>\n      <td>6684.382831</td>\n      <td>103.193884</td>\n      <td>No IPTsc</td>\n    </tr>\n    <tr>\n      <th>3</th>\n      <td>Central</td>\n      <td>0.30</td>\n      <td>0</td>\n      <td>21540.746463</td>\n      <td>3470.073071</td>\n      <td>0.000000</td>\n      <td>0.000000</td>\n      <td>6975.190576</td>\n      <td>88.880312</td>\n      <td>No IPTsc</td>\n    </tr>\n    <tr>\n      <th>4</th>\n      <td>Central</td>\n      <td>0.40</td>\n      <td>0</td>\n      <td>24805.441372</td>\n      <td>4050.598704</td>\n      <td>0.000000</td>\n      <td>0.000000</td>\n      <td>7159.926498</td>\n      <td>83.860444</td>\n      <td>No IPTsc</td>\n    </tr>\n    <tr>\n      <th>...</th>\n      <td>...</td>\n      <td>...</td>\n      <td>...</td>\n      <td>...</td>\n      <td>...</td>\n      <td>...</td>\n      <td>...</td>\n      <td>...</td>\n      <td>...</td>\n      <td>...</td>\n    </tr>\n    <tr>\n      <th>110</th>\n      <td>Southern</td>\n      <td>0.05</td>\n      <td>9</td>\n      <td>28911.179685</td>\n      <td>1574.288687</td>\n      <td>24435.524126</td>\n      <td>1391.735672</td>\n      <td>1085.255048</td>\n      <td>382.213400</td>\n      <td>DP month</td>\n    </tr>\n    <tr>\n      <th>111</th>\n      <td>Southern</td>\n      <td>0.10</td>\n      <td>9</td>\n      <td>31077.164603</td>\n      <td>1688.091396</td>\n      <td>24961.381004</td>\n      <td>1425.165487</td>\n      <td>1795.228737</td>\n      <td>295.557103</td>\n      <td>DP month</td>\n    </tr>\n    <tr>\n      <th>112</th>\n      <td>Southern</td>\n      <td>0.20</td>\n      <td>9</td>\n      <td>34171.878292</td>\n      <td>1987.819370</td>\n      <td>24590.487624</td>\n      <td>1410.503846</td>\n      <td>2567.773054</td>\n      <td>150.665002</td>\n      <td>DP month</td>\n    </tr>\n    <tr>\n      <th>113</th>\n      <td>Southern</td>\n      <td>0.30</td>\n      <td>9</td>\n      <td>39653.339973</td>\n      <td>2622.320037</td>\n      <td>25485.022567</td>\n      <td>1457.565234</td>\n      <td>3593.362750</td>\n      <td>107.524129</td>\n      <td>DP month</td>\n    </tr>\n    <tr>\n      <th>114</th>\n      <td>Southern</td>\n      <td>0.40</td>\n      <td>9</td>\n      <td>40889.065748</td>\n      <td>2921.532232</td>\n      <td>24561.655215</td>\n      <td>1405.686956</td>\n      <td>3980.142696</td>\n      <td>92.858081</td>\n      <td>DP month</td>\n    </tr>\n  </tbody>\n</table>\n<p>115 rows × 10 columns</p>\n</div>"
     },
     "execution_count": 37,
     "metadata": {},
     "output_type": "execute_result"
    }
   ],
   "source": [
    "df_costs = pd.read_csv(\"sim_data_full_with_costs_corrected.csv\")\n",
    "df_costs = df_costs[[\"archetype\", \"transmission_level\", \"scenario_number\", \"mean\", \"std\", \"mean_iptsc\", \"std_iptsc\"]]\n",
    "df_costs.rename(columns={\"mean\": \"cost_mean\", \"std\": \"cost_std\", \"mean_iptsc\": \"cost_IPTsc_mean\", \"std_iptsc\": \"cost_IPTsc_std\"}, inplace=True)\n",
    "\n",
    "df_raw = pd.read_csv(\"sim_data_raw.csv\")\n",
    "df_raw = df_raw[[\"archetype\", \"transmission_level\", \"scenario_number\", \"clinical_incidence_all\"]]\n",
    "df_raw[\"cases\"] = df_raw[\"clinical_incidence_all\"]*5000\n",
    "# Get mean and stdev of cases\n",
    "df_cases = df_raw.groupby([\"archetype\", \"transmission_level\", \"scenario_number\"]).agg({\"cases\": [\"mean\", \"std\"]}).reset_index()\n",
    "df = pd.merge(df_costs, df_cases, on=[\"archetype\", \"transmission_level\", \"scenario_number\"])\n",
    "\n",
    "df_scenarios = pd.read_csv(\"../../run_sims/Assets/scenario_master_list.csv\")\n",
    "df = pd.merge(df, df_scenarios[[\"archetype\", \"scenario_number\", \"comments\"]], on=[\"archetype\", \"scenario_number\"])\n",
    "\n",
    "df.rename(columns={(\"cases\", \"mean\"): \"cases_mean\",\n",
    "                   (\"cases\", \"std\"): \"cases_std\"}, inplace=True)\n",
    "df"
   ],
   "metadata": {
    "collapsed": false,
    "ExecuteTime": {
     "end_time": "2024-10-16T19:11:27.934715Z",
     "start_time": "2024-10-16T19:11:27.086965Z"
    }
   },
   "id": "640f648885b40da0",
   "execution_count": 37
  },
  {
   "cell_type": "code",
   "outputs": [
    {
     "name": "stderr",
     "output_type": "stream",
     "text": [
      "C:\\Users\\joshsu\\AppData\\Local\\Temp\\ipykernel_35308\\1089644126.py:1: DtypeWarning: Columns (49) have mixed types. Specify dtype option on import or set low_memory=False.\n",
      "  df2 = pd.read_csv(\"sim_data_raw_with_cost_ranges.csv\")\n"
     ]
    },
    {
     "data": {
      "text/plain": "       iptsc_rdts_used  iptsc_drugs_used_school  cases_treated  \\\n0                    0                        0           2861   \n1                    0                        0           2813   \n2                    0                        0           2686   \n3                    0                        0           2962   \n4                    0                        0           2801   \n...                ...                      ...            ...   \n11495                0                        0           4391   \n11496                0                        0           4476   \n11497                0                        0           4426   \n11498                0                        0           4519   \n11499                0                        0           4363   \n\n       severe_cases_treated  received_smc_u5  received_smc_5-10  \\\n0                         0                0                  0   \n1                         0                0                  0   \n2                         0                0                  0   \n3                         0                0                  0   \n4                         0                0                  0   \n...                     ...              ...                ...   \n11495                     0             3734               3405   \n11496                     0             3838               3413   \n11497                     0             3698               3363   \n11498                     0             3703               3384   \n11499                     0             3605               3377   \n\n       received_smc_10-15  received_ivermectin  received_primaquine   pfpr0_5  \\\n0                       0                    0                    0  0.087048   \n1                       0                    0                    0  0.090804   \n2                       0                    0                    0  0.092848   \n3                       0                    0                    0  0.094327   \n4                       0                    0                    0  0.092801   \n...                   ...                  ...                  ...       ...   \n11495                   0                    0                    0  0.300372   \n11496                   0                    0                    0  0.308730   \n11497                   0                    0                    0  0.298432   \n11498                   0                    0                    0  0.297721   \n11499                   0                    0                    0  0.302395   \n\n       ...  cost_SMC_u5_mean  cost_facility_low  cost_facility_high  \\\n0      ...            0.0000           12931.72            34103.12   \n1      ...            0.0000           12714.76            33530.96   \n2      ...            0.0000           12140.72            32017.12   \n3      ...            0.0000           13388.24            35307.04   \n4      ...            0.0000           12660.52            33387.92   \n...    ...               ...                ...                 ...   \n11495  ...         6245.1150           19847.32            52340.72   \n11496  ...         6419.0550           20231.52            53353.92   \n11497  ...         6184.9050           20005.52            52757.92   \n11498  ...         6193.2675           20425.88            53866.48   \n11499  ...         6029.3625           19720.76            52006.96   \n\n       cost_severe  cost_ITNs  cost_ivermectin  cost_primaquine  cost_low  \\\n0              0.0       3500              0.0              0.0  16431.72   \n1              0.0       3500              0.0              0.0  16214.76   \n2              0.0       3500              0.0              0.0  15640.72   \n3              0.0       3500              0.0              0.0  16888.24   \n4              0.0       3500              0.0              0.0  16160.52   \n...            ...        ...              ...              ...       ...   \n11495          0.0       3500              0.0              0.0  33733.24   \n11496          0.0       3500              0.0              0.0  34220.88   \n11497          0.0       3500              0.0              0.0  33771.68   \n11498          0.0       3500              0.0              0.0  34241.13   \n11499          0.0       3500              0.0              0.0  33439.69   \n\n       cost_high   cost_mean  \n0      37603.120  27017.4200  \n1      37030.960  26622.8600  \n2      35517.120  25578.9200  \n3      38807.040  27847.6400  \n4      36887.920  26524.2200  \n...          ...         ...  \n11495  79890.255  56811.7475  \n11496  81199.455  57710.1675  \n11497  80036.105  56903.8925  \n11498  81247.645  57744.3875  \n11499  79111.520  56275.6050  \n\n[11500 rows x 71 columns]",
      "text/html": "<div>\n<style scoped>\n    .dataframe tbody tr th:only-of-type {\n        vertical-align: middle;\n    }\n\n    .dataframe tbody tr th {\n        vertical-align: top;\n    }\n\n    .dataframe thead th {\n        text-align: right;\n    }\n</style>\n<table border=\"1\" class=\"dataframe\">\n  <thead>\n    <tr style=\"text-align: right;\">\n      <th></th>\n      <th>iptsc_rdts_used</th>\n      <th>iptsc_drugs_used_school</th>\n      <th>cases_treated</th>\n      <th>severe_cases_treated</th>\n      <th>received_smc_u5</th>\n      <th>received_smc_5-10</th>\n      <th>received_smc_10-15</th>\n      <th>received_ivermectin</th>\n      <th>received_primaquine</th>\n      <th>pfpr0_5</th>\n      <th>...</th>\n      <th>cost_SMC_u5_mean</th>\n      <th>cost_facility_low</th>\n      <th>cost_facility_high</th>\n      <th>cost_severe</th>\n      <th>cost_ITNs</th>\n      <th>cost_ivermectin</th>\n      <th>cost_primaquine</th>\n      <th>cost_low</th>\n      <th>cost_high</th>\n      <th>cost_mean</th>\n    </tr>\n  </thead>\n  <tbody>\n    <tr>\n      <th>0</th>\n      <td>0</td>\n      <td>0</td>\n      <td>2861</td>\n      <td>0</td>\n      <td>0</td>\n      <td>0</td>\n      <td>0</td>\n      <td>0</td>\n      <td>0</td>\n      <td>0.087048</td>\n      <td>...</td>\n      <td>0.0000</td>\n      <td>12931.72</td>\n      <td>34103.12</td>\n      <td>0.0</td>\n      <td>3500</td>\n      <td>0.0</td>\n      <td>0.0</td>\n      <td>16431.72</td>\n      <td>37603.120</td>\n      <td>27017.4200</td>\n    </tr>\n    <tr>\n      <th>1</th>\n      <td>0</td>\n      <td>0</td>\n      <td>2813</td>\n      <td>0</td>\n      <td>0</td>\n      <td>0</td>\n      <td>0</td>\n      <td>0</td>\n      <td>0</td>\n      <td>0.090804</td>\n      <td>...</td>\n      <td>0.0000</td>\n      <td>12714.76</td>\n      <td>33530.96</td>\n      <td>0.0</td>\n      <td>3500</td>\n      <td>0.0</td>\n      <td>0.0</td>\n      <td>16214.76</td>\n      <td>37030.960</td>\n      <td>26622.8600</td>\n    </tr>\n    <tr>\n      <th>2</th>\n      <td>0</td>\n      <td>0</td>\n      <td>2686</td>\n      <td>0</td>\n      <td>0</td>\n      <td>0</td>\n      <td>0</td>\n      <td>0</td>\n      <td>0</td>\n      <td>0.092848</td>\n      <td>...</td>\n      <td>0.0000</td>\n      <td>12140.72</td>\n      <td>32017.12</td>\n      <td>0.0</td>\n      <td>3500</td>\n      <td>0.0</td>\n      <td>0.0</td>\n      <td>15640.72</td>\n      <td>35517.120</td>\n      <td>25578.9200</td>\n    </tr>\n    <tr>\n      <th>3</th>\n      <td>0</td>\n      <td>0</td>\n      <td>2962</td>\n      <td>0</td>\n      <td>0</td>\n      <td>0</td>\n      <td>0</td>\n      <td>0</td>\n      <td>0</td>\n      <td>0.094327</td>\n      <td>...</td>\n      <td>0.0000</td>\n      <td>13388.24</td>\n      <td>35307.04</td>\n      <td>0.0</td>\n      <td>3500</td>\n      <td>0.0</td>\n      <td>0.0</td>\n      <td>16888.24</td>\n      <td>38807.040</td>\n      <td>27847.6400</td>\n    </tr>\n    <tr>\n      <th>4</th>\n      <td>0</td>\n      <td>0</td>\n      <td>2801</td>\n      <td>0</td>\n      <td>0</td>\n      <td>0</td>\n      <td>0</td>\n      <td>0</td>\n      <td>0</td>\n      <td>0.092801</td>\n      <td>...</td>\n      <td>0.0000</td>\n      <td>12660.52</td>\n      <td>33387.92</td>\n      <td>0.0</td>\n      <td>3500</td>\n      <td>0.0</td>\n      <td>0.0</td>\n      <td>16160.52</td>\n      <td>36887.920</td>\n      <td>26524.2200</td>\n    </tr>\n    <tr>\n      <th>...</th>\n      <td>...</td>\n      <td>...</td>\n      <td>...</td>\n      <td>...</td>\n      <td>...</td>\n      <td>...</td>\n      <td>...</td>\n      <td>...</td>\n      <td>...</td>\n      <td>...</td>\n      <td>...</td>\n      <td>...</td>\n      <td>...</td>\n      <td>...</td>\n      <td>...</td>\n      <td>...</td>\n      <td>...</td>\n      <td>...</td>\n      <td>...</td>\n      <td>...</td>\n      <td>...</td>\n    </tr>\n    <tr>\n      <th>11495</th>\n      <td>0</td>\n      <td>0</td>\n      <td>4391</td>\n      <td>0</td>\n      <td>3734</td>\n      <td>3405</td>\n      <td>0</td>\n      <td>0</td>\n      <td>0</td>\n      <td>0.300372</td>\n      <td>...</td>\n      <td>6245.1150</td>\n      <td>19847.32</td>\n      <td>52340.72</td>\n      <td>0.0</td>\n      <td>3500</td>\n      <td>0.0</td>\n      <td>0.0</td>\n      <td>33733.24</td>\n      <td>79890.255</td>\n      <td>56811.7475</td>\n    </tr>\n    <tr>\n      <th>11496</th>\n      <td>0</td>\n      <td>0</td>\n      <td>4476</td>\n      <td>0</td>\n      <td>3838</td>\n      <td>3413</td>\n      <td>0</td>\n      <td>0</td>\n      <td>0</td>\n      <td>0.308730</td>\n      <td>...</td>\n      <td>6419.0550</td>\n      <td>20231.52</td>\n      <td>53353.92</td>\n      <td>0.0</td>\n      <td>3500</td>\n      <td>0.0</td>\n      <td>0.0</td>\n      <td>34220.88</td>\n      <td>81199.455</td>\n      <td>57710.1675</td>\n    </tr>\n    <tr>\n      <th>11497</th>\n      <td>0</td>\n      <td>0</td>\n      <td>4426</td>\n      <td>0</td>\n      <td>3698</td>\n      <td>3363</td>\n      <td>0</td>\n      <td>0</td>\n      <td>0</td>\n      <td>0.298432</td>\n      <td>...</td>\n      <td>6184.9050</td>\n      <td>20005.52</td>\n      <td>52757.92</td>\n      <td>0.0</td>\n      <td>3500</td>\n      <td>0.0</td>\n      <td>0.0</td>\n      <td>33771.68</td>\n      <td>80036.105</td>\n      <td>56903.8925</td>\n    </tr>\n    <tr>\n      <th>11498</th>\n      <td>0</td>\n      <td>0</td>\n      <td>4519</td>\n      <td>0</td>\n      <td>3703</td>\n      <td>3384</td>\n      <td>0</td>\n      <td>0</td>\n      <td>0</td>\n      <td>0.297721</td>\n      <td>...</td>\n      <td>6193.2675</td>\n      <td>20425.88</td>\n      <td>53866.48</td>\n      <td>0.0</td>\n      <td>3500</td>\n      <td>0.0</td>\n      <td>0.0</td>\n      <td>34241.13</td>\n      <td>81247.645</td>\n      <td>57744.3875</td>\n    </tr>\n    <tr>\n      <th>11499</th>\n      <td>0</td>\n      <td>0</td>\n      <td>4363</td>\n      <td>0</td>\n      <td>3605</td>\n      <td>3377</td>\n      <td>0</td>\n      <td>0</td>\n      <td>0</td>\n      <td>0.302395</td>\n      <td>...</td>\n      <td>6029.3625</td>\n      <td>19720.76</td>\n      <td>52006.96</td>\n      <td>0.0</td>\n      <td>3500</td>\n      <td>0.0</td>\n      <td>0.0</td>\n      <td>33439.69</td>\n      <td>79111.520</td>\n      <td>56275.6050</td>\n    </tr>\n  </tbody>\n</table>\n<p>11500 rows × 71 columns</p>\n</div>"
     },
     "execution_count": 38,
     "metadata": {},
     "output_type": "execute_result"
    }
   ],
   "source": [
    "df2 = pd.read_csv(\"sim_data_raw_with_cost_ranges.csv\")\n",
    "df2"
   ],
   "metadata": {
    "collapsed": false,
    "ExecuteTime": {
     "end_time": "2024-10-16T19:11:28.329555Z",
     "start_time": "2024-10-16T19:11:27.937713Z"
    }
   },
   "id": "e8da6f644cb03e4e",
   "execution_count": 38
  },
  {
   "cell_type": "code",
   "outputs": [
    {
     "data": {
      "text/plain": "   archetype scenario_number cost_IPTsc_drugs             \n                                         mean          std\n0    Central               0          0.00000     0.000000\n1    Central               5          0.00000     0.000000\n2    Central               6       2487.79600    67.332896\n3    Central               7       9041.60900   253.531766\n4    Central               8      10634.93972   286.881914\n5    Central               9      38692.11164  1093.227423\n6      Sahel               0          0.00000     0.000000\n7      Sahel               5          0.00000     0.000000\n8      Sahel               6       1742.44210    41.063469\n9      Sahel               7       5239.61270   126.588351\n10     Sahel               8      10662.41304   247.739821\n11     Sahel               9      32019.90408   760.380814\n12     Sahel              23       8114.49052   235.311218\n13     Sahel              30       1157.87910    55.345514\n14     Sahel              31       2104.85030    60.184471\n15     Sahel              32       7081.37128   347.397972\n16     Sahel              33      12866.25352   364.042528\n17  Southern               0          0.00000     0.000000\n18  Southern               5          0.00000     0.000000\n19  Southern               6       2474.43100    54.776342\n20  Southern               7       9837.63500   213.996367\n21  Southern               8      10587.93676   234.416290\n22  Southern               9      42111.56200   899.713977",
      "text/html": "<div>\n<style scoped>\n    .dataframe tbody tr th:only-of-type {\n        vertical-align: middle;\n    }\n\n    .dataframe tbody tr th {\n        vertical-align: top;\n    }\n\n    .dataframe thead tr th {\n        text-align: left;\n    }\n</style>\n<table border=\"1\" class=\"dataframe\">\n  <thead>\n    <tr>\n      <th></th>\n      <th>archetype</th>\n      <th>scenario_number</th>\n      <th colspan=\"2\" halign=\"left\">cost_IPTsc_drugs</th>\n    </tr>\n    <tr>\n      <th></th>\n      <th></th>\n      <th></th>\n      <th>mean</th>\n      <th>std</th>\n    </tr>\n  </thead>\n  <tbody>\n    <tr>\n      <th>0</th>\n      <td>Central</td>\n      <td>0</td>\n      <td>0.00000</td>\n      <td>0.000000</td>\n    </tr>\n    <tr>\n      <th>1</th>\n      <td>Central</td>\n      <td>5</td>\n      <td>0.00000</td>\n      <td>0.000000</td>\n    </tr>\n    <tr>\n      <th>2</th>\n      <td>Central</td>\n      <td>6</td>\n      <td>2487.79600</td>\n      <td>67.332896</td>\n    </tr>\n    <tr>\n      <th>3</th>\n      <td>Central</td>\n      <td>7</td>\n      <td>9041.60900</td>\n      <td>253.531766</td>\n    </tr>\n    <tr>\n      <th>4</th>\n      <td>Central</td>\n      <td>8</td>\n      <td>10634.93972</td>\n      <td>286.881914</td>\n    </tr>\n    <tr>\n      <th>5</th>\n      <td>Central</td>\n      <td>9</td>\n      <td>38692.11164</td>\n      <td>1093.227423</td>\n    </tr>\n    <tr>\n      <th>6</th>\n      <td>Sahel</td>\n      <td>0</td>\n      <td>0.00000</td>\n      <td>0.000000</td>\n    </tr>\n    <tr>\n      <th>7</th>\n      <td>Sahel</td>\n      <td>5</td>\n      <td>0.00000</td>\n      <td>0.000000</td>\n    </tr>\n    <tr>\n      <th>8</th>\n      <td>Sahel</td>\n      <td>6</td>\n      <td>1742.44210</td>\n      <td>41.063469</td>\n    </tr>\n    <tr>\n      <th>9</th>\n      <td>Sahel</td>\n      <td>7</td>\n      <td>5239.61270</td>\n      <td>126.588351</td>\n    </tr>\n    <tr>\n      <th>10</th>\n      <td>Sahel</td>\n      <td>8</td>\n      <td>10662.41304</td>\n      <td>247.739821</td>\n    </tr>\n    <tr>\n      <th>11</th>\n      <td>Sahel</td>\n      <td>9</td>\n      <td>32019.90408</td>\n      <td>760.380814</td>\n    </tr>\n    <tr>\n      <th>12</th>\n      <td>Sahel</td>\n      <td>23</td>\n      <td>8114.49052</td>\n      <td>235.311218</td>\n    </tr>\n    <tr>\n      <th>13</th>\n      <td>Sahel</td>\n      <td>30</td>\n      <td>1157.87910</td>\n      <td>55.345514</td>\n    </tr>\n    <tr>\n      <th>14</th>\n      <td>Sahel</td>\n      <td>31</td>\n      <td>2104.85030</td>\n      <td>60.184471</td>\n    </tr>\n    <tr>\n      <th>15</th>\n      <td>Sahel</td>\n      <td>32</td>\n      <td>7081.37128</td>\n      <td>347.397972</td>\n    </tr>\n    <tr>\n      <th>16</th>\n      <td>Sahel</td>\n      <td>33</td>\n      <td>12866.25352</td>\n      <td>364.042528</td>\n    </tr>\n    <tr>\n      <th>17</th>\n      <td>Southern</td>\n      <td>0</td>\n      <td>0.00000</td>\n      <td>0.000000</td>\n    </tr>\n    <tr>\n      <th>18</th>\n      <td>Southern</td>\n      <td>5</td>\n      <td>0.00000</td>\n      <td>0.000000</td>\n    </tr>\n    <tr>\n      <th>19</th>\n      <td>Southern</td>\n      <td>6</td>\n      <td>2474.43100</td>\n      <td>54.776342</td>\n    </tr>\n    <tr>\n      <th>20</th>\n      <td>Southern</td>\n      <td>7</td>\n      <td>9837.63500</td>\n      <td>213.996367</td>\n    </tr>\n    <tr>\n      <th>21</th>\n      <td>Southern</td>\n      <td>8</td>\n      <td>10587.93676</td>\n      <td>234.416290</td>\n    </tr>\n    <tr>\n      <th>22</th>\n      <td>Southern</td>\n      <td>9</td>\n      <td>42111.56200</td>\n      <td>899.713977</td>\n    </tr>\n  </tbody>\n</table>\n</div>"
     },
     "execution_count": 39,
     "metadata": {},
     "output_type": "execute_result"
    }
   ],
   "source": [
    "df2.groupby([\"archetype\",\"scenario_number\"]).agg({\"cost_IPTsc_drugs\": [\"mean\", \"std\"]}).reset_index()"
   ],
   "metadata": {
    "collapsed": false,
    "ExecuteTime": {
     "end_time": "2024-10-16T19:11:28.376557Z",
     "start_time": "2024-10-16T19:11:28.332554Z"
    }
   },
   "id": "df0161159d5b9a95",
   "execution_count": 39
  },
  {
   "cell_type": "code",
   "outputs": [],
   "source": [
    "def sample_as_normal(min_val, max_val, n_samples):\n",
    "    # Sample from normal distribution where 99% of probability distribution is within min and max\n",
    "    mean = (min_val + max_val) / 2\n",
    "    sigma = 0.194*(max_val - min_val)\n",
    "    return np.random.normal(mean, sigma, n_samples)"
   ],
   "metadata": {
    "collapsed": false,
    "ExecuteTime": {
     "end_time": "2024-10-16T19:11:28.392554Z",
     "start_time": "2024-10-16T19:11:28.380555Z"
    }
   },
   "id": "6a74bcba8911a8c3",
   "execution_count": 40
  },
  {
   "cell_type": "code",
   "outputs": [
    {
     "name": "stdout",
     "output_type": "stream",
     "text": [
      "0.3847653335675979\n"
     ]
    }
   ],
   "source": [
    "# Sample to get cost range for overheads\n",
    "low = df2[np.in1d(df2[\"scenario_number\"],[6,8])].agg({\"cost_IPTsc_overhead_low\": \"mean\"}).values[0]\n",
    "high = df2[np.in1d(df2[\"scenario_number\"],[6,8])].agg({\"cost_IPTsc_overhead_high\": \"mean\"}).values[0]\n",
    "\n",
    "samples = sample_as_normal(low,high,10000)\n",
    "# print(np.mean(samples))\n",
    "# print(np.std(samples))\n",
    "# print((high-np.mean(samples))/1.96)\n",
    "# df2.groupby([\"archetype\",\"scenario_number\"]).agg({\"cost_IPTsc_overhead_low\": [\"mean\", \"std\"]}).reset_index()\n",
    "# df2.groupby([\"archetype\",\"scenario_number\"]).agg({\"cost_IPTsc_overhead_high\": [\"mean\", \"std\"]}).reset_index()\n",
    "\n",
    "term_iptsc_overhead_cost_per_1k = np.mean(samples)/5\n",
    "term_iptsc_overhead_cost_per_1k_std = np.std(samples)/5\n",
    "old_iptsc_overhead_cost_range = (high-np.mean(samples))/5\n",
    "print(term_iptsc_overhead_cost_per_1k_std/old_iptsc_overhead_cost_range)"
   ],
   "metadata": {
    "collapsed": false,
    "ExecuteTime": {
     "end_time": "2024-10-16T19:25:01.552391Z",
     "start_time": "2024-10-16T19:25:01.513396Z"
    }
   },
   "id": "9c5879d774c644d1",
   "execution_count": 55
  },
  {
   "cell_type": "code",
   "outputs": [
    {
     "name": "stdout",
     "output_type": "stream",
     "text": [
      "447.0379200000001\n",
      "3675.6451199999997\n"
     ]
    },
    {
     "data": {
      "text/plain": "<matplotlib.lines.Line2D at 0x2414f2df370>"
     },
     "execution_count": 54,
     "metadata": {},
     "output_type": "execute_result"
    },
    {
     "data": {
      "text/plain": "<Figure size 640x480 with 1 Axes>",
      "image/png": "[encoded data removed]"
     },
     "metadata": {},
     "output_type": "display_data"
    }
   ],
   "source": [
    "print(low)\n",
    "print(high)\n",
    "plt.hist(samples, bins=100)\n",
    "plt.axvline(np.mean(samples), color='r')\n",
    "plt.axvline(np.mean(samples)+np.std(samples), color='g')\n",
    "plt.axvline(np.mean(samples)-np.std(samples), color='g')\n",
    "plt.axvline(low, color='b')\n",
    "plt.axvline(high, color='b')"
   ],
   "metadata": {
    "collapsed": false,
    "ExecuteTime": {
     "end_time": "2024-10-16T19:24:03.455960Z",
     "start_time": "2024-10-16T19:24:02.077779Z"
    }
   },
   "id": "76336d01f75ede5a",
   "execution_count": 54
  },
  {
   "cell_type": "code",
   "outputs": [
    {
     "name": "stdout",
     "output_type": "stream",
     "text": [
      "6747.033855450841\n",
      "2408.012745140343\n",
      "3193.101767627122\n",
      "0.38476002977726614\n"
     ]
    }
   ],
   "source": [
    "# Sample to get cost range for overheads\n",
    "low = df2[np.in1d(df2[\"scenario_number\"],[7,9])].agg({\"cost_IPTsc_overhead_low\": \"mean\"}).values[0]\n",
    "high = df2[np.in1d(df2[\"scenario_number\"],[7,9])].agg({\"cost_IPTsc_overhead_high\": \"mean\"}).values[0]\n",
    "\n",
    "samples = sample_as_normal(low,high,10000)\n",
    "print(np.mean(samples))\n",
    "print(np.std(samples))\n",
    "print((high-np.mean(samples))/1.96)\n",
    "# df2.groupby([\"archetype\",\"scenario_number\"]).agg({\"cost_IPTsc_overhead_low\": [\"mean\", \"std\"]}).reset_index()\n",
    "# df2.groupby([\"archetype\",\"scenario_number\"]).agg({\"cost_IPTsc_overhead_high\": [\"mean\", \"std\"]}).reset_index()\n",
    "\n",
    "month_iptsc_overhead_cost_per_1k = np.mean(samples)/5\n",
    "month_iptsc_overhead_cost_per_1k_std = np.std(samples)/5\n",
    "old_iptsc_overhead_cost_range = (high-np.mean(samples))/5\n",
    "print(month_iptsc_overhead_cost_per_1k_std/old_iptsc_overhead_cost_range)"
   ],
   "metadata": {
    "collapsed": false,
    "ExecuteTime": {
     "end_time": "2024-10-16T19:25:44.987881Z",
     "start_time": "2024-10-16T19:25:44.945885Z"
    }
   },
   "id": "f6fe5c3651a73f6c",
   "execution_count": 56
  },
  {
   "cell_type": "code",
   "outputs": [
    {
     "data": {
      "text/plain": "cost_IPTsc_overhead_high    7163.203435\ndtype: float64"
     },
     "execution_count": 50,
     "metadata": {},
     "output_type": "execute_result"
    }
   ],
   "source": [
    "df2[np.in1d(df2[\"scenario_number\"],[30,32])].agg({\"cost_IPTsc_overhead_high\": \"mean\"})"
   ],
   "metadata": {
    "collapsed": false,
    "ExecuteTime": {
     "end_time": "2024-10-16T19:11:49.121280Z",
     "start_time": "2024-10-16T19:11:49.091435Z"
    }
   },
   "id": "35d2ef6af57697f7",
   "execution_count": 50
  },
  {
   "cell_type": "code",
   "outputs": [
    {
     "name": "stdout",
     "output_type": "stream",
     "text": [
      "0.39261439416545674\n"
     ]
    }
   ],
   "source": [
    "# Sample to get cost range for overheads\n",
    "low = df2[np.in1d(df2[\"scenario_number\"],[30,32])].agg({\"cost_IPTsc_overhead_low\": \"mean\"}).values[0]\n",
    "high = df2[np.in1d(df2[\"scenario_number\"],[30,32])].agg({\"cost_IPTsc_overhead_high\": \"mean\"}).values[0]\n",
    "\n",
    "samples = sample_as_normal(low,high,10000)\n",
    "# print(np.mean(samples))\n",
    "# print(np.std(samples))\n",
    "# print((high-np.mean(samples))/1.96)\n",
    "# df2.groupby([\"archetype\",\"scenario_number\"]).agg({\"cost_IPTsc_overhead_low\": [\"mean\", \"std\"]}).reset_index()\n",
    "# df2.groupby([\"archetype\",\"scenario_number\"]).agg({\"cost_IPTsc_overhead_high\": [\"mean\", \"std\"]}).reset_index()\n",
    "\n",
    "u10_smc_overhead_cost_per_1k = np.mean(samples)/5\n",
    "u10_smc_overhead_cost_per_1k_std = np.std(samples)/5\n",
    "old_iptsc_overhead_cost_range = (high-np.mean(samples))/5\n",
    "print(u10_smc_overhead_cost_per_1k_std/old_iptsc_overhead_cost_range)"
   ],
   "metadata": {
    "collapsed": false,
    "ExecuteTime": {
     "end_time": "2024-10-16T19:30:02.013549Z",
     "start_time": "2024-10-16T19:30:01.995560Z"
    }
   },
   "id": "390dbf8a1a17af05",
   "execution_count": 62
  },
  {
   "cell_type": "code",
   "outputs": [
    {
     "name": "stdout",
     "output_type": "stream",
     "text": [
      "0.0\n",
      "7163.203435\n"
     ]
    },
    {
     "data": {
      "text/plain": "<matplotlib.lines.Line2D at 0x2414f827fd0>"
     },
     "execution_count": 61,
     "metadata": {},
     "output_type": "execute_result"
    },
    {
     "data": {
      "text/plain": "<Figure size 640x480 with 1 Axes>",
      "image/png": "[encoded data removed]"
     },
     "metadata": {},
     "output_type": "display_data"
    }
   ],
   "source": [
    "print(low)\n",
    "print(high)\n",
    "plt.hist(samples, bins=100)\n",
    "plt.axvline(np.mean(samples), color='r')\n",
    "plt.axvline(np.mean(samples)+np.std(samples), color='g')\n",
    "plt.axvline(np.mean(samples)-np.std(samples), color='g')\n",
    "plt.axvline(low, color='b')\n",
    "plt.axvline(high, color='b')"
   ],
   "metadata": {
    "collapsed": false,
    "ExecuteTime": {
     "end_time": "2024-10-16T19:29:12.774319Z",
     "start_time": "2024-10-16T19:29:12.308311Z"
    }
   },
   "id": "da29e63315ffff14",
   "execution_count": 61
  },
  {
   "cell_type": "code",
   "outputs": [
    {
     "name": "stdout",
     "output_type": "stream",
     "text": [
      "6492.494854509503\n",
      "2531.5048512114286\n",
      "3329.482928821683\n",
      "0.1944576841136432\n"
     ]
    }
   ],
   "source": [
    "# Sample to get cost range for overheads\n",
    "low = df2[np.in1d(df2[\"scenario_number\"],[31,33])].agg({\"cost_IPTsc_overhead_low\": \"mean\"}).values[0]\n",
    "high = df2[np.in1d(df2[\"scenario_number\"],[31,33])].agg({\"cost_IPTsc_overhead_high\": \"mean\"}).values[0]\n",
    "\n",
    "samples = sample_as_normal(low,high,10000)\n",
    "print(np.mean(samples))\n",
    "print(np.std(samples))\n",
    "print((high-np.mean(samples))/1.96)\n",
    "# df2.groupby([\"archetype\",\"scenario_number\"]).agg({\"cost_IPTsc_overhead_low\": [\"mean\", \"std\"]}).reset_index()\n",
    "# df2.groupby([\"archetype\",\"scenario_number\"]).agg({\"cost_IPTsc_overhead_high\": [\"mean\", \"std\"]}).reset_index()\n",
    "\n",
    "u15_smc_overhead_cost_per_1k = np.mean(samples)/5\n",
    "u15_smc_overhead_cost_per_1k_std = np.std(samples)/5\n",
    "old_iptsc_overhead_cost_range = (high-low)/5\n",
    "print(u15_smc_overhead_cost_per_1k_std/old_iptsc_overhead_cost_range)"
   ],
   "metadata": {
    "collapsed": false,
    "ExecuteTime": {
     "end_time": "2024-10-16T19:30:31.834224Z",
     "start_time": "2024-10-16T19:30:31.802229Z"
    }
   },
   "id": "90f3cca27a5a88d8",
   "execution_count": 63
  },
  {
   "cell_type": "code",
   "outputs": [
    {
     "name": "stdout",
     "output_type": "stream",
     "text": [
      "0.16351057644304168\n",
      "0.1635946545533326\n"
     ]
    }
   ],
   "source": [
    "u10_spaq_drug_cost = df2[np.in1d(df2[\"scenario_number\"],[30])].agg({\"cost_IPTsc_drugs\": \"mean\"}).values[0]\n",
    "u10_spaq_drug_cost_std = df2[np.in1d(df2[\"scenario_number\"],[30])].agg({\"cost_IPTsc_drugs\": \"std\"}).values[0]\n",
    "u10_spaq_drug_cost_per_1k = u10_spaq_drug_cost/5\n",
    "u10_spaq_drug_cost_per_1k_std = u10_spaq_drug_cost_std/5\n",
    "\n",
    "u10_dp_drug_cost = df2[np.in1d(df2[\"scenario_number\"],[32])].agg({\"cost_IPTsc_drugs\": \"mean\"}).values[0]\n",
    "u10_dp_drug_cost_std = df2[np.in1d(df2[\"scenario_number\"],[32])].agg({\"cost_IPTsc_drugs\": \"std\"}).values[0]\n",
    "u10_dp_drug_cost_per_1k = u10_dp_drug_cost/5\n",
    "u10_dp_drug_cost_per_1k_std = u10_dp_drug_cost_std/5\n",
    "\n",
    "print(u10_spaq_drug_cost_per_1k/u10_dp_drug_cost_per_1k)\n",
    "\n",
    "u15_spaq_drug_cost = df2[np.in1d(df2[\"scenario_number\"],[31])].agg({\"cost_IPTsc_drugs\": \"mean\"}).values[0]\n",
    "u15_spaq_drug_cost_std = df2[np.in1d(df2[\"scenario_number\"],[31])].agg({\"cost_IPTsc_drugs\": \"std\"}).values[0]\n",
    "u15_spaq_drug_cost_per_1k = u15_spaq_drug_cost/5\n",
    "u15_spaq_drug_cost_per_1k_std = u15_spaq_drug_cost_std/5\n",
    "\n",
    "u15_dp_drug_cost = df2[np.in1d(df2[\"scenario_number\"],[33])].agg({\"cost_IPTsc_drugs\": \"mean\"}).values[0]\n",
    "u15_dp_drug_cost_std = df2[np.in1d(df2[\"scenario_number\"],[33])].agg({\"cost_IPTsc_drugs\": \"std\"}).values[0]\n",
    "u15_dp_drug_cost_per_1k = u15_dp_drug_cost/5\n",
    "u15_dp_drug_cost_per_1k_std = u15_dp_drug_cost_std/5\n",
    "\n",
    "print(u15_spaq_drug_cost_per_1k/u15_dp_drug_cost_per_1k)"
   ],
   "metadata": {
    "collapsed": false,
    "ExecuteTime": {
     "end_time": "2024-10-16T19:11:28.594555Z",
     "start_time": "2024-10-16T19:11:28.553558Z"
    }
   },
   "id": "bd00b6f7dbab4e02",
   "execution_count": 45
  },
  {
   "cell_type": "code",
   "outputs": [
    {
     "name": "stdout",
     "output_type": "stream",
     "text": [
      "Following are cost per 1000\n",
      "Cost of ASAQ term - drugs: 248.7796 (stdev 6.733289600000001)\n",
      "Cost of ASAQ month - drugs: 904.1609000000001 (stdev 25.3531766)\n",
      "Cost of SPAQ term - drugs: 174.24421 (stdev 4.1063469)\n",
      "Cost of SPAQ month - drugs: 523.96127 (stdev 12.658835100000001)\n",
      "Cost of DP term - drugs: 1063.493972 (stdev 28.6881914)\n",
      "Cost of DP month - drugs: 3869.2111640000003 (stdev 109.3227423)\n",
      "Overhead cost of term school-based: 205.83618484399472 (stdev 62.22745374550997)\n",
      "Overhead cost of monthly school-based: 674.7033855450841 (stdev 240.80127451403433)\n",
      "Cost of SPAQ u10 - drugs: 115.78791000000001 (stdev 5.534551354834337)\n",
      "Cost of DP u10 - drugs: 708.1371280000001 (stdev 34.739797240978604)\n",
      "Cost of SPAQ u15 - drugs: 210.48502999999997 (stdev 6.01844711370141)\n",
      "Cost of DP u15 - drugs: 1286.625352 (stdev 36.4042527601673)\n",
      "Overhead cost of u10 SMC: 359.65704477386964 (stdev 140.031144950413)\n",
      "Overhead cost of u15 SMC: 649.2494854509503 (stdev 253.15048512114285)\n"
     ]
    }
   ],
   "source": [
    "print(\"Following are cost per 1000\")\n",
    "print(\"Cost of ASAQ term - drugs: {} (stdev {})\".format(2487.79600/10, 67.332896/10))\n",
    "print(\"Cost of ASAQ month - drugs: {} (stdev {})\".format(9041.60900/10, 253.531766/10))\n",
    "print(\"Cost of SPAQ term - drugs: {} (stdev {})\".format(1742.44210/10, 41.063469/10))\n",
    "print(\"Cost of SPAQ month - drugs: {} (stdev {})\".format(5239.61270/10, 126.588351/10))\n",
    "print(\"Cost of DP term - drugs: {} (stdev {})\".format(10634.93972/10, 286.881914/10))\n",
    "print(\"Cost of DP month - drugs: {} (stdev {})\".format(38692.11164/10, 1093.227423/10))\n",
    "print(\"Overhead cost of term school-based: {} (stdev {})\".format(term_iptsc_overhead_cost_per_1k/2, term_iptsc_overhead_cost_per_1k_std/2))\n",
    "print(\"Overhead cost of monthly school-based: {} (stdev {})\".format(month_iptsc_overhead_cost_per_1k/2, month_iptsc_overhead_cost_per_1k_std/2))\n",
    "\n",
    "\n",
    "print(\"Cost of SPAQ u10 - drugs: {} (stdev {})\".format(u10_spaq_drug_cost_per_1k/2, u10_spaq_drug_cost_per_1k_std/2))\n",
    "print(\"Cost of DP u10 - drugs: {} (stdev {})\".format(u10_dp_drug_cost_per_1k/2, u10_dp_drug_cost_per_1k_std/2))\n",
    "print(\"Cost of SPAQ u15 - drugs: {} (stdev {})\".format(u15_spaq_drug_cost_per_1k/2, u15_spaq_drug_cost_per_1k_std/2))\n",
    "print(\"Cost of DP u15 - drugs: {} (stdev {})\".format(u15_dp_drug_cost_per_1k/2, u15_dp_drug_cost_per_1k_std/2))\n",
    "\n",
    "print(\"Overhead cost of u10 SMC: {} (stdev {})\".format(u10_smc_overhead_cost_per_1k/2, u10_smc_overhead_cost_per_1k_std/2))\n",
    "print(\"Overhead cost of u15 SMC: {} (stdev {})\".format(u15_smc_overhead_cost_per_1k/2, u15_smc_overhead_cost_per_1k_std/2))\n",
    "\n"
   ],
   "metadata": {
    "collapsed": false,
    "ExecuteTime": {
     "end_time": "2024-10-16T19:30:42.023103Z",
     "start_time": "2024-10-16T19:30:41.986184Z"
    }
   },
   "id": "498c35972c9aa1df",
   "execution_count": 64
  },
  {
   "cell_type": "code",
   "outputs": [
    {
     "name": "stdout",
     "output_type": "stream",
     "text": [
      "143.60873109848475\n",
      "268.0636385895047\n",
      "433.90211103104974\n",
      "915.5046600591184\n",
      "219.62589982345665\n",
      "499.68818972428267\n",
      "396.0990003298074\n",
      "902.3999705720931\n"
     ]
    }
   ],
   "source": [
    "print(term_iptsc_overhead_cost_per_1k/2-term_iptsc_overhead_cost_per_1k_std/2)\n",
    "print(term_iptsc_overhead_cost_per_1k/2+term_iptsc_overhead_cost_per_1k_std/2)\n",
    "\n",
    "\n",
    "print(month_iptsc_overhead_cost_per_1k/2-month_iptsc_overhead_cost_per_1k_std/2)\n",
    "print(month_iptsc_overhead_cost_per_1k/2+month_iptsc_overhead_cost_per_1k_std/2)\n",
    "\n",
    "print(u10_smc_overhead_cost_per_1k/2-u10_smc_overhead_cost_per_1k_std/2)\n",
    "print(u10_smc_overhead_cost_per_1k/2+u10_smc_overhead_cost_per_1k_std/2)\n",
    "\n",
    "print(u15_smc_overhead_cost_per_1k/2-u15_smc_overhead_cost_per_1k_std/2)\n",
    "print(u15_smc_overhead_cost_per_1k/2+u15_smc_overhead_cost_per_1k_std/2)"
   ],
   "metadata": {
    "collapsed": false,
    "ExecuteTime": {
     "end_time": "2024-10-16T19:30:57.827720Z",
     "start_time": "2024-10-16T19:30:57.817720Z"
    }
   },
   "id": "dcfe782999559b70",
   "execution_count": 65
  },
  {
   "cell_type": "code",
   "outputs": [
    {
     "data": {
      "text/plain": "0.5723123954750057"
     },
     "execution_count": 66,
     "metadata": {},
     "output_type": "execute_result"
    }
   ],
   "source": [
    "term_iptsc_overhead_cost_per_1k/u10_smc_overhead_cost_per_1k"
   ],
   "metadata": {
    "collapsed": false,
    "ExecuteTime": {
     "end_time": "2024-10-16T19:37:52.275027Z",
     "start_time": "2024-10-16T19:37:52.115881Z"
    }
   },
   "id": "3e62e047c89ad073",
   "execution_count": 66
  },
  {
   "cell_type": "code",
   "outputs": [],
   "source": [],
   "metadata": {
    "collapsed": false,
    "ExecuteTime": {
     "end_time": "2024-10-16T19:11:28.703553Z",
     "start_time": "2024-10-16T19:11:28.693554Z"
    }
   },
   "id": "c8c021add92ce9f5",
   "execution_count": 48
  }
 ],
 "metadata": {
  "kernelspec": {
   "display_name": "Python 3",
   "language": "python",
   "name": "python3"
  },
  "language_info": {
   "codemirror_mode": {
    "name": "ipython",
    "version": 2
   },
   "file_extension": ".py",
   "mimetype": "text/x-python",
   "name": "python",
   "nbconvert_exporter": "python",
   "pygments_lexer": "ipython2",
   "version": "2.7.6"
  }
 },
 "nbformat": 4,
 "nbformat_minor": 5
}
